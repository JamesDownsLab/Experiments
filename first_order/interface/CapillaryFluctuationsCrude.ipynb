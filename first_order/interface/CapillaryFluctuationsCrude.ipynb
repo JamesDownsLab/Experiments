{
 "cells": [
  {
   "cell_type": "code",
   "execution_count": 2,
   "metadata": {},
   "outputs": [
    {
     "name": "stderr",
     "output_type": "stream",
     "text": [
      "/home/ppxjd3/.local/lib/python3.7/site-packages/tqdm/std.py:658: FutureWarning: The Panel class is removed from pandas. Accessing it from the top-level namespace will also be removed in the next version\n",
      "  from pandas import Panel\n"
     ]
    }
   ],
   "source": [
    "import os\n",
    "from math import pi\n",
    "\n",
    "import cv2\n",
    "import matplotlib.pyplot as plt\n",
    "import numpy as np\n",
    "from tqdm.notebook import tqdm\n",
    "from scipy import spatial\n",
    "\n",
    "from labvision import images, video\n",
    "import filehandling\n",
    "from particletracking import dataframes, statistics"
   ]
  },
  {
   "cell_type": "markdown",
   "metadata": {},
   "source": [
    "## Get some frames from one video"
   ]
  },
  {
   "cell_type": "code",
   "execution_count": 3,
   "metadata": {},
   "outputs": [],
   "source": [
    "main_directory = filehandling.open_directory()\n",
    "frame_directory = f\"{main_directory}/first_frames\""
   ]
  },
  {
   "cell_type": "code",
   "execution_count": 4,
   "metadata": {},
   "outputs": [],
   "source": [
    "def get_crop_and_mask(im):\n",
    "    if not os.path.isfile(f\"{main_directory}/crop.txt\"):\n",
    "        crop_result = images.crop_polygon(im)\n",
    "        crop = np.array(crop_result.bbox.to_tuple())\n",
    "        crop = images.BBox(crop[0, 0], crop[1, 0], crop[0, 1], crop[1, 1])\n",
    "        mask = np.array(crop_result.mask)\n",
    "        np.savetxt(f\"{main_directory}/crop.txt\", crop)\n",
    "        np.savetxt(f\"{main_directory}/mask.txt\", mask)\n",
    "    else:\n",
    "        crop = np.loadtxt(f\"{main_directory}/crop.txt\", dtype=np.uint16)\n",
    "        crop = images.BBox(crop[0, 0], crop[1, 0], crop[0, 1], crop[1, 1])\n",
    "        mask = np.loadtxt(f\"{main_directory}/mask.txt\", dtype=np.uint8)\n",
    "    return crop, mask"
   ]
  },
  {
   "cell_type": "code",
   "execution_count": 5,
   "metadata": {},
   "outputs": [],
   "source": [
    "def create_single_frames(main_directory, frame_directory):\n",
    "    if os.path.isdir(frame_directory):\n",
    "        print(\"Directory exists\")\n",
    "    else:\n",
    "        os.mkdir(frame_directory)\n",
    "\n",
    "    vid_files = filehandling.get_directory_filenames(f\"{main_directory}/*.MP4\")\n",
    "    frame_files = filehandling.get_directory_filenames(f\"{frame_directory}/*.png\")\n",
    "\n",
    "    if len(frame_files) < len(vid_files):\n",
    "        for vid_file in vid_files:\n",
    "            direc, vid_file = os.path.split(vid_file)\n",
    "            vid_name, _ = os.path.splitext(vid_file)\n",
    "            if os.path.isfile(f\"{frame_directory}/{vid_name}.png\"):\n",
    "                print(f\"{vid_name}.png already exists\")\n",
    "            else:\n",
    "                vid = video.ReadVideo(f\"{direc}/{vid_file}\")\n",
    "                frame = vid.read_next_frame()\n",
    "                crop, mask = get_crop_and_mask(frame)\n",
    "#                 print(crop.xmin, crop.xmax, crop.ymin, crop.ymax)\n",
    "                frame = images.crop_and_mask(frame, crop, mask)\n",
    "                images.save(frame, f\"{frame_directory}/{vid_name}.png\")"
   ]
  },
  {
   "cell_type": "code",
   "execution_count": 6,
   "metadata": {},
   "outputs": [
    {
     "name": "stdout",
     "output_type": "stream",
     "text": [
      "Directory exists\n"
     ]
    }
   ],
   "source": [
    "create_single_frames(main_directory, frame_directory)"
   ]
  },
  {
   "cell_type": "code",
   "execution_count": 7,
   "metadata": {},
   "outputs": [],
   "source": [
    "crop = np.loadtxt(f\"{main_directory}/crop.txt\", dtype=np.float32)\n",
    "crop = images.BBox(crop[0, 0], crop[1, 0], crop[0, 1], crop[1, 1])"
   ]
  },
  {
   "cell_type": "code",
   "execution_count": 8,
   "metadata": {},
   "outputs": [],
   "source": [
    "boundary = [[crop.xmin, crop.ymin], [crop.xmin, crop.ymax], [crop.xmax, crop.ymax], [crop.xmax, crop.ymin]]"
   ]
  },
  {
   "cell_type": "code",
   "execution_count": 151,
   "metadata": {},
   "outputs": [],
   "source": [
    "particles = data.df[['x', 'y']].values\n",
    "vor = spatial.Voronoi(particles)\n",
    "regions, vertices = vor.regions, vor.vertices\n",
    "polys = [vertices[r, :] for r in regions]"
   ]
  },
  {
   "cell_type": "code",
   "execution_count": 150,
   "metadata": {},
   "outputs": [
    {
     "data": {
      "text/plain": [
       "[<matplotlib.lines.Line2D at 0x7f8d55a959d0>]"
      ]
     },
     "execution_count": 150,
     "metadata": {},
     "output_type": "execute_result"
    }
   ],
   "source": [
    "plt.plot(polys[0][:, 0], polys[0][:,1])\n",
    "plt.plot(particles[0, 0], particles[0, 1], 'x')"
   ]
  },
  {
   "cell_type": "code",
   "execution_count": 145,
   "metadata": {},
   "outputs": [],
   "source": [
    "area = []\n",
    "for p, r in zip(polys, regions):\n",
    "    if -1 in r:\n",
    "        a = np.NaN\n",
    "    elif np.sum(p < 0) > 0:\n",
    "        a = np.NaN\n",
    "    elif np.sum(p > np.max(ims[0].shape)) > 0:\n",
    "        a = np.NaN\n",
    "    else:\n",
    "        a = cv2.contourArea(np.float32(p))\n",
    "    area.append(a)\n",
    "data.df['area'] = area"
   ]
  },
  {
   "cell_type": "code",
   "execution_count": 9,
   "metadata": {},
   "outputs": [],
   "source": [
    "def get_images(frame_directory):\n",
    "    image_files = filehandling.get_directory_filenames(f\"{frame_directory}/*.png\")\n",
    "    ims = [images.load(f) for f in image_files]\n",
    "    return ims\n",
    "ims = get_images(frame_directory)"
   ]
  },
  {
   "cell_type": "code",
   "execution_count": 10,
   "metadata": {},
   "outputs": [
    {
     "name": "stdout",
     "output_type": "stream",
     "text": [
      "Using matplotlib backend: Qt5Agg\n"
     ]
    }
   ],
   "source": [
    "%matplotlib auto\n",
    "def find_circles(ims):\n",
    "    gray = [images.bgr_to_gray(im.copy()) for im in ims]\n",
    "    circles = [images.find_circles(g, 51, 255, 4, 28, 28) \n",
    "               for g in gray]\n",
    "    return circles\n",
    "\n",
    "def create_data(dataname, ims, force_new=False):\n",
    "    if os.path.isfile(dataname):\n",
    "        data = dataframes.DataStore(dataname)\n",
    "    else:\n",
    "        data = dataframes.DataStore(dataname, load=False)\n",
    "        circles = find_circles(ims)\n",
    "        for f, info in tqdm(enumerate(circles), 'Adding Circles'):\n",
    "            data.add_tracking_data(f, info, ['x', 'y', 'r'])\n",
    "        data.metadata['boundary'] = boundary\n",
    "        calc = statistics.PropertyCalculator(data)\n",
    "        calc.order()\n",
    "        calc.density()\n",
    "        data.save()\n",
    "    return data\n",
    "\n",
    "data = create_data(f\"{frame_directory}/first_frame_data.hdf5\", ims)"
   ]
  },
  {
   "cell_type": "code",
   "execution_count": 27,
   "metadata": {},
   "outputs": [],
   "source": [
    "RADIUS = data.df.loc[0].r.mean()"
   ]
  },
  {
   "cell_type": "code",
   "execution_count": 29,
   "metadata": {},
   "outputs": [],
   "source": [
    "from matplotlib import cm"
   ]
  },
  {
   "cell_type": "code",
   "execution_count": 92,
   "metadata": {},
   "outputs": [],
   "source": [
    "c = np.array((255, 0, 255))\n",
    "im_annotated = ims[0].copy()\n",
    "viridis = cm.get_cmap('viridis')\n",
    "area = data.df.area.values\n",
    "amax = np.max(area)\n",
    "for x, y, r, o, a in zip(data.df.x, data.df.y, data.df.r, data.df.order, area):\n",
    "#     c = [ci * 255 for ci in viridis(o)]\n",
    "    c = [255, 0, 255] if a/amax > 0.1 else [0, 255, 0]\n",
    "    im_annotated = images.draw_circle(im_annotated, x, y, r, color=c, thickness=-1)"
   ]
  },
  {
   "cell_type": "code",
   "execution_count": 93,
   "metadata": {},
   "outputs": [
    {
     "data": {
      "text/plain": [
       "<matplotlib.image.AxesImage at 0x7f8d8488e5d0>"
      ]
     },
     "execution_count": 93,
     "metadata": {},
     "output_type": "execute_result"
    }
   ],
   "source": [
    "plt.imshow(im_annotated)"
   ]
  },
  {
   "cell_type": "code",
   "execution_count": 95,
   "metadata": {},
   "outputs": [],
   "source": [
    "_ = plt.hist2d(np.log(area/amax), data.df.order, bins=100)"
   ]
  },
  {
   "cell_type": "code",
   "execution_count": 98,
   "metadata": {},
   "outputs": [],
   "source": [
    "_ = plt.hist(np.log(area), bins=100)"
   ]
  },
  {
   "cell_type": "code",
   "execution_count": null,
   "metadata": {},
   "outputs": [],
   "source": []
  }
 ],
 "metadata": {
  "kernelspec": {
   "display_name": "Python 3",
   "language": "python",
   "name": "python3"
  },
  "language_info": {
   "codemirror_mode": {
    "name": "ipython",
    "version": 3
   },
   "file_extension": ".py",
   "mimetype": "text/x-python",
   "name": "python",
   "nbconvert_exporter": "python",
   "pygments_lexer": "ipython3",
   "version": "3.7.6"
  },
  "varInspector": {
   "cols": {
    "lenName": 16,
    "lenType": 16,
    "lenVar": 40
   },
   "kernels_config": {
    "python": {
     "delete_cmd_postfix": "",
     "delete_cmd_prefix": "del ",
     "library": "var_list.py",
     "varRefreshCmd": "print(var_dic_list())"
    },
    "r": {
     "delete_cmd_postfix": ") ",
     "delete_cmd_prefix": "rm(",
     "library": "var_list.r",
     "varRefreshCmd": "cat(var_dic_list()) "
    }
   },
   "types_to_exclude": [
    "module",
    "function",
    "builtin_function_or_method",
    "instance",
    "_Feature"
   ],
   "window_display": false
  }
 },
 "nbformat": 4,
 "nbformat_minor": 4
}
