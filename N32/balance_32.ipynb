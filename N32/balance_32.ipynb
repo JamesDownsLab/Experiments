{
 "cells": [
  {
   "cell_type": "code",
   "execution_count": 41,
   "metadata": {},
   "outputs": [],
   "source": [
    "from labvision import camera, images\n",
    "import numpy as np\n",
    "\n",
    "from labequipment import shaker\n",
    "import matplotlib.pyplot as plt"
   ]
  },
  {
   "cell_type": "code",
   "execution_count": 2,
   "metadata": {},
   "outputs": [],
   "source": [
    "cam = camera.Camera()"
   ]
  },
  {
   "cell_type": "code",
   "execution_count": 13,
   "metadata": {},
   "outputs": [
    {
     "name": "stdout",
     "output_type": "stream",
     "text": [
      "port opened\n",
      "port opened\n",
      "Serial control enabled.\n",
      "\n"
     ]
    }
   ],
   "source": [
    "my_shaker = shaker.Shaker()"
   ]
  },
  {
   "cell_type": "code",
   "execution_count": 4,
   "metadata": {},
   "outputs": [],
   "source": [
    "frame = cam.get_frame()"
   ]
  },
  {
   "cell_type": "code",
   "execution_count": 6,
   "metadata": {},
   "outputs": [],
   "source": [
    "images.display(frame)"
   ]
  },
  {
   "cell_type": "code",
   "execution_count": 7,
   "metadata": {},
   "outputs": [],
   "source": [
    "crop_result = images.crop_polygon(frame)"
   ]
  },
  {
   "cell_type": "code",
   "execution_count": 11,
   "metadata": {},
   "outputs": [],
   "source": [
    "hex_ = crop_result.points\n",
    "crop = crop_result.bbox\n",
    "mask = crop_result.mask\n",
    "center = np.mean(hex_, axis=0)"
   ]
  },
  {
   "cell_type": "code",
   "execution_count": 33,
   "metadata": {},
   "outputs": [],
   "source": [
    "frame = cam.get_frame()"
   ]
  },
  {
   "cell_type": "code",
   "execution_count": 34,
   "metadata": {},
   "outputs": [],
   "source": [
    "frame = images.crop_and_mask(frame, crop, mask, mask_color='white')\n",
    "frame = images.bgr_to_gray(frame)"
   ]
  },
  {
   "cell_type": "code",
   "execution_count": 35,
   "metadata": {},
   "outputs": [
    {
     "data": {
      "text/plain": [
       "<labvision.images.gui.CircleGui at 0x7f6339b456d0>"
      ]
     },
     "execution_count": 35,
     "metadata": {},
     "output_type": "execute_result"
    }
   ],
   "source": [
    "images.CircleGui(frame)"
   ]
  },
  {
   "cell_type": "code",
   "execution_count": 25,
   "metadata": {},
   "outputs": [],
   "source": [
    "frame = images.threshold(frame, 100)"
   ]
  },
  {
   "cell_type": "code",
   "execution_count": 27,
   "metadata": {},
   "outputs": [],
   "source": [
    "center = images.center_of_mass(frame)"
   ]
  },
  {
   "cell_type": "code",
   "execution_count": 28,
   "metadata": {},
   "outputs": [],
   "source": [
    "frame_annotated = images.draw_circle(images.gray_to_bgr(frame), center[0], center[1], 10)"
   ]
  },
  {
   "cell_type": "code",
   "execution_count": 29,
   "metadata": {},
   "outputs": [],
   "source": [
    "images.display(frame_annotated)"
   ]
  },
  {
   "cell_type": "code",
   "execution_count": 32,
   "metadata": {},
   "outputs": [
    {
     "data": {
      "text/plain": [
       "<labvision.images.gui.CircleGui at 0x7f6339d9dc90>"
      ]
     },
     "execution_count": 32,
     "metadata": {},
     "output_type": "execute_result"
    }
   ],
   "source": [
    "images.CircleGui(frame)"
   ]
  },
  {
   "cell_type": "code",
   "execution_count": 37,
   "metadata": {},
   "outputs": [],
   "source": [
    "circles = images.find_circles(frame, 11, 235, 3, 6, 7)"
   ]
  },
  {
   "cell_type": "code",
   "execution_count": 43,
   "metadata": {},
   "outputs": [],
   "source": [
    "colors = []\n",
    "for x, y, r in circles:\n",
    "    x, y, r = int(x), int(y), int(r)\n",
    "    circle = frame[y-r:y+r, x-r:x+r]\n",
    "    colors.append(np.mean(circle))"
   ]
  },
  {
   "cell_type": "code",
   "execution_count": 46,
   "metadata": {},
   "outputs": [
    {
     "data": {
      "text/plain": [
       "(array([ 1.,  0.,  1.,  2.,  2.,  5.,  4.,  3.,  7.,  8., 11.,  6.,  7.,\n",
       "        13., 15., 20., 16., 21., 25., 32., 31., 28., 34., 27., 39., 38.,\n",
       "        44., 43., 43., 36., 42., 47., 50., 33., 45., 36., 39., 50., 47.,\n",
       "        54., 42., 32., 46., 33., 36., 43., 23., 37., 29., 35., 29., 32.,\n",
       "        22., 27., 28., 32., 24., 18., 21., 19., 16., 16., 16., 17., 17.,\n",
       "         9., 18., 16., 10.,  7.,  9.,  5.,  8.,  7.,  6.,  4.,  4.,  7.,\n",
       "         6.,  5.,  3.,  7.,  8.,  1.,  4.,  5.,  2.,  1.,  4.,  5.,  4.,\n",
       "         3.,  3.,  5.,  2.,  4.,  2.,  3.,  4.,  2.,  4.,  1.,  2.,  2.,\n",
       "         2.,  2.,  3.,  6.,  1.,  2.,  6.,  4.,  0.,  4.,  5.,  2.,  5.,\n",
       "         1.,  1.,  1.,  3.,  2.,  2.,  2.,  4.,  3.,  3.,  2.,  3.,  2.,\n",
       "         3.,  2.,  1.,  7.,  3.,  1.,  2.,  1.,  3.,  1.,  3.,  1.,  2.,\n",
       "         3.,  6.,  1.,  2.,  3.,  8.,  2.,  2.,  1.,  5.,  1.,  3.,  3.,\n",
       "         4.,  3.,  1.,  2.,  5.,  5.,  4.,  6.,  2.,  4.,  2.,  4.,  0.,\n",
       "         2.,  3.,  4.,  7.,  4.,  1.,  4.,  8.,  1.,  5.,  4.,  2.,  2.,\n",
       "         5.,  2.,  3.,  3.,  3.,  4.,  4.,  7.,  6.,  6.,  5.,  3.,  7.,\n",
       "         7.,  4.,  2.,  5.,  4.,  4., 10.,  5.,  2.,  6.,  7.,  7.,  5.,\n",
       "         7.,  8.,  6.,  5.,  1.,  6.,  5.,  3., 12.,  7.,  7.,  6.,  7.,\n",
       "        10., 11.,  5.,  5.,  6., 10.,  5.,  4.,  3.,  4.,  5.,  2.,  4.,\n",
       "         9.,  7.,  4.,  3.,  1.,  3.,  5.,  6.,  4.,  6.,  2.,  5.,  1.,\n",
       "         4.,  2.,  1.,  3.,  1.,  0.,  0.,  3.]),\n",
       " array([ 38.63194444,  39.45776144,  40.28357843,  41.10939542,\n",
       "         41.93521242,  42.76102941,  43.58684641,  44.4126634 ,\n",
       "         45.23848039,  46.06429739,  46.89011438,  47.71593137,\n",
       "         48.54174837,  49.36756536,  50.19338235,  51.01919935,\n",
       "         51.84501634,  52.67083333,  53.49665033,  54.32246732,\n",
       "         55.14828431,  55.97410131,  56.7999183 ,  57.62573529,\n",
       "         58.45155229,  59.27736928,  60.10318627,  60.92900327,\n",
       "         61.75482026,  62.58063725,  63.40645425,  64.23227124,\n",
       "         65.05808824,  65.88390523,  66.70972222,  67.53553922,\n",
       "         68.36135621,  69.1871732 ,  70.0129902 ,  70.83880719,\n",
       "         71.66462418,  72.49044118,  73.31625817,  74.14207516,\n",
       "         74.96789216,  75.79370915,  76.61952614,  77.44534314,\n",
       "         78.27116013,  79.09697712,  79.92279412,  80.74861111,\n",
       "         81.5744281 ,  82.4002451 ,  83.22606209,  84.05187908,\n",
       "         84.87769608,  85.70351307,  86.52933007,  87.35514706,\n",
       "         88.18096405,  89.00678105,  89.83259804,  90.65841503,\n",
       "         91.48423203,  92.31004902,  93.13586601,  93.96168301,\n",
       "         94.7875    ,  95.61331699,  96.43913399,  97.26495098,\n",
       "         98.09076797,  98.91658497,  99.74240196, 100.56821895,\n",
       "        101.39403595, 102.21985294, 103.04566993, 103.87148693,\n",
       "        104.69730392, 105.52312092, 106.34893791, 107.1747549 ,\n",
       "        108.0005719 , 108.82638889, 109.65220588, 110.47802288,\n",
       "        111.30383987, 112.12965686, 112.95547386, 113.78129085,\n",
       "        114.60710784, 115.43292484, 116.25874183, 117.08455882,\n",
       "        117.91037582, 118.73619281, 119.5620098 , 120.3878268 ,\n",
       "        121.21364379, 122.03946078, 122.86527778, 123.69109477,\n",
       "        124.51691176, 125.34272876, 126.16854575, 126.99436275,\n",
       "        127.82017974, 128.64599673, 129.47181373, 130.29763072,\n",
       "        131.12344771, 131.94926471, 132.7750817 , 133.60089869,\n",
       "        134.42671569, 135.25253268, 136.07834967, 136.90416667,\n",
       "        137.72998366, 138.55580065, 139.38161765, 140.20743464,\n",
       "        141.03325163, 141.85906863, 142.68488562, 143.51070261,\n",
       "        144.33651961, 145.1623366 , 145.98815359, 146.81397059,\n",
       "        147.63978758, 148.46560458, 149.29142157, 150.11723856,\n",
       "        150.94305556, 151.76887255, 152.59468954, 153.42050654,\n",
       "        154.24632353, 155.07214052, 155.89795752, 156.72377451,\n",
       "        157.5495915 , 158.3754085 , 159.20122549, 160.02704248,\n",
       "        160.85285948, 161.67867647, 162.50449346, 163.33031046,\n",
       "        164.15612745, 164.98194444, 165.80776144, 166.63357843,\n",
       "        167.45939542, 168.28521242, 169.11102941, 169.93684641,\n",
       "        170.7626634 , 171.58848039, 172.41429739, 173.24011438,\n",
       "        174.06593137, 174.89174837, 175.71756536, 176.54338235,\n",
       "        177.36919935, 178.19501634, 179.02083333, 179.84665033,\n",
       "        180.67246732, 181.49828431, 182.32410131, 183.1499183 ,\n",
       "        183.97573529, 184.80155229, 185.62736928, 186.45318627,\n",
       "        187.27900327, 188.10482026, 188.93063725, 189.75645425,\n",
       "        190.58227124, 191.40808824, 192.23390523, 193.05972222,\n",
       "        193.88553922, 194.71135621, 195.5371732 , 196.3629902 ,\n",
       "        197.18880719, 198.01462418, 198.84044118, 199.66625817,\n",
       "        200.49207516, 201.31789216, 202.14370915, 202.96952614,\n",
       "        203.79534314, 204.62116013, 205.44697712, 206.27279412,\n",
       "        207.09861111, 207.9244281 , 208.7502451 , 209.57606209,\n",
       "        210.40187908, 211.22769608, 212.05351307, 212.87933007,\n",
       "        213.70514706, 214.53096405, 215.35678105, 216.18259804,\n",
       "        217.00841503, 217.83423203, 218.66004902, 219.48586601,\n",
       "        220.31168301, 221.1375    , 221.96331699, 222.78913399,\n",
       "        223.61495098, 224.44076797, 225.26658497, 226.09240196,\n",
       "        226.91821895, 227.74403595, 228.56985294, 229.39566993,\n",
       "        230.22148693, 231.04730392, 231.87312092, 232.69893791,\n",
       "        233.5247549 , 234.3505719 , 235.17638889, 236.00220588,\n",
       "        236.82802288, 237.65383987, 238.47965686, 239.30547386,\n",
       "        240.13129085, 240.95710784, 241.78292484, 242.60874183,\n",
       "        243.43455882, 244.26037582, 245.08619281, 245.9120098 ,\n",
       "        246.7378268 , 247.56364379, 248.38946078, 249.21527778]),\n",
       " <BarContainer object of 255 artists>)"
      ]
     },
     "execution_count": 46,
     "metadata": {},
     "output_type": "execute_result"
    },
    {
     "data": {
      "image/png": "[encoded data removed]",
      "text/plain": [
       "<Figure size 432x288 with 1 Axes>"
      ]
     },
     "metadata": {
      "needs_background": "light"
     },
     "output_type": "display_data"
    }
   ],
   "source": [
    "plt.hist(colors, bins=255)"
   ]
  },
  {
   "cell_type": "code",
   "execution_count": 50,
   "metadata": {},
   "outputs": [],
   "source": [
    "circles = circles[np.array(colors) <120, :]"
   ]
  },
  {
   "cell_type": "code",
   "execution_count": 52,
   "metadata": {},
   "outputs": [],
   "source": [
    "im_annotated = images.draw_circles(images.gray_to_bgr(frame), circles)"
   ]
  },
  {
   "cell_type": "code",
   "execution_count": 61,
   "metadata": {},
   "outputs": [],
   "source": [
    "images.display(im_annotated)"
   ]
  },
  {
   "cell_type": "code",
   "execution_count": 54,
   "metadata": {},
   "outputs": [],
   "source": [
    "circle_center = np.mean(circles, axis=0)"
   ]
  },
  {
   "cell_type": "code",
   "execution_count": 60,
   "metadata": {},
   "outputs": [],
   "source": [
    "im_annotated = images.draw_circle(im_annotated, circle_center[0], circle_center[1], 20, color=images.RED)"
   ]
  },
  {
   "cell_type": "code",
   "execution_count": null,
   "metadata": {},
   "outputs": [],
   "source": []
  }
 ],
 "metadata": {
  "kernelspec": {
   "display_name": "Python 3",
   "language": "python",
   "name": "python3"
  },
  "language_info": {
   "codemirror_mode": {
    "name": "ipython",
    "version": 3
   },
   "file_extension": ".py",
   "mimetype": "text/x-python",
   "name": "python",
   "nbconvert_exporter": "python",
   "pygments_lexer": "ipython3",
   "version": "3.7.9"
  }
 },
 "nbformat": 4,
 "nbformat_minor": 4
}
