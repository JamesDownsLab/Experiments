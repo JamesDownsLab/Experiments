{
 "cells": [
  {
   "cell_type": "code",
   "execution_count": 1,
   "metadata": {
    "collapsed": true,
    "pycharm": {
     "name": "#%%\n"
    }
   },
   "outputs": [],
   "source": [
    "import pandas as pd\n",
    "import matplotlib.pyplot as plt\n",
    "import numpy as np\n",
    "from scipy import spatial\n",
    "import freud\n"
   ]
  },
  {
   "cell_type": "code",
   "execution_count": 2,
   "outputs": [],
   "source": [
    "def get_order_product(df):\n",
    "    tri = spatial.Delaunay(df[['x', 'y']].values)\n",
    "    orders = df['hexatic_order'].values\n",
    "    list_indices, point_indices = tri.vertex_neighbor_vertices\n",
    "    order_product = [\n",
    "        np.prod(orders[point_indices[list_indices[i]:list_indices[i+1]]])\n",
    "        for i in range(len(orders))\n",
    "    ]\n",
    "    df['hexatic_order_product'] = order_product\n",
    "    return df\n"
   ],
   "metadata": {
    "collapsed": false,
    "pycharm": {
     "name": "#%%\n"
    }
   }
  },
  {
   "cell_type": "code",
   "execution_count": 22,
   "outputs": [],
   "source": [
    "def get_clusters(df, thresh, col):\n",
    "    order = df[col].values\n",
    "    above = np.abs(order) > thresh\n",
    "    points = df.loc[above, ['x', 'y']].copy()\n",
    "    points['z'] = 0\n",
    "    points = points.values\n",
    "    box = freud.box.Box(Lx=2*df.x.max(), Ly=2*df.y.max(), is2D=True)\n",
    "    cl = freud.cluster.Cluster()\n",
    "    cl.compute((box, points), neighbors={'r_max': 30})\n",
    "    df['cluster'] = -1\n",
    "    df.loc[above, 'cluster'] = cl.cluster_idx\n",
    "    return df"
   ],
   "metadata": {
    "collapsed": false,
    "pycharm": {
     "name": "#%%\n"
    }
   }
  },
  {
   "cell_type": "code",
   "execution_count": 4,
   "outputs": [],
   "source": [
    "def plot_clusters(df):\n",
    "    plt.figure()\n",
    "    df0 = df.loc[df.cluster != -1]\n",
    "    df1 = df.loc[df.cluster == -1]\n",
    "    plt.scatter(df0.x, df0.y, c=df0.cluster, cmap='tab20')\n",
    "    plt.scatter(df1.x, df1.y, c='k')"
   ],
   "metadata": {
    "collapsed": false,
    "pycharm": {
     "name": "#%%\n"
    }
   }
  },
  {
   "cell_type": "code",
   "execution_count": 5,
   "outputs": [],
   "source": [
    "def plot_order_prod(df):\n",
    "    plt.figure()\n",
    "    plt.scatter(df.x, df.y, c=np.abs(df.hexatic_order_product))\n"
   ],
   "metadata": {
    "collapsed": false,
    "pycharm": {
     "name": "#%%\n"
    }
   }
  },
  {
   "cell_type": "code",
   "execution_count": 18,
   "outputs": [],
   "source": [
    "def plot_order(df):\n",
    "    plt.figure()\n",
    "    plt.scatter(df.x, df.y, c=np.abs(df.hexatic_order))"
   ],
   "metadata": {
    "collapsed": false,
    "pycharm": {
     "name": "#%%\n"
    }
   }
  },
  {
   "cell_type": "code",
   "execution_count": 6,
   "outputs": [],
   "source": [
    "fname = \"/media/data/Data/BallBearing/SmallerSpacings/2,00mm.hdf5\"\n",
    "data = pd.read_hdf(fname)"
   ],
   "metadata": {
    "collapsed": false,
    "pycharm": {
     "name": "#%%\n"
    }
   }
  },
  {
   "cell_type": "code",
   "execution_count": 7,
   "outputs": [],
   "source": [
    "data = data.groupby('frame').apply(get_order_product)\n"
   ],
   "metadata": {
    "collapsed": false,
    "pycharm": {
     "name": "#%%\n"
    }
   }
  },
  {
   "cell_type": "code",
   "execution_count": 8,
   "outputs": [],
   "source": [
    "data = data.groupby('frame').apply(get_clusters, 0.2)"
   ],
   "metadata": {
    "collapsed": false,
    "pycharm": {
     "name": "#%%\n"
    }
   }
  },
  {
   "cell_type": "code",
   "execution_count": 9,
   "outputs": [
    {
     "name": "stdout",
     "output_type": "stream",
     "text": [
      "Using matplotlib backend: Qt5Agg\n"
     ]
    }
   ],
   "source": [
    "max_frame = data.index.max()\n",
    "%matplotlib auto\n",
    "plot_clusters(data.loc[max_frame])"
   ],
   "metadata": {
    "collapsed": false,
    "pycharm": {
     "name": "#%%\n"
    }
   }
  },
  {
   "cell_type": "code",
   "execution_count": null,
   "outputs": [],
   "source": [
    "plot_order_prod(data.loc[0])"
   ],
   "metadata": {
    "collapsed": false,
    "pycharm": {
     "name": "#%%\n"
    }
   }
  },
  {
   "cell_type": "code",
   "execution_count": 23,
   "outputs": [],
   "source": [
    "files = [\n",
    "    \"/media/data/Data/BallBearing/SmallerSpacings/2,00mm.hdf5\",\n",
    "    \"/media/data/Data/BallBearing/SmallerSpacings/1,97mm.hdf5\",\n",
    "    \"/media/data/Data/BallBearing/SmallerSpacings/1,95mm.hdf5\",\n",
    "    \"/media/data/Data/BallBearing/SmallerSpacings/1,93mm.hdf5\",\n",
    "    \"/media/data/Data/BallBearing/SmallerSpacings/1,90mm.hdf5\"\n",
    "]\n",
    "lengths = [2.0, 1.97, 1.95, 1.93, 1.90]\n",
    "\n",
    "for file, l in zip(files, lengths):\n",
    "    data = pd.read_hdf(file, 'df')\n",
    "    data = data.groupby('frame').apply(get_order_product)\n",
    "    data = data.groupby('frame').apply(get_clusters, 0.8, 'hexatic_order')\n",
    "    data.to_hdf(file, 'df')\n",
    "    max_frame = data.index.max()\n",
    "    plot_clusters(data.loc[max_frame])\n",
    "    plt.title(l)"
   ],
   "metadata": {
    "collapsed": false,
    "pycharm": {
     "name": "#%%\n"
    }
   }
  },
  {
   "cell_type": "code",
   "execution_count": null,
   "outputs": [],
   "source": [],
   "metadata": {
    "collapsed": false,
    "pycharm": {
     "name": "#%%\n"
    }
   }
  }
 ],
 "metadata": {
  "kernelspec": {
   "display_name": "Python 3",
   "language": "python",
   "name": "python3"
  },
  "language_info": {
   "codemirror_mode": {
    "name": "ipython",
    "version": 2
   },
   "file_extension": ".py",
   "mimetype": "text/x-python",
   "name": "python",
   "nbconvert_exporter": "python",
   "pygments_lexer": "ipython2",
   "version": "2.7.6"
  }
 },
 "nbformat": 4,
 "nbformat_minor": 0
}