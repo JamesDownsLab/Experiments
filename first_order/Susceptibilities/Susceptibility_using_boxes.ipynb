{
 "cells": [
  {
   "cell_type": "code",
   "execution_count": 1,
   "metadata": {},
   "outputs": [],
   "source": [
    "import numpy as np\n",
    "import matplotlib.pyplot as plt\n",
    "from scipy import spatial\n",
    "from particletracking import dataframes\n",
    "from tqdm import tqdm"
   ]
  },
  {
   "cell_type": "code",
   "execution_count": 2,
   "metadata": {},
   "outputs": [],
   "source": [
    "%matplotlib inline"
   ]
  },
  {
   "cell_type": "markdown",
   "metadata": {},
   "source": [
    "### Load the datasets"
   ]
  },
  {
   "cell_type": "code",
   "execution_count": 158,
   "metadata": {},
   "outputs": [],
   "source": [
    "data_flat = dataframes.DataStore(\"/media/data/Data/FirstOrder/Susceptibility/Flat2/17510001.hdf5\")\n",
    "flat_points = data_flat.df.loc[0].copy()\n",
    "\n",
    "data_dimpled = dataframes.DataStore(\"/media/data/Data/FirstOrder/Susceptibility/Dimpled2/17490001.hdf5\") \n",
    "dimpled_points = data_dimpled.df.loc[0].copy()"
   ]
  },
  {
   "cell_type": "markdown",
   "metadata": {},
   "source": [
    "### Get all the vectors between the points"
   ]
  },
  {
   "cell_type": "code",
   "execution_count": 4,
   "metadata": {},
   "outputs": [],
   "source": [
    "def get_delaunay_vectors(points):\n",
    "    tri = spatial.Delaunay(points[['x', 'y']])\n",
    "    triangles = tri.points[tri.simplices]\n",
    "    vecs = np.array([t - t[[2, 0, 1], :] for t in triangles])\n",
    "    vecs = vecs.reshape((-1, 2))\n",
    "    return vecs"
   ]
  },
  {
   "cell_type": "code",
   "execution_count": 5,
   "metadata": {},
   "outputs": [],
   "source": [
    "flat_vecs = get_delaunay_vectors(flat_points)\n",
    "dimpled_vecs = get_delaunay_vectors(dimpled_points)"
   ]
  },
  {
   "cell_type": "markdown",
   "metadata": {},
   "source": [
    "### Get all the angles of the vectors"
   ]
  },
  {
   "cell_type": "code",
   "execution_count": 6,
   "metadata": {},
   "outputs": [],
   "source": [
    "def get_delaunay_angles(vecs):\n",
    "    return np.arctan(vecs[:, 1]/vecs[:, 0])"
   ]
  },
  {
   "cell_type": "code",
   "execution_count": 7,
   "metadata": {},
   "outputs": [
    {
     "name": "stderr",
     "output_type": "stream",
     "text": [
      "/home/ppxjd3/.local/lib/python3.7/site-packages/ipykernel_launcher.py:2: RuntimeWarning: divide by zero encountered in true_divide\n",
      "  \n"
     ]
    }
   ],
   "source": [
    "flat_angles = get_delaunay_angles(flat_vecs)\n",
    "dimpled_angles = get_delaunay_angles(dimpled_vecs)"
   ]
  },
  {
   "cell_type": "markdown",
   "metadata": {},
   "source": [
    "### Calculate the correct angle"
   ]
  },
  {
   "cell_type": "code",
   "execution_count": 8,
   "metadata": {},
   "outputs": [
    {
     "data": {
      "text/plain": [
       "<matplotlib.lines.Line2D at 0x7f30668f2b50>"
      ]
     },
     "execution_count": 8,
     "metadata": {},
     "output_type": "execute_result"
    },
    {
     "data": {
      "image/png": "[encoded data removed]",
      "text/plain": [
       "<Figure size 432x288 with 1 Axes>"
      ]
     },
     "metadata": {
      "needs_background": "light"
     },
     "output_type": "display_data"
    }
   ],
   "source": [
    "_, _, _ = plt.hist(flat_angles, bins=np.linspace(-np.pi, np.pi, 100))\n",
    "_, _, _ = plt.hist(dimpled_angles, bins=np.linspace(-np.pi, np.pi, 100))\n",
    "plt.axvline(np.median(dimpled_angles[(dimpled_angles>0)&(dimpled_angles<np.pi/3)]))"
   ]
  },
  {
   "cell_type": "code",
   "execution_count": 9,
   "metadata": {},
   "outputs": [],
   "source": [
    "def get_delaunay_angle(angles, flat=False):\n",
    "    if flat:\n",
    "        angles = angles[[(angles>-np.pi/4)&(angles<np.pi/4)]]\n",
    "    else:\n",
    "        angles = angles[[(angles>0)&(angles<np.pi/3)]]\n",
    "    return np.median(angles)*180 / np.pi"
   ]
  },
  {
   "cell_type": "code",
   "execution_count": 10,
   "metadata": {},
   "outputs": [
    {
     "name": "stderr",
     "output_type": "stream",
     "text": [
      "/home/ppxjd3/.local/lib/python3.7/site-packages/ipykernel_launcher.py:3: FutureWarning: Using a non-tuple sequence for multidimensional indexing is deprecated; use `arr[tuple(seq)]` instead of `arr[seq]`. In the future this will be interpreted as an array index, `arr[np.array(seq)]`, which will result either in an error or a different result.\n",
      "  This is separate from the ipykernel package so we can avoid doing imports until\n",
      "/home/ppxjd3/.local/lib/python3.7/site-packages/ipykernel_launcher.py:5: FutureWarning: Using a non-tuple sequence for multidimensional indexing is deprecated; use `arr[tuple(seq)]` instead of `arr[seq]`. In the future this will be interpreted as an array index, `arr[np.array(seq)]`, which will result either in an error or a different result.\n",
      "  \"\"\"\n"
     ]
    },
    {
     "data": {
      "text/plain": [
       "(1.3019526725788753, 30.96375653207352)"
      ]
     },
     "execution_count": 10,
     "metadata": {},
     "output_type": "execute_result"
    }
   ],
   "source": [
    "flat_angle = get_delaunay_angle(flat_angles, True)\n",
    "dimpled_angle = get_delaunay_angle(dimpled_angles, False)\n",
    "flat_angle, dimpled_angle"
   ]
  },
  {
   "cell_type": "markdown",
   "metadata": {},
   "source": [
    "### Calculate the correct length"
   ]
  },
  {
   "cell_type": "code",
   "execution_count": 11,
   "metadata": {},
   "outputs": [],
   "source": [
    "def get_delaunay_lengths(vecs):\n",
    "    lengths = np.linalg.norm(vecs, axis=1)\n",
    "    return lengths"
   ]
  },
  {
   "cell_type": "code",
   "execution_count": 12,
   "metadata": {},
   "outputs": [],
   "source": [
    "flat_lengths = get_delaunay_lengths(flat_vecs)\n",
    "dimpled_lengths = get_delaunay_lengths(dimpled_vecs)"
   ]
  },
  {
   "cell_type": "code",
   "execution_count": 13,
   "metadata": {},
   "outputs": [],
   "source": [
    "def get_delaunay_length(lengths):\n",
    "    return np.median(lengths)"
   ]
  },
  {
   "cell_type": "code",
   "execution_count": 14,
   "metadata": {},
   "outputs": [],
   "source": [
    "flat_length = get_delaunay_length(flat_lengths)\n",
    "dimpled_length = get_delaunay_length(dimpled_lengths)"
   ]
  },
  {
   "cell_type": "markdown",
   "metadata": {},
   "source": [
    "### Calculate G"
   ]
  },
  {
   "cell_type": "code",
   "execution_count": 15,
   "metadata": {},
   "outputs": [],
   "source": [
    "def get_G(length, angle):\n",
    "    \"\"\"Get G from the lengthscale of the lattice and the angle in degrees\"\"\"\n",
    "    a = (angle+90) * np.pi/180 \n",
    "    cosa = np.cos(a)\n",
    "    sina = np.sin(a)\n",
    "    l = 4*np.pi / (length * np.sqrt(3))\n",
    "    return np.array((cosa, sina))*l"
   ]
  },
  {
   "cell_type": "code",
   "execution_count": 16,
   "metadata": {},
   "outputs": [],
   "source": [
    "flat_G = get_G(flat_length, flat_angle)\n",
    "dimpled_G = get_G(dimpled_length, dimpled_angle)"
   ]
  },
  {
   "cell_type": "markdown",
   "metadata": {},
   "source": [
    "### Calculate translational order"
   ]
  },
  {
   "cell_type": "code",
   "execution_count": 17,
   "metadata": {},
   "outputs": [],
   "source": [
    "def add_torder(data, G):\n",
    "    data['torder'] = np.exp(1j* data[['x', 'y']].values@G)\n",
    "    return data"
   ]
  },
  {
   "cell_type": "code",
   "execution_count": 18,
   "metadata": {},
   "outputs": [],
   "source": [
    "flat_points = add_torder(flat_points, flat_G)"
   ]
  },
  {
   "cell_type": "code",
   "execution_count": 19,
   "metadata": {},
   "outputs": [],
   "source": [
    "dimpled_points = add_torder(dimpled_points, dimpled_G)"
   ]
  },
  {
   "cell_type": "markdown",
   "metadata": {},
   "source": [
    "### Calculate for all frames"
   ]
  },
  {
   "cell_type": "code",
   "execution_count": 159,
   "metadata": {},
   "outputs": [],
   "source": [
    "data_dimpled.df = add_torder(data_dimpled.df, dimpled_G)"
   ]
  },
  {
   "cell_type": "code",
   "execution_count": 98,
   "metadata": {},
   "outputs": [],
   "source": [
    "def add_complex_order(d):\n",
    "    d['order_complex_long'] = d.order_r_long+1j*d.order_i_long\n",
    "    return d"
   ]
  },
  {
   "cell_type": "code",
   "execution_count": 99,
   "metadata": {},
   "outputs": [],
   "source": [
    "data_dimpled.df = add_complex_order(data_dimpled.df)"
   ]
  },
  {
   "cell_type": "code",
   "execution_count": 21,
   "metadata": {},
   "outputs": [],
   "source": [
    "data_flat.df = add_torder(data_flat.df, flat_G)"
   ]
  },
  {
   "cell_type": "markdown",
   "metadata": {},
   "source": [
    "### Plot torder"
   ]
  },
  {
   "cell_type": "code",
   "execution_count": 171,
   "metadata": {},
   "outputs": [],
   "source": [
    "def quiver_torder(data):\n",
    "    torder = data.torder.values\n",
    "    plt.quiver(data.x, data.y, torder.real, torder.imag, np.angle(torder), pivot='mid', cmap='hsv')\n",
    "    plt.clim([-np.pi, np.pi])\n",
    "    plt.colorbar()"
   ]
  },
  {
   "cell_type": "code",
   "execution_count": 173,
   "metadata": {},
   "outputs": [],
   "source": [
    "quiver_torder(flat_points)"
   ]
  },
  {
   "cell_type": "markdown",
   "metadata": {},
   "source": [
    "### Calculate the susceptibility"
   ]
  },
  {
   "cell_type": "code",
   "execution_count": 25,
   "metadata": {},
   "outputs": [
    {
     "name": "stdout",
     "output_type": "stream",
     "text": [
      "Using matplotlib backend: Qt5Agg\n"
     ]
    },
    {
     "data": {
      "text/plain": [
       "[<matplotlib.lines.Line2D at 0x7f305b10d810>]"
      ]
     },
     "execution_count": 25,
     "metadata": {},
     "output_type": "execute_result"
    }
   ],
   "source": [
    "%matplotlib auto\n",
    "plt.plot(flat_points.x, flat_points.y)"
   ]
  },
  {
   "cell_type": "markdown",
   "metadata": {},
   "source": [
    "### Make subboxes"
   ]
  },
  {
   "cell_type": "code",
   "execution_count": 30,
   "metadata": {},
   "outputs": [],
   "source": [
    "xmin = 500\n",
    "xmax = 1700\n",
    "ymin = 500\n",
    "ymax = 1700\n",
    "dx = xmax-xmin\n",
    "dy = ymax-ymin"
   ]
  },
  {
   "cell_type": "code",
   "execution_count": 49,
   "metadata": {},
   "outputs": [],
   "source": [
    "def generate_subboxes(n):\n",
    "    boxes = [[xmin+b*dx//(n), xmin+(b+1)*dx//(n), ymin+b*dy//(n), ymin+(b+1)*dy//(n)] for b in range(n)]\n",
    "    return boxes"
   ]
  },
  {
   "cell_type": "code",
   "execution_count": 147,
   "metadata": {},
   "outputs": [],
   "source": [
    "def mean_frame_values(pts, param):\n",
    "    vals = pts[param].values\n",
    "    return np.mean(vals)"
   ]
  },
  {
   "cell_type": "code",
   "execution_count": 161,
   "metadata": {},
   "outputs": [],
   "source": [
    "def sus_of_dataframe(data, param, box):\n",
    "    xmin, xmax, ymin, ymax = box\n",
    "    d = data.df.loc[(data.df.x>xmin)&(data.df.x<xmax)&(data.df.y>ymin)&(data.df.y<ymax)]\n",
    "    means = d.groupby('frame').apply(mean_frame_values, param)\n",
    "    sus = np.mean(means * np.conj(means)) - np.mean(means)*np.conj(np.mean(means))\n",
    "    return sus.real"
   ]
  },
  {
   "cell_type": "code",
   "execution_count": 183,
   "metadata": {},
   "outputs": [],
   "source": [
    "def get_sus(data, param, n):\n",
    "    sus = []\n",
    "    ns = []\n",
    "    for ni in range(1, n+1):\n",
    "        subboxes = generate_subboxes(ni)\n",
    "        sus_n = [sus_of_dataframe(data, param, s) for s in subboxes]\n",
    "        sus.append(np.mean(sus_n))\n",
    "        ns.append(ni)\n",
    "    ns = np.array(ns)\n",
    "    sus = np.array(sus)\n",
    "    plt.plot(ns, sus)\n",
    "    fit, cov = np.polyfit(ns, sus, 2, cov=True)\n",
    "    err = np.sqrt(np.diag(v))\n",
    "    return fit[2], err[2]"
   ]
  },
  {
   "cell_type": "code",
   "execution_count": 184,
   "metadata": {},
   "outputs": [
    {
     "name": "stdout",
     "output_type": "stream",
     "text": [
      "CPU times: user 2.79 s, sys: 11.3 ms, total: 2.81 s\n",
      "Wall time: 1.99 s\n"
     ]
    },
    {
     "data": {
      "text/plain": [
       "(-0.021377945163984224, 0.00023414969735081914)"
      ]
     },
     "execution_count": 184,
     "metadata": {},
     "output_type": "execute_result"
    }
   ],
   "source": [
    "%%time\n",
    "get_sus(data_flat, 'torder', 6)"
   ]
  },
  {
   "cell_type": "markdown",
   "metadata": {},
   "source": [
    "### Calculate the susceptibility for all dataframes to plot the graph"
   ]
  },
  {
   "cell_type": "code",
   "execution_count": 127,
   "metadata": {},
   "outputs": [],
   "source": [
    "def duty(data):\n",
    "    return int(data.df.Duty.mean())"
   ]
  },
  {
   "cell_type": "code",
   "execution_count": 128,
   "metadata": {},
   "outputs": [],
   "source": [
    "import filehandling"
   ]
  },
  {
   "cell_type": "code",
   "execution_count": 129,
   "metadata": {},
   "outputs": [],
   "source": [
    "flat_files = filehandling.get_directory_filenames(\"/media/data/Data/FirstOrder/Susceptibility/Flat2/*.hdf5\")"
   ]
  },
  {
   "cell_type": "code",
   "execution_count": 130,
   "metadata": {},
   "outputs": [],
   "source": [
    "dimpled_files = filehandling.get_directory_filenames(\"/media/data/Data/FirstOrder/Susceptibility/Dimpled2/*.hdf5\")"
   ]
  },
  {
   "cell_type": "code",
   "execution_count": 167,
   "metadata": {},
   "outputs": [],
   "source": [
    "def process_file(f, G):\n",
    "    data = dataframes.DataStore(f)\n",
    "    data.df = add_torder(data.df, G)\n",
    "    data.save()\n",
    "    d = duty(data)\n",
    "    sus, sus_err = get_sus(data, 'torder', 6)\n",
    "    return d, sus, sus_err"
   ]
  },
  {
   "cell_type": "code",
   "execution_count": 176,
   "metadata": {},
   "outputs": [
    {
     "name": "stderr",
     "output_type": "stream",
     "text": [
      "100%|██████████| 100/100 [07:22<00:00,  4.42s/it]\n"
     ]
    }
   ],
   "source": [
    "flat_duties = []\n",
    "flat_sus = []\n",
    "flat_sus_err = []\n",
    "for f in tqdm(flat_files):\n",
    "    d, sus, sus_err = process_file(f, flat_G)\n",
    "    flat_duties.append(d)\n",
    "    flat_sus.append(sus)"
   ]
  },
  {
   "cell_type": "code",
   "execution_count": 139,
   "metadata": {},
   "outputs": [],
   "source": [
    "flat_sus_value, flat_sus_error = zip(*flat_sus)"
   ]
  },
  {
   "cell_type": "code",
   "execution_count": 181,
   "metadata": {},
   "outputs": [
    {
     "data": {
      "text/plain": [
       "<ErrorbarContainer object of 3 artists>"
      ]
     },
     "execution_count": 181,
     "metadata": {},
     "output_type": "execute_result"
    }
   ],
   "source": [
    "plt.errorbar(flat_duties, flat_sus, yerr=flat_sus_error)"
   ]
  },
  {
   "cell_type": "code",
   "execution_count": null,
   "metadata": {},
   "outputs": [],
   "source": []
  }
 ],
 "metadata": {
  "kernelspec": {
   "display_name": "Python 3",
   "language": "python",
   "name": "python3"
  },
  "language_info": {
   "codemirror_mode": {
    "name": "ipython",
    "version": 3
   },
   "file_extension": ".py",
   "mimetype": "text/x-python",
   "name": "python",
   "nbconvert_exporter": "python",
   "pygments_lexer": "ipython3",
   "version": "3.7.9"
  }
 },
 "nbformat": 4,
 "nbformat_minor": 1
}