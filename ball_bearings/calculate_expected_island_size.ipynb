{
 "cells": [
  {
   "cell_type": "code",
   "execution_count": 1,
   "outputs": [
    {
     "name": "stdout",
     "output_type": "stream",
     "text": [
      "Using matplotlib backend: Qt5Agg\n"
     ]
    }
   ],
   "source": [
    "import numpy as np\n",
    "import matplotlib.pyplot as plt\n",
    "%matplotlib auto"
   ],
   "metadata": {
    "collapsed": false
   }
  },
  {
   "cell_type": "code",
   "execution_count": 41,
   "outputs": [],
   "source": [
    "r = 0.58\n",
    "dr = 0.03"
   ],
   "metadata": {
    "collapsed": false
   }
  },
  {
   "cell_type": "code",
   "execution_count": 42,
   "outputs": [],
   "source": [
    "Ls = np.arange(1.85, 1.96, 0.001)\n",
    "dL = 0.01\n",
    "D = 2.00"
   ],
   "metadata": {
    "collapsed": false
   }
  },
  {
   "cell_type": "code",
   "execution_count": 55,
   "outputs": [],
   "source": [
    "Nmaxs = []\n",
    "Nmins = []\n",
    "Ns = []\n",
    "for L in Ls:\n",
    "    N = (D - L + r) / (D - L)\n",
    "    Ns.append(N)\n",
    "    rs = 0.55, 0.58\n",
    "    Li = L-0.01, L + 0.01\n",
    "    Nrange = []\n",
    "    for r_j in rs:\n",
    "        for L_j in Li:\n",
    "            N = (D - L_j + r_j) / (D - L_j)\n",
    "            # print(N)\n",
    "            Nrange.append(N)\n",
    "    # print(Nrange)\n",
    "    Nmaxs.append(max(Nrange))\n",
    "    Nmins.append(min(Nrange))"
   ],
   "metadata": {
    "collapsed": false
   }
  },
  {
   "cell_type": "code",
   "execution_count": 58,
   "outputs": [
    {
     "data": {
      "text/plain": "<matplotlib.collections.PolyCollection at 0x7f588c6b92e0>"
     },
     "execution_count": 58,
     "metadata": {},
     "output_type": "execute_result"
    }
   ],
   "source": [
    "plt.figure()\n",
    "plt.plot(Ls, Ns)\n",
    "plt.fill_between(Ls, Nmins, Nmaxs, alpha=0.5)\n",
    "# plt.plot(Ls, Nmaxs)\n",
    "# plt.plot(Ls, Nmins)"
   ],
   "metadata": {
    "collapsed": false
   }
  },
  {
   "cell_type": "code",
   "execution_count": 37,
   "outputs": [
    {
     "data": {
      "text/plain": "<matplotlib.legend.Legend at 0x7f588eb08190>"
     },
     "execution_count": 37,
     "metadata": {},
     "output_type": "execute_result"
    }
   ],
   "source": [
    "plt.figure()\n",
    "plt.plot(L, dN_L, label='L')\n",
    "plt.plot(L, dN_r, label='r')\n",
    "plt.legend()\n",
    "plt.xlabel()"
   ],
   "metadata": {
    "collapsed": false
   }
  },
  {
   "cell_type": "code",
   "execution_count": null,
   "outputs": [],
   "source": [],
   "metadata": {
    "collapsed": false
   }
  }
 ],
 "metadata": {
  "kernelspec": {
   "display_name": "Python 3",
   "language": "python",
   "name": "python3"
  },
  "language_info": {
   "codemirror_mode": {
    "name": "ipython",
    "version": 2
   },
   "file_extension": ".py",
   "mimetype": "text/x-python",
   "name": "python",
   "nbconvert_exporter": "python",
   "pygments_lexer": "ipython2",
   "version": "2.7.6"
  }
 },
 "nbformat": 4,
 "nbformat_minor": 0
}
