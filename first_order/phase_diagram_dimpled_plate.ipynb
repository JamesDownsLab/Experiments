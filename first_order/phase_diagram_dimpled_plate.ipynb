{
 "cells": [
  {
   "cell_type": "code",
   "execution_count": 15,
   "metadata": {},
   "outputs": [],
   "source": [
    "from particletracking import dataframes\n",
    "import filehandling\n",
    "from particletracking import statistics\n",
    "import matplotlib.pyplot as plt"
   ]
  },
  {
   "cell_type": "code",
   "execution_count": 2,
   "metadata": {},
   "outputs": [],
   "source": [
    "folder = \"/media/data/Data/FirstOrder/PhaseDiagram/2020Setup\""
   ]
  },
  {
   "cell_type": "code",
   "execution_count": 4,
   "metadata": {},
   "outputs": [],
   "source": [
    "files = filehandling.get_directory_filenames(f\"{folder}/*.hdf5\")"
   ]
  },
  {
   "cell_type": "code",
   "execution_count": 5,
   "metadata": {},
   "outputs": [
    {
     "data": {
      "text/plain": [
       "['/media/data/Data/FirstOrder/PhaseDiagram/2020Setup/1700_550.hdf5',\n",
       " '/media/data/Data/FirstOrder/PhaseDiagram/2020Setup/1700_575.hdf5',\n",
       " '/media/data/Data/FirstOrder/PhaseDiagram/2020Setup/1700_600.hdf5',\n",
       " '/media/data/Data/FirstOrder/PhaseDiagram/2020Setup/1700_625.hdf5',\n",
       " '/media/data/Data/FirstOrder/PhaseDiagram/2020Setup/1700_650.hdf5',\n",
       " '/media/data/Data/FirstOrder/PhaseDiagram/2020Setup/1700_675.hdf5',\n",
       " '/media/data/Data/FirstOrder/PhaseDiagram/2020Setup/1700_700.hdf5',\n",
       " '/media/data/Data/FirstOrder/PhaseDiagram/2020Setup/1700_725.hdf5',\n",
       " '/media/data/Data/FirstOrder/PhaseDiagram/2020Setup/1700_750.hdf5',\n",
       " '/media/data/Data/FirstOrder/PhaseDiagram/2020Setup/1750_550.hdf5',\n",
       " '/media/data/Data/FirstOrder/PhaseDiagram/2020Setup/1750_575.hdf5',\n",
       " '/media/data/Data/FirstOrder/PhaseDiagram/2020Setup/1750_600.hdf5',\n",
       " '/media/data/Data/FirstOrder/PhaseDiagram/2020Setup/1750_625.hdf5',\n",
       " '/media/data/Data/FirstOrder/PhaseDiagram/2020Setup/1750_650.hdf5',\n",
       " '/media/data/Data/FirstOrder/PhaseDiagram/2020Setup/1750_675.hdf5',\n",
       " '/media/data/Data/FirstOrder/PhaseDiagram/2020Setup/1750_700.hdf5',\n",
       " '/media/data/Data/FirstOrder/PhaseDiagram/2020Setup/1750_725.hdf5',\n",
       " '/media/data/Data/FirstOrder/PhaseDiagram/2020Setup/1750_750.hdf5',\n",
       " '/media/data/Data/FirstOrder/PhaseDiagram/2020Setup/1800_550.hdf5',\n",
       " '/media/data/Data/FirstOrder/PhaseDiagram/2020Setup/1800_575.hdf5',\n",
       " '/media/data/Data/FirstOrder/PhaseDiagram/2020Setup/1800_600.hdf5',\n",
       " '/media/data/Data/FirstOrder/PhaseDiagram/2020Setup/1800_625.hdf5',\n",
       " '/media/data/Data/FirstOrder/PhaseDiagram/2020Setup/1800_650.hdf5',\n",
       " '/media/data/Data/FirstOrder/PhaseDiagram/2020Setup/1800_675.hdf5',\n",
       " '/media/data/Data/FirstOrder/PhaseDiagram/2020Setup/1800_700.hdf5',\n",
       " '/media/data/Data/FirstOrder/PhaseDiagram/2020Setup/1800_725.hdf5',\n",
       " '/media/data/Data/FirstOrder/PhaseDiagram/2020Setup/1800_750.hdf5',\n",
       " '/media/data/Data/FirstOrder/PhaseDiagram/2020Setup/1850_550.hdf5',\n",
       " '/media/data/Data/FirstOrder/PhaseDiagram/2020Setup/1850_575.hdf5',\n",
       " '/media/data/Data/FirstOrder/PhaseDiagram/2020Setup/1850_600.hdf5',\n",
       " '/media/data/Data/FirstOrder/PhaseDiagram/2020Setup/1850_625.hdf5',\n",
       " '/media/data/Data/FirstOrder/PhaseDiagram/2020Setup/1850_650.hdf5',\n",
       " '/media/data/Data/FirstOrder/PhaseDiagram/2020Setup/1850_675.hdf5',\n",
       " '/media/data/Data/FirstOrder/PhaseDiagram/2020Setup/1850_700.hdf5',\n",
       " '/media/data/Data/FirstOrder/PhaseDiagram/2020Setup/1850_725.hdf5',\n",
       " '/media/data/Data/FirstOrder/PhaseDiagram/2020Setup/1850_750.hdf5',\n",
       " '/media/data/Data/FirstOrder/PhaseDiagram/2020Setup/1900_550.hdf5',\n",
       " '/media/data/Data/FirstOrder/PhaseDiagram/2020Setup/1900_575.hdf5',\n",
       " '/media/data/Data/FirstOrder/PhaseDiagram/2020Setup/1900_600.hdf5',\n",
       " '/media/data/Data/FirstOrder/PhaseDiagram/2020Setup/1900_625.hdf5',\n",
       " '/media/data/Data/FirstOrder/PhaseDiagram/2020Setup/1900_650.hdf5',\n",
       " '/media/data/Data/FirstOrder/PhaseDiagram/2020Setup/1900_675.hdf5',\n",
       " '/media/data/Data/FirstOrder/PhaseDiagram/2020Setup/1900_700.hdf5',\n",
       " '/media/data/Data/FirstOrder/PhaseDiagram/2020Setup/1900_725.hdf5',\n",
       " '/media/data/Data/FirstOrder/PhaseDiagram/2020Setup/1900_750.hdf5',\n",
       " '/media/data/Data/FirstOrder/PhaseDiagram/2020Setup/1950_550.hdf5',\n",
       " '/media/data/Data/FirstOrder/PhaseDiagram/2020Setup/1950_575.hdf5',\n",
       " '/media/data/Data/FirstOrder/PhaseDiagram/2020Setup/1950_600.hdf5',\n",
       " '/media/data/Data/FirstOrder/PhaseDiagram/2020Setup/1950_625.hdf5',\n",
       " '/media/data/Data/FirstOrder/PhaseDiagram/2020Setup/1950_650.hdf5',\n",
       " '/media/data/Data/FirstOrder/PhaseDiagram/2020Setup/1950_675.hdf5',\n",
       " '/media/data/Data/FirstOrder/PhaseDiagram/2020Setup/1950_700.hdf5',\n",
       " '/media/data/Data/FirstOrder/PhaseDiagram/2020Setup/1950_725.hdf5',\n",
       " '/media/data/Data/FirstOrder/PhaseDiagram/2020Setup/1950_750.hdf5',\n",
       " '/media/data/Data/FirstOrder/PhaseDiagram/2020Setup/2000_550.hdf5',\n",
       " '/media/data/Data/FirstOrder/PhaseDiagram/2020Setup/2000_575.hdf5',\n",
       " '/media/data/Data/FirstOrder/PhaseDiagram/2020Setup/2000_600.hdf5',\n",
       " '/media/data/Data/FirstOrder/PhaseDiagram/2020Setup/2000_625.hdf5',\n",
       " '/media/data/Data/FirstOrder/PhaseDiagram/2020Setup/2000_650.hdf5',\n",
       " '/media/data/Data/FirstOrder/PhaseDiagram/2020Setup/2000_675.hdf5',\n",
       " '/media/data/Data/FirstOrder/PhaseDiagram/2020Setup/2000_700.hdf5',\n",
       " '/media/data/Data/FirstOrder/PhaseDiagram/2020Setup/2000_725.hdf5',\n",
       " '/media/data/Data/FirstOrder/PhaseDiagram/2020Setup/2000_750.hdf5',\n",
       " '/media/data/Data/FirstOrder/PhaseDiagram/2020Setup/2050_550.hdf5',\n",
       " '/media/data/Data/FirstOrder/PhaseDiagram/2020Setup/2050_575.hdf5',\n",
       " '/media/data/Data/FirstOrder/PhaseDiagram/2020Setup/2050_600.hdf5',\n",
       " '/media/data/Data/FirstOrder/PhaseDiagram/2020Setup/2050_625.hdf5',\n",
       " '/media/data/Data/FirstOrder/PhaseDiagram/2020Setup/2050_650.hdf5',\n",
       " '/media/data/Data/FirstOrder/PhaseDiagram/2020Setup/2050_675.hdf5',\n",
       " '/media/data/Data/FirstOrder/PhaseDiagram/2020Setup/2050_700.hdf5',\n",
       " '/media/data/Data/FirstOrder/PhaseDiagram/2020Setup/2050_725.hdf5',\n",
       " '/media/data/Data/FirstOrder/PhaseDiagram/2020Setup/2050_750.hdf5',\n",
       " '/media/data/Data/FirstOrder/PhaseDiagram/2020Setup/2100_550.hdf5',\n",
       " '/media/data/Data/FirstOrder/PhaseDiagram/2020Setup/2100_575.hdf5',\n",
       " '/media/data/Data/FirstOrder/PhaseDiagram/2020Setup/2100_600.hdf5',\n",
       " '/media/data/Data/FirstOrder/PhaseDiagram/2020Setup/2100_625.hdf5',\n",
       " '/media/data/Data/FirstOrder/PhaseDiagram/2020Setup/2100_650.hdf5',\n",
       " '/media/data/Data/FirstOrder/PhaseDiagram/2020Setup/2100_675.hdf5',\n",
       " '/media/data/Data/FirstOrder/PhaseDiagram/2020Setup/2100_700.hdf5',\n",
       " '/media/data/Data/FirstOrder/PhaseDiagram/2020Setup/2100_725.hdf5',\n",
       " '/media/data/Data/FirstOrder/PhaseDiagram/2020Setup/2100_750.hdf5',\n",
       " '/media/data/Data/FirstOrder/PhaseDiagram/2020Setup/2150_550.hdf5',\n",
       " '/media/data/Data/FirstOrder/PhaseDiagram/2020Setup/2150_575.hdf5',\n",
       " '/media/data/Data/FirstOrder/PhaseDiagram/2020Setup/2150_600.hdf5',\n",
       " '/media/data/Data/FirstOrder/PhaseDiagram/2020Setup/2150_625.hdf5',\n",
       " '/media/data/Data/FirstOrder/PhaseDiagram/2020Setup/2150_650.hdf5',\n",
       " '/media/data/Data/FirstOrder/PhaseDiagram/2020Setup/2150_675.hdf5',\n",
       " '/media/data/Data/FirstOrder/PhaseDiagram/2020Setup/2150_700.hdf5',\n",
       " '/media/data/Data/FirstOrder/PhaseDiagram/2020Setup/2150_725.hdf5',\n",
       " '/media/data/Data/FirstOrder/PhaseDiagram/2020Setup/2150_750.hdf5',\n",
       " '/media/data/Data/FirstOrder/PhaseDiagram/2020Setup/2200_550.hdf5',\n",
       " '/media/data/Data/FirstOrder/PhaseDiagram/2020Setup/2200_575.hdf5',\n",
       " '/media/data/Data/FirstOrder/PhaseDiagram/2020Setup/2200_600.hdf5',\n",
       " '/media/data/Data/FirstOrder/PhaseDiagram/2020Setup/2200_625.hdf5',\n",
       " '/media/data/Data/FirstOrder/PhaseDiagram/2020Setup/2200_650.hdf5',\n",
       " '/media/data/Data/FirstOrder/PhaseDiagram/2020Setup/2200_675.hdf5',\n",
       " '/media/data/Data/FirstOrder/PhaseDiagram/2020Setup/2200_700.hdf5',\n",
       " '/media/data/Data/FirstOrder/PhaseDiagram/2020Setup/2200_725.hdf5',\n",
       " '/media/data/Data/FirstOrder/PhaseDiagram/2020Setup/2200_750.hdf5',\n",
       " '/media/data/Data/FirstOrder/PhaseDiagram/2020Setup/2250_550.hdf5',\n",
       " '/media/data/Data/FirstOrder/PhaseDiagram/2020Setup/2250_575.hdf5',\n",
       " '/media/data/Data/FirstOrder/PhaseDiagram/2020Setup/2250_600.hdf5',\n",
       " '/media/data/Data/FirstOrder/PhaseDiagram/2020Setup/2250_625.hdf5',\n",
       " '/media/data/Data/FirstOrder/PhaseDiagram/2020Setup/2250_650.hdf5',\n",
       " '/media/data/Data/FirstOrder/PhaseDiagram/2020Setup/2250_675.hdf5',\n",
       " '/media/data/Data/FirstOrder/PhaseDiagram/2020Setup/2250_700.hdf5',\n",
       " '/media/data/Data/FirstOrder/PhaseDiagram/2020Setup/2250_725.hdf5',\n",
       " '/media/data/Data/FirstOrder/PhaseDiagram/2020Setup/2250_750.hdf5',\n",
       " '/media/data/Data/FirstOrder/PhaseDiagram/2020Setup/2300_550.hdf5',\n",
       " '/media/data/Data/FirstOrder/PhaseDiagram/2020Setup/2300_575.hdf5',\n",
       " '/media/data/Data/FirstOrder/PhaseDiagram/2020Setup/2300_600.hdf5',\n",
       " '/media/data/Data/FirstOrder/PhaseDiagram/2020Setup/2300_625.hdf5',\n",
       " '/media/data/Data/FirstOrder/PhaseDiagram/2020Setup/2300_650.hdf5',\n",
       " '/media/data/Data/FirstOrder/PhaseDiagram/2020Setup/2300_675.hdf5',\n",
       " '/media/data/Data/FirstOrder/PhaseDiagram/2020Setup/2300_700.hdf5',\n",
       " '/media/data/Data/FirstOrder/PhaseDiagram/2020Setup/2300_725.hdf5',\n",
       " '/media/data/Data/FirstOrder/PhaseDiagram/2020Setup/2300_750.hdf5',\n",
       " '/media/data/Data/FirstOrder/PhaseDiagram/2020Setup/2350_550.hdf5',\n",
       " '/media/data/Data/FirstOrder/PhaseDiagram/2020Setup/2350_575.hdf5',\n",
       " '/media/data/Data/FirstOrder/PhaseDiagram/2020Setup/2350_600.hdf5',\n",
       " '/media/data/Data/FirstOrder/PhaseDiagram/2020Setup/2350_625.hdf5',\n",
       " '/media/data/Data/FirstOrder/PhaseDiagram/2020Setup/2350_650.hdf5',\n",
       " '/media/data/Data/FirstOrder/PhaseDiagram/2020Setup/2350_675.hdf5',\n",
       " '/media/data/Data/FirstOrder/PhaseDiagram/2020Setup/2350_700.hdf5',\n",
       " '/media/data/Data/FirstOrder/PhaseDiagram/2020Setup/2350_725.hdf5',\n",
       " '/media/data/Data/FirstOrder/PhaseDiagram/2020Setup/2350_750.hdf5']"
      ]
     },
     "execution_count": 5,
     "metadata": {},
     "output_type": "execute_result"
    }
   ],
   "source": [
    "files"
   ]
  },
  {
   "cell_type": "code",
   "execution_count": 6,
   "metadata": {},
   "outputs": [],
   "source": [
    "data = dataframes.DataStore(files[-15])"
   ]
  },
  {
   "cell_type": "code",
   "execution_count": 7,
   "metadata": {},
   "outputs": [
    {
     "data": {
      "text/html": [
       "<div>\n",
       "<style scoped>\n",
       "    .dataframe tbody tr th:only-of-type {\n",
       "        vertical-align: middle;\n",
       "    }\n",
       "\n",
       "    .dataframe tbody tr th {\n",
       "        vertical-align: top;\n",
       "    }\n",
       "\n",
       "    .dataframe thead th {\n",
       "        text-align: right;\n",
       "    }\n",
       "</style>\n",
       "<table border=\"1\" class=\"dataframe\">\n",
       "  <thead>\n",
       "    <tr style=\"text-align: right;\">\n",
       "      <th></th>\n",
       "      <th>x</th>\n",
       "      <th>y</th>\n",
       "      <th>r</th>\n",
       "      <th>Duty</th>\n",
       "      <th>order_r</th>\n",
       "      <th>order_i</th>\n",
       "      <th>neighbors</th>\n",
       "      <th>order</th>\n",
       "      <th>density</th>\n",
       "      <th>shape_factor</th>\n",
       "      <th>on_edge</th>\n",
       "    </tr>\n",
       "    <tr>\n",
       "      <th>frame</th>\n",
       "      <th></th>\n",
       "      <th></th>\n",
       "      <th></th>\n",
       "      <th></th>\n",
       "      <th></th>\n",
       "      <th></th>\n",
       "      <th></th>\n",
       "      <th></th>\n",
       "      <th></th>\n",
       "      <th></th>\n",
       "      <th></th>\n",
       "    </tr>\n",
       "  </thead>\n",
       "  <tbody>\n",
       "    <tr>\n",
       "      <th>0</th>\n",
       "      <td>574</td>\n",
       "      <td>1477</td>\n",
       "      <td>17</td>\n",
       "      <td>625.0</td>\n",
       "      <td>-0.923126</td>\n",
       "      <td>-0.119519</td>\n",
       "      <td>5</td>\n",
       "      <td>0.930831</td>\n",
       "      <td>0.765678</td>\n",
       "      <td>1.113391</td>\n",
       "      <td>False</td>\n",
       "    </tr>\n",
       "    <tr>\n",
       "      <th>0</th>\n",
       "      <td>477</td>\n",
       "      <td>1456</td>\n",
       "      <td>17</td>\n",
       "      <td>625.0</td>\n",
       "      <td>-0.966200</td>\n",
       "      <td>0.077965</td>\n",
       "      <td>6</td>\n",
       "      <td>0.969341</td>\n",
       "      <td>0.827014</td>\n",
       "      <td>1.104851</td>\n",
       "      <td>False</td>\n",
       "    </tr>\n",
       "    <tr>\n",
       "      <th>0</th>\n",
       "      <td>1220</td>\n",
       "      <td>1009</td>\n",
       "      <td>17</td>\n",
       "      <td>625.0</td>\n",
       "      <td>-0.968538</td>\n",
       "      <td>0.174219</td>\n",
       "      <td>6</td>\n",
       "      <td>0.984083</td>\n",
       "      <td>0.833193</td>\n",
       "      <td>1.104493</td>\n",
       "      <td>False</td>\n",
       "    </tr>\n",
       "    <tr>\n",
       "      <th>0</th>\n",
       "      <td>354</td>\n",
       "      <td>1050</td>\n",
       "      <td>17</td>\n",
       "      <td>625.0</td>\n",
       "      <td>-0.912589</td>\n",
       "      <td>0.078085</td>\n",
       "      <td>5</td>\n",
       "      <td>0.915923</td>\n",
       "      <td>0.742922</td>\n",
       "      <td>1.118266</td>\n",
       "      <td>False</td>\n",
       "    </tr>\n",
       "    <tr>\n",
       "      <th>0</th>\n",
       "      <td>1379</td>\n",
       "      <td>846</td>\n",
       "      <td>17</td>\n",
       "      <td>625.0</td>\n",
       "      <td>-0.920406</td>\n",
       "      <td>-0.069099</td>\n",
       "      <td>6</td>\n",
       "      <td>0.922996</td>\n",
       "      <td>0.850051</td>\n",
       "      <td>1.107100</td>\n",
       "      <td>False</td>\n",
       "    </tr>\n",
       "  </tbody>\n",
       "</table>\n",
       "</div>"
      ],
      "text/plain": [
       "          x     y   r   Duty   order_r   order_i  neighbors     order  \\\n",
       "frame                                                                   \n",
       "0       574  1477  17  625.0 -0.923126 -0.119519          5  0.930831   \n",
       "0       477  1456  17  625.0 -0.966200  0.077965          6  0.969341   \n",
       "0      1220  1009  17  625.0 -0.968538  0.174219          6  0.984083   \n",
       "0       354  1050  17  625.0 -0.912589  0.078085          5  0.915923   \n",
       "0      1379   846  17  625.0 -0.920406 -0.069099          6  0.922996   \n",
       "\n",
       "        density  shape_factor  on_edge  \n",
       "frame                                   \n",
       "0      0.765678      1.113391    False  \n",
       "0      0.827014      1.104851    False  \n",
       "0      0.833193      1.104493    False  \n",
       "0      0.742922      1.118266    False  \n",
       "0      0.850051      1.107100    False  "
      ]
     },
     "execution_count": 7,
     "metadata": {},
     "output_type": "execute_result"
    }
   ],
   "source": [
    "data.df.head()"
   ]
  },
  {
   "cell_type": "code",
   "execution_count": 9,
   "metadata": {},
   "outputs": [],
   "source": [
    "pc = statistics.PropertyCalculator(data)"
   ]
  },
  {
   "cell_type": "code",
   "execution_count": 10,
   "metadata": {},
   "outputs": [
    {
     "name": "stderr",
     "output_type": "stream",
     "text": [
      "100%|██████████| 216/216 [00:03<00:00, 71.76it/s]\n"
     ]
    }
   ],
   "source": [
    "pc.order_long()"
   ]
  },
  {
   "cell_type": "code",
   "execution_count": 13,
   "metadata": {},
   "outputs": [
    {
     "data": {
      "text/plain": [
       "array([[<AxesSubplot:title={'center':'order_long'}>]], dtype=object)"
      ]
     },
     "execution_count": 13,
     "metadata": {},
     "output_type": "execute_result"
    },
    {
     "data": {
      "image/png": "[encoded data removed]",
      "text/plain": [
       "<Figure size 432x288 with 1 Axes>"
      ]
     },
     "metadata": {
      "needs_background": "light"
     },
     "output_type": "display_data"
    }
   ],
   "source": [
    "data.df.hist('order_long', bins=100)"
   ]
  },
  {
   "cell_type": "code",
   "execution_count": 53,
   "metadata": {},
   "outputs": [
    {
     "name": "stderr",
     "output_type": "stream",
     "text": [
      "  4%|▍         | 9/216 [00:00<00:02, 83.54it/s]"
     ]
    },
    {
     "name": "stdout",
     "output_type": "stream",
     "text": [
      "Using matplotlib backend: Qt5Agg\n"
     ]
    },
    {
     "name": "stderr",
     "output_type": "stream",
     "text": [
      "100%|██████████| 216/216 [00:02<00:00, 104.89it/s]\n",
      "100%|██████████| 240/240 [00:02<00:00, 103.27it/s]\n",
      "100%|██████████| 240/240 [00:02<00:00, 106.18it/s]\n",
      "100%|██████████| 240/240 [00:02<00:00, 104.95it/s]\n",
      "100%|██████████| 216/216 [00:02<00:00, 102.97it/s]\n",
      "100%|██████████| 216/216 [00:02<00:00, 106.76it/s]\n",
      "100%|██████████| 216/216 [00:01<00:00, 111.60it/s]\n",
      "100%|██████████| 216/216 [00:01<00:00, 112.67it/s]\n",
      "100%|██████████| 216/216 [00:03<00:00, 66.66it/s] \n",
      "100%|██████████| 216/216 [00:02<00:00, 97.64it/s] \n",
      "100%|██████████| 240/240 [00:02<00:00, 98.93it/s] \n",
      "100%|██████████| 216/216 [00:02<00:00, 100.94it/s]\n",
      "100%|██████████| 240/240 [00:02<00:00, 98.57it/s] \n",
      "100%|██████████| 216/216 [00:02<00:00, 90.11it/s] \n",
      "100%|██████████| 216/216 [00:02<00:00, 105.87it/s]\n",
      "100%|██████████| 216/216 [00:02<00:00, 107.28it/s]\n",
      "100%|██████████| 216/216 [00:01<00:00, 109.28it/s]\n",
      "100%|██████████| 240/240 [00:02<00:00, 112.38it/s]\n",
      "100%|██████████| 216/216 [00:02<00:00, 87.91it/s] \n",
      "100%|██████████| 216/216 [00:02<00:00, 98.70it/s] \n",
      "100%|██████████| 216/216 [00:02<00:00, 100.09it/s]\n",
      "/home/ppxjd3/.local/lib/python3.7/site-packages/ipykernel_launcher.py:6: RuntimeWarning: More than 20 figures have been opened. Figures created through the pyplot interface (`matplotlib.pyplot.figure`) are retained until explicitly closed and may consume too much memory. (To control this warning, see the rcParam `figure.max_open_warning`).\n",
      "  \n",
      "100%|██████████| 216/216 [00:02<00:00, 98.74it/s] \n",
      "100%|██████████| 216/216 [00:02<00:00, 98.47it/s] \n",
      "100%|██████████| 216/216 [00:02<00:00, 101.54it/s]\n",
      "100%|██████████| 216/216 [00:02<00:00, 93.29it/s] \n",
      "100%|██████████| 240/240 [00:02<00:00, 104.79it/s]\n",
      "100%|██████████| 216/216 [00:01<00:00, 109.10it/s]\n",
      "100%|██████████| 240/240 [00:02<00:00, 94.49it/s] \n",
      "100%|██████████| 240/240 [00:02<00:00, 90.61it/s]\n",
      "100%|██████████| 240/240 [00:02<00:00, 89.30it/s]\n",
      "100%|██████████| 216/216 [00:02<00:00, 79.96it/s] \n",
      "100%|██████████| 216/216 [00:02<00:00, 90.09it/s] \n",
      "100%|██████████| 216/216 [00:02<00:00, 94.83it/s] \n",
      "100%|██████████| 216/216 [00:02<00:00, 97.22it/s] \n",
      "100%|██████████| 216/216 [00:02<00:00, 107.35it/s]\n",
      "100%|██████████| 216/216 [00:02<00:00, 101.14it/s]\n",
      "100%|██████████| 240/240 [00:02<00:00, 94.92it/s] \n",
      "100%|██████████| 216/216 [00:02<00:00, 94.94it/s] \n",
      "100%|██████████| 216/216 [00:02<00:00, 93.07it/s] \n",
      "100%|██████████| 216/216 [00:02<00:00, 93.81it/s] \n",
      "100%|██████████| 216/216 [00:02<00:00, 91.77it/s] \n",
      "100%|██████████| 240/240 [00:02<00:00, 99.59it/s] \n",
      "100%|██████████| 216/216 [00:02<00:00, 102.74it/s]\n",
      "100%|██████████| 216/216 [00:02<00:00, 104.69it/s]\n",
      "100%|██████████| 216/216 [00:02<00:00, 99.36it/s] \n",
      "100%|██████████| 216/216 [00:03<00:00, 69.85it/s]\n",
      "100%|██████████| 240/240 [00:02<00:00, 84.54it/s]\n",
      "100%|██████████| 216/216 [00:02<00:00, 85.14it/s]\n",
      "100%|██████████| 216/216 [00:02<00:00, 92.38it/s] \n",
      "100%|██████████| 216/216 [00:02<00:00, 92.89it/s]\n",
      "100%|██████████| 216/216 [00:02<00:00, 95.46it/s] \n",
      "100%|██████████| 240/240 [00:02<00:00, 101.33it/s]\n",
      "100%|██████████| 216/216 [00:02<00:00, 101.55it/s]\n",
      "100%|██████████| 240/240 [00:02<00:00, 108.06it/s]\n",
      "100%|██████████| 216/216 [00:02<00:00, 89.06it/s]\n",
      "100%|██████████| 216/216 [00:02<00:00, 80.46it/s]\n",
      "100%|██████████| 240/240 [00:02<00:00, 91.54it/s]\n",
      "100%|██████████| 216/216 [00:02<00:00, 83.48it/s]\n",
      "100%|██████████| 240/240 [00:02<00:00, 91.40it/s] \n",
      "100%|██████████| 216/216 [00:02<00:00, 90.53it/s] \n",
      "100%|██████████| 240/240 [00:02<00:00, 100.82it/s]\n",
      "100%|██████████| 216/216 [00:02<00:00, 98.22it/s] \n",
      "100%|██████████| 240/240 [00:02<00:00, 88.44it/s] \n",
      "100%|██████████| 240/240 [00:02<00:00, 81.35it/s]\n",
      "100%|██████████| 216/216 [00:02<00:00, 79.46it/s]\n",
      "100%|██████████| 240/240 [00:02<00:00, 85.41it/s]\n",
      "100%|██████████| 216/216 [00:02<00:00, 83.11it/s]\n",
      "100%|██████████| 216/216 [00:02<00:00, 90.38it/s]\n",
      "100%|██████████| 216/216 [00:02<00:00, 94.98it/s] \n",
      "100%|██████████| 240/240 [00:02<00:00, 96.17it/s] \n",
      "100%|██████████| 216/216 [00:02<00:00, 100.25it/s]\n",
      "100%|██████████| 216/216 [00:02<00:00, 105.08it/s]\n",
      "100%|██████████| 216/216 [00:03<00:00, 69.86it/s]\n",
      "100%|██████████| 240/240 [00:02<00:00, 84.77it/s]\n",
      "100%|██████████| 216/216 [00:02<00:00, 81.60it/s]\n",
      "100%|██████████| 216/216 [00:02<00:00, 83.08it/s]\n",
      "100%|██████████| 216/216 [00:02<00:00, 87.22it/s]\n",
      "100%|██████████| 216/216 [00:02<00:00, 91.96it/s]\n",
      "100%|██████████| 216/216 [00:02<00:00, 98.05it/s] \n",
      "100%|██████████| 216/216 [00:02<00:00, 100.57it/s]\n",
      "100%|██████████| 240/240 [00:02<00:00, 101.67it/s]\n",
      "100%|██████████| 240/240 [00:03<00:00, 79.79it/s]\n",
      "100%|██████████| 216/216 [00:02<00:00, 76.07it/s]\n",
      "100%|██████████| 240/240 [00:02<00:00, 80.92it/s]\n",
      "100%|██████████| 216/216 [00:02<00:00, 80.05it/s]\n",
      "100%|██████████| 216/216 [00:02<00:00, 84.64it/s]\n",
      "100%|██████████| 216/216 [00:02<00:00, 90.50it/s]\n",
      "100%|██████████| 240/240 [00:02<00:00, 95.33it/s] \n",
      "100%|██████████| 216/216 [00:02<00:00, 98.94it/s] \n",
      "100%|██████████| 216/216 [00:02<00:00, 98.52it/s] \n",
      "100%|██████████| 216/216 [00:02<00:00, 76.35it/s]\n",
      "100%|██████████| 240/240 [00:03<00:00, 79.08it/s]\n",
      "100%|██████████| 216/216 [00:02<00:00, 78.56it/s]\n",
      "100%|██████████| 240/240 [00:02<00:00, 80.83it/s]\n",
      "100%|██████████| 216/216 [00:02<00:00, 85.39it/s]\n",
      "100%|██████████| 216/216 [00:02<00:00, 92.10it/s] \n",
      "100%|██████████| 240/240 [00:02<00:00, 95.18it/s] \n",
      "100%|██████████| 216/216 [00:02<00:00, 97.19it/s] \n",
      "100%|██████████| 240/240 [00:02<00:00, 101.82it/s]\n",
      "100%|██████████| 216/216 [00:02<00:00, 75.87it/s]\n",
      "100%|██████████| 216/216 [00:02<00:00, 77.96it/s]\n",
      "100%|██████████| 216/216 [00:02<00:00, 77.51it/s]\n",
      "100%|██████████| 240/240 [00:03<00:00, 77.93it/s]\n",
      "100%|██████████| 216/216 [00:02<00:00, 81.25it/s]\n",
      "100%|██████████| 240/240 [00:02<00:00, 90.21it/s]\n",
      "100%|██████████| 216/216 [00:02<00:00, 92.69it/s]\n",
      "100%|██████████| 240/240 [00:02<00:00, 98.62it/s] \n",
      "100%|██████████| 216/216 [00:02<00:00, 77.06it/s] \n",
      "100%|██████████| 216/216 [00:02<00:00, 75.87it/s]\n",
      "100%|██████████| 216/216 [00:02<00:00, 76.07it/s]\n",
      "100%|██████████| 216/216 [00:02<00:00, 77.54it/s]\n",
      "100%|██████████| 216/216 [00:02<00:00, 74.84it/s]\n",
      "100%|██████████| 216/216 [00:02<00:00, 81.28it/s]\n",
      "100%|██████████| 216/216 [00:02<00:00, 89.25it/s]\n",
      "100%|██████████| 240/240 [00:02<00:00, 95.20it/s] \n",
      "100%|██████████| 216/216 [00:02<00:00, 95.42it/s] \n",
      "100%|██████████| 240/240 [00:02<00:00, 98.54it/s] \n",
      "100%|██████████| 216/216 [00:02<00:00, 74.78it/s]\n",
      "100%|██████████| 240/240 [00:03<00:00, 73.83it/s]\n",
      "100%|██████████| 216/216 [00:02<00:00, 75.68it/s]\n",
      "100%|██████████| 240/240 [00:03<00:00, 75.53it/s]\n",
      "100%|██████████| 216/216 [00:03<00:00, 62.83it/s]\n",
      "100%|██████████| 216/216 [00:02<00:00, 88.73it/s]\n",
      "100%|██████████| 240/240 [00:02<00:00, 95.20it/s] \n",
      "100%|██████████| 216/216 [00:02<00:00, 98.54it/s] \n",
      "100%|██████████| 240/240 [00:02<00:00, 99.50it/s] \n"
     ]
    }
   ],
   "source": [
    "%matplotlib auto\n",
    "for file in files:\n",
    "    data = dataframes.DataStore(file)\n",
    "    pc = statistics.PropertyCalculator(data)\n",
    "    pc.order_long()\n",
    "    plt.figure()\n",
    "    plt.hist(data.df.order_long, bins=100)\n",
    "    plt.axvline(np.mean(data.df.order_long), c='r')\n",
    "    plt.axvline(np.median(data.df.order_long), c='b')\n",
    "    plt.title(file)\n",
    "    "
   ]
  },
  {
   "cell_type": "code",
   "execution_count": 21,
   "metadata": {},
   "outputs": [],
   "source": [
    "import os\n",
    "import numpy as np"
   ]
  },
  {
   "cell_type": "code",
   "execution_count": 31,
   "metadata": {},
   "outputs": [],
   "source": [
    "densities = []\n",
    "duties = []\n",
    "order_means = []\n",
    "order_medians = []\n",
    "for file in files:\n",
    "    filename = os.path.splitext(os.path.split(file)[1])[0]\n",
    "    density, duty = filename.split('_')\n",
    "    density = int(density)\n",
    "    duty = int(duty)\n",
    "    data = dataframes.DataStore(file)\n",
    "    order_mean = data.df.order_long.mean()\n",
    "    order_median = np.median(data.df.order_long)\n",
    "    densities.append(density)\n",
    "    duties.append(duty)\n",
    "    order_means.append(order_mean)\n",
    "    order_medians.append(order_median)\n",
    "    "
   ]
  },
  {
   "cell_type": "code",
   "execution_count": 39,
   "metadata": {},
   "outputs": [
    {
     "data": {
      "text/plain": [
       "array([[550, 575, 600, 625, 650, 675, 700, 725, 750],\n",
       "       [550, 575, 600, 625, 650, 675, 700, 725, 750],\n",
       "       [550, 575, 600, 625, 650, 675, 700, 725, 750],\n",
       "       [550, 575, 600, 625, 650, 675, 700, 725, 750],\n",
       "       [550, 575, 600, 625, 650, 675, 700, 725, 750],\n",
       "       [550, 575, 600, 625, 650, 675, 700, 725, 750],\n",
       "       [550, 575, 600, 625, 650, 675, 700, 725, 750],\n",
       "       [550, 575, 600, 625, 650, 675, 700, 725, 750],\n",
       "       [550, 575, 600, 625, 650, 675, 700, 725, 750],\n",
       "       [550, 575, 600, 625, 650, 675, 700, 725, 750],\n",
       "       [550, 575, 600, 625, 650, 675, 700, 725, 750],\n",
       "       [550, 575, 600, 625, 650, 675, 700, 725, 750],\n",
       "       [550, 575, 600, 625, 650, 675, 700, 725, 750],\n",
       "       [550, 575, 600, 625, 650, 675, 700, 725, 750]])"
      ]
     },
     "execution_count": 39,
     "metadata": {},
     "output_type": "execute_result"
    }
   ],
   "source": [
    "duties_s = np.array(duties).reshape(-1, 9)\n",
    "duties_s"
   ]
  },
  {
   "cell_type": "code",
   "execution_count": 40,
   "metadata": {},
   "outputs": [
    {
     "data": {
      "text/plain": [
       "array([[1700, 1700, 1700, 1700, 1700, 1700, 1700, 1700, 1700],\n",
       "       [1750, 1750, 1750, 1750, 1750, 1750, 1750, 1750, 1750],\n",
       "       [1800, 1800, 1800, 1800, 1800, 1800, 1800, 1800, 1800],\n",
       "       [1850, 1850, 1850, 1850, 1850, 1850, 1850, 1850, 1850],\n",
       "       [1900, 1900, 1900, 1900, 1900, 1900, 1900, 1900, 1900],\n",
       "       [1950, 1950, 1950, 1950, 1950, 1950, 1950, 1950, 1950],\n",
       "       [2000, 2000, 2000, 2000, 2000, 2000, 2000, 2000, 2000],\n",
       "       [2050, 2050, 2050, 2050, 2050, 2050, 2050, 2050, 2050],\n",
       "       [2100, 2100, 2100, 2100, 2100, 2100, 2100, 2100, 2100],\n",
       "       [2150, 2150, 2150, 2150, 2150, 2150, 2150, 2150, 2150],\n",
       "       [2200, 2200, 2200, 2200, 2200, 2200, 2200, 2200, 2200],\n",
       "       [2250, 2250, 2250, 2250, 2250, 2250, 2250, 2250, 2250],\n",
       "       [2300, 2300, 2300, 2300, 2300, 2300, 2300, 2300, 2300],\n",
       "       [2350, 2350, 2350, 2350, 2350, 2350, 2350, 2350, 2350]])"
      ]
     },
     "execution_count": 40,
     "metadata": {},
     "output_type": "execute_result"
    }
   ],
   "source": [
    "densities_s = np.array(densities).reshape(-1, 9)\n",
    "densities_s"
   ]
  },
  {
   "cell_type": "code",
   "execution_count": 41,
   "metadata": {},
   "outputs": [],
   "source": [
    "order_means = np.array(order_means).reshape(-1, 9)\n",
    "order_medians = np.array(order_medians).reshape(-1, 9)"
   ]
  },
  {
   "cell_type": "code",
   "execution_count": 46,
   "metadata": {},
   "outputs": [
    {
     "data": {
      "text/plain": [
       "<matplotlib.contour.QuadContourSet at 0x7f49f786ff90>"
      ]
     },
     "execution_count": 46,
     "metadata": {},
     "output_type": "execute_result"
    }
   ],
   "source": [
    "plt.contourf(densities_s, duties_s, order_medians, levels=100)"
   ]
  },
  {
   "cell_type": "code",
   "execution_count": 55,
   "metadata": {},
   "outputs": [],
   "source": [
    "plt.close('all')"
   ]
  },
  {
   "cell_type": "code",
   "execution_count": 47,
   "metadata": {},
   "outputs": [],
   "source": [
    "diff = order_means - order_medians"
   ]
  },
  {
   "cell_type": "code",
   "execution_count": 66,
   "metadata": {},
   "outputs": [
    {
     "data": {
      "text/plain": [
       "Text(0.5, 0, 'N')"
      ]
     },
     "execution_count": 66,
     "metadata": {},
     "output_type": "execute_result"
    }
   ],
   "source": [
    "plt.contour(densities_s, duties_s, diff, levels=[0])\n",
    "# plt.colorbar()\n",
    "plt.ylim([600, 700])\n",
    "plt.xlim([1700, 2400])\n",
    "plt.ylabel('Duty')\n",
    "plt.xlabel('N')"
   ]
  },
  {
   "cell_type": "code",
   "execution_count": null,
   "metadata": {},
   "outputs": [],
   "source": []
  }
 ],
 "metadata": {
  "kernelspec": {
   "display_name": "Python 3",
   "language": "python",
   "name": "python3"
  },
  "language_info": {
   "codemirror_mode": {
    "name": "ipython",
    "version": 3
   },
   "file_extension": ".py",
   "mimetype": "text/x-python",
   "name": "python",
   "nbconvert_exporter": "python",
   "pygments_lexer": "ipython3",
   "version": "3.7.9"
  }
 },
 "nbformat": 4,
 "nbformat_minor": 4
}