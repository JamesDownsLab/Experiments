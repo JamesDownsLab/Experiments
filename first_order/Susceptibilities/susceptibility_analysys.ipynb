{
 "cells": [
  {
   "cell_type": "code",
   "execution_count": 1,
   "metadata": {},
   "outputs": [],
   "source": [
    "from particletracking import dataframes\n",
    "import filehandling"
   ]
  },
  {
   "cell_type": "code",
   "execution_count": 11,
   "metadata": {},
   "outputs": [
    {
     "name": "stdout",
     "output_type": "stream",
     "text": [
      "Using matplotlib backend: Qt5Agg\n"
     ]
    }
   ],
   "source": [
    "import numpy as np\n",
    "from tqdm import tqdm\n",
    "import matplotlib.pyplot as plt\n",
    "\n",
    "%matplotlib auto"
   ]
  },
  {
   "cell_type": "code",
   "execution_count": 3,
   "metadata": {},
   "outputs": [],
   "source": [
    "flat_dir = \"/media/data/Data/FirstOrder/Susceptibility/Flat2\"\n",
    "dimpled_dir = \"/media/data/Data/FirstOrder/Susceptibility/Dimpled2\""
   ]
  },
  {
   "cell_type": "code",
   "execution_count": 4,
   "metadata": {},
   "outputs": [],
   "source": [
    "flat_files = filehandling.get_directory_filenames(flat_dir+'/*.hdf5')\n",
    "dimpled_files = filehandling.get_directory_filenames(dimpled_dir+'/*.hdf5')"
   ]
  },
  {
   "cell_type": "code",
   "execution_count": 5,
   "metadata": {},
   "outputs": [],
   "source": [
    "## Squared and abs badly\n",
    "\n",
    "def get_psis(df, param):\n",
    "    df = df.loc[df.edge_distance > 3*df.r.mean()]\n",
    "    return np.abs(np.mean(df[param].values)**2), np.abs(np.mean(df[param].values))\n",
    "\n",
    "def get_susceptibility(df, param):\n",
    "    psi = np.array(df.groupby('frame').apply(get_psis, param).values)\n",
    "    psi_2, psi = zip(*psi)\n",
    "    sus = np.mean(psi_2) - np.mean(psi)**2\n",
    "    return sus"
   ]
  },
  {
   "cell_type": "code",
   "execution_count": 22,
   "metadata": {},
   "outputs": [],
   "source": [
    "def get_psis(df, param):\n",
    "    \"\"\"Return psi_a^2 and psi_a\"\"\"\n",
    "    df = df.loc[df.edge_distance > 3*df.r.mean()]\n",
    "    vals = df[param].values\n",
    "    return np.mean(vals)*np.conj(np.mean(vals)), np.mean(vals)\n",
    "\n",
    "def get_susceptibility(df, param):\n",
    "    psi = np.array(df.groupby('frame').apply(get_psis, param).values)\n",
    "    psi_2, psi = zip(*psi)\n",
    "    sus = np.real(np.mean(psi_2) - np.mean(psi)*np.conj(np.mean(psi)))\n",
    "    return sus"
   ]
  },
  {
   "cell_type": "code",
   "execution_count": 6,
   "metadata": {},
   "outputs": [],
   "source": [
    "def get_suses(files, param, G):\n",
    "    duties = []\n",
    "    order_suses = []\n",
    "    torder_suses = []\n",
    "    for file in tqdm(files):\n",
    "        data = dataframes.DataStore(file)\n",
    "        data.df['order_long_complex'] = data.df.order_r_long + 1j*data.df.order_i_long\n",
    "        data.df = add_torder(data.df, G)\n",
    "        duties.append(data.df.Duty.mean().round())\n",
    "        order_suses.append(get_susceptibility(data.df, param))\n",
    "        torder_suses.append(get_susceptibility(data.df, 'torder'))\n",
    "    return duties, order_suses, torder_suses\n",
    "            "
   ]
  },
  {
   "cell_type": "code",
   "execution_count": 7,
   "metadata": {},
   "outputs": [],
   "source": [
    "def guess_G_length(points):\n",
    "    r = points.r.mean()\n",
    "    large_spacing = 4.8/2*r\n",
    "    apothem = large_spacing / (2*np.sqrt(3)/3)\n",
    "    return 2*np.pi / apothem\n",
    "\n",
    "def guess_G(points):\n",
    "    L = guess_G_length(points)\n",
    "    angles = np.arange(1, 120) * np.pi / 180\n",
    "    Gs = np.stack((np.cos(angles), np.sin(angles)), axis=0)*L\n",
    "    return Gs\n",
    "\n",
    "def add_torder(df, G):\n",
    "    df['torder'] = np.exp(1j*df[['x', 'y']].values@G)\n",
    "    return df"
   ]
  },
  {
   "cell_type": "code",
   "execution_count": 8,
   "metadata": {},
   "outputs": [],
   "source": [
    "def get_G(df):\n",
    "    points = df.loc[0]\n",
    "    G_all = guess_G(points)\n",
    "    torder_all = np.array([np.exp(1j*points[['x', 'y']]@G) for G in G_all.T])\n",
    "    G = G_all[:, np.argmax(np.sum(torder_all, axis=1))]\n",
    "    return G"
   ]
  },
  {
   "cell_type": "code",
   "execution_count": 19,
   "metadata": {},
   "outputs": [
    {
     "name": "stderr",
     "output_type": "stream",
     "text": [
      "100%|██████████| 100/100 [07:22<00:00,  4.43s/it]\n"
     ]
    }
   ],
   "source": [
    "G_flat = get_G(dataframes.DataStore(flat_files[-1]).df)\n",
    "flat_duties, flat_order_suses, flat_torder_suses = get_suses(flat_files, 'order_long_complex', G_flat)\n"
   ]
  },
  {
   "cell_type": "code",
   "execution_count": 23,
   "metadata": {},
   "outputs": [
    {
     "name": "stderr",
     "output_type": "stream",
     "text": [
      "100%|██████████| 100/100 [07:23<00:00,  4.43s/it]\n"
     ]
    }
   ],
   "source": [
    "G_dimpled = get_G(dataframes.DataStore(dimpled_files[-1]).df)\n",
    "dimple_duties, dimple_order_suses, dimple_torder_suses = get_suses(dimpled_files, 'order_long_complex', G_dimpled)"
   ]
  },
  {
   "cell_type": "code",
   "execution_count": 25,
   "metadata": {},
   "outputs": [
    {
     "data": {
      "text/plain": [
       "Text(0, 0.5, '$\\\\chi_T$')"
      ]
     },
     "execution_count": 25,
     "metadata": {},
     "output_type": "execute_result"
    }
   ],
   "source": [
    "fig, ax = plt.subplots()\n",
    "ax.set_title('Flat 3r high density')\n",
    "ax.plot(flat_duties, flat_order_suses, 'r-')\n",
    "ax.set_xlabel('Duty')\n",
    "ax2 = ax.twinx()\n",
    "ax2.plot(flat_duties, flat_torder_suses, 'g-')\n",
    "ax.set_ylabel('$\\chi_6$', c='r')\n",
    "ax2.set_ylabel('$\\chi_T$', c='g')"
   ]
  },
  {
   "cell_type": "code",
   "execution_count": 24,
   "metadata": {},
   "outputs": [],
   "source": [
    "fig, ax = plt.subplots()\n",
    "ax.set_title('Dimple 3r high density')\n",
    "ax.plot(dimple_duties, dimple_order_suses, 'r-')\n",
    "ax2 = ax.twinx()\n",
    "ax.set_xlabel('Duty')\n",
    "ax2.plot(dimple_duties, dimple_torder_suses, 'g-')\n",
    "ax.set_ylabel('$\\chi_6$', c='r')\n",
    "ax2.set_ylabel('$\\chi_T$', c='g')\n",
    "plt.tight_layout()"
   ]
  },
  {
   "cell_type": "code",
   "execution_count": 88,
   "metadata": {},
   "outputs": [],
   "source": [
    "import pandas as pd"
   ]
  },
  {
   "cell_type": "code",
   "execution_count": 75,
   "metadata": {},
   "outputs": [],
   "source": [
    "sus_data = pd.DataFrame({\n",
    "    'duty': flat_duties, \n",
    "    'dimple_order_sus': dimple_order_suses, \n",
    "    'dimple_torder_sus': dimple_torder_suses,\n",
    "    'flat_order_sus': flat_order_suses,\n",
    "    'flat_torder_sus': flat_torder_suses})"
   ]
  },
  {
   "cell_type": "code",
   "execution_count": 76,
   "metadata": {},
   "outputs": [],
   "source": [
    "sus_data.to_csv(\"/media/data/Data/FirstOrder/Susceptibility/sus_data_middle.csv\")"
   ]
  },
  {
   "cell_type": "code",
   "execution_count": null,
   "metadata": {},
   "outputs": [],
   "source": []
  }
 ],
 "metadata": {
  "kernelspec": {
   "display_name": "Python 3",
   "language": "python",
   "name": "python3"
  },
  "language_info": {
   "codemirror_mode": {
    "name": "ipython",
    "version": 3
   },
   "file_extension": ".py",
   "mimetype": "text/x-python",
   "name": "python",
   "nbconvert_exporter": "python",
   "pygments_lexer": "ipython3",
   "version": "3.7.9"
  }
 },
 "nbformat": 4,
 "nbformat_minor": 4
}
