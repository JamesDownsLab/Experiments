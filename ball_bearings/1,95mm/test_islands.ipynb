{
 "cells": [
  {
   "cell_type": "code",
   "execution_count": 5,
   "metadata": {
    "collapsed": true
   },
   "outputs": [],
   "source": [
    "import pandas as pd\n",
    "from particletracking import dataframes\n",
    "import filehandling\n",
    "from matplotlib import pyplot as plt\n",
    "import numpy as np\n",
    "from scipy import spatial\n",
    "\n",
    "directory = \"/media/data/Data/BallBearing/Repeats/1,95mm\"\n",
    "files = filehandling.get_directory_filenames(directory+'/*.hdf5')"
   ]
  },
  {
   "cell_type": "code",
   "execution_count": null,
   "outputs": [],
   "source": [
    "for file in files:\n",
    "    data = pd.read_hdf(file)\n",
    "    frame0 = data.loc[0]\n",
    "    frame0 = get_order_product(frame0)\n",
    "    plt.figure()\n",
    "    plt.scatter(data.loc[0, 'x'].values, data.loc[0, 'y'].values, c=np.angle(data.loc[0, 'hexatic_order'].values))"
   ],
   "metadata": {
    "collapsed": false,
    "pycharm": {
     "name": "#%%\n"
    }
   }
  },
  {
   "cell_type": "code",
   "execution_count": 9,
   "outputs": [
    {
     "data": {
      "text/plain": "               y            x         mass      size       ecc     signal  \\\nframe                                                                       \n0      38.721994   623.655704   867.612751  1.934301  0.184989  59.743119   \n0      38.577330   655.170781   885.000673  1.873452  0.280927  66.430781   \n0      39.636442   842.365277  1037.479379  1.886669  0.180366  78.914418   \n0      41.461240  1014.212694   920.222363  1.847243  0.070357  64.647404   \n0      41.441795  1224.198223   953.660675  1.805140  0.305258  86.493769   \n\n       raw_mass        ep  user_rad  \nframe                                \n0        4561.0  0.006400         6  \n0        4506.0  0.006478         6  \n0        4799.0  0.006082         6  \n0        5269.0  0.005539         6  \n0        4023.0  0.007257         6  ",
      "text/html": "<div>\n<style scoped>\n    .dataframe tbody tr th:only-of-type {\n        vertical-align: middle;\n    }\n\n    .dataframe tbody tr th {\n        vertical-align: top;\n    }\n\n    .dataframe thead th {\n        text-align: right;\n    }\n</style>\n<table border=\"1\" class=\"dataframe\">\n  <thead>\n    <tr style=\"text-align: right;\">\n      <th></th>\n      <th>y</th>\n      <th>x</th>\n      <th>mass</th>\n      <th>size</th>\n      <th>ecc</th>\n      <th>signal</th>\n      <th>raw_mass</th>\n      <th>ep</th>\n      <th>user_rad</th>\n    </tr>\n    <tr>\n      <th>frame</th>\n      <th></th>\n      <th></th>\n      <th></th>\n      <th></th>\n      <th></th>\n      <th></th>\n      <th></th>\n      <th></th>\n      <th></th>\n    </tr>\n  </thead>\n  <tbody>\n    <tr>\n      <th>0</th>\n      <td>38.721994</td>\n      <td>623.655704</td>\n      <td>867.612751</td>\n      <td>1.934301</td>\n      <td>0.184989</td>\n      <td>59.743119</td>\n      <td>4561.0</td>\n      <td>0.006400</td>\n      <td>6</td>\n    </tr>\n    <tr>\n      <th>0</th>\n      <td>38.577330</td>\n      <td>655.170781</td>\n      <td>885.000673</td>\n      <td>1.873452</td>\n      <td>0.280927</td>\n      <td>66.430781</td>\n      <td>4506.0</td>\n      <td>0.006478</td>\n      <td>6</td>\n    </tr>\n    <tr>\n      <th>0</th>\n      <td>39.636442</td>\n      <td>842.365277</td>\n      <td>1037.479379</td>\n      <td>1.886669</td>\n      <td>0.180366</td>\n      <td>78.914418</td>\n      <td>4799.0</td>\n      <td>0.006082</td>\n      <td>6</td>\n    </tr>\n    <tr>\n      <th>0</th>\n      <td>41.461240</td>\n      <td>1014.212694</td>\n      <td>920.222363</td>\n      <td>1.847243</td>\n      <td>0.070357</td>\n      <td>64.647404</td>\n      <td>5269.0</td>\n      <td>0.005539</td>\n      <td>6</td>\n    </tr>\n    <tr>\n      <th>0</th>\n      <td>41.441795</td>\n      <td>1224.198223</td>\n      <td>953.660675</td>\n      <td>1.805140</td>\n      <td>0.305258</td>\n      <td>86.493769</td>\n      <td>4023.0</td>\n      <td>0.007257</td>\n      <td>6</td>\n    </tr>\n  </tbody>\n</table>\n</div>"
     },
     "execution_count": 9,
     "metadata": {},
     "output_type": "execute_result"
    }
   ],
   "source": [
    "data.head()"
   ],
   "metadata": {
    "collapsed": false,
    "pycharm": {
     "name": "#%%\n"
    }
   }
  },
  {
   "cell_type": "code",
   "execution_count": 10,
   "outputs": [
    {
     "name": "stdout",
     "output_type": "stream",
     "text": [
      "Using matplotlib backend: Qt5Agg\n",
      "[[1282.48011028   41.65222529    0.        ]\n",
      " [1477.36783439   42.48917197    0.        ]\n",
      " [ 714.57335582   43.56492411    0.        ]\n",
      " ...\n",
      " [1716.00497822 2008.03671437    0.        ]\n",
      " [1724.89044756 2008.0501002     0.        ]\n",
      " [1734.8035461  2007.77659574    0.        ]]\n"
     ]
    }
   ],
   "source": [
    "from matplotlib import pyplot as plt\n",
    "from scipy import spatial\n",
    "%matplotlib auto\n",
    "\n",
    "fmax = data.index.max()\n",
    "xy = data.loc[fmax, ['x', 'y']]\n",
    "xy['z'] = 0\n",
    "x = data.loc[fmax, 'x'].values\n",
    "y = data.loc[fmax, 'y'].values\n",
    "points = xy.values\n",
    "print(points)\n",
    "# vor = spatial.Voronoi(xy)\n",
    "# spatial.voronoi_plot_2d(vor)"
   ],
   "metadata": {
    "collapsed": false,
    "pycharm": {
     "name": "#%%\n"
    }
   }
  },
  {
   "cell_type": "code",
   "execution_count": 10,
   "outputs": [
    {
     "data": {
      "text/plain": "<Figure size 640x480 with 1 Axes>",
      "image/png": "[encoded data removed]"
     },
     "execution_count": 10,
     "metadata": {},
     "output_type": "execute_result"
    }
   ],
   "source": [
    "tri = spatial.Delaunay(xy)\n",
    "spatial.delaunay_plot_2d(tri)"
   ],
   "metadata": {
    "collapsed": false,
    "pycharm": {
     "name": "#%%\n"
    }
   }
  },
  {
   "cell_type": "code",
   "execution_count": 12,
   "outputs": [
    {
     "name": "stderr",
     "output_type": "stream",
     "text": [
      "/home/ppxjd3/miniconda3/envs/ExperimentsNew/lib/python3.7/site-packages/numpy/core/_asarray.py:138: ComplexWarning: Casting complex values to real discards the imaginary part\n",
      "  return array(a, dtype, copy=False, order=order, subok=True)\n"
     ]
    },
    {
     "data": {
      "text/plain": "<matplotlib.collections.PathCollection at 0x7f3a3c12b790>"
     },
     "execution_count": 12,
     "metadata": {},
     "output_type": "execute_result"
    }
   ],
   "source": [
    "import freud\n",
    "hex_order = freud.order.Hexatic(k=6, weighted=True)\n",
    "box = freud.box.Box(Lx=x.max(), Ly=y.max(), is2D=True)\n",
    "hex_order.compute((box, points), neighbors={\"num_neighbors\": 6})\n",
    "psi_k = hex_order.particle_order\n",
    "plt.scatter(x, y, c=psi_k)"
   ],
   "metadata": {
    "collapsed": false,
    "pycharm": {
     "name": "#%%\n"
    }
   }
  },
  {
   "cell_type": "code",
   "execution_count": 17,
   "outputs": [],
   "source": [
    "data = pd.read_hdf(file)"
   ],
   "metadata": {
    "collapsed": false,
    "pycharm": {
     "name": "#%%\n"
    }
   }
  },
  {
   "cell_type": "code",
   "execution_count": 18,
   "outputs": [],
   "source": [
    "frame0 = data.loc[0]\n"
   ],
   "metadata": {
    "collapsed": false,
    "pycharm": {
     "name": "#%%\n"
    }
   }
  },
  {
   "cell_type": "code",
   "execution_count": 39,
   "outputs": [
    {
     "name": "stderr",
     "output_type": "stream",
     "text": [
      "/home/ppxjd3/.local/lib/python3.7/site-packages/ipykernel_launcher.py:1: SettingWithCopyWarning: \n",
      "A value is trying to be set on a copy of a slice from a DataFrame.\n",
      "Try using .loc[row_indexer,col_indexer] = value instead\n",
      "\n",
      "See the caveats in the documentation: https://pandas.pydata.org/pandas-docs/stable/user_guide/indexing.html#returning-a-view-versus-a-copy\n",
      "  \"\"\"Entry point for launching an IPython kernel.\n"
     ]
    }
   ],
   "source": [
    "frame0['z'] = 0\n",
    "points = frame0[['x', 'y', 'z']].values\n",
    "orders = frame0['hexatic_order'].values"
   ],
   "metadata": {
    "collapsed": false,
    "pycharm": {
     "name": "#%%\n"
    }
   }
  },
  {
   "cell_type": "code",
   "execution_count": 45,
   "outputs": [
    {
     "name": "stderr",
     "output_type": "stream",
     "text": [
      "/home/ppxjd3/miniconda3/envs/ExperimentsNew/lib/python3.7/site-packages/numpy/core/_asarray.py:138: ComplexWarning: Casting complex values to real discards the imaginary part\n",
      "  return array(a, dtype, copy=False, order=order, subok=True)\n"
     ]
    },
    {
     "data": {
      "text/plain": "<matplotlib.collections.PathCollection at 0x7f3a4e7655d0>"
     },
     "execution_count": 45,
     "metadata": {},
     "output_type": "execute_result"
    }
   ],
   "source": [
    "tri = spatial.Delaunay(points[:, :2])\n",
    "list_indices, point_indices = tri.vertex_neighbor_vertices\n",
    "order_product = []\n",
    "for i in range(len(points)):\n",
    "    neighbors = point_indices[list_indices[i]:list_indices[i+1]]\n",
    "    all_orders = orders[neighbors]\n",
    "    order_product.append(np.prod(all_orders))\n",
    "\n",
    "plt.scatter(points[:, 0], points[:, 1], c=order_product)"
   ],
   "metadata": {
    "collapsed": false,
    "pycharm": {
     "name": "#%%\n"
    }
   }
  },
  {
   "cell_type": "code",
   "execution_count": 8,
   "outputs": [],
   "source": [
    "from tqdm.auto import tqdm\n",
    "\n",
    "def get_order_product(df):\n",
    "    tri = spatial.Delaunay(df[['x', 'y']].values)\n",
    "    orders = df['hexatic_order'].values\n",
    "    list_indices, point_indices = tri.vertex_neighbor_vertices\n",
    "    order_product = [\n",
    "        np.prod(orders[point_indices[list_indices[i]:list_indices[i+1]]])\n",
    "        for i in range(len(orders))]\n",
    "    df['hexatic_order_product'] = order_product\n",
    "    return df"
   ],
   "metadata": {
    "collapsed": false,
    "pycharm": {
     "name": "#%%\n"
    }
   }
  },
  {
   "cell_type": "code",
   "execution_count": 35,
   "outputs": [
    {
     "data": {
      "text/plain": "(array([0.000e+00, 0.000e+00, 0.000e+00, 0.000e+00, 0.000e+00, 0.000e+00,\n        0.000e+00, 0.000e+00, 0.000e+00, 0.000e+00, 0.000e+00, 0.000e+00,\n        0.000e+00, 0.000e+00, 0.000e+00, 0.000e+00, 0.000e+00, 0.000e+00,\n        0.000e+00, 0.000e+00, 0.000e+00, 0.000e+00, 0.000e+00, 0.000e+00,\n        0.000e+00, 0.000e+00, 0.000e+00, 0.000e+00, 0.000e+00, 0.000e+00,\n        0.000e+00, 0.000e+00, 0.000e+00, 0.000e+00, 0.000e+00, 0.000e+00,\n        0.000e+00, 0.000e+00, 0.000e+00, 0.000e+00, 0.000e+00, 0.000e+00,\n        0.000e+00, 0.000e+00, 0.000e+00, 0.000e+00, 0.000e+00, 0.000e+00,\n        0.000e+00, 0.000e+00, 0.000e+00, 0.000e+00, 0.000e+00, 0.000e+00,\n        0.000e+00, 0.000e+00, 0.000e+00, 0.000e+00, 0.000e+00, 0.000e+00,\n        0.000e+00, 0.000e+00, 0.000e+00, 0.000e+00, 0.000e+00, 0.000e+00,\n        0.000e+00, 0.000e+00, 0.000e+00, 0.000e+00, 0.000e+00, 0.000e+00,\n        0.000e+00, 0.000e+00, 0.000e+00, 0.000e+00, 0.000e+00, 0.000e+00,\n        0.000e+00, 0.000e+00, 0.000e+00, 1.000e+00, 0.000e+00, 0.000e+00,\n        0.000e+00, 0.000e+00, 0.000e+00, 0.000e+00, 0.000e+00, 0.000e+00,\n        0.000e+00, 1.000e+00, 0.000e+00, 0.000e+00, 1.000e+00, 1.000e+00,\n        0.000e+00, 3.000e+00, 1.000e+00, 1.000e+00, 0.000e+00, 7.000e+00,\n        1.000e+00, 1.000e+00, 1.000e+01, 3.000e+00, 4.000e+00, 7.000e+00,\n        1.400e+01, 8.000e+00, 2.300e+01, 1.500e+01, 1.800e+01, 1.900e+01,\n        1.700e+01, 3.500e+01, 1.400e+01, 4.200e+01, 2.800e+01, 3.500e+01,\n        2.900e+01, 3.400e+01, 3.500e+01, 3.100e+01, 3.100e+01, 4.000e+01,\n        2.400e+01, 1.900e+01, 2.800e+01, 2.000e+01, 2.800e+01, 2.200e+01,\n        3.100e+01, 2.500e+01, 2.500e+01, 2.500e+01, 2.100e+01, 1.900e+01,\n        1.500e+01, 2.600e+01, 2.600e+01, 2.500e+01, 2.800e+01, 1.700e+01,\n        2.400e+01, 1.200e+01, 1.300e+01, 1.700e+01, 2.000e+01, 2.400e+01,\n        1.700e+01, 1.700e+01, 1.600e+01, 1.900e+01, 1.200e+01, 1.400e+01,\n        1.600e+01, 1.200e+01, 1.600e+01, 1.000e+01, 1.500e+01, 1.000e+01,\n        1.500e+01, 2.600e+01, 9.000e+00, 1.500e+01, 3.100e+01, 1.400e+01,\n        1.500e+01, 2.400e+01, 1.400e+01, 2.800e+01, 2.500e+01, 1.900e+01,\n        2.100e+01, 2.200e+01, 3.000e+01, 3.200e+01, 5.700e+01, 5.700e+01,\n        7.200e+01, 7.800e+01, 8.100e+01, 1.010e+02, 1.180e+02, 1.670e+02,\n        2.110e+02, 2.510e+02, 3.270e+02, 3.800e+02, 5.050e+02, 6.520e+02,\n        8.140e+02, 8.970e+02, 8.750e+02, 9.800e+02, 9.830e+02, 1.108e+03,\n        9.590e+02, 9.140e+02, 8.650e+02, 7.430e+02, 7.030e+02, 6.170e+02,\n        5.470e+02, 4.770e+02, 4.920e+02, 4.490e+02, 3.650e+02, 3.690e+02,\n        3.430e+02, 3.490e+02, 2.920e+02, 2.890e+02, 2.690e+02, 2.450e+02,\n        2.270e+02, 2.070e+02, 2.220e+02, 1.980e+02, 1.580e+02, 1.860e+02,\n        2.060e+02, 1.450e+02, 1.380e+02, 1.420e+02, 1.370e+02, 1.500e+02,\n        1.240e+02, 1.300e+02, 1.320e+02, 1.110e+02, 1.140e+02, 1.090e+02,\n        1.100e+02, 1.000e+02, 1.000e+02, 8.500e+01, 1.070e+02, 1.080e+02,\n        8.600e+01, 1.030e+02, 9.200e+01, 1.040e+02, 9.400e+01, 8.900e+01,\n        7.300e+01, 8.300e+01, 8.700e+01, 7.900e+01, 8.000e+01, 7.700e+01,\n        8.500e+01, 8.600e+01, 7.400e+01, 6.700e+01, 6.400e+01, 7.400e+01,\n        8.000e+01, 7.200e+01, 8.100e+01, 7.500e+01, 7.300e+01, 7.700e+01,\n        6.700e+01, 6.600e+01, 7.100e+01, 6.700e+01, 7.100e+01, 6.900e+01,\n        7.600e+01, 6.900e+01, 7.900e+01, 6.300e+01, 6.800e+01, 8.000e+01,\n        8.200e+01, 8.200e+01, 8.300e+01, 7.100e+01, 7.300e+01, 6.800e+01,\n        7.700e+01, 7.100e+01, 7.900e+01, 9.000e+01, 7.500e+01, 9.100e+01,\n        8.400e+01, 6.600e+01, 9.300e+01, 8.400e+01, 7.100e+01, 9.800e+01,\n        7.000e+01, 7.000e+01, 7.900e+01, 8.100e+01, 7.200e+01, 7.100e+01,\n        9.000e+01, 9.700e+01, 7.000e+01, 8.100e+01, 8.200e+01, 8.400e+01,\n        8.200e+01, 8.800e+01, 8.000e+01, 1.030e+02, 9.000e+01, 1.000e+02,\n        9.600e+01, 9.200e+01, 9.900e+01, 9.900e+01, 1.100e+02, 9.800e+01,\n        1.140e+02, 1.230e+02, 1.150e+02, 1.310e+02, 1.630e+02, 1.450e+02,\n        1.620e+02, 1.450e+02, 1.540e+02, 2.030e+02, 2.230e+02, 2.620e+02,\n        2.740e+02, 3.230e+02, 3.660e+02, 4.030e+02, 4.090e+02, 4.430e+02,\n        4.720e+02, 5.610e+02, 6.290e+02, 5.620e+02, 6.380e+02, 5.580e+02,\n        5.300e+02, 5.370e+02, 4.670e+02, 4.900e+02, 4.700e+02, 4.310e+02,\n        4.420e+02, 4.230e+02, 4.270e+02, 3.750e+02, 3.610e+02, 3.000e+02,\n        3.200e+02, 3.000e+02, 2.900e+02, 2.670e+02, 2.770e+02, 2.630e+02,\n        2.710e+02, 2.510e+02, 2.590e+02, 2.430e+02, 1.970e+02, 2.330e+02,\n        2.020e+02, 2.350e+02, 1.930e+02, 2.170e+02, 1.950e+02, 2.340e+02,\n        2.370e+02, 2.470e+02, 2.580e+02, 2.310e+02, 2.400e+02, 2.580e+02,\n        2.770e+02, 2.710e+02, 3.330e+02, 3.240e+02, 4.040e+02, 4.360e+02,\n        4.540e+02, 5.110e+02, 5.500e+02, 6.090e+02, 7.000e+02, 7.410e+02,\n        7.220e+02, 7.450e+02, 7.450e+02, 6.790e+02, 6.990e+02, 7.080e+02,\n        6.500e+02, 5.780e+02, 6.020e+02, 5.720e+02, 5.410e+02, 5.030e+02,\n        4.850e+02, 4.800e+02, 4.540e+02, 4.460e+02, 3.960e+02, 3.860e+02,\n        4.240e+02, 3.410e+02, 3.520e+02, 3.430e+02, 3.380e+02, 3.130e+02,\n        2.980e+02, 3.000e+02, 2.650e+02, 2.880e+02, 2.600e+02, 2.730e+02,\n        2.620e+02, 2.530e+02, 2.440e+02, 2.400e+02, 2.350e+02, 2.380e+02,\n        2.280e+02, 1.970e+02, 2.080e+02, 2.310e+02, 2.430e+02, 2.170e+02,\n        2.000e+02, 2.070e+02, 1.930e+02, 1.770e+02, 1.810e+02, 1.910e+02,\n        2.120e+02, 1.950e+02, 2.000e+02, 2.010e+02, 1.750e+02, 1.810e+02,\n        1.440e+02, 1.740e+02, 1.730e+02, 1.980e+02, 1.630e+02, 1.680e+02,\n        1.820e+02, 1.730e+02, 1.690e+02, 1.880e+02, 1.790e+02, 1.890e+02,\n        1.880e+02, 1.540e+02, 1.830e+02, 1.830e+02, 1.690e+02, 1.760e+02,\n        1.680e+02, 1.640e+02, 1.740e+02, 1.850e+02, 1.430e+02, 1.580e+02,\n        1.890e+02, 1.910e+02, 1.910e+02, 1.780e+02, 1.830e+02, 1.820e+02,\n        1.690e+02, 1.720e+02, 1.750e+02, 1.820e+02, 1.790e+02, 1.610e+02,\n        1.850e+02, 1.810e+02, 1.770e+02, 1.780e+02, 1.910e+02, 1.840e+02,\n        1.880e+02, 1.790e+02, 1.860e+02, 1.990e+02, 1.940e+02, 1.840e+02,\n        2.030e+02, 1.940e+02, 1.820e+02, 2.080e+02, 1.880e+02, 2.440e+02,\n        2.090e+02, 2.190e+02, 2.510e+02, 2.730e+02, 2.510e+02, 2.840e+02,\n        3.250e+02, 3.430e+02, 3.960e+02, 4.270e+02, 4.500e+02, 4.790e+02,\n        5.510e+02, 5.820e+02, 7.110e+02, 7.720e+02, 7.890e+02, 8.090e+02,\n        9.160e+02, 8.920e+02, 8.730e+02, 9.100e+02, 8.630e+02, 7.990e+02,\n        8.030e+02, 7.910e+02, 7.780e+02, 7.720e+02, 6.800e+02, 7.020e+02,\n        6.040e+02, 6.450e+02, 5.760e+02, 5.850e+02, 5.700e+02, 5.820e+02,\n        5.480e+02, 5.650e+02, 4.880e+02, 4.880e+02, 5.120e+02, 4.700e+02,\n        4.460e+02, 4.410e+02, 4.550e+02, 4.070e+02, 4.040e+02, 3.840e+02,\n        3.870e+02, 3.890e+02, 3.420e+02, 3.560e+02, 3.990e+02, 3.510e+02,\n        3.500e+02, 3.500e+02, 3.280e+02, 3.130e+02, 3.470e+02, 3.320e+02,\n        3.480e+02, 3.130e+02, 2.840e+02, 3.260e+02, 3.380e+02, 3.140e+02,\n        3.220e+02, 3.570e+02, 3.520e+02, 3.570e+02, 3.380e+02, 3.530e+02,\n        3.190e+02, 3.790e+02, 3.640e+02, 3.300e+02, 3.520e+02, 4.150e+02,\n        3.990e+02, 4.600e+02, 4.610e+02, 4.950e+02, 5.740e+02, 5.470e+02,\n        5.960e+02, 6.090e+02, 6.450e+02, 5.970e+02, 6.640e+02, 6.660e+02,\n        6.690e+02, 6.320e+02, 6.420e+02, 6.160e+02, 6.390e+02, 5.880e+02,\n        5.930e+02, 5.530e+02, 5.150e+02, 5.070e+02, 5.170e+02, 5.100e+02,\n        5.020e+02, 4.890e+02, 4.400e+02, 4.980e+02, 5.010e+02, 4.020e+02,\n        4.290e+02, 4.510e+02, 4.440e+02, 4.310e+02, 4.280e+02, 3.910e+02,\n        3.650e+02, 4.150e+02, 4.080e+02, 3.870e+02, 3.650e+02, 3.320e+02,\n        3.750e+02, 3.590e+02, 3.410e+02, 3.440e+02, 3.350e+02, 3.330e+02,\n        3.240e+02, 3.060e+02, 3.490e+02, 3.350e+02, 2.700e+02, 3.320e+02,\n        2.750e+02, 3.070e+02, 2.950e+02, 3.520e+02, 3.100e+02, 3.380e+02,\n        3.430e+02, 3.020e+02, 2.980e+02, 3.180e+02, 2.980e+02, 2.810e+02,\n        3.090e+02, 2.970e+02, 2.710e+02, 2.670e+02, 2.900e+02, 2.930e+02,\n        2.790e+02, 2.900e+02, 2.790e+02, 2.460e+02, 2.890e+02, 2.570e+02,\n        2.940e+02, 3.000e+02, 2.800e+02, 3.140e+02, 3.010e+02, 3.200e+02,\n        3.040e+02, 3.050e+02, 3.060e+02, 3.620e+02, 3.580e+02, 3.470e+02,\n        3.620e+02, 3.910e+02, 3.980e+02, 3.800e+02, 4.300e+02, 4.510e+02,\n        5.040e+02, 5.170e+02, 5.220e+02, 4.780e+02, 5.070e+02, 5.610e+02,\n        5.670e+02, 5.420e+02, 5.060e+02, 5.220e+02, 5.460e+02, 5.700e+02,\n        5.260e+02, 5.350e+02, 5.140e+02, 5.510e+02, 5.600e+02, 4.990e+02,\n        5.170e+02, 5.660e+02, 6.170e+02, 5.490e+02, 6.120e+02, 6.740e+02,\n        6.760e+02, 6.980e+02, 7.410e+02, 8.020e+02, 8.040e+02, 8.440e+02,\n        8.590e+02, 8.260e+02, 9.250e+02, 9.230e+02, 8.630e+02, 8.930e+02,\n        8.460e+02, 8.240e+02, 8.420e+02, 8.150e+02, 7.760e+02, 8.590e+02,\n        7.610e+02, 7.300e+02, 7.860e+02, 7.320e+02, 6.940e+02, 7.070e+02,\n        6.390e+02, 6.370e+02, 6.190e+02, 6.000e+02, 5.780e+02, 5.300e+02,\n        5.610e+02, 5.580e+02, 5.550e+02, 5.400e+02, 5.380e+02, 5.570e+02,\n        5.440e+02, 5.320e+02, 5.300e+02, 4.860e+02, 5.370e+02, 4.810e+02,\n        4.600e+02, 4.630e+02, 5.020e+02, 4.940e+02, 4.900e+02, 4.870e+02,\n        4.710e+02, 5.000e+02, 4.650e+02, 4.550e+02, 4.330e+02, 4.630e+02,\n        4.380e+02, 4.170e+02, 4.410e+02, 4.090e+02, 4.580e+02, 4.400e+02,\n        4.250e+02, 4.510e+02, 4.230e+02, 4.440e+02, 4.300e+02, 4.450e+02,\n        4.550e+02, 4.340e+02, 4.390e+02, 4.410e+02, 4.680e+02, 4.770e+02,\n        4.960e+02, 4.670e+02, 5.250e+02, 5.000e+02, 5.350e+02, 5.670e+02,\n        5.580e+02, 5.620e+02, 5.910e+02, 6.240e+02, 6.420e+02, 6.350e+02,\n        6.430e+02, 6.600e+02, 6.490e+02, 6.190e+02, 6.530e+02, 6.480e+02,\n        6.420e+02, 6.330e+02, 6.620e+02, 6.230e+02, 6.090e+02, 6.380e+02,\n        6.120e+02, 6.110e+02, 6.300e+02, 5.660e+02, 5.840e+02, 5.920e+02,\n        5.700e+02, 5.860e+02, 5.610e+02, 5.310e+02, 5.440e+02, 5.500e+02,\n        5.430e+02, 5.430e+02, 5.060e+02, 5.260e+02, 5.230e+02, 4.740e+02,\n        5.050e+02, 4.650e+02, 5.020e+02, 4.890e+02, 4.940e+02, 4.470e+02,\n        4.960e+02, 4.520e+02, 4.520e+02, 4.810e+02, 4.730e+02, 4.460e+02,\n        4.830e+02, 4.520e+02, 4.540e+02, 4.300e+02, 4.590e+02, 4.250e+02,\n        4.420e+02, 4.460e+02, 4.270e+02, 4.270e+02, 4.510e+02, 4.330e+02,\n        4.600e+02, 4.920e+02, 4.590e+02, 4.480e+02, 5.160e+02, 5.200e+02,\n        5.170e+02, 5.280e+02, 5.240e+02, 6.620e+02, 6.250e+02, 6.250e+02,\n        6.580e+02, 6.990e+02, 6.990e+02, 7.190e+02, 7.350e+02, 7.330e+02,\n        7.900e+02, 7.480e+02, 6.880e+02, 7.250e+02, 6.940e+02, 7.280e+02,\n        7.230e+02, 6.770e+02, 6.590e+02, 7.020e+02, 6.640e+02, 6.820e+02,\n        6.390e+02, 6.510e+02, 6.660e+02, 6.440e+02, 6.500e+02, 6.080e+02,\n        6.270e+02, 5.770e+02, 5.890e+02, 6.050e+02, 6.030e+02, 5.850e+02,\n        5.620e+02, 5.710e+02, 6.330e+02, 6.250e+02, 6.250e+02, 5.850e+02,\n        6.450e+02, 6.580e+02, 6.810e+02, 6.740e+02, 7.310e+02, 7.720e+02,\n        7.630e+02, 8.200e+02, 8.470e+02, 8.650e+02, 8.230e+02, 8.910e+02,\n        8.970e+02, 8.850e+02, 9.390e+02, 8.890e+02, 8.510e+02, 8.610e+02,\n        8.800e+02, 8.150e+02, 8.260e+02, 7.910e+02, 8.390e+02, 7.720e+02,\n        7.570e+02, 7.490e+02, 7.470e+02, 7.700e+02, 7.050e+02, 6.910e+02,\n        7.430e+02, 7.660e+02, 7.040e+02, 7.000e+02, 7.460e+02, 6.830e+02,\n        6.570e+02, 6.620e+02, 6.510e+02, 6.170e+02, 6.040e+02, 6.830e+02,\n        6.340e+02, 6.470e+02, 6.520e+02, 6.660e+02, 6.390e+02, 6.240e+02,\n        6.430e+02, 6.460e+02, 6.610e+02, 6.450e+02, 6.280e+02, 6.130e+02,\n        5.870e+02, 5.950e+02, 5.890e+02, 6.480e+02, 6.270e+02, 6.080e+02,\n        6.260e+02, 5.640e+02, 6.070e+02, 5.850e+02, 5.770e+02, 6.150e+02,\n        5.730e+02, 5.840e+02, 5.500e+02, 5.760e+02, 5.310e+02, 5.500e+02,\n        5.810e+02, 5.600e+02, 5.710e+02, 5.610e+02, 5.650e+02, 5.730e+02,\n        5.500e+02, 5.490e+02, 5.720e+02, 5.960e+02, 6.370e+02, 6.140e+02,\n        5.880e+02, 6.500e+02, 6.320e+02, 6.370e+02, 6.830e+02, 7.260e+02,\n        6.660e+02, 6.780e+02, 6.840e+02, 7.750e+02, 7.030e+02, 6.840e+02,\n        7.200e+02, 7.730e+02, 7.680e+02, 6.730e+02, 6.970e+02, 6.950e+02,\n        6.820e+02, 6.860e+02, 6.870e+02, 6.750e+02, 6.000e+02, 6.440e+02,\n        6.870e+02, 6.900e+02, 6.710e+02, 6.630e+02, 6.760e+02, 6.930e+02,\n        6.840e+02, 6.760e+02, 6.570e+02]),\n array([  0.        ,   0.1001001 ,   0.2002002 ,   0.3003003 ,\n          0.4004004 ,   0.5005005 ,   0.6006006 ,   0.7007007 ,\n          0.8008008 ,   0.9009009 ,   1.001001  ,   1.1011011 ,\n          1.2012012 ,   1.3013013 ,   1.4014014 ,   1.5015015 ,\n          1.6016016 ,   1.7017017 ,   1.8018018 ,   1.9019019 ,\n          2.002002  ,   2.1021021 ,   2.2022022 ,   2.3023023 ,\n          2.4024024 ,   2.5025025 ,   2.6026026 ,   2.7027027 ,\n          2.8028028 ,   2.9029029 ,   3.003003  ,   3.1031031 ,\n          3.2032032 ,   3.3033033 ,   3.4034034 ,   3.5035035 ,\n          3.6036036 ,   3.7037037 ,   3.8038038 ,   3.9039039 ,\n          4.004004  ,   4.1041041 ,   4.2042042 ,   4.3043043 ,\n          4.4044044 ,   4.5045045 ,   4.6046046 ,   4.7047047 ,\n          4.8048048 ,   4.9049049 ,   5.00500501,   5.10510511,\n          5.20520521,   5.30530531,   5.40540541,   5.50550551,\n          5.60560561,   5.70570571,   5.80580581,   5.90590591,\n          6.00600601,   6.10610611,   6.20620621,   6.30630631,\n          6.40640641,   6.50650651,   6.60660661,   6.70670671,\n          6.80680681,   6.90690691,   7.00700701,   7.10710711,\n          7.20720721,   7.30730731,   7.40740741,   7.50750751,\n          7.60760761,   7.70770771,   7.80780781,   7.90790791,\n          8.00800801,   8.10810811,   8.20820821,   8.30830831,\n          8.40840841,   8.50850851,   8.60860861,   8.70870871,\n          8.80880881,   8.90890891,   9.00900901,   9.10910911,\n          9.20920921,   9.30930931,   9.40940941,   9.50950951,\n          9.60960961,   9.70970971,   9.80980981,   9.90990991,\n         10.01001001,  10.11011011,  10.21021021,  10.31031031,\n         10.41041041,  10.51051051,  10.61061061,  10.71071071,\n         10.81081081,  10.91091091,  11.01101101,  11.11111111,\n         11.21121121,  11.31131131,  11.41141141,  11.51151151,\n         11.61161161,  11.71171171,  11.81181181,  11.91191191,\n         12.01201201,  12.11211211,  12.21221221,  12.31231231,\n         12.41241241,  12.51251251,  12.61261261,  12.71271271,\n         12.81281281,  12.91291291,  13.01301301,  13.11311311,\n         13.21321321,  13.31331331,  13.41341341,  13.51351351,\n         13.61361361,  13.71371371,  13.81381381,  13.91391391,\n         14.01401401,  14.11411411,  14.21421421,  14.31431431,\n         14.41441441,  14.51451451,  14.61461461,  14.71471471,\n         14.81481481,  14.91491491,  15.01501502,  15.11511512,\n         15.21521522,  15.31531532,  15.41541542,  15.51551552,\n         15.61561562,  15.71571572,  15.81581582,  15.91591592,\n         16.01601602,  16.11611612,  16.21621622,  16.31631632,\n         16.41641642,  16.51651652,  16.61661662,  16.71671672,\n         16.81681682,  16.91691692,  17.01701702,  17.11711712,\n         17.21721722,  17.31731732,  17.41741742,  17.51751752,\n         17.61761762,  17.71771772,  17.81781782,  17.91791792,\n         18.01801802,  18.11811812,  18.21821822,  18.31831832,\n         18.41841842,  18.51851852,  18.61861862,  18.71871872,\n         18.81881882,  18.91891892,  19.01901902,  19.11911912,\n         19.21921922,  19.31931932,  19.41941942,  19.51951952,\n         19.61961962,  19.71971972,  19.81981982,  19.91991992,\n         20.02002002,  20.12012012,  20.22022022,  20.32032032,\n         20.42042042,  20.52052052,  20.62062062,  20.72072072,\n         20.82082082,  20.92092092,  21.02102102,  21.12112112,\n         21.22122122,  21.32132132,  21.42142142,  21.52152152,\n         21.62162162,  21.72172172,  21.82182182,  21.92192192,\n         22.02202202,  22.12212212,  22.22222222,  22.32232232,\n         22.42242242,  22.52252252,  22.62262262,  22.72272272,\n         22.82282282,  22.92292292,  23.02302302,  23.12312312,\n         23.22322322,  23.32332332,  23.42342342,  23.52352352,\n         23.62362362,  23.72372372,  23.82382382,  23.92392392,\n         24.02402402,  24.12412412,  24.22422422,  24.32432432,\n         24.42442442,  24.52452452,  24.62462462,  24.72472472,\n         24.82482482,  24.92492492,  25.02502503,  25.12512513,\n         25.22522523,  25.32532533,  25.42542543,  25.52552553,\n         25.62562563,  25.72572573,  25.82582583,  25.92592593,\n         26.02602603,  26.12612613,  26.22622623,  26.32632633,\n         26.42642643,  26.52652653,  26.62662663,  26.72672673,\n         26.82682683,  26.92692693,  27.02702703,  27.12712713,\n         27.22722723,  27.32732733,  27.42742743,  27.52752753,\n         27.62762763,  27.72772773,  27.82782783,  27.92792793,\n         28.02802803,  28.12812813,  28.22822823,  28.32832833,\n         28.42842843,  28.52852853,  28.62862863,  28.72872873,\n         28.82882883,  28.92892893,  29.02902903,  29.12912913,\n         29.22922923,  29.32932933,  29.42942943,  29.52952953,\n         29.62962963,  29.72972973,  29.82982983,  29.92992993,\n         30.03003003,  30.13013013,  30.23023023,  30.33033033,\n         30.43043043,  30.53053053,  30.63063063,  30.73073073,\n         30.83083083,  30.93093093,  31.03103103,  31.13113113,\n         31.23123123,  31.33133133,  31.43143143,  31.53153153,\n         31.63163163,  31.73173173,  31.83183183,  31.93193193,\n         32.03203203,  32.13213213,  32.23223223,  32.33233233,\n         32.43243243,  32.53253253,  32.63263263,  32.73273273,\n         32.83283283,  32.93293293,  33.03303303,  33.13313313,\n         33.23323323,  33.33333333,  33.43343343,  33.53353353,\n         33.63363363,  33.73373373,  33.83383383,  33.93393393,\n         34.03403403,  34.13413413,  34.23423423,  34.33433433,\n         34.43443443,  34.53453453,  34.63463463,  34.73473473,\n         34.83483483,  34.93493493,  35.03503504,  35.13513514,\n         35.23523524,  35.33533534,  35.43543544,  35.53553554,\n         35.63563564,  35.73573574,  35.83583584,  35.93593594,\n         36.03603604,  36.13613614,  36.23623624,  36.33633634,\n         36.43643644,  36.53653654,  36.63663664,  36.73673674,\n         36.83683684,  36.93693694,  37.03703704,  37.13713714,\n         37.23723724,  37.33733734,  37.43743744,  37.53753754,\n         37.63763764,  37.73773774,  37.83783784,  37.93793794,\n         38.03803804,  38.13813814,  38.23823824,  38.33833834,\n         38.43843844,  38.53853854,  38.63863864,  38.73873874,\n         38.83883884,  38.93893894,  39.03903904,  39.13913914,\n         39.23923924,  39.33933934,  39.43943944,  39.53953954,\n         39.63963964,  39.73973974,  39.83983984,  39.93993994,\n         40.04004004,  40.14014014,  40.24024024,  40.34034034,\n         40.44044044,  40.54054054,  40.64064064,  40.74074074,\n         40.84084084,  40.94094094,  41.04104104,  41.14114114,\n         41.24124124,  41.34134134,  41.44144144,  41.54154154,\n         41.64164164,  41.74174174,  41.84184184,  41.94194194,\n         42.04204204,  42.14214214,  42.24224224,  42.34234234,\n         42.44244244,  42.54254254,  42.64264264,  42.74274274,\n         42.84284284,  42.94294294,  43.04304304,  43.14314314,\n         43.24324324,  43.34334334,  43.44344344,  43.54354354,\n         43.64364364,  43.74374374,  43.84384384,  43.94394394,\n         44.04404404,  44.14414414,  44.24424424,  44.34434434,\n         44.44444444,  44.54454454,  44.64464464,  44.74474474,\n         44.84484484,  44.94494494,  45.04504505,  45.14514515,\n         45.24524525,  45.34534535,  45.44544545,  45.54554555,\n         45.64564565,  45.74574575,  45.84584585,  45.94594595,\n         46.04604605,  46.14614615,  46.24624625,  46.34634635,\n         46.44644645,  46.54654655,  46.64664665,  46.74674675,\n         46.84684685,  46.94694695,  47.04704705,  47.14714715,\n         47.24724725,  47.34734735,  47.44744745,  47.54754755,\n         47.64764765,  47.74774775,  47.84784785,  47.94794795,\n         48.04804805,  48.14814815,  48.24824825,  48.34834835,\n         48.44844845,  48.54854855,  48.64864865,  48.74874875,\n         48.84884885,  48.94894895,  49.04904905,  49.14914915,\n         49.24924925,  49.34934935,  49.44944945,  49.54954955,\n         49.64964965,  49.74974975,  49.84984985,  49.94994995,\n         50.05005005,  50.15015015,  50.25025025,  50.35035035,\n         50.45045045,  50.55055055,  50.65065065,  50.75075075,\n         50.85085085,  50.95095095,  51.05105105,  51.15115115,\n         51.25125125,  51.35135135,  51.45145145,  51.55155155,\n         51.65165165,  51.75175175,  51.85185185,  51.95195195,\n         52.05205205,  52.15215215,  52.25225225,  52.35235235,\n         52.45245245,  52.55255255,  52.65265265,  52.75275275,\n         52.85285285,  52.95295295,  53.05305305,  53.15315315,\n         53.25325325,  53.35335335,  53.45345345,  53.55355355,\n         53.65365365,  53.75375375,  53.85385385,  53.95395395,\n         54.05405405,  54.15415415,  54.25425425,  54.35435435,\n         54.45445445,  54.55455455,  54.65465465,  54.75475475,\n         54.85485485,  54.95495495,  55.05505506,  55.15515516,\n         55.25525526,  55.35535536,  55.45545546,  55.55555556,\n         55.65565566,  55.75575576,  55.85585586,  55.95595596,\n         56.05605606,  56.15615616,  56.25625626,  56.35635636,\n         56.45645646,  56.55655656,  56.65665666,  56.75675676,\n         56.85685686,  56.95695696,  57.05705706,  57.15715716,\n         57.25725726,  57.35735736,  57.45745746,  57.55755756,\n         57.65765766,  57.75775776,  57.85785786,  57.95795796,\n         58.05805806,  58.15815816,  58.25825826,  58.35835836,\n         58.45845846,  58.55855856,  58.65865866,  58.75875876,\n         58.85885886,  58.95895896,  59.05905906,  59.15915916,\n         59.25925926,  59.35935936,  59.45945946,  59.55955956,\n         59.65965966,  59.75975976,  59.85985986,  59.95995996,\n         60.06006006,  60.16016016,  60.26026026,  60.36036036,\n         60.46046046,  60.56056056,  60.66066066,  60.76076076,\n         60.86086086,  60.96096096,  61.06106106,  61.16116116,\n         61.26126126,  61.36136136,  61.46146146,  61.56156156,\n         61.66166166,  61.76176176,  61.86186186,  61.96196196,\n         62.06206206,  62.16216216,  62.26226226,  62.36236236,\n         62.46246246,  62.56256256,  62.66266266,  62.76276276,\n         62.86286286,  62.96296296,  63.06306306,  63.16316316,\n         63.26326326,  63.36336336,  63.46346346,  63.56356356,\n         63.66366366,  63.76376376,  63.86386386,  63.96396396,\n         64.06406406,  64.16416416,  64.26426426,  64.36436436,\n         64.46446446,  64.56456456,  64.66466466,  64.76476476,\n         64.86486486,  64.96496496,  65.06506507,  65.16516517,\n         65.26526527,  65.36536537,  65.46546547,  65.56556557,\n         65.66566567,  65.76576577,  65.86586587,  65.96596597,\n         66.06606607,  66.16616617,  66.26626627,  66.36636637,\n         66.46646647,  66.56656657,  66.66666667,  66.76676677,\n         66.86686687,  66.96696697,  67.06706707,  67.16716717,\n         67.26726727,  67.36736737,  67.46746747,  67.56756757,\n         67.66766767,  67.76776777,  67.86786787,  67.96796797,\n         68.06806807,  68.16816817,  68.26826827,  68.36836837,\n         68.46846847,  68.56856857,  68.66866867,  68.76876877,\n         68.86886887,  68.96896897,  69.06906907,  69.16916917,\n         69.26926927,  69.36936937,  69.46946947,  69.56956957,\n         69.66966967,  69.76976977,  69.86986987,  69.96996997,\n         70.07007007,  70.17017017,  70.27027027,  70.37037037,\n         70.47047047,  70.57057057,  70.67067067,  70.77077077,\n         70.87087087,  70.97097097,  71.07107107,  71.17117117,\n         71.27127127,  71.37137137,  71.47147147,  71.57157157,\n         71.67167167,  71.77177177,  71.87187187,  71.97197197,\n         72.07207207,  72.17217217,  72.27227227,  72.37237237,\n         72.47247247,  72.57257257,  72.67267267,  72.77277277,\n         72.87287287,  72.97297297,  73.07307307,  73.17317317,\n         73.27327327,  73.37337337,  73.47347347,  73.57357357,\n         73.67367367,  73.77377377,  73.87387387,  73.97397397,\n         74.07407407,  74.17417417,  74.27427427,  74.37437437,\n         74.47447447,  74.57457457,  74.67467467,  74.77477477,\n         74.87487487,  74.97497497,  75.07507508,  75.17517518,\n         75.27527528,  75.37537538,  75.47547548,  75.57557558,\n         75.67567568,  75.77577578,  75.87587588,  75.97597598,\n         76.07607608,  76.17617618,  76.27627628,  76.37637638,\n         76.47647648,  76.57657658,  76.67667668,  76.77677678,\n         76.87687688,  76.97697698,  77.07707708,  77.17717718,\n         77.27727728,  77.37737738,  77.47747748,  77.57757758,\n         77.67767768,  77.77777778,  77.87787788,  77.97797798,\n         78.07807808,  78.17817818,  78.27827828,  78.37837838,\n         78.47847848,  78.57857858,  78.67867868,  78.77877878,\n         78.87887888,  78.97897898,  79.07907908,  79.17917918,\n         79.27927928,  79.37937938,  79.47947948,  79.57957958,\n         79.67967968,  79.77977978,  79.87987988,  79.97997998,\n         80.08008008,  80.18018018,  80.28028028,  80.38038038,\n         80.48048048,  80.58058058,  80.68068068,  80.78078078,\n         80.88088088,  80.98098098,  81.08108108,  81.18118118,\n         81.28128128,  81.38138138,  81.48148148,  81.58158158,\n         81.68168168,  81.78178178,  81.88188188,  81.98198198,\n         82.08208208,  82.18218218,  82.28228228,  82.38238238,\n         82.48248248,  82.58258258,  82.68268268,  82.78278278,\n         82.88288288,  82.98298298,  83.08308308,  83.18318318,\n         83.28328328,  83.38338338,  83.48348348,  83.58358358,\n         83.68368368,  83.78378378,  83.88388388,  83.98398398,\n         84.08408408,  84.18418418,  84.28428428,  84.38438438,\n         84.48448448,  84.58458458,  84.68468468,  84.78478478,\n         84.88488488,  84.98498498,  85.08508509,  85.18518519,\n         85.28528529,  85.38538539,  85.48548549,  85.58558559,\n         85.68568569,  85.78578579,  85.88588589,  85.98598599,\n         86.08608609,  86.18618619,  86.28628629,  86.38638639,\n         86.48648649,  86.58658659,  86.68668669,  86.78678679,\n         86.88688689,  86.98698699,  87.08708709,  87.18718719,\n         87.28728729,  87.38738739,  87.48748749,  87.58758759,\n         87.68768769,  87.78778779,  87.88788789,  87.98798799,\n         88.08808809,  88.18818819,  88.28828829,  88.38838839,\n         88.48848849,  88.58858859,  88.68868869,  88.78878879,\n         88.88888889,  88.98898899,  89.08908909,  89.18918919,\n         89.28928929,  89.38938939,  89.48948949,  89.58958959,\n         89.68968969,  89.78978979,  89.88988989,  89.98998999,\n         90.09009009,  90.19019019,  90.29029029,  90.39039039,\n         90.49049049,  90.59059059,  90.69069069,  90.79079079,\n         90.89089089,  90.99099099,  91.09109109,  91.19119119,\n         91.29129129,  91.39139139,  91.49149149,  91.59159159,\n         91.69169169,  91.79179179,  91.89189189,  91.99199199,\n         92.09209209,  92.19219219,  92.29229229,  92.39239239,\n         92.49249249,  92.59259259,  92.69269269,  92.79279279,\n         92.89289289,  92.99299299,  93.09309309,  93.19319319,\n         93.29329329,  93.39339339,  93.49349349,  93.59359359,\n         93.69369369,  93.79379379,  93.89389389,  93.99399399,\n         94.09409409,  94.19419419,  94.29429429,  94.39439439,\n         94.49449449,  94.59459459,  94.69469469,  94.79479479,\n         94.89489489,  94.99499499,  95.0950951 ,  95.1951952 ,\n         95.2952953 ,  95.3953954 ,  95.4954955 ,  95.5955956 ,\n         95.6956957 ,  95.7957958 ,  95.8958959 ,  95.995996  ,\n         96.0960961 ,  96.1961962 ,  96.2962963 ,  96.3963964 ,\n         96.4964965 ,  96.5965966 ,  96.6966967 ,  96.7967968 ,\n         96.8968969 ,  96.996997  ,  97.0970971 ,  97.1971972 ,\n         97.2972973 ,  97.3973974 ,  97.4974975 ,  97.5975976 ,\n         97.6976977 ,  97.7977978 ,  97.8978979 ,  97.997998  ,\n         98.0980981 ,  98.1981982 ,  98.2982983 ,  98.3983984 ,\n         98.4984985 ,  98.5985986 ,  98.6986987 ,  98.7987988 ,\n         98.8988989 ,  98.998999  ,  99.0990991 ,  99.1991992 ,\n         99.2992993 ,  99.3993994 ,  99.4994995 ,  99.5995996 ,\n         99.6996997 ,  99.7997998 ,  99.8998999 , 100.        ]),\n <BarContainer object of 999 artists>)"
     },
     "execution_count": 35,
     "metadata": {},
     "output_type": "execute_result"
    }
   ],
   "source": [
    "dists = spatial.distance.pdist(frame0[['x', 'y']].values)\n",
    "# dists = spatial.distance.squareform(dists)\n",
    "plt.hist(dists, bins=np.linspace(0, 100, 1000))"
   ],
   "metadata": {
    "collapsed": false,
    "pycharm": {
     "name": "#%%\n"
    }
   }
  },
  {
   "cell_type": "code",
   "execution_count": 45,
   "outputs": [
    {
     "name": "stdout",
     "output_type": "stream",
     "text": [
      "Using matplotlib backend: Qt5Agg\n"
     ]
    },
    {
     "name": "stderr",
     "output_type": "stream",
     "text": [
      "/home/ppxjd3/.local/lib/python3.7/site-packages/ipykernel_launcher.py:10: SettingWithCopyWarning: \n",
      "A value is trying to be set on a copy of a slice from a DataFrame.\n",
      "Try using .loc[row_indexer,col_indexer] = value instead\n",
      "\n",
      "See the caveats in the documentation: https://pandas.pydata.org/pandas-docs/stable/user_guide/indexing.html#returning-a-view-versus-a-copy\n",
      "  # Remove the CWD from sys.path while we load stuff.\n"
     ]
    }
   ],
   "source": [
    "import freud\n",
    "\n",
    "%matplotlib auto\n",
    "directory = \"/media/data/Data/BallBearing/Repeats/1,95mm\"\n",
    "files = filehandling.get_directory_filenames(directory+'/*.hdf5')\n",
    "for file in files[:1]:\n",
    "    data = pd.read_hdf(file)\n",
    "    frame0 = data.loc[0]\n",
    "    frame0 = get_order_product(frame0)\n",
    "    frame0['z'] = 0\n",
    "    points = frame0[['x', 'y', 'z']].values\n",
    "    points_above = points[frame0.hexatic_order_product.values > 0.5, :]\n",
    "    cl = freud.cluster.Cluster()\n",
    "    box = freud.box.Box(Lx=2*frame0.x.max(), Ly=2*frame0.y.max(), is2D=True)\n",
    "    cl.compute((box, points_above), neighbors={'r_max': 30})\n",
    "\n",
    "    cl_props = freud.cluster.ClusterProperties()\n",
    "    cl_props.compute((box, points_above), cl.cluster_idx)\n",
    "\n",
    "    # plt.figure()\n",
    "    # plt.scatter(frame0.x.values, frame0.y.values, c=np.abs(frame0.hexatic_order_product.values)>0.5)"
   ],
   "metadata": {
    "collapsed": false,
    "pycharm": {
     "name": "#%%\n"
    }
   }
  },
  {
   "cell_type": "code",
   "execution_count": 46,
   "outputs": [
    {
     "name": "stdout",
     "output_type": "stream",
     "text": [
      "[571.5664 810.1903   0.    ]\n",
      "[733.65454 416.95886   0.     ]\n",
      "[1300.6133 1971.8007    0.    ]\n",
      "[ 556.7241 1112.711     0.    ]\n",
      "[942.5134  486.21863   0.     ]\n",
      "[ 630.2859 1882.0223    0.    ]\n",
      "[ 874.5867 1933.5651    0.    ]\n",
      "[497.54492 529.81165   0.     ]\n",
      "[1343.2339   240.06897    0.     ]\n",
      "[ 970.4175 1775.9396    0.    ]\n",
      "[ 638.02734 1591.7633     0.     ]\n",
      "[1832.6362   348.04504    0.     ]\n",
      "[1290.5581  545.3668    0.    ]\n",
      "[ 580.3323 1352.5206    0.    ]\n",
      "[885.6826  241.17493   0.     ]\n",
      "[ 772.5935 1250.5519    0.    ]\n",
      "[ 768.6299 1038.1898    0.    ]\n",
      "[1838.4424  565.234     0.    ]\n",
      "[ 356.60547 1160.3046     0.     ]\n",
      "[ 359.7339 1332.0358    0.    ]\n",
      "[1642.5076   452.39368    0.     ]\n",
      "[1137.8083  573.161     0.    ]\n",
      "[1376.0674 1627.2582    0.    ]\n",
      "[1204.7847 1641.6886    0.    ]\n",
      "[1705.542    152.97571    0.     ]\n",
      "[725.11694 172.0055    0.     ]\n",
      "[ 783.04297 1482.055      0.     ]\n",
      "[ 836.22876 1674.9606     0.     ]\n",
      "[1512.4495   192.62292    0.     ]\n",
      "[1156.947    396.51526    0.     ]\n",
      "[1473.0981   524.91125    0.     ]\n",
      "[798.8784 837.1981   0.    ]\n",
      "[1957.4365 1519.2899    0.    ]\n",
      "[794.62354 641.70984   0.     ]\n",
      "[326.7915 837.8534   0.    ]\n",
      "[1001.86865 1593.5626     0.     ]\n",
      "[1210.0325 1806.3495    0.    ]\n",
      "[ 917.22046 1165.9576     0.     ]\n",
      "[578.21875 225.04626   0.     ]\n",
      "[543.4487 308.3651   0.    ]\n",
      "[ 921.272  1351.2125    0.    ]\n",
      "[1173.0293   111.29675    0.     ]\n",
      "[1523.478    342.43713    0.     ]\n",
      "[1155.8826  252.6388    0.    ]\n",
      "[1276.5781  790.3727    0.    ]\n",
      "[1326.0154   426.50964    0.     ]\n",
      "[1946.9893   437.94153    0.     ]\n",
      "[337.50684 731.36633   0.     ]\n",
      "[1843.5806 1181.4069    0.    ]\n",
      "[1372.3379 1841.7286    0.    ]\n",
      "[1701.0466     65.476685    0.      ]\n",
      "[1026.5334   228.57458    0.     ]\n",
      "[592.24097 599.58997   0.     ]\n",
      "[310.4956  643.84265   0.     ]\n",
      "[942.4458  748.20447   0.     ]\n",
      "[378.34277 980.96155   0.     ]\n",
      "[ 261.11206 1347.9855     0.     ]\n",
      "[466.82715 394.43665   0.     ]\n",
      "[2083.8604   624.52454    0.     ]\n",
      "[1451.2153  1014.64905    0.     ]\n",
      "[1138.9739 1431.9984    0.    ]\n",
      "[ 414.271  1617.0294    0.    ]\n",
      "[1120.186  1646.1583    0.    ]\n",
      "[1299.1348 1757.1329    0.    ]\n",
      "[1398.8892 1770.1154    0.    ]\n",
      "[1659.7734  260.7047    0.    ]\n",
      "[658.4485 528.0399   0.    ]\n",
      "[1882.2471   704.21936    0.     ]\n",
      "[933.657   915.80945   0.     ]\n",
      "[933.9297 951.1859   0.    ]\n",
      "[  88.78369 1067.797      0.     ]\n",
      "[ 453.35205 1253.736      0.     ]\n",
      "[ 212.48486 1275.4156     0.     ]\n",
      "[1111.8088 1370.6302    0.    ]\n",
      "[ 992.9346 1520.611     0.    ]\n",
      "[1839.8125 1624.191     0.    ]\n",
      "[ 432.70117 1664.7535     0.     ]\n",
      "[ 517.26514 1711.3507     0.     ]\n",
      "[ 694.28906 1752.68       0.     ]\n"
     ]
    }
   ],
   "source": [
    "fig, ax = plt.subplots()\n",
    "ax.scatter(points[:, 0], points[:, 1], c=frame0.hexatic_order_product.values>0.5)\n",
    "for c, r in zip(cl_props.centers, cl_props.radii_of_gyration):\n",
    "    cir = plt.Circle(c[:2], r)\n",
    "    ax.add_patch(cir)\n",
    "    print(c)\n",
    "\n",
    "\n"
   ],
   "metadata": {
    "collapsed": false,
    "pycharm": {
     "name": "#%%\n"
    }
   }
  },
  {
   "cell_type": "code",
   "execution_count": 23,
   "outputs": [],
   "source": [
    "def corr(df, r_min, r_max, dr):\n",
    "    r_values = np.arange(r_min, r_max, dr)\n",
    "    dists = spatial.distance.cdist(df[['x', 'y']].values, df[['x', 'y']].values).ravel()\n",
    "    orders = df.hexatic_order_product.values\n",
    "    orders_a, orders_b = np.meshgrid(orders, orders)\n",
    "    orders = (orders_a @ np.conj(orders_b).transpose()).ravel()\n",
    "    g6, _ = np.histogram(dists, bins=r_values, weights=orders)\n",
    "    plt.plot(r_values[:-1], g6)"
   ],
   "metadata": {
    "collapsed": false,
    "pycharm": {
     "name": "#%%\n"
    }
   }
  },
  {
   "cell_type": "code",
   "execution_count": 17,
   "outputs": [
    {
     "name": "stderr",
     "output_type": "stream",
     "text": [
      "/home/ppxjd3/.local/lib/python3.7/site-packages/ipykernel_launcher.py:10: SettingWithCopyWarning: \n",
      "A value is trying to be set on a copy of a slice from a DataFrame.\n",
      "Try using .loc[row_indexer,col_indexer] = value instead\n",
      "\n",
      "See the caveats in the documentation: https://pandas.pydata.org/pandas-docs/stable/user_guide/indexing.html#returning-a-view-versus-a-copy\n",
      "  # Remove the CWD from sys.path while we load stuff.\n",
      "/home/ppxjd3/miniconda3/envs/ExperimentsNew/lib/python3.7/site-packages/numpy/core/_asarray.py:85: ComplexWarning: Casting complex values to real discards the imaginary part\n",
      "  return array(a, dtype, copy=False, order=order)\n"
     ]
    },
    {
     "data": {
      "text/plain": "<Figure size 432x288 with 1 Axes>",
      "image/png": "[encoded data removed]"
     },
     "metadata": {
      "needs_background": "light"
     },
     "output_type": "display_data"
    }
   ],
   "source": [
    "data = pd.read_hdf(files[0])\n",
    "frame0 = data.loc[0]\n",
    "frame0 = get_order_product(frame0)\n",
    "corr(frame0, 1, 500, 0.1)"
   ],
   "metadata": {
    "collapsed": false,
    "pycharm": {
     "name": "#%%\n"
    }
   }
  },
  {
   "cell_type": "code",
   "execution_count": 3,
   "outputs": [],
   "source": [
    "from labvision import video, images\n",
    "\n",
    "vid = video.ReadVideo(\"/media/data/Data/BallBearing/Repeats/1,95mm/17810001.MP4\")\n",
    "im = vid.read_frame()"
   ],
   "metadata": {
    "collapsed": false,
    "pycharm": {
     "name": "#%%\n"
    }
   }
  },
  {
   "cell_type": "code",
   "execution_count": 7,
   "outputs": [],
   "source": [
    "crop_result = images.crop_polygon(im)"
   ],
   "metadata": {
    "collapsed": false,
    "pycharm": {
     "name": "#%%\n"
    }
   }
  },
  {
   "cell_type": "code",
   "execution_count": 4,
   "outputs": [
    {
     "data": {
      "text/plain": "[]"
     },
     "execution_count": 4,
     "metadata": {},
     "output_type": "execute_result"
    }
   ],
   "source": [
    "im2 = images.crop_and_mask(im, crop_result.bbox, crop_result.mask)\n",
    "images.display(im2)"
   ],
   "metadata": {
    "collapsed": false,
    "pycharm": {
     "name": "#%%\n"
    }
   }
  },
  {
   "cell_type": "code",
   "execution_count": 6,
   "outputs": [],
   "source": [
    "import numpy as np\n",
    "im_fft = np.fft.fft2(im2)"
   ],
   "metadata": {
    "collapsed": false,
    "pycharm": {
     "name": "#%%\n"
    }
   }
  },
  {
   "cell_type": "code",
   "execution_count": 8,
   "outputs": [
    {
     "ename": "TypeError",
     "evalue": "Image data of dtype complex128 cannot be converted to float",
     "output_type": "error",
     "traceback": [
      "\u001B[0;31m---------------------------------------------------------------------------\u001B[0m",
      "\u001B[0;31mTypeError\u001B[0m                                 Traceback (most recent call last)",
      "\u001B[0;32m<ipython-input-8-85fea7410e0c>\u001B[0m in \u001B[0;36m<module>\u001B[0;34m\u001B[0m\n\u001B[1;32m      1\u001B[0m \u001B[0;32mimport\u001B[0m \u001B[0mmatplotlib\u001B[0m\u001B[0;34m.\u001B[0m\u001B[0mpyplot\u001B[0m \u001B[0;32mas\u001B[0m \u001B[0mplt\u001B[0m\u001B[0;34m\u001B[0m\u001B[0;34m\u001B[0m\u001B[0m\n\u001B[0;32m----> 2\u001B[0;31m \u001B[0mplt\u001B[0m\u001B[0;34m.\u001B[0m\u001B[0mimshow\u001B[0m\u001B[0;34m(\u001B[0m\u001B[0mim_fft\u001B[0m\u001B[0;34m)\u001B[0m\u001B[0;34m\u001B[0m\u001B[0;34m\u001B[0m\u001B[0m\n\u001B[0m",
      "\u001B[0;32m~/miniconda3/envs/ExperimentsNew/lib/python3.7/site-packages/matplotlib/pyplot.py\u001B[0m in \u001B[0;36mimshow\u001B[0;34m(X, cmap, norm, aspect, interpolation, alpha, vmin, vmax, origin, extent, filternorm, filterrad, resample, url, data, **kwargs)\u001B[0m\n\u001B[1;32m   2728\u001B[0m         \u001B[0mfilternorm\u001B[0m\u001B[0;34m=\u001B[0m\u001B[0mfilternorm\u001B[0m\u001B[0;34m,\u001B[0m \u001B[0mfilterrad\u001B[0m\u001B[0;34m=\u001B[0m\u001B[0mfilterrad\u001B[0m\u001B[0;34m,\u001B[0m \u001B[0mresample\u001B[0m\u001B[0;34m=\u001B[0m\u001B[0mresample\u001B[0m\u001B[0;34m,\u001B[0m\u001B[0;34m\u001B[0m\u001B[0;34m\u001B[0m\u001B[0m\n\u001B[1;32m   2729\u001B[0m         \u001B[0murl\u001B[0m\u001B[0;34m=\u001B[0m\u001B[0murl\u001B[0m\u001B[0;34m,\u001B[0m \u001B[0;34m**\u001B[0m\u001B[0;34m(\u001B[0m\u001B[0;34m{\u001B[0m\u001B[0;34m\"data\"\u001B[0m\u001B[0;34m:\u001B[0m \u001B[0mdata\u001B[0m\u001B[0;34m}\u001B[0m \u001B[0;32mif\u001B[0m \u001B[0mdata\u001B[0m \u001B[0;32mis\u001B[0m \u001B[0;32mnot\u001B[0m \u001B[0;32mNone\u001B[0m \u001B[0;32melse\u001B[0m \u001B[0;34m{\u001B[0m\u001B[0;34m}\u001B[0m\u001B[0;34m)\u001B[0m\u001B[0;34m,\u001B[0m\u001B[0;34m\u001B[0m\u001B[0;34m\u001B[0m\u001B[0m\n\u001B[0;32m-> 2730\u001B[0;31m         **kwargs)\n\u001B[0m\u001B[1;32m   2731\u001B[0m     \u001B[0msci\u001B[0m\u001B[0;34m(\u001B[0m\u001B[0m__ret\u001B[0m\u001B[0;34m)\u001B[0m\u001B[0;34m\u001B[0m\u001B[0;34m\u001B[0m\u001B[0m\n\u001B[1;32m   2732\u001B[0m     \u001B[0;32mreturn\u001B[0m \u001B[0m__ret\u001B[0m\u001B[0;34m\u001B[0m\u001B[0;34m\u001B[0m\u001B[0m\n",
      "\u001B[0;32m~/miniconda3/envs/ExperimentsNew/lib/python3.7/site-packages/matplotlib/__init__.py\u001B[0m in \u001B[0;36minner\u001B[0;34m(ax, data, *args, **kwargs)\u001B[0m\n\u001B[1;32m   1445\u001B[0m     \u001B[0;32mdef\u001B[0m \u001B[0minner\u001B[0m\u001B[0;34m(\u001B[0m\u001B[0max\u001B[0m\u001B[0;34m,\u001B[0m \u001B[0;34m*\u001B[0m\u001B[0margs\u001B[0m\u001B[0;34m,\u001B[0m \u001B[0mdata\u001B[0m\u001B[0;34m=\u001B[0m\u001B[0;32mNone\u001B[0m\u001B[0;34m,\u001B[0m \u001B[0;34m**\u001B[0m\u001B[0mkwargs\u001B[0m\u001B[0;34m)\u001B[0m\u001B[0;34m:\u001B[0m\u001B[0;34m\u001B[0m\u001B[0;34m\u001B[0m\u001B[0m\n\u001B[1;32m   1446\u001B[0m         \u001B[0;32mif\u001B[0m \u001B[0mdata\u001B[0m \u001B[0;32mis\u001B[0m \u001B[0;32mNone\u001B[0m\u001B[0;34m:\u001B[0m\u001B[0;34m\u001B[0m\u001B[0;34m\u001B[0m\u001B[0m\n\u001B[0;32m-> 1447\u001B[0;31m             \u001B[0;32mreturn\u001B[0m \u001B[0mfunc\u001B[0m\u001B[0;34m(\u001B[0m\u001B[0max\u001B[0m\u001B[0;34m,\u001B[0m \u001B[0;34m*\u001B[0m\u001B[0mmap\u001B[0m\u001B[0;34m(\u001B[0m\u001B[0msanitize_sequence\u001B[0m\u001B[0;34m,\u001B[0m \u001B[0margs\u001B[0m\u001B[0;34m)\u001B[0m\u001B[0;34m,\u001B[0m \u001B[0;34m**\u001B[0m\u001B[0mkwargs\u001B[0m\u001B[0;34m)\u001B[0m\u001B[0;34m\u001B[0m\u001B[0;34m\u001B[0m\u001B[0m\n\u001B[0m\u001B[1;32m   1448\u001B[0m \u001B[0;34m\u001B[0m\u001B[0m\n\u001B[1;32m   1449\u001B[0m         \u001B[0mbound\u001B[0m \u001B[0;34m=\u001B[0m \u001B[0mnew_sig\u001B[0m\u001B[0;34m.\u001B[0m\u001B[0mbind\u001B[0m\u001B[0;34m(\u001B[0m\u001B[0max\u001B[0m\u001B[0;34m,\u001B[0m \u001B[0;34m*\u001B[0m\u001B[0margs\u001B[0m\u001B[0;34m,\u001B[0m \u001B[0;34m**\u001B[0m\u001B[0mkwargs\u001B[0m\u001B[0;34m)\u001B[0m\u001B[0;34m\u001B[0m\u001B[0;34m\u001B[0m\u001B[0m\n",
      "\u001B[0;32m~/miniconda3/envs/ExperimentsNew/lib/python3.7/site-packages/matplotlib/axes/_axes.py\u001B[0m in \u001B[0;36mimshow\u001B[0;34m(self, X, cmap, norm, aspect, interpolation, alpha, vmin, vmax, origin, extent, filternorm, filterrad, resample, url, **kwargs)\u001B[0m\n\u001B[1;32m   5521\u001B[0m                               resample=resample, **kwargs)\n\u001B[1;32m   5522\u001B[0m \u001B[0;34m\u001B[0m\u001B[0m\n\u001B[0;32m-> 5523\u001B[0;31m         \u001B[0mim\u001B[0m\u001B[0;34m.\u001B[0m\u001B[0mset_data\u001B[0m\u001B[0;34m(\u001B[0m\u001B[0mX\u001B[0m\u001B[0;34m)\u001B[0m\u001B[0;34m\u001B[0m\u001B[0;34m\u001B[0m\u001B[0m\n\u001B[0m\u001B[1;32m   5524\u001B[0m         \u001B[0mim\u001B[0m\u001B[0;34m.\u001B[0m\u001B[0mset_alpha\u001B[0m\u001B[0;34m(\u001B[0m\u001B[0malpha\u001B[0m\u001B[0;34m)\u001B[0m\u001B[0;34m\u001B[0m\u001B[0;34m\u001B[0m\u001B[0m\n\u001B[1;32m   5525\u001B[0m         \u001B[0;32mif\u001B[0m \u001B[0mim\u001B[0m\u001B[0;34m.\u001B[0m\u001B[0mget_clip_path\u001B[0m\u001B[0;34m(\u001B[0m\u001B[0;34m)\u001B[0m \u001B[0;32mis\u001B[0m \u001B[0;32mNone\u001B[0m\u001B[0;34m:\u001B[0m\u001B[0;34m\u001B[0m\u001B[0;34m\u001B[0m\u001B[0m\n",
      "\u001B[0;32m~/miniconda3/envs/ExperimentsNew/lib/python3.7/site-packages/matplotlib/image.py\u001B[0m in \u001B[0;36mset_data\u001B[0;34m(self, A)\u001B[0m\n\u001B[1;32m    701\u001B[0m                 not np.can_cast(self._A.dtype, float, \"same_kind\")):\n\u001B[1;32m    702\u001B[0m             raise TypeError(\"Image data of dtype {} cannot be converted to \"\n\u001B[0;32m--> 703\u001B[0;31m                             \"float\".format(self._A.dtype))\n\u001B[0m\u001B[1;32m    704\u001B[0m \u001B[0;34m\u001B[0m\u001B[0m\n\u001B[1;32m    705\u001B[0m         \u001B[0;32mif\u001B[0m \u001B[0mself\u001B[0m\u001B[0;34m.\u001B[0m\u001B[0m_A\u001B[0m\u001B[0;34m.\u001B[0m\u001B[0mndim\u001B[0m \u001B[0;34m==\u001B[0m \u001B[0;36m3\u001B[0m \u001B[0;32mand\u001B[0m \u001B[0mself\u001B[0m\u001B[0;34m.\u001B[0m\u001B[0m_A\u001B[0m\u001B[0;34m.\u001B[0m\u001B[0mshape\u001B[0m\u001B[0;34m[\u001B[0m\u001B[0;34m-\u001B[0m\u001B[0;36m1\u001B[0m\u001B[0;34m]\u001B[0m \u001B[0;34m==\u001B[0m \u001B[0;36m1\u001B[0m\u001B[0;34m:\u001B[0m\u001B[0;34m\u001B[0m\u001B[0;34m\u001B[0m\u001B[0m\n",
      "\u001B[0;31mTypeError\u001B[0m: Image data of dtype complex128 cannot be converted to float"
     ]
    },
    {
     "data": {
      "text/plain": "<Figure size 432x288 with 1 Axes>",
      "image/png": "[encoded data removed]"
     },
     "metadata": {
      "needs_background": "light"
     },
     "output_type": "display_data"
    }
   ],
   "source": [
    "import matplotlib.pyplot as plt\n",
    "plt.imshow(im_fft)"
   ],
   "metadata": {
    "collapsed": false,
    "pycharm": {
     "name": "#%%\n"
    }
   }
  },
  {
   "cell_type": "code",
   "execution_count": 18,
   "outputs": [
    {
     "name": "stdout",
     "output_type": "stream",
     "text": [
      "Using matplotlib backend: Qt5Agg\n"
     ]
    },
    {
     "data": {
      "text/plain": "<matplotlib.image.AxesImage at 0x7f53323aed50>"
     },
     "execution_count": 18,
     "metadata": {},
     "output_type": "execute_result"
    }
   ],
   "source": [
    "from scipy import fftpack\n",
    "from matplotlib.colors import LogNorm\n",
    "%matplotlib auto\n",
    "# im2 = images.bgr_to_gray(im2)\n",
    "im_fft = fftpack.fft2(im2)\n",
    "im_fft_abs = np.abs(im_fft)\n",
    "im_fft_abs_shift = fftpack.fftshift(im_fft_abs)\n",
    "plt.imshow(im_fft_abs_shift, norm=LogNorm())"
   ],
   "metadata": {
    "collapsed": false,
    "pycharm": {
     "name": "#%%\n"
    }
   }
  },
  {
   "cell_type": "code",
   "execution_count": 31,
   "outputs": [
    {
     "data": {
      "text/plain": "Text(0.5, 0, 'Freq (1/pix)')"
     },
     "execution_count": 31,
     "metadata": {},
     "output_type": "execute_result"
    }
   ],
   "source": [
    "im_fft_abs_y = im_fft_abs[:, 0]\n",
    "Ly = len(im_fft_abs_y)\n",
    "freq = fftpack.fftfreq(Ly)\n",
    "plt.semilogy(freq[:Ly//2], im_fft_abs_y[:Ly//2])\n",
    "plt.xlabel('Freq (1/pix)')"
   ],
   "metadata": {
    "collapsed": false,
    "pycharm": {
     "name": "#%%\n"
    }
   }
  },
  {
   "cell_type": "code",
   "execution_count": 28,
   "outputs": [
    {
     "data": {
      "text/plain": "<matplotlib.image.AxesImage at 0x7f535613f190>"
     },
     "execution_count": 28,
     "metadata": {},
     "output_type": "execute_result"
    }
   ],
   "source": [
    "plt.imshow(im)"
   ],
   "metadata": {
    "collapsed": false,
    "pycharm": {
     "name": "#%%\n"
    }
   }
  },
  {
   "cell_type": "code",
   "execution_count": 5,
   "outputs": [],
   "source": [
    "from scipy import fftpack\n",
    "\n",
    "def get_1d_fft(im):\n",
    "    im_fft = fftpack.fft2(im).copy()\n",
    "    Ly, Lx = im_fft.shape\n",
    "    im_fft_sect = im_fft[:Ly//2, :Lx//2]\n",
    "\n",
    "    # plt.imshow(np.abs(im_fft_sect), norm=LogNorm())\n",
    "\n",
    "    # y = np.arange(0, Ly//2, 1)\n",
    "    # x = np.arange(0, Lx//2, 1)\n",
    "    # y, x = np.meshgrid(y, x)\n",
    "\n",
    "    im_fft_ravel = im_fft_sect.ravel()\n",
    "    # y_r = y.ravel()\n",
    "    # x_r = x.ravel()\n",
    "    # dists = np.sqrt(x_r**2+y_r**2)\n",
    "    # hist_weighted, bins = np.histogram(dists, bins=np.arange(np.max(dists)), weights=np.abs(im_fft_ravel))\n",
    "    # hist, _ = np.histogram(dists, bins=bins)\n",
    "    im_fft_y = im_fft_sect[:, 0]\n",
    "    freq = fftpack.fftfreq(Ly)\n",
    "    return freq[:Ly//2], im_fft_y"
   ],
   "metadata": {
    "collapsed": false,
    "pycharm": {
     "name": "#%%\n"
    }
   }
  },
  {
   "cell_type": "code",
   "execution_count": null,
   "outputs": [
    {
     "name": "stderr",
     "output_type": "stream",
     "text": [
      "\n",
      "  0%|          | 0/216 [00:00<?, ?it/s]\u001B[A\n",
      "  0%|          | 1/216 [00:00<01:55,  1.86it/s]\u001B[A\n",
      "  1%|          | 2/216 [00:00<01:43,  2.07it/s]\u001B[A\n",
      "  1%|▏         | 3/216 [00:01<01:39,  2.14it/s]\u001B[A\n",
      "  2%|▏         | 4/216 [00:01<01:32,  2.30it/s]\u001B[A\n",
      "  2%|▏         | 5/216 [00:02<01:41,  2.09it/s]\u001B[A\n",
      "  3%|▎         | 6/216 [00:02<01:42,  2.05it/s]\u001B[A\n",
      "  3%|▎         | 7/216 [00:03<01:35,  2.19it/s]\u001B[A\n",
      "  4%|▎         | 8/216 [00:03<01:35,  2.18it/s]\u001B[A\n",
      "  4%|▍         | 9/216 [00:04<01:32,  2.23it/s]\u001B[A\n",
      "  5%|▍         | 10/216 [00:04<01:26,  2.38it/s]\u001B[A\n",
      "  5%|▌         | 11/216 [00:04<01:31,  2.24it/s]\u001B[A\n",
      "  6%|▌         | 12/216 [00:05<01:27,  2.33it/s]\u001B[A\n",
      "  6%|▌         | 13/216 [00:05<01:25,  2.38it/s]\u001B[A\n",
      "  6%|▋         | 14/216 [00:06<01:29,  2.27it/s]\u001B[A\n",
      "  7%|▋         | 15/216 [00:06<01:31,  2.20it/s]\u001B[A\n",
      "  7%|▋         | 16/216 [00:07<01:25,  2.35it/s]\u001B[A\n",
      "  8%|▊         | 17/216 [00:07<01:20,  2.46it/s]\u001B[A\n",
      "  8%|▊         | 18/216 [00:07<01:21,  2.43it/s]\u001B[A\n",
      "  9%|▉         | 19/216 [00:08<01:18,  2.52it/s]\u001B[A\n",
      "  9%|▉         | 20/216 [00:08<01:19,  2.46it/s]\u001B[A\n",
      " 10%|▉         | 21/216 [00:09<01:41,  1.91it/s]\u001B[A\n",
      " 10%|█         | 22/216 [00:09<01:39,  1.94it/s]\u001B[A\n",
      " 11%|█         | 23/216 [00:10<01:41,  1.91it/s]\u001B[A\n",
      " 11%|█         | 24/216 [00:10<01:38,  1.95it/s]\u001B[A\n",
      " 12%|█▏        | 25/216 [00:11<01:36,  1.98it/s]\u001B[A\n",
      " 12%|█▏        | 26/216 [00:11<01:31,  2.08it/s]\u001B[A\n",
      " 12%|█▎        | 27/216 [00:12<01:27,  2.15it/s]\u001B[A\n",
      " 13%|█▎        | 28/216 [00:12<01:23,  2.26it/s]\u001B[A\n",
      " 13%|█▎        | 29/216 [00:13<01:18,  2.38it/s]\u001B[A\n",
      " 14%|█▍        | 30/216 [00:13<01:19,  2.34it/s]\u001B[A\n",
      " 14%|█▍        | 31/216 [00:13<01:15,  2.46it/s]\u001B[A\n",
      " 15%|█▍        | 32/216 [00:14<01:12,  2.55it/s]\u001B[A\n",
      " 15%|█▌        | 33/216 [00:14<01:15,  2.44it/s]\u001B[A\n",
      " 16%|█▌        | 34/216 [00:15<01:11,  2.53it/s]\u001B[A\n",
      " 16%|█▌        | 35/216 [00:15<01:12,  2.50it/s]\u001B[A\n",
      " 17%|█▋        | 36/216 [00:15<01:14,  2.43it/s]\u001B[A\n",
      " 17%|█▋        | 37/216 [00:16<01:12,  2.46it/s]\u001B[A\n",
      " 18%|█▊        | 38/216 [00:16<01:18,  2.25it/s]\u001B[A\n",
      " 18%|█▊        | 39/216 [00:17<01:18,  2.26it/s]\u001B[A\n",
      " 19%|█▊        | 40/216 [00:17<01:17,  2.26it/s]\u001B[A\n",
      " 19%|█▉        | 41/216 [00:18<01:17,  2.26it/s]\u001B[A\n",
      " 19%|█▉        | 42/216 [00:18<01:17,  2.25it/s]\u001B[A\n",
      " 20%|█▉        | 43/216 [00:18<01:12,  2.37it/s]\u001B[A\n",
      " 20%|██        | 44/216 [00:19<01:10,  2.43it/s]\u001B[A\n",
      " 21%|██        | 45/216 [00:19<01:12,  2.35it/s]\u001B[A\n",
      " 21%|██▏       | 46/216 [00:20<01:14,  2.27it/s]\u001B[A\n",
      " 22%|██▏       | 47/216 [00:20<01:17,  2.18it/s]\u001B[A\n",
      " 22%|██▏       | 48/216 [00:21<01:13,  2.30it/s]\u001B[A\n",
      " 23%|██▎       | 49/216 [00:21<01:08,  2.44it/s]\u001B[A\n",
      " 23%|██▎       | 50/216 [00:21<01:09,  2.39it/s]\u001B[A\n",
      " 24%|██▎       | 51/216 [00:22<01:07,  2.44it/s]\u001B[A\n",
      " 24%|██▍       | 52/216 [00:22<01:11,  2.31it/s]\u001B[A\n",
      " 25%|██▍       | 53/216 [00:23<01:07,  2.42it/s]\u001B[A\n",
      " 25%|██▌       | 54/216 [00:23<01:07,  2.39it/s]\u001B[A\n",
      " 25%|██▌       | 55/216 [00:23<01:04,  2.50it/s]\u001B[A\n",
      " 26%|██▌       | 56/216 [00:24<01:02,  2.54it/s]\u001B[A\n",
      " 26%|██▋       | 57/216 [00:24<01:06,  2.40it/s]\u001B[A\n",
      " 27%|██▋       | 58/216 [00:25<01:03,  2.49it/s]\u001B[A\n",
      " 27%|██▋       | 59/216 [00:25<01:10,  2.22it/s]\u001B[A\n",
      " 28%|██▊       | 60/216 [00:26<01:19,  1.95it/s]\u001B[A\n",
      " 28%|██▊       | 61/216 [00:26<01:14,  2.07it/s]\u001B[A\n",
      " 29%|██▊       | 62/216 [00:27<01:10,  2.17it/s]\u001B[A\n",
      " 29%|██▉       | 63/216 [00:27<01:09,  2.21it/s]\u001B[A\n",
      " 30%|██▉       | 64/216 [00:28<01:04,  2.34it/s]\u001B[A\n",
      " 30%|███       | 65/216 [00:28<01:04,  2.35it/s]\u001B[A\n",
      " 31%|███       | 66/216 [00:28<01:03,  2.37it/s]\u001B[A\n",
      " 31%|███       | 67/216 [00:29<00:59,  2.48it/s]\u001B[A\n",
      " 31%|███▏      | 68/216 [00:29<00:57,  2.58it/s]\u001B[A\n",
      " 32%|███▏      | 69/216 [00:30<01:00,  2.43it/s]\u001B[A\n",
      " 32%|███▏      | 70/216 [00:30<00:58,  2.51it/s]\u001B[A\n",
      " 33%|███▎      | 71/216 [00:30<00:58,  2.46it/s]\u001B[A\n",
      " 33%|███▎      | 72/216 [00:31<00:56,  2.53it/s]\u001B[A\n",
      " 34%|███▍      | 73/216 [00:31<00:54,  2.61it/s]\u001B[A\n",
      " 34%|███▍      | 74/216 [00:31<00:55,  2.54it/s]\u001B[A\n",
      " 35%|███▍      | 75/216 [00:32<00:57,  2.44it/s]\u001B[A\n",
      " 35%|███▌      | 76/216 [00:32<00:58,  2.40it/s]\u001B[A\n",
      " 36%|███▌      | 77/216 [00:33<01:00,  2.29it/s]\u001B[A\n",
      " 36%|███▌      | 78/216 [00:33<01:00,  2.30it/s]\u001B[A\n",
      " 37%|███▋      | 79/216 [00:34<00:55,  2.46it/s]\u001B[A\n",
      " 37%|███▋      | 80/216 [00:34<00:56,  2.40it/s]\u001B[A\n",
      " 38%|███▊      | 81/216 [00:35<01:03,  2.14it/s]\u001B[A\n",
      " 38%|███▊      | 82/216 [00:35<00:58,  2.30it/s]\u001B[A\n",
      " 38%|███▊      | 83/216 [00:35<00:54,  2.44it/s]\u001B[A\n",
      " 39%|███▉      | 84/216 [00:36<00:54,  2.40it/s]\u001B[A\n",
      " 39%|███▉      | 85/216 [00:36<00:51,  2.53it/s]\u001B[A\n",
      " 40%|███▉      | 86/216 [00:37<00:51,  2.50it/s]\u001B[A\n",
      " 40%|████      | 87/216 [00:37<00:49,  2.62it/s]\u001B[A\n",
      " 41%|████      | 88/216 [00:37<00:51,  2.49it/s]\u001B[A\n",
      " 41%|████      | 89/216 [00:38<01:01,  2.06it/s]\u001B[A"
     ]
    }
   ],
   "source": [
    "from tqdm import tqdm\n",
    "\n",
    "bins, hist = zip(*[\n",
    "    get_1d_fft(\n",
    "        images.bgr_to_gray(\n",
    "            images.crop_and_mask(\n",
    "                im, crop_result.bbox, crop_result.mask)))\n",
    "    for im in tqdm(vid)])"
   ],
   "metadata": {
    "collapsed": false,
    "pycharm": {
     "name": "#%%\n",
     "is_executing": true
    }
   }
  },
  {
   "cell_type": "code",
   "execution_count": 1,
   "outputs": [
    {
     "ename": "NameError",
     "evalue": "name 'bins' is not defined",
     "output_type": "error",
     "traceback": [
      "\u001B[0;31m---------------------------------------------------------------------------\u001B[0m",
      "\u001B[0;31mNameError\u001B[0m                                 Traceback (most recent call last)",
      "\u001B[0;32m<ipython-input-1-7307e1be5b66>\u001B[0m in \u001B[0;36m<module>\u001B[0;34m\u001B[0m\n\u001B[0;32m----> 1\u001B[0;31m \u001B[0mbins0\u001B[0m \u001B[0;34m=\u001B[0m \u001B[0mbins\u001B[0m\u001B[0;34m[\u001B[0m\u001B[0;36m0\u001B[0m\u001B[0;34m]\u001B[0m\u001B[0;34m\u001B[0m\u001B[0;34m\u001B[0m\u001B[0m\n\u001B[0m\u001B[1;32m      2\u001B[0m \u001B[0mhist_mean\u001B[0m \u001B[0;34m=\u001B[0m \u001B[0mnp\u001B[0m\u001B[0;34m.\u001B[0m\u001B[0mmean\u001B[0m\u001B[0;34m(\u001B[0m\u001B[0mnp\u001B[0m\u001B[0;34m.\u001B[0m\u001B[0mstack\u001B[0m\u001B[0;34m(\u001B[0m\u001B[0mhist\u001B[0m\u001B[0;34m)\u001B[0m\u001B[0;34m,\u001B[0m \u001B[0maxis\u001B[0m\u001B[0;34m=\u001B[0m\u001B[0;36m0\u001B[0m\u001B[0;34m)\u001B[0m\u001B[0;34m\u001B[0m\u001B[0;34m\u001B[0m\u001B[0m\n\u001B[1;32m      3\u001B[0m \u001B[0mplt\u001B[0m\u001B[0;34m.\u001B[0m\u001B[0msemilogy\u001B[0m\u001B[0;34m(\u001B[0m\u001B[0mbins0\u001B[0m\u001B[0;34m,\u001B[0m \u001B[0mnp\u001B[0m\u001B[0;34m.\u001B[0m\u001B[0mabs\u001B[0m\u001B[0;34m(\u001B[0m\u001B[0mhist_mean\u001B[0m\u001B[0;34m)\u001B[0m\u001B[0;34m)\u001B[0m\u001B[0;34m\u001B[0m\u001B[0;34m\u001B[0m\u001B[0m\n",
      "\u001B[0;31mNameError\u001B[0m: name 'bins' is not defined"
     ]
    }
   ],
   "source": [
    "bins0 = bins[0]\n",
    "hist_mean = np.mean(np.stack(hist), axis=0)\n",
    "plt.semilogy(bins0, np.abs(hist_mean))"
   ],
   "metadata": {
    "collapsed": false,
    "pycharm": {
     "name": "#%%\n"
    }
   }
  },
  {
   "cell_type": "code",
   "execution_count": 2,
   "outputs": [
    {
     "ename": "NameError",
     "evalue": "name 'video' is not defined",
     "output_type": "error",
     "traceback": [
      "\u001B[0;31m---------------------------------------------------------------------------\u001B[0m",
      "\u001B[0;31mNameError\u001B[0m                                 Traceback (most recent call last)",
      "\u001B[0;32m<ipython-input-2-b929002c66e7>\u001B[0m in \u001B[0;36m<module>\u001B[0;34m\u001B[0m\n\u001B[0;32m----> 1\u001B[0;31m \u001B[0mvid2\u001B[0m \u001B[0;34m=\u001B[0m \u001B[0mvideo\u001B[0m\u001B[0;34m.\u001B[0m\u001B[0mReadVideo\u001B[0m\u001B[0;34m(\u001B[0m\u001B[0;34m\"/media/data/Data/BallBearing/Repeats/1,97mm/17820001.MP4\"\u001B[0m\u001B[0;34m)\u001B[0m\u001B[0;34m\u001B[0m\u001B[0;34m\u001B[0m\u001B[0m\n\u001B[0m\u001B[1;32m      2\u001B[0m bins2, hist2 =     get_1d_fft(\n\u001B[1;32m      3\u001B[0m         images.bgr_to_gray(\n\u001B[1;32m      4\u001B[0m             images.crop_and_mask(\n\u001B[1;32m      5\u001B[0m                 vid2.read_frame(0), crop_result.bbox, crop_result.mask)))\n",
      "\u001B[0;31mNameError\u001B[0m: name 'video' is not defined"
     ]
    }
   ],
   "source": [
    "\n",
    "vid2 = video.ReadVideo(\"/media/data/Data/BallBearing/Repeats/1,97mm/17820001.MP4\")\n",
    "bins2, hist2 =     get_1d_fft(\n",
    "        images.bgr_to_gray(\n",
    "            images.crop_and_mask(\n",
    "                vid2.read_frame(0), crop_result.bbox, crop_result.mask)))"
   ],
   "metadata": {
    "collapsed": false,
    "pycharm": {
     "name": "#%%\n"
    }
   }
  },
  {
   "cell_type": "code",
   "execution_count": 14,
   "outputs": [
    {
     "data": {
      "text/plain": "[<matplotlib.lines.Line2D at 0x7f0549724d10>]"
     },
     "execution_count": 14,
     "metadata": {},
     "output_type": "execute_result"
    },
    {
     "data": {
      "text/plain": "<Figure size 432x288 with 1 Axes>",
      "image/png": "[encoded data removed]"
     },
     "metadata": {
      "needs_background": "light"
     },
     "output_type": "display_data"
    }
   ],
   "source": [
    "import numpy as np\n",
    "import matplotlib.pyplot as plt\n",
    "\n",
    "# bins2 = bins2[0]\n",
    "hist2_mean = np.mean(np.stack(hist2), axis=0)\n",
    "plt.semilogy(np.abs(hist2_mean))"
   ],
   "metadata": {
    "collapsed": false,
    "pycharm": {
     "name": "#%%\n"
    }
   }
  },
  {
   "cell_type": "code",
   "execution_count": 13,
   "outputs": [],
   "source": [],
   "metadata": {
    "collapsed": false,
    "pycharm": {
     "name": "#%%\n"
    }
   }
  },
  {
   "cell_type": "code",
   "execution_count": null,
   "outputs": [],
   "source": [],
   "metadata": {
    "collapsed": false,
    "pycharm": {
     "name": "#%%\n"
    }
   }
  }
 ],
 "metadata": {
  "kernelspec": {
   "display_name": "Python 3",
   "language": "python",
   "name": "python3"
  },
  "language_info": {
   "codemirror_mode": {
    "name": "ipython",
    "version": 2
   },
   "file_extension": ".py",
   "mimetype": "text/x-python",
   "name": "python",
   "nbconvert_exporter": "python",
   "pygments_lexer": "ipython2",
   "version": "2.7.6"
  }
 },
 "nbformat": 4,
 "nbformat_minor": 0
}