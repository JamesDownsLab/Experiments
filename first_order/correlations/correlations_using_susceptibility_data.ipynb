{
 "cells": [
  {
   "cell_type": "code",
   "execution_count": 1,
   "metadata": {
    "collapsed": true
   },
   "outputs": [],
   "source": [
    "import filehandling\n",
    "import pandas as pd\n",
    "import numpy as np\n",
    "from scipy import spatial\n",
    "import matplotlib.pyplot as plt\n",
    "from tqdm import tqdm"
   ]
  },
  {
   "cell_type": "code",
   "execution_count": 2,
   "outputs": [],
   "source": [
    "def corr(features, boundary, r_min, r_max, dr):\n",
    "    radius = features.r.mean()\n",
    "    area = calculate_area_from_boundary(boundary)\n",
    "    N = features.x.count()\n",
    "    density = N / area\n",
    "\n",
    "    r_values = np.arange(r_min, r_max, dr) * radius\n",
    "\n",
    "    dists, orders, Nt, N = dists_and_orders(features, r_max * radius)\n",
    "    g, bins = np.histogram(dists, bins=r_values)\n",
    "    g6, bins = np.histogram(dists, bins=r_values, weights=orders)\n",
    "\n",
    "    bin_centres = bins[1:] - (bins[1] - bins[0]) / 2\n",
    "\n",
    "    dr = bins[1]-bins[0]\n",
    "    annulus_areas = 2 * np.pi * r_values[:-1] * dr\n",
    "    expected_number = annulus_areas * density\n",
    "    factor = 1 / (expected_number * (Nt-1))\n",
    "\n",
    "    g = g *factor\n",
    "    g6 = g6 * factor\n",
    "    return bin_centres, g, g6"
   ],
   "metadata": {
    "collapsed": false
   }
  },
  {
   "cell_type": "code",
   "execution_count": 3,
   "outputs": [],
   "source": [
    "def dists_and_orders(f, t=1000):\n",
    "    idx = get_idx(f, t)\n",
    "    dists = get_dists(f, idx)\n",
    "    orders = get_orders(f, idx)\n",
    "    return dists.ravel(), orders.ravel(), dists.shape[0], dists.shape[1]\n",
    "\n",
    "\n",
    "def get_idx(f, t):\n",
    "    return f.edge_distance.values > t\n",
    "\n",
    "\n",
    "def get_dists(f, idx):\n",
    "    x = f[['x', 'y']].values\n",
    "    return spatial.distance.cdist(x[idx, :], x)\n",
    "\n",
    "\n",
    "def get_orders(f, idx):\n",
    "    orders = make_complex(f)\n",
    "    order_grid = make_order_grid(orders, idx)\n",
    "    return np.abs(order_grid)\n",
    "\n",
    "\n",
    "def make_order_grid(orders, idx):\n",
    "    return orders[idx] @ np.conj(orders).transpose()\n",
    "\n",
    "\n",
    "def make_complex(f):\n",
    "    return f[['order_r_long']].values + 1j * f[['order_i_long']].values\n",
    "\n",
    "\n",
    "def flat_array(x):\n",
    "    return np.concatenate([item.ravel() for item in x])"
   ],
   "metadata": {
    "collapsed": false
   }
  },
  {
   "cell_type": "code",
   "execution_count": 4,
   "outputs": [],
   "source": [
    "def calculate_area_from_boundary(boundary):\n",
    "\n",
    "    x, y = sort_polygon_vertices(boundary)\n",
    "    area = calculate_polygon_area(x, y)\n",
    "    return area\n",
    "\n",
    "def calculate_polygon_area(x, y):\n",
    "    p1 = 0\n",
    "    p2 = 0\n",
    "    for i in range(len(x)):\n",
    "        p1 += x[i] * y[i-1]\n",
    "        p2 += y[i] * x[i-1]\n",
    "    area = 0.5 * abs(p1-p2)\n",
    "    return area\n",
    "\n",
    "\n",
    "def sort_polygon_vertices(points):\n",
    "    cx = np.mean(points[:, 0])\n",
    "    cy = np.mean(points[:, 1])\n",
    "    angles = np.arctan2((points[:, 1] - cy), (points[:, 0] - cx))\n",
    "    sort_indices = np.argsort(angles)\n",
    "    x = points[sort_indices, 0]\n",
    "    y = points[sort_indices, 1]\n",
    "    return x, y\n",
    "\n",
    "def get_boundary(data):\n",
    "    hull = spatial.ConvexHull(data.loc[0, ['x', 'y']].values)\n",
    "    boundary = hull.points[hull.vertices]\n",
    "    return boundary"
   ],
   "metadata": {
    "collapsed": false
   }
  },
  {
   "cell_type": "code",
   "execution_count": 8,
   "outputs": [],
   "source": [
    "files = filehandling.get_directory_filenames(\"/media/data/Data/N29/FirstOrder/Susceptibility/Dimpled2/*.hdf5\")"
   ],
   "metadata": {
    "collapsed": false
   }
  },
  {
   "cell_type": "code",
   "execution_count": 9,
   "outputs": [
    {
     "name": "stderr",
     "output_type": "stream",
     "text": [
      "100it [02:26,  1.46s/it]\n"
     ]
    }
   ],
   "source": [
    "for i, file in tqdm(enumerate(files)):\n",
    "    data = pd.read_hdf(file)\n",
    "    if i == 0:\n",
    "        boundary = get_boundary(data)\n",
    "    r, g, g6 = corr(data.loc[0], boundary, 1, 20, 0.2)\n",
    "    duty = round(data.Duty.mean())\n",
    "    np.savetxt(f\"/media/data/Data/N29/FirstOrder/Correlations/November2022/Dimpled/{duty}_r.txt\", r)\n",
    "    np.savetxt(f\"/media/data/Data/N29/FirstOrder/Correlations/November2022/Dimpled/{duty}_g.txt\", g)\n",
    "    np.savetxt(f\"/media/data/Data/N29/FirstOrder/Correlations/November2022/Dimpled/{duty}_g6.txt\", g6)"
   ],
   "metadata": {
    "collapsed": false
   }
  },
  {
   "cell_type": "code",
   "execution_count": 5,
   "outputs": [],
   "source": [
    "files_flat = filehandling.get_directory_filenames(\"/media/data/Data/N29/FirstOrder/Susceptibility/Flat2/*.hdf5\")"
   ],
   "metadata": {
    "collapsed": false
   }
  },
  {
   "cell_type": "code",
   "execution_count": 6,
   "outputs": [
    {
     "name": "stderr",
     "output_type": "stream",
     "text": [
      "100it [03:48,  2.28s/it]\n"
     ]
    }
   ],
   "source": [
    "for i, file in tqdm(enumerate(files_flat)):\n",
    "    data = pd.read_hdf(file)\n",
    "    if i == 0:\n",
    "        boundary = get_boundary(data)\n",
    "    r, g, g6 = corr(data.loc[0], boundary, 1, 20, 0.2)\n",
    "    duty = round(data.Duty.mean())\n",
    "    np.savetxt(f\"/media/data/Data/N29/FirstOrder/Correlations/November2022/Flat/{duty}_r.txt\", r)\n",
    "    np.savetxt(f\"/media/data/Data/N29/FirstOrder/Correlations/November2022/Flat/{duty}_g.txt\", g)\n",
    "    np.savetxt(f\"/media/data/Data/N29/FirstOrder/Correlations/November2022/Flat/{duty}_g6.txt\", g6)"
   ],
   "metadata": {
    "collapsed": false
   }
  },
  {
   "cell_type": "code",
   "execution_count": null,
   "outputs": [],
   "source": [],
   "metadata": {
    "collapsed": false
   }
  }
 ],
 "metadata": {
  "kernelspec": {
   "display_name": "Python 3",
   "language": "python",
   "name": "python3"
  },
  "language_info": {
   "codemirror_mode": {
    "name": "ipython",
    "version": 2
   },
   "file_extension": ".py",
   "mimetype": "text/x-python",
   "name": "python",
   "nbconvert_exporter": "python",
   "pygments_lexer": "ipython2",
   "version": "2.7.6"
  }
 },
 "nbformat": 4,
 "nbformat_minor": 0
}
