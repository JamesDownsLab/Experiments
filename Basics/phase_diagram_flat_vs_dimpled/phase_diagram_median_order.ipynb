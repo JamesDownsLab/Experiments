{
 "cells": [
  {
   "cell_type": "code",
   "execution_count": 1,
   "metadata": {},
   "outputs": [
    {
     "name": "stdout",
     "output_type": "stream",
     "text": [
      "Using matplotlib backend: Qt5Agg\n"
     ]
    },
    {
     "name": "stderr",
     "output_type": "stream",
     "text": [
      "/home/ppxjd3/.local/lib/python3.7/site-packages/tqdm/std.py:658: FutureWarning: The Panel class is removed from pandas. Accessing it from the top-level namespace will also be removed in the next version\n",
      "  from pandas import Panel\n"
     ]
    }
   ],
   "source": [
    "from particletracking import dataframes, statistics\n",
    "import os\n",
    "from tqdm import tqdm\n",
    "import pandas as pd\n",
    "import numpy as np\n",
    "import matplotlib.pyplot as plt\n",
    "\n",
    "import filehandling\n",
    "\n",
    "%matplotlib auto"
   ]
  },
  {
   "cell_type": "code",
   "execution_count": 3,
   "metadata": {},
   "outputs": [],
   "source": [
    "flat_direc = filehandling.open_directory()\n",
    "dimpled_direc = filehandling.open_directory()"
   ]
  },
  {
   "cell_type": "code",
   "execution_count": 5,
   "metadata": {},
   "outputs": [],
   "source": [
    "flat_files = filehandling.get_directory_filenames(flat_direc+'/*.hdf5')\n",
    "dimpled_files = filehandling.get_directory_filenames(dimpled_direc+'/*.hdf5')"
   ]
  },
  {
   "cell_type": "code",
   "execution_count": 6,
   "metadata": {},
   "outputs": [
    {
     "name": "stderr",
     "output_type": "stream",
     "text": [
      "100%|██████████| 6/6 [08:45<00:00, 87.58s/it]\n",
      "100%|██████████| 6/6 [08:25<00:00, 84.30s/it]\n"
     ]
    }
   ],
   "source": [
    "def get_duty_order(filename):\n",
    "    with dataframes.DataStore(filename) as data:\n",
    "        data = dataframes.DataStore(filename)\n",
    "        grouped = data.df.groupby('Duty')['order'].median()\n",
    "    return grouped\n",
    "\n",
    "def get_N(filename):\n",
    "    _, name = os.path.split(filename)\n",
    "    return int(name.split('.')[0])\n",
    "    \n",
    "flat_data = pd.DataFrame({get_N(filename): get_duty_order(filename) for filename in tqdm(flat_files)})\n",
    "dimpled_data = pd.DataFrame({get_N(filename): get_duty_order(filename) for filename in tqdm(dimpled_files)})"
   ]
  },
  {
   "cell_type": "code",
   "execution_count": 7,
   "metadata": {},
   "outputs": [],
   "source": [
    "flat_data.to_csv(flat_direc+'/duty_order_median.csv')\n",
    "dimpled_data.to_csv(dimpled_direc+'/duty_order_median.csv')"
   ]
  },
  {
   "cell_type": "code",
   "execution_count": 8,
   "metadata": {},
   "outputs": [],
   "source": [
    "x1 = [int(i) for i in dimpled_data.columns]\n",
    "y1 = dimpled_data.index.values\n",
    "x1, y1 = np.meshgrid(x1, y1)\n",
    "z1 = dimpled_data.values"
   ]
  },
  {
   "cell_type": "code",
   "execution_count": 9,
   "metadata": {},
   "outputs": [],
   "source": [
    "x2 = [int(i) for i in flat_data.columns]\n",
    "y2 = flat_data.index.values\n",
    "x2, y2 = np.meshgrid(x2, y2)\n",
    "z2 = flat_data.values"
   ]
  },
  {
   "cell_type": "code",
   "execution_count": null,
   "metadata": {},
   "outputs": [],
   "source": []
  }
 ],
 "metadata": {
  "kernelspec": {
   "display_name": "Python 3",
   "language": "python",
   "name": "python3"
  },
  "language_info": {
   "codemirror_mode": {
    "name": "ipython",
    "version": 3
   },
   "file_extension": ".py",
   "mimetype": "text/x-python",
   "name": "python",
   "nbconvert_exporter": "python",
   "pygments_lexer": "ipython3",
   "version": "3.7.9"
  }
 },
 "nbformat": 4,
 "nbformat_minor": 4
}
