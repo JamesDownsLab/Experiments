{
 "cells": [
  {
   "cell_type": "code",
   "execution_count": 82,
   "outputs": [
    {
     "name": "stdout",
     "output_type": "stream",
     "text": [
      "Using matplotlib backend: Qt5Agg\n"
     ]
    }
   ],
   "source": [
    "import numpy as np\n",
    "import matplotlib.pyplot as plt\n",
    "from matplotlib import colors, cm, colorbar\n",
    "import pandas as pd\n",
    "from order_parameters import add_translational_order\n",
    "%matplotlib auto"
   ],
   "metadata": {
    "collapsed": false,
    "pycharm": {
     "name": "#%%\n"
    }
   }
  },
  {
   "cell_type": "code",
   "execution_count": 97,
   "outputs": [],
   "source": [
    "def plot_horder_torder_horizontal(data, fname):\n",
    "    fig, (ax1, ax2, cax) = plt.subplots(1, 3, squeeze=True, figsize=(5.5, 2.25), gridspec_kw={'width_ratios': [10, 10, 1]})\n",
    "    remove_all_axis_marks(ax1)\n",
    "    remove_all_axis_marks(ax2)\n",
    "    ax1.set_aspect('equal')\n",
    "\n",
    "    ax2.set_aspect('equal')\n",
    "\n",
    "    cmap = cm.hsv\n",
    "    norm = colors.Normalize(vmin=-np.pi, vmax=np.pi)\n",
    "\n",
    "    diameter = get_diameter(data)\n",
    "\n",
    "    for x, y, h, t in zip(data.x, data.y, data.hexatic_order, data.translational_order):\n",
    "        c = plt.Circle((x, y), diameter/2, color=cmap(norm(np.angle(h))))\n",
    "        ax1.add_artist(c)\n",
    "        c = plt.Circle((x, y), diameter/2, color=cmap(norm(np.angle(t))))\n",
    "        ax2.add_artist(c)\n",
    "    ax1.set_xlim([data.x.min(), data.x.max()])\n",
    "    ax1.set_ylim([data.y.min(), data.y.max()])\n",
    "    ax2.set_xlim([data.x.min(), data.x.max()])\n",
    "    ax2.set_ylim([data.y.min(), data.y.max()])\n",
    "\n",
    "    ax1.set_title('$\\psi_6$')\n",
    "    ax2.set_title('$\\psi_T$')\n",
    "\n",
    "    cbar = colorbar.ColorbarBase(cax, cmap=cmap, norm=norm, orientation='vertical', ticks=[-np.pi, 0, np.pi])\n",
    "    cbar.ax.set_yticklabels(['$-\\pi$', '0', '$\\pi$'])\n",
    "\n",
    "    fig.savefig(fname+'.pdf', format='pdf', bbox_inches='tight')"
   ],
   "metadata": {
    "collapsed": false,
    "pycharm": {
     "name": "#%%\n"
    }
   }
  },
  {
   "cell_type": "code",
   "execution_count": 87,
   "outputs": [
    {
     "ename": "IndentationError",
     "evalue": "unindent does not match any outer indentation level (<tokenize>, line 13)",
     "output_type": "error",
     "traceback": [
      "\u001B[0;36m  File \u001B[0;32m\"<tokenize>\"\u001B[0;36m, line \u001B[0;32m13\u001B[0m\n\u001B[0;31m    )\u001B[0m\n\u001B[0m    ^\u001B[0m\n\u001B[0;31mIndentationError\u001B[0m\u001B[0;31m:\u001B[0m unindent does not match any outer indentation level\n"
     ]
    }
   ],
   "source": [
    "}def remove_all_axis_marks(ax):\n",
    "    ax.tick_params(\n",
    "        axis='both',\n",
    "        which='both',\n",
    "        bottom=False,\n",
    "        top=False,\n",
    "        left=False,\n",
    "        right=False,\n",
    "        labelbottom=False,\n",
    "        labeltop=False,\n",
    "        labelleft=False,\n",
    "        labelright=False\n",
    "    )"
   ],
   "metadata": {
    "collapsed": false,
    "pycharm": {
     "name": "#%%\n"
    }
   }
  },
  {
   "cell_type": "code",
   "execution_count": 76,
   "outputs": [],
   "source": [],
   "metadata": {
    "collapsed": false,
    "pycharm": {
     "name": "#%%\n"
    }
   }
  },
  {
   "cell_type": "code",
   "execution_count": 29,
   "outputs": [
    {
     "ename": "AttributeError",
     "evalue": "'int' object has no attribute 'x'",
     "output_type": "error",
     "traceback": [
      "\u001B[0;31m---------------------------------------------------------------------------\u001B[0m",
      "\u001B[0;31mAttributeError\u001B[0m                            Traceback (most recent call last)",
      "\u001B[0;32m<ipython-input-29-6e832b924702>\u001B[0m in \u001B[0;36m<module>\u001B[0;34m\u001B[0m\n\u001B[0;32m----> 1\u001B[0;31m \u001B[0mplot_horder_torder_horizontal\u001B[0m\u001B[0;34m(\u001B[0m\u001B[0;36m0\u001B[0m\u001B[0;34m,\u001B[0m \u001B[0;36m0\u001B[0m\u001B[0;34m)\u001B[0m\u001B[0;34m\u001B[0m\u001B[0;34m\u001B[0m\u001B[0m\n\u001B[0m",
      "\u001B[0;32m<ipython-input-27-b64470b53453>\u001B[0m in \u001B[0;36mplot_horder_torder_horizontal\u001B[0;34m(data, fname)\u001B[0m\n\u001B[1;32m      5\u001B[0m     \u001B[0max1\u001B[0m\u001B[0;34m.\u001B[0m\u001B[0mset_aspect\u001B[0m\u001B[0;34m(\u001B[0m\u001B[0;34m'equal'\u001B[0m\u001B[0;34m)\u001B[0m\u001B[0;34m\u001B[0m\u001B[0;34m\u001B[0m\u001B[0m\n\u001B[1;32m      6\u001B[0m     \u001B[0max2\u001B[0m\u001B[0;34m.\u001B[0m\u001B[0mset_aspect\u001B[0m\u001B[0;34m(\u001B[0m\u001B[0;34m'equal'\u001B[0m\u001B[0;34m)\u001B[0m\u001B[0;34m\u001B[0m\u001B[0;34m\u001B[0m\u001B[0m\n\u001B[0;32m----> 7\u001B[0;31m     \u001B[0max1\u001B[0m\u001B[0;34m.\u001B[0m\u001B[0mscatter\u001B[0m\u001B[0;34m(\u001B[0m\u001B[0mdata\u001B[0m\u001B[0;34m.\u001B[0m\u001B[0mx\u001B[0m\u001B[0;34m,\u001B[0m \u001B[0mdata\u001B[0m\u001B[0;34m.\u001B[0m\u001B[0my\u001B[0m\u001B[0;34m,\u001B[0m \u001B[0mc\u001B[0m\u001B[0;34m=\u001B[0m\u001B[0mnp\u001B[0m\u001B[0;34m.\u001B[0m\u001B[0mangle\u001B[0m\u001B[0;34m(\u001B[0m\u001B[0mdata\u001B[0m\u001B[0;34m.\u001B[0m\u001B[0mhexatic_order\u001B[0m\u001B[0;34m)\u001B[0m\u001B[0;34m)\u001B[0m\u001B[0;34m\u001B[0m\u001B[0;34m\u001B[0m\u001B[0m\n\u001B[0m",
      "\u001B[0;31mAttributeError\u001B[0m: 'int' object has no attribute 'x'"
     ]
    }
   ],
   "source": [
    "plot_horder_torder_horizontal(0, 0)"
   ],
   "metadata": {
    "collapsed": false,
    "pycharm": {
     "name": "#%%\n"
    }
   }
  },
  {
   "cell_type": "code",
   "execution_count": 42,
   "outputs": [],
   "source": [
    "save_directory = \"/media/data/Data/BallBearing/HIPS/PhaseDiagramsNewPlate/Figures\""
   ],
   "metadata": {
    "collapsed": false,
    "pycharm": {
     "name": "#%%\n"
    }
   }
  },
  {
   "cell_type": "code",
   "execution_count": 33,
   "outputs": [],
   "source": [
    "data_2_00 = pd.read_hdf(\"/media/data/Data/BallBearing/HIPS/PhaseDiagramsNewPlate/2,00mm/85%/471.hdf5\")"
   ],
   "metadata": {
    "collapsed": false,
    "pycharm": {
     "name": "#%%\n"
    }
   }
  },
  {
   "cell_type": "code",
   "execution_count": 34,
   "outputs": [],
   "source": [
    "data_2_00 = data_2_00.loc[0].copy()\n",
    "data_2_00, _ = add_translational_order(data_2_00)"
   ],
   "metadata": {
    "collapsed": false,
    "pycharm": {
     "name": "#%%\n"
    }
   }
  },
  {
   "cell_type": "code",
   "execution_count": 98,
   "outputs": [],
   "source": [
    "plot_horder_torder_horizontal(data_2_00, save_directory+'/2,00mm')"
   ],
   "metadata": {
    "collapsed": false,
    "pycharm": {
     "name": "#%%\n"
    }
   }
  },
  {
   "cell_type": "code",
   "execution_count": 109,
   "outputs": [],
   "source": [
    "def get_data_and_plot(fname, savename):\n",
    "    data = pd.read_hdf(fname)\n",
    "    data = data.loc[0].copy()\n",
    "    data, _ = add_translational_order(data, refine=True)\n",
    "    plot_horder_torder_horizontal(data, save_directory+'/'+savename)"
   ],
   "metadata": {
    "collapsed": false,
    "pycharm": {
     "name": "#%%\n"
    }
   }
  },
  {
   "cell_type": "code",
   "execution_count": 104,
   "outputs": [],
   "source": [
    "files = [\n",
    "    \"/media/data/Data/BallBearing/HIPS/PhaseDiagramsNewPlate/2,00mm/65%/451.hdf5\",\n",
    "    \"/media/data/Data/BallBearing/HIPS/PhaseDiagramsNewPlate/2,10mm/65%/451.hdf5\",\n",
    "    \"/media/data/Data/BallBearing/HIPS/PhaseDiagramsNewPlate/2,25mm/65%/451.hdf5\",\n",
    "    \"/media/data/Data/BallBearing/HIPS/PhaseDiagramsNewPlate/2,31mm/65%/451.hdf5\",\n",
    "    \"/media/data/Data/BallBearing/HIPS/PhaseDiagramsNewPlate/1,95mm/70%/451.hdf5\",\n",
    "    \"/media/data/Data/BallBearing/HIPS/IslandExperiments/1,87mmRepeats/19370064.hdf5\",\n",
    "    \"/media/data/Data/BallBearing/HIPS/IslandExperiments/1,91mmRepeatsB/19400015.hdf5\"\n",
    "]\n",
    "\n",
    "names = [\n",
    "    \"2,00_65_451\",\n",
    "    \"2,10_65_451\",\n",
    "    \"2,25_65_451\",\n",
    "    \"2,31_65_451\",\n",
    "    \"1,95_70_451\",\n",
    "    \"1,87_?_450\",\n",
    "    \"1,91_?_450\"\n",
    "]"
   ],
   "metadata": {
    "collapsed": false,
    "pycharm": {
     "name": "#%%\n"
    }
   }
  },
  {
   "cell_type": "code",
   "execution_count": 111,
   "outputs": [
    {
     "name": "stdout",
     "output_type": "stream",
     "text": [
      "/media/data/Data/BallBearing/HIPS/PhaseDiagramsNewPlate/2,00mm/65%/451.hdf5\n"
     ]
    },
    {
     "ename": "ValueError",
     "evalue": "matmul: Input operand 0 does not have enough dimensions (has 0, gufunc core with signature (n?,k),(k,m?)->(n?,m?) requires 1)",
     "output_type": "error",
     "traceback": [
      "\u001B[0;31m---------------------------------------------------------------------------\u001B[0m",
      "\u001B[0;31mValueError\u001B[0m                                Traceback (most recent call last)",
      "\u001B[0;32m<ipython-input-111-14deb90c6aac>\u001B[0m in \u001B[0;36m<module>\u001B[0;34m\u001B[0m\n\u001B[1;32m      1\u001B[0m \u001B[0;32mfor\u001B[0m \u001B[0mf\u001B[0m\u001B[0;34m,\u001B[0m \u001B[0mn\u001B[0m \u001B[0;32min\u001B[0m \u001B[0mzip\u001B[0m\u001B[0;34m(\u001B[0m\u001B[0mfiles\u001B[0m\u001B[0;34m,\u001B[0m \u001B[0mnames\u001B[0m\u001B[0;34m)\u001B[0m\u001B[0;34m:\u001B[0m\u001B[0;34m\u001B[0m\u001B[0;34m\u001B[0m\u001B[0m\n\u001B[1;32m      2\u001B[0m     \u001B[0mprint\u001B[0m\u001B[0;34m(\u001B[0m\u001B[0mf\u001B[0m\u001B[0;34m)\u001B[0m\u001B[0;34m\u001B[0m\u001B[0;34m\u001B[0m\u001B[0m\n\u001B[0;32m----> 3\u001B[0;31m     \u001B[0mget_data_and_plot\u001B[0m\u001B[0;34m(\u001B[0m\u001B[0mf\u001B[0m\u001B[0;34m,\u001B[0m \u001B[0mn\u001B[0m\u001B[0;34m)\u001B[0m\u001B[0;34m\u001B[0m\u001B[0;34m\u001B[0m\u001B[0m\n\u001B[0m",
      "\u001B[0;32m<ipython-input-109-734c0ebc88c3>\u001B[0m in \u001B[0;36mget_data_and_plot\u001B[0;34m(fname, savename)\u001B[0m\n\u001B[1;32m      2\u001B[0m     \u001B[0mdata\u001B[0m \u001B[0;34m=\u001B[0m \u001B[0mpd\u001B[0m\u001B[0;34m.\u001B[0m\u001B[0mread_hdf\u001B[0m\u001B[0;34m(\u001B[0m\u001B[0mfname\u001B[0m\u001B[0;34m)\u001B[0m\u001B[0;34m\u001B[0m\u001B[0;34m\u001B[0m\u001B[0m\n\u001B[1;32m      3\u001B[0m     \u001B[0mdata\u001B[0m \u001B[0;34m=\u001B[0m \u001B[0mdata\u001B[0m\u001B[0;34m.\u001B[0m\u001B[0mloc\u001B[0m\u001B[0;34m[\u001B[0m\u001B[0;36m0\u001B[0m\u001B[0;34m]\u001B[0m\u001B[0;34m.\u001B[0m\u001B[0mcopy\u001B[0m\u001B[0;34m(\u001B[0m\u001B[0;34m)\u001B[0m\u001B[0;34m\u001B[0m\u001B[0;34m\u001B[0m\u001B[0m\n\u001B[0;32m----> 4\u001B[0;31m     \u001B[0mdata\u001B[0m\u001B[0;34m,\u001B[0m \u001B[0m_\u001B[0m \u001B[0;34m=\u001B[0m \u001B[0madd_translational_order\u001B[0m\u001B[0;34m(\u001B[0m\u001B[0mdata\u001B[0m\u001B[0;34m,\u001B[0m \u001B[0mrefine\u001B[0m\u001B[0;34m=\u001B[0m\u001B[0;32mTrue\u001B[0m\u001B[0;34m)\u001B[0m\u001B[0;34m\u001B[0m\u001B[0;34m\u001B[0m\u001B[0m\n\u001B[0m\u001B[1;32m      5\u001B[0m     \u001B[0mplot_horder_torder_horizontal\u001B[0m\u001B[0;34m(\u001B[0m\u001B[0mdata\u001B[0m\u001B[0;34m,\u001B[0m \u001B[0msave_directory\u001B[0m\u001B[0;34m+\u001B[0m\u001B[0;34m'/'\u001B[0m\u001B[0;34m+\u001B[0m\u001B[0msavename\u001B[0m\u001B[0;34m)\u001B[0m\u001B[0;34m\u001B[0m\u001B[0;34m\u001B[0m\u001B[0m\n",
      "\u001B[0;32m~/Code/Experiments/order_parameters.py\u001B[0m in \u001B[0;36madd_translational_order\u001B[0;34m(df, lattice_vector, apothem, refine)\u001B[0m\n\u001B[1;32m     66\u001B[0m     \u001B[0;32mif\u001B[0m \u001B[0mrefine\u001B[0m\u001B[0;34m:\u001B[0m\u001B[0;34m\u001B[0m\u001B[0;34m\u001B[0m\u001B[0m\n\u001B[1;32m     67\u001B[0m         \u001B[0mlength\u001B[0m\u001B[0;34m,\u001B[0m \u001B[0mangle\u001B[0m \u001B[0;34m=\u001B[0m \u001B[0mget_length_and_angle_from_lattice_vector\u001B[0m\u001B[0;34m(\u001B[0m\u001B[0mlattice_vector\u001B[0m\u001B[0;34m)\u001B[0m\u001B[0;34m\u001B[0m\u001B[0;34m\u001B[0m\u001B[0m\n\u001B[0;32m---> 68\u001B[0;31m         \u001B[0mlength\u001B[0m\u001B[0;34m,\u001B[0m \u001B[0mangle\u001B[0m \u001B[0;34m=\u001B[0m \u001B[0mrefine_l_and_a\u001B[0m\u001B[0;34m(\u001B[0m\u001B[0mlength\u001B[0m\u001B[0;34m,\u001B[0m \u001B[0mangle\u001B[0m\u001B[0;34m,\u001B[0m \u001B[0mframe\u001B[0m\u001B[0;34m[\u001B[0m\u001B[0;34m[\u001B[0m\u001B[0;34m'x'\u001B[0m\u001B[0;34m,\u001B[0m \u001B[0;34m'y'\u001B[0m\u001B[0;34m]\u001B[0m\u001B[0;34m]\u001B[0m\u001B[0;34m.\u001B[0m\u001B[0mvalues\u001B[0m\u001B[0;34m)\u001B[0m\u001B[0;34m\u001B[0m\u001B[0;34m\u001B[0m\u001B[0m\n\u001B[0m\u001B[1;32m     69\u001B[0m         \u001B[0mlattice_vector\u001B[0m \u001B[0;34m=\u001B[0m \u001B[0mget_lattice_vector\u001B[0m\u001B[0;34m(\u001B[0m\u001B[0mlength\u001B[0m\u001B[0;34m,\u001B[0m \u001B[0mangle\u001B[0m\u001B[0;34m)\u001B[0m\u001B[0;34m\u001B[0m\u001B[0;34m\u001B[0m\u001B[0m\n\u001B[1;32m     70\u001B[0m \u001B[0;34m\u001B[0m\u001B[0m\n",
      "\u001B[0;32m~/Code/Experiments/order_parameters.py\u001B[0m in \u001B[0;36mrefine_l_and_a\u001B[0;34m(l, a, points, width)\u001B[0m\n\u001B[1;32m     53\u001B[0m     \u001B[0mangles\u001B[0m \u001B[0;34m=\u001B[0m \u001B[0mnp\u001B[0m\u001B[0;34m.\u001B[0m\u001B[0mlinspace\u001B[0m\u001B[0;34m(\u001B[0m\u001B[0;34m(\u001B[0m\u001B[0;36m1\u001B[0m \u001B[0;34m-\u001B[0m \u001B[0mwidth\u001B[0m\u001B[0;34m)\u001B[0m \u001B[0;34m*\u001B[0m \u001B[0ma\u001B[0m\u001B[0;34m,\u001B[0m \u001B[0;34m(\u001B[0m\u001B[0;36m1\u001B[0m \u001B[0;34m+\u001B[0m \u001B[0mwidth\u001B[0m\u001B[0;34m)\u001B[0m \u001B[0;34m*\u001B[0m \u001B[0ma\u001B[0m\u001B[0;34m,\u001B[0m \u001B[0;36m100\u001B[0m\u001B[0;34m)\u001B[0m\u001B[0;34m\u001B[0m\u001B[0;34m\u001B[0m\u001B[0m\n\u001B[1;32m     54\u001B[0m     \u001B[0mlengths\u001B[0m\u001B[0;34m,\u001B[0m \u001B[0mangles\u001B[0m \u001B[0;34m=\u001B[0m \u001B[0mnp\u001B[0m\u001B[0;34m.\u001B[0m\u001B[0mmeshgrid\u001B[0m\u001B[0;34m(\u001B[0m\u001B[0mlengths\u001B[0m\u001B[0;34m,\u001B[0m \u001B[0mangles\u001B[0m\u001B[0;34m)\u001B[0m\u001B[0;34m\u001B[0m\u001B[0;34m\u001B[0m\u001B[0m\n\u001B[0;32m---> 55\u001B[0;31m     \u001B[0mstds\u001B[0m \u001B[0;34m=\u001B[0m \u001B[0mtorder_angle_std_vect\u001B[0m\u001B[0;34m(\u001B[0m\u001B[0mlengths\u001B[0m\u001B[0;34m,\u001B[0m \u001B[0mangles\u001B[0m\u001B[0;34m,\u001B[0m \u001B[0mpoints\u001B[0m\u001B[0;34m)\u001B[0m\u001B[0;34m\u001B[0m\u001B[0;34m\u001B[0m\u001B[0m\n\u001B[0m\u001B[1;32m     56\u001B[0m     \u001B[0mmin_index\u001B[0m \u001B[0;34m=\u001B[0m \u001B[0mnp\u001B[0m\u001B[0;34m.\u001B[0m\u001B[0munravel_index\u001B[0m\u001B[0;34m(\u001B[0m\u001B[0mnp\u001B[0m\u001B[0;34m.\u001B[0m\u001B[0margmin\u001B[0m\u001B[0;34m(\u001B[0m\u001B[0mstds\u001B[0m\u001B[0;34m,\u001B[0m \u001B[0maxis\u001B[0m\u001B[0;34m=\u001B[0m\u001B[0;32mNone\u001B[0m\u001B[0;34m)\u001B[0m\u001B[0;34m,\u001B[0m \u001B[0mstds\u001B[0m\u001B[0;34m.\u001B[0m\u001B[0mshape\u001B[0m\u001B[0;34m)\u001B[0m\u001B[0;34m\u001B[0m\u001B[0;34m\u001B[0m\u001B[0m\n\u001B[1;32m     57\u001B[0m     \u001B[0mnew_length\u001B[0m \u001B[0;34m=\u001B[0m \u001B[0mlengths\u001B[0m\u001B[0;34m[\u001B[0m\u001B[0mmin_index\u001B[0m\u001B[0;34m]\u001B[0m\u001B[0;34m\u001B[0m\u001B[0;34m\u001B[0m\u001B[0m\n",
      "\u001B[0;32m~/miniconda3/envs/ExperimentsNew/lib/python3.9/site-packages/numpy/lib/function_base.py\u001B[0m in \u001B[0;36m__call__\u001B[0;34m(self, *args, **kwargs)\u001B[0m\n\u001B[1;32m   2161\u001B[0m             \u001B[0mvargs\u001B[0m\u001B[0;34m.\u001B[0m\u001B[0mextend\u001B[0m\u001B[0;34m(\u001B[0m\u001B[0;34m[\u001B[0m\u001B[0mkwargs\u001B[0m\u001B[0;34m[\u001B[0m\u001B[0m_n\u001B[0m\u001B[0;34m]\u001B[0m \u001B[0;32mfor\u001B[0m \u001B[0m_n\u001B[0m \u001B[0;32min\u001B[0m \u001B[0mnames\u001B[0m\u001B[0;34m]\u001B[0m\u001B[0;34m)\u001B[0m\u001B[0;34m\u001B[0m\u001B[0;34m\u001B[0m\u001B[0m\n\u001B[1;32m   2162\u001B[0m \u001B[0;34m\u001B[0m\u001B[0m\n\u001B[0;32m-> 2163\u001B[0;31m         \u001B[0;32mreturn\u001B[0m \u001B[0mself\u001B[0m\u001B[0;34m.\u001B[0m\u001B[0m_vectorize_call\u001B[0m\u001B[0;34m(\u001B[0m\u001B[0mfunc\u001B[0m\u001B[0;34m=\u001B[0m\u001B[0mfunc\u001B[0m\u001B[0;34m,\u001B[0m \u001B[0margs\u001B[0m\u001B[0;34m=\u001B[0m\u001B[0mvargs\u001B[0m\u001B[0;34m)\u001B[0m\u001B[0;34m\u001B[0m\u001B[0;34m\u001B[0m\u001B[0m\n\u001B[0m\u001B[1;32m   2164\u001B[0m \u001B[0;34m\u001B[0m\u001B[0m\n\u001B[1;32m   2165\u001B[0m     \u001B[0;32mdef\u001B[0m \u001B[0m_get_ufunc_and_otypes\u001B[0m\u001B[0;34m(\u001B[0m\u001B[0mself\u001B[0m\u001B[0;34m,\u001B[0m \u001B[0mfunc\u001B[0m\u001B[0;34m,\u001B[0m \u001B[0margs\u001B[0m\u001B[0;34m)\u001B[0m\u001B[0;34m:\u001B[0m\u001B[0;34m\u001B[0m\u001B[0;34m\u001B[0m\u001B[0m\n",
      "\u001B[0;32m~/miniconda3/envs/ExperimentsNew/lib/python3.9/site-packages/numpy/lib/function_base.py\u001B[0m in \u001B[0;36m_vectorize_call\u001B[0;34m(self, func, args)\u001B[0m\n\u001B[1;32m   2239\u001B[0m             \u001B[0mres\u001B[0m \u001B[0;34m=\u001B[0m \u001B[0mfunc\u001B[0m\u001B[0;34m(\u001B[0m\u001B[0;34m)\u001B[0m\u001B[0;34m\u001B[0m\u001B[0;34m\u001B[0m\u001B[0m\n\u001B[1;32m   2240\u001B[0m         \u001B[0;32melse\u001B[0m\u001B[0;34m:\u001B[0m\u001B[0;34m\u001B[0m\u001B[0;34m\u001B[0m\u001B[0m\n\u001B[0;32m-> 2241\u001B[0;31m             \u001B[0mufunc\u001B[0m\u001B[0;34m,\u001B[0m \u001B[0motypes\u001B[0m \u001B[0;34m=\u001B[0m \u001B[0mself\u001B[0m\u001B[0;34m.\u001B[0m\u001B[0m_get_ufunc_and_otypes\u001B[0m\u001B[0;34m(\u001B[0m\u001B[0mfunc\u001B[0m\u001B[0;34m=\u001B[0m\u001B[0mfunc\u001B[0m\u001B[0;34m,\u001B[0m \u001B[0margs\u001B[0m\u001B[0;34m=\u001B[0m\u001B[0margs\u001B[0m\u001B[0;34m)\u001B[0m\u001B[0;34m\u001B[0m\u001B[0;34m\u001B[0m\u001B[0m\n\u001B[0m\u001B[1;32m   2242\u001B[0m \u001B[0;34m\u001B[0m\u001B[0m\n\u001B[1;32m   2243\u001B[0m             \u001B[0;31m# Convert args to object arrays first\u001B[0m\u001B[0;34m\u001B[0m\u001B[0;34m\u001B[0m\u001B[0m\n",
      "\u001B[0;32m~/miniconda3/envs/ExperimentsNew/lib/python3.9/site-packages/numpy/lib/function_base.py\u001B[0m in \u001B[0;36m_get_ufunc_and_otypes\u001B[0;34m(self, func, args)\u001B[0m\n\u001B[1;32m   2199\u001B[0m \u001B[0;34m\u001B[0m\u001B[0m\n\u001B[1;32m   2200\u001B[0m             \u001B[0minputs\u001B[0m \u001B[0;34m=\u001B[0m \u001B[0;34m[\u001B[0m\u001B[0marg\u001B[0m\u001B[0;34m.\u001B[0m\u001B[0mflat\u001B[0m\u001B[0;34m[\u001B[0m\u001B[0;36m0\u001B[0m\u001B[0;34m]\u001B[0m \u001B[0;32mfor\u001B[0m \u001B[0marg\u001B[0m \u001B[0;32min\u001B[0m \u001B[0margs\u001B[0m\u001B[0;34m]\u001B[0m\u001B[0;34m\u001B[0m\u001B[0;34m\u001B[0m\u001B[0m\n\u001B[0;32m-> 2201\u001B[0;31m             \u001B[0moutputs\u001B[0m \u001B[0;34m=\u001B[0m \u001B[0mfunc\u001B[0m\u001B[0;34m(\u001B[0m\u001B[0;34m*\u001B[0m\u001B[0minputs\u001B[0m\u001B[0;34m)\u001B[0m\u001B[0;34m\u001B[0m\u001B[0;34m\u001B[0m\u001B[0m\n\u001B[0m\u001B[1;32m   2202\u001B[0m \u001B[0;34m\u001B[0m\u001B[0m\n\u001B[1;32m   2203\u001B[0m             \u001B[0;31m# Performance note: profiling indicates that -- for simple\u001B[0m\u001B[0;34m\u001B[0m\u001B[0;34m\u001B[0m\u001B[0m\n",
      "\u001B[0;32m~/Code/Experiments/order_parameters.py\u001B[0m in \u001B[0;36mtorder_angle_std\u001B[0;34m(l, a, points)\u001B[0m\n\u001B[1;32m     42\u001B[0m \u001B[0;32mdef\u001B[0m \u001B[0mtorder_angle_std\u001B[0m\u001B[0;34m(\u001B[0m\u001B[0ml\u001B[0m\u001B[0;34m,\u001B[0m \u001B[0ma\u001B[0m\u001B[0;34m,\u001B[0m \u001B[0mpoints\u001B[0m\u001B[0;34m)\u001B[0m\u001B[0;34m:\u001B[0m\u001B[0;34m\u001B[0m\u001B[0;34m\u001B[0m\u001B[0m\n\u001B[1;32m     43\u001B[0m     \u001B[0mG\u001B[0m \u001B[0;34m=\u001B[0m \u001B[0mget_lattice_vector\u001B[0m\u001B[0;34m(\u001B[0m\u001B[0ml\u001B[0m\u001B[0;34m,\u001B[0m \u001B[0ma\u001B[0m\u001B[0;34m)\u001B[0m\u001B[0;34m\u001B[0m\u001B[0;34m\u001B[0m\u001B[0m\n\u001B[0;32m---> 44\u001B[0;31m     \u001B[0mtorder\u001B[0m \u001B[0;34m=\u001B[0m \u001B[0mnp\u001B[0m\u001B[0;34m.\u001B[0m\u001B[0mexp\u001B[0m\u001B[0;34m(\u001B[0m\u001B[0;36m1j\u001B[0m\u001B[0;34m*\u001B[0m\u001B[0mpoints\u001B[0m\u001B[0;34m@\u001B[0m\u001B[0mG\u001B[0m\u001B[0;34m)\u001B[0m\u001B[0;34m\u001B[0m\u001B[0;34m\u001B[0m\u001B[0m\n\u001B[0m\u001B[1;32m     45\u001B[0m     \u001B[0mangles\u001B[0m \u001B[0;34m=\u001B[0m \u001B[0mnp\u001B[0m\u001B[0;34m.\u001B[0m\u001B[0mangle\u001B[0m\u001B[0;34m(\u001B[0m\u001B[0mtorder\u001B[0m\u001B[0;34m)\u001B[0m\u001B[0;34m\u001B[0m\u001B[0;34m\u001B[0m\u001B[0m\n\u001B[1;32m     46\u001B[0m     \u001B[0mstd\u001B[0m \u001B[0;34m=\u001B[0m \u001B[0mnp\u001B[0m\u001B[0;34m.\u001B[0m\u001B[0mstd\u001B[0m\u001B[0;34m(\u001B[0m\u001B[0mangles\u001B[0m\u001B[0;34m)\u001B[0m\u001B[0;34m\u001B[0m\u001B[0;34m\u001B[0m\u001B[0m\n",
      "\u001B[0;31mValueError\u001B[0m: matmul: Input operand 0 does not have enough dimensions (has 0, gufunc core with signature (n?,k),(k,m?)->(n?,m?) requires 1)"
     ]
    }
   ],
   "source": [
    "for f, n in zip(files, names):\n",
    "    print(f)\n",
    "    get_data_and_plot(f, n)"
   ],
   "metadata": {
    "collapsed": false,
    "pycharm": {
     "name": "#%%\n"
    }
   }
  },
  {
   "cell_type": "code",
   "execution_count": null,
   "outputs": [],
   "source": [],
   "metadata": {
    "collapsed": false,
    "pycharm": {
     "name": "#%%\n"
    }
   }
  }
 ],
 "metadata": {
  "kernelspec": {
   "display_name": "Python 3",
   "language": "python",
   "name": "python3"
  },
  "language_info": {
   "codemirror_mode": {
    "name": "ipython",
    "version": 2
   },
   "file_extension": ".py",
   "mimetype": "text/x-python",
   "name": "python",
   "nbconvert_exporter": "python",
   "pygments_lexer": "ipython2",
   "version": "2.7.6"
  }
 },
 "nbformat": 4,
 "nbformat_minor": 0
}