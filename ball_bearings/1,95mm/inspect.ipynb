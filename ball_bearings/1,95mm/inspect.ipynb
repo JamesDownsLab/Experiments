{
 "cells": [
  {
   "cell_type": "code",
   "execution_count": 3,
   "metadata": {
    "collapsed": true
   },
   "outputs": [
    {
     "name": "stdout",
     "output_type": "stream",
     "text": [
      "               y            x        mass      size       ecc     signal  \\\n",
      "frame                                                                      \n",
      "0      41.564470  1663.493983  636.421226  1.871824  0.170798  43.035934   \n",
      "0      43.206098  1415.655768  992.744170  1.931791  0.074033  55.071407   \n",
      "0      44.092523  1489.846677  965.755534  1.857153  0.131463  59.447943   \n",
      "0      44.510649  1572.629719  753.493555  1.830420  0.072757  53.612562   \n",
      "0      44.238255  1642.977256  978.155718  1.883244  0.216524  60.542077   \n",
      "\n",
      "       raw_mass        ep  audio_frequency  user_rad   Duty  \n",
      "frame                                                        \n",
      "0        4876.0  0.011429           9250.0         6  550.0  \n",
      "0        5844.0  0.009526           9250.0         6  550.0  \n",
      "0        5483.0  0.010157           9250.0         6  550.0  \n",
      "0        5228.0  0.010655           9250.0         6  550.0  \n",
      "0        5814.0  0.009575           9250.0         6  550.0  \n"
     ]
    }
   ],
   "source": [
    "import pandas as pd\n",
    "\n",
    "df = pd.read_hdf(\"/media/data/Data/BallBearing/SmallerSpacings/2,00mm.hdf5\")\n",
    "df['Duty'] = (df['audio_frequency']-1000)/15\n",
    "\n",
    "print(df.head())"
   ]
  },
  {
   "cell_type": "code",
   "execution_count": 4,
   "outputs": [
    {
     "data": {
      "text/plain": "[<matplotlib.lines.Line2D at 0x7fe5c9fad610>]"
     },
     "execution_count": 4,
     "metadata": {},
     "output_type": "execute_result"
    },
    {
     "data": {
      "text/plain": "<Figure size 432x288 with 1 Axes>",
      "image/png": "[encoded data removed]"
     },
     "metadata": {
      "needs_background": "light"
     },
     "output_type": "display_data"
    }
   ],
   "source": [
    "import matplotlib.pyplot as plt\n",
    "\n",
    "plt.plot(df.groupby('frame').Duty.mean())"
   ],
   "metadata": {
    "collapsed": false,
    "pycharm": {
     "name": "#%%\n"
    }
   }
  }
 ],
 "metadata": {
  "kernelspec": {
   "display_name": "Python 3",
   "language": "python",
   "name": "python3"
  },
  "language_info": {
   "codemirror_mode": {
    "name": "ipython",
    "version": 2
   },
   "file_extension": ".py",
   "mimetype": "text/x-python",
   "name": "python",
   "nbconvert_exporter": "python",
   "pygments_lexer": "ipython2",
   "version": "2.7.6"
  }
 },
 "nbformat": 4,
 "nbformat_minor": 0
}