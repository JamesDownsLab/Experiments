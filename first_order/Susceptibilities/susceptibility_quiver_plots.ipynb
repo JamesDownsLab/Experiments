{
 "cells": [
  {
   "cell_type": "code",
   "execution_count": 1,
   "metadata": {},
   "outputs": [],
   "source": [
    "import matplotlib.pyplot as plt\n",
    "import matplotlib\n",
    "import pandas as pd\n",
    "import numpy as np"
   ]
  },
  {
   "cell_type": "code",
   "execution_count": 2,
   "metadata": {},
   "outputs": [
    {
     "name": "stdout",
     "output_type": "stream",
     "text": [
      "Using matplotlib backend: Qt5Agg\n"
     ]
    }
   ],
   "source": [
    "%matplotlib auto"
   ]
  },
  {
   "cell_type": "code",
   "execution_count": 3,
   "metadata": {},
   "outputs": [],
   "source": [
    "direc = \"/media/data/Data/FirstOrder/Susceptibility/Dataset2Figures/animation_data\""
   ]
  },
  {
   "cell_type": "code",
   "execution_count": 4,
   "metadata": {},
   "outputs": [],
   "source": [
    "dimpled_horder = pd.read_hdf(f\"{direc}/dimpled_horder.hdf5\", 'df')\n",
    "dimpled_torder = pd.read_hdf(f\"{direc}/dimpled_torder.hdf5\", 'df')\n",
    "\n",
    "flat_horder = pd.read_hdf(f\"{direc}/flat_horder.hdf5\", 'df')\n",
    "flat_torder = pd.read_hdf(f\"{direc}/flat_torder.hdf5\", 'df')"
   ]
  },
  {
   "cell_type": "code",
   "execution_count": 5,
   "metadata": {},
   "outputs": [],
   "source": [
    "def plot(data, fname):\n",
    "    fig, (ax, cax) = plt.subplots(1, 2, gridspec_kw={'width_ratios': [50, 1]})\n",
    "    ax.set_aspect('equal')\n",
    "    ax.xaxis.set_visible(False)\n",
    "    ax.yaxis.set_visible(False)\n",
    "    cmap = matplotlib.cm.hsv\n",
    "    norm = matplotlib.colors.Normalize(vmin=-np.pi, vmax=np.pi)\n",
    "    cbar = matplotlib.colorbar.ColorbarBase(cax, cmap=cmap, norm=norm, orientation='vertical', ticks=[-np.pi, 0, np.pi])\n",
    "    cbar.ax.set_yticklabels(['$-\\pi$', '0', '$\\pi$'])\n",
    "    cbar.ax.tick_params(labelsize=20)\n",
    "    \n",
    "    ax.quiver(data.x, data.y, data.u, data.v, \n",
    "              color=cmap(norm(np.angle(data.u+1j*data.v))), \n",
    "              pivot='mid', headwidth=3)\n",
    "    fig.subplots_adjust(left=0, bottom=0.03, right=0.9, top=0.97, wspace=0, hspace=0)\n",
    "    plt.savefig(f\"{direc}/{fname}.png\", dpi=900)"
   ]
  },
  {
   "cell_type": "code",
   "execution_count": 19,
   "metadata": {},
   "outputs": [],
   "source": [
    "plot(flat_horder.loc[282], 'flat_655_h')"
   ]
  },
  {
   "cell_type": "code",
   "execution_count": 61,
   "metadata": {},
   "outputs": [],
   "source": [
    "d = dimpled_horder.loc[0]"
   ]
  },
  {
   "cell_type": "code",
   "execution_count": 17,
   "metadata": {},
   "outputs": [
    {
     "data": {
      "text/html": [
       "<div>\n",
       "<style scoped>\n",
       "    .dataframe tbody tr th:only-of-type {\n",
       "        vertical-align: middle;\n",
       "    }\n",
       "\n",
       "    .dataframe tbody tr th {\n",
       "        vertical-align: top;\n",
       "    }\n",
       "\n",
       "    .dataframe thead th {\n",
       "        text-align: right;\n",
       "    }\n",
       "</style>\n",
       "<table border=\"1\" class=\"dataframe\">\n",
       "  <thead>\n",
       "    <tr style=\"text-align: right;\">\n",
       "      <th></th>\n",
       "      <th>duty</th>\n",
       "      <th>x</th>\n",
       "      <th>y</th>\n",
       "      <th>u</th>\n",
       "      <th>v</th>\n",
       "    </tr>\n",
       "  </thead>\n",
       "  <tbody>\n",
       "    <tr>\n",
       "      <th>282</th>\n",
       "      <td>655</td>\n",
       "      <td>[474, 427, 785, 1029, 444, 590, 1399, 892, 132...</td>\n",
       "      <td>[1317, 396, 1720, 934, 613, 869, 819, 1004, 17...</td>\n",
       "      <td>[-0.5838921011905833, 0.6631913499761419, 0.92...</td>\n",
       "      <td>[-0.8118312719815896, 0.7484498869776269, 0.38...</td>\n",
       "    </tr>\n",
       "  </tbody>\n",
       "</table>\n",
       "</div>"
      ],
      "text/plain": [
       "     duty                                                  x  \\\n",
       "282   655  [474, 427, 785, 1029, 444, 590, 1399, 892, 132...   \n",
       "\n",
       "                                                     y  \\\n",
       "282  [1317, 396, 1720, 934, 613, 869, 819, 1004, 17...   \n",
       "\n",
       "                                                     u  \\\n",
       "282  [-0.5838921011905833, 0.6631913499761419, 0.92...   \n",
       "\n",
       "                                                     v  \n",
       "282  [-0.8118312719815896, 0.7484498869776269, 0.38...  "
      ]
     },
     "execution_count": 17,
     "metadata": {},
     "output_type": "execute_result"
    }
   ],
   "source": [
    "flat_torder.loc[flat_torder.duty==655]"
   ]
  },
  {
   "cell_type": "code",
   "execution_count": null,
   "metadata": {},
   "outputs": [],
   "source": []
  }
 ],
 "metadata": {
  "kernelspec": {
   "display_name": "Python 3",
   "language": "python",
   "name": "python3"
  },
  "language_info": {
   "codemirror_mode": {
    "name": "ipython",
    "version": 3
   },
   "file_extension": ".py",
   "mimetype": "text/x-python",
   "name": "python",
   "nbconvert_exporter": "python",
   "pygments_lexer": "ipython3",
   "version": "3.7.9"
  }
 },
 "nbformat": 4,
 "nbformat_minor": 4
}
