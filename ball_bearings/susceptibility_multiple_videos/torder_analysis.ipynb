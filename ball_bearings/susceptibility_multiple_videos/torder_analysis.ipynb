{
 "cells": [
  {
   "cell_type": "code",
   "execution_count": 1,
   "metadata": {},
   "outputs": [
    {
     "name": "stdout",
     "output_type": "stream",
     "text": [
      "Using matplotlib backend: Qt5Agg\n"
     ]
    }
   ],
   "source": [
    "import os.path\n",
    "\n",
    "import filehandling\n",
    "import pandas as pd\n",
    "from scipy import spatial\n",
    "import numpy as np\n",
    "import matplotlib.pyplot as plt\n",
    "import matplotlib\n",
    "from matplotlib.widgets import Slider\n",
    "%matplotlib auto"
   ]
  },
  {
   "cell_type": "code",
   "execution_count": 2,
   "metadata": {
    "jupyter": {
     "outputs_hidden": false
    },
    "pycharm": {
     "name": "#%%\n"
    }
   },
   "outputs": [],
   "source": [
    "def get_delaunay_vectors(points):\n",
    "    tri = spatial.Delaunay(points[['x', 'y']])\n",
    "    triangles = tri.points[tri.simplices]\n",
    "    vecs = np.array([t-t[[2, 0, 1], :] for t in triangles])\n",
    "    vecs = vecs.reshape((-1, 2))\n",
    "    return vecs\n",
    "\n",
    "def get_delaunay_angles(vecs):\n",
    "    return np.arctan(vecs[:, 1]/vecs[:, 0])\n",
    "\n",
    "\n",
    "def get_delaunay_lengths(vecs):\n",
    "    lengths = np.linalg.norm(vecs, axis=1)\n",
    "    return lengths\n",
    "\n",
    "def calculate_G(length, angle):\n",
    "    a = angle + np.pi/2\n",
    "    cosa = np.cos(a)\n",
    "    sina = np.sin(a)\n",
    "    l = 4 * np.pi / (length * np.sqrt(3))\n",
    "    return np.array((cosa, sina))*l"
   ]
  },
  {
   "cell_type": "code",
   "execution_count": 3,
   "metadata": {},
   "outputs": [],
   "source": [
    "def calculate_torder_from_length_and_angle(length, angle):\n",
    "    G = calculate_G(length, angle)\n",
    "    return np.exp(1j*frame[['x', 'y']].values@G)"
   ]
  },
  {
   "cell_type": "code",
   "execution_count": 4,
   "metadata": {},
   "outputs": [],
   "source": [
    "def get_initial_length_and_angle(frame, apothem=False):\n",
    "    vecs = get_delaunay_vectors(frame)\n",
    "    angles = get_delaunay_angles(vecs)\n",
    "    if apothem:\n",
    "        angle = np.median(angles[angles>0])\n",
    "    else:\n",
    "        angle = np.median(angles[angles>0.5])\n",
    "    lengths = get_delaunay_lengths(vecs)\n",
    "    length = np.median(lengths)\n",
    "    return length, angle\n",
    "        "
   ]
  },
  {
   "cell_type": "markdown",
   "metadata": {},
   "source": [
    "### Minimising the std in the translational order parameter gives a much better result"
   ]
  },
  {
   "cell_type": "code",
   "execution_count": 5,
   "metadata": {},
   "outputs": [],
   "source": [
    "direc = \"/media/data/Data/BallBearing/HIPS/PhaseDiagramsNewPlate/1,93mm/80%\"\n",
    "data_files = filehandling.list_files(f'{direc}/*.hdf5')"
   ]
  },
  {
   "cell_type": "code",
   "execution_count": 6,
   "metadata": {},
   "outputs": [],
   "source": [
    "def get_frame(file):\n",
    "    data = pd.read_hdf(file)\n",
    "    return data.loc[0].copy()\n",
    "\n",
    "file = data_files[1]\n",
    "frame =get_frame(file)\n"
   ]
  },
  {
   "cell_type": "code",
   "execution_count": 7,
   "metadata": {},
   "outputs": [],
   "source": [
    "def torder_angle_std(l, a):\n",
    "    G = calculate_G(l, a)\n",
    "    torder = np.exp(1j*frame[['x', 'y']].values@G)\n",
    "    angles = np.angle(torder)\n",
    "    std = np.std(angles)\n",
    "    return std\n",
    "\n",
    "torder_angle_std_vect = np.vectorize(torder_angle_std)\n",
    "\n",
    "def refine_l_and_a(l, a, plot=False, width=0.05):\n",
    "    lengths = np.linspace((1-width)*l, (1+width)*l, 100)\n",
    "    angles = np.linspace((1-width)*a, (1+width)*a, 100)\n",
    "    lengths, angles = np.meshgrid(lengths, angles)\n",
    "    stds = torder_angle_std_vect(lengths, angles)\n",
    "    min_index = np.unravel_index(np.argmin(stds, axis=None), stds.shape)\n",
    "    new_length = lengths[min_index]\n",
    "    new_angle = angles[min_index]\n",
    "    \n",
    "    if plot:\n",
    "        plt.figure()\n",
    "        plt.subplot(1, 3, 1)\n",
    "        plt.imshow(stds)\n",
    "        plt.axvline(min_index[1], c='red')\n",
    "        plt.axhline(min_index[0], c='red')\n",
    "        plt.subplot(1, 3, 2)\n",
    "        plt.plot(lengths[min_index[0], :], stds[min_index[0], :])\n",
    "        plt.axvline(l, c='red')\n",
    "        plt.axvline(new_length, c='green')\n",
    "        plt.xlabel('Length [pix]')\n",
    "        plt.subplot(1, 3, 3)\n",
    "        plt.plot(angles[:, min_index[1]], stds[:, min_index[1]])\n",
    "        plt.axvline(a, c='red')\n",
    "        plt.axvline(new_angle, c='green')\n",
    "        plt.xlabel('Angle [rad]')\n",
    "        \n",
    "        \n",
    "    return new_length, new_angle\n",
    "    "
   ]
  },
  {
   "cell_type": "code",
   "execution_count": 8,
   "metadata": {},
   "outputs": [],
   "source": [
    "length, angle = get_initial_length_and_angle(frame, apothem=False)\n",
    "initial_torder = calculate_torder_from_length_and_angle(length, angle)"
   ]
  },
  {
   "cell_type": "code",
   "execution_count": 9,
   "metadata": {},
   "outputs": [],
   "source": [
    "length2, angle2 = refine_l_and_a(length, angle, True, width=0.1)\n",
    "refined_torder = calculate_torder_from_length_and_angle(length2, angle2)"
   ]
  },
  {
   "cell_type": "code",
   "execution_count": 22,
   "metadata": {},
   "outputs": [],
   "source": [
    "length2, angle2 = refine_l_and_a(length2, angle2, True, width=0.02)\n",
    "refined_torder = calculate_torder_from_length_and_angle(length2, angle2)"
   ]
  },
  {
   "cell_type": "code",
   "execution_count": 23,
   "metadata": {},
   "outputs": [
    {
     "data": {
      "text/plain": [
       "(20.225023697995976, 1.0660379666290039)"
      ]
     },
     "execution_count": 23,
     "metadata": {},
     "output_type": "execute_result"
    }
   ],
   "source": [
    "length2, angle2"
   ]
  },
  {
   "cell_type": "code",
   "execution_count": 493,
   "metadata": {},
   "outputs": [],
   "source": [
    "from pathlib import Path"
   ]
  },
  {
   "cell_type": "code",
   "execution_count": 494,
   "metadata": {},
   "outputs": [],
   "source": [
    "path = Path(direc)"
   ]
  },
  {
   "cell_type": "code",
   "execution_count": 502,
   "metadata": {},
   "outputs": [],
   "source": [
    "parent = path.parent"
   ]
  },
  {
   "cell_type": "code",
   "execution_count": 505,
   "metadata": {},
   "outputs": [],
   "source": [
    "np.savetxt(str(parent)+'/G_length.txt', [length2])"
   ]
  },
  {
   "cell_type": "code",
   "execution_count": 507,
   "metadata": {},
   "outputs": [],
   "source": [
    "np.savetxt(str(parent)+'/G_angle.txt', [angle2])"
   ]
  },
  {
   "cell_type": "code",
   "execution_count": 10,
   "metadata": {},
   "outputs": [
    {
     "data": {
      "text/plain": "Text(0.5, 1.0, 'Refined guess')"
     },
     "execution_count": 10,
     "metadata": {},
     "output_type": "execute_result"
    }
   ],
   "source": [
    "plt.figure()\n",
    "plt.subplot(1, 2, 1)\n",
    "plt.quiver(frame.x, frame.y, initial_torder.real, initial_torder.imag, np.angle(initial_torder), cmap='hsv')\n",
    "plt.title('Intial guess')\n",
    "plt.subplot(1, 2, 2)\n",
    "plt.quiver(frame.x, frame.y, refined_torder.real, refined_torder.imag, np.angle(refined_torder), cmap='hsv')\n",
    "plt.title('Refined guess')"
   ]
  },
  {
   "cell_type": "markdown",
   "metadata": {},
   "source": [
    "### Load the values for angle and length from file"
   ]
  },
  {
   "cell_type": "code",
   "execution_count": 11,
   "metadata": {},
   "outputs": [
    {
     "ename": "NameError",
     "evalue": "name 'parent' is not defined",
     "output_type": "error",
     "traceback": [
      "\u001B[0;31m---------------------------------------------------------------------------\u001B[0m",
      "\u001B[0;31mNameError\u001B[0m                                 Traceback (most recent call last)",
      "\u001B[0;32m<ipython-input-11-80f793fbda3d>\u001B[0m in \u001B[0;36m<module>\u001B[0;34m\u001B[0m\n\u001B[0;32m----> 1\u001B[0;31m \u001B[0mlength2\u001B[0m \u001B[0;34m=\u001B[0m \u001B[0mfloat\u001B[0m\u001B[0;34m(\u001B[0m\u001B[0mnp\u001B[0m\u001B[0;34m.\u001B[0m\u001B[0mloadtxt\u001B[0m\u001B[0;34m(\u001B[0m\u001B[0mstr\u001B[0m\u001B[0;34m(\u001B[0m\u001B[0mparent\u001B[0m\u001B[0;34m)\u001B[0m\u001B[0;34m+\u001B[0m\u001B[0;34m'/G_length.txt'\u001B[0m\u001B[0;34m)\u001B[0m\u001B[0;34m)\u001B[0m\u001B[0;34m\u001B[0m\u001B[0;34m\u001B[0m\u001B[0m\n\u001B[0m\u001B[1;32m      2\u001B[0m \u001B[0mangle2\u001B[0m \u001B[0;34m=\u001B[0m \u001B[0mfloat\u001B[0m\u001B[0;34m(\u001B[0m\u001B[0mnp\u001B[0m\u001B[0;34m.\u001B[0m\u001B[0mloadtxt\u001B[0m\u001B[0;34m(\u001B[0m\u001B[0mstr\u001B[0m\u001B[0;34m(\u001B[0m\u001B[0mparent\u001B[0m\u001B[0;34m)\u001B[0m\u001B[0;34m+\u001B[0m\u001B[0;34m'/G_angle.txt'\u001B[0m\u001B[0;34m)\u001B[0m\u001B[0;34m)\u001B[0m\u001B[0;34m\u001B[0m\u001B[0;34m\u001B[0m\u001B[0m\n",
      "\u001B[0;31mNameError\u001B[0m: name 'parent' is not defined"
     ]
    }
   ],
   "source": [
    "length2 = float(np.loadtxt(str(parent)+'/G_length.txt'))\n",
    "angle2 = float(np.loadtxt(str(parent)+'/G_angle.txt'))"
   ]
  },
  {
   "cell_type": "code",
   "execution_count": 12,
   "metadata": {},
   "outputs": [
    {
     "data": {
      "text/plain": [
       "(20.32102684859296, 1.0739238317888027)"
      ]
     },
     "execution_count": 12,
     "metadata": {},
     "output_type": "execute_result"
    }
   ],
   "source": [
    "length2, angle2"
   ]
  },
  {
   "cell_type": "markdown",
   "metadata": {},
   "source": [
    "### Add torder to the files"
   ]
  },
  {
   "cell_type": "code",
   "execution_count": 11,
   "metadata": {},
   "outputs": [],
   "source": [
    "def get_torder(df, l, a):\n",
    "    G = calculate_G(l, a)\n",
    "    return np.exp(1j*df[['x', 'y']].values@G)\n",
    "\n",
    "def add_torder_to_file(file):\n",
    "    data = pd.read_hdf(file)\n",
    "    data['torder'] = get_torder(data, length2, angle2)\n",
    "    data.to_hdf(file, 'data')\n",
    "\n",
    "for file in data_files:\n",
    "    add_torder_to_file(file)"
   ]
  },
  {
   "cell_type": "markdown",
   "metadata": {},
   "source": [
    "### Use the refined values to plot the susceptibility"
   ]
  },
  {
   "cell_type": "code",
   "execution_count": 451,
   "metadata": {},
   "outputs": [],
   "source": [
    "def get_sus(df):\n",
    "    means_t = df.groupby('frame').apply(mean_frame_values, 'torder')\n",
    "    sus_t = np.mean(means_t * np.conj(means_t)) - np.mean(means_t)*np.conj(np.mean(means_t))\n",
    "    means_h = df.groupby('frame').apply(mean_frame_values, 'hexatic_order')\n",
    "    sus_h = np.mean(means_h * np.conj(means_h)) - np.mean(means_h)*np.conj(np.mean(means_h))\n",
    "    return sus_h, sus_t"
   ]
  },
  {
   "cell_type": "code",
   "execution_count": 426,
   "metadata": {},
   "outputs": [],
   "source": [
    "def mean_frame_values(points, param):\n",
    "    vals = points[param].values\n",
    "    return np.mean(vals)"
   ]
  },
  {
   "cell_type": "code",
   "execution_count": null,
   "metadata": {},
   "outputs": [],
   "source": []
  },
  {
   "cell_type": "code",
   "execution_count": 452,
   "metadata": {
    "collapsed": true,
    "jupyter": {
     "outputs_hidden": true
    }
   },
   "outputs": [
    {
     "name": "stdout",
     "output_type": "stream",
     "text": [
      "451\n",
      "452\n",
      "453\n",
      "454\n",
      "455\n",
      "456\n",
      "457\n",
      "458\n",
      "459\n",
      "460\n",
      "461\n",
      "462\n",
      "463\n",
      "464\n",
      "465\n",
      "466\n",
      "467\n",
      "468\n",
      "469\n",
      "470\n",
      "471\n",
      "472\n",
      "473\n",
      "474\n",
      "475\n",
      "476\n",
      "477\n",
      "478\n",
      "479\n",
      "480\n",
      "481\n",
      "482\n",
      "483\n",
      "484\n",
      "485\n",
      "486\n",
      "487\n",
      "488\n",
      "489\n",
      "490\n",
      "491\n",
      "492\n",
      "493\n",
      "494\n",
      "495\n",
      "496\n",
      "497\n",
      "498\n",
      "499\n",
      "500\n",
      "501\n",
      "502\n",
      "503\n",
      "504\n",
      "505\n",
      "506\n",
      "507\n",
      "508\n",
      "509\n",
      "510\n",
      "511\n",
      "512\n",
      "513\n",
      "514\n",
      "515\n",
      "516\n",
      "517\n",
      "518\n",
      "519\n",
      "520\n",
      "521\n",
      "522\n",
      "523\n",
      "524\n",
      "525\n",
      "526\n",
      "527\n",
      "528\n",
      "529\n",
      "530\n",
      "531\n",
      "532\n",
      "533\n",
      "534\n",
      "535\n",
      "536\n",
      "537\n",
      "538\n",
      "539\n",
      "540\n",
      "541\n",
      "542\n",
      "543\n",
      "544\n",
      "545\n",
      "546\n",
      "547\n",
      "548\n",
      "549\n",
      "550\n"
     ]
    }
   ],
   "source": [
    "duties = []\n",
    "suses_h = []\n",
    "suses_t = []\n",
    "for file in data_files:\n",
    "    data = pd.read_hdf(file)\n",
    "    data['torder'] = get_torder(data, length2, angle2)\n",
    "    duty = int(file[-8:-5])\n",
    "    print(duty)\n",
    "    sus_h, sus_t = get_sus(data)\n",
    "    duties.append(duty)\n",
    "    suses_h.append(sus_h)\n",
    "    suses_t.append(sus_t)"
   ]
  },
  {
   "cell_type": "code",
   "execution_count": 408,
   "metadata": {},
   "outputs": [],
   "source": [
    "np.savetxt(direc+'/duties.txt', duties)\n",
    "np.savetxt(direc+'/suses_h.txt', suses_h)\n",
    "np.savetxt(direc+'/suses_t.txt', suses_t)"
   ]
  },
  {
   "cell_type": "code",
   "execution_count": 409,
   "metadata": {},
   "outputs": [
    {
     "name": "stderr",
     "output_type": "stream",
     "text": [
      "/home/ppxjd3/miniconda3/envs/ExperimentsNew/lib/python3.9/site-packages/matplotlib/cbook/__init__.py:1333: ComplexWarning: Casting complex values to real discards the imaginary part\n",
      "  return np.asarray(x, float)\n"
     ]
    },
    {
     "data": {
      "text/plain": [
       "[<matplotlib.lines.Line2D at 0x7f0f4ee91250>]"
      ]
     },
     "execution_count": 409,
     "metadata": {},
     "output_type": "execute_result"
    },
    {
     "data": {
      "image/png": "[encoded data removed]",
      "text/plain": [
       "<Figure size 432x288 with 1 Axes>"
      ]
     },
     "metadata": {
      "needs_background": "light"
     },
     "output_type": "display_data"
    }
   ],
   "source": [
    "plt.plot(duties, suses_h)\n",
    "plt.plot(duties, suses_t)"
   ]
  },
  {
   "cell_type": "markdown",
   "metadata": {},
   "source": [
    "### Try just plotting the mean order"
   ]
  },
  {
   "cell_type": "code",
   "execution_count": 25,
   "metadata": {},
   "outputs": [],
   "source": [
    "from tqdm import tqdm"
   ]
  },
  {
   "cell_type": "code",
   "execution_count": 26,
   "metadata": {},
   "outputs": [
    {
     "name": "stderr",
     "output_type": "stream",
     "text": [
      "100%|██████████| 150/150 [01:04<00:00,  2.32it/s]\n"
     ]
    }
   ],
   "source": [
    "duties = []\n",
    "horder = []\n",
    "torder = []\n",
    "for file in tqdm(data_files):\n",
    "    data = pd.read_hdf(file)\n",
    "    data['torder'] = get_torder(data, length, angle)\n",
    "    duty = int(file[-8:-5])\n",
    "    h = np.abs(np.mean(data.hexatic_order))\n",
    "    t = np.abs(np.mean(data.torder))\n",
    "    horder.append(h)\n",
    "    torder.append(t)\n",
    "    duties.append(duty)"
   ]
  },
  {
   "cell_type": "code",
   "execution_count": 27,
   "metadata": {},
   "outputs": [],
   "source": [
    "np.savetxt(direc+'/horder_mean.txt', horder)\n",
    "np.savetxt(direc+'/torder_mean.txt', torder)"
   ]
  },
  {
   "cell_type": "code",
   "execution_count": 29,
   "metadata": {},
   "outputs": [],
   "source": [
    "plt.plot(duties, horder)\n",
    "plt.plot(duties, torder)\n",
    "plt.xlabel('Density')\n",
    "plt.ylabel('Mean order')\n",
    "plt.legend(['Hexatic', 'Translational'])\n",
    "plt.title(direc.split('NewPlate/')[1])\n",
    "plt.savefig(direc+'/mean_order_plot_unrefined.png', dpi=300)"
   ]
  },
  {
   "cell_type": "code",
   "execution_count": null,
   "metadata": {},
   "outputs": [],
   "source": []
  }
 ],
 "metadata": {
  "kernelspec": {
   "display_name": "Python 3",
   "language": "python",
   "name": "python3"
  },
  "language_info": {
   "codemirror_mode": {
    "name": "ipython",
    "version": 3
   },
   "file_extension": ".py",
   "mimetype": "text/x-python",
   "name": "python",
   "nbconvert_exporter": "python",
   "pygments_lexer": "ipython3",
   "version": "3.9.7"
  }
 },
 "nbformat": 4,
 "nbformat_minor": 4
}