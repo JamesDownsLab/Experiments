{
 "cells": [
  {
   "cell_type": "code",
   "execution_count": 1,
   "id": "31c368da",
   "metadata": {
    "pycharm": {
     "name": "#%%\n"
    }
   },
   "outputs": [
    {
     "name": "stdout",
     "output_type": "stream",
     "text": [
      "Using matplotlib backend: Qt5Agg\n"
     ]
    }
   ],
   "source": [
    "import numpy as np\n",
    "import pandas as pd\n",
    "from fast_histogram import histogram1d\n",
    "from scipy import spatial\n",
    "from shapely.geometry import Polygon, Point, MultiPoint\n",
    "import matplotlib.pyplot as plt\n",
    "from tqdm import tqdm as tqdm\n",
    "%matplotlib auto"
   ]
  },
  {
   "cell_type": "code",
   "execution_count": 2,
   "id": "c105aa54",
   "metadata": {
    "pycharm": {
     "name": "#%%\n"
    }
   },
   "outputs": [],
   "source": [
    "def corr(features, density, r_min, r_max, dr):\n",
    "    radius = features.r.mean()\n",
    "    N = features.x.count()\n",
    "    dists, orders, N = dists_and_orders(features, r_max * radius)\n",
    "    r_values = np.arange(r_min, r_max, dr) * radius\n",
    "\n",
    "    \n",
    "    g, bins = np.histogram(dists, bins=r_values)\n",
    "    g6, bins = np.histogram(dists, bins=r_values, weights=orders)\n",
    "    bin_centres = bins[1:] - (bins[1] - bins[0]) / 2\n",
    "    divisor = 2 * np.pi * r_values[:-1] * (bins[1] - bins[0]) * density * N\n",
    "\n",
    "    g = g / divisor\n",
    "    g6 = g6 / divisor\n",
    "    return bin_centres, g, g6\n",
    "\n",
    "def dists_and_orders(f, t=1000):\n",
    "    idx = get_idx(f, t)\n",
    "    dists = get_dists(f, idx)\n",
    "    orders = get_orders(f, idx)\n",
    "    return dists.ravel(), orders.ravel(), np.sum(idx)\n",
    "\n",
    "\n",
    "def get_idx(f, t):\n",
    "    return f.edge_distance.values > t\n",
    "#     return f.x.values > 0\n",
    "\n",
    "\n",
    "def get_dists(f, idx):\n",
    "    x = f[['x', 'y']].values\n",
    "    return spatial.distance.cdist(x[idx, :], x)\n",
    "\n",
    "\n",
    "def get_orders(f, idx):\n",
    "    orders = make_complex(f)\n",
    "    order_grid = make_order_grid(orders, idx)\n",
    "    return np.abs(order_grid)\n",
    "\n",
    "\n",
    "def make_order_grid(orders, idx):\n",
    "    orders = orders.reshape(-1, 1)\n",
    "    return orders[idx] @ np.conj(orders).transpose()\n",
    "\n",
    "\n",
    "def make_complex(f):\n",
    "    return f['hexatic_order'].values\n",
    "\n",
    "\n",
    "def flat_array(x):\n",
    "    return np.concatenate([item.ravel() for item in x])"
   ]
  },
  {
   "cell_type": "code",
   "execution_count": 3,
   "id": "17d78cc5",
   "metadata": {
    "pycharm": {
     "name": "#%%\n"
    }
   },
   "outputs": [],
   "source": [
    "def add_edge_distance(data):\n",
    "    points = data[['x', 'y']].values\n",
    "    hull = spatial.ConvexHull(points)\n",
    "    hull_points = points[hull.vertices, :]\n",
    "    polygon = Polygon(hull_points)\n",
    "    multi_point = MultiPoint(points)\n",
    "    dists = [polygon.exterior.distance(p) for p in multi_point.geoms]\n",
    "    data['edge_distance'] = dists\n",
    "    return data, hull.volume"
   ]
  },
  {
   "cell_type": "markdown",
   "id": "946c598a",
   "metadata": {
    "pycharm": {
     "name": "#%% md\n"
    }
   },
   "source": [
    "# Test one dataset"
   ]
  },
  {
   "cell_type": "code",
   "execution_count": 4,
   "id": "800d12ec",
   "metadata": {
    "pycharm": {
     "name": "#%%\n"
    }
   },
   "outputs": [],
   "source": [
    "file = \"/media/data/Data/BallBearing/HIPS/PhaseDiagramsNewPlate/2,10mm/80%/480.hdf5\"\n",
    "data = pd.read_hdf(file)\n",
    "# data = add_edge_distance(data)\n",
    "\n",
    "\n",
    "frame0 = data.loc[0].copy()\n",
    "N = len(frame0)\n",
    "frame0['r'] = frame0['size']/2\n",
    "frame0, area = add_edge_distance(frame0)\n",
    "r, g, g6 = corr(frame0, N/area, 1, 400, 0.1)\n",
    "diameter = r[np.argmax(g)]"
   ]
  },
  {
   "cell_type": "markdown",
   "id": "5c89f57f",
   "metadata": {
    "pycharm": {
     "name": "#%% md\n"
    }
   },
   "source": [
    "### Average over frames"
   ]
  },
  {
   "cell_type": "code",
   "execution_count": 5,
   "id": "7887638a",
   "metadata": {
    "pycharm": {
     "name": "#%%\n"
    }
   },
   "outputs": [],
   "source": [
    "def apply(df):\n",
    "    df, area = add_edge_distance(df)\n",
    "    r, g, g6 = corr(df, N)"
   ]
  },
  {
   "cell_type": "code",
   "execution_count": 7,
   "id": "605d0747",
   "metadata": {
    "pycharm": {
     "name": "#%%\n"
    }
   },
   "outputs": [
    {
     "name": "stderr",
     "output_type": "stream",
     "text": [
      "<ipython-input-7-f946e067a6da>:7: RuntimeWarning: invalid value encountered in true_divide\n",
      "  plt.loglog(r/diameter, g6/g)\n"
     ]
    },
    {
     "data": {
      "text/plain": "Text(0, 0.5, '$g_6(r)/g(r)$')"
     },
     "execution_count": 7,
     "metadata": {},
     "output_type": "execute_result"
    }
   ],
   "source": [
    "plt.subplot(1, 2, 1)\n",
    "plt.loglog(r/diameter, g-1)\n",
    "plt.xlim([0.4, max(r/diameter)])\n",
    "plt.xlabel('r/d')\n",
    "plt.ylabel('g(r)')\n",
    "plt.subplot(1, 2, 2)\n",
    "plt.loglog(r/diameter, g6/g)\n",
    "plt.xlim([0.4, max(r/diameter)])\n",
    "plt.xlabel('r/d')\n",
    "plt.ylabel('$g_6(r)/g(r)$')"
   ]
  },
  {
   "cell_type": "code",
   "execution_count": 31,
   "id": "266e8552",
   "metadata": {
    "pycharm": {
     "name": "#%%\n"
    }
   },
   "outputs": [],
   "source": [
    "import filehandling\n",
    "files = filehandling.get_directory_filenames(\"/media/data/Data/BallBearing/HIPS/PhaseDiagramsNewPlate/2,42mm/80%/*.hdf5\")"
   ]
  },
  {
   "cell_type": "code",
   "execution_count": 32,
   "id": "48cf4124",
   "metadata": {
    "pycharm": {
     "name": "#%%\n"
    }
   },
   "outputs": [],
   "source": [
    "files = files[0]\n",
    "data = pd.read_hdf(file)\n",
    "data['r'] = data['size']/2\n",
    "frame0 = data.loc[0].copy()"
   ]
  },
  {
   "cell_type": "code",
   "execution_count": 33,
   "id": "f6306b14",
   "metadata": {
    "collapsed": true,
    "jupyter": {
     "outputs_hidden": true
    },
    "pycharm": {
     "name": "#%%\n"
    }
   },
   "outputs": [
    {
     "data": {
      "text/plain": "                 y            x        mass      size       ecc     signal  \\\nframe                                                                        \n0        36.945611   834.197674  913.338625  1.744781  0.037381  65.091650   \n0        37.228107  1242.014124  970.208172  1.760361  0.145300  68.174939   \n0        38.255732   632.194885  776.988748  1.787424  0.171200  55.499196   \n0        37.907566   693.870515  878.394687  1.740026  0.115020  63.721299   \n0        38.406284  1002.803178  948.625151  1.790791  0.102492  66.804588   \n...            ...          ...         ...       ...       ...        ...   \n0      1948.070216  1511.090664  887.987140  1.744590  0.053943  64.406475   \n0      1947.658555  1608.124335  901.005470  1.850188  0.072792  58.239897   \n0      1948.473174   977.649404  919.505202  1.803396  0.059376  67.147176   \n0      1948.981730  1406.838002  843.793336  1.729118  0.222902  65.091650   \n0      1948.884326  1572.717784  909.227574  1.782440  0.114548  64.063887   \n\n       raw_mass        ep       hexatic_order  number_of_neighbors  user_rad  \\\nframe                                                                          \n0        3881.0  0.004874  0.224477+0.214356j                  6.0         6   \n0        4123.0  0.004587  0.443073+0.028229j                  6.0         6   \n0        3518.0  0.005378  0.538336-0.091643j                  5.0         6   \n0        3940.0  0.004801  0.304430-0.062944j                  5.0         6   \n0        3951.0  0.004787  0.253487+0.153372j                  4.0         6   \n...         ...       ...                 ...                  ...       ...   \n0        3479.0  0.005438  0.333928-0.112574j                  6.0         6   \n0        3814.0  0.004960 -0.064394+0.005785j                  5.0         6   \n0        3784.0  0.004999 -0.062360+0.026859j                  6.0         6   \n0        3377.0  0.005603  0.666478+0.140741j                  5.0         6   \n0        3769.0  0.005019  0.239660+0.186681j                  7.0         6   \n\n                   torder         r  edge_distance  \nframe                                               \n0     -0.867968-0.496619j  0.872391       0.000000  \n0     -0.380931+0.924604j  0.880180       0.000000  \n0      0.493582+0.869699j  0.893712       0.000000  \n0      0.045652+0.998957j  0.870013       0.051840  \n0     -0.574488-0.818513j  0.895396       1.343878  \n...                   ...       ...            ...  \n0      0.390273+0.920699j  0.872295       0.850297  \n0     -0.851369-0.524567j  0.925094       0.196644  \n0     -0.857864+0.513877j  0.901698       0.000000  \n0      0.639802+0.768540j  0.864559       0.000000  \n0     -0.281174+0.959657j  0.891220       0.000000  \n\n[5818 rows x 14 columns]",
      "text/html": "<div>\n<style scoped>\n    .dataframe tbody tr th:only-of-type {\n        vertical-align: middle;\n    }\n\n    .dataframe tbody tr th {\n        vertical-align: top;\n    }\n\n    .dataframe thead th {\n        text-align: right;\n    }\n</style>\n<table border=\"1\" class=\"dataframe\">\n  <thead>\n    <tr style=\"text-align: right;\">\n      <th></th>\n      <th>y</th>\n      <th>x</th>\n      <th>mass</th>\n      <th>size</th>\n      <th>ecc</th>\n      <th>signal</th>\n      <th>raw_mass</th>\n      <th>ep</th>\n      <th>hexatic_order</th>\n      <th>number_of_neighbors</th>\n      <th>user_rad</th>\n      <th>torder</th>\n      <th>r</th>\n      <th>edge_distance</th>\n    </tr>\n    <tr>\n      <th>frame</th>\n      <th></th>\n      <th></th>\n      <th></th>\n      <th></th>\n      <th></th>\n      <th></th>\n      <th></th>\n      <th></th>\n      <th></th>\n      <th></th>\n      <th></th>\n      <th></th>\n      <th></th>\n      <th></th>\n    </tr>\n  </thead>\n  <tbody>\n    <tr>\n      <th>0</th>\n      <td>36.945611</td>\n      <td>834.197674</td>\n      <td>913.338625</td>\n      <td>1.744781</td>\n      <td>0.037381</td>\n      <td>65.091650</td>\n      <td>3881.0</td>\n      <td>0.004874</td>\n      <td>0.224477+0.214356j</td>\n      <td>6.0</td>\n      <td>6</td>\n      <td>-0.867968-0.496619j</td>\n      <td>0.872391</td>\n      <td>0.000000</td>\n    </tr>\n    <tr>\n      <th>0</th>\n      <td>37.228107</td>\n      <td>1242.014124</td>\n      <td>970.208172</td>\n      <td>1.760361</td>\n      <td>0.145300</td>\n      <td>68.174939</td>\n      <td>4123.0</td>\n      <td>0.004587</td>\n      <td>0.443073+0.028229j</td>\n      <td>6.0</td>\n      <td>6</td>\n      <td>-0.380931+0.924604j</td>\n      <td>0.880180</td>\n      <td>0.000000</td>\n    </tr>\n    <tr>\n      <th>0</th>\n      <td>38.255732</td>\n      <td>632.194885</td>\n      <td>776.988748</td>\n      <td>1.787424</td>\n      <td>0.171200</td>\n      <td>55.499196</td>\n      <td>3518.0</td>\n      <td>0.005378</td>\n      <td>0.538336-0.091643j</td>\n      <td>5.0</td>\n      <td>6</td>\n      <td>0.493582+0.869699j</td>\n      <td>0.893712</td>\n      <td>0.000000</td>\n    </tr>\n    <tr>\n      <th>0</th>\n      <td>37.907566</td>\n      <td>693.870515</td>\n      <td>878.394687</td>\n      <td>1.740026</td>\n      <td>0.115020</td>\n      <td>63.721299</td>\n      <td>3940.0</td>\n      <td>0.004801</td>\n      <td>0.304430-0.062944j</td>\n      <td>5.0</td>\n      <td>6</td>\n      <td>0.045652+0.998957j</td>\n      <td>0.870013</td>\n      <td>0.051840</td>\n    </tr>\n    <tr>\n      <th>0</th>\n      <td>38.406284</td>\n      <td>1002.803178</td>\n      <td>948.625151</td>\n      <td>1.790791</td>\n      <td>0.102492</td>\n      <td>66.804588</td>\n      <td>3951.0</td>\n      <td>0.004787</td>\n      <td>0.253487+0.153372j</td>\n      <td>4.0</td>\n      <td>6</td>\n      <td>-0.574488-0.818513j</td>\n      <td>0.895396</td>\n      <td>1.343878</td>\n    </tr>\n    <tr>\n      <th>...</th>\n      <td>...</td>\n      <td>...</td>\n      <td>...</td>\n      <td>...</td>\n      <td>...</td>\n      <td>...</td>\n      <td>...</td>\n      <td>...</td>\n      <td>...</td>\n      <td>...</td>\n      <td>...</td>\n      <td>...</td>\n      <td>...</td>\n      <td>...</td>\n    </tr>\n    <tr>\n      <th>0</th>\n      <td>1948.070216</td>\n      <td>1511.090664</td>\n      <td>887.987140</td>\n      <td>1.744590</td>\n      <td>0.053943</td>\n      <td>64.406475</td>\n      <td>3479.0</td>\n      <td>0.005438</td>\n      <td>0.333928-0.112574j</td>\n      <td>6.0</td>\n      <td>6</td>\n      <td>0.390273+0.920699j</td>\n      <td>0.872295</td>\n      <td>0.850297</td>\n    </tr>\n    <tr>\n      <th>0</th>\n      <td>1947.658555</td>\n      <td>1608.124335</td>\n      <td>901.005470</td>\n      <td>1.850188</td>\n      <td>0.072792</td>\n      <td>58.239897</td>\n      <td>3814.0</td>\n      <td>0.004960</td>\n      <td>-0.064394+0.005785j</td>\n      <td>5.0</td>\n      <td>6</td>\n      <td>-0.851369-0.524567j</td>\n      <td>0.925094</td>\n      <td>0.196644</td>\n    </tr>\n    <tr>\n      <th>0</th>\n      <td>1948.473174</td>\n      <td>977.649404</td>\n      <td>919.505202</td>\n      <td>1.803396</td>\n      <td>0.059376</td>\n      <td>67.147176</td>\n      <td>3784.0</td>\n      <td>0.004999</td>\n      <td>-0.062360+0.026859j</td>\n      <td>6.0</td>\n      <td>6</td>\n      <td>-0.857864+0.513877j</td>\n      <td>0.901698</td>\n      <td>0.000000</td>\n    </tr>\n    <tr>\n      <th>0</th>\n      <td>1948.981730</td>\n      <td>1406.838002</td>\n      <td>843.793336</td>\n      <td>1.729118</td>\n      <td>0.222902</td>\n      <td>65.091650</td>\n      <td>3377.0</td>\n      <td>0.005603</td>\n      <td>0.666478+0.140741j</td>\n      <td>5.0</td>\n      <td>6</td>\n      <td>0.639802+0.768540j</td>\n      <td>0.864559</td>\n      <td>0.000000</td>\n    </tr>\n    <tr>\n      <th>0</th>\n      <td>1948.884326</td>\n      <td>1572.717784</td>\n      <td>909.227574</td>\n      <td>1.782440</td>\n      <td>0.114548</td>\n      <td>64.063887</td>\n      <td>3769.0</td>\n      <td>0.005019</td>\n      <td>0.239660+0.186681j</td>\n      <td>7.0</td>\n      <td>6</td>\n      <td>-0.281174+0.959657j</td>\n      <td>0.891220</td>\n      <td>0.000000</td>\n    </tr>\n  </tbody>\n</table>\n<p>5818 rows × 14 columns</p>\n</div>"
     },
     "execution_count": 33,
     "metadata": {},
     "output_type": "execute_result"
    }
   ],
   "source": [
    "frame0, area = add_edge_distance(frame0)\n",
    "frame0"
   ]
  },
  {
   "cell_type": "code",
   "execution_count": 34,
   "id": "20b8564d",
   "metadata": {
    "pycharm": {
     "name": "#%%\n"
    }
   },
   "outputs": [],
   "source": [
    "r_min, r_max, dr = 2, 100, 0.1\n",
    "radius = frame0.r.mean()\n",
    "N = frame0.x.count()\n",
    "dists, orders, N = dists_and_orders(frame0, 0)#r_max * radius * 3)\n",
    "r_values = np.arange(r_min, r_max, dr) * radius\n",
    "density = len(frame0)/area"
   ]
  },
  {
   "cell_type": "code",
   "execution_count": 102,
   "id": "adb6d433",
   "metadata": {
    "pycharm": {
     "name": "#%%\n"
    }
   },
   "outputs": [
    {
     "data": {
      "text/plain": [
       "(7562, 57418266, 7593)"
      ]
     },
     "execution_count": 102,
     "metadata": {},
     "output_type": "execute_result"
    }
   ],
   "source": [
    "N, len(dists), frame0.x.count()"
   ]
  },
  {
   "cell_type": "code",
   "execution_count": 103,
   "id": "385097cf",
   "metadata": {
    "pycharm": {
     "name": "#%%\n"
    }
   },
   "outputs": [],
   "source": [
    "g, bins = np.histogram(dists, bins=r_values)\n",
    "g6, bins = np.histogram(dists, bins=r_values, weights=orders)\n",
    "bin_centres = bins[1:] - (bins[1] - bins[0]) / 2\n",
    "divisor = 2 * np.pi * r_values[:-1] * (bins[1] - bins[0]) * density * len(\n",
    "    dists)"
   ]
  },
  {
   "cell_type": "code",
   "execution_count": 118,
   "id": "cbe85d15",
   "metadata": {
    "pycharm": {
     "name": "#%%\n"
    }
   },
   "outputs": [
    {
     "data": {
      "text/plain": [
       "Text(0, 0.5, '$N_{expect}$')"
      ]
     },
     "execution_count": 118,
     "metadata": {},
     "output_type": "execute_result"
    }
   ],
   "source": [
    "plt.plot(r_values[:-1], divisor/len(dists))\n",
    "plt.xlabel('r [pixels]')\n",
    "plt.ylabel('$N_{expect}$')"
   ]
  },
  {
   "cell_type": "code",
   "execution_count": 116,
   "id": "4fd60155",
   "metadata": {
    "pycharm": {
     "name": "#%%\n"
    }
   },
   "outputs": [
    {
     "data": {
      "text/plain": [
       "Text(0, 0.5, 'g(r)')"
      ]
     },
     "execution_count": 116,
     "metadata": {},
     "output_type": "execute_result"
    }
   ],
   "source": [
    "plt.plot(r_values[:-1], g/divisor)\n",
    "plt.xlabel('r [pixels]')\n",
    "plt.ylabel('g(r)')"
   ]
  },
  {
   "cell_type": "code",
   "execution_count": 35,
   "id": "5d17520e",
   "metadata": {
    "pycharm": {
     "name": "#%%\n"
    }
   },
   "outputs": [
    {
     "name": "stderr",
     "output_type": "stream",
     "text": [
      "94it [07:29,  4.78s/it]\n"
     ]
    }
   ],
   "source": [
    "import filehandling\n",
    "files = filehandling.get_directory_filenames(\"/media/data/Data/BallBearing/HIPS/PhaseDiagramsNewPlate/2,42mm/80%/*.hdf5\")\n",
    "figure_data = {}\n",
    "for i, file in tqdm(enumerate(files)):\n",
    "    duty = int(file[-8:-5])\n",
    "    data = pd.read_hdf(file)\n",
    "    data['r'] = data['size']/2\n",
    "    frame0 =data.loc[0].copy()\n",
    "    frame0, area = add_edge_distance(frame0)\n",
    "    density = len(frame0) / area\n",
    "    r, g, g6 = corr(frame0, density, 1, 300, 0.1)\n",
    "    if i == 0:\n",
    "        diameter = r[np.argmax(g)]\n",
    "    \n",
    "    figure_data[duty] = (r, g, g6, diameter)\n"
   ]
  },
  {
   "cell_type": "code",
   "execution_count": 38,
   "outputs": [
    {
     "name": "stderr",
     "output_type": "stream",
     "text": [
      "<ipython-input-38-1d8e60c8f324>:8: RuntimeWarning: invalid value encountered in true_divide\n",
      "  plt.loglog(data[0]/diameter, data[2]/data[1])\n",
      "<ipython-input-38-1d8e60c8f324>:8: RuntimeWarning: invalid value encountered in true_divide\n",
      "  plt.loglog(data[0]/diameter, data[2]/data[1])\n",
      "<ipython-input-38-1d8e60c8f324>:8: RuntimeWarning: invalid value encountered in true_divide\n",
      "  plt.loglog(data[0]/diameter, data[2]/data[1])\n",
      "<ipython-input-38-1d8e60c8f324>:8: RuntimeWarning: invalid value encountered in true_divide\n",
      "  plt.loglog(data[0]/diameter, data[2]/data[1])\n",
      "<ipython-input-38-1d8e60c8f324>:8: RuntimeWarning: invalid value encountered in true_divide\n",
      "  plt.loglog(data[0]/diameter, data[2]/data[1])\n",
      "<ipython-input-38-1d8e60c8f324>:8: RuntimeWarning: invalid value encountered in true_divide\n",
      "  plt.loglog(data[0]/diameter, data[2]/data[1])\n",
      "<ipython-input-38-1d8e60c8f324>:8: RuntimeWarning: invalid value encountered in true_divide\n",
      "  plt.loglog(data[0]/diameter, data[2]/data[1])\n",
      "<ipython-input-38-1d8e60c8f324>:8: RuntimeWarning: invalid value encountered in true_divide\n",
      "  plt.loglog(data[0]/diameter, data[2]/data[1])\n",
      "<ipython-input-38-1d8e60c8f324>:8: RuntimeWarning: invalid value encountered in true_divide\n",
      "  plt.loglog(data[0]/diameter, data[2]/data[1])\n",
      "<ipython-input-38-1d8e60c8f324>:8: RuntimeWarning: invalid value encountered in true_divide\n",
      "  plt.loglog(data[0]/diameter, data[2]/data[1])\n"
     ]
    }
   ],
   "source": [
    "for key, data in figure_data.items():\n",
    "    if key % 10 == 0:\n",
    "        plt.figure()\n",
    "        plt.subplot(1, 2, 1)\n",
    "        plt.loglog(data[0]/diameter, data[1]-1)\n",
    "        plt.title(key)\n",
    "        plt.subplot(1, 2, 2)\n",
    "        plt.loglog(data[0]/diameter, data[2]/data[1])\n",
    "        plt.subplot(1, 2, 1)\n",
    "        plt.loglog(data[0]/diameter, (data[0]/diameter)**(-1/3))\n",
    "        plt.axvline(diameter)\n",
    "        plt.xlim([0.5, 10])\n",
    "        plt.subplot(1, 2, 2)\n",
    "        plt.loglog(data[0]/diameter, (data[0]/diameter)**(-1/4))\n",
    "        plt.axvline(diameter)\n",
    "        plt.xlim([0.5, 10])"
   ],
   "metadata": {
    "collapsed": false,
    "pycharm": {
     "name": "#%%\n"
    }
   }
  },
  {
   "cell_type": "code",
   "execution_count": 39,
   "outputs": [],
   "source": [
    "plt.close(\n",
    "'all'\n",
    "\n",
    ")\n"
   ],
   "metadata": {
    "collapsed": false,
    "pycharm": {
     "name": "#%%\n"
    }
   }
  },
  {
   "cell_type": "code",
   "execution_count": null,
   "outputs": [],
   "source": [],
   "metadata": {
    "collapsed": false,
    "pycharm": {
     "name": "#%%\n"
    }
   }
  },
  {
   "cell_type": "code",
   "execution_count": 20,
   "id": "11722662",
   "metadata": {
    "pycharm": {
     "name": "#%%\n"
    }
   },
   "outputs": [],
   "source": [
    "import pickle"
   ]
  },
  {
   "cell_type": "code",
   "execution_count": 272,
   "id": "7c7c3471",
   "metadata": {
    "pycharm": {
     "name": "#%%\n"
    }
   },
   "outputs": [],
   "source": []
  },
  {
   "cell_type": "code",
   "execution_count": 271,
   "id": "a3d8f0ef",
   "metadata": {
    "pycharm": {
     "name": "#%%\n"
    }
   },
   "outputs": [],
   "source": [
    "with open(new_file, 'wb') as f:\n",
    "    pickle.dump(figure_data, f)\n",
    "    "
   ]
  },
  {
   "cell_type": "markdown",
   "id": "d5afe269",
   "metadata": {
    "pycharm": {
     "name": "#%% md\n"
    }
   },
   "source": [
    "# Plot"
   ]
  },
  {
   "cell_type": "code",
   "execution_count": 15,
   "id": "79f8337d",
   "metadata": {
    "pycharm": {
     "name": "#%%\n"
    }
   },
   "outputs": [],
   "source": [
    "from matplotlib.widgets import Slider"
   ]
  },
  {
   "cell_type": "code",
   "execution_count": 18,
   "id": "ec4b3ea4",
   "metadata": {
    "pycharm": {
     "name": "#%%\n"
    }
   },
   "outputs": [],
   "source": [
    "direc1 = \"/media/data/Data/BallBearing/HIPS/PhaseDiagramsNewPlate/2,15mm/85%\"\n",
    "new_file1 = direc1 + '/correlation_data.pkl'\n",
    "direc2 = \"/media/data/Data/BallBearing/HIPS/PhaseDiagramsNewPlate/2,25mm/85%\"\n",
    "new_file2 = direc2 + '/correlation_data.pkl'"
   ]
  },
  {
   "cell_type": "code",
   "execution_count": 21,
   "id": "e7dbc478",
   "metadata": {
    "pycharm": {
     "name": "#%%\n"
    }
   },
   "outputs": [],
   "source": [
    "with open(new_file1, 'rb') as f:\n",
    "    figure_data_2_15 = pickle.load(f)\n",
    "\n",
    "with open(new_file2, 'rb') as f:\n",
    "    figure_data_2_25 = pickle.load(f)"
   ]
  },
  {
   "cell_type": "code",
   "execution_count": 24,
   "id": "aeac7466",
   "metadata": {
    "pycharm": {
     "name": "#%%\n"
    }
   },
   "outputs": [
    {
     "name": "stderr",
     "output_type": "stream",
     "text": [
      "<ipython-input-24-1ec3e8f63c70>:13: RuntimeWarning: invalid value encountered in true_divide\n",
      "  plot2, = ax[1].semilogy(r, g6/g)\n",
      "<ipython-input-24-1ec3e8f63c70>:14: RuntimeWarning: invalid value encountered in true_divide\n",
      "  plot2b, = ax[1].semilogy(r2, g62/g2)\n"
     ]
    },
    {
     "data": {
      "text/plain": [
       "0"
      ]
     },
     "execution_count": 24,
     "metadata": {},
     "output_type": "execute_result"
    },
    {
     "name": "stderr",
     "output_type": "stream",
     "text": [
      "<ipython-input-24-1ec3e8f63c70>:33: RuntimeWarning: invalid value encountered in true_divide\n",
      "  plot2.set_ydata(g6/g)\n",
      "<ipython-input-24-1ec3e8f63c70>:35: RuntimeWarning: invalid value encountered in true_divide\n",
      "  plot2b.set_ydata(g62/g2)\n"
     ]
    }
   ],
   "source": [
    "fig, ax = plt.subplots(1, 2)\n",
    "plt.subplots_adjust(bottom=0.25)\n",
    "keys = list(figure_data_2_15.keys())\n",
    "key = keys[0]\n",
    "r, g, g6, diameter = figure_data_2_15[key]\n",
    "r2, g2, g62, diameter2 = figure_data_2_25[key]\n",
    "diameter = r[np.argmax(g)] / 2\n",
    "plot1, = ax[0].semilogy(r*pix_2_mm, g-1)\n",
    "plot1b, = ax[0].semilogy(r2*pix_2_mm, g2-1)\n",
    "# ax[0].set_xlim([0.4, 5])\n",
    "ax[0].set_xlabel('r [mm]')\n",
    "ax[0].set_ylabel('g')\n",
    "plot2, = ax[1].semilogy(r, g6/g)\n",
    "plot2b, = ax[1].semilogy(r2, g62/g2)\n",
    "# ax[1].set_xlim([0.4, 5])\n",
    "ax[1].set_xlabel('r [mm]')\n",
    "ax[1].set_ylabel('g6/g')\n",
    "\n",
    "\n",
    "s_ax = plt.axes([0.25, 0.1, 0.65, 0.03])\n",
    "slider = Slider(s_ax, 'Duty', min(keys), max(keys), valinit=key, valstep=1)\n",
    "\n",
    "def update(val):\n",
    "    duty = slider.val\n",
    "    r, g, g6, diameter = figure_data_2_15[duty]\n",
    "    r2, g2, g62, diameter2 = figure_data_2_25[duty]\n",
    "    diameter = r[np.argmax(g)] / 2\n",
    "    plot1.set_xdata(r*pix_2_mm)\n",
    "    plot1.set_ydata(g)\n",
    "    plot1b.set_xdata(r2*pix_2_mm)\n",
    "    plot1b.set_ydata(g2)\n",
    "    plot2.set_xdata(r*pix_2_mm)\n",
    "    plot2.set_ydata(g6/g)\n",
    "    plot2b.set_xdata(r2*pix_2_mm)\n",
    "    plot2b.set_ydata(g62/g2)\n",
    "slider.on_changed(update)\n",
    "\n"
   ]
  },
  {
   "cell_type": "markdown",
   "id": "6953ab15",
   "metadata": {
    "pycharm": {
     "name": "#%% md\n"
    }
   },
   "source": [
    "# Test fake data"
   ]
  },
  {
   "cell_type": "code",
   "execution_count": 225,
   "id": "dd1bd6f5",
   "metadata": {
    "pycharm": {
     "name": "#%%\n"
    }
   },
   "outputs": [],
   "source": [
    "import trigrid"
   ]
  },
  {
   "cell_type": "code",
   "execution_count": 241,
   "id": "09d2b30d",
   "metadata": {
    "pycharm": {
     "name": "#%%\n"
    }
   },
   "outputs": [],
   "source": [
    "x, y = trigrid.grid(10, 100)\n",
    "data = pd.DataFrame({'x': x, 'y': y, 'r': 5, 'hexatic_order': 1 + 0j})"
   ]
  },
  {
   "cell_type": "code",
   "execution_count": 242,
   "id": "48a9fdca",
   "metadata": {
    "pycharm": {
     "name": "#%%\n"
    }
   },
   "outputs": [],
   "source": [
    "data, area = add_edge_distance(data)"
   ]
  },
  {
   "cell_type": "code",
   "execution_count": 243,
   "id": "74845771",
   "metadata": {
    "pycharm": {
     "name": "#%%\n"
    }
   },
   "outputs": [],
   "source": [
    "density = len(data)/area"
   ]
  },
  {
   "cell_type": "code",
   "execution_count": 250,
   "id": "7b50483f",
   "metadata": {
    "pycharm": {
     "name": "#%%\n"
    }
   },
   "outputs": [
    {
     "name": "stdout",
     "output_type": "stream",
     "text": [
      "(40401,) (8543, 40401)\n",
      "(345145743,) (345145743,) 8543\n"
     ]
    }
   ],
   "source": [
    "r, g, g6 = corr(data, density, 2, 100, 0.1)"
   ]
  },
  {
   "cell_type": "code",
   "execution_count": 245,
   "id": "f95321c3",
   "metadata": {
    "pycharm": {
     "name": "#%%\n"
    }
   },
   "outputs": [
    {
     "data": {
      "text/plain": [
       "[<matplotlib.lines.Line2D at 0x7feafe68e5e0>]"
      ]
     },
     "execution_count": 245,
     "metadata": {},
     "output_type": "execute_result"
    }
   ],
   "source": [
    "plt.loglog(r, g-1)"
   ]
  },
  {
   "cell_type": "code",
   "execution_count": 251,
   "id": "667bdd9d",
   "metadata": {
    "pycharm": {
     "name": "#%%\n"
    }
   },
   "outputs": [],
   "source": [
    "diameter = r[np.argmax(g)]/sqrt(3)"
   ]
  },
  {
   "cell_type": "code",
   "execution_count": 256,
   "id": "bb585f88",
   "metadata": {
    "pycharm": {
     "name": "#%%\n"
    }
   },
   "outputs": [
    {
     "data": {
      "text/plain": [
       "[<matplotlib.lines.Line2D at 0x7feaff5f1100>]"
      ]
     },
     "execution_count": 256,
     "metadata": {},
     "output_type": "execute_result"
    }
   ],
   "source": [
    "plt.loglog(r/diameter, g-1, '-o')\n",
    "# for peak in peak_guesses:\n",
    "#     plt.axvline(peak, c='r')"
   ]
  },
  {
   "cell_type": "code",
   "execution_count": null,
   "id": "724c3b14",
   "metadata": {
    "pycharm": {
     "name": "#%%\n"
    }
   },
   "outputs": [],
   "source": []
  },
  {
   "cell_type": "code",
   "execution_count": 248,
   "id": "971d60d3",
   "metadata": {
    "pycharm": {
     "name": "#%%\n"
    }
   },
   "outputs": [],
   "source": [
    "from math import sqrt\n",
    "peak_guesses = [1, sqrt(3), 2, sqrt(7), 3]"
   ]
  },
  {
   "cell_type": "markdown",
   "id": "8aa55720",
   "metadata": {
    "pycharm": {
     "name": "#%% md\n"
    }
   },
   "source": [
    "# Get pixel to mm conversion"
   ]
  },
  {
   "cell_type": "code",
   "execution_count": 3,
   "id": "ae9d7f6a",
   "metadata": {
    "pycharm": {
     "name": "#%%\n"
    }
   },
   "outputs": [],
   "source": [
    "from labvision import images, video\n",
    "file = \"/media/data/Data/BallBearing/HIPS/PhaseDiagramsNewPlate/2,15mm/85%/451.mp4\"\n",
    "vid = video.ReadVideo(file)\n",
    "frame = vid.read_frame()"
   ]
  },
  {
   "cell_type": "code",
   "execution_count": 4,
   "id": "c2cc0fcb",
   "metadata": {
    "pycharm": {
     "name": "#%%\n"
    }
   },
   "outputs": [
    {
     "data": {
      "text/plain": [
       "[]"
      ]
     },
     "execution_count": 4,
     "metadata": {},
     "output_type": "execute_result"
    }
   ],
   "source": [
    "images.display(frame)"
   ]
  },
  {
   "cell_type": "code",
   "execution_count": 5,
   "id": "df884d84",
   "metadata": {
    "pycharm": {
     "name": "#%%\n"
    }
   },
   "outputs": [],
   "source": [
    "crop_result = images.crop_rectangle(frame)"
   ]
  },
  {
   "cell_type": "code",
   "execution_count": 10,
   "id": "452d5442",
   "metadata": {
    "pycharm": {
     "name": "#%%\n"
    }
   },
   "outputs": [],
   "source": [
    "bbox = crop_result.bbox"
   ]
  },
  {
   "cell_type": "code",
   "execution_count": 9,
   "id": "4e68a259",
   "metadata": {
    "pycharm": {
     "name": "#%%\n"
    }
   },
   "outputs": [
    {
     "data": {
      "text/plain": [
       "[[1324, 92], [2431, 2056]]"
      ]
     },
     "execution_count": 9,
     "metadata": {},
     "output_type": "execute_result"
    }
   ],
   "source": [
    "bbox"
   ]
  },
  {
   "cell_type": "code",
   "execution_count": 11,
   "id": "4a67b25b",
   "metadata": {
    "pycharm": {
     "name": "#%%\n"
    }
   },
   "outputs": [],
   "source": [
    "dx = bbox.xmax - bbox.xmin\n",
    "dy = bbox.ymax - bbox.ymin"
   ]
  },
  {
   "cell_type": "code",
   "execution_count": 14,
   "id": "7e4b89f1",
   "metadata": {
    "pycharm": {
     "name": "#%%\n"
    }
   },
   "outputs": [],
   "source": [
    "L = dy\n",
    "pix_2_mm = 193.73 / L"
   ]
  },
  {
   "cell_type": "code",
   "execution_count": 25,
   "id": "661e7af3",
   "metadata": {
    "pycharm": {
     "name": "#%%\n"
    }
   },
   "outputs": [
    {
     "data": {
      "text/plain": [
       "193.73"
      ]
     },
     "execution_count": 25,
     "metadata": {},
     "output_type": "execute_result"
    }
   ],
   "source": [
    "L * pix_2_mm"
   ]
  },
  {
   "cell_type": "code",
   "execution_count": 27,
   "id": "5540a795",
   "metadata": {
    "pycharm": {
     "name": "#%%\n"
    }
   },
   "outputs": [
    {
     "data": {
      "text/plain": [
       "(1107, 1964)"
      ]
     },
     "execution_count": 27,
     "metadata": {},
     "output_type": "execute_result"
    }
   ],
   "source": [
    "dx, dy"
   ]
  },
  {
   "cell_type": "code",
   "execution_count": 31,
   "id": "9a02208e",
   "metadata": {
    "pycharm": {
     "name": "#%%\n"
    }
   },
   "outputs": [],
   "source": [
    "cropped = images.crop_and_mask(frame, crop_result.bbox, crop_result.mask)"
   ]
  },
  {
   "cell_type": "code",
   "execution_count": null,
   "id": "e724d423",
   "metadata": {
    "pycharm": {
     "name": "#%%\n"
    }
   },
   "outputs": [],
   "source": [
    "images.display(cropped)"
   ]
  },
  {
   "cell_type": "code",
   "execution_count": 30,
   "id": "1d3318db",
   "metadata": {
    "pycharm": {
     "name": "#%%\n"
    }
   },
   "outputs": [
    {
     "data": {
      "text/plain": "21.011111733189455"
     },
     "execution_count": 30,
     "metadata": {},
     "output_type": "execute_result"
    }
   ],
   "source": [
    "diameter"
   ]
  },
  {
   "cell_type": "code",
   "execution_count": null,
   "outputs": [],
   "source": [],
   "metadata": {
    "collapsed": false,
    "pycharm": {
     "name": "#%%\n"
    }
   }
  }
 ],
 "metadata": {
  "kernelspec": {
   "display_name": "Python 3",
   "language": "python",
   "name": "python3"
  },
  "language_info": {
   "codemirror_mode": {
    "name": "ipython",
    "version": 3
   },
   "file_extension": ".py",
   "mimetype": "text/x-python",
   "name": "python",
   "nbconvert_exporter": "python",
   "pygments_lexer": "ipython3",
   "version": "3.9.7"
  }
 },
 "nbformat": 4,
 "nbformat_minor": 5
}