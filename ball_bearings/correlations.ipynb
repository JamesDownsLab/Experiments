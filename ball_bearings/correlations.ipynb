{
 "cells": [
  {
   "cell_type": "code",
   "execution_count": 1,
   "id": "31c368da",
   "metadata": {},
   "outputs": [
    {
     "name": "stdout",
     "output_type": "stream",
     "text": [
      "Using matplotlib backend: Qt5Agg\n"
     ]
    }
   ],
   "source": [
    "import numpy as np\n",
    "import pandas as pd\n",
    "from fast_histogram import histogram1d\n",
    "from scipy import spatial\n",
    "from shapely.geometry import Polygon, Point, MultiPoint\n",
    "import matplotlib.pyplot as plt\n",
    "from tqdm import tqdm as tqdm\n",
    "%matplotlib auto"
   ]
  },
  {
   "cell_type": "code",
   "execution_count": 2,
   "id": "c105aa54",
   "metadata": {},
   "outputs": [],
   "source": [
    "def corr(features, density, r_min, r_max, dr):\n",
    "    radius = features.r.mean()\n",
    "    N = features.x.count()\n",
    "    dists, orders, N = dists_and_orders(features, r_max * radius)\n",
    "    r_values = np.arange(r_min, r_max, dr) * radius\n",
    "\n",
    "    \n",
    "    g, bins = np.histogram(dists, bins=r_values)\n",
    "    g6, bins = np.histogram(dists, bins=r_values, weights=orders)\n",
    "    bin_centres = bins[1:] - (bins[1] - bins[0]) / 2\n",
    "    divisor = 2 * np.pi * r_values[:-1] * (bins[1] - bins[0]) * density * N\n",
    "\n",
    "    g = g / divisor\n",
    "    g6 = g6 / divisor\n",
    "    return bin_centres, g, g6\n",
    "\n",
    "def dists_and_orders(f, t=1000):\n",
    "    idx = get_idx(f, t)\n",
    "    dists = get_dists(f, idx)\n",
    "    orders = get_orders(f, idx)\n",
    "    return dists.ravel(), orders.ravel(), np.sum(idx)\n",
    "\n",
    "\n",
    "def get_idx(f, t):\n",
    "    return f.edge_distance.values > t\n",
    "#     return f.x.values > 0\n",
    "\n",
    "\n",
    "def get_dists(f, idx):\n",
    "    x = f[['x', 'y']].values\n",
    "    return spatial.distance.cdist(x[idx, :], x)\n",
    "\n",
    "\n",
    "def get_orders(f, idx):\n",
    "    orders = make_complex(f)\n",
    "    order_grid = make_order_grid(orders, idx)\n",
    "    return np.abs(order_grid)\n",
    "\n",
    "\n",
    "def make_order_grid(orders, idx):\n",
    "    orders = orders.reshape(-1, 1)\n",
    "    return orders[idx] @ np.conj(orders).transpose()\n",
    "\n",
    "\n",
    "def make_complex(f):\n",
    "    return f['hexatic_order'].values\n",
    "\n",
    "\n",
    "def flat_array(x):\n",
    "    return np.concatenate([item.ravel() for item in x])"
   ]
  },
  {
   "cell_type": "code",
   "execution_count": 3,
   "id": "17d78cc5",
   "metadata": {},
   "outputs": [],
   "source": [
    "def add_edge_distance(data):\n",
    "    points = data[['x', 'y']].values\n",
    "    hull = spatial.ConvexHull(points)\n",
    "    hull_points = points[hull.vertices, :]\n",
    "    polygon = Polygon(hull_points)\n",
    "    multi_point = MultiPoint(points)\n",
    "    dists = [polygon.exterior.distance(p) for p in multi_point.geoms]\n",
    "    data['edge_distance'] = dists\n",
    "    return data, hull.volume"
   ]
  },
  {
   "cell_type": "markdown",
   "id": "946c598a",
   "metadata": {},
   "source": [
    "# Test one dataset"
   ]
  },
  {
   "cell_type": "code",
   "execution_count": 17,
   "id": "800d12ec",
   "metadata": {},
   "outputs": [],
   "source": [
    "file = \"/media/data/Data/BallBearing/HIPS/PhaseDiagramsNewPlate/Flat/80%/480.hdf5\"\n",
    "data = pd.read_hdf(file)\n",
    "# data = add_edge_distance(data)\n",
    "\n",
    "\n",
    "frame0 = data.loc[0].copy()\n",
    "N = len(frame0)\n",
    "frame0['r'] = frame0['size']/2\n",
    "frame0, area = add_edge_distance(frame0)\n",
    "r, g, g6 = corr(frame0, N/area, 1, 400, 0.1)\n",
    "diameter = r[np.argmax(g)]"
   ]
  },
  {
   "cell_type": "markdown",
   "id": "5c89f57f",
   "metadata": {},
   "source": [
    "### Average over frames"
   ]
  },
  {
   "cell_type": "code",
   "execution_count": null,
   "id": "7887638a",
   "metadata": {},
   "outputs": [],
   "source": [
    "def apply(df):\n",
    "    df, area = add_edge_distance(df)\n",
    "    r, g, g6 = corr(df, N)"
   ]
  },
  {
   "cell_type": "code",
   "execution_count": 19,
   "id": "605d0747",
   "metadata": {},
   "outputs": [
    {
     "name": "stderr",
     "output_type": "stream",
     "text": [
      "<ipython-input-19-25f91611a281>:7: RuntimeWarning: invalid value encountered in true_divide\n",
      "  plt.loglog(r/diameter, g6/g)\n"
     ]
    },
    {
     "data": {
      "text/plain": [
       "Text(0, 0.5, '$g_6(r)/g(r)$')"
      ]
     },
     "execution_count": 19,
     "metadata": {},
     "output_type": "execute_result"
    }
   ],
   "source": [
    "plt.subplot(1, 2, 1)\n",
    "plt.loglog(r/diameter, g)\n",
    "plt.xlim([0.4, max(r/diameter)])\n",
    "plt.xlabel('r/d')\n",
    "plt.ylabel('g(r)')\n",
    "plt.subplot(1, 2, 2)\n",
    "plt.loglog(r/diameter, g6/g)\n",
    "plt.xlim([0.4, max(r/diameter)])\n",
    "plt.xlabel('r/d')\n",
    "plt.ylabel('$g_6(r)/g(r)$')"
   ]
  },
  {
   "cell_type": "code",
   "execution_count": 16,
   "id": "266e8552",
   "metadata": {},
   "outputs": [],
   "source": [
    "files = filehandling.get_directory_filenames(\"/media/data/Data/BallBearing/HIPS/PhaseDiagramsNewPlate/2,25mm/85%/*.hdf5\")"
   ]
  },
  {
   "cell_type": "code",
   "execution_count": 39,
   "id": "48cf4124",
   "metadata": {},
   "outputs": [],
   "source": [
    "files = files[0]\n",
    "data = pd.read_hdf(file)\n",
    "data['r'] = data['size']/2\n",
    "frame0 = data.loc[0].copy()"
   ]
  },
  {
   "cell_type": "code",
   "execution_count": 40,
   "id": "f6306b14",
   "metadata": {
    "collapsed": true,
    "jupyter": {
     "outputs_hidden": true
    }
   },
   "outputs": [
    {
     "data": {
      "text/html": [
       "<div>\n",
       "<style scoped>\n",
       "    .dataframe tbody tr th:only-of-type {\n",
       "        vertical-align: middle;\n",
       "    }\n",
       "\n",
       "    .dataframe tbody tr th {\n",
       "        vertical-align: top;\n",
       "    }\n",
       "\n",
       "    .dataframe thead th {\n",
       "        text-align: right;\n",
       "    }\n",
       "</style>\n",
       "<table border=\"1\" class=\"dataframe\">\n",
       "  <thead>\n",
       "    <tr style=\"text-align: right;\">\n",
       "      <th></th>\n",
       "      <th>y</th>\n",
       "      <th>x</th>\n",
       "      <th>mass</th>\n",
       "      <th>size</th>\n",
       "      <th>ecc</th>\n",
       "      <th>signal</th>\n",
       "      <th>raw_mass</th>\n",
       "      <th>ep</th>\n",
       "      <th>hexatic_order</th>\n",
       "      <th>number_of_neighbors</th>\n",
       "      <th>user_rad</th>\n",
       "      <th>r</th>\n",
       "      <th>edge_distance</th>\n",
       "    </tr>\n",
       "    <tr>\n",
       "      <th>frame</th>\n",
       "      <th></th>\n",
       "      <th></th>\n",
       "      <th></th>\n",
       "      <th></th>\n",
       "      <th></th>\n",
       "      <th></th>\n",
       "      <th></th>\n",
       "      <th></th>\n",
       "      <th></th>\n",
       "      <th></th>\n",
       "      <th></th>\n",
       "      <th></th>\n",
       "      <th></th>\n",
       "    </tr>\n",
       "  </thead>\n",
       "  <tbody>\n",
       "    <tr>\n",
       "      <th>0</th>\n",
       "      <td>34.101056</td>\n",
       "      <td>621.652589</td>\n",
       "      <td>787.714417</td>\n",
       "      <td>1.844645</td>\n",
       "      <td>0.073402</td>\n",
       "      <td>50.296496</td>\n",
       "      <td>3279.0</td>\n",
       "      <td>0.004259</td>\n",
       "      <td>0.242043-0.071360j</td>\n",
       "      <td>4.0</td>\n",
       "      <td>6</td>\n",
       "      <td>0.922322</td>\n",
       "      <td>0.000000</td>\n",
       "    </tr>\n",
       "    <tr>\n",
       "      <th>0</th>\n",
       "      <td>35.296638</td>\n",
       "      <td>709.620933</td>\n",
       "      <td>730.289284</td>\n",
       "      <td>1.824454</td>\n",
       "      <td>0.106826</td>\n",
       "      <td>51.880638</td>\n",
       "      <td>2997.0</td>\n",
       "      <td>0.004660</td>\n",
       "      <td>0.656514+0.072891j</td>\n",
       "      <td>6.0</td>\n",
       "      <td>6</td>\n",
       "      <td>0.912227</td>\n",
       "      <td>0.865426</td>\n",
       "    </tr>\n",
       "    <tr>\n",
       "      <th>0</th>\n",
       "      <td>37.294147</td>\n",
       "      <td>732.122520</td>\n",
       "      <td>798.407373</td>\n",
       "      <td>1.880086</td>\n",
       "      <td>0.096788</td>\n",
       "      <td>47.128213</td>\n",
       "      <td>3408.0</td>\n",
       "      <td>0.004098</td>\n",
       "      <td>0.693728+0.555301j</td>\n",
       "      <td>4.0</td>\n",
       "      <td>6</td>\n",
       "      <td>0.940043</td>\n",
       "      <td>2.778472</td>\n",
       "    </tr>\n",
       "    <tr>\n",
       "      <th>0</th>\n",
       "      <td>36.950568</td>\n",
       "      <td>886.259516</td>\n",
       "      <td>801.179621</td>\n",
       "      <td>1.771834</td>\n",
       "      <td>0.014207</td>\n",
       "      <td>57.425133</td>\n",
       "      <td>3316.0</td>\n",
       "      <td>0.004211</td>\n",
       "      <td>0.323983+0.147130j</td>\n",
       "      <td>5.0</td>\n",
       "      <td>6</td>\n",
       "      <td>0.885917</td>\n",
       "      <td>1.856415</td>\n",
       "    </tr>\n",
       "    <tr>\n",
       "      <th>0</th>\n",
       "      <td>37.031296</td>\n",
       "      <td>925.499756</td>\n",
       "      <td>809.892400</td>\n",
       "      <td>1.804504</td>\n",
       "      <td>0.032419</td>\n",
       "      <td>56.237027</td>\n",
       "      <td>3267.0</td>\n",
       "      <td>0.004275</td>\n",
       "      <td>0.112866+0.127519j</td>\n",
       "      <td>5.0</td>\n",
       "      <td>6</td>\n",
       "      <td>0.902252</td>\n",
       "      <td>1.789872</td>\n",
       "    </tr>\n",
       "    <tr>\n",
       "      <th>...</th>\n",
       "      <td>...</td>\n",
       "      <td>...</td>\n",
       "      <td>...</td>\n",
       "      <td>...</td>\n",
       "      <td>...</td>\n",
       "      <td>...</td>\n",
       "      <td>...</td>\n",
       "      <td>...</td>\n",
       "      <td>...</td>\n",
       "      <td>...</td>\n",
       "      <td>...</td>\n",
       "      <td>...</td>\n",
       "      <td>...</td>\n",
       "    </tr>\n",
       "    <tr>\n",
       "      <th>0</th>\n",
       "      <td>1956.960343</td>\n",
       "      <td>1341.948553</td>\n",
       "      <td>1108.503094</td>\n",
       "      <td>1.850137</td>\n",
       "      <td>0.023541</td>\n",
       "      <td>69.702231</td>\n",
       "      <td>4730.0</td>\n",
       "      <td>0.002951</td>\n",
       "      <td>0.413347-0.078628j</td>\n",
       "      <td>6.0</td>\n",
       "      <td>6</td>\n",
       "      <td>0.925069</td>\n",
       "      <td>0.000000</td>\n",
       "    </tr>\n",
       "    <tr>\n",
       "      <th>0</th>\n",
       "      <td>1956.433884</td>\n",
       "      <td>1409.812672</td>\n",
       "      <td>862.565109</td>\n",
       "      <td>1.861973</td>\n",
       "      <td>0.059557</td>\n",
       "      <td>55.048921</td>\n",
       "      <td>3962.0</td>\n",
       "      <td>0.003524</td>\n",
       "      <td>0.687178-0.408971j</td>\n",
       "      <td>6.0</td>\n",
       "      <td>6</td>\n",
       "      <td>0.930986</td>\n",
       "      <td>0.742090</td>\n",
       "    </tr>\n",
       "    <tr>\n",
       "      <th>0</th>\n",
       "      <td>1957.159343</td>\n",
       "      <td>1533.852567</td>\n",
       "      <td>964.346207</td>\n",
       "      <td>1.862744</td>\n",
       "      <td>0.150191</td>\n",
       "      <td>58.613240</td>\n",
       "      <td>4228.0</td>\n",
       "      <td>0.003302</td>\n",
       "      <td>0.484431+0.194901j</td>\n",
       "      <td>5.0</td>\n",
       "      <td>6</td>\n",
       "      <td>0.931372</td>\n",
       "      <td>0.410765</td>\n",
       "    </tr>\n",
       "    <tr>\n",
       "      <th>0</th>\n",
       "      <td>1957.091564</td>\n",
       "      <td>1629.047054</td>\n",
       "      <td>934.247517</td>\n",
       "      <td>1.886904</td>\n",
       "      <td>0.039670</td>\n",
       "      <td>52.276673</td>\n",
       "      <td>4198.0</td>\n",
       "      <td>0.003326</td>\n",
       "      <td>0.181222+0.180083j</td>\n",
       "      <td>5.0</td>\n",
       "      <td>6</td>\n",
       "      <td>0.943452</td>\n",
       "      <td>0.781018</td>\n",
       "    </tr>\n",
       "    <tr>\n",
       "      <th>0</th>\n",
       "      <td>1957.961628</td>\n",
       "      <td>1657.070192</td>\n",
       "      <td>846.327657</td>\n",
       "      <td>1.870391</td>\n",
       "      <td>0.152422</td>\n",
       "      <td>49.900461</td>\n",
       "      <td>3776.0</td>\n",
       "      <td>0.003698</td>\n",
       "      <td>0.829762-0.397189j</td>\n",
       "      <td>4.0</td>\n",
       "      <td>6</td>\n",
       "      <td>0.935195</td>\n",
       "      <td>0.000000</td>\n",
       "    </tr>\n",
       "  </tbody>\n",
       "</table>\n",
       "<p>7593 rows × 13 columns</p>\n",
       "</div>"
      ],
      "text/plain": [
       "                 y            x         mass      size       ecc     signal  \\\n",
       "frame                                                                         \n",
       "0        34.101056   621.652589   787.714417  1.844645  0.073402  50.296496   \n",
       "0        35.296638   709.620933   730.289284  1.824454  0.106826  51.880638   \n",
       "0        37.294147   732.122520   798.407373  1.880086  0.096788  47.128213   \n",
       "0        36.950568   886.259516   801.179621  1.771834  0.014207  57.425133   \n",
       "0        37.031296   925.499756   809.892400  1.804504  0.032419  56.237027   \n",
       "...            ...          ...          ...       ...       ...        ...   \n",
       "0      1956.960343  1341.948553  1108.503094  1.850137  0.023541  69.702231   \n",
       "0      1956.433884  1409.812672   862.565109  1.861973  0.059557  55.048921   \n",
       "0      1957.159343  1533.852567   964.346207  1.862744  0.150191  58.613240   \n",
       "0      1957.091564  1629.047054   934.247517  1.886904  0.039670  52.276673   \n",
       "0      1957.961628  1657.070192   846.327657  1.870391  0.152422  49.900461   \n",
       "\n",
       "       raw_mass        ep       hexatic_order  number_of_neighbors  user_rad  \\\n",
       "frame                                                                          \n",
       "0        3279.0  0.004259  0.242043-0.071360j                  4.0         6   \n",
       "0        2997.0  0.004660  0.656514+0.072891j                  6.0         6   \n",
       "0        3408.0  0.004098  0.693728+0.555301j                  4.0         6   \n",
       "0        3316.0  0.004211  0.323983+0.147130j                  5.0         6   \n",
       "0        3267.0  0.004275  0.112866+0.127519j                  5.0         6   \n",
       "...         ...       ...                 ...                  ...       ...   \n",
       "0        4730.0  0.002951  0.413347-0.078628j                  6.0         6   \n",
       "0        3962.0  0.003524  0.687178-0.408971j                  6.0         6   \n",
       "0        4228.0  0.003302  0.484431+0.194901j                  5.0         6   \n",
       "0        4198.0  0.003326  0.181222+0.180083j                  5.0         6   \n",
       "0        3776.0  0.003698  0.829762-0.397189j                  4.0         6   \n",
       "\n",
       "              r  edge_distance  \n",
       "frame                           \n",
       "0      0.922322       0.000000  \n",
       "0      0.912227       0.865426  \n",
       "0      0.940043       2.778472  \n",
       "0      0.885917       1.856415  \n",
       "0      0.902252       1.789872  \n",
       "...         ...            ...  \n",
       "0      0.925069       0.000000  \n",
       "0      0.930986       0.742090  \n",
       "0      0.931372       0.410765  \n",
       "0      0.943452       0.781018  \n",
       "0      0.935195       0.000000  \n",
       "\n",
       "[7593 rows x 13 columns]"
      ]
     },
     "execution_count": 40,
     "metadata": {},
     "output_type": "execute_result"
    }
   ],
   "source": [
    "frame0, area = add_edge_distance(frame0)\n",
    "frame0"
   ]
  },
  {
   "cell_type": "code",
   "execution_count": 101,
   "id": "20b8564d",
   "metadata": {},
   "outputs": [],
   "source": [
    "r_min, r_max, dr = 2, 100, 0.1\n",
    "radius = frame0.r.mean()\n",
    "N = frame0.x.count()\n",
    "dists, orders, N = dists_and_orders(frame0, 0)#r_max * radius * 3)\n",
    "r_values = np.arange(r_min, r_max, dr) * radius\n",
    "density = len(frame0)/area"
   ]
  },
  {
   "cell_type": "code",
   "execution_count": 102,
   "id": "adb6d433",
   "metadata": {},
   "outputs": [
    {
     "data": {
      "text/plain": [
       "(7562, 57418266, 7593)"
      ]
     },
     "execution_count": 102,
     "metadata": {},
     "output_type": "execute_result"
    }
   ],
   "source": [
    "N, len(dists), frame0.x.count()"
   ]
  },
  {
   "cell_type": "code",
   "execution_count": 103,
   "id": "385097cf",
   "metadata": {},
   "outputs": [],
   "source": [
    "g, bins = np.histogram(dists, bins=r_values)\n",
    "g6, bins = np.histogram(dists, bins=r_values, weights=orders)\n",
    "bin_centres = bins[1:] - (bins[1] - bins[0]) / 2\n",
    "divisor = 2 * np.pi * r_values[:-1] * (bins[1] - bins[0]) * density * len(\n",
    "    dists)"
   ]
  },
  {
   "cell_type": "code",
   "execution_count": 118,
   "id": "cbe85d15",
   "metadata": {},
   "outputs": [
    {
     "data": {
      "text/plain": [
       "Text(0, 0.5, '$N_{expect}$')"
      ]
     },
     "execution_count": 118,
     "metadata": {},
     "output_type": "execute_result"
    }
   ],
   "source": [
    "plt.plot(r_values[:-1], divisor/len(dists))\n",
    "plt.xlabel('r [pixels]')\n",
    "plt.ylabel('$N_{expect}$')"
   ]
  },
  {
   "cell_type": "code",
   "execution_count": 116,
   "id": "4fd60155",
   "metadata": {},
   "outputs": [
    {
     "data": {
      "text/plain": [
       "Text(0, 0.5, 'g(r)')"
      ]
     },
     "execution_count": 116,
     "metadata": {},
     "output_type": "execute_result"
    }
   ],
   "source": [
    "plt.plot(r_values[:-1], g/divisor)\n",
    "plt.xlabel('r [pixels]')\n",
    "plt.ylabel('g(r)')"
   ]
  },
  {
   "cell_type": "code",
   "execution_count": null,
   "id": "5d17520e",
   "metadata": {},
   "outputs": [],
   "source": [
    "import filehandling\n",
    "files = filehandling.get_directory_filenames(\"/media/data/Data/BallBearing/HIPS/PhaseDiagramsNewPlate/Flat/80%/*.hdf5\")\n",
    "figure_data = {}\n",
    "for i, file in tqdm(enumerate(files)):\n",
    "    duty = int(file[-8:-5])\n",
    "    data = pd.read_hdf(file)\n",
    "    data['r'] = data['size']/2\n",
    "    frame0 =data.loc[0].copy()\n",
    "    frame0, area = add_edge_distance(frame0)\n",
    "    density = len(frame0) / area\n",
    "    r, g, g6 = corr(frame0, density, 1, 300, 0.1)\n",
    "    if i == 0:\n",
    "        diameter = r[np.argmax(g)]\n",
    "    \n",
    "    figure_data[duty] = (r, g, g6, diameter)\n",
    "    "
   ]
  },
  {
   "cell_type": "code",
   "execution_count": 20,
   "id": "11722662",
   "metadata": {},
   "outputs": [],
   "source": [
    "import pickle"
   ]
  },
  {
   "cell_type": "code",
   "execution_count": 272,
   "id": "7c7c3471",
   "metadata": {},
   "outputs": [],
   "source": []
  },
  {
   "cell_type": "code",
   "execution_count": 271,
   "id": "a3d8f0ef",
   "metadata": {},
   "outputs": [],
   "source": [
    "with open(new_file, 'wb') as f:\n",
    "    pickle.dump(figure_data, f)\n",
    "    "
   ]
  },
  {
   "cell_type": "markdown",
   "id": "d5afe269",
   "metadata": {},
   "source": [
    "# Plot"
   ]
  },
  {
   "cell_type": "code",
   "execution_count": 15,
   "id": "79f8337d",
   "metadata": {},
   "outputs": [],
   "source": [
    "from matplotlib.widgets import Slider"
   ]
  },
  {
   "cell_type": "code",
   "execution_count": 18,
   "id": "ec4b3ea4",
   "metadata": {},
   "outputs": [],
   "source": [
    "direc1 = \"/media/data/Data/BallBearing/HIPS/PhaseDiagramsNewPlate/2,15mm/85%\"\n",
    "new_file1 = direc1 + '/correlation_data.pkl'\n",
    "direc2 = \"/media/data/Data/BallBearing/HIPS/PhaseDiagramsNewPlate/2,25mm/85%\"\n",
    "new_file2 = direc2 + '/correlation_data.pkl'"
   ]
  },
  {
   "cell_type": "code",
   "execution_count": 21,
   "id": "e7dbc478",
   "metadata": {},
   "outputs": [],
   "source": [
    "with open(new_file1, 'rb') as f:\n",
    "    figure_data_2_15 = pickle.load(f)\n",
    "\n",
    "with open(new_file2, 'rb') as f:\n",
    "    figure_data_2_25 = pickle.load(f)"
   ]
  },
  {
   "cell_type": "code",
   "execution_count": 24,
   "id": "aeac7466",
   "metadata": {},
   "outputs": [
    {
     "name": "stderr",
     "output_type": "stream",
     "text": [
      "<ipython-input-24-1ec3e8f63c70>:13: RuntimeWarning: invalid value encountered in true_divide\n",
      "  plot2, = ax[1].semilogy(r, g6/g)\n",
      "<ipython-input-24-1ec3e8f63c70>:14: RuntimeWarning: invalid value encountered in true_divide\n",
      "  plot2b, = ax[1].semilogy(r2, g62/g2)\n"
     ]
    },
    {
     "data": {
      "text/plain": [
       "0"
      ]
     },
     "execution_count": 24,
     "metadata": {},
     "output_type": "execute_result"
    },
    {
     "name": "stderr",
     "output_type": "stream",
     "text": [
      "<ipython-input-24-1ec3e8f63c70>:33: RuntimeWarning: invalid value encountered in true_divide\n",
      "  plot2.set_ydata(g6/g)\n",
      "<ipython-input-24-1ec3e8f63c70>:35: RuntimeWarning: invalid value encountered in true_divide\n",
      "  plot2b.set_ydata(g62/g2)\n"
     ]
    }
   ],
   "source": [
    "fig, ax = plt.subplots(1, 2)\n",
    "plt.subplots_adjust(bottom=0.25)\n",
    "keys = list(figure_data_2_15.keys())\n",
    "key = keys[0]\n",
    "r, g, g6, diameter = figure_data_2_15[key]\n",
    "r2, g2, g62, diameter2 = figure_data_2_25[key]\n",
    "diameter = r[np.argmax(g)] / 2\n",
    "plot1, = ax[0].semilogy(r*pix_2_mm, g-1)\n",
    "plot1b, = ax[0].semilogy(r2*pix_2_mm, g2-1)\n",
    "# ax[0].set_xlim([0.4, 5])\n",
    "ax[0].set_xlabel('r [mm]')\n",
    "ax[0].set_ylabel('g')\n",
    "plot2, = ax[1].semilogy(r, g6/g)\n",
    "plot2b, = ax[1].semilogy(r2, g62/g2)\n",
    "# ax[1].set_xlim([0.4, 5])\n",
    "ax[1].set_xlabel('r [mm]')\n",
    "ax[1].set_ylabel('g6/g')\n",
    "\n",
    "\n",
    "s_ax = plt.axes([0.25, 0.1, 0.65, 0.03])\n",
    "slider = Slider(s_ax, 'Duty', min(keys), max(keys), valinit=key, valstep=1)\n",
    "\n",
    "def update(val):\n",
    "    duty = slider.val\n",
    "    r, g, g6, diameter = figure_data_2_15[duty]\n",
    "    r2, g2, g62, diameter2 = figure_data_2_25[duty]\n",
    "    diameter = r[np.argmax(g)] / 2\n",
    "    plot1.set_xdata(r*pix_2_mm)\n",
    "    plot1.set_ydata(g)\n",
    "    plot1b.set_xdata(r2*pix_2_mm)\n",
    "    plot1b.set_ydata(g2)\n",
    "    plot2.set_xdata(r*pix_2_mm)\n",
    "    plot2.set_ydata(g6/g)\n",
    "    plot2b.set_xdata(r2*pix_2_mm)\n",
    "    plot2b.set_ydata(g62/g2)\n",
    "slider.on_changed(update)\n",
    "\n"
   ]
  },
  {
   "cell_type": "markdown",
   "id": "6953ab15",
   "metadata": {},
   "source": [
    "# Test fake data"
   ]
  },
  {
   "cell_type": "code",
   "execution_count": 225,
   "id": "dd1bd6f5",
   "metadata": {},
   "outputs": [],
   "source": [
    "import trigrid"
   ]
  },
  {
   "cell_type": "code",
   "execution_count": 241,
   "id": "09d2b30d",
   "metadata": {},
   "outputs": [],
   "source": [
    "x, y = trigrid.grid(10, 100)\n",
    "data = pd.DataFrame({'x': x, 'y': y, 'r': 5, 'hexatic_order': 1 + 0j})"
   ]
  },
  {
   "cell_type": "code",
   "execution_count": 242,
   "id": "48a9fdca",
   "metadata": {},
   "outputs": [],
   "source": [
    "data, area = add_edge_distance(data)"
   ]
  },
  {
   "cell_type": "code",
   "execution_count": 243,
   "id": "74845771",
   "metadata": {},
   "outputs": [],
   "source": [
    "density = len(data)/area"
   ]
  },
  {
   "cell_type": "code",
   "execution_count": 250,
   "id": "7b50483f",
   "metadata": {},
   "outputs": [
    {
     "name": "stdout",
     "output_type": "stream",
     "text": [
      "(40401,) (8543, 40401)\n",
      "(345145743,) (345145743,) 8543\n"
     ]
    }
   ],
   "source": [
    "r, g, g6 = corr(data, density, 2, 100, 0.1)"
   ]
  },
  {
   "cell_type": "code",
   "execution_count": 245,
   "id": "f95321c3",
   "metadata": {},
   "outputs": [
    {
     "data": {
      "text/plain": [
       "[<matplotlib.lines.Line2D at 0x7feafe68e5e0>]"
      ]
     },
     "execution_count": 245,
     "metadata": {},
     "output_type": "execute_result"
    }
   ],
   "source": [
    "plt.loglog(r, g-1)"
   ]
  },
  {
   "cell_type": "code",
   "execution_count": 251,
   "id": "667bdd9d",
   "metadata": {},
   "outputs": [],
   "source": [
    "diameter = r[np.argmax(g)]/sqrt(3)"
   ]
  },
  {
   "cell_type": "code",
   "execution_count": 256,
   "id": "bb585f88",
   "metadata": {},
   "outputs": [
    {
     "data": {
      "text/plain": [
       "[<matplotlib.lines.Line2D at 0x7feaff5f1100>]"
      ]
     },
     "execution_count": 256,
     "metadata": {},
     "output_type": "execute_result"
    }
   ],
   "source": [
    "plt.loglog(r/diameter, g-1, '-o')\n",
    "# for peak in peak_guesses:\n",
    "#     plt.axvline(peak, c='r')"
   ]
  },
  {
   "cell_type": "code",
   "execution_count": null,
   "id": "724c3b14",
   "metadata": {},
   "outputs": [],
   "source": []
  },
  {
   "cell_type": "code",
   "execution_count": 248,
   "id": "971d60d3",
   "metadata": {},
   "outputs": [],
   "source": [
    "from math import sqrt\n",
    "peak_guesses = [1, sqrt(3), 2, sqrt(7), 3]"
   ]
  },
  {
   "cell_type": "markdown",
   "id": "8aa55720",
   "metadata": {},
   "source": [
    "# Get pixel to mm conversion"
   ]
  },
  {
   "cell_type": "code",
   "execution_count": 3,
   "id": "ae9d7f6a",
   "metadata": {},
   "outputs": [],
   "source": [
    "from labvision import images, video\n",
    "file = \"/media/data/Data/BallBearing/HIPS/PhaseDiagramsNewPlate/2,15mm/85%/451.mp4\"\n",
    "vid = video.ReadVideo(file)\n",
    "frame = vid.read_frame()"
   ]
  },
  {
   "cell_type": "code",
   "execution_count": 4,
   "id": "c2cc0fcb",
   "metadata": {},
   "outputs": [
    {
     "data": {
      "text/plain": [
       "[]"
      ]
     },
     "execution_count": 4,
     "metadata": {},
     "output_type": "execute_result"
    }
   ],
   "source": [
    "images.display(frame)"
   ]
  },
  {
   "cell_type": "code",
   "execution_count": 5,
   "id": "df884d84",
   "metadata": {},
   "outputs": [],
   "source": [
    "crop_result = images.crop_rectangle(frame)"
   ]
  },
  {
   "cell_type": "code",
   "execution_count": 10,
   "id": "452d5442",
   "metadata": {},
   "outputs": [],
   "source": [
    "bbox = crop_result.bbox"
   ]
  },
  {
   "cell_type": "code",
   "execution_count": 9,
   "id": "4e68a259",
   "metadata": {},
   "outputs": [
    {
     "data": {
      "text/plain": [
       "[[1324, 92], [2431, 2056]]"
      ]
     },
     "execution_count": 9,
     "metadata": {},
     "output_type": "execute_result"
    }
   ],
   "source": [
    "bbox"
   ]
  },
  {
   "cell_type": "code",
   "execution_count": 11,
   "id": "4a67b25b",
   "metadata": {},
   "outputs": [],
   "source": [
    "dx = bbox.xmax - bbox.xmin\n",
    "dy = bbox.ymax - bbox.ymin"
   ]
  },
  {
   "cell_type": "code",
   "execution_count": 14,
   "id": "7e4b89f1",
   "metadata": {},
   "outputs": [],
   "source": [
    "L = dy\n",
    "pix_2_mm = 193.73 / L"
   ]
  },
  {
   "cell_type": "code",
   "execution_count": 25,
   "id": "661e7af3",
   "metadata": {},
   "outputs": [
    {
     "data": {
      "text/plain": [
       "193.73"
      ]
     },
     "execution_count": 25,
     "metadata": {},
     "output_type": "execute_result"
    }
   ],
   "source": [
    "L * pix_2_mm"
   ]
  },
  {
   "cell_type": "code",
   "execution_count": 27,
   "id": "5540a795",
   "metadata": {},
   "outputs": [
    {
     "data": {
      "text/plain": [
       "(1107, 1964)"
      ]
     },
     "execution_count": 27,
     "metadata": {},
     "output_type": "execute_result"
    }
   ],
   "source": [
    "dx, dy"
   ]
  },
  {
   "cell_type": "code",
   "execution_count": 31,
   "id": "9a02208e",
   "metadata": {},
   "outputs": [],
   "source": [
    "cropped = images.crop_and_mask(frame, crop_result.bbox, crop_result.mask)"
   ]
  },
  {
   "cell_type": "code",
   "execution_count": null,
   "id": "e724d423",
   "metadata": {},
   "outputs": [],
   "source": [
    "images.display(cropped)"
   ]
  },
  {
   "cell_type": "code",
   "execution_count": null,
   "id": "1d3318db",
   "metadata": {},
   "outputs": [],
   "source": []
  }
 ],
 "metadata": {
  "kernelspec": {
   "display_name": "Python 3",
   "language": "python",
   "name": "python3"
  },
  "language_info": {
   "codemirror_mode": {
    "name": "ipython",
    "version": 3
   },
   "file_extension": ".py",
   "mimetype": "text/x-python",
   "name": "python",
   "nbconvert_exporter": "python",
   "pygments_lexer": "ipython3",
   "version": "3.9.7"
  }
 },
 "nbformat": 4,
 "nbformat_minor": 5
}
