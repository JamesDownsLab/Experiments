{
 "cells": [
  {
   "cell_type": "code",
   "execution_count": 18,
   "outputs": [
    {
     "name": "stdout",
     "output_type": "stream",
     "text": [
      "Using matplotlib backend: Qt5Agg\n"
     ]
    }
   ],
   "source": [
    "import trigrid as tg\n",
    "import numpy as np\n",
    "import freud\n",
    "import matplotlib.pyplot as plt\n",
    "%matplotlib auto"
   ],
   "metadata": {
    "collapsed": false,
    "pycharm": {
     "name": "#%%\n"
    }
   }
  },
  {
   "cell_type": "markdown",
   "source": [],
   "metadata": {
    "collapsed": false,
    "pycharm": {
     "name": "#%% md\n"
    }
   }
  },
  {
   "cell_type": "code",
   "execution_count": 49,
   "outputs": [],
   "source": [
    "points = tg.grid(1.90, 20)"
   ],
   "metadata": {
    "collapsed": false,
    "pycharm": {
     "name": "#%%\n"
    }
   }
  },
  {
   "cell_type": "code",
   "execution_count": 50,
   "outputs": [],
   "source": [
    "from scipy import spatial"
   ],
   "metadata": {
    "collapsed": false,
    "pycharm": {
     "name": "#%%\n"
    }
   }
  },
  {
   "cell_type": "code",
   "execution_count": 54,
   "outputs": [],
   "source": [
    "distances = spatial.distance.squareform(spatial.distance.pdist(points.T))"
   ],
   "metadata": {
    "collapsed": false,
    "pycharm": {
     "name": "#%%\n"
    }
   }
  },
  {
   "cell_type": "code",
   "execution_count": 64,
   "outputs": [
    {
     "data": {
      "text/plain": "(array([[1., 0., 0., ..., 0., 0., 0.],\n        [2., 0., 0., ..., 0., 0., 0.],\n        [2., 0., 0., ..., 0., 0., 0.],\n        ...,\n        [5., 0., 0., ..., 0., 0., 0.],\n        [3., 0., 0., ..., 0., 0., 0.],\n        [3., 0., 0., ..., 0., 0., 0.]]),\n array([1.9, 2. , 2.1, 2.2, 2.3, 2.4, 2.5, 2.6, 2.7, 2.8, 2.9, 3. , 3.1,\n        3.2, 3.3, 3.4, 3.5, 3.6, 3.7, 3.8, 3.9, 4. , 4.1, 4.2, 4.3, 4.4,\n        4.5, 4.6, 4.7, 4.8, 4.9]),\n <a list of 1681 BarContainer objects>)"
     },
     "execution_count": 64,
     "metadata": {},
     "output_type": "execute_result"
    }
   ],
   "source": [
    "plt.hist(distances, bins=np.arange(1.90, 5.00, 0.1))"
   ],
   "metadata": {
    "collapsed": false,
    "pycharm": {
     "name": "#%%\n"
    }
   }
  },
  {
   "cell_type": "code",
   "execution_count": 62,
   "outputs": [],
   "source": [
    "def plot_all(dists):\n",
    "    for d in dists:\n",
    "        points = tg.grid(d, 100)\n",
    "        points.resize((points.shape[0]+1, points.shape[1]))\n",
    "        rdf = freud.density.RDF(1000, 8)\n",
    "        box = freud.box.Box(Lx=np.max(points[0, :]), Ly=np.max(points[1, :]))\n",
    "        rdf.compute(system=(box, points.T))\n",
    "        bin_centers = rdf.bin_centers\n",
    "        counts = rdf.rdf.copy()\n",
    "        counts[0] = 0\n",
    "        distances = bin_centers[counts > 0]\n",
    "        counts = counts[counts > 0]\n",
    "        plt.scatter(distances, np.ones_like(distances)*d, counts)\n",
    "    plt.plot(np.sqrt(3)*dists, dists, 'r-')\n",
    "    plt.axvline(2.00)\n",
    "    plt.axvline(4.00)\n",
    "    plt.xlabel('Distances [mm]')\n",
    "    plt.ylabel('Dimple Separation [mm]')"
   ],
   "metadata": {
    "collapsed": false,
    "pycharm": {
     "name": "#%%\n"
    }
   }
  },
  {
   "cell_type": "code",
   "execution_count": 65,
   "outputs": [],
   "source": [
    "plot_all(np.arange(1.85, 2.00, 0.01))"
   ],
   "metadata": {
    "collapsed": false,
    "pycharm": {
     "name": "#%%\n"
    }
   }
  },
  {
   "cell_type": "code",
   "execution_count": null,
   "outputs": [],
   "source": [],
   "metadata": {
    "collapsed": false,
    "pycharm": {
     "name": "#%%\n"
    }
   }
  }
 ],
 "metadata": {
  "kernelspec": {
   "display_name": "Python 3",
   "language": "python",
   "name": "python3"
  },
  "language_info": {
   "codemirror_mode": {
    "name": "ipython",
    "version": 2
   },
   "file_extension": ".py",
   "mimetype": "text/x-python",
   "name": "python",
   "nbconvert_exporter": "python",
   "pygments_lexer": "ipython2",
   "version": "2.7.6"
  }
 },
 "nbformat": 4,
 "nbformat_minor": 0
}