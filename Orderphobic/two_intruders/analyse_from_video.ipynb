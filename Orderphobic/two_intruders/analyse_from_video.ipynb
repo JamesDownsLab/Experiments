{
 "cells": [
  {
   "cell_type": "code",
   "execution_count": 1,
   "metadata": {},
   "outputs": [],
   "source": [
    "from labvision import video, images\n",
    "from scipy import ndimage\n",
    "from tqdm import tqdm\n",
    "import cv2\n",
    "import numpy as np"
   ]
  },
  {
   "cell_type": "code",
   "execution_count": 2,
   "metadata": {},
   "outputs": [],
   "source": [
    "liquid_file = \"/media/data/Data/Orderphobic/TwoIntruders/FoamPlaIntruders/Logging/091220_x_liquid_wide_gap_570/0912320_x_liquid_wide_gap_570.mp4\"\n",
    "solid_file = \"/media/data/Data/Orderphobic/TwoIntruders/FoamPlaIntruders/Logging/081220_x_solid_wide_gap_570/0812320_x_solid_wide_gap_570.mp4\""
   ]
  },
  {
   "cell_type": "code",
   "execution_count": 3,
   "metadata": {},
   "outputs": [],
   "source": [
    "liquid = video.ReadVideo(liquid_file)\n",
    "solid = video.ReadVideo(solid_file)"
   ]
  },
  {
   "cell_type": "code",
   "execution_count": 4,
   "metadata": {},
   "outputs": [
    {
     "data": {
      "text/plain": [
       "(7200, 7200)"
      ]
     },
     "execution_count": 4,
     "metadata": {},
     "output_type": "execute_result"
    }
   ],
   "source": [
    "(liquid.num_frames, solid.num_frames)"
   ]
  },
  {
   "cell_type": "code",
   "execution_count": 5,
   "metadata": {},
   "outputs": [],
   "source": [
    "def get_angle(ps):\n",
    "    dy = ps[2, 1] - ps[3, 1]\n",
    "    dx = ps[2, 0] - ps[3, 0]\n",
    "    angle = np.arctan2(dy, dx)\n",
    "    return 360-angle * 180 / np.pi"
   ]
  },
  {
   "cell_type": "code",
   "execution_count": 6,
   "metadata": {},
   "outputs": [],
   "source": [
    "def get_crop_result_and_rotation_angle(vid):\n",
    "    frame = vid.read_frame()\n",
    "    vid.set_frame(0)\n",
    "    res = images.crop_polygon(frame)\n",
    "    angle = get_angle(res.points)\n",
    "    print(angle)\n",
    "#     frame = ndimage.rotate(frame, angle, reshape=False)\n",
    "    frame = images.rotate(frame, angle)\n",
    "    res = images.crop_rectangle(frame)\n",
    "    return res, angle"
   ]
  },
  {
   "cell_type": "code",
   "execution_count": 7,
   "metadata": {},
   "outputs": [],
   "source": [
    "def get_frame(vid, angle, res):\n",
    "    frame = vid.read_frame()\n",
    "#     frame = ndimage.rotate(frame, angle, reshape=False)\n",
    "    frame = images.rotate(frame, angle)\n",
    "    frame = images.crop_and_mask(frame, res.bbox, res.mask)\n",
    "    return frame"
   ]
  },
  {
   "cell_type": "code",
   "execution_count": 27,
   "metadata": {},
   "outputs": [
    {
     "name": "stdout",
     "output_type": "stream",
     "text": [
      "300.8105281103631\n"
     ]
    }
   ],
   "source": [
    "solid_crop_result, solid_angle = get_crop_result_and_rotation_angle(solid)"
   ]
  },
  {
   "cell_type": "code",
   "execution_count": 24,
   "metadata": {},
   "outputs": [
    {
     "name": "stdout",
     "output_type": "stream",
     "text": [
      "300.6682372859554\n"
     ]
    }
   ],
   "source": [
    "liquid_crop_result, liquid_angle = get_crop_result_and_rotation_angle(liquid)"
   ]
  },
  {
   "cell_type": "code",
   "execution_count": 28,
   "metadata": {},
   "outputs": [],
   "source": [
    "liquid_frame = get_frame(liquid, liquid_angle, liquid_crop_result)\n",
    "solid_frame = get_frame(solid, solid_angle, solid_crop_result)"
   ]
  },
  {
   "cell_type": "code",
   "execution_count": 29,
   "metadata": {},
   "outputs": [
    {
     "data": {
      "text/plain": [
       "((132, 825, 3), (136, 824, 3))"
      ]
     },
     "execution_count": 29,
     "metadata": {},
     "output_type": "execute_result"
    }
   ],
   "source": [
    "liquid_frame.shape, solid_frame.shape"
   ]
  },
  {
   "cell_type": "code",
   "execution_count": null,
   "metadata": {},
   "outputs": [],
   "source": []
  },
  {
   "cell_type": "code",
   "execution_count": 33,
   "metadata": {},
   "outputs": [],
   "source": [
    "frame = liquid_frame"
   ]
  },
  {
   "cell_type": "code",
   "execution_count": 92,
   "metadata": {},
   "outputs": [],
   "source": [
    "def get_circles(f):\n",
    "    r = f[:, :, 0] - f[:, :, 2]\n",
    "    r = images.opening(r, (31, 31))\n",
    "    r = images.threshold(r, 70)\n",
    "    w = r.shape[1]\n",
    "    r1, r2 = r[:, :w//2], r[:, w//2:]\n",
    "    m1 = list(images.center_of_mass(r1))\n",
    "    m2 = list(images.center_of_mass(r2))\n",
    "    m2[0] += w//2\n",
    "    return m1, m2"
   ]
  },
  {
   "cell_type": "code",
   "execution_count": 93,
   "metadata": {},
   "outputs": [],
   "source": [
    "def draw_circles(frame, c1, c2):\n",
    "    f = frame.copy()\n",
    "    f = images.draw_circle(f, c1[0], c1[1], 5)\n",
    "    f = images.draw_circle(f, c2[0], c2[1], 5)\n",
    "    return f"
   ]
  },
  {
   "cell_type": "code",
   "execution_count": 37,
   "metadata": {},
   "outputs": [],
   "source": [
    "annotated_frame = draw_circles(frame, c1, c2)"
   ]
  },
  {
   "cell_type": "code",
   "execution_count": 38,
   "metadata": {},
   "outputs": [],
   "source": [
    "images.display(annotated_frame)"
   ]
  },
  {
   "cell_type": "code",
   "execution_count": 94,
   "metadata": {},
   "outputs": [
    {
     "name": "stderr",
     "output_type": "stream",
     "text": [
      "100%|██████████| 7200/7200 [05:46<00:00, 20.76it/s]\n"
     ]
    }
   ],
   "source": [
    "lx1, lx2, sx1, sx2 = [], [], [], []\n",
    "liquid.set_frame(0)\n",
    "solid.set_frame(0)\n",
    "for f in tqdm(range(liquid.num_frames)):\n",
    "    try:\n",
    "        liquid_frame = get_frame(liquid, liquid_angle, liquid_crop_result)\n",
    "        solid_frame = get_frame(solid, solid_angle, solid_crop_result)\n",
    "        l1, l2 = get_circles(liquid_frame)\n",
    "        s1, s2 = get_circles(solid_frame)\n",
    "        lx1.append(l1[0])\n",
    "        lx2.append(l2[0])\n",
    "        sx1.append(s1[0])\n",
    "        sx2.append(s2[0])\n",
    "    except:\n",
    "        pass\n",
    "            "
   ]
  },
  {
   "cell_type": "code",
   "execution_count": 95,
   "metadata": {},
   "outputs": [
    {
     "data": {
      "text/plain": [
       "7200"
      ]
     },
     "execution_count": 95,
     "metadata": {},
     "output_type": "execute_result"
    }
   ],
   "source": [
    "len(lx1)"
   ]
  },
  {
   "cell_type": "code",
   "execution_count": 96,
   "metadata": {},
   "outputs": [
    {
     "data": {
      "text/plain": [
       "7200"
      ]
     },
     "execution_count": 96,
     "metadata": {},
     "output_type": "execute_result"
    }
   ],
   "source": [
    "len(lx2)"
   ]
  },
  {
   "cell_type": "code",
   "execution_count": 97,
   "metadata": {},
   "outputs": [],
   "source": [
    "save_dir = \"/media/data/Data/Orderphobic/TwoIntruders/FoamPlaIntruders/Logging/08-09_logs\""
   ]
  },
  {
   "cell_type": "code",
   "execution_count": 104,
   "metadata": {},
   "outputs": [],
   "source": [
    "np.savetxt(f\"{save_dir}/lx1.txt\", lx1)\n",
    "np.savetxt(f\"{save_dir}/lx2.txt\", lx2)\n",
    "np.savetxt(f\"{save_dir}/sx1.txt\", sx1)\n",
    "np.savetxt(f\"{save_dir}/sx2.txt\", sx2)"
   ]
  },
  {
   "cell_type": "code",
   "execution_count": 99,
   "metadata": {},
   "outputs": [
    {
     "data": {
      "text/plain": [
       "(122, 688)"
      ]
     },
     "execution_count": 99,
     "metadata": {},
     "output_type": "execute_result"
    }
   ],
   "source": [
    "min(sx1), max(sx2)"
   ]
  },
  {
   "cell_type": "code",
   "execution_count": 100,
   "metadata": {},
   "outputs": [],
   "source": [
    "bins = np.arange(50, 750)"
   ]
  },
  {
   "cell_type": "code",
   "execution_count": 101,
   "metadata": {},
   "outputs": [],
   "source": [
    "ln1, _ = np.histogram(lx1, bins=bins)\n",
    "ln2, _ = np.histogram(lx2, bins=bins)\n",
    "sn1, _ = np.histogram(sx1, bins=bins)\n",
    "sn2, _ = np.histogram(sx2, bins=bins)"
   ]
  },
  {
   "cell_type": "code",
   "execution_count": 102,
   "metadata": {},
   "outputs": [],
   "source": [
    "import matplotlib.pyplot as plt"
   ]
  },
  {
   "cell_type": "code",
   "execution_count": 103,
   "metadata": {},
   "outputs": [
    {
     "data": {
      "text/plain": [
       "<BarContainer object of 699 artists>"
      ]
     },
     "execution_count": 103,
     "metadata": {},
     "output_type": "execute_result"
    },
    {
     "data": {
      "image/png": "[encoded data removed]",
      "text/plain": [
       "<Figure size 432x288 with 1 Axes>"
      ]
     },
     "metadata": {
      "needs_background": "light"
     },
     "output_type": "display_data"
    }
   ],
   "source": [
    "plt.figure()\n",
    "plt.bar(bins[:-1], ln1, color='r')\n",
    "plt.bar(bins[:-1], ln2, color='r')\n",
    "plt.bar(bins[:-1], sn1, color='b')\n",
    "plt.bar(bins[:-1], sn2, color='b')"
   ]
  },
  {
   "cell_type": "code",
   "execution_count": 82,
   "metadata": {},
   "outputs": [
    {
     "ename": "KeyboardInterrupt",
     "evalue": "",
     "output_type": "error",
     "traceback": [
      "\u001b[0;31m---------------------------------------------------------------------------\u001b[0m",
      "\u001b[0;31mKeyboardInterrupt\u001b[0m                         Traceback (most recent call last)",
      "\u001b[0;32m<ipython-input-82-6ef5491fe253>\u001b[0m in \u001b[0;36m<module>\u001b[0;34m\u001b[0m\n\u001b[1;32m      5\u001b[0m     \u001b[0mframe\u001b[0m \u001b[0;34m=\u001b[0m \u001b[0mimages\u001b[0m\u001b[0;34m.\u001b[0m\u001b[0mdraw_circle\u001b[0m\u001b[0;34m(\u001b[0m\u001b[0mframe\u001b[0m\u001b[0;34m,\u001b[0m \u001b[0msx1\u001b[0m\u001b[0;34m[\u001b[0m\u001b[0mf\u001b[0m\u001b[0;34m]\u001b[0m\u001b[0;34m,\u001b[0m \u001b[0mframe\u001b[0m\u001b[0;34m.\u001b[0m\u001b[0mshape\u001b[0m\u001b[0;34m[\u001b[0m\u001b[0;36m0\u001b[0m\u001b[0;34m]\u001b[0m\u001b[0;34m//\u001b[0m\u001b[0;36m2\u001b[0m\u001b[0;34m,\u001b[0m \u001b[0;36m20\u001b[0m\u001b[0;34m)\u001b[0m\u001b[0;34m\u001b[0m\u001b[0;34m\u001b[0m\u001b[0m\n\u001b[1;32m      6\u001b[0m     \u001b[0mframe\u001b[0m \u001b[0;34m=\u001b[0m \u001b[0mimages\u001b[0m\u001b[0;34m.\u001b[0m\u001b[0mdraw_circle\u001b[0m\u001b[0;34m(\u001b[0m\u001b[0mframe\u001b[0m\u001b[0;34m,\u001b[0m \u001b[0msx2\u001b[0m\u001b[0;34m[\u001b[0m\u001b[0mf\u001b[0m\u001b[0;34m]\u001b[0m\u001b[0;34m,\u001b[0m \u001b[0mframe\u001b[0m\u001b[0;34m.\u001b[0m\u001b[0mshape\u001b[0m\u001b[0;34m[\u001b[0m\u001b[0;36m0\u001b[0m\u001b[0;34m]\u001b[0m\u001b[0;34m//\u001b[0m\u001b[0;36m2\u001b[0m\u001b[0;34m,\u001b[0m \u001b[0;36m20\u001b[0m\u001b[0;34m)\u001b[0m\u001b[0;34m\u001b[0m\u001b[0;34m\u001b[0m\u001b[0m\n\u001b[0;32m----> 7\u001b[0;31m     \u001b[0mwindow\u001b[0m\u001b[0;34m.\u001b[0m\u001b[0mupdate_im\u001b[0m\u001b[0;34m(\u001b[0m\u001b[0mframe\u001b[0m\u001b[0;34m)\u001b[0m\u001b[0;34m\u001b[0m\u001b[0;34m\u001b[0m\u001b[0m\n\u001b[0m",
      "\u001b[0;32m~/miniconda3/envs/ExperimentsNew/lib/python3.7/site-packages/labvision/images/basics.py\u001b[0m in \u001b[0;36mupdate_im\u001b[0;34m(self, im)\u001b[0m\n\u001b[1;32m     32\u001b[0m     \u001b[0;32mdef\u001b[0m \u001b[0mupdate_im\u001b[0m\u001b[0;34m(\u001b[0m\u001b[0mself\u001b[0m\u001b[0;34m,\u001b[0m \u001b[0mim\u001b[0m\u001b[0;34m)\u001b[0m\u001b[0;34m:\u001b[0m\u001b[0;34m\u001b[0m\u001b[0;34m\u001b[0m\u001b[0m\n\u001b[1;32m     33\u001b[0m         \u001b[0mcv2\u001b[0m\u001b[0;34m.\u001b[0m\u001b[0mimshow\u001b[0m\u001b[0;34m(\u001b[0m\u001b[0mself\u001b[0m\u001b[0;34m.\u001b[0m\u001b[0mwindow_name\u001b[0m\u001b[0;34m,\u001b[0m \u001b[0mim\u001b[0m\u001b[0;34m)\u001b[0m\u001b[0;34m\u001b[0m\u001b[0;34m\u001b[0m\u001b[0m\n\u001b[0;32m---> 34\u001b[0;31m         \u001b[0;32mif\u001b[0m \u001b[0mcv2\u001b[0m\u001b[0;34m.\u001b[0m\u001b[0mwaitKey\u001b[0m\u001b[0;34m(\u001b[0m\u001b[0;36m100\u001b[0m\u001b[0;34m)\u001b[0m \u001b[0;34m&\u001b[0m \u001b[0;36m0xFF\u001b[0m \u001b[0;34m==\u001b[0m \u001b[0mord\u001b[0m\u001b[0;34m(\u001b[0m\u001b[0;34m'q'\u001b[0m\u001b[0;34m)\u001b[0m\u001b[0;34m:\u001b[0m\u001b[0;34m\u001b[0m\u001b[0;34m\u001b[0m\u001b[0m\n\u001b[0m\u001b[1;32m     35\u001b[0m             \u001b[0mself\u001b[0m\u001b[0;34m.\u001b[0m\u001b[0mactive\u001b[0m \u001b[0;34m=\u001b[0m \u001b[0;32mFalse\u001b[0m\u001b[0;34m\u001b[0m\u001b[0;34m\u001b[0m\u001b[0m\n\u001b[1;32m     36\u001b[0m             \u001b[0mcv2\u001b[0m\u001b[0;34m.\u001b[0m\u001b[0mdestroyAllWindows\u001b[0m\u001b[0;34m(\u001b[0m\u001b[0;34m)\u001b[0m\u001b[0;34m\u001b[0m\u001b[0;34m\u001b[0m\u001b[0m\n",
      "\u001b[0;31mKeyboardInterrupt\u001b[0m: "
     ]
    }
   ],
   "source": [
    "window = images.Displayer('solid')\n",
    "solid.set_frame(0)\n",
    "for f in range(solid.num_frames):\n",
    "    frame = get_frame(solid, solid_angle, solid_crop_result)\n",
    "    frame = images.draw_circle(frame, sx1[f], frame.shape[0]//2, 20)\n",
    "    frame = images.draw_circle(frame, sx2[f], frame.shape[0]//2, 20)\n",
    "    window.update_im(frame)"
   ]
  },
  {
   "cell_type": "code",
   "execution_count": null,
   "metadata": {},
   "outputs": [],
   "source": []
  }
 ],
 "metadata": {
  "kernelspec": {
   "display_name": "Python 3",
   "language": "python",
   "name": "python3"
  },
  "language_info": {
   "codemirror_mode": {
    "name": "ipython",
    "version": 3
   },
   "file_extension": ".py",
   "mimetype": "text/x-python",
   "name": "python",
   "nbconvert_exporter": "python",
   "pygments_lexer": "ipython3",
   "version": "3.7.9"
  }
 },
 "nbformat": 4,
 "nbformat_minor": 4
}
