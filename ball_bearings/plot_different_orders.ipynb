{
 "cells": [
  {
   "cell_type": "code",
   "execution_count": 5,
   "outputs": [
    {
     "name": "stdout",
     "output_type": "stream",
     "text": [
      "Using matplotlib backend: Qt5Agg\n"
     ]
    }
   ],
   "source": [
    "import pandas as pd\n",
    "import matplotlib.pyplot as plt\n",
    "import numpy as np\n",
    "import filehandling\n",
    "import os\n",
    "%matplotlib auto"
   ],
   "metadata": {
    "collapsed": false
   }
  },
  {
   "cell_type": "code",
   "execution_count": 6,
   "outputs": [],
   "source": [
    "direc = \"/media/data/Data/BallBearing/HIPS/IslandExperiments/New_2,25mm_experiments/75%_15s\"\n",
    "files = filehandling.get_directory_filenames(f\"{direc}/*.hdf5\")"
   ],
   "metadata": {
    "collapsed": false
   }
  },
  {
   "cell_type": "code",
   "execution_count": 7,
   "outputs": [],
   "source": [
    "\n",
    "duties = []\n",
    "angles = []\n",
    "for file in files:\n",
    "    data = pd.read_hdf(file)\n",
    "    order = np.sum(data.hexatic_order)\n",
    "    angle = np.angle(order)\n",
    "    duty = int(file[-8:-5])\n",
    "    duties.append(duty)\n",
    "    angles.append(angle)"
   ],
   "metadata": {
    "collapsed": false
   }
  },
  {
   "cell_type": "code",
   "execution_count": 8,
   "outputs": [
    {
     "data": {
      "text/plain": "[<matplotlib.lines.Line2D at 0x7f4cdce7c5e0>]"
     },
     "execution_count": 8,
     "metadata": {},
     "output_type": "execute_result"
    }
   ],
   "source": [
    "plt.plot(duties, angles)"
   ],
   "metadata": {
    "collapsed": false
   }
  },
  {
   "cell_type": "code",
   "execution_count": 10,
   "outputs": [],
   "source": [
    "from math import pi"
   ],
   "metadata": {
    "collapsed": false
   }
  },
  {
   "cell_type": "code",
   "execution_count": 11,
   "outputs": [],
   "source": [
    "duties = []\n",
    "crystal1 = []\n",
    "crystal2 = []\n",
    "for file in files:\n",
    "    data = pd.read_hdf(file)\n",
    "    angle = np.angle(data.hexatic_order)\n",
    "    order1 = np.mean(data.hexatic_order[(-pi/4<angle)&(angle<pi/4)])\n",
    "    order2 = np.mean(data.hexatic_order[(angle < -pi/4)|(angle > pi/4)])\n",
    "    duty = int(file[-8:-5])\n",
    "    duties.append(duty)\n",
    "    crystal1.append(np.abs(order1))\n",
    "    crystal2.append(np.abs(order2))"
   ],
   "metadata": {
    "collapsed": false
   }
  },
  {
   "cell_type": "code",
   "execution_count": 12,
   "outputs": [
    {
     "data": {
      "text/plain": "<matplotlib.legend.Legend at 0x7f4cdc1f6e20>"
     },
     "execution_count": 12,
     "metadata": {},
     "output_type": "execute_result"
    }
   ],
   "source": [
    "plt.figure()\n",
    "plt.plot(duties, crystal1, 'c-', label='clusters')\n",
    "plt.plot(duties, crystal2, 'r--', label='bulk')\n",
    "plt.xlabel('Duty')\n",
    "plt.ylabel('$|\\psi_6|$')\n",
    "plt.legend()"
   ],
   "metadata": {
    "collapsed": false
   }
  },
  {
   "cell_type": "markdown",
   "source": [
    "## Histograms"
   ],
   "metadata": {
    "collapsed": false
   }
  },
  {
   "cell_type": "code",
   "execution_count": 13,
   "outputs": [],
   "source": [
    "all_freqs = {}"
   ],
   "metadata": {
    "collapsed": false
   }
  },
  {
   "cell_type": "code",
   "execution_count": 14,
   "outputs": [],
   "source": [
    "rate = direc.split('_')[-1]\n",
    "\n",
    "angles = np.linspace(-np.pi, np.pi, 100)\n",
    "freqs = {}\n",
    "for file in files:\n",
    "    data = pd.read_hdf(file)\n",
    "    data['hexatic_abs'] = np.abs(data.hexatic_order)\n",
    "    thresholded_data = data[data.hexatic_abs > 0.5]\n",
    "    angle = np.angle(thresholded_data.hexatic_order)\n",
    "    counts, bins = np.histogram(angle, angles, density=True)\n",
    "    counts *= len(thresholded_data)/len(data)\n",
    "    freqs[int(file[-8:-5])] = counts\n",
    "all_freqs[rate] = freqs"
   ],
   "metadata": {
    "collapsed": false
   }
  },
  {
   "cell_type": "code",
   "execution_count": 15,
   "outputs": [
    {
     "ename": "ValueError",
     "evalue": "x and y must have same first dimension, but have shapes (99,) and (1,)",
     "output_type": "error",
     "traceback": [
      "\u001B[0;31m---------------------------------------------------------------------------\u001B[0m",
      "\u001B[0;31mValueError\u001B[0m                                Traceback (most recent call last)",
      "\u001B[0;32m<ipython-input-15-311f02aa5d18>\u001B[0m in \u001B[0;36m<module>\u001B[0;34m\u001B[0m\n\u001B[1;32m      1\u001B[0m \u001B[0;32mfor\u001B[0m \u001B[0md\u001B[0m\u001B[0;34m,\u001B[0m \u001B[0mfreq\u001B[0m \u001B[0;32min\u001B[0m \u001B[0mzip\u001B[0m\u001B[0;34m(\u001B[0m\u001B[0mduties\u001B[0m\u001B[0;34m,\u001B[0m \u001B[0mfreqs\u001B[0m\u001B[0;34m)\u001B[0m\u001B[0;34m:\u001B[0m\u001B[0;34m\u001B[0m\u001B[0;34m\u001B[0m\u001B[0m\n\u001B[0;32m----> 2\u001B[0;31m     \u001B[0mplt\u001B[0m\u001B[0;34m.\u001B[0m\u001B[0mplot\u001B[0m\u001B[0;34m(\u001B[0m\u001B[0mangles\u001B[0m\u001B[0;34m[\u001B[0m\u001B[0;34m:\u001B[0m\u001B[0;34m-\u001B[0m\u001B[0;36m1\u001B[0m\u001B[0;34m]\u001B[0m\u001B[0;34m,\u001B[0m \u001B[0mfreq\u001B[0m\u001B[0;34m,\u001B[0m \u001B[0mlabel\u001B[0m\u001B[0;34m=\u001B[0m\u001B[0md\u001B[0m\u001B[0;34m)\u001B[0m\u001B[0;34m\u001B[0m\u001B[0;34m\u001B[0m\u001B[0m\n\u001B[0m\u001B[1;32m      3\u001B[0m     \u001B[0mplt\u001B[0m\u001B[0;34m.\u001B[0m\u001B[0mxlabel\u001B[0m\u001B[0;34m(\u001B[0m\u001B[0;34m'Angle (radians)'\u001B[0m\u001B[0;34m)\u001B[0m\u001B[0;34m\u001B[0m\u001B[0;34m\u001B[0m\u001B[0m\n\u001B[1;32m      4\u001B[0m \u001B[0mplt\u001B[0m\u001B[0;34m.\u001B[0m\u001B[0mlegend\u001B[0m\u001B[0;34m(\u001B[0m\u001B[0;34m)\u001B[0m\u001B[0;34m\u001B[0m\u001B[0;34m\u001B[0m\u001B[0m\n",
      "\u001B[0;32m~/miniconda3/envs/ExperimentsNew/lib/python3.9/site-packages/matplotlib/pyplot.py\u001B[0m in \u001B[0;36mplot\u001B[0;34m(scalex, scaley, data, *args, **kwargs)\u001B[0m\n\u001B[1;32m   3017\u001B[0m \u001B[0;34m@\u001B[0m\u001B[0m_copy_docstring_and_deprecators\u001B[0m\u001B[0;34m(\u001B[0m\u001B[0mAxes\u001B[0m\u001B[0;34m.\u001B[0m\u001B[0mplot\u001B[0m\u001B[0;34m)\u001B[0m\u001B[0;34m\u001B[0m\u001B[0;34m\u001B[0m\u001B[0m\n\u001B[1;32m   3018\u001B[0m \u001B[0;32mdef\u001B[0m \u001B[0mplot\u001B[0m\u001B[0;34m(\u001B[0m\u001B[0;34m*\u001B[0m\u001B[0margs\u001B[0m\u001B[0;34m,\u001B[0m \u001B[0mscalex\u001B[0m\u001B[0;34m=\u001B[0m\u001B[0;32mTrue\u001B[0m\u001B[0;34m,\u001B[0m \u001B[0mscaley\u001B[0m\u001B[0;34m=\u001B[0m\u001B[0;32mTrue\u001B[0m\u001B[0;34m,\u001B[0m \u001B[0mdata\u001B[0m\u001B[0;34m=\u001B[0m\u001B[0;32mNone\u001B[0m\u001B[0;34m,\u001B[0m \u001B[0;34m**\u001B[0m\u001B[0mkwargs\u001B[0m\u001B[0;34m)\u001B[0m\u001B[0;34m:\u001B[0m\u001B[0;34m\u001B[0m\u001B[0;34m\u001B[0m\u001B[0m\n\u001B[0;32m-> 3019\u001B[0;31m     return gca().plot(\n\u001B[0m\u001B[1;32m   3020\u001B[0m         \u001B[0;34m*\u001B[0m\u001B[0margs\u001B[0m\u001B[0;34m,\u001B[0m \u001B[0mscalex\u001B[0m\u001B[0;34m=\u001B[0m\u001B[0mscalex\u001B[0m\u001B[0;34m,\u001B[0m \u001B[0mscaley\u001B[0m\u001B[0;34m=\u001B[0m\u001B[0mscaley\u001B[0m\u001B[0;34m,\u001B[0m\u001B[0;34m\u001B[0m\u001B[0;34m\u001B[0m\u001B[0m\n\u001B[1;32m   3021\u001B[0m         **({\"data\": data} if data is not None else {}), **kwargs)\n",
      "\u001B[0;32m~/miniconda3/envs/ExperimentsNew/lib/python3.9/site-packages/matplotlib/axes/_axes.py\u001B[0m in \u001B[0;36mplot\u001B[0;34m(self, scalex, scaley, data, *args, **kwargs)\u001B[0m\n\u001B[1;32m   1603\u001B[0m         \"\"\"\n\u001B[1;32m   1604\u001B[0m         \u001B[0mkwargs\u001B[0m \u001B[0;34m=\u001B[0m \u001B[0mcbook\u001B[0m\u001B[0;34m.\u001B[0m\u001B[0mnormalize_kwargs\u001B[0m\u001B[0;34m(\u001B[0m\u001B[0mkwargs\u001B[0m\u001B[0;34m,\u001B[0m \u001B[0mmlines\u001B[0m\u001B[0;34m.\u001B[0m\u001B[0mLine2D\u001B[0m\u001B[0;34m)\u001B[0m\u001B[0;34m\u001B[0m\u001B[0;34m\u001B[0m\u001B[0m\n\u001B[0;32m-> 1605\u001B[0;31m         \u001B[0mlines\u001B[0m \u001B[0;34m=\u001B[0m \u001B[0;34m[\u001B[0m\u001B[0;34m*\u001B[0m\u001B[0mself\u001B[0m\u001B[0;34m.\u001B[0m\u001B[0m_get_lines\u001B[0m\u001B[0;34m(\u001B[0m\u001B[0;34m*\u001B[0m\u001B[0margs\u001B[0m\u001B[0;34m,\u001B[0m \u001B[0mdata\u001B[0m\u001B[0;34m=\u001B[0m\u001B[0mdata\u001B[0m\u001B[0;34m,\u001B[0m \u001B[0;34m**\u001B[0m\u001B[0mkwargs\u001B[0m\u001B[0;34m)\u001B[0m\u001B[0;34m]\u001B[0m\u001B[0;34m\u001B[0m\u001B[0;34m\u001B[0m\u001B[0m\n\u001B[0m\u001B[1;32m   1606\u001B[0m         \u001B[0;32mfor\u001B[0m \u001B[0mline\u001B[0m \u001B[0;32min\u001B[0m \u001B[0mlines\u001B[0m\u001B[0;34m:\u001B[0m\u001B[0;34m\u001B[0m\u001B[0;34m\u001B[0m\u001B[0m\n\u001B[1;32m   1607\u001B[0m             \u001B[0mself\u001B[0m\u001B[0;34m.\u001B[0m\u001B[0madd_line\u001B[0m\u001B[0;34m(\u001B[0m\u001B[0mline\u001B[0m\u001B[0;34m)\u001B[0m\u001B[0;34m\u001B[0m\u001B[0;34m\u001B[0m\u001B[0m\n",
      "\u001B[0;32m~/miniconda3/envs/ExperimentsNew/lib/python3.9/site-packages/matplotlib/axes/_base.py\u001B[0m in \u001B[0;36m__call__\u001B[0;34m(self, data, *args, **kwargs)\u001B[0m\n\u001B[1;32m    313\u001B[0m                 \u001B[0mthis\u001B[0m \u001B[0;34m+=\u001B[0m \u001B[0margs\u001B[0m\u001B[0;34m[\u001B[0m\u001B[0;36m0\u001B[0m\u001B[0;34m]\u001B[0m\u001B[0;34m,\u001B[0m\u001B[0;34m\u001B[0m\u001B[0;34m\u001B[0m\u001B[0m\n\u001B[1;32m    314\u001B[0m                 \u001B[0margs\u001B[0m \u001B[0;34m=\u001B[0m \u001B[0margs\u001B[0m\u001B[0;34m[\u001B[0m\u001B[0;36m1\u001B[0m\u001B[0;34m:\u001B[0m\u001B[0;34m]\u001B[0m\u001B[0;34m\u001B[0m\u001B[0;34m\u001B[0m\u001B[0m\n\u001B[0;32m--> 315\u001B[0;31m             \u001B[0;32myield\u001B[0m \u001B[0;32mfrom\u001B[0m \u001B[0mself\u001B[0m\u001B[0;34m.\u001B[0m\u001B[0m_plot_args\u001B[0m\u001B[0;34m(\u001B[0m\u001B[0mthis\u001B[0m\u001B[0;34m,\u001B[0m \u001B[0mkwargs\u001B[0m\u001B[0;34m)\u001B[0m\u001B[0;34m\u001B[0m\u001B[0;34m\u001B[0m\u001B[0m\n\u001B[0m\u001B[1;32m    316\u001B[0m \u001B[0;34m\u001B[0m\u001B[0m\n\u001B[1;32m    317\u001B[0m     \u001B[0;32mdef\u001B[0m \u001B[0mget_next_color\u001B[0m\u001B[0;34m(\u001B[0m\u001B[0mself\u001B[0m\u001B[0;34m)\u001B[0m\u001B[0;34m:\u001B[0m\u001B[0;34m\u001B[0m\u001B[0;34m\u001B[0m\u001B[0m\n",
      "\u001B[0;32m~/miniconda3/envs/ExperimentsNew/lib/python3.9/site-packages/matplotlib/axes/_base.py\u001B[0m in \u001B[0;36m_plot_args\u001B[0;34m(self, tup, kwargs, return_kwargs)\u001B[0m\n\u001B[1;32m    499\u001B[0m \u001B[0;34m\u001B[0m\u001B[0m\n\u001B[1;32m    500\u001B[0m         \u001B[0;32mif\u001B[0m \u001B[0mx\u001B[0m\u001B[0;34m.\u001B[0m\u001B[0mshape\u001B[0m\u001B[0;34m[\u001B[0m\u001B[0;36m0\u001B[0m\u001B[0;34m]\u001B[0m \u001B[0;34m!=\u001B[0m \u001B[0my\u001B[0m\u001B[0;34m.\u001B[0m\u001B[0mshape\u001B[0m\u001B[0;34m[\u001B[0m\u001B[0;36m0\u001B[0m\u001B[0;34m]\u001B[0m\u001B[0;34m:\u001B[0m\u001B[0;34m\u001B[0m\u001B[0;34m\u001B[0m\u001B[0m\n\u001B[0;32m--> 501\u001B[0;31m             raise ValueError(f\"x and y must have same first dimension, but \"\n\u001B[0m\u001B[1;32m    502\u001B[0m                              f\"have shapes {x.shape} and {y.shape}\")\n\u001B[1;32m    503\u001B[0m         \u001B[0;32mif\u001B[0m \u001B[0mx\u001B[0m\u001B[0;34m.\u001B[0m\u001B[0mndim\u001B[0m \u001B[0;34m>\u001B[0m \u001B[0;36m2\u001B[0m \u001B[0;32mor\u001B[0m \u001B[0my\u001B[0m\u001B[0;34m.\u001B[0m\u001B[0mndim\u001B[0m \u001B[0;34m>\u001B[0m \u001B[0;36m2\u001B[0m\u001B[0;34m:\u001B[0m\u001B[0;34m\u001B[0m\u001B[0;34m\u001B[0m\u001B[0m\n",
      "\u001B[0;31mValueError\u001B[0m: x and y must have same first dimension, but have shapes (99,) and (1,)"
     ]
    }
   ],
   "source": [
    "for d, freq in zip(duties, freqs):\n",
    "    plt.plot(angles[:-1], freq, label=d)\n",
    "    plt.xlabel('Angle (radians)')\n",
    "plt.legend()"
   ],
   "metadata": {
    "collapsed": false
   }
  },
  {
   "cell_type": "code",
   "execution_count": 208,
   "outputs": [
    {
     "data": {
      "text/plain": "<matplotlib.legend.Legend at 0x7fe162530df0>"
     },
     "execution_count": 208,
     "metadata": {},
     "output_type": "execute_result"
    }
   ],
   "source": [
    "duties = 500, 490, 480, 470, 460\n",
    "for d in duties:\n",
    "    plt.plot(angles[:-1], freqs[d], label=d)\n",
    "    plt.xlabel('Angle (radians)')\n",
    "plt.legend()"
   ],
   "metadata": {
    "collapsed": false
   }
  },
  {
   "cell_type": "code",
   "execution_count": 186,
   "outputs": [],
   "source": [
    "for duty in [520, 500, 490, 480, 470, 460]:\n",
    "    plt.figure()\n",
    "    for rate in all_freqs.keys():\n",
    "        plt.plot(angles[:-1], all_freqs[rate][duty], label=rate)\n",
    "    plt.xlabel('Angle (radians)')\n",
    "    plt.ylabel('Density')\n",
    "    plt.title(duty)\n",
    "    plt.legend()\n"
   ],
   "metadata": {
    "collapsed": false
   }
  },
  {
   "cell_type": "markdown",
   "source": [
    "## Pictures"
   ],
   "metadata": {
    "collapsed": false
   }
  },
  {
   "cell_type": "code",
   "execution_count": 8,
   "outputs": [],
   "source": [
    "def plot_duty(d):\n",
    "    file = f\"{direc}/{d}.hdf5\"\n",
    "    data = pd.read_hdf(file)\n",
    "    frame = data.loc[0]\n",
    "    plt.figure()\n",
    "    plt.scatter(frame.x, frame.y, c=np.angle(frame.hexatic_order), cmap='hsv', marker='.')\n",
    "    plt.title(d)\n",
    "    plt.axis('equal')"
   ],
   "metadata": {
    "collapsed": false
   }
  },
  {
   "cell_type": "code",
   "execution_count": 9,
   "outputs": [],
   "source": [
    "plot_duty(530)\n",
    "plot_duty(525)\n",
    "plot_duty(519)\n",
    "plot_duty(511)\n",
    "plot_duty(501)\n",
    "plot_duty(470)"
   ],
   "metadata": {
    "collapsed": false
   }
  },
  {
   "cell_type": "code",
   "execution_count": 217,
   "outputs": [],
   "source": [
    "\n",
    "plot_duty(511)\n",
    "plot_duty(509)\n",
    "plot_duty(507)\n",
    "plot_duty(505)\n",
    "plot_duty(503)"
   ],
   "metadata": {
    "collapsed": false
   }
  },
  {
   "cell_type": "code",
   "execution_count": 71,
   "outputs": [],
   "source": [
    "def get_hexatic_counts(data, bins):\n",
    "    angles = np.angle(data['hexatic_order'])\n",
    "    counts, _ = np.histogram(angles, bins)\n",
    "\n",
    "def get_directory_hexatic_counts(direc, bins, threshold=None):\n",
    "    files = filehandling.get_directory_filenames(f\"{direc}/*.hdf5\")\n",
    "    data_files = (pd.read_hdf(f) for f in files)\n",
    "    duties = [int(os.path.split(f)[1][:3]) for f in files]\n",
    "    counts_data = {}\n",
    "    for data, duty in zip(data_files, duties):\n",
    "        total_count = len(data)\n",
    "        if threshold is not None:\n",
    "            data['hexatic_order_abs'] = np.abs(data.hexatic_order)\n",
    "            data = data.loc[data.hexatic_order_abs>threshold]\n",
    "        angles = np.angle(data['hexatic_order'])\n",
    "        if threshold is None:\n",
    "            counts, _ = np.histogram(angles, bins, density=True)\n",
    "        else:\n",
    "            counts, _ = np.histogram(angles, bins)\n",
    "            counts = counts / total_count\n",
    "\n",
    "        counts_data[duty] = counts\n",
    "    return counts_data"
   ],
   "metadata": {
    "collapsed": false
   }
  },
  {
   "cell_type": "code",
   "execution_count": 72,
   "outputs": [],
   "source": [
    "parent_direc = \"/media/data/Data/BallBearing/HIPS/IslandExperiments/New_1,91mm_experiments\"\n",
    "child_direcs = [\n",
    "    \"85%_1s\",\n",
    "    \"85%_5s\",\n",
    "    \"85%_15s\",\n",
    "    \"85%_30s\",\n",
    "    \"85%_300s\",\n",
    "    ]\n",
    "rates = [s.split('_')[1][:-1] for s in child_direcs]\n",
    "direcs = [f\"{parent_direc}/{c}\" for c in child_direcs]\n",
    "\n",
    "angle_bins = np.linspace(-np.pi, np.pi, 100)\n",
    "bin_centers = (angle_bins[:-1] + angle_bins[1:])/2\n",
    "\n",
    "rates_data = {}\n",
    "for direc, rate in zip(direcs, rates):\n",
    "    rates_data[rate] = get_directory_hexatic_counts(direc, angle_bins, 0.8)\n"
   ],
   "metadata": {
    "collapsed": false
   }
  },
  {
   "cell_type": "code",
   "execution_count": 60,
   "outputs": [],
   "source": [
    "duties = [500, 490, 480, 470, 460]\n",
    "for rate, duty_data in rates_data.items():\n",
    "    plt.figure()\n",
    "    for duty in duties:\n",
    "        freqs = duty_data[duty]\n",
    "        plt.plot(bin_centers, freqs, label=duty)\n",
    "    plt.title(rate)\n",
    "    plt.legend()"
   ],
   "metadata": {
    "collapsed": false
   }
  },
  {
   "cell_type": "markdown",
   "source": [
    "|## Figure per duty"
   ],
   "metadata": {
    "collapsed": false
   }
  },
  {
   "cell_type": "markdown",
   "source": [
    "## Ratios"
   ],
   "metadata": {
    "collapsed": false
   }
  },
  {
   "cell_type": "code",
   "execution_count": 65,
   "outputs": [],
   "source": [
    "for rate, duty_data in rates_data.items():\n",
    "    plt.figure()\n",
    "    island_data = []\n",
    "    bulk_data = []\n",
    "    duties = []\n",
    "    for duty, freqs in duty_data.items():\n",
    "        islands = np.sum(freqs[(bin_centers>-0.25*np.pi)*(bin_centers<0.25*np.pi)])\n",
    "        bulk = np.sum(freqs[(bin_centers<-0.25*np.pi)|(bin_centers>0.25*np.pi)])\n",
    "        total = islands + bulk\n",
    "        island_data.append(100*islands/total)\n",
    "        bulk_data.append(100*bulk/total)\n",
    "        duties.append(duty)\n",
    "    plt.plot(duties, bulk_data, label='bulk')\n",
    "    plt.plot(duties, island_data, label='clusters')\n",
    "    plt.xlabel('Duty')\n",
    "    plt.ylabel('%')\n",
    "    plt.ylim([0, 100])\n",
    "    plt.legend()\n",
    "    plt.title(rate)"
   ],
   "metadata": {
    "collapsed": false
   }
  },
  {
   "cell_type": "code",
   "execution_count": 69,
   "outputs": [],
   "source": [
    "plt.close('all')"
   ],
   "metadata": {
    "collapsed": false
   }
  },
  {
   "cell_type": "markdown",
   "source": [
    "## Fractions"
   ],
   "metadata": {
    "collapsed": false
   }
  },
  {
   "cell_type": "code",
   "execution_count": 77,
   "outputs": [],
   "source": [
    "for rate, duty_data in rates_data.items():\n",
    "    plt.figure()\n",
    "    island_data = []\n",
    "    bulk_data = []\n",
    "    duties = []\n",
    "    for duty, freqs in duty_data.items():\n",
    "        islands = np.sum(freqs[(bin_centers>-0.5*np.pi)*(bin_centers<0.5*np.pi)])\n",
    "        bulk = np.sum(freqs[(bin_centers<-0.5*np.pi)|(bin_centers>0.5*np.pi)])\n",
    "        total = islands + bulk\n",
    "        island_data.append(islands)\n",
    "        bulk_data.append(bulk)\n",
    "        duties.append(duty)\n",
    "    plt.plot(duties, bulk_data, label='bulk')\n",
    "    plt.plot(duties, island_data, label='clusters')\n",
    "    plt.xlabel('Duty')\n",
    "    plt.ylabel('%')\n",
    "    # plt.ylim([0, 100])\n",
    "    plt.legend()\n",
    "    plt.title(rate)"
   ],
   "metadata": {
    "collapsed": false
   }
  },
  {
   "cell_type": "code",
   "execution_count": 78,
   "outputs": [],
   "source": [
    "plt.close('all')"
   ],
   "metadata": {
    "collapsed": false
   }
  },
  {
   "cell_type": "markdown",
   "source": [
    "## Plot examples of different points of the graphs"
   ],
   "metadata": {
    "collapsed": false
   }
  },
  {
   "cell_type": "code",
   "execution_count": 155,
   "outputs": [],
   "source": [
    "DIREC = \"/media/data/Data/BallBearing/HIPS/IslandExperiments/New_1,91mm_experiments\"\n",
    "SAVEDIREC = \"/media/data/Data/BallBearing/HIPS/IslandExperiments/New_1,91mm_experiments/OrderPlots/Scatters\"\n",
    "def plot_image(rate, duty, angle_threshold=np.pi/4):\n",
    "    data_file = f\"{DIREC}/85%_{rate}s/{duty}.hdf5\"\n",
    "    data = pd.read_hdf(data_file)\n",
    "    data['hex_abs'] = np.abs(data.hexatic_order)\n",
    "    data['hex_angle'] = np.angle(data.hexatic_order)\n",
    "    frame = data.loc[0]\n",
    "\n",
    "    islands = frame.loc[np.abs(frame.hex_angle)<angle_threshold]\n",
    "    bulk = frame.loc[np.abs(frame.hex_angle)>(np.pi-angle_threshold)]\n",
    "    nothing = frame.loc[(np.abs(frame.hex_angle)>angle_threshold)*(np.abs(frame.hex_angle)<(np.pi-angle_threshold))]\n",
    "    plt.figure()\n",
    "    plt.scatter(nothing.x, nothing.y, c='k', marker='.', s=1)\n",
    "    plt.scatter(islands.x, islands.y, c='cyan', marker='.', s=1)\n",
    "    plt.scatter(bulk.x, bulk.y, c='r', marker='.', s=1)\n",
    "    plt.title(f\"{duty} {rate}s\")\n",
    "    plt.axis('equal')\n",
    "    plt.axis('off')\n",
    "    plt.savefig(f\"{SAVEDIREC}/{rate}_{duty}.png\", dpi=600, bbox_inches='tight', pad_inches=0.0)\n",
    "    plt.show()"
   ],
   "metadata": {
    "collapsed": false
   }
  },
  {
   "cell_type": "code",
   "execution_count": 157,
   "outputs": [],
   "source": [
    "plt.close('all')\n",
    "for rate in [1, 5, 15, 30, 300]:\n",
    "    for duty in [510, 485, 450]:\n",
    "        plot_image(rate, duty)"
   ],
   "metadata": {
    "collapsed": false
   }
  },
  {
   "cell_type": "code",
   "execution_count": 158,
   "outputs": [],
   "source": [
    "plt.close('all')"
   ],
   "metadata": {
    "collapsed": false
   }
  },
  {
   "cell_type": "code",
   "execution_count": null,
   "outputs": [],
   "source": [],
   "metadata": {
    "collapsed": false
   }
  }
 ],
 "metadata": {
  "kernelspec": {
   "display_name": "Python 3",
   "language": "python",
   "name": "python3"
  },
  "language_info": {
   "codemirror_mode": {
    "name": "ipython",
    "version": 2
   },
   "file_extension": ".py",
   "mimetype": "text/x-python",
   "name": "python",
   "nbconvert_exporter": "python",
   "pygments_lexer": "ipython2",
   "version": "2.7.6"
  }
 },
 "nbformat": 4,
 "nbformat_minor": 0
}
