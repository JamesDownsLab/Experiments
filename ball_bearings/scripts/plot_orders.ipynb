{
 "cells": [
  {
   "cell_type": "code",
   "execution_count": 12,
   "outputs": [
    {
     "name": "stdout",
     "output_type": "stream",
     "text": [
      "Using matplotlib backend: Qt5Agg\n"
     ]
    }
   ],
   "source": [
    "import pandas as pd\n",
    "import matplotlib.pyplot as plt\n",
    "import numpy as np\n",
    "import filehandling as fh\n",
    "import os\n",
    "%matplotlib auto"
   ],
   "metadata": {
    "collapsed": false,
    "pycharm": {
     "name": "#%%\n"
    }
   }
  },
  {
   "cell_type": "code",
   "execution_count": 13,
   "outputs": [],
   "source": [
    "files = fh.get_directory_filenames(\"/media/data/Data/BallBearing/HIPS/IslandExperiments/New_1,93mm_experiments/SteppedHeatingExperiments/70%_rate_0,1/*_low.hdf5\")"
   ],
   "metadata": {
    "collapsed": false,
    "pycharm": {
     "name": "#%%\n"
    }
   }
  },
  {
   "cell_type": "code",
   "execution_count": 14,
   "outputs": [
    {
     "data": {
      "text/plain": "['/media/data/Data/BallBearing/HIPS/IslandExperiments/New_1,93mm_experiments/SteppedHeatingExperiments/70%_rate_0,1/450_low.hdf5',\n '/media/data/Data/BallBearing/HIPS/IslandExperiments/New_1,93mm_experiments/SteppedHeatingExperiments/70%_rate_0,1/455_low.hdf5',\n '/media/data/Data/BallBearing/HIPS/IslandExperiments/New_1,93mm_experiments/SteppedHeatingExperiments/70%_rate_0,1/460_low.hdf5',\n '/media/data/Data/BallBearing/HIPS/IslandExperiments/New_1,93mm_experiments/SteppedHeatingExperiments/70%_rate_0,1/465_low.hdf5',\n '/media/data/Data/BallBearing/HIPS/IslandExperiments/New_1,93mm_experiments/SteppedHeatingExperiments/70%_rate_0,1/470_low.hdf5',\n '/media/data/Data/BallBearing/HIPS/IslandExperiments/New_1,93mm_experiments/SteppedHeatingExperiments/70%_rate_0,1/475_low.hdf5',\n '/media/data/Data/BallBearing/HIPS/IslandExperiments/New_1,93mm_experiments/SteppedHeatingExperiments/70%_rate_0,1/480_low.hdf5',\n '/media/data/Data/BallBearing/HIPS/IslandExperiments/New_1,93mm_experiments/SteppedHeatingExperiments/70%_rate_0,1/485_low.hdf5',\n '/media/data/Data/BallBearing/HIPS/IslandExperiments/New_1,93mm_experiments/SteppedHeatingExperiments/70%_rate_0,1/490_low.hdf5',\n '/media/data/Data/BallBearing/HIPS/IslandExperiments/New_1,93mm_experiments/SteppedHeatingExperiments/70%_rate_0,1/495_low.hdf5',\n '/media/data/Data/BallBearing/HIPS/IslandExperiments/New_1,93mm_experiments/SteppedHeatingExperiments/70%_rate_0,1/500_low.hdf5',\n '/media/data/Data/BallBearing/HIPS/IslandExperiments/New_1,93mm_experiments/SteppedHeatingExperiments/70%_rate_0,1/505_low.hdf5',\n '/media/data/Data/BallBearing/HIPS/IslandExperiments/New_1,93mm_experiments/SteppedHeatingExperiments/70%_rate_0,1/510_low.hdf5',\n '/media/data/Data/BallBearing/HIPS/IslandExperiments/New_1,93mm_experiments/SteppedHeatingExperiments/70%_rate_0,1/515_low.hdf5',\n '/media/data/Data/BallBearing/HIPS/IslandExperiments/New_1,93mm_experiments/SteppedHeatingExperiments/70%_rate_0,1/520_low.hdf5',\n '/media/data/Data/BallBearing/HIPS/IslandExperiments/New_1,93mm_experiments/SteppedHeatingExperiments/70%_rate_0,1/525_low.hdf5',\n '/media/data/Data/BallBearing/HIPS/IslandExperiments/New_1,93mm_experiments/SteppedHeatingExperiments/70%_rate_0,1/530_low.hdf5',\n '/media/data/Data/BallBearing/HIPS/IslandExperiments/New_1,93mm_experiments/SteppedHeatingExperiments/70%_rate_0,1/535_low.hdf5',\n '/media/data/Data/BallBearing/HIPS/IslandExperiments/New_1,93mm_experiments/SteppedHeatingExperiments/70%_rate_0,1/540_low.hdf5',\n '/media/data/Data/BallBearing/HIPS/IslandExperiments/New_1,93mm_experiments/SteppedHeatingExperiments/70%_rate_0,1/545_low.hdf5']"
     },
     "execution_count": 14,
     "metadata": {},
     "output_type": "execute_result"
    }
   ],
   "source": [
    "files"
   ],
   "metadata": {
    "collapsed": false,
    "pycharm": {
     "name": "#%%\n"
    }
   }
  },
  {
   "cell_type": "code",
   "execution_count": 18,
   "outputs": [],
   "source": [
    "duties = []\n",
    "orders = []\n",
    "for file in files:\n",
    "    duty = int(os.path.split(file)[1][:3])\n",
    "    data = pd.read_hdf(file)\n",
    "    frame = data.loc[0]\n",
    "    order = np.abs(np.mean(frame.hexatic_order.values))\n",
    "    duties.append(duty)\n",
    "    orders.append(order)"
   ],
   "metadata": {
    "collapsed": false,
    "pycharm": {
     "name": "#%%\n"
    }
   }
  },
  {
   "cell_type": "code",
   "execution_count": 19,
   "outputs": [
    {
     "data": {
      "text/plain": "[<matplotlib.lines.Line2D at 0x7f2ce976b790>]"
     },
     "execution_count": 19,
     "metadata": {},
     "output_type": "execute_result"
    }
   ],
   "source": [
    "plt.plot(duties, orders)"
   ],
   "metadata": {
    "collapsed": false,
    "pycharm": {
     "name": "#%%\n"
    }
   }
  },
  {
   "cell_type": "code",
   "execution_count": null,
   "outputs": [],
   "source": [],
   "metadata": {
    "collapsed": false,
    "pycharm": {
     "name": "#%%\n"
    }
   }
  }
 ],
 "metadata": {
  "kernelspec": {
   "display_name": "Python 3",
   "language": "python",
   "name": "python3"
  },
  "language_info": {
   "codemirror_mode": {
    "name": "ipython",
    "version": 2
   },
   "file_extension": ".py",
   "mimetype": "text/x-python",
   "name": "python",
   "nbconvert_exporter": "python",
   "pygments_lexer": "ipython2",
   "version": "2.7.6"
  }
 },
 "nbformat": 4,
 "nbformat_minor": 0
}