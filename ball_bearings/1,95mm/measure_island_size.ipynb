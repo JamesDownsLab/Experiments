{
 "cells": [
  {
   "cell_type": "code",
   "execution_count": 2,
   "metadata": {
    "collapsed": true,
    "pycharm": {
     "name": "#%%\n"
    }
   },
   "outputs": [],
   "source": [
    "import numpy as np\n",
    "import pandas as pd\n",
    "import matplotlib.pyplot as plt\n",
    "from labvision import images\n",
    "import cv2\n",
    "from scipy import spatial"
   ]
  },
  {
   "cell_type": "code",
   "execution_count": 2,
   "outputs": [
    {
     "name": "stdout",
     "output_type": "stream",
     "text": [
      "Using matplotlib backend: Qt5Agg\n"
     ]
    }
   ],
   "source": [
    "%matplotlib auto"
   ],
   "metadata": {
    "collapsed": false,
    "pycharm": {
     "name": "#%%\n"
    }
   }
  },
  {
   "cell_type": "code",
   "execution_count": 7,
   "outputs": [
    {
     "data": {
      "text/plain": "Text(0.5, 1.0, '$N=\\\\frac{r}{D-L}$')"
     },
     "execution_count": 7,
     "metadata": {},
     "output_type": "execute_result"
    }
   ],
   "source": [
    "r = 0.57\n",
    "D = 2\n",
    "L = np.arange(1.80, 2.00, 0.01)\n",
    "plt.plot(L, r/(D-L))\n",
    "plt.xlabel('Dimple spacing (mm)')\n",
    "plt.ylabel('Island size')\n",
    "plt.title(r'$N=\\frac{r}{D-L}$')"
   ],
   "metadata": {
    "collapsed": false,
    "pycharm": {
     "name": "#%%\n"
    }
   }
  },
  {
   "cell_type": "code",
   "execution_count": 135,
   "outputs": [],
   "source": [
    "data = pd.read_hdf(\"/media/data/Data/BallBearing/HIPS/PhaseDiagramsNewPlate/1,95mm/70%/451.hdf5\")"
   ],
   "metadata": {
    "collapsed": false,
    "pycharm": {
     "name": "#%%\n"
    }
   }
  },
  {
   "cell_type": "code",
   "execution_count": 138,
   "outputs": [],
   "source": [
    "frame = data.loc[0]"
   ],
   "metadata": {
    "collapsed": false,
    "pycharm": {
     "name": "#%%\n"
    }
   }
  },
  {
   "cell_type": "code",
   "execution_count": 137,
   "outputs": [],
   "source": [
    "data['hexatic_order_angle'] = np.angle(data['hexatic_order'])\n",
    "data['hexatic_order_abs'] = np.abs(data['hexatic_order'])"
   ],
   "metadata": {
    "collapsed": false,
    "pycharm": {
     "name": "#%%\n"
    }
   }
  },
  {
   "cell_type": "code",
   "execution_count": 97,
   "outputs": [
    {
     "data": {
      "text/plain": "<AxesSubplot:xlabel='x', ylabel='y'>"
     },
     "execution_count": 97,
     "metadata": {},
     "output_type": "execute_result"
    }
   ],
   "source": [
    "toplot = frame#[frame['hexatic_order_abs']>0.8]\n",
    "toplot = frame#[(frame.hexatic_order_angle<0.4)&(frame.hexatic_order_angle>-0.4)]\n",
    "toplot.plot(x='x', y='y', c='hexatic_order_angle', kind='scatter', cmap='hsv')"
   ],
   "metadata": {
    "collapsed": false,
    "pycharm": {
     "name": "#%%\n"
    }
   }
  },
  {
   "cell_type": "code",
   "execution_count": 76,
   "outputs": [],
   "source": [
    "from sklearn import cluster"
   ],
   "metadata": {
    "collapsed": false,
    "pycharm": {
     "name": "#%%\n"
    }
   }
  },
  {
   "cell_type": "code",
   "execution_count": 87,
   "outputs": [],
   "source": [
    "clustering = cluster.AgglomerativeClustering(distance_threshold=40, n_clusters=None).fit(toplot[['x', 'y']].values)"
   ],
   "metadata": {
    "collapsed": false,
    "pycharm": {
     "name": "#%%\n"
    }
   }
  },
  {
   "cell_type": "code",
   "execution_count": 88,
   "outputs": [
    {
     "data": {
      "text/plain": "<matplotlib.collections.PathCollection at 0x7fab49729be0>"
     },
     "execution_count": 88,
     "metadata": {},
     "output_type": "execute_result"
    }
   ],
   "source": [
    "plt.scatter(toplot.x, toplot.y, c=clustering.labels_)"
   ],
   "metadata": {
    "collapsed": false,
    "pycharm": {
     "name": "#%%\n"
    }
   }
  },
  {
   "cell_type": "code",
   "execution_count": 274,
   "outputs": [
    {
     "data": {
      "text/plain": "<matplotlib.collections.PathCollection at 0x7faa3e5e5490>"
     },
     "execution_count": 274,
     "metadata": {},
     "output_type": "execute_result"
    }
   ],
   "source": [
    "plt.scatter(frame.x, frame.y, c=frame.hexatic_order_abs)"
   ],
   "metadata": {
    "collapsed": false,
    "pycharm": {
     "name": "#%%\n"
    }
   }
  },
  {
   "cell_type": "code",
   "execution_count": 98,
   "outputs": [
    {
     "data": {
      "text/plain": "KMeans(n_clusters=100)"
     },
     "execution_count": 98,
     "metadata": {},
     "output_type": "execute_result"
    }
   ],
   "source": [
    "model = cluster.KMeans(n_clusters=100)\n",
    "model.fit(frame[['x', 'y', 'hexatic_order_angle']].values)"
   ],
   "metadata": {
    "collapsed": false,
    "pycharm": {
     "name": "#%%\n"
    }
   }
  },
  {
   "cell_type": "code",
   "execution_count": 99,
   "outputs": [
    {
     "data": {
      "text/plain": "<matplotlib.collections.PathCollection at 0x7faac0221f10>"
     },
     "execution_count": 99,
     "metadata": {},
     "output_type": "execute_result"
    }
   ],
   "source": [
    "plt.scatter(frame.x, frame.y, c=model.labels_)"
   ],
   "metadata": {
    "collapsed": false,
    "pycharm": {
     "name": "#%%\n"
    }
   }
  },
  {
   "cell_type": "code",
   "execution_count": 105,
   "outputs": [],
   "source": [
    "bandwidth = cluster.estimate_bandwidth(frame[['x', 'y']].values)"
   ],
   "metadata": {
    "collapsed": false,
    "pycharm": {
     "name": "#%%\n"
    }
   }
  },
  {
   "cell_type": "code",
   "execution_count": 109,
   "outputs": [
    {
     "data": {
      "text/plain": "MeanShift(bandwidth=673.8201192922967, n_jobs=-1)"
     },
     "execution_count": 109,
     "metadata": {},
     "output_type": "execute_result"
    }
   ],
   "source": [
    "ms = cluster.MeanShift(bandwidth=bandwidth, n_jobs=-1)\n",
    "ms.fit(frame[['x', 'y', 'hexatic_order_angle']].values)"
   ],
   "metadata": {
    "collapsed": false,
    "pycharm": {
     "name": "#%%\n"
    }
   }
  },
  {
   "cell_type": "code",
   "execution_count": 273,
   "outputs": [
    {
     "data": {
      "text/plain": "<matplotlib.collections.PathCollection at 0x7faa43999eb0>"
     },
     "execution_count": 273,
     "metadata": {},
     "output_type": "execute_result"
    }
   ],
   "source": [
    "plt.scatter(frame.x, frame.y, c=frame.hexatic_order_abs)"
   ],
   "metadata": {
    "collapsed": false,
    "pycharm": {
     "name": "#%%\n"
    }
   }
  },
  {
   "cell_type": "code",
   "execution_count": 118,
   "outputs": [],
   "source": [
    "sse = []\n",
    "for k in range(1, 100):\n",
    "    model = cluster.KMeans(k)\n",
    "    model.fit(frame[['x', 'y']].values)\n",
    "    sse.append(model.inertia_)"
   ],
   "metadata": {
    "collapsed": false,
    "pycharm": {
     "name": "#%%\n"
    }
   }
  },
  {
   "cell_type": "code",
   "execution_count": 119,
   "outputs": [
    {
     "data": {
      "text/plain": "[<matplotlib.lines.Line2D at 0x7fabbf0f7e80>]"
     },
     "execution_count": 119,
     "metadata": {},
     "output_type": "execute_result"
    }
   ],
   "source": [
    "plt.plot(sse)"
   ],
   "metadata": {
    "collapsed": false,
    "pycharm": {
     "name": "#%%\n"
    }
   }
  },
  {
   "cell_type": "code",
   "source": [
    "model = cluster.KMeans(60)\n",
    "X = frame[['x', 'y']]\n",
    "model.fit(X)\n",
    "plt.scatter(X.x, X.y, c=model.labels_)"
   ],
   "metadata": {
    "collapsed": false,
    "pycharm": {
     "name": "#%%\n"
    }
   },
   "execution_count": 133,
   "outputs": [
    {
     "ename": "ValueError",
     "evalue": "s must be a scalar, or float array-like with the same size as x and y",
     "output_type": "error",
     "traceback": [
      "\u001B[0;31m---------------------------------------------------------------------------\u001B[0m",
      "\u001B[0;31mValueError\u001B[0m                                Traceback (most recent call last)",
      "\u001B[0;32m<ipython-input-133-cc67026930c9>\u001B[0m in \u001B[0;36m<module>\u001B[0;34m\u001B[0m\n\u001B[1;32m      2\u001B[0m \u001B[0mX\u001B[0m \u001B[0;34m=\u001B[0m \u001B[0mframe\u001B[0m\u001B[0;34m[\u001B[0m\u001B[0;34m[\u001B[0m\u001B[0;34m'x'\u001B[0m\u001B[0;34m,\u001B[0m \u001B[0;34m'y'\u001B[0m\u001B[0;34m]\u001B[0m\u001B[0;34m]\u001B[0m\u001B[0;34m\u001B[0m\u001B[0;34m\u001B[0m\u001B[0m\n\u001B[1;32m      3\u001B[0m \u001B[0mmodel\u001B[0m\u001B[0;34m.\u001B[0m\u001B[0mfit\u001B[0m\u001B[0;34m(\u001B[0m\u001B[0mX\u001B[0m\u001B[0;34m)\u001B[0m\u001B[0;34m\u001B[0m\u001B[0;34m\u001B[0m\u001B[0m\n\u001B[0;32m----> 4\u001B[0;31m \u001B[0mplt\u001B[0m\u001B[0;34m.\u001B[0m\u001B[0mscatter\u001B[0m\u001B[0;34m(\u001B[0m\u001B[0mX\u001B[0m\u001B[0;34m.\u001B[0m\u001B[0mx\u001B[0m\u001B[0;34m,\u001B[0m \u001B[0mX\u001B[0m\u001B[0;34m.\u001B[0m\u001B[0my\u001B[0m\u001B[0;34m,\u001B[0m \u001B[0mc\u001B[0m\u001B[0;34m=\u001B[0m\u001B[0mmodel\u001B[0m\u001B[0;34m.\u001B[0m\u001B[0mlabels_\u001B[0m\u001B[0;34m)\u001B[0m\u001B[0;34m\u001B[0m\u001B[0;34m\u001B[0m\u001B[0m\n\u001B[0m",
      "\u001B[0;32m~/miniconda3/envs/ExperimentsNew/lib/python3.9/site-packages/matplotlib/pyplot.py\u001B[0m in \u001B[0;36mscatter\u001B[0;34m(x, y, s, c, marker, cmap, norm, vmin, vmax, alpha, linewidths, edgecolors, plotnonfinite, data, **kwargs)\u001B[0m\n\u001B[1;32m   3066\u001B[0m         \u001B[0mvmin\u001B[0m\u001B[0;34m=\u001B[0m\u001B[0;32mNone\u001B[0m\u001B[0;34m,\u001B[0m \u001B[0mvmax\u001B[0m\u001B[0;34m=\u001B[0m\u001B[0;32mNone\u001B[0m\u001B[0;34m,\u001B[0m \u001B[0malpha\u001B[0m\u001B[0;34m=\u001B[0m\u001B[0;32mNone\u001B[0m\u001B[0;34m,\u001B[0m \u001B[0mlinewidths\u001B[0m\u001B[0;34m=\u001B[0m\u001B[0;32mNone\u001B[0m\u001B[0;34m,\u001B[0m \u001B[0;34m*\u001B[0m\u001B[0;34m,\u001B[0m\u001B[0;34m\u001B[0m\u001B[0;34m\u001B[0m\u001B[0m\n\u001B[1;32m   3067\u001B[0m         edgecolors=None, plotnonfinite=False, data=None, **kwargs):\n\u001B[0;32m-> 3068\u001B[0;31m     __ret = gca().scatter(\n\u001B[0m\u001B[1;32m   3069\u001B[0m         \u001B[0mx\u001B[0m\u001B[0;34m,\u001B[0m \u001B[0my\u001B[0m\u001B[0;34m,\u001B[0m \u001B[0ms\u001B[0m\u001B[0;34m=\u001B[0m\u001B[0ms\u001B[0m\u001B[0;34m,\u001B[0m \u001B[0mc\u001B[0m\u001B[0;34m=\u001B[0m\u001B[0mc\u001B[0m\u001B[0;34m,\u001B[0m \u001B[0mmarker\u001B[0m\u001B[0;34m=\u001B[0m\u001B[0mmarker\u001B[0m\u001B[0;34m,\u001B[0m \u001B[0mcmap\u001B[0m\u001B[0;34m=\u001B[0m\u001B[0mcmap\u001B[0m\u001B[0;34m,\u001B[0m \u001B[0mnorm\u001B[0m\u001B[0;34m=\u001B[0m\u001B[0mnorm\u001B[0m\u001B[0;34m,\u001B[0m\u001B[0;34m\u001B[0m\u001B[0;34m\u001B[0m\u001B[0m\n\u001B[1;32m   3070\u001B[0m         \u001B[0mvmin\u001B[0m\u001B[0;34m=\u001B[0m\u001B[0mvmin\u001B[0m\u001B[0;34m,\u001B[0m \u001B[0mvmax\u001B[0m\u001B[0;34m=\u001B[0m\u001B[0mvmax\u001B[0m\u001B[0;34m,\u001B[0m \u001B[0malpha\u001B[0m\u001B[0;34m=\u001B[0m\u001B[0malpha\u001B[0m\u001B[0;34m,\u001B[0m \u001B[0mlinewidths\u001B[0m\u001B[0;34m=\u001B[0m\u001B[0mlinewidths\u001B[0m\u001B[0;34m,\u001B[0m\u001B[0;34m\u001B[0m\u001B[0;34m\u001B[0m\u001B[0m\n",
      "\u001B[0;32m~/miniconda3/envs/ExperimentsNew/lib/python3.9/site-packages/mpl_toolkits/mplot3d/axes3d.py\u001B[0m in \u001B[0;36mscatter\u001B[0;34m(self, xs, ys, zs, zdir, s, c, depthshade, *args, **kwargs)\u001B[0m\n\u001B[1;32m   2414\u001B[0m             \u001B[0mzs\u001B[0m \u001B[0;34m=\u001B[0m \u001B[0mzs\u001B[0m\u001B[0;34m.\u001B[0m\u001B[0mcopy\u001B[0m\u001B[0;34m(\u001B[0m\u001B[0;34m)\u001B[0m\u001B[0;34m\u001B[0m\u001B[0;34m\u001B[0m\u001B[0m\n\u001B[1;32m   2415\u001B[0m \u001B[0;34m\u001B[0m\u001B[0m\n\u001B[0;32m-> 2416\u001B[0;31m         \u001B[0mpatches\u001B[0m \u001B[0;34m=\u001B[0m \u001B[0msuper\u001B[0m\u001B[0;34m(\u001B[0m\u001B[0;34m)\u001B[0m\u001B[0;34m.\u001B[0m\u001B[0mscatter\u001B[0m\u001B[0;34m(\u001B[0m\u001B[0mxs\u001B[0m\u001B[0;34m,\u001B[0m \u001B[0mys\u001B[0m\u001B[0;34m,\u001B[0m \u001B[0ms\u001B[0m\u001B[0;34m=\u001B[0m\u001B[0ms\u001B[0m\u001B[0;34m,\u001B[0m \u001B[0mc\u001B[0m\u001B[0;34m=\u001B[0m\u001B[0mc\u001B[0m\u001B[0;34m,\u001B[0m \u001B[0;34m*\u001B[0m\u001B[0margs\u001B[0m\u001B[0;34m,\u001B[0m \u001B[0;34m**\u001B[0m\u001B[0mkwargs\u001B[0m\u001B[0;34m)\u001B[0m\u001B[0;34m\u001B[0m\u001B[0;34m\u001B[0m\u001B[0m\n\u001B[0m\u001B[1;32m   2417\u001B[0m         art3d.patch_collection_2d_to_3d(patches, zs=zs, zdir=zdir,\n\u001B[1;32m   2418\u001B[0m                                         depthshade=depthshade)\n",
      "\u001B[0;32m~/miniconda3/envs/ExperimentsNew/lib/python3.9/site-packages/matplotlib/__init__.py\u001B[0m in \u001B[0;36minner\u001B[0;34m(ax, data, *args, **kwargs)\u001B[0m\n\u001B[1;32m   1359\u001B[0m     \u001B[0;32mdef\u001B[0m \u001B[0minner\u001B[0m\u001B[0;34m(\u001B[0m\u001B[0max\u001B[0m\u001B[0;34m,\u001B[0m \u001B[0;34m*\u001B[0m\u001B[0margs\u001B[0m\u001B[0;34m,\u001B[0m \u001B[0mdata\u001B[0m\u001B[0;34m=\u001B[0m\u001B[0;32mNone\u001B[0m\u001B[0;34m,\u001B[0m \u001B[0;34m**\u001B[0m\u001B[0mkwargs\u001B[0m\u001B[0;34m)\u001B[0m\u001B[0;34m:\u001B[0m\u001B[0;34m\u001B[0m\u001B[0;34m\u001B[0m\u001B[0m\n\u001B[1;32m   1360\u001B[0m         \u001B[0;32mif\u001B[0m \u001B[0mdata\u001B[0m \u001B[0;32mis\u001B[0m \u001B[0;32mNone\u001B[0m\u001B[0;34m:\u001B[0m\u001B[0;34m\u001B[0m\u001B[0;34m\u001B[0m\u001B[0m\n\u001B[0;32m-> 1361\u001B[0;31m             \u001B[0;32mreturn\u001B[0m \u001B[0mfunc\u001B[0m\u001B[0;34m(\u001B[0m\u001B[0max\u001B[0m\u001B[0;34m,\u001B[0m \u001B[0;34m*\u001B[0m\u001B[0mmap\u001B[0m\u001B[0;34m(\u001B[0m\u001B[0msanitize_sequence\u001B[0m\u001B[0;34m,\u001B[0m \u001B[0margs\u001B[0m\u001B[0;34m)\u001B[0m\u001B[0;34m,\u001B[0m \u001B[0;34m**\u001B[0m\u001B[0mkwargs\u001B[0m\u001B[0;34m)\u001B[0m\u001B[0;34m\u001B[0m\u001B[0;34m\u001B[0m\u001B[0m\n\u001B[0m\u001B[1;32m   1362\u001B[0m \u001B[0;34m\u001B[0m\u001B[0m\n\u001B[1;32m   1363\u001B[0m         \u001B[0mbound\u001B[0m \u001B[0;34m=\u001B[0m \u001B[0mnew_sig\u001B[0m\u001B[0;34m.\u001B[0m\u001B[0mbind\u001B[0m\u001B[0;34m(\u001B[0m\u001B[0max\u001B[0m\u001B[0;34m,\u001B[0m \u001B[0;34m*\u001B[0m\u001B[0margs\u001B[0m\u001B[0;34m,\u001B[0m \u001B[0;34m**\u001B[0m\u001B[0mkwargs\u001B[0m\u001B[0;34m)\u001B[0m\u001B[0;34m\u001B[0m\u001B[0;34m\u001B[0m\u001B[0m\n",
      "\u001B[0;32m~/miniconda3/envs/ExperimentsNew/lib/python3.9/site-packages/matplotlib/axes/_axes.py\u001B[0m in \u001B[0;36mscatter\u001B[0;34m(self, x, y, s, c, marker, cmap, norm, vmin, vmax, alpha, linewidths, edgecolors, plotnonfinite, **kwargs)\u001B[0m\n\u001B[1;32m   4505\u001B[0m                 (not np.issubdtype(s.dtype, np.floating) and\n\u001B[1;32m   4506\u001B[0m                  not np.issubdtype(s.dtype, np.integer))):\n\u001B[0;32m-> 4507\u001B[0;31m             raise ValueError(\n\u001B[0m\u001B[1;32m   4508\u001B[0m                 \u001B[0;34m\"s must be a scalar, \"\u001B[0m\u001B[0;34m\u001B[0m\u001B[0;34m\u001B[0m\u001B[0m\n\u001B[1;32m   4509\u001B[0m                 \"or float array-like with the same size as x and y\")\n",
      "\u001B[0;31mValueError\u001B[0m: s must be a scalar, or float array-like with the same size as x and y"
     ]
    }
   ]
  },
  {
   "cell_type": "code",
   "execution_count": 130,
   "outputs": [],
   "source": [
    "from mpl_toolkits import mplot3d"
   ],
   "metadata": {
    "collapsed": false,
    "pycharm": {
     "name": "#%%\n"
    }
   }
  },
  {
   "cell_type": "code",
   "execution_count": 136,
   "outputs": [
    {
     "data": {
      "text/plain": "<mpl_toolkits.mplot3d.art3d.Path3DCollection at 0x7faab37a9400>"
     },
     "execution_count": 136,
     "metadata": {},
     "output_type": "execute_result"
    }
   ],
   "source": [
    "fig = plt.figure()\n",
    "ax = plt.axes(projection='3d')\n",
    "ax.scatter3D(frame.x, frame.y, frame.hexatic_order_angle, c=frame.hexatic_order_angle)"
   ],
   "metadata": {
    "collapsed": false,
    "pycharm": {
     "name": "#%%\n"
    }
   }
  },
  {
   "cell_type": "markdown",
   "source": [
    "### Try using my old cluster code"
   ],
   "metadata": {
    "collapsed": false,
    "pycharm": {
     "name": "#%% md\n"
    }
   }
  },
  {
   "cell_type": "code",
   "execution_count": 137,
   "outputs": [],
   "source": [
    "from scipy import spatial"
   ],
   "metadata": {
    "collapsed": false,
    "pycharm": {
     "name": "#%%\n"
    }
   }
  },
  {
   "cell_type": "code",
   "execution_count": 225,
   "outputs": [],
   "source": [
    "def find_neighbours(points, include, cutoff):\n",
    "    tess = spatial.Delaunay(points)\n",
    "    list_indices, point_indices = tess.vertex_neighbor_vertices\n",
    "    neighbours = []\n",
    "    for i, point in enumerate(points):\n",
    "        n = point_indices[list_indices[i]:list_indices[i+1]]\n",
    "        n = [ni for ni in n if include[ni]]\n",
    "        if len(n) > 0:\n",
    "            n_points = points[n, :]\n",
    "            vecs = n_points - point\n",
    "            lengths = np.linalg.norm(vecs, axis=1)\n",
    "            n = [ni for ni, li in zip(n, lengths) if li < cutoff]\n",
    "        neighbours.append(n)\n",
    "    return neighbours\n",
    "\n",
    "\n",
    "\n",
    "def add_cluster(df, param, threshold, greater=True, cutoff=50):\n",
    "    points = df[['x', 'y']].values\n",
    "    param = df[param].values\n",
    "    include = param > threshold if greater else param < threshold\n",
    "\n",
    "    # find neighbours\n",
    "    all_neighbours = find_neighbours(points, include, cutoff)\n",
    "\n",
    "    cluster = np.zeros(len(points), int)\n",
    "    cluster_no = 1\n",
    "    for i, (point, neighbours, valid) in enumerate(zip(points, all_neighbours, include)):\n",
    "        if not valid:\n",
    "            continue\n",
    "        cluster_no_store = cluster_no\n",
    "\n",
    "        # Check to see if starting position is on a cluster\n",
    "        if cluster[i] == 0:\n",
    "            cluster[i] = cluster_no\n",
    "        else:\n",
    "            cluster_no = cluster[i]\n",
    "\n",
    "        # Check to see if neighbours are already in a cluster\n",
    "        neighbour_clusters = cluster[neighbours]\n",
    "        equivalent_clusters = neighbour_clusters[np.nonzero(neighbour_clusters)]\n",
    "        equivalent_clusters = np.append(equivalent_clusters, cluster_no)\n",
    "\n",
    "        # Set the neighbours cluster values to the current cluster\n",
    "        cluster[neighbours] = cluster_no\n",
    "\n",
    "        # Overwrite equivalent clusters\n",
    "        lowest_cluster = np.min(equivalent_clusters)\n",
    "        for j in range(len(equivalent_clusters)):\n",
    "            cluster_no_temp = equivalent_clusters[j]\n",
    "            ints = np.where(cluster == cluster_no_temp)\n",
    "            cluster[ints] = lowest_cluster\n",
    "\n",
    "        cluster_no = cluster_no_store + 1\n",
    "\n",
    "    # Make cluster values adjacent\n",
    "    unique_cluster_values = np.unique(cluster)\n",
    "    new_val = 1\n",
    "    for old_val in unique_cluster_values[1:]:\n",
    "        l = len(cluster[cluster==old_val])\n",
    "        if l == 1:\n",
    "            cluster[cluster==old_val] = 0\n",
    "        else:\n",
    "            cluster[cluster==old_val] = new_val\n",
    "        new_val += 1\n",
    "    df['cluster'] = cluster\n",
    "    return df"
   ],
   "metadata": {
    "collapsed": false,
    "pycharm": {
     "name": "#%%\n"
    }
   }
  },
  {
   "cell_type": "code",
   "execution_count": 258,
   "outputs": [],
   "source": [
    "frame = frame.copy()"
   ],
   "metadata": {
    "collapsed": false,
    "pycharm": {
     "name": "#%%\n"
    }
   }
  },
  {
   "cell_type": "code",
   "execution_count": 259,
   "outputs": [],
   "source": [
    "frame = add_cluster(frame, 'hexatic_order_abs', 0.95, cutoff=25)"
   ],
   "metadata": {
    "collapsed": false,
    "pycharm": {
     "name": "#%%\n"
    }
   }
  },
  {
   "cell_type": "code",
   "execution_count": 227,
   "outputs": [
    {
     "data": {
      "text/plain": "<matplotlib.collections.PathCollection at 0x7faa3e548340>"
     },
     "execution_count": 227,
     "metadata": {},
     "output_type": "execute_result"
    }
   ],
   "source": [
    "plt.scatter(frame.x, frame.y, c=frame.cluster, cmap='tab20')"
   ],
   "metadata": {
    "collapsed": false,
    "pycharm": {
     "name": "#%%\n"
    }
   }
  },
  {
   "cell_type": "code",
   "execution_count": 270,
   "outputs": [
    {
     "data": {
      "text/plain": "(-25.723164784538454, 2383.5276369458957, -47.54384431323783, 2085.91579404767)"
     },
     "execution_count": 270,
     "metadata": {},
     "output_type": "execute_result"
    }
   ],
   "source": [
    "plt.scatter(frame.x, frame.y, c=frame.cluster, cmap='tab20')\n",
    "def add_label(df):\n",
    "    xmin, xmax, ymin, ymax = df.x.min(), df.x.max(), df.y.min(), df.y.max()\n",
    "    squareness = df.squareness.values[0]\n",
    "    if squareness < 1.5:\n",
    "        r = plt.Rectangle((xmin, ymin), xmax-xmin, ymax-ymin, fill=False)\n",
    "        ax = plt.gca()\n",
    "        ax.add_patch(r)\n",
    "        plt.text(xmin, ymin, df.cluster.values[0])\n",
    "        plt.text(xmin, ymax, round(squareness, 2))\n",
    "        plt.text(xmax, ymin, len(df))\n",
    "\n",
    "\n",
    "\n",
    "frame.groupby('cluster').apply(add_label)\n",
    "plt.axis('equal')"
   ],
   "metadata": {
    "collapsed": false,
    "pycharm": {
     "name": "#%%\n"
    }
   }
  },
  {
   "cell_type": "code",
   "execution_count": 268,
   "outputs": [],
   "source": [
    "def add_squareness(df):\n",
    "    xmin, xmax, ymin, ymax = df.x.min(), df.x.max(), df.y.min(), df.y.max()\n",
    "    dx = xmax - xmin\n",
    "    dy = ymax - ymin\n",
    "    if dy > dx:\n",
    "        squareness = dy/dx\n",
    "    else:\n",
    "        squareness = dx/dy\n",
    "    df['squareness'] = squareness\n",
    "    return df\n",
    "frame = frame.groupby('cluster').apply(add_squareness)\n"
   ],
   "metadata": {
    "collapsed": false,
    "pycharm": {
     "name": "#%%\n"
    }
   }
  },
  {
   "cell_type": "code",
   "execution_count": 267,
   "outputs": [
    {
     "data": {
      "text/plain": "(array([27., 13., 15., 12.,  7.,  7., 10., 12.,  3.,  9.,  8.,  4.,  5.,\n         5.,  1.,  4.,  2.,  6.,  2.,  3.,  2.,  3.,  2.,  3.,  0.,  3.,\n         1.,  1.,  0.,  0.,  2.,  1.,  0.,  0.,  0.,  0.,  1.,  0.,  0.,\n         0.,  0.,  0.,  0.,  0.,  0.,  0.,  0.,  0.,  0.,  1.]),\n array([ 2.  ,  3.94,  5.88,  7.82,  9.76, 11.7 , 13.64, 15.58, 17.52,\n        19.46, 21.4 , 23.34, 25.28, 27.22, 29.16, 31.1 , 33.04, 34.98,\n        36.92, 38.86, 40.8 , 42.74, 44.68, 46.62, 48.56, 50.5 , 52.44,\n        54.38, 56.32, 58.26, 60.2 , 62.14, 64.08, 66.02, 67.96, 69.9 ,\n        71.84, 73.78, 75.72, 77.66, 79.6 , 81.54, 83.48, 85.42, 87.36,\n        89.3 , 91.24, 93.18, 95.12, 97.06, 99.  ]),\n <BarContainer object of 50 artists>)"
     },
     "execution_count": 267,
     "metadata": {},
     "output_type": "execute_result"
    }
   ],
   "source": [
    "clustered = frame.loc[frame.cluster != 0]\n",
    "counts = clustered.groupby('cluster').count().y.values\n",
    "plt.hist(counts, bins=50)"
   ],
   "metadata": {
    "collapsed": false,
    "pycharm": {
     "name": "#%%\n"
    }
   }
  },
  {
   "cell_type": "markdown",
   "source": [
    "### Try drawing circles"
   ],
   "metadata": {
    "collapsed": false,
    "pycharm": {
     "name": "#%% md\n"
    }
   }
  },
  {
   "cell_type": "code",
   "execution_count": 55,
   "outputs": [],
   "source": [
    "def estimate_diameter(points):\n",
    "    tree = spatial.KDTree(points)\n",
    "    dists, indices = tree.query(points, 7)\n",
    "    diameter = np.median(dists)\n",
    "    return diameter\n",
    "\n",
    "def draw_image(df):\n",
    "    diameter = estimate_diameter(df[['x', 'y']])\n",
    "    df['draw_radius'] = diameter/2+2\n",
    "    im = np.zeros((int(df.y.max()+diameter), int(df.x.max()+diameter), 3), np.uint8)\n",
    "    im = images.draw_circles(im, df[['x', 'y', 'draw_radius']].values, thickness=-1)\n",
    "    im = images.closing(im, (3, 3), iterations=5)\n",
    "    return im\n",
    "\n",
    "def get_island_contours(frame):\n",
    "    diameter = estimate_diameter(frame[['x', 'y']].values)\n",
    "    toplot = frame.loc[frame.hexatic_order_abs > 0.9].copy()\n",
    "    toplot['draw_radius'] = diameter/2 + 2\n",
    "    im = draw_image(toplot)\n",
    "    contours = images.find_contours(im[:, :, 1])\n",
    "    return im, contours\n",
    "\n",
    "def get_contour_properties(contours):\n",
    "    contour_areas = [cv2.contourArea(c) for c in contours]\n",
    "    hulls = [cv2.convexHull(c) for c in contours]\n",
    "    hull_areas = [cv2.contourArea(h) for h in hulls]\n",
    "    solidities = [float(a)/float(ha) for a,ha in zip(contour_areas, hull_areas)]\n",
    "    min_area_rects = [cv2.minAreaRect(c) for c in contours]\n",
    "    aspect_ratios = [r[1][0]/r[1][1] if r[1][0] > r[1][1] else r[1][1]/r[1][0] for r in min_area_rects]\n",
    "    return contour_areas, hull_areas, solidities, aspect_ratios, min_area_rects\n",
    "\n",
    "def annotate_im_with_contours(im, contours, rects):\n",
    "    # contours, rects = zip(*[[c, r] for c, r in zip(contours, rects) if 1500 < cv2.contourArea(c) < 5000])\n",
    "    new_im = images.draw_contours(im, contours)\n",
    "    for r in rects:\n",
    "        box = np.int0(cv2.boxPoints(r))\n",
    "        cv2.drawContours(new_im, [box], 0, (0, 0, 255), 2)\n",
    "    return new_im\n",
    "\n"
   ],
   "metadata": {
    "collapsed": false,
    "pycharm": {
     "name": "#%%\n"
    }
   }
  },
  {
   "cell_type": "code",
   "execution_count": 143,
   "outputs": [],
   "source": [
    "data = pd.read_hdf(\"/media/data/Data/BallBearing/HIPS/PhaseDiagramsNewPlate/1,95mm/70%/451.hdf5\")\n",
    "data['hexatic_order_abs'] = np.abs(data.hexatic_order)\n",
    "frame = data.loc[0]\n",
    "im, contours = get_island_contours(frame)\n",
    "contour_areas, hull_areas, solidities, aspect_ratios, rects = get_contour_properties(contours)\n",
    "annotated_im = annotate_im_with_contours(im, contours, rects)"
   ],
   "metadata": {
    "collapsed": false,
    "pycharm": {
     "name": "#%%\n"
    }
   }
  },
  {
   "cell_type": "code",
   "execution_count": 146,
   "outputs": [
    {
     "data": {
      "text/plain": "(array([67., 26.,  1.,  2.,  0.,  2.,  0.,  0.,  0.,  1.]),\n array([1.6250000e+02, 1.9999350e+04, 3.9836200e+04, 5.9673050e+04,\n        7.9509900e+04, 9.9346750e+04, 1.1918360e+05, 1.3902045e+05,\n        1.5885730e+05, 1.7869415e+05, 1.9853100e+05]),\n <BarContainer object of 10 artists>)"
     },
     "execution_count": 146,
     "metadata": {},
     "output_type": "execute_result"
    }
   ],
   "source": [
    "plt.hist(contour_areas)"
   ],
   "metadata": {
    "collapsed": false,
    "pycharm": {
     "name": "#%%\n"
    }
   }
  },
  {
   "cell_type": "code",
   "execution_count": 149,
   "outputs": [
    {
     "data": {
      "text/plain": "[(1593, 1147)]"
     },
     "execution_count": 149,
     "metadata": {},
     "output_type": "execute_result"
    }
   ],
   "source": [
    "images.display(annotated_im)"
   ],
   "metadata": {
    "collapsed": false,
    "pycharm": {
     "name": "#%%\n"
    }
   }
  },
  {
   "cell_type": "markdown",
   "source": [
    "### Try on all files in a directory"
   ],
   "metadata": {
    "collapsed": false,
    "pycharm": {
     "name": "#%% md\n"
    }
   }
  },
  {
   "cell_type": "code",
   "execution_count": 106,
   "outputs": [],
   "source": [
    "import filehandling\n",
    "from tqdm import tqdm"
   ],
   "metadata": {
    "collapsed": false,
    "pycharm": {
     "name": "#%%\n"
    }
   }
  },
  {
   "cell_type": "code",
   "execution_count": 95,
   "outputs": [],
   "source": [
    "files = filehandling.list_files(\"/media/data/Data/BallBearing/HIPS/IslandExperiments/1,93mmRepeats/*.hdf5\")"
   ],
   "metadata": {
    "collapsed": false,
    "pycharm": {
     "name": "#%%\n"
    }
   }
  },
  {
   "cell_type": "code",
   "execution_count": 132,
   "outputs": [
    {
     "name": "stderr",
     "output_type": "stream",
     "text": [
      "100%|██████████| 45/45 [00:36<00:00,  1.22it/s]\n"
     ]
    }
   ],
   "source": [
    "areas = []\n",
    "for file in tqdm(files):\n",
    "    data = pd.read_hdf(file)\n",
    "    data['hexatic_order_abs'] = np.abs(data.hexatic_order)\n",
    "    frame = data.loc[0]\n",
    "    im, contours = get_island_contours(frame)\n",
    "    contour_areas, hull_areas, solidities, aspect_ratios, rects = get_contour_properties(contours)\n",
    "    annotated_im = annotate_im_with_contours(im, contours, rects)\n",
    "    images.display(annotated_im)\n",
    "    for ca, solid, aspect in zip(contour_areas, solidities, aspect_ratios):\n",
    "        if solid > 0.8:\n",
    "            if not 0.99 < aspect < 1.01:\n",
    "                if aspect < 1.5:\n",
    "                    areas.append(ca)"
   ],
   "metadata": {
    "collapsed": false,
    "pycharm": {
     "name": "#%%\n"
    }
   }
  },
  {
   "cell_type": "code",
   "execution_count": 148,
   "outputs": [
    {
     "data": {
      "text/plain": "(array([104.,   4., 483., 454., 315., 118., 145., 106.,  65.,  94.,  93.,\n         84.,  66.,  68.,  59.,  75.,  55.,  38.,  49.,  45.,  43.,  43.,\n         34.,  50.,  41.,  45.,  37.,  40.,  45.,  42.,  26.,  31.,  31.,\n         27.,  34.,  24.,  24.,  33.,  24.,  26.,  19.,  18.,  22.,  22.,\n         23.,  18.,  14.,  17.,  20.,  17.,  12.,  13.,  11.,  15.,  17.,\n         15.,   7.,  10.,   5.,  10.,  12.,   4.,   9.,   5.,   4.,   4.,\n          6.,   5.,   4.,   4.,   3.,   4.,   3.,   3.,   3.,   4.,   0.,\n          1.,   2.,   2.,   2.,   1.,   2.,   0.,   1.,   1.,   0.,   0.,\n          0.,   0.,   0.,   0.,   0.,   0.,   0.,   0.,   0.,   0.,   0.,\n          1.]),\n array([   50.  ,   380.93,   711.86,  1042.79,  1373.72,  1704.65,\n         2035.58,  2366.51,  2697.44,  3028.37,  3359.3 ,  3690.23,\n         4021.16,  4352.09,  4683.02,  5013.95,  5344.88,  5675.81,\n         6006.74,  6337.67,  6668.6 ,  6999.53,  7330.46,  7661.39,\n         7992.32,  8323.25,  8654.18,  8985.11,  9316.04,  9646.97,\n         9977.9 , 10308.83, 10639.76, 10970.69, 11301.62, 11632.55,\n        11963.48, 12294.41, 12625.34, 12956.27, 13287.2 , 13618.13,\n        13949.06, 14279.99, 14610.92, 14941.85, 15272.78, 15603.71,\n        15934.64, 16265.57, 16596.5 , 16927.43, 17258.36, 17589.29,\n        17920.22, 18251.15, 18582.08, 18913.01, 19243.94, 19574.87,\n        19905.8 , 20236.73, 20567.66, 20898.59, 21229.52, 21560.45,\n        21891.38, 22222.31, 22553.24, 22884.17, 23215.1 , 23546.03,\n        23876.96, 24207.89, 24538.82, 24869.75, 25200.68, 25531.61,\n        25862.54, 26193.47, 26524.4 , 26855.33, 27186.26, 27517.19,\n        27848.12, 28179.05, 28509.98, 28840.91, 29171.84, 29502.77,\n        29833.7 , 30164.63, 30495.56, 30826.49, 31157.42, 31488.35,\n        31819.28, 32150.21, 32481.14, 32812.07, 33143.  ]),\n <BarContainer object of 100 artists>)"
     },
     "execution_count": 148,
     "metadata": {},
     "output_type": "execute_result"
    }
   ],
   "source": [
    "plt.hist(areas, bins=100)"
   ],
   "metadata": {
    "collapsed": false,
    "pycharm": {
     "name": "#%%\n"
    }
   }
  },
  {
   "cell_type": "code",
   "execution_count": null,
   "outputs": [],
   "source": [],
   "metadata": {
    "collapsed": false,
    "pycharm": {
     "name": "#%%\n"
    }
   }
  },
  {
   "cell_type": "code",
   "execution_count": 150,
   "outputs": [],
   "source": [
    "data = pd.read_hdf(\"/media/data/Data/BallBearing/HIPS/PhaseDiagramsNewPlate/1,95mm/70%/451.hdf5\")\n",
    "data['hexatic_order_abs'] = np.abs(data.hexatic_order)\n",
    "frame = data.loc[0]\n",
    "im, contours = get_island_contours(frame)\n",
    "# contour_areas, hull_areas, solidities, aspect_ratios, rects = get_contour_properties(contours)\n",
    "# annotated_im = annotate_im_with_contours(im, contours, rects)"
   ],
   "metadata": {
    "collapsed": false,
    "pycharm": {
     "name": "#%%\n"
    }
   }
  },
  {
   "cell_type": "code",
   "execution_count": 152,
   "outputs": [
    {
     "data": {
      "text/plain": "[(1069, 1016)]"
     },
     "execution_count": 152,
     "metadata": {},
     "output_type": "execute_result"
    }
   ],
   "source": [
    "images.display(im)"
   ],
   "metadata": {
    "collapsed": false,
    "pycharm": {
     "name": "#%%\n"
    }
   }
  },
  {
   "cell_type": "code",
   "execution_count": 114,
   "outputs": [],
   "source": [
    "from order_parameters import add_translational_order"
   ],
   "metadata": {
    "collapsed": false,
    "pycharm": {
     "name": "#%%\n"
    }
   }
  },
  {
   "cell_type": "code",
   "execution_count": 115,
   "outputs": [],
   "source": [
    "data = pd.read_hdf(\"/media/data/Data/BallBearing/HIPS/PhaseDiagramsNewPlate/1,95mm/80%/451.hdf5\")\n",
    "data, lattice_vector = add_translational_order(data)"
   ],
   "metadata": {
    "collapsed": false,
    "pycharm": {
     "name": "#%%\n"
    }
   }
  },
  {
   "cell_type": "code",
   "execution_count": 117,
   "outputs": [],
   "source": [
    "frame = data.loc[0]"
   ],
   "metadata": {
    "collapsed": false,
    "pycharm": {
     "name": "#%%\n"
    }
   }
  },
  {
   "cell_type": "code",
   "execution_count": 121,
   "outputs": [
    {
     "data": {
      "text/plain": "Text(0, 0.5, 'pixels')"
     },
     "execution_count": 121,
     "metadata": {},
     "output_type": "execute_result"
    }
   ],
   "source": [
    "plt.scatter(frame.x, frame.y, c=np.angle(frame.translational_order), cmap='hsv')\n",
    "plt.title('Translational order (colormap) of an 80% density system on 1.95mm spaced dimples')\n",
    "plt.axis('equal')\n",
    "cbar  = plt.colorbar()\n",
    "cbar.set_label('Phase of translational order (rad)')\n",
    "plt.xlabel('pixels')\n",
    "plt.ylabel('pixels')"
   ],
   "metadata": {
    "collapsed": false,
    "pycharm": {
     "name": "#%%\n"
    }
   }
  },
  {
   "cell_type": "code",
   "execution_count": 49,
   "outputs": [
    {
     "data": {
      "text/plain": "               y           x         mass      size       ecc     signal  \\\nframe                                                                      \n0      55.250347  643.173068   891.130048  1.791414  0.057722  61.855394   \n0      55.759363  663.116335  1035.046932  1.855325  0.119104  63.092502   \n0      56.009674  702.918534   809.893297  1.890727  0.102255  46.597730   \n0      57.628925  812.916746   866.800260  1.729164  0.048704  69.278042   \n0      57.974154  835.318609   877.521861  1.775592  0.106195  61.443025   \n\n       raw_mass        ep       hexatic_order  number_of_neighbors  user_rad  \nframe                                                                         \n0        3824.0  0.002431  0.994096+0.042622j                  5.0         6  \n0        4514.0  0.002059  0.995027+0.049199j                  4.0         6  \n0        3773.0  0.002464  0.600052-0.017392j                  5.0         6  \n0        3614.0  0.002572  0.491946-0.023601j                  4.0         6  \n0        3780.0  0.002459  0.334146+0.020318j                  6.0         6  ",
      "text/html": "<div>\n<style scoped>\n    .dataframe tbody tr th:only-of-type {\n        vertical-align: middle;\n    }\n\n    .dataframe tbody tr th {\n        vertical-align: top;\n    }\n\n    .dataframe thead th {\n        text-align: right;\n    }\n</style>\n<table border=\"1\" class=\"dataframe\">\n  <thead>\n    <tr style=\"text-align: right;\">\n      <th></th>\n      <th>y</th>\n      <th>x</th>\n      <th>mass</th>\n      <th>size</th>\n      <th>ecc</th>\n      <th>signal</th>\n      <th>raw_mass</th>\n      <th>ep</th>\n      <th>hexatic_order</th>\n      <th>number_of_neighbors</th>\n      <th>user_rad</th>\n    </tr>\n    <tr>\n      <th>frame</th>\n      <th></th>\n      <th></th>\n      <th></th>\n      <th></th>\n      <th></th>\n      <th></th>\n      <th></th>\n      <th></th>\n      <th></th>\n      <th></th>\n      <th></th>\n    </tr>\n  </thead>\n  <tbody>\n    <tr>\n      <th>0</th>\n      <td>55.250347</td>\n      <td>643.173068</td>\n      <td>891.130048</td>\n      <td>1.791414</td>\n      <td>0.057722</td>\n      <td>61.855394</td>\n      <td>3824.0</td>\n      <td>0.002431</td>\n      <td>0.994096+0.042622j</td>\n      <td>5.0</td>\n      <td>6</td>\n    </tr>\n    <tr>\n      <th>0</th>\n      <td>55.759363</td>\n      <td>663.116335</td>\n      <td>1035.046932</td>\n      <td>1.855325</td>\n      <td>0.119104</td>\n      <td>63.092502</td>\n      <td>4514.0</td>\n      <td>0.002059</td>\n      <td>0.995027+0.049199j</td>\n      <td>4.0</td>\n      <td>6</td>\n    </tr>\n    <tr>\n      <th>0</th>\n      <td>56.009674</td>\n      <td>702.918534</td>\n      <td>809.893297</td>\n      <td>1.890727</td>\n      <td>0.102255</td>\n      <td>46.597730</td>\n      <td>3773.0</td>\n      <td>0.002464</td>\n      <td>0.600052-0.017392j</td>\n      <td>5.0</td>\n      <td>6</td>\n    </tr>\n    <tr>\n      <th>0</th>\n      <td>57.628925</td>\n      <td>812.916746</td>\n      <td>866.800260</td>\n      <td>1.729164</td>\n      <td>0.048704</td>\n      <td>69.278042</td>\n      <td>3614.0</td>\n      <td>0.002572</td>\n      <td>0.491946-0.023601j</td>\n      <td>4.0</td>\n      <td>6</td>\n    </tr>\n    <tr>\n      <th>0</th>\n      <td>57.974154</td>\n      <td>835.318609</td>\n      <td>877.521861</td>\n      <td>1.775592</td>\n      <td>0.106195</td>\n      <td>61.443025</td>\n      <td>3780.0</td>\n      <td>0.002459</td>\n      <td>0.334146+0.020318j</td>\n      <td>6.0</td>\n      <td>6</td>\n    </tr>\n  </tbody>\n</table>\n</div>"
     },
     "execution_count": 49,
     "metadata": {},
     "output_type": "execute_result"
    }
   ],
   "source": [
    "data.head()"
   ],
   "metadata": {
    "collapsed": false,
    "pycharm": {
     "name": "#%%\n"
    }
   }
  },
  {
   "cell_type": "code",
   "execution_count": 50,
   "outputs": [
    {
     "ename": "NameError",
     "evalue": "name 'spatial' is not defined",
     "output_type": "error",
     "traceback": [
      "\u001B[0;31m---------------------------------------------------------------------------\u001B[0m",
      "\u001B[0;31mNameError\u001B[0m                                 Traceback (most recent call last)",
      "\u001B[0;32m<ipython-input-50-b895b8d2dbac>\u001B[0m in \u001B[0;36m<module>\u001B[0;34m\u001B[0m\n\u001B[1;32m     19\u001B[0m \u001B[0;34m\u001B[0m\u001B[0m\n\u001B[1;32m     20\u001B[0m \u001B[0mframe\u001B[0m \u001B[0;34m=\u001B[0m \u001B[0mdata\u001B[0m\u001B[0;34m.\u001B[0m\u001B[0mloc\u001B[0m\u001B[0;34m[\u001B[0m\u001B[0;36m0\u001B[0m\u001B[0;34m]\u001B[0m\u001B[0;34m.\u001B[0m\u001B[0mcopy\u001B[0m\u001B[0;34m(\u001B[0m\u001B[0;34m)\u001B[0m\u001B[0;34m\u001B[0m\u001B[0;34m\u001B[0m\u001B[0m\n\u001B[0;32m---> 21\u001B[0;31m \u001B[0mframe\u001B[0m \u001B[0;34m=\u001B[0m \u001B[0mhexatic_order_neighbours\u001B[0m\u001B[0;34m(\u001B[0m\u001B[0mframe\u001B[0m\u001B[0;34m)\u001B[0m\u001B[0;34m\u001B[0m\u001B[0;34m\u001B[0m\u001B[0m\n\u001B[0m",
      "\u001B[0;32m<ipython-input-50-b895b8d2dbac>\u001B[0m in \u001B[0;36mhexatic_order_neighbours\u001B[0;34m(df)\u001B[0m\n\u001B[1;32m      7\u001B[0m \u001B[0;32mdef\u001B[0m \u001B[0mhexatic_order_neighbours\u001B[0m\u001B[0;34m(\u001B[0m\u001B[0mdf\u001B[0m\u001B[0;34m)\u001B[0m\u001B[0;34m:\u001B[0m\u001B[0;34m\u001B[0m\u001B[0;34m\u001B[0m\u001B[0m\n\u001B[1;32m      8\u001B[0m     \u001B[0mpoints\u001B[0m \u001B[0;34m=\u001B[0m \u001B[0mdf\u001B[0m\u001B[0;34m[\u001B[0m\u001B[0;34m[\u001B[0m\u001B[0;34m'x'\u001B[0m\u001B[0;34m,\u001B[0m \u001B[0;34m'y'\u001B[0m\u001B[0;34m]\u001B[0m\u001B[0;34m]\u001B[0m\u001B[0;34m.\u001B[0m\u001B[0mvalues\u001B[0m\u001B[0;34m\u001B[0m\u001B[0;34m\u001B[0m\u001B[0m\n\u001B[0;32m----> 9\u001B[0;31m     \u001B[0mneighbours\u001B[0m \u001B[0;34m=\u001B[0m \u001B[0mget_neighbours\u001B[0m\u001B[0;34m(\u001B[0m\u001B[0mpoints\u001B[0m\u001B[0;34m)\u001B[0m\u001B[0;34m\u001B[0m\u001B[0;34m\u001B[0m\u001B[0m\n\u001B[0m\u001B[1;32m     10\u001B[0m     \u001B[0morders\u001B[0m \u001B[0;34m=\u001B[0m \u001B[0mdf\u001B[0m\u001B[0;34m[\u001B[0m\u001B[0;34m'hexatic_order'\u001B[0m\u001B[0;34m]\u001B[0m\u001B[0;34m.\u001B[0m\u001B[0mvalues\u001B[0m\u001B[0;34m\u001B[0m\u001B[0;34m\u001B[0m\u001B[0m\n\u001B[1;32m     11\u001B[0m     \u001B[0morder_neighbours\u001B[0m \u001B[0;34m=\u001B[0m \u001B[0;34m[\u001B[0m\u001B[0;34m]\u001B[0m\u001B[0;34m\u001B[0m\u001B[0;34m\u001B[0m\u001B[0m\n",
      "\u001B[0;32m<ipython-input-50-b895b8d2dbac>\u001B[0m in \u001B[0;36mget_neighbours\u001B[0;34m(points)\u001B[0m\n\u001B[1;32m      1\u001B[0m \u001B[0;32mdef\u001B[0m \u001B[0mget_neighbours\u001B[0m\u001B[0;34m(\u001B[0m\u001B[0mpoints\u001B[0m\u001B[0;34m)\u001B[0m\u001B[0;34m:\u001B[0m\u001B[0;34m\u001B[0m\u001B[0;34m\u001B[0m\u001B[0m\n\u001B[0;32m----> 2\u001B[0;31m     \u001B[0mtri\u001B[0m \u001B[0;34m=\u001B[0m \u001B[0mspatial\u001B[0m\u001B[0;34m.\u001B[0m\u001B[0mDelaunay\u001B[0m\u001B[0;34m(\u001B[0m\u001B[0mpoints\u001B[0m\u001B[0;34m)\u001B[0m\u001B[0;34m\u001B[0m\u001B[0;34m\u001B[0m\u001B[0m\n\u001B[0m\u001B[1;32m      3\u001B[0m     \u001B[0mlist_indices\u001B[0m\u001B[0;34m,\u001B[0m \u001B[0mpoints_indices\u001B[0m \u001B[0;34m=\u001B[0m \u001B[0mtri\u001B[0m\u001B[0;34m.\u001B[0m\u001B[0mvertex_neighbor_vertices\u001B[0m\u001B[0;34m\u001B[0m\u001B[0;34m\u001B[0m\u001B[0m\n\u001B[1;32m      4\u001B[0m     \u001B[0mneighbours\u001B[0m \u001B[0;34m=\u001B[0m \u001B[0;34m[\u001B[0m\u001B[0mpoints_indices\u001B[0m\u001B[0;34m[\u001B[0m\u001B[0mi\u001B[0m\u001B[0;34m:\u001B[0m\u001B[0mj\u001B[0m\u001B[0;34m]\u001B[0m\u001B[0;34m.\u001B[0m\u001B[0mtolist\u001B[0m\u001B[0;34m(\u001B[0m\u001B[0;34m)\u001B[0m \u001B[0;32mfor\u001B[0m \u001B[0mi\u001B[0m\u001B[0;34m,\u001B[0m \u001B[0mj\u001B[0m \u001B[0;32min\u001B[0m \u001B[0mzip\u001B[0m\u001B[0;34m(\u001B[0m\u001B[0mlist_indices\u001B[0m\u001B[0;34m[\u001B[0m\u001B[0;34m:\u001B[0m\u001B[0;34m-\u001B[0m\u001B[0;36m1\u001B[0m\u001B[0;34m]\u001B[0m\u001B[0;34m,\u001B[0m \u001B[0mlist_indices\u001B[0m\u001B[0;34m[\u001B[0m\u001B[0;36m1\u001B[0m\u001B[0;34m:\u001B[0m\u001B[0;34m]\u001B[0m\u001B[0;34m)\u001B[0m\u001B[0;34m]\u001B[0m\u001B[0;34m\u001B[0m\u001B[0;34m\u001B[0m\u001B[0m\n\u001B[1;32m      5\u001B[0m     \u001B[0;32mreturn\u001B[0m \u001B[0mneighbours\u001B[0m\u001B[0;34m\u001B[0m\u001B[0;34m\u001B[0m\u001B[0m\n",
      "\u001B[0;31mNameError\u001B[0m: name 'spatial' is not defined"
     ]
    }
   ],
   "source": [
    "def get_neighbours(points):\n",
    "    tri = spatial.Delaunay(points)\n",
    "    list_indices, points_indices = tri.vertex_neighbor_vertices\n",
    "    neighbours = [points_indices[i:j].tolist() for i, j in zip(list_indices[:-1], list_indices[1:])]\n",
    "    return neighbours\n",
    "\n",
    "def hexatic_order_neighbours(df):\n",
    "    points = df[['x', 'y']].values\n",
    "    neighbours = get_neighbours(points)\n",
    "    orders = df['hexatic_order'].values\n",
    "    order_neighbours = []\n",
    "    for n in neighbours:\n",
    "        o = orders[n]\n",
    "        order_neighbours.append(np.sum(o)/len(o))\n",
    "    df['hexatic_order_neighbours'] = order_neighbours\n",
    "    df['hexatic_order_neighbours_abs'] = np.abs(order_neighbours)\n",
    "    df['hexatic_order_neighbours_angle'] = np.angle(order_neighbours)\n",
    "    return df\n",
    "\n",
    "frame = data.loc[0].copy()\n",
    "frame = hexatic_order_neighbours(frame)"
   ],
   "metadata": {
    "collapsed": false,
    "pycharm": {
     "name": "#%%\n"
    }
   }
  },
  {
   "cell_type": "code",
   "execution_count": 53,
   "outputs": [
    {
     "name": "stdout",
     "output_type": "stream",
     "text": [
      "Using matplotlib backend: Qt5Agg\n"
     ]
    },
    {
     "name": "stderr",
     "output_type": "stream",
     "text": [
      "/home/ppxjd3/miniconda3/envs/ExperimentsNew/lib/python3.9/site-packages/matplotlib/axes/_axes.py:4322: ComplexWarning: Casting complex values to real discards the imaginary part\n",
      "  c = np.asanyarray(c, dtype=float)\n"
     ]
    },
    {
     "data": {
      "text/plain": "<AxesSubplot:xlabel='x', ylabel='y'>"
     },
     "execution_count": 53,
     "metadata": {},
     "output_type": "execute_result"
    },
    {
     "data": {
      "text/plain": "<Figure size 640x480 with 2 Axes>",
      "image/png": "[encoded data removed]"
     },
     "metadata": {},
     "output_type": "display_data"
    }
   ],
   "source": [
    "%matplotlib auto\n",
    "frame.plot(x='x', y='y', c='hexatic_order', kind='scatter', cmap='hsv')"
   ],
   "metadata": {
    "collapsed": false,
    "pycharm": {
     "name": "#%%\n"
    }
   }
  },
  {
   "cell_type": "code",
   "execution_count": 88,
   "outputs": [
    {
     "name": "stdout",
     "output_type": "stream",
     "text": [
      "Using matplotlib backend: Qt5Agg\n"
     ]
    },
    {
     "data": {
      "text/plain": "<AxesSubplot:xlabel='x', ylabel='y'>"
     },
     "execution_count": 88,
     "metadata": {},
     "output_type": "execute_result"
    }
   ],
   "source": [
    "\n",
    "%matplotlib auto\n",
    "# frame['hexatic']\n",
    "toplot = frame[frame.hexatic_order_neighbours_abs>0.6]\n",
    "toplot.plot(x='x', y='y', c='hexatic_order_neighbours_abs', kind='scatter', cmap='hsv')"
   ],
   "metadata": {
    "collapsed": false,
    "pycharm": {
     "name": "#%%\n"
    }
   }
  },
  {
   "cell_type": "code",
   "execution_count": 83,
   "outputs": [
    {
     "name": "stderr",
     "output_type": "stream",
     "text": [
      "<ipython-input-55-96dfe70181c4>:9: SettingWithCopyWarning: \n",
      "A value is trying to be set on a copy of a slice from a DataFrame.\n",
      "Try using .loc[row_indexer,col_indexer] = value instead\n",
      "\n",
      "See the caveats in the documentation: https://pandas.pydata.org/pandas-docs/stable/user_guide/indexing.html#returning-a-view-versus-a-copy\n",
      "  df['draw_radius'] = diameter/2+2\n"
     ]
    }
   ],
   "source": [
    "im = draw_image(toplot)"
   ],
   "metadata": {
    "collapsed": false,
    "pycharm": {
     "name": "#%%\n"
    }
   }
  },
  {
   "cell_type": "code",
   "execution_count": 84,
   "outputs": [
    {
     "data": {
      "text/plain": "[]"
     },
     "execution_count": 84,
     "metadata": {},
     "output_type": "execute_result"
    }
   ],
   "source": [
    "images.display(im)"
   ],
   "metadata": {
    "collapsed": false,
    "pycharm": {
     "name": "#%%\n"
    }
   }
  },
  {
   "cell_type": "code",
   "execution_count": 36,
   "outputs": [],
   "source": [
    "contours = images.find_contours(im[:, :, 1])"
   ],
   "metadata": {
    "collapsed": false,
    "pycharm": {
     "name": "#%%\n"
    }
   }
  },
  {
   "cell_type": "code",
   "execution_count": 56,
   "outputs": [],
   "source": [
    "contour_areas, hull_areas, solidities, aspect_ratios, rects = get_contour_properties(contours)\n",
    "annotated_im = annotate_im_with_contours(im.copy(), contours, rects)"
   ],
   "metadata": {
    "collapsed": false,
    "pycharm": {
     "name": "#%%\n"
    }
   }
  },
  {
   "cell_type": "markdown",
   "source": [],
   "metadata": {
    "collapsed": false,
    "pycharm": {
     "name": "#%% md\n"
    }
   }
  },
  {
   "cell_type": "code",
   "execution_count": 57,
   "outputs": [
    {
     "data": {
      "text/plain": "(array([5., 1., 1., 6., 0., 2., 1., 2., 4., 3., 1., 0., 3., 2., 1., 2., 4.,\n        2., 3., 3., 2., 1., 2., 1., 0., 1., 0., 1., 1., 1., 4., 1., 2., 0.,\n        1., 0., 1., 0., 3., 2., 0., 0., 0., 0., 0., 1., 0., 0., 0., 1., 1.,\n        0., 0., 0., 0., 0., 0., 0., 0., 1., 1., 0., 0., 0., 0., 0., 0., 0.,\n        0., 0., 0., 0., 0., 0., 0., 0., 0., 0., 0., 0., 0., 0., 0., 0., 0.,\n        0., 0., 0., 0., 0., 0., 0., 0., 0., 0., 0., 0., 0., 0., 1.]),\n array([1.        , 1.02690493, 1.05380987, 1.0807148 , 1.10761974,\n        1.13452467, 1.1614296 , 1.18833454, 1.21523947, 1.2421444 ,\n        1.26904934, 1.29595427, 1.32285921, 1.34976414, 1.37666907,\n        1.40357401, 1.43047894, 1.45738387, 1.48428881, 1.51119374,\n        1.53809868, 1.56500361, 1.59190854, 1.61881348, 1.64571841,\n        1.67262334, 1.69952828, 1.72643321, 1.75333815, 1.78024308,\n        1.80714801, 1.83405295, 1.86095788, 1.88786281, 1.91476775,\n        1.94167268, 1.96857762, 1.99548255, 2.02238748, 2.04929242,\n        2.07619735, 2.10310228, 2.13000722, 2.15691215, 2.18381709,\n        2.21072202, 2.23762695, 2.26453189, 2.29143682, 2.31834175,\n        2.34524669, 2.37215162, 2.39905656, 2.42596149, 2.45286642,\n        2.47977136, 2.50667629, 2.53358122, 2.56048616, 2.58739109,\n        2.61429603, 2.64120096, 2.66810589, 2.69501083, 2.72191576,\n        2.74882069, 2.77572563, 2.80263056, 2.8295355 , 2.85644043,\n        2.88334536, 2.9102503 , 2.93715523, 2.96406017, 2.9909651 ,\n        3.01787003, 3.04477497, 3.0716799 , 3.09858483, 3.12548977,\n        3.1523947 , 3.17929964, 3.20620457, 3.2331095 , 3.26001444,\n        3.28691937, 3.3138243 , 3.34072924, 3.36763417, 3.39453911,\n        3.42144404, 3.44834897, 3.47525391, 3.50215884, 3.52906377,\n        3.55596871, 3.58287364, 3.60977858, 3.63668351, 3.66358844,\n        3.69049338]),\n <BarContainer object of 100 artists>)"
     },
     "execution_count": 57,
     "metadata": {},
     "output_type": "execute_result"
    }
   ],
   "source": [
    "plt.hist(aspect_ratios, bins=100)"
   ],
   "metadata": {
    "collapsed": false,
    "pycharm": {
     "name": "#%%\n"
    }
   }
  },
  {
   "cell_type": "code",
   "execution_count": 60,
   "outputs": [],
   "source": [
    "solid_contours, solid_rects = zip(*[[c, r] for c, s, r, a in zip(contours, solidities, rects, aspect_ratios) if s > 0.7 and a < 2 and a > 1.02])\n",
    "annotated_im = annotate_im_with_contours(im.copy(), solid_contours, solid_rects)"
   ],
   "metadata": {
    "collapsed": false,
    "pycharm": {
     "name": "#%%\n"
    }
   }
  },
  {
   "cell_type": "code",
   "execution_count": 61,
   "outputs": [
    {
     "data": {
      "text/plain": "[]"
     },
     "execution_count": 61,
     "metadata": {},
     "output_type": "execute_result"
    }
   ],
   "source": [
    "images.display(annotated_im)"
   ],
   "metadata": {
    "collapsed": false,
    "pycharm": {
     "name": "#%%\n"
    }
   }
  },
  {
   "cell_type": "code",
   "execution_count": 62,
   "outputs": [],
   "source": [
    "solid_areas, solid_hull_areas, solid_solidities, solid_aspect_ratios, solid_rects = get_contour_properties(solid_contours)"
   ],
   "metadata": {
    "collapsed": false,
    "pycharm": {
     "name": "#%%\n"
    }
   }
  },
  {
   "cell_type": "code",
   "execution_count": 63,
   "outputs": [
    {
     "data": {
      "text/plain": "(array([19.,  7.,  5.,  9.,  8.,  4.,  0.,  0.,  0.,  2.]),\n array([  796. ,  5010.7,  9225.4, 13440.1, 17654.8, 21869.5, 26084.2,\n        30298.9, 34513.6, 38728.3, 42943. ]),\n <BarContainer object of 10 artists>)"
     },
     "execution_count": 63,
     "metadata": {},
     "output_type": "execute_result"
    }
   ],
   "source": [
    "plt.hist(solid_areas)"
   ],
   "metadata": {
    "collapsed": false,
    "pycharm": {
     "name": "#%%\n"
    }
   }
  },
  {
   "cell_type": "code",
   "execution_count": 67,
   "outputs": [],
   "source": [
    "import filehandling\n",
    "from tqdm import tqdm"
   ],
   "metadata": {
    "collapsed": false,
    "pycharm": {
     "name": "#%%\n"
    }
   }
  },
  {
   "cell_type": "code",
   "execution_count": 69,
   "outputs": [],
   "source": [
    "files = filehandling.list_files(\"/media/data/Data/BallBearing/HIPS/IslandExperiments/1,93mmRepeats/*.hdf5\")"
   ],
   "metadata": {
    "collapsed": false,
    "pycharm": {
     "name": "#%%\n"
    }
   }
  },
  {
   "cell_type": "code",
   "execution_count": 75,
   "outputs": [
    {
     "name": "stderr",
     "output_type": "stream",
     "text": [
      "  0%|          | 0/45 [00:00<?, ?it/s]<ipython-input-55-96dfe70181c4>:9: SettingWithCopyWarning: \n",
      "A value is trying to be set on a copy of a slice from a DataFrame.\n",
      "Try using .loc[row_indexer,col_indexer] = value instead\n",
      "\n",
      "See the caveats in the documentation: https://pandas.pydata.org/pandas-docs/stable/user_guide/indexing.html#returning-a-view-versus-a-copy\n",
      "  df['draw_radius'] = diameter/2+2\n",
      " 13%|█▎        | 6/45 [00:04<00:29,  1.32it/s]"
     ]
    },
    {
     "name": "stdout",
     "output_type": "stream",
     "text": [
      "The file '/media/data/Data/BallBearing/HIPS/IslandExperiments/1,93mmRepeats/19300007.hdf5' is already opened.  Please close it before reopening.  HDF5 v.1.8.5-patch1, FILE_OPEN_POLICY = 'strict'\n"
     ]
    },
    {
     "name": "stderr",
     "output_type": "stream",
     "text": [
      "100%|██████████| 45/45 [00:37<00:00,  1.21it/s]\n"
     ]
    }
   ],
   "source": [
    "areas = []\n",
    "for file in tqdm(files):\n",
    "    try:\n",
    "        data = pd.read_hdf(file)\n",
    "        data['hexatic_order_abs'] = np.abs(data.hexatic_order)\n",
    "        frame = data.loc[0].copy()\n",
    "        frame = hexatic_order_neighbours(frame)\n",
    "        toplot = frame[frame.hexatic_order_neighbours_abs>0.9]\n",
    "        im = draw_image(toplot)\n",
    "        contours = images.find_contours(im[:, :, 1])\n",
    "        contour_areas, hull_areas, solidities, aspect_ratios, rects = get_contour_properties(contours)\n",
    "        annotated_im = annotate_im_with_contours(im, contours, rects)\n",
    "        # images.display(annotated_im)\n",
    "        for ca, solid, aspect in zip(contour_areas, solidities, aspect_ratios):\n",
    "            if solid > 0.8 and aspect < 1.5:\n",
    "                areas.append(ca)\n",
    "    except ValueError as e:\n",
    "        print(e)"
   ],
   "metadata": {
    "collapsed": false,
    "pycharm": {
     "name": "#%%\n"
    }
   }
  },
  {
   "cell_type": "code",
   "execution_count": 76,
   "outputs": [
    {
     "data": {
      "text/plain": "(array([1.200e+01, 1.136e+03, 0.000e+00, 0.000e+00, 4.100e+01, 1.430e+02,\n        1.470e+02, 5.400e+01, 2.100e+01, 0.000e+00, 9.800e+01, 1.000e+00,\n        9.500e+01, 1.200e+01, 1.300e+02, 3.400e+01, 5.300e+01, 4.000e+01,\n        1.300e+01, 4.200e+01, 6.000e+00, 5.500e+01, 1.000e+01, 4.800e+01,\n        2.700e+01, 3.300e+01, 5.400e+01, 1.100e+01, 5.000e+01, 3.000e+00,\n        4.600e+01, 3.000e+00, 2.700e+01, 1.400e+01, 1.800e+01, 3.200e+01,\n        8.000e+00, 2.900e+01, 6.000e+00, 2.400e+01, 1.200e+01, 1.700e+01,\n        2.000e+01, 1.600e+01, 2.200e+01, 3.000e+00, 2.000e+01, 9.000e+00,\n        1.100e+01, 1.100e+01, 1.100e+01, 1.200e+01, 3.000e+00, 1.400e+01,\n        6.000e+00, 1.500e+01, 5.000e+00, 5.000e+00, 1.000e+01, 4.000e+00,\n        1.500e+01, 5.000e+00, 1.200e+01, 2.000e+00, 4.000e+00, 4.000e+00,\n        6.000e+00, 4.000e+00, 2.000e+00, 6.000e+00, 6.000e+00, 2.000e+00,\n        1.000e+00, 4.000e+00, 4.000e+00, 1.000e+00, 2.000e+00, 0.000e+00,\n        2.000e+00, 4.000e+00, 1.000e+00, 1.000e+00, 0.000e+00, 5.000e+00,\n        0.000e+00, 2.000e+00, 0.000e+00, 2.000e+00, 1.000e+00, 1.000e+00,\n        1.000e+00, 0.000e+00, 0.000e+00, 1.000e+00, 0.000e+00, 0.000e+00,\n        1.000e+00, 1.000e+00, 0.000e+00, 2.000e+00]),\n array([  153.5  ,   354.985,   556.47 ,   757.955,   959.44 ,  1160.925,\n         1362.41 ,  1563.895,  1765.38 ,  1966.865,  2168.35 ,  2369.835,\n         2571.32 ,  2772.805,  2974.29 ,  3175.775,  3377.26 ,  3578.745,\n         3780.23 ,  3981.715,  4183.2  ,  4384.685,  4586.17 ,  4787.655,\n         4989.14 ,  5190.625,  5392.11 ,  5593.595,  5795.08 ,  5996.565,\n         6198.05 ,  6399.535,  6601.02 ,  6802.505,  7003.99 ,  7205.475,\n         7406.96 ,  7608.445,  7809.93 ,  8011.415,  8212.9  ,  8414.385,\n         8615.87 ,  8817.355,  9018.84 ,  9220.325,  9421.81 ,  9623.295,\n         9824.78 , 10026.265, 10227.75 , 10429.235, 10630.72 , 10832.205,\n        11033.69 , 11235.175, 11436.66 , 11638.145, 11839.63 , 12041.115,\n        12242.6  , 12444.085, 12645.57 , 12847.055, 13048.54 , 13250.025,\n        13451.51 , 13652.995, 13854.48 , 14055.965, 14257.45 , 14458.935,\n        14660.42 , 14861.905, 15063.39 , 15264.875, 15466.36 , 15667.845,\n        15869.33 , 16070.815, 16272.3  , 16473.785, 16675.27 , 16876.755,\n        17078.24 , 17279.725, 17481.21 , 17682.695, 17884.18 , 18085.665,\n        18287.15 , 18488.635, 18690.12 , 18891.605, 19093.09 , 19294.575,\n        19496.06 , 19697.545, 19899.03 , 20100.515, 20302.   ]),\n <BarContainer object of 100 artists>)"
     },
     "execution_count": 76,
     "metadata": {},
     "output_type": "execute_result"
    }
   ],
   "source": [
    "plt.hist(areas, bins=100)"
   ],
   "metadata": {
    "collapsed": false,
    "pycharm": {
     "name": "#%%\n"
    }
   }
  },
  {
   "cell_type": "markdown",
   "source": [
    "### Try measuring from the video directly"
   ],
   "metadata": {
    "collapsed": false,
    "pycharm": {
     "name": "#%% md\n"
    }
   }
  },
  {
   "cell_type": "code",
   "execution_count": 63,
   "outputs": [],
   "source": [
    "from labvision import images, video\n",
    "import numpy as np\n",
    "import cv2"
   ],
   "metadata": {
    "collapsed": false,
    "pycharm": {
     "name": "#%%\n"
    }
   }
  },
  {
   "cell_type": "code",
   "execution_count": 81,
   "outputs": [],
   "source": [
    "vid = video.ReadVideo(\"/media/data/Data/BallBearing/HIPS/IslandExperiments/1,91mmRepeats/TEST/19330001.MP4\")\n",
    "vid2 = video.ReadVideo(\"/media/data/Data/BallBearing/HIPS/PhaseDiagramsNewPlate/1,95mm/80%/451.mp4\")"
   ],
   "metadata": {
    "collapsed": false,
    "pycharm": {
     "name": "#%%\n"
    }
   }
  },
  {
   "cell_type": "code",
   "execution_count": 82,
   "outputs": [],
   "source": [
    "frame = vid.read_next_frame()\n",
    "frame2 = vid2.read_next_frame()"
   ],
   "metadata": {
    "collapsed": false,
    "pycharm": {
     "name": "#%%\n"
    }
   }
  },
  {
   "cell_type": "code",
   "execution_count": 7,
   "outputs": [],
   "source": [
    "corners = images.display(frame)"
   ],
   "metadata": {
    "collapsed": false,
    "pycharm": {
     "name": "#%%\n"
    }
   }
  },
  {
   "cell_type": "code",
   "execution_count": 8,
   "outputs": [
    {
     "data": {
      "text/plain": "[(868, 1075),\n (1439, 127),\n (2556, 149),\n (3092, 1132),\n (2511, 2080),\n (1402, 2050)]"
     },
     "execution_count": 8,
     "metadata": {},
     "output_type": "execute_result"
    }
   ],
   "source": [
    "corners"
   ],
   "metadata": {
    "collapsed": false,
    "pycharm": {
     "name": "#%%\n"
    }
   }
  },
  {
   "cell_type": "code",
   "execution_count": 66,
   "outputs": [],
   "source": [
    "corners = [(868, 1075),\n",
    " (1439, 127),\n",
    " (2556, 149),\n",
    " (3092, 1132),\n",
    " (2511, 2080),\n",
    " (1402, 2050)]"
   ],
   "metadata": {
    "collapsed": false,
    "pycharm": {
     "name": "#%%\n"
    }
   }
  },
  {
   "cell_type": "code",
   "execution_count": 67,
   "outputs": [],
   "source": [
    "class BBox:\n",
    "    def __init__(self, xmin, xmax, ymin, ymax):\n",
    "        self.xmin = xmin\n",
    "        self.xmax = xmax\n",
    "        self.ymin = ymin\n",
    "        self.ymax = ymax\n",
    "\n",
    "    def to_tuple(self):\n",
    "        return ((self.xmin, self.ymin), (self.xmax, self.ymax))\n",
    "\n",
    "    def to_list(self):\n",
    "        return [[self.xmin, self.ymin], [self.xmax, self.ymax]]\n",
    "\n",
    "    def __str__(self):\n",
    "        s = \"BBOX: xmin = {}, xmax = {}, ymin = {}, ymax = {}\".format(self.xmin, self.xmax, self.ymin, self.ymax)\n",
    "        return s\n"
   ],
   "metadata": {
    "collapsed": false,
    "pycharm": {
     "name": "#%%\n"
    }
   }
  },
  {
   "cell_type": "code",
   "execution_count": 68,
   "outputs": [],
   "source": [
    "def create_crop_result_from_corners(im, corners):\n",
    "    if len(im.shape) == 2:\n",
    "        mask = np.zeros_like(im, dtype=np.uint8)\n",
    "    else:\n",
    "        mask = np.zeros_like(im[:, :, 0], dtype=np.uint8)\n",
    "    bbox = BBox(min(corners[:, 0]), max(corners[:, 0]), min(corners[:, 1]), max(corners[:, 1]))\n",
    "    cv2.fillPoly(mask, pts=np.array([corners], dtype=np.int32), color=(255, 255, 255))\n",
    "    corners[:, 0] -= bbox.xmin\n",
    "    corners[:, 1] -= bbox.ymin\n",
    "    return bbox, mask\n",
    "\n",
    "\n"
   ],
   "metadata": {
    "collapsed": false,
    "pycharm": {
     "name": "#%%\n"
    }
   }
  },
  {
   "cell_type": "code",
   "execution_count": 69,
   "outputs": [],
   "source": [
    "bbox, mask = create_crop_result_from_corners(frame, np.array(corners))"
   ],
   "metadata": {
    "collapsed": false,
    "pycharm": {
     "name": "#%%\n"
    }
   }
  },
  {
   "cell_type": "code",
   "execution_count": 83,
   "outputs": [],
   "source": [
    "bbox2, mask2 = create_crop_result_from_corners(frame2, np.array(corners))"
   ],
   "metadata": {
    "collapsed": false,
    "pycharm": {
     "name": "#%%\n"
    }
   }
  },
  {
   "cell_type": "code",
   "execution_count": 70,
   "outputs": [],
   "source": [
    "frame = images.crop_and_mask(frame, bbox, mask)"
   ],
   "metadata": {
    "collapsed": false,
    "pycharm": {
     "name": "#%%\n"
    }
   }
  },
  {
   "cell_type": "code",
   "execution_count": 84,
   "outputs": [],
   "source": [
    "frame2 = images.crop_and_mask(frame, bbox, mask)"
   ],
   "metadata": {
    "collapsed": false,
    "pycharm": {
     "name": "#%%\n"
    }
   }
  },
  {
   "cell_type": "code",
   "execution_count": 97,
   "outputs": [],
   "source": [
    "frame2 = frame2[:, :, 0]"
   ],
   "metadata": {
    "collapsed": false,
    "pycharm": {
     "name": "#%%\n"
    }
   }
  },
  {
   "cell_type": "code",
   "execution_count": 71,
   "outputs": [],
   "source": [
    "frame = frame[:, :, 0]"
   ],
   "metadata": {
    "collapsed": false,
    "pycharm": {
     "name": "#%%\n"
    }
   }
  },
  {
   "cell_type": "code",
   "execution_count": 90,
   "outputs": [
    {
     "data": {
      "text/plain": "[]"
     },
     "execution_count": 90,
     "metadata": {},
     "output_type": "execute_result"
    }
   ],
   "source": [
    "images.display(frame2)"
   ],
   "metadata": {
    "collapsed": false,
    "pycharm": {
     "name": "#%%\n"
    }
   }
  },
  {
   "cell_type": "code",
   "execution_count": 98,
   "outputs": [],
   "source": [
    "fourier_transform2 = np.fft.fft2(frame2)"
   ],
   "metadata": {
    "collapsed": false,
    "pycharm": {
     "name": "#%%\n"
    }
   }
  },
  {
   "cell_type": "code",
   "execution_count": 95,
   "outputs": [],
   "source": [
    "from matplotlib.colors import LogNorm"
   ],
   "metadata": {
    "collapsed": false,
    "pycharm": {
     "name": "#%%\n"
    }
   }
  },
  {
   "cell_type": "code",
   "execution_count": 100,
   "outputs": [
    {
     "data": {
      "text/plain": "<matplotlib.image.AxesImage at 0x7f572cdd99d0>"
     },
     "execution_count": 100,
     "metadata": {},
     "output_type": "execute_result"
    }
   ],
   "source": [
    "plt.imshow(np.abs(fourier_transform2), norm=LogNorm())"
   ],
   "metadata": {
    "collapsed": false,
    "pycharm": {
     "name": "#%%\n"
    }
   }
  },
  {
   "cell_type": "code",
   "execution_count": 26,
   "outputs": [
    {
     "data": {
      "text/plain": "<labvision.images.gui.DilationGui at 0x7fbc6403f6a0>"
     },
     "execution_count": 26,
     "metadata": {},
     "output_type": "execute_result"
    }
   ],
   "source": [
    "images.DilationGui(frame)"
   ],
   "metadata": {
    "collapsed": false,
    "pycharm": {
     "name": "#%%\n"
    }
   }
  },
  {
   "cell_type": "markdown",
   "source": [],
   "metadata": {
    "collapsed": false,
    "pycharm": {
     "name": "#%% md\n"
    }
   }
  },
  {
   "cell_type": "code",
   "execution_count": 28,
   "outputs": [
    {
     "data": {
      "text/plain": "<labvision.images.gui.AdaptiveThresholdGui at 0x7fbc5f717190>"
     },
     "execution_count": 28,
     "metadata": {},
     "output_type": "execute_result"
    }
   ],
   "source": [
    "images.AdaptiveThresholdGui(frame)"
   ],
   "metadata": {
    "collapsed": false,
    "pycharm": {
     "name": "#%%\n"
    }
   }
  },
  {
   "cell_type": "code",
   "execution_count": 29,
   "outputs": [
    {
     "data": {
      "text/plain": "<labvision.images.gui.ThresholdGui at 0x7fbc5f722df0>"
     },
     "execution_count": 29,
     "metadata": {},
     "output_type": "execute_result"
    }
   ],
   "source": [
    "images.ThresholdGui(frame)"
   ],
   "metadata": {
    "collapsed": false,
    "pycharm": {
     "name": "#%%\n"
    }
   }
  },
  {
   "cell_type": "code",
   "execution_count": 43,
   "outputs": [],
   "source": [
    "thresh = images.threshold(frame, 76)\n",
    "thresh = images.opening(thresh, (5, 5), kernel_type=cv2.MORPH_ELLIPSE)"
   ],
   "metadata": {
    "collapsed": false,
    "pycharm": {
     "name": "#%%\n"
    }
   }
  },
  {
   "cell_type": "code",
   "execution_count": 47,
   "outputs": [
    {
     "data": {
      "text/plain": "[]"
     },
     "execution_count": 47,
     "metadata": {},
     "output_type": "execute_result"
    }
   ],
   "source": [
    "images.display(thresh)"
   ],
   "metadata": {
    "collapsed": false,
    "pycharm": {
     "name": "#%%\n"
    }
   }
  },
  {
   "cell_type": "code",
   "execution_count": 45,
   "outputs": [
    {
     "data": {
      "text/plain": "<labvision.images.gui.DilationGui at 0x7fbc5f717400>"
     },
     "execution_count": 45,
     "metadata": {},
     "output_type": "execute_result"
    }
   ],
   "source": [
    "images.DilationGui(thresh)"
   ],
   "metadata": {
    "collapsed": false,
    "pycharm": {
     "name": "#%%\n"
    }
   }
  },
  {
   "cell_type": "markdown",
   "source": [
    "### Test for contact between particles"
   ],
   "metadata": {
    "collapsed": false,
    "pycharm": {
     "name": "#%% md\n"
    }
   }
  },
  {
   "cell_type": "code",
   "execution_count": 129,
   "outputs": [
    {
     "name": "stdout",
     "output_type": "stream",
     "text": [
      "Using matplotlib backend: Qt5Agg\n"
     ]
    }
   ],
   "source": [
    "%matplotlib auto\n",
    "from scipy import spatial\n",
    "import pandas as pd\n",
    "import matplotlib.pyplot as plt\n",
    "import numpy as np\n",
    "from order_parameters import add_translational_order"
   ],
   "metadata": {
    "collapsed": false,
    "pycharm": {
     "name": "#%%\n"
    }
   }
  },
  {
   "cell_type": "code",
   "execution_count": 132,
   "outputs": [],
   "source": [
    "data = pd.read_hdf(\"/media/data/Data/BallBearing/HIPS/IslandExperiments/1,93mmRepeats/19300001.hdf5\")"
   ],
   "metadata": {
    "collapsed": false,
    "pycharm": {
     "name": "#%%\n"
    }
   }
  },
  {
   "cell_type": "code",
   "execution_count": 133,
   "outputs": [],
   "source": [
    "data, lattice_vector = add_translational_order(data)"
   ],
   "metadata": {
    "collapsed": false,
    "pycharm": {
     "name": "#%%\n"
    }
   }
  },
  {
   "cell_type": "code",
   "execution_count": 134,
   "outputs": [],
   "source": [
    "frame = data.loc[0]"
   ],
   "metadata": {
    "collapsed": false,
    "pycharm": {
     "name": "#%%\n"
    }
   }
  },
  {
   "cell_type": "code",
   "execution_count": 135,
   "outputs": [],
   "source": [
    "tree = spatial.KDTree(frame[['x', 'y']])\n",
    "dists, indices = tree.query(frame[['x', 'y']], 7)"
   ],
   "metadata": {
    "collapsed": false,
    "pycharm": {
     "name": "#%%\n"
    }
   }
  },
  {
   "cell_type": "code",
   "execution_count": 136,
   "outputs": [],
   "source": [
    "dists = dists[:, 1:]"
   ],
   "metadata": {
    "collapsed": false,
    "pycharm": {
     "name": "#%%\n"
    }
   }
  },
  {
   "cell_type": "code",
   "execution_count": 112,
   "outputs": [
    {
     "data": {
      "text/plain": "<matplotlib.lines.Line2D at 0x7f56435e1700>"
     },
     "execution_count": 112,
     "metadata": {},
     "output_type": "execute_result"
    }
   ],
   "source": [
    "plt.subplot(1, 2, 1)\n",
    "plt.hist(dists[:, :4], bins=100)\n",
    "plt.axvline(np.median(dists[:, :4]))\n",
    "plt.subplot(1, 2, 2)\n",
    "plt.hist(dists, bins=100)\n",
    "plt.axvline(np.median(dists))"
   ],
   "metadata": {
    "collapsed": false,
    "pycharm": {
     "name": "#%%\n"
    }
   }
  },
  {
   "cell_type": "code",
   "execution_count": 137,
   "outputs": [],
   "source": [
    "points = frame[['x', 'y']].values"
   ],
   "metadata": {
    "collapsed": false,
    "pycharm": {
     "name": "#%%\n"
    }
   }
  },
  {
   "cell_type": "code",
   "execution_count": 138,
   "outputs": [
    {
     "data": {
      "text/plain": "<matplotlib.colorbar.Colorbar at 0x7f563a2baa00>"
     },
     "execution_count": 138,
     "metadata": {},
     "output_type": "execute_result"
    }
   ],
   "source": [
    "for point, ds, indxs in zip(frame[['x', 'y']].values, dists, indices):\n",
    "    for d, i in zip(ds, indxs):\n",
    "        if d < np.median(dists)+np.std(dists):\n",
    "            plt.plot([point[0], points[i, 0]], [point[1], points[i, 1]], 'r')\n",
    "        # else:\n",
    "        #     plt.plot([point[0], points[i, 0]], [point[1], points[i, 1]], 'b')\n",
    "plt.scatter(frame.x.values, frame.y.values, c=np.angle(frame.translational_order), cmap='hsv')\n",
    "plt.colorbar()"
   ],
   "metadata": {
    "collapsed": false,
    "pycharm": {
     "name": "#%%\n"
    }
   }
  },
  {
   "cell_type": "code",
   "execution_count": 17,
   "outputs": [
    {
     "data": {
      "text/plain": "<matplotlib.collections.PathCollection at 0x7f5852a2ba60>"
     },
     "execution_count": 17,
     "metadata": {},
     "output_type": "execute_result"
    }
   ],
   "source": [
    "plt.scatter(points[:, 0], points[:, 1])"
   ],
   "metadata": {
    "collapsed": false,
    "pycharm": {
     "name": "#%%\n"
    }
   }
  },
  {
   "cell_type": "code",
   "execution_count": 26,
   "outputs": [],
   "source": [
    "dists < np.median(dists)\n",
    "dists2 = [sum(d) for d in dists < np.median(dists)]"
   ],
   "metadata": {
    "collapsed": false,
    "pycharm": {
     "name": "#%%\n"
    }
   }
  },
  {
   "cell_type": "code",
   "execution_count": 28,
   "outputs": [],
   "source": [
    "frame = frame.copy()"
   ],
   "metadata": {
    "collapsed": false,
    "pycharm": {
     "name": "#%%\n"
    }
   }
  },
  {
   "cell_type": "code",
   "execution_count": 29,
   "outputs": [],
   "source": [
    "frame['touching_neighbours'] = dists2"
   ],
   "metadata": {
    "collapsed": false,
    "pycharm": {
     "name": "#%%\n"
    }
   }
  },
  {
   "cell_type": "code",
   "execution_count": 122,
   "outputs": [
    {
     "ename": "AttributeError",
     "evalue": "'DataFrame' object has no attribute 'touching_neighbours'",
     "output_type": "error",
     "traceback": [
      "\u001B[0;31m---------------------------------------------------------------------------\u001B[0m",
      "\u001B[0;31mAttributeError\u001B[0m                            Traceback (most recent call last)",
      "\u001B[0;32m<ipython-input-122-996d0e393748>\u001B[0m in \u001B[0;36m<module>\u001B[0;34m\u001B[0m\n\u001B[0;32m----> 1\u001B[0;31m \u001B[0mframe\u001B[0m \u001B[0;34m=\u001B[0m \u001B[0mframe\u001B[0m\u001B[0;34m[\u001B[0m\u001B[0mframe\u001B[0m\u001B[0;34m.\u001B[0m\u001B[0mtouching_neighbours\u001B[0m \u001B[0;34m>\u001B[0m \u001B[0;36m2\u001B[0m\u001B[0;34m]\u001B[0m\u001B[0;34m\u001B[0m\u001B[0;34m\u001B[0m\u001B[0m\n\u001B[0m\u001B[1;32m      2\u001B[0m \u001B[0mframe\u001B[0m\u001B[0;34m.\u001B[0m\u001B[0mplot\u001B[0m\u001B[0;34m(\u001B[0m\u001B[0mx\u001B[0m\u001B[0;34m=\u001B[0m\u001B[0;34m'x'\u001B[0m\u001B[0;34m,\u001B[0m \u001B[0my\u001B[0m\u001B[0;34m=\u001B[0m\u001B[0;34m'y'\u001B[0m\u001B[0;34m,\u001B[0m \u001B[0mc\u001B[0m\u001B[0;34m=\u001B[0m\u001B[0;34m'touching_neighbours'\u001B[0m\u001B[0;34m,\u001B[0m \u001B[0mkind\u001B[0m\u001B[0;34m=\u001B[0m\u001B[0;34m'scatter'\u001B[0m\u001B[0;34m,\u001B[0m \u001B[0mcmap\u001B[0m\u001B[0;34m=\u001B[0m\u001B[0;34m'tab10'\u001B[0m\u001B[0;34m)\u001B[0m\u001B[0;34m\u001B[0m\u001B[0;34m\u001B[0m\u001B[0m\n",
      "\u001B[0;32m~/miniconda3/envs/ExperimentsNew/lib/python3.9/site-packages/pandas/core/generic.py\u001B[0m in \u001B[0;36m__getattr__\u001B[0;34m(self, name)\u001B[0m\n\u001B[1;32m   5485\u001B[0m         ):\n\u001B[1;32m   5486\u001B[0m             \u001B[0;32mreturn\u001B[0m \u001B[0mself\u001B[0m\u001B[0;34m[\u001B[0m\u001B[0mname\u001B[0m\u001B[0;34m]\u001B[0m\u001B[0;34m\u001B[0m\u001B[0;34m\u001B[0m\u001B[0m\n\u001B[0;32m-> 5487\u001B[0;31m         \u001B[0;32mreturn\u001B[0m \u001B[0mobject\u001B[0m\u001B[0;34m.\u001B[0m\u001B[0m__getattribute__\u001B[0m\u001B[0;34m(\u001B[0m\u001B[0mself\u001B[0m\u001B[0;34m,\u001B[0m \u001B[0mname\u001B[0m\u001B[0;34m)\u001B[0m\u001B[0;34m\u001B[0m\u001B[0;34m\u001B[0m\u001B[0m\n\u001B[0m\u001B[1;32m   5488\u001B[0m \u001B[0;34m\u001B[0m\u001B[0m\n\u001B[1;32m   5489\u001B[0m     \u001B[0;32mdef\u001B[0m \u001B[0m__setattr__\u001B[0m\u001B[0;34m(\u001B[0m\u001B[0mself\u001B[0m\u001B[0;34m,\u001B[0m \u001B[0mname\u001B[0m\u001B[0;34m:\u001B[0m \u001B[0mstr\u001B[0m\u001B[0;34m,\u001B[0m \u001B[0mvalue\u001B[0m\u001B[0;34m)\u001B[0m \u001B[0;34m->\u001B[0m \u001B[0;32mNone\u001B[0m\u001B[0;34m:\u001B[0m\u001B[0;34m\u001B[0m\u001B[0;34m\u001B[0m\u001B[0m\n",
      "\u001B[0;31mAttributeError\u001B[0m: 'DataFrame' object has no attribute 'touching_neighbours'"
     ]
    }
   ],
   "source": [
    "frame = frame[frame.touching_neighbours > 2]\n",
    "frame.plot(x='x', y='y', c='touching_neighbours', kind='scatter', cmap='tab10')"
   ],
   "metadata": {
    "collapsed": false,
    "pycharm": {
     "name": "#%%\n"
    }
   }
  },
  {
   "cell_type": "code",
   "execution_count": 140,
   "outputs": [
    {
     "data": {
      "text/plain": "<matplotlib.collections.PathCollection at 0x7f55fa785a90>"
     },
     "execution_count": 140,
     "metadata": {},
     "output_type": "execute_result"
    }
   ],
   "source": [
    "plt.scatter(frame.x.values, frame.y.values, c=np.round(np.angle(frame.translational_order), 1), cmap='hsv')"
   ],
   "metadata": {
    "collapsed": false,
    "pycharm": {
     "name": "#%%\n"
    }
   }
  },
  {
   "cell_type": "code",
   "execution_count": 143,
   "outputs": [
    {
     "data": {
      "text/plain": "(array([ 5.,  7.,  3.,  7., 11.,  4.,  8., 10.,  8.,  7.,  8.,  6., 15.,\n         7.,  8.,  7.,  7.,  5.,  2.,  5.,  8., 10.,  4.,  5.,  5., 14.,\n        10.,  7.,  7., 13.,  6., 12., 11.,  4.,  3.,  6.,  6.,  9., 13.,\n        13.,  5., 15.,  9.,  4.,  5., 11., 11.,  8., 14., 10.,  4.,  8.,\n        11., 11.,  8.,  4., 11., 10.,  6.,  5.,  7.,  6.,  7., 15.,  7.,\n        15.,  8., 13., 11., 14.,  9.,  9., 10.,  9., 11., 10., 11., 15.,\n        13., 10.,  7., 11.,  6.,  6.,  6.,  9., 10.,  8.,  7.,  2.,  9.,\n         7., 14.,  9., 10., 11.,  8.,  7.,  9.,  4.,  6.,  4.,  8.,  8.,\n        10.,  8.,  7., 16.,  5., 10., 10.,  8.,  9., 12.,  8.,  7.,  5.,\n         8.,  9.,  8., 10., 12.,  9.,  4.,  5., 10.,  6.,  8., 12.,  3.,\n         7.,  7.,  8.,  5., 13., 13.,  9., 10.,  7.,  8., 11.,  7.,  3.,\n         5., 14., 10.,  7.,  6.,  1., 11., 11.,  8.,  8.,  8.,  2.,  4.,\n         6.,  8.,  9., 10.,  5.,  6.,  6.,  9.,  8.,  3.,  7.,  5.,  7.,\n         6.,  6.,  7.,  8.,  1.,  4.,  4.,  8.,  8.,  4.,  1.,  9.,  6.,\n         7.,  5.,  5.,  6.,  7.,  9.,  5.,  5.,  6.,  3.,  3.,  7.,  5.,\n         3.,  8.,  9., 11., 11., 14.,  5.,  8.,  9.,  7.,  9.,  5.,  9.,\n         7.,  7.,  4., 13.,  8.,  7.,  4.,  3.,  9.,  8.,  5.,  7.,  7.,\n        10.,  3.,  7.,  2.,  7.,  5.,  9.,  9., 10.,  7.,  6.,  3.,  8.,\n         7.,  9.,  9.,  3.,  8.,  5., 14.,  3.,  4.,  6.,  7.,  7.,  8.,\n         6.,  4.,  6.,  6.,  3.,  8.,  3.,  3., 10.,  6.,  9.,  3.,  6.,\n         4.,  7.,  4.,  3.,  3.,  3.,  3.,  6.,  9.,  7.,  2.,  7.,  4.,\n        11.,  5.,  3.,  3.,  8.,  5.,  3.,  6.,  8.,  5.,  9.,  7.,  5.,\n         7.,  3.,  2.,  5.,  7.,  7.,  4.,  6.,  9.,  5.,  7., 13.,  3.,\n         4.,  8.,  6., 10.,  9.,  8.,  5.,  9., 18., 10.,  9.,  7.,  9.,\n        10., 12., 14., 16., 11., 13.,  9.,  7.,  7., 11., 16.,  9., 13.,\n         9., 15.,  8.,  4.,  2.,  7., 13.,  7.,  6.,  4., 11.,  6.,  8.,\n         7.,  2.,  8.,  7.,  7.,  7.,  8.,  8.,  6.,  7.,  9.,  7.,  2.,\n         3.,  7.,  8., 11., 12.,  8.,  6.,  7.,  4.,  5., 10.,  5.,  7.,\n         8.,  9.,  7., 10.,  8.,  5.,  5.,  6.,  8., 11.,  4.,  5.,  4.,\n         9.,  9.,  6.,  6.,  7.,  8.,  8., 10.,  7.,  6.,  7.,  7.,  7.,\n         6.,  4.,  3.,  8.,  8.,  8.,  7.,  8.,  6., 11.,  3.,  9.,  2.,\n        12.,  7.,  8.,  6.,  5., 10.,  5.,  5.,  7.,  4.,  3.,  7.,  8.,\n         8.,  2.,  6.,  5.,  7.,  6., 10.,  9.,  3.,  6.,  5.,  6., 10.,\n         3.,  6.,  7., 12., 10.,  8.,  8.,  8.,  6., 11., 12., 10.,  4.,\n         9.,  8., 11.,  8.,  4., 11.,  8.,  7.,  8.,  7., 12.,  7., 10.,\n         5.,  6.,  3., 11.,  7.,  7.,  9.,  7.,  7.,  5.,  8.,  7.,  6.,\n         7., 11., 10.,  7.,  8., 10.,  5.,  4.,  8., 13.,  7.,  7.,  9.,\n         7.,  6.,  9.,  6.,  8.,  6.,  4.,  8.,  7.,  2.,  8.,  5.,  9.,\n         8.,  8.,  5., 11.,  7.,  6.,  6.,  4.,  4.,  5.,  5.,  5., 11.,\n         5.,  5., 10.,  3., 10.,  3.,  6., 10.,  4.,  3.,  9.,  2.,  4.,\n         7.,  7.,  7.,  4.,  4.,  6.,  4.,  4.,  6.,  6., 12., 14.,  5.,\n         6.,  4., 13.,  7.,  8.,  6.,  5.,  6.,  4.,  5.,  6.,  9., 12.,\n         9.,  9., 11., 11.,  7.,  9., 13., 11., 10.,  6., 12., 12.,  8.,\n         9., 10., 14.,  9., 13., 16.,  6.,  6., 15., 10., 12., 11., 17.,\n        11., 12.,  6., 16., 10., 12.,  5.,  8., 12.,  9., 11., 10.,  5.,\n        13.,  5.,  5.,  6., 13.,  9.,  9.,  7., 13., 10.,  8.,  9., 13.,\n         7., 13., 11., 14., 11.,  4.,  9., 11., 11.,  8.,  6., 13., 19.,\n         9.,  6., 12., 13.,  2.,  7., 11.,  8., 12., 13., 10., 11.,  7.,\n        10., 13., 16., 10., 12., 12.,  7.,  6., 11., 11., 10., 11.,  5.,\n        11.,  5., 13.,  7., 10., 10., 12.,  8.,  6., 10.,  4., 11.,  6.,\n        13.,  5.,  7.,  8.,  7.,  6., 12.,  5.,  7.,  9.,  4.,  4., 12.,\n         9.,  6., 10.,  6.,  8., 11.,  8.,  6., 11.,  9.,  7.,  9.,  7.,\n         5.,  9.,  4., 10.,  3.,  7.,  6.,  6.,  6., 12.,  7.,  7.,  8.,\n         8.,  6.,  8.,  7.,  4.,  9.,  5.,  8.,  7.,  7.,  4.,  3.,  6.,\n         5.,  8.,  5., 10., 11.,  4.,  5.,  6.,  8.,  9.,  8.,  7., 12.,\n         9.,  8.,  8., 12.,  4.,  3.,  7., 10., 11., 13., 11.,  5.,  5.,\n        16.,  8.,  6., 12.,  9.,  9., 11., 10., 12.,  8., 16., 11., 11.,\n         4.,  7., 15., 13.,  8., 14., 13.,  6.,  9., 17., 10., 13., 10.,\n         5.,  8.,  2., 13.,  9.,  9., 13.,  5.,  9.,  4.,  5.,  7., 13.,\n         7.,  7.,  5.,  5., 13.,  7.,  8.,  6.,  6., 12., 10.,  6.,  8.,\n         5.,  6., 11.,  7.,  5.,  8.,  8.,  7.,  3.,  7., 11.,  9.,  8.,\n        10., 14.,  3., 13.,  9.,  6., 10., 12.,  6.,  8., 11., 11.,  7.,\n        12., 11.,  8., 11., 13.,  9., 10.,  9., 13.,  6., 12.,  9., 14.,\n        14.,  9., 15.,  5.,  7.,  7.,  7.,  8.,  6.,  8., 10., 12., 11.,\n        10., 10.,  9.,  7.,  9., 10., 13.,  6., 15.,  6., 10., 13., 10.,\n         7.,  8., 16.,  6.,  9., 12.,  7.,  5., 20., 11.,  7.,  9., 14.,\n        15., 12., 12., 13., 20., 16., 12., 16., 13., 15.,  9., 16., 11.,\n        10., 11., 12., 14., 12., 12., 10., 15., 15., 10.,  6., 11.,  9.,\n        10., 15., 11., 13., 13.,  9., 15., 11., 16.,  9., 11.,  7.,  5.,\n         9., 10.,  9., 12., 10., 11., 10., 12., 12.,  5., 11., 10., 10.,\n        10., 13., 11., 14., 15., 10., 10.,  9., 13., 15., 13.,  7., 13.,\n         9., 14., 15.,  9., 11.,  4., 15.,  8.,  8., 13., 13., 20., 13.,\n        14., 17., 12.,  8., 11.,  6.,  6.,  9., 10.,  6.,  8.,  5.,  9.,\n         4., 10.,  6., 11., 10.,  7., 13.,  7.,  7.,  8.,  6., 12.,  3.,\n         6.,  4., 11.,  4.,  9.,  3.,  8., 12.,  6.,  7.,  7.,  4.,  5.,\n        11.,  4.,  3.,  6.,  6.,  8.,  2.,  5.,  4.,  7.,  5.,  4.,  4.,\n         8.,  5.,  3.,  1.,  5.,  6.,  4.,  6.,  5.,  9.,  5.,  5.]),\n array([-3.13703855, -3.13076002, -3.1244815 , ...,  3.1289268 ,\n         3.13520532,  3.14148384]),\n <BarContainer object of 1000 artists>)"
     },
     "execution_count": 143,
     "metadata": {},
     "output_type": "execute_result"
    }
   ],
   "source": [
    "plt.hist(np.angle(frame.translational_order), bins=1000)"
   ],
   "metadata": {
    "collapsed": false,
    "pycharm": {
     "name": "#%%\n"
    }
   }
  },
  {
   "cell_type": "markdown",
   "source": [
    "### Try separating particles in clusters using translational order parameter"
   ],
   "metadata": {
    "collapsed": false,
    "pycharm": {
     "name": "#%% md\n"
    }
   }
  },
  {
   "cell_type": "code",
   "execution_count": 198,
   "outputs": [],
   "source": [
    "\n",
    "# neighbours = find_neighbours(points)"
   ],
   "metadata": {
    "collapsed": false,
    "pycharm": {
     "name": "#%%\n"
    }
   }
  },
  {
   "cell_type": "code",
   "execution_count": 145,
   "outputs": [
    {
     "data": {
      "text/plain": "[array([24, 23,  1], dtype=int32),\n array([11,  3, 24,  0, 27,  2, 39], dtype=int32),\n array([ 3,  1, 42, 39], dtype=int32),\n array([11,  1,  7,  5,  4, 44, 42,  2], dtype=int32),\n array([ 3,  5, 44, 45], dtype=int32),\n array([ 6,  7,  3,  4, 45, 46], dtype=int32),\n array([ 5,  7, 52, 46], dtype=int32),\n array([ 6,  5, 52, 36,  3, 11,  8], dtype=int32),\n array([36,  7, 11,  9, 55], dtype=int32),\n array([10, 11, 56,  8, 55], dtype=int32),\n array([ 9, 11, 12, 56, 60], dtype=int32),\n array([10,  9, 12, 13,  3,  1,  7,  8, 15, 14, 17, 57, 18], dtype=int32),\n array([10, 11, 13, 60, 61], dtype=int32),\n array([12, 11, 61, 82, 57], dtype=int32),\n array([15, 19, 11, 66, 65, 18], dtype=int32),\n array([16, 72, 71, 14, 19, 11, 17, 28], dtype=int32),\n array([17, 72, 15], dtype=int32),\n array([16, 72, 75, 21, 20, 22, 25, 26, 69, 15, 11], dtype=int32),\n array([57, 11, 65, 14], dtype=int32),\n array([14, 15, 28, 70, 66], dtype=int32),\n array([29, 22, 83, 17, 25, 79], dtype=int32),\n array([17, 75, 25, 78], dtype=int32),\n array([30, 26, 84, 29, 20, 17], dtype=int32),\n array([77, 98, 24,  0], dtype=int32),\n array([23,  0, 77,  1, 27, 81], dtype=int32),\n array([17, 20, 21, 78, 79], dtype=int32),\n array([49, 41, 69, 35, 32, 31, 33, 85, 30, 22, 17], dtype=int32),\n array([24,  1, 81, 88, 39], dtype=int32),\n array([70, 19, 15, 71], dtype=int32),\n array([22, 84, 20, 83], dtype=int32),\n array([85, 26, 22, 84, 80], dtype=int32),\n array([32, 26, 85, 87], dtype=int32),\n array([31, 26, 33, 89, 87], dtype=int32),\n array([35, 26, 32, 34, 92, 89], dtype=int32),\n array([ 33,  35,  93,  92, 102], dtype=int32),\n array([41, 26, 33, 34, 93, 37, 95], dtype=int32),\n array([ 52,  94,   7,   8, 100,  55], dtype=int32),\n array([35, 41, 38, 96, 95], dtype=int32),\n array([40, 41, 97, 37, 96], dtype=int32),\n array([27, 88,  2, 42,  1, 99], dtype=int32),\n array([ 38,  41,  97, 103], dtype=int32),\n array([ 49,  26,  35, 104, 103,  40,  38,  37,  43], dtype=int32),\n array([  3,  44,   2,  39,  99, 109], dtype=int32),\n array([104,  41,  48,  47,  49, 105], dtype=int32),\n array([  3,   4,  42,  45, 110, 109], dtype=int32),\n array([  4,   5,  44, 110, 111,  46], dtype=int32),\n array([  6,   5,  45, 111,  52, 115], dtype=int32),\n array([ 48, 107,  43, 105], dtype=int32),\n array([107,  47,  43,  49, 106], dtype=int32),\n array([ 41,  26,  69,  54,  51,  64,  43,  48, 106, 108,  50], dtype=int32),\n array([112,  51,  49, 108, 132], dtype=int32),\n array([ 54,  49,  53, 112,  50, 113], dtype=int32),\n array([  6,   7,  36,  94,  46, 115], dtype=int32),\n array([ 51,  54, 117, 113], dtype=int32),\n array([ 51,  49,  64,  53, 117,  59,  58, 118], dtype=int32),\n array([  8,  36, 100, 101,   9,  56], dtype=int32),\n array([  9,  10,  60, 120, 101,  55], dtype=int32),\n array([91, 82, 13, 11, 65, 18], dtype=int32),\n array([ 59, 119,  54, 118], dtype=int32),\n array([ 58, 119,  62,  67,  54,  63,  64, 126], dtype=int32),\n array([ 12,  10,  56, 120, 121,  61], dtype=int32),\n array([ 60,  12,  13,  82, 121, 122], dtype=int32),\n array([ 59,  67,  63, 127, 124], dtype=int32),\n array([ 62,  59,  64, 128, 124], dtype=int32),\n array([ 69,  49,  54,  59,  63,  68, 125, 128], dtype=int32),\n array([ 91, 133,  57,  66,  14,  18], dtype=int32),\n array([130,  70,  19,  65, 133,  14], dtype=int32),\n array([ 59,  62, 127, 126], dtype=int32),\n array([125,  64,  69,  73, 129], dtype=int32),\n array([ 49,  26,  74,  76,  64, 138,  73,  68,  17, 134], dtype=int32),\n array([ 71, 136, 130,  28,  19,  66], dtype=int32),\n array([ 70, 136,  15,  72, 147,  28, 144], dtype=int32),\n array([ 16,  17,  75, 131,  15,  71, 144], dtype=int32),\n array([138,  69,  68, 129], dtype=int32),\n array([ 69,  76, 135, 134], dtype=int32),\n array([ 17,  72,  21,  78, 123, 131], dtype=int32),\n array([ 86,  90,  74,  69, 143, 135], dtype=int32),\n array([ 98,  23,  24,  81, 114], dtype=int32),\n array([ 21,  75,  25, 123, 139,  79], dtype=int32),\n array([ 20,  25,  83,  78, 139, 137], dtype=int32),\n array([ 30,  84,  85, 116], dtype=int32),\n array([ 27,  88,  24,  77, 114, 141, 142], dtype=int32),\n array([ 61,  13, 122,  91,  57], dtype=int32),\n array([ 29,  84,  20, 140,  79, 137], dtype=int32),\n array([ 22,  30,  80,  29,  83, 116, 174, 140], dtype=int32),\n array([ 31,  26,  87, 148, 177,  30,  80, 116], dtype=int32),\n array([ 76,  90, 143, 145], dtype=int32),\n array([ 85,  31,  89, 149,  32, 148], dtype=int32),\n array([ 99, 150,  81,  27,  39, 142], dtype=int32),\n array([153, 149,  33,  32,  92,  87], dtype=int32),\n array([ 86,  76, 456, 187, 145], dtype=int32),\n array([ 82, 122, 152, 133,  65,  57], dtype=int32),\n array([ 33,  34,  89, 153, 102, 202], dtype=int32),\n array([ 35,  34, 102, 158,  95, 155], dtype=int32),\n array([ 52,  36, 100, 156, 154, 115], dtype=int32),\n array([ 96, 159,  37,  93,  35, 155], dtype=int32),\n array([ 38,  97,  37, 160, 159,  95], dtype=int32),\n array([ 38,  40, 103, 162,  96, 160], dtype=int32),\n array([ 77,  23, 114, 457, 405, 171, 167, 230, 553, 618, 298], dtype=int32),\n array([ 88, 150, 168,  39,  42, 109], dtype=int32),\n array([ 36,  94, 101, 157,  55, 156], dtype=int32),\n array([161, 157, 100, 120,  56,  55], dtype=int32),\n array([ 93,  34,  92, 158, 202], dtype=int32),\n array([104,  41,  40,  97, 163, 162], dtype=int32),\n array([103,  41,  43, 163, 105, 164], dtype=int32),\n array([ 43,  47, 104, 107, 165, 164], dtype=int32),\n array([ 48, 107,  49, 108, 166, 170], dtype=int32),\n array([ 48,  47, 105, 165, 106, 166], dtype=int32),\n array([106,  49,  50, 170, 132, 190], dtype=int32),\n array([ 99, 168, 169,  42,  44, 110], dtype=int32),\n array([169, 172, 111,  45,  44, 109], dtype=int32),\n array([173, 172, 110,  45,  46, 115], dtype=int32),\n array([ 50,  51, 178, 191, 113, 132], dtype=int32),\n array([178, 112,  53, 117,  51, 179], dtype=int32),\n array([ 77,  98,  81, 141, 171], dtype=int32),\n array([173, 111, 154,  46,  52,  94], dtype=int32),\n array([174, 177,  85,  80,  84], dtype=int32),\n array([ 53,  54, 118, 180, 113, 179], dtype=int32),\n array([ 58, 119, 181,  54, 117, 180], dtype=int32),\n array([184, 181,  58,  59, 126, 118], dtype=int32),\n array([ 60,  56, 161, 151, 101, 121], dtype=int32),\n array([122, 146, 188, 151, 120,  60,  61], dtype=int32),\n array([195, 146, 121,  61,  82,  91, 152], dtype=int32),\n array([197, 198,  78,  75, 139, 131], dtype=int32),\n array([127,  62,  63, 128, 182, 175], dtype=int32),\n array([ 68,  64, 128, 183, 129, 186], dtype=int32),\n array([184, 119, 185,  59,  67, 127], dtype=int32),\n array([ 62,  67, 126, 185, 124, 175], dtype=int32),\n array([125,  64, 183,  63, 182, 124], dtype=int32),\n array([138,  73,  68, 125, 186, 192], dtype=int32),\n array([ 70, 136, 193, 196, 133,  66], dtype=int32),\n array([123, 197,  75,  72, 144, 189], dtype=int32),\n array([191, 112,  50, 108, 190], dtype=int32),\n array([214, 196, 152,  91,  65, 130,  66], dtype=int32),\n array([135,  74, 201, 200, 138,  69], dtype=int32),\n array([ 74,  76, 143, 204, 201, 134], dtype=int32),\n array([ 70,  71, 147, 194, 193, 130], dtype=int32),\n array([199, 140,  83,  79, 139, 176], dtype=int32),\n array([ 73,  69, 129, 134, 200, 192], dtype=int32),\n array([123, 198,  78,  79, 137, 176], dtype=int32),\n array([174,  84,  83, 235, 199, 137], dtype=int32),\n array([114,  81, 142, 203, 240, 171], dtype=int32),\n array([205, 150,  88,  81, 141, 203], dtype=int32),\n array([ 86,  76, 135, 204, 145, 208], dtype=int32),\n array([ 71,  72, 147, 131, 207, 189], dtype=int32),\n array([187,  90,  86, 143, 208, 209], dtype=int32),\n array([195, 188, 122, 121], dtype=int32),\n array([ 71, 136, 194, 207, 144], dtype=int32),\n array([ 85, 177, 253, 210, 149,  87], dtype=int32),\n array([153, 212, 210,  89,  87, 148], dtype=int32),\n array([168, 213,  88,  99, 205, 142], dtype=int32),\n array([188, 223, 161, 120, 121], dtype=int32),\n array([214, 206, 133,  91, 122, 195], dtype=int32),\n array([212, 149,  89,  92, 202], dtype=int32),\n array([211, 173, 226, 217, 156,  94, 115], dtype=int32),\n array([ 95, 159, 158,  93, 215], dtype=int32),\n array([217, 218, 100, 157, 154,  94], dtype=int32),\n array([161, 222, 101, 100, 218, 156], dtype=int32),\n array([102,  93, 202, 155, 279, 285, 215], dtype=int32),\n array([160, 219,  96,  95, 155, 215], dtype=int32),\n array([159, 219,  96, 162,  97, 220], dtype=int32),\n array([223, 151, 120, 222, 157, 101], dtype=int32),\n array([103,  97, 163, 224, 160, 220], dtype=int32),\n array([104, 103, 164, 162, 224, 245], dtype=int32),\n array([163, 104, 105, 165, 227, 245, 246], dtype=int32),\n array([236, 227, 105, 107, 164, 166], dtype=int32),\n array([165, 107, 236, 106, 170, 228], dtype=int32),\n array([230,  98, 171, 237], dtype=int32),\n array([213, 150,  99, 231, 169, 109], dtype=int32),\n array([232, 172, 110, 231, 168, 109], dtype=int32),\n array([106, 108, 166, 228, 247, 190], dtype=int32),\n array([114, 141, 240,  98, 167, 237], dtype=int32),\n array([173, 238, 111, 232, 169, 110], dtype=int32),\n array([238, 172, 111, 216, 211, 154, 115], dtype=int32),\n array([116, 177,  84, 244, 235, 140], dtype=int32),\n array([239, 185, 127, 124, 182, 264], dtype=int32),\n array([139, 198, 242, 137, 199, 234], dtype=int32),\n array([ 85, 148, 253, 174, 116, 244], dtype=int32),\n array([260, 248, 191, 112, 113, 179], dtype=int32),\n array([178, 248, 250, 180, 113, 117], dtype=int32),\n array([181, 251, 118, 117, 250, 179], dtype=int32),\n array([184, 119, 254, 251, 118, 180], dtype=int32),\n array([128, 183, 124, 175, 264, 221], dtype=int32),\n array([128, 125, 182, 186, 225, 221], dtype=int32),\n array([185, 256, 254, 181, 119, 126], dtype=int32),\n array([184, 256, 126, 127, 175, 239, 249], dtype=int32),\n array([129, 125, 183, 225, 192, 229], dtype=int32),\n array([456,  90, 255, 145, 209, 257], dtype=int32),\n array([223, 151, 233, 195, 146, 261, 121], dtype=int32),\n array([144, 207, 258, 197, 131], dtype=int32),\n array([132, 191, 170, 247, 108, 259], dtype=int32),\n array([178, 112, 260, 132, 259, 190], dtype=int32),\n array([129, 138, 186, 200, 271, 229, 270], dtype=int32),\n array([241, 196, 262, 194, 136, 130], dtype=int32),\n array([207, 267, 262, 193, 147, 136], dtype=int32),\n array([188, 146, 122, 261, 266, 206, 152], dtype=int32),\n array([252, 214, 241, 193, 133, 130], dtype=int32),\n array([123, 198, 263, 131, 258, 189], dtype=int32),\n array([197, 123, 139, 263, 242, 176], dtype=int32),\n array([268, 235, 140, 137, 176, 234, 243], dtype=int32),\n array([134, 201, 138, 273, 192, 271], dtype=int32),\n array([135, 204, 272, 134, 200, 273], dtype=int32),\n array([158, 102,  92, 153, 212, 278, 279], dtype=int32),\n array([205, 274, 240, 141, 142, 318], dtype=int32),\n array([135, 143, 208, 280, 201, 272], dtype=int32),\n array([213, 150, 275, 274, 142, 203], dtype=int32),\n array([214, 266, 195, 152], dtype=int32),\n array([284, 267, 258, 194, 147, 144, 189], dtype=int32),\n array([143, 204, 280, 281, 145, 209, 257], dtype=int32),\n array([145, 187, 208, 257], dtype=int32),\n array([212, 283, 149, 253, 148, 277], dtype=int32),\n array([226, 300, 216, 173, 154, 282], dtype=int32),\n array([153, 149, 210, 283, 202, 278], dtype=int32),\n array([168, 150, 205, 275, 231], dtype=int32),\n array([252, 295, 196, 266, 206, 133, 152], dtype=int32),\n array([285, 158, 155, 159, 287, 219], dtype=int32),\n array([173, 238, 211, 282], dtype=int32),\n array([226, 306, 307, 218, 154, 156], dtype=int32),\n array([222, 157, 307, 313, 217, 156], dtype=int32),\n array([159, 160, 220, 291, 287, 215], dtype=int32),\n array([224, 162, 160, 219, 292, 291], dtype=int32),\n array([264, 182, 265, 183, 225], dtype=int32),\n array([223, 289, 161, 313, 157, 218], dtype=int32),\n array([188, 151, 233, 161, 294, 289, 222], dtype=int32),\n array([162, 163, 245, 220, 292, 296], dtype=int32),\n array([183, 186, 221, 265, 269, 229], dtype=int32),\n array([306, 300, 211, 217, 154], dtype=int32),\n array([165, 236, 297, 164, 321, 246], dtype=int32),\n array([170, 247, 303, 236, 166, 310], dtype=int32),\n array([192, 186, 225, 269, 270], dtype=int32),\n array([167,  98, 237, 298, 304], dtype=int32),\n array([232, 169, 275, 286, 213, 168, 299], dtype=int32),\n array([238, 172, 169, 231, 299, 305], dtype=int32),\n array([223, 188, 294, 261], dtype=int32),\n array([176, 242, 302, 309, 199, 243], dtype=int32),\n array([315, 268, 174, 244, 140, 199], dtype=int32),\n array([165, 227, 297, 166, 303, 228], dtype=int32),\n array([312, 240, 171, 167, 230, 304], dtype=int32),\n array([173, 172, 232, 216, 305, 288, 282], dtype=int32),\n array([331, 311, 175, 185, 264, 249], dtype=int32),\n array([203, 141, 318, 312, 171, 237], dtype=int32),\n array([196, 193, 252, 262, 319, 301], dtype=int32),\n array([263, 198, 176, 302, 234], dtype=int32),\n array([234, 309, 268, 320, 199], dtype=int32),\n array([174, 235, 315, 253, 177, 276], dtype=int32),\n array([164, 163, 224, 246, 293, 296], dtype=int32),\n array([164, 227, 245, 293, 321], dtype=int32),\n array([228, 170, 310, 328, 259, 190], dtype=int32),\n array([250, 322, 260, 178, 179, 316], dtype=int32),\n array([239, 185, 311, 256, 317], dtype=int32),\n array([180, 251, 323, 322, 248, 179], dtype=int32),\n array([181, 254, 324, 323, 180, 250], dtype=int32),\n array([214, 295, 196, 241, 301], dtype=int32),\n array([148, 177, 210, 277, 244, 276], dtype=int32),\n array([184, 256, 181, 251, 330, 324], dtype=int32),\n array([187, 456, 332, 327, 257], dtype=int32),\n array([184, 185, 254, 330, 249, 317], dtype=int32),\n array([208, 281, 209, 327, 255, 187], dtype=int32),\n array([263, 197, 290, 284, 207, 337, 189], dtype=int32),\n array([328, 247, 329, 260, 191, 190], dtype=int32),\n array([178, 248, 191, 316, 329, 259], dtype=int32),\n array([294, 314, 233, 333, 188, 195, 266], dtype=int32),\n array([241, 319, 325, 267, 193, 194], dtype=int32),\n array([197, 198, 242, 290, 340, 302, 258], dtype=int32),\n array([331, 239, 175, 182, 334, 265, 221], dtype=int32),\n array([334, 264, 335, 221, 225, 269], dtype=int32),\n array([308, 333, 261, 214, 206, 195, 295], dtype=int32),\n array([325, 262, 284, 207, 194], dtype=int32),\n array([315, 235, 341, 320, 199, 243], dtype=int32),\n array([350, 353, 335, 265, 225, 229, 270], dtype=int32),\n array([271, 192, 229, 354, 353, 269], dtype=int32),\n array([273, 200, 192, 338, 354, 270], dtype=int32),\n array([280, 204, 201, 351, 273, 336], dtype=int32),\n array([201, 200, 272, 271, 338, 336], dtype=int32),\n array([205, 275, 203, 339, 318, 342], dtype=int32),\n array([205, 274, 213, 231, 286, 343, 342], dtype=int32),\n array([244, 315, 253, 277, 345, 344], dtype=int32),\n array([210, 283, 253, 349, 345, 276], dtype=int32),\n array([202, 212, 283, 380, 279, 346], dtype=int32),\n array([285, 326, 278, 202, 158, 346], dtype=int32),\n array([281, 352, 208, 204, 272, 351], dtype=int32),\n array([280, 352, 208, 347, 327, 257], dtype=int32),\n array([348, 300, 288, 211, 216, 238], dtype=int32),\n array([210, 212, 277, 349, 380, 278], dtype=int32),\n array([325, 379, 267, 207, 258, 337], dtype=int32),\n array([326, 399, 357, 287, 279, 158, 215], dtype=int32),\n array([275, 231, 299, 355, 343], dtype=int32),\n array([291, 219, 357, 285, 215, 358], dtype=int32),\n array([305, 238, 348, 282], dtype=int32),\n array([294, 362, 223, 222, 313, 360], dtype=int32),\n array([263, 340, 258, 337], dtype=int32),\n array([287, 219, 220, 292, 361, 358], dtype=int32),\n array([220, 224, 296, 364, 291, 361], dtype=int32),\n array([365, 371, 321, 245, 246, 296], dtype=int32),\n array([362, 289, 223, 233, 368, 314, 261], dtype=int32),\n array([363, 308, 214, 252, 266, 301, 369], dtype=int32),\n array([365, 293, 245, 364, 292, 224], dtype=int32),\n array([236, 227, 321, 371, 303, 366], dtype=int32),\n array([367, 405,  98, 230, 372, 304], dtype=int32),\n array([231, 286, 232, 355, 373, 305], dtype=int32),\n array([306, 356, 226, 211, 348, 282], dtype=int32),\n array([252, 295, 241, 319, 370, 369], dtype=int32),\n array([384, 340, 263, 242, 309, 234], dtype=int32),\n array([297, 236, 310, 381, 366, 228], dtype=int32),\n array([378, 312, 372, 237, 230, 298], dtype=int32),\n array([299, 232, 238, 373, 359, 288, 348], dtype=int32),\n array([307, 374, 356, 300, 226, 217], dtype=int32),\n array([375, 313, 374, 306, 218, 217], dtype=int32),\n array([363, 295, 376, 333, 266], dtype=int32),\n array([390, 384, 320, 302, 234, 243], dtype=int32),\n array([382, 381, 303, 228, 247, 328], dtype=int32),\n array([331, 393, 239, 389, 249, 317], dtype=int32),\n array([318, 240, 383, 378, 237, 304], dtype=int32),\n array([375, 307, 222, 289, 360, 218], dtype=int32),\n array([368, 333, 294, 261], dtype=int32),\n array([268, 235, 341, 244, 276, 344], dtype=int32),\n array([385, 386, 329, 322, 260, 248], dtype=int32),\n array([330, 388, 389, 311, 256, 249], dtype=int32),\n array([339, 274, 203, 240, 312, 383], dtype=int32),\n array([377, 370, 325, 241, 262, 301], dtype=int32),\n array([268, 341, 398, 390, 309, 243], dtype=int32),\n array([293, 371, 297, 227, 246], dtype=int32),\n array([323, 391, 386, 250, 248, 316], dtype=int32),\n array([392, 391, 324, 251, 322, 250], dtype=int32),\n array([392, 387, 254, 251, 330, 323], dtype=int32),\n array([377, 319, 379, 262, 267, 284], dtype=int32),\n array([285, 399, 396, 279, 346], dtype=int32),\n array([255, 332, 347, 281, 394, 397, 257], dtype=int32),\n array([385, 382, 310, 247, 329, 259], dtype=int32),\n array([328, 385, 316, 260, 259], dtype=int32),\n array([254, 256, 388, 387, 324, 317], dtype=int32),\n array([401, 393, 311, 239, 334, 264], dtype=int32),\n array([255, 327, 400, 456, 397], dtype=int32),\n array([368, 314, 261, 376, 308, 266], dtype=int32),\n array([402, 401, 331, 264, 265, 335], dtype=int32),\n array([334, 402, 403, 350, 265, 269], dtype=int32),\n array([351, 272, 273, 338, 404, 408], dtype=int32),\n array([412, 340, 290, 379, 284, 258], dtype=int32),\n array([271, 273, 336, 408, 413, 354], dtype=int32),\n array([411, 383, 318, 274, 414, 342], dtype=int32),\n array([384, 395, 412, 290, 263, 302, 337], dtype=int32),\n array([268, 320, 315, 398, 344, 407], dtype=int32),\n array([343, 419, 414, 339, 274, 275], dtype=int32),\n array([275, 286, 355, 415, 419, 342], dtype=int32),\n array([276, 345, 315, 416, 341, 407], dtype=int32),\n array([277, 349, 420, 416, 276, 344], dtype=int32),\n array([279, 278, 380, 396, 326, 430], dtype=int32),\n array([281, 327, 394, 352, 421], dtype=int32),\n array([305, 359, 288, 425, 356, 300, 422, 282], dtype=int32),\n array([277, 283, 345, 420, 380, 446], dtype=int32),\n array([423, 403, 353, 335, 269], dtype=int32),\n array([272, 280, 352, 418, 404, 336], dtype=int32),\n array([280, 281, 347, 421, 418, 351], dtype=int32),\n array([423, 350, 269, 424, 354, 270], dtype=int32),\n array([338, 271, 413, 424, 353, 270], dtype=int32),\n array([299, 286, 343, 415, 373], dtype=int32),\n array([306, 300, 426, 374, 425, 348], dtype=int32),\n array([285, 399, 287, 358, 478], dtype=int32),\n array([361, 291, 287, 357, 417, 479, 478], dtype=int32),\n array([422, 373, 305, 348], dtype=int32),\n array([375, 313, 289, 362, 432, 428], dtype=int32),\n array([364, 292, 291, 358, 417, 435], dtype=int32),\n array([294, 289, 368, 360, 432, 439], dtype=int32),\n array([308, 295, 433, 434, 376, 369], dtype=int32),\n array([296, 365, 292, 436, 361, 435], dtype=int32),\n array([293, 371, 441, 296, 364, 436], dtype=int32),\n array([437, 381, 303, 297, 371, 431], dtype=int32),\n array([406, 405, 298, 372], dtype=int32),\n array([314, 333, 294, 362, 439, 429, 376], dtype=int32),\n array([440, 434, 370, 363, 295, 301], dtype=int32),\n array([440, 442, 377, 319, 301, 369], dtype=int32),\n array([365, 293, 321, 297, 441, 366, 431], dtype=int32),\n array([378, 409, 406, 367, 298, 304], dtype=int32),\n array([355, 299, 415, 463, 422, 359, 305], dtype=int32),\n array([307, 375, 427, 426, 306, 356, 443], dtype=int32),\n array([307, 313, 374, 360, 428, 443], dtype=int32),\n array([433, 429, 368, 333, 363, 308], dtype=int32),\n array([370, 442, 319, 444, 379, 325], dtype=int32),\n array([312, 383, 410, 409, 372, 304], dtype=int32),\n array([412, 449, 444, 377, 325, 284, 337], dtype=int32),\n array([349, 283, 446, 430, 278, 346], dtype=int32),\n array([310, 382, 303, 437, 366, 438], dtype=int32),\n array([310, 381, 385, 450, 438, 328], dtype=int32),\n array([339, 411, 318, 312, 378, 410], dtype=int32),\n array([453, 445, 390, 309, 395, 340, 302], dtype=int32),\n array([386, 451, 450, 382, 328, 329, 316], dtype=int32),\n array([322, 391, 454, 451, 385, 316], dtype=int32),\n array([392, 447, 330, 388, 448, 324], dtype=int32),\n array([330, 387, 448, 317, 389, 452], dtype=int32),\n array([311, 393, 317, 388, 452, 455], dtype=int32),\n array([384, 453, 459, 398, 309, 320], dtype=int32),\n array([392, 460, 323, 322, 386, 454], dtype=int32),\n array([387, 447, 460, 391, 324, 323], dtype=int32),\n array([401, 461, 331, 311, 389, 455], dtype=int32),\n array([347, 327, 421, 397, 462], dtype=int32),\n array([384, 445, 340, 412], dtype=int32),\n array([326, 399, 346, 430, 470], dtype=int32),\n array([464, 400, 332, 394, 327, 462], dtype=int32),\n array([341, 320, 407, 390, 459, 466], dtype=int32),\n array([326, 285, 357, 396, 470, 471, 478], dtype=int32),\n array([332, 456, 464, 397], dtype=int32),\n array([461, 393, 467, 402, 331, 334], dtype=int32),\n array([467, 401, 468, 403, 334, 335], dtype=int32),\n array([473, 468, 402, 423, 350, 335], dtype=int32),\n array([351, 418, 488, 475, 336, 408], dtype=int32),\n array([457,  98, 367, 406, 465, 298], dtype=int32),\n array([367, 405, 409, 469, 465, 372], dtype=int32),\n array([398, 341, 344, 416, 495, 491, 466], dtype=int32),\n array([475, 404, 336, 338, 413, 480], dtype=int32),\n array([406, 469, 476, 378, 410, 372], dtype=int32),\n array([476, 477, 411, 383, 378, 409], dtype=int32),\n array([339, 383, 477, 481, 414, 410], dtype=int32),\n array([449, 379, 395, 445, 340, 458, 337], dtype=int32),\n array([474, 480, 424, 338, 408, 354], dtype=int32),\n array([419, 482, 411, 339, 481, 342], dtype=int32),\n array([483, 419, 463, 343, 355, 373], dtype=int32),\n array([420, 495, 345, 344, 407], dtype=int32),\n array([358, 479, 361, 435, 485], dtype=int32),\n array([421, 489, 352, 351, 404, 488], dtype=int32),\n array([483, 415, 482, 343, 414, 342], dtype=int32),\n array([523, 495, 416, 345, 349, 446], dtype=int32),\n array([347, 352, 394, 484, 489, 418, 462], dtype=int32),\n array([463, 490, 425, 373, 359, 348], dtype=int32),\n array([473, 403, 350, 353, 493, 424], dtype=int32),\n array([413, 474, 423, 493, 353, 354], dtype=int32),\n array([426, 494, 490, 356, 422, 348], dtype=int32),\n array([427, 374, 494, 497, 356, 425], dtype=int32),\n array([426, 374, 497, 443], dtype=int32),\n array([502, 432, 360, 375, 501, 443], dtype=int32),\n array([498, 439, 368, 499, 433, 376], dtype=int32),\n array([446, 380, 500, 346, 396, 470], dtype=int32),\n array([441, 371, 366, 513, 492, 437], dtype=int32),\n array([360, 362, 439, 504, 502, 428], dtype=int32),\n array([434, 505, 363, 499, 429, 376], dtype=int32),\n array([506, 505, 440, 433, 363, 369], dtype=int32),\n array([361, 364, 436, 486, 417, 485], dtype=int32),\n array([364, 365, 441, 472, 486, 435], dtype=int32),\n array([366, 381, 492, 496, 438, 431], dtype=int32),\n array([450, 382, 381, 437, 496, 503], dtype=int32),\n array([362, 432, 498, 429, 368, 504], dtype=int32),\n array([442, 508, 506, 434, 370, 369], dtype=int32),\n array([365, 371, 513, 472, 436, 431], dtype=int32),\n array([440, 508, 370, 377, 444, 509], dtype=int32),\n array([501, 428, 375, 427, 497, 374], dtype=int32),\n array([449, 379, 377, 442, 509, 512], dtype=int32),\n array([453, 517, 511, 384, 395, 412, 458], dtype=int32),\n array([420, 349, 380, 523, 430, 500, 526], dtype=int32),\n array([392, 387, 460, 448, 519, 514], dtype=int32),\n array([387, 447, 388, 452, 515, 514], dtype=int32),\n array([412, 379, 444, 458, 510, 512], dtype=int32),\n array([385, 451, 382, 438, 507, 503], dtype=int32),\n array([454, 487, 386, 385, 450, 507], dtype=int32),\n array([448, 388, 389, 515, 455, 520, 536], dtype=int32),\n array([445, 517, 518, 459, 384, 390], dtype=int32),\n array([487, 451, 386, 391, 460, 527, 533], dtype=int32),\n array([389, 393, 452, 461, 520, 521], dtype=int32),\n array([3048, 2325, 1535,  844, 1926,  647,  187,   90,  575,  535,  255,\n         400,  332,  464,  534], dtype=int32),\n array([ 98, 405, 524, 516, 465, 553], dtype=int32),\n array([412, 449, 511, 445, 510], dtype=int32),\n array([518, 453, 390, 398, 525, 466], dtype=int32),\n array([392, 447, 391, 519, 533, 454], dtype=int32),\n array([401, 393, 467, 528, 521, 455], dtype=int32),\n array([397, 464, 530, 394, 421, 484, 529], dtype=int32),\n array([531, 532, 490, 483, 415, 373, 422], dtype=int32),\n array([400, 456, 534, 397, 530, 462], dtype=int32),\n array([406, 469, 538, 524, 405, 457], dtype=int32),\n array([525, 459, 491, 407, 398], dtype=int32),\n array([461, 528, 401, 402, 468, 542], dtype=int32),\n array([543, 473, 403, 402, 467, 542], dtype=int32),\n array([406, 409, 465, 538, 476, 544], dtype=int32),\n array([500, 430, 396, 399, 471, 540, 541], dtype=int32),\n array([470, 399, 478, 541, 546], dtype=int32),\n array([513, 557, 441, 436, 486], dtype=int32),\n array([543, 547, 468, 403, 493, 423], dtype=int32),\n array([480, 548, 493, 547, 413, 424], dtype=int32),\n array([555, 537, 480, 488, 404, 408], dtype=int32),\n array([545, 477, 409, 469, 544, 410], dtype=int32),\n array([411, 481, 545, 476, 549, 410], dtype=int32),\n array([551, 479, 358, 357, 399, 471, 546], dtype=int32),\n array([358, 417, 552, 551, 485, 478], dtype=int32),\n array([548, 537, 474, 413, 475, 408], dtype=int32),\n array([482, 550, 477, 411, 549, 414], dtype=int32),\n array([550, 481, 483, 522, 419, 556, 414], dtype=int32),\n array([531, 522, 419, 415, 482, 463], dtype=int32),\n array([421, 489, 462, 529], dtype=int32),\n array([552, 554, 486, 435, 479, 417], dtype=int32),\n array([554, 557, 472, 436, 435, 485], dtype=int32),\n array([574, 527, 454, 451, 507], dtype=int32),\n array([418, 404, 475, 489, 560, 555], dtype=int32),\n array([561, 560, 421, 484, 418, 529, 488], dtype=int32),\n array([463, 532, 425, 494, 562, 422], dtype=int32),\n array([563, 495, 594, 407, 525, 466], dtype=int32),\n array([558, 559, 496, 437, 513, 431], dtype=int32),\n array([473, 547, 423, 474, 424], dtype=int32),\n array([426, 497, 566, 425, 490, 562], dtype=int32),\n array([420, 523, 416, 539, 563, 491, 407], dtype=int32),\n array([564, 559, 492, 437, 438, 503], dtype=int32),\n array([494, 426, 427, 572, 566, 501, 443], dtype=int32),\n array([439, 429, 568, 567, 499, 504], dtype=int32),\n array([577, 505, 498, 429, 568, 433], dtype=int32),\n array([430, 446, 526, 597, 601, 470, 540], dtype=int32),\n array([428, 502, 573, 572, 497, 443], dtype=int32),\n array([504, 432, 576, 573, 428, 501], dtype=int32),\n array([564, 496, 438, 450, 570, 507], dtype=int32),\n array([502, 432, 498, 567, 439, 576], dtype=int32),\n array([434, 506, 608, 577, 433, 499], dtype=int32),\n array([578, 508, 434, 505, 440, 608], dtype=int32),\n array([450, 451, 574, 570, 487, 503], dtype=int32),\n array([580, 578, 440, 442, 506, 509], dtype=int32),\n array([444, 442, 580, 508, 583, 512], dtype=int32),\n array([579, 581, 511, 458, 449, 512], dtype=int32),\n array([445, 517, 584, 581, 458, 510], dtype=int32),\n array([510, 579, 509, 444, 449, 583], dtype=int32),\n array([557, 472, 569, 441, 558, 492, 431], dtype=int32),\n array([515, 448, 447, 519, 585, 582], dtype=int32),\n array([452, 448, 585, 603, 514, 536], dtype=int32),\n array([457, 524, 589, 553], dtype=int32),\n array([445, 453, 518, 511, 584, 586], dtype=int32),\n array([453, 517, 459, 525, 590, 586], dtype=int32),\n array([460, 447, 587, 582, 533, 514], dtype=int32),\n array([588, 613, 521, 452, 455, 536], dtype=int32),\n array([461, 528, 520, 588, 591, 455], dtype=int32),\n array([531, 593, 483, 482, 556], dtype=int32),\n array([420, 495, 539, 595, 446, 526, 596], dtype=int32),\n array([457, 516, 589, 465, 538, 592], dtype=int32),\n array([590, 594, 491, 518, 459, 466], dtype=int32),\n array([446, 523, 500, 596, 597], dtype=int32),\n array([574, 487, 645, 602, 533, 454], dtype=int32),\n array([461, 467, 542, 521, 591, 598], dtype=int32),\n array([561, 565, 530, 489, 484, 462], dtype=int32),\n array([571, 565, 534, 464, 462, 529], dtype=int32),\n array([593, 522, 483, 463, 532, 599], dtype=int32),\n array([531, 463, 490, 599, 600, 562], dtype=int32),\n array([519, 460, 587, 602, 527, 454], dtype=int32),\n array([605, 535, 571, 456, 464, 530], dtype=int32),\n array([575, 456, 605, 534], dtype=int32),\n array([452, 520, 515, 603, 613], dtype=int32),\n array([621, 604, 555, 548, 480, 475], dtype=int32),\n array([465, 469, 524, 544, 619, 592], dtype=int32),\n array([523, 495, 563, 609, 595], dtype=int32),\n array([500, 601, 470, 541, 610], dtype=int32),\n array([470, 471, 540, 610, 612, 546], dtype=int32),\n array([611, 543, 468, 467, 528, 598], dtype=int32),\n array([473, 547, 614, 611, 468, 542], dtype=int32),\n array([538, 469, 619, 476, 545], dtype=int32),\n array([476, 477, 629, 619, 549, 544], dtype=int32),\n array([478, 551, 541, 612, 471, 616], dtype=int32),\n array([543, 473, 614, 615, 493, 548, 474], dtype=int32),\n array([537, 604, 615, 547, 480, 474], dtype=int32),\n array([477, 481, 545, 550, 629, 630], dtype=int32),\n array([482, 481, 556, 606, 549, 630], dtype=int32),\n array([616, 617, 552, 479, 478, 546], dtype=int32),\n array([620, 554, 617, 551, 479, 485], dtype=int32),\n array([589, 618, 516, 457,  98], dtype=int32),\n array([557, 623, 486, 620, 552, 485], dtype=int32),\n array([621, 622, 537, 560, 475, 488], dtype=int32),\n array([482, 522, 550, 606, 593, 639], dtype=int32),\n array([624, 623, 569, 513, 472, 554, 486], dtype=int32),\n array([569, 625, 633, 559, 492, 513], dtype=int32),\n array([496, 564, 626, 633, 558, 492], dtype=int32),\n array([627, 622, 561, 489, 555, 488], dtype=int32),\n array([560, 489, 627, 628, 565, 529], dtype=int32),\n array([566, 631, 607, 494, 490, 600, 532], dtype=int32),\n array([539, 495, 609, 491, 594], dtype=int32),\n array([496, 559, 626, 634, 570, 503], dtype=int32),\n array([628, 561, 571, 635, 530, 529], dtype=int32),\n array([572, 497, 494, 641, 631, 562], dtype=int32),\n array([636, 651, 498, 568, 504, 576], dtype=int32),\n array([498, 567, 577, 643, 636, 499], dtype=int32),\n array([558, 625, 624, 557, 513], dtype=int32),\n array([574, 644, 634, 564, 507, 503], dtype=int32),\n array([635, 565, 534, 605, 530, 638], dtype=int32),\n array([566, 497, 641, 642, 573, 501], dtype=int32),\n array([642, 648, 572, 502, 576, 501], dtype=int32),\n array([644, 570, 487, 527, 645, 507], dtype=int32),\n array([646, 647, 456, 535, 605], dtype=int32),\n array([502, 573, 648, 504, 567, 651], dtype=int32),\n array([649, 643, 608, 505, 568, 499], dtype=int32),\n array([580, 508, 652, 650, 506, 608], dtype=int32),\n array([632, 581, 658, 510, 583, 512], dtype=int32),\n array([578, 508, 652, 654, 509, 583], dtype=int32),\n array([511, 584, 655, 632, 579, 510], dtype=int32),\n array([587, 519, 585, 656, 653, 514], dtype=int32),\n array([654, 658, 579, 580, 509, 512], dtype=int32),\n array([511, 517, 581, 586, 655, 662, 637], dtype=int32),\n array([659, 603, 656, 582, 515, 514], dtype=int32),\n array([584, 517, 518, 590, 637], dtype=int32),\n array([519, 582, 653, 533, 602], dtype=int32),\n array([591, 667, 666, 613, 520, 521], dtype=int32),\n array([524, 516, 660, 618, 661, 553, 592], dtype=int32),\n array([594, 669, 525, 518, 668, 586, 637], dtype=int32),\n array([588, 667, 671, 521, 528, 598], dtype=int32),\n array([538, 524, 589, 661, 657, 619], dtype=int32),\n array([531, 522, 599, 684, 556, 639], dtype=int32),\n array([563, 609, 491, 590, 669, 525, 663], dtype=int32),\n array([539, 609, 523, 664, 687, 596], dtype=int32),\n array([526, 523, 595, 670, 689, 687, 597], dtype=int32),\n array([500, 601, 526, 596, 670, 673], dtype=int32),\n array([542, 611, 671, 674, 591, 528], dtype=int32),\n array([531, 593, 685, 640, 532, 684, 600], dtype=int32),\n array([686, 640, 599, 532, 607, 562], dtype=int32),\n array([597, 500, 673, 540, 610, 676], dtype=int32),\n array([645, 527, 533, 587, 653, 665], dtype=int32),\n array([659, 585, 681, 613, 515, 536], dtype=int32),\n array([621, 682, 537, 615, 548], dtype=int32),\n array([575, 646, 535, 534, 571, 638], dtype=int32),\n array([680, 675, 556, 550, 639, 630], dtype=int32),\n array([686, 693, 600, 631, 562], dtype=int32),\n array([577, 505, 506, 578, 650, 649], dtype=int32),\n array([563, 539, 595, 664, 594, 663], dtype=int32),\n array([688, 612, 541, 540, 601, 676], dtype=int32),\n array([614, 543, 542, 672, 674, 598], dtype=int32),\n array([690, 616, 688, 610, 541, 546], dtype=int32),\n array([588, 666, 681, 603, 520, 536], dtype=int32),\n array([543, 547, 615, 679, 611, 672], dtype=int32),\n array([682, 604, 679, 614, 547, 548], dtype=int32),\n array([617, 691, 551, 690, 612, 546], dtype=int32),\n array([616, 691, 552, 620, 551, 694], dtype=int32),\n array([1973, 1744, 3218,  660,  692, 1589, 1291,  589,  553,   98],\n       dtype=int32),\n array([545, 629, 701, 683, 657, 538, 544, 592], dtype=int32),\n array([554, 623, 552, 617, 695, 694], dtype=int32),\n array([682, 737, 604, 537, 696, 622, 555], dtype=int32),\n array([627, 700, 696, 621, 560, 555], dtype=int32),\n array([557, 624, 698, 554, 620, 695], dtype=int32),\n array([557, 623, 699, 625, 698, 569], dtype=int32),\n array([699, 624, 703, 569, 558, 633], dtype=int32),\n array([634, 677, 564, 559, 633], dtype=int32),\n array([622, 700, 560, 561, 628, 705], dtype=int32),\n array([561, 565, 627, 635, 706, 705], dtype=int32),\n array([545, 619, 701, 702, 549, 630], dtype=int32),\n array([549, 629, 702, 675, 606, 550], dtype=int32),\n array([693, 710, 641, 566, 607, 562], dtype=int32),\n array([655, 707, 581, 579, 658, 697], dtype=int32),\n array([626, 677, 703, 625, 558, 559, 704], dtype=int32),\n array([644, 570, 678, 677, 626, 564], dtype=int32),\n array([706, 708, 571, 565, 628, 638], dtype=int32),\n array([651, 567, 712, 643, 568, 750], dtype=int32),\n array([668, 590, 586, 662, 584], dtype=int32),\n array([605, 571, 635, 708, 709, 646], dtype=int32),\n array([606, 680, 684, 593, 556], dtype=int32),\n array([686, 685, 600, 599], dtype=int32),\n array([631, 710, 711, 566, 572, 642], dtype=int32),\n array([641, 572, 711, 573, 648, 744], dtype=int32),\n array([717, 712, 649, 577, 636, 568], dtype=int32),\n array([713, 714, 574, 570, 678, 645, 634], dtype=int32),\n array([644, 714, 574, 527, 602, 665, 718], dtype=int32),\n array([647, 716, 709, 575, 605, 638], dtype=int32),\n array([456, 844, 646, 716, 719, 575], dtype=int32),\n array([642, 573, 744, 576, 651, 720], dtype=int32),\n array([717, 643, 577, 608, 650, 721], dtype=int32),\n array([578, 652, 608, 649, 722, 721], dtype=int32),\n array([636, 567, 750, 576, 648, 720], dtype=int32),\n array([578, 650, 580, 654, 722, 723], dtype=int32),\n array([656, 715, 587, 582, 602, 732, 665], dtype=int32),\n array([652, 580, 724, 658, 723, 583], dtype=int32),\n array([584, 662, 632, 707, 581, 725], dtype=int32),\n array([585, 582, 659, 726, 715, 653], dtype=int32),\n array([740, 661, 741, 683, 619, 592], dtype=int32),\n array([724, 654, 579, 632, 767, 697, 583], dtype=int32),\n array([585, 603, 656, 726, 733, 681], dtype=int32),\n array([661, 739, 692, 618, 589, 727], dtype=int32),\n array([660, 739, 740, 657, 589, 592], dtype=int32),\n array([655, 584, 637, 668, 725, 728], dtype=int32),\n array([731, 664, 609, 594, 669, 730], dtype=int32),\n array([687, 758, 595, 609, 731, 663], dtype=int32),\n array([602, 645, 653, 732, 718], dtype=int32),\n array([588, 613, 667, 734, 733, 681], dtype=int32),\n array([588, 591, 671, 666, 734, 735], dtype=int32),\n array([669, 729, 590, 637, 662, 728], dtype=int32),\n array([730, 729, 590, 594, 668, 663], dtype=int32),\n array([746, 689, 596, 597, 673], dtype=int32),\n array([591, 667, 735, 748, 674, 598], dtype=int32),\n array([614, 611, 674, 743, 679, 736], dtype=int32),\n array([670, 746, 751, 597, 601, 676], dtype=int32),\n array([611, 672, 736, 748, 671, 598], dtype=int32),\n array([606, 680, 753, 702, 754, 630], dtype=int32),\n array([751, 759, 673, 688, 610, 601], dtype=int32),\n array([634, 678, 626, 755, 752, 633, 704], dtype=int32),\n array([644, 713, 634, 677, 755], dtype=int32),\n array([615, 682, 749, 743, 614, 672], dtype=int32),\n array([684, 756, 606, 675, 639, 754], dtype=int32),\n array([666, 733, 659, 613, 603], dtype=int32),\n array([621, 737, 604, 615, 679, 749], dtype=int32),\n array([741, 701, 657, 619], dtype=int32),\n array([756, 757, 680, 685, 599, 593, 639], dtype=int32),\n array([760, 757, 684, 686, 640, 599], dtype=int32),\n array([685, 640, 760, 600, 607, 693, 764], dtype=int32),\n array([758, 742, 689, 664, 595, 596], dtype=int32),\n array([759, 762, 690, 612, 610, 676], dtype=int32),\n array([745, 742, 687, 746, 670, 596], dtype=int32),\n array([688, 762, 616, 691, 612, 763], dtype=int32),\n array([616, 617, 690, 694, 765, 763], dtype=int32),\n array([1172, 1014,  660,  618, 1291,  942,  874,  799,  738,  727],\n       dtype=int32),\n array([631, 710, 686, 607, 764], dtype=int32),\n array([620, 617, 695, 691, 765, 769], dtype=int32),\n array([698, 623, 620, 769, 770, 694], dtype=int32),\n array([621, 622, 700, 737, 775, 771], dtype=int32),\n array([632, 658, 707, 767, 768], dtype=int32),\n array([747, 770, 699, 624, 623, 695], dtype=int32),\n array([774, 747, 624, 625, 698, 703], dtype=int32),\n array([622, 627, 696, 771, 705, 772], dtype=int32),\n array([792, 741, 619, 629, 702, 683, 773], dtype=int32),\n array([753, 675, 629, 701, 773, 630], dtype=int32),\n array([699, 625, 774, 778, 752, 633, 704], dtype=int32),\n array([703, 752, 633, 677], dtype=int32),\n array([628, 627, 706, 700, 776, 772], dtype=int32),\n array([776, 779, 708, 635, 628, 705], dtype=int32),\n array([632, 655, 697, 725, 768], dtype=int32),\n array([780, 779, 709, 706, 635, 638], dtype=int32),\n array([646, 716, 780, 708, 781, 638], dtype=int32),\n array([693, 631, 641, 711, 787, 764], dtype=int32),\n array([641, 710, 642, 744, 787, 793], dtype=int32),\n array([717, 643, 784, 761, 636, 750], dtype=int32),\n array([644, 714, 678, 782, 826, 755], dtype=int32),\n array([713, 644, 782, 786, 645, 718], dtype=int32),\n array([726, 789, 656, 653, 732], dtype=int32),\n array([646, 647, 719, 709, 781, 783], dtype=int32),\n array([712, 643, 784, 649, 785, 721], dtype=int32),\n array([732, 788, 665, 786, 714, 645], dtype=int32),\n array([647, 844, 716, 791, 783], dtype=int32),\n array([750, 651, 648, 744, 766], dtype=int32),\n array([785, 794, 722, 650, 717, 649], dtype=int32),\n array([794, 795, 652, 650, 721, 723], dtype=int32),\n array([722, 652, 654, 724, 795, 798], dtype=int32),\n array([654, 658, 767, 723, 846, 798], dtype=int32),\n array([655, 662, 707, 728, 800, 777, 768], dtype=int32),\n array([789, 715, 659, 733, 656, 790], dtype=int32),\n array([805, 806, 739, 692, 738, 660], dtype=int32),\n array([800, 808, 725, 729, 668, 662], dtype=int32),\n array([669, 730, 668, 801, 808, 728], dtype=int32),\n array([669, 729, 731, 802, 663, 801], dtype=int32),\n array([758, 831, 664, 802, 730, 663], dtype=int32),\n array([653, 715, 789, 843, 788, 665, 718], dtype=int32),\n array([666, 734, 726, 659, 790, 681, 796], dtype=int32),\n array([666, 667, 733, 735, 797, 796], dtype=int32),\n array([671, 667, 734, 748, 820, 797], dtype=int32),\n array([810, 743, 672, 674, 804, 748], dtype=int32),\n array([682, 621, 749, 821, 822, 775, 696], dtype=int32),\n array([799, 692, 805, 727], dtype=int32),\n array([660, 661, 740, 807, 806, 727], dtype=int32),\n array([661, 739, 741, 811, 807, 657], dtype=int32),\n array([792, 701, 740, 811, 657, 683], dtype=int32),\n array([745, 689, 758, 687, 812, 809], dtype=int32),\n array([749, 813, 679, 810, 672, 736], dtype=int32),\n array([642, 648, 711, 720, 793, 824, 766], dtype=int32),\n array([742, 689, 746, 816, 812], dtype=int32),\n array([745, 689, 816, 817, 670, 751, 673], dtype=int32),\n array([803, 770, 774, 699, 698], dtype=int32),\n array([735, 671, 736, 804, 674, 820], dtype=int32),\n array([682, 737, 821, 679, 813, 743], dtype=int32),\n array([833, 761, 712, 636, 651, 830, 720, 766], dtype=int32),\n array([817, 746, 818, 759, 673, 676], dtype=int32),\n array([755, 677, 819, 778, 703, 704], dtype=int32),\n array([702, 675, 823, 814, 754, 773], dtype=int32),\n array([828, 756, 823, 680, 675, 753], dtype=int32),\n array([678, 713, 826, 677, 819, 752], dtype=int32),\n array([684, 757, 680, 829, 828, 754], dtype=int32),\n array([756, 684, 685, 760, 832, 829], dtype=int32),\n array([687, 742, 664, 809, 831, 731], dtype=int32),\n array([834, 762, 688, 818, 751, 676], dtype=int32),\n array([685, 757, 686, 764, 836, 832], dtype=int32),\n array([845, 784, 712, 833, 750], dtype=int32),\n array([835, 834, 759, 688, 690, 763], dtype=int32),\n array([835, 762, 690, 765, 837, 691], dtype=int32),\n array([787, 840, 836, 693, 710, 760, 686], dtype=int32),\n array([841, 837, 769, 694, 691, 763], dtype=int32),\n array([720, 744, 830, 824, 750], dtype=int32),\n array([724, 658, 697, 846, 850, 815, 768], dtype=int32),\n array([851, 777, 815, 725, 707, 767, 697], dtype=int32),\n array([842, 770, 841, 765, 695, 694], dtype=int32),\n array([747, 803, 842, 769, 698, 825, 695], dtype=int32),\n array([854, 775, 696, 700, 772], dtype=int32),\n array([771, 854, 705, 776, 700, 855], dtype=int32),\n array([702, 753, 814, 792, 701, 869], dtype=int32),\n array([848, 847, 803, 747, 699, 703, 778], dtype=int32),\n array([822, 737, 696, 854, 771], dtype=int32),\n array([706, 779, 838, 705, 772, 855], dtype=int32),\n array([725, 800, 860, 851, 768], dtype=int32),\n array([703, 774, 752, 848, 852, 819], dtype=int32),\n array([780, 864, 708, 776, 706, 838], dtype=int32),\n array([864, 779, 708, 709, 868, 781], dtype=int32),\n array([709, 716, 780, 868, 827, 783], dtype=int32),\n array([857, 858, 786, 826, 713, 714], dtype=int32),\n array([827, 839, 791, 719, 716, 781], dtype=int32),\n array([712, 717, 845, 761, 870, 785], dtype=int32),\n array([794, 871, 870, 784, 717, 721], dtype=int32),\n array([861, 858, 788, 782, 714, 718], dtype=int32),\n array([711, 710, 764, 840, 895, 793, 849], dtype=int32),\n array([861, 786, 843, 732, 718], dtype=int32),\n array([843, 866, 726, 715, 790, 859, 732], dtype=int32),\n array([726, 733, 789, 859, 862, 796], dtype=int32),\n array([719, 844, 839, 783], dtype=int32),\n array([741, 701, 811, 865, 869, 773], dtype=int32),\n array([787, 711, 744, 824, 849], dtype=int32),\n array([872, 871, 856, 795, 722, 785, 721], dtype=int32),\n array([856, 794, 722, 723, 798], dtype=int32),\n array([862, 863, 734, 733, 790, 797], dtype=int32),\n array([735, 734, 820, 863, 873, 796], dtype=int32),\n array([723, 724, 846, 795, 881, 856], dtype=int32),\n array([877, 874, 692, 738, 805], dtype=int32),\n array([882, 808, 860, 728, 725, 777], dtype=int32),\n array([875, 802, 808, 729, 883, 730], dtype=int32),\n array([731, 831, 730, 875, 801], dtype=int32),\n array([892, 847, 747, 770, 774, 825], dtype=int32),\n array([736, 810, 876, 748, 820, 867], dtype=int32),\n array([878, 877, 799, 738, 806, 727], dtype=int32),\n array([807, 739, 879, 878, 805, 727], dtype=int32),\n array([880, 811, 740, 739, 879, 806], dtype=int32),\n array([882, 800, 883, 801, 729, 728], dtype=int32),\n array([758, 742, 812, 831, 885, 884], dtype=int32),\n array([743, 813, 736, 804, 876, 887], dtype=int32),\n array([740, 741, 792, 880, 807, 865], dtype=int32),\n array([745, 742, 816, 886, 885, 809], dtype=int32),\n array([821, 888, 749, 743, 810, 887], dtype=int32),\n array([894, 869, 823, 753, 773], dtype=int32),\n array([850, 767, 851, 768], dtype=int32),\n array([745, 746, 812, 889, 886, 817], dtype=int32),\n array([746, 816, 889, 890, 751, 818], dtype=int32),\n array([817, 890, 834, 759, 751], dtype=int32),\n array([853, 852, 826, 755, 752, 778], dtype=int32),\n array([748, 804, 735, 867, 873, 797], dtype=int32),\n array([888, 893, 813, 749, 737, 822], dtype=int32),\n array([821, 893, 737, 775, 854, 898], dtype=int32),\n array([894, 899, 828, 814, 753, 754], dtype=int32),\n array([901, 900, 830, 793, 744, 766, 849], dtype=int32),\n array([913, 892, 842, 803, 770], dtype=int32),\n array([857, 853, 819, 782, 713, 755], dtype=int32),\n array([839, 904, 868, 781, 783], dtype=int32),\n array([823, 899, 829, 756, 754, 906], dtype=int32),\n array([828, 756, 832, 907, 757, 906], dtype=int32),\n array([901, 824, 750, 833, 909, 766], dtype=int32),\n array([758, 809, 884, 731, 802, 875], dtype=int32),\n array([836, 760, 757, 911, 907, 829], dtype=int32),\n array([761, 845, 912, 909, 750, 830], dtype=int32),\n array([952, 890, 891, 835, 762, 759, 818], dtype=int32),\n array([896, 837, 891, 834, 762, 763], dtype=int32),\n array([764, 840, 760, 911, 960, 832, 908], dtype=int32),\n array([897, 896, 841, 765, 835, 763], dtype=int32),\n array([864, 779, 776, 910, 903, 855], dtype=int32),\n array([904, 905, 791, 844, 827, 783], dtype=int32),\n array([764, 787, 836, 895, 908], dtype=int32),\n array([842, 902, 769, 897, 837, 765], dtype=int32),\n array([913, 902, 769, 770, 825, 841], dtype=int32),\n array([866, 926, 789, 861, 788, 923, 732], dtype=int32),\n array([ 456, 1535,  647, 1306,  719,  791, 1057,  986,  914,  905, 1201,\n         839], dtype=int32),\n array([761, 784, 870, 833, 912], dtype=int32),\n array([767, 724, 919, 881, 798, 850], dtype=int32),\n array([848, 915, 892, 803, 774], dtype=int32),\n array([852, 917, 915, 847, 774, 778], dtype=int32),\n array([895, 787, 793, 900, 824], dtype=int32),\n array([846, 767, 919, 920, 815, 851], dtype=int32),\n array([777, 860, 924, 920, 850, 815, 768], dtype=int32),\n array([848, 917, 819, 853, 921, 778], dtype=int32),\n array([819, 852, 921, 826, 857, 922], dtype=int32),\n array([822, 775, 771, 898, 974, 772, 855, 928], dtype=int32),\n array([903, 975, 772, 854, 776, 838, 928], dtype=int32),\n array([881, 918, 872, 794, 795, 798], dtype=int32),\n array([826, 853, 782, 858, 925, 922], dtype=int32),\n array([861, 929, 786, 857, 782, 925], dtype=int32),\n array([927, 866, 930, 789, 790, 862], dtype=int32),\n array([882, 932, 800, 924, 777, 851], dtype=int32),\n array([929, 858, 786, 788, 843, 923], dtype=int32),\n array([863, 931, 930, 859, 790, 796], dtype=int32),\n array([933, 931, 873, 862, 797, 796], dtype=int32),\n array([780, 779, 934, 985, 838, 868, 910], dtype=int32),\n array([792, 869, 936, 935, 811, 880], dtype=int32),\n array([843, 926, 789, 927, 859], dtype=int32),\n array([876, 940, 820, 873, 804, 938], dtype=int32),\n array([976, 934, 904, 864, 780, 781, 827], dtype=int32),\n array([894, 939, 936, 865, 792, 814, 773], dtype=int32),\n array([845, 784, 871, 937, 987, 912, 785], dtype=int32),\n array([941, 937, 870, 872, 794, 785], dtype=int32),\n array([918, 949, 941, 871, 794, 856], dtype=int32),\n array([933, 863, 820, 867, 797, 938], dtype=int32),\n array([943, 942, 692, 877, 799], dtype=int32),\n array([945, 884, 831, 802, 801, 883, 916], dtype=int32),\n array([810, 804, 940, 954, 887, 867], dtype=int32),\n array([943, 874, 944, 799, 878, 805], dtype=int32),\n array([944, 947, 879, 877, 806, 805], dtype=int32),\n array([807, 880, 948, 947, 878, 806], dtype=int32),\n array([807, 811, 948, 935, 865, 879], dtype=int32),\n array([856, 918, 971, 919, 846, 798], dtype=int32),\n array([800, 808, 883, 963, 932, 860], dtype=int32),\n array([882, 808, 963, 972, 801, 875, 916], dtype=int32),\n array([950, 885, 809, 831, 945, 875], dtype=int32),\n array([951, 950, 884, 886, 812, 809], dtype=int32),\n array([956, 951, 885, 889, 816, 812], dtype=int32),\n array([955, 954, 876, 810, 888, 813], dtype=int32),\n array([821, 893, 813, 966, 955, 887], dtype=int32),\n array([964, 890, 956, 886, 816, 817], dtype=int32),\n array([952, 946, 964, 889, 817, 834, 818], dtype=int32),\n array([896, 953, 952, 835, 834], dtype=int32),\n array([980, 973, 915, 847, 803, 913, 825], dtype=int32),\n array([888, 821, 967, 966, 822, 898], dtype=int32),\n array([899, 968, 939, 869, 823, 814], dtype=int32),\n array([962, 900, 787, 840, 908, 849, 961], dtype=int32),\n array([897, 837, 957, 953, 891, 835], dtype=int32),\n array([896, 837, 957, 841, 902, 958], dtype=int32),\n array([854, 822, 967, 893, 974], dtype=int32),\n array([969, 968, 894, 823, 828, 906], dtype=int32),\n array([824, 901, 970, 962, 895, 849], dtype=int32),\n array([979, 909, 824, 900, 970, 830], dtype=int32),\n array([913, 965, 842, 841, 897, 958], dtype=int32),\n array([981, 975, 910, 838, 855], dtype=int32),\n array([905, 977, 976, 868, 839, 827], dtype=int32),\n array([982, 977, 914, 844, 904, 839], dtype=int32),\n array([969, 899, 828, 978, 907, 829], dtype=int32),\n array([983, 978, 911, 832, 829, 906], dtype=int32),\n array([895, 840, 836, 960, 961], dtype=int32),\n array([984, 979, 901, 912, 833, 830], dtype=int32),\n array([985, 981, 864, 838, 903], dtype=int32),\n array([983, 959, 907, 960, 836, 832], dtype=int32),\n array([870, 845, 987, 984, 909, 833], dtype=int32),\n array([965, 902, 892, 973, 842, 825], dtype=int32),\n array([905, 844, 982, 986], dtype=int32),\n array([848, 917, 847, 990, 980, 892], dtype=int32),\n array([883, 972, 875, 988, 945], dtype=int32),\n array([848, 852, 915, 990, 921, 991], dtype=int32),\n array([ 872,  949, 1003,  856,  881,  971], dtype=int32),\n array([971, 881, 920, 993, 997, 846, 850], dtype=int32),\n array([993, 998, 919, 924, 850, 851], dtype=int32),\n array([853, 852, 917, 991, 994, 922], dtype=int32),\n array([ 857,  853,  925,  921,  994, 1000], dtype=int32),\n array([861, 929, 996, 926, 843, 995], dtype=int32),\n array([860, 932, 920, 998, 999, 851], dtype=int32),\n array([ 929,  858,  857, 1004,  922, 1000], dtype=int32),\n array([ 843,  866,  927, 1001,  996,  923], dtype=int32),\n array([ 866,  926, 1017,  930, 1016, 1001,  859], dtype=int32),\n array([1006,  975,  855,  854,  974], dtype=int32),\n array([ 861,  858,  925, 1004,  995,  923], dtype=int32),\n array([1017,  931,  927,  859,  862], dtype=int32),\n array([1017,  930, 1024,  863,  933,  862], dtype=int32),\n array([882, 963, 999, 860, 924], dtype=int32),\n array([1030, 1005,  863,  931,  873, 1024,  938], dtype=int32),\n array([1044, 1045,  976,  985,  864,  868], dtype=int32),\n array([ 948,  880,  865,  936, 1007, 1002], dtype=int32),\n array([ 939,  869, 1010,  865,  935, 1007], dtype=int32),\n array([ 871,  941,  870,  987, 1015,  992], dtype=int32),\n array([ 867,  940,  873, 1005, 1013,  933], dtype=int32),\n array([ 894,  869,  936, 1010,  968, 1011], dtype=int32),\n array([1018, 1013,  954,  876,  867,  938], dtype=int32),\n array([ 871,  937,  872,  949, 1015, 1047], dtype=int32),\n array([1019, 1014,  943,  874,  692], dtype=int32),\n array([1019, 1020,  944,  942,  874,  877], dtype=int32),\n array([ 943, 1020, 1025,  947,  877,  878], dtype=int32),\n array([ 950, 1008,  884,  988,  875,  916], dtype=int32),\n array([ 952,  890,  964, 1027, 1021], dtype=int32),\n array([1025,  944, 1026,  948,  879,  878], dtype=int32),\n array([1026,  947,  880,  935,  879, 1002], dtype=int32),\n array([ 872,  918,  941, 1003, 1047], dtype=int32),\n array([ 951, 1009,  885,  884, 1008,  945], dtype=int32),\n array([1009,  989,  956,  950,  885,  886], dtype=int32),\n array([ 946,  890, 1021, 1022,  953,  891,  834], dtype=int32),\n array([1028,  957,  896,  891, 1022,  952], dtype=int32),\n array([1018,  940,  955, 1031,  876,  887], dtype=int32),\n array([ 966, 1033,  888, 1031,  954,  887], dtype=int32),\n array([ 889,  964, 1041,  989,  951, 1049,  886], dtype=int32),\n array([ 896,  897,  958, 1028,  953, 1029], dtype=int32),\n array([ 897,  957,  902,  965, 1038, 1029], dtype=int32),\n array([ 960, 1034,  983,  911], dtype=int32),\n array([1034,  959, 1035,  911,  836,  908,  961], dtype=int32),\n array([ 895,  962,  908, 1036, 1035,  960], dtype=int32),\n array([1037, 1036,  970,  900,  895,  961], dtype=int32),\n array([1040,  972, 1012,  883,  882,  932,  999], dtype=int32),\n array([ 946,  890,  889, 1027, 1049,  956], dtype=int32),\n array([ 913,  902,  973, 1042, 1038,  958], dtype=int32),\n array([ 967,  893, 1039,  888, 1033,  955], dtype=int32),\n array([1039, 1043,  966,  893,  974,  898], dtype=int32),\n array([ 899,  969,  894,  939, 1093, 1086, 1011], dtype=int32),\n array([ 899,  968,  978, 1063,  906, 1093], dtype=int32),\n array([ 901,  979, 1046, 1037,  900,  962], dtype=int32),\n array([ 881,  918, 1003,  919, 1060,  997], dtype=int32),\n array([ 988, 1048, 1040,  963,  883,  916], dtype=int32),\n array([ 892,  980,  913,  965, 1042, 1050], dtype=int32),\n array([1082, 1043,  967,  898,  854, 1006,  928], dtype=int32),\n array([1083, 1006,  903,  981, 1051,  855,  928], dtype=int32),\n array([ 934, 1045, 1052,  977,  904,  868], dtype=int32),\n array([ 905,  982, 1053, 1052,  976,  904], dtype=int32),\n array([ 969, 1063,  983,  907, 1065,  906], dtype=int32),\n array([ 984,  909, 1054, 1046,  901,  970], dtype=int32),\n array([ 892,  973,  915,  990, 1061, 1050], dtype=int32),\n array([ 985, 1055,  910,  903,  975, 1051], dtype=int32),\n array([ 905,  977, 1053,  914,  986, 1056], dtype=int32),\n array([1034,  959,  978,  907,  911, 1065], dtype=int32),\n array([ 979,  909, 1054, 1058,  987,  912], dtype=int32),\n array([ 934, 1044,  864, 1055,  981,  910], dtype=int32),\n array([1057,  844,  914,  982, 1056], dtype=int32),\n array([1059, 1058,  984,  870,  937,  992,  912], dtype=int32),\n array([1074, 1008,  945, 1048,  972,  916], dtype=int32),\n array([1079, 1009, 1041,  951,  956], dtype=int32),\n array([ 915,  917,  980, 1061, 1075,  991, 1023], dtype=int32),\n array([ 921,  994,  990,  917, 1023, 1076, 1032], dtype=int32),\n array([ 987,  937, 1059, 1015], dtype=int32),\n array([1071, 1088,  998,  920,  919, 1066,  997], dtype=int32),\n array([ 991,  921,  922, 1000, 1062, 1032], dtype=int32),\n array([1004,  929, 1067,  996,  923], dtype=int32),\n array([1070, 1067,  995, 1001,  926,  923], dtype=int32),\n array([1066,  993,  919,  971, 1060], dtype=int32),\n array([1071,  993, 1072,  920,  999,  924], dtype=int32),\n array([1072,  998, 1073, 1012,  963,  932,  924], dtype=int32),\n ...]"
     },
     "execution_count": 145,
     "metadata": {},
     "output_type": "execute_result"
    }
   ],
   "source": [
    "neighbours"
   ],
   "metadata": {
    "collapsed": false,
    "pycharm": {
     "name": "#%%\n"
    }
   }
  },
  {
   "cell_type": "code",
   "execution_count": 193,
   "outputs": [],
   "source": [
    "import time"
   ],
   "metadata": {
    "collapsed": false,
    "pycharm": {
     "name": "#%%\n"
    }
   }
  },
  {
   "cell_type": "code",
   "execution_count": 196,
   "outputs": [],
   "source": [
    "# plt.figure()\n",
    "# plt.ion()\n",
    "trans_angle = np.angle(frame.translational_order)\n",
    "clusters = np.zeros(len(points))\n",
    "# scatt = plt.scatter(frame.x, frame.y, c=clusters, cmap='tab20', vmax=50)\n",
    "current_cluster = 1\n",
    "for i, (p, n) in enumerate(zip(points, neighbours)):\n",
    "    cluster_no_store = current_cluster\n",
    "    # Check to see if starting position is on a cluster\n",
    "    if clusters[i] == 0:\n",
    "        clusters[i] = current_cluster\n",
    "    else:\n",
    "        current_cluster = clusters[i]\n",
    "\n",
    "    # Check which neighbours have similar angles\n",
    "    current_angle = trans_angle[i]\n",
    "    neighbour_angles = trans_angle[n]\n",
    "    angle_differences = np.abs(current_angle - neighbour_angles)\n",
    "    n = n[angle_differences < 0.01]\n",
    "\n",
    "    # Check to see if neighbours are already in a cluster\n",
    "    neighbour_clusters = clusters[n]\n",
    "    equivalent_clusters = neighbour_clusters[np.nonzero(neighbour_clusters)]\n",
    "    equivalent_clusters = np.append(equivalent_clusters, current_cluster)\n",
    "\n",
    "    # Set the neighbours cluster values to the current cluster\n",
    "    clusters[n] = current_cluster\n",
    "\n",
    "    # Overwrite equivalent clusters\n",
    "    lowest_cluster = np.min(equivalent_clusters)\n",
    "    for j in range(len(equivalent_clusters)):\n",
    "        cluster_no_temp = equivalent_clusters[j]\n",
    "        ints = np.where(clusters == cluster_no_temp)\n",
    "        clusters[ints] = lowest_cluster\n",
    "\n",
    "    current_cluster = cluster_no_store + 1\n",
    "    # scatt.set_array(clusters)\n",
    "    # time.sleep(0.1)"
   ],
   "metadata": {
    "collapsed": false,
    "pycharm": {
     "name": "#%%\n"
    }
   }
  },
  {
   "cell_type": "code",
   "execution_count": 197,
   "outputs": [
    {
     "data": {
      "text/plain": "<matplotlib.collections.PathCollection at 0x7f55d036d940>"
     },
     "execution_count": 197,
     "metadata": {},
     "output_type": "execute_result"
    }
   ],
   "source": [
    "plt.subplot(1, 2, 1)\n",
    "plt.scatter(frame.x, frame.y, c=np.angle(frame.translational_order), cmap='hsv')\n",
    "plt.colorbar()\n",
    "plt.subplot(1, 2, 2)\n",
    "plt.scatter(frame.x, frame.y, c=clusters, cmap='tab20')"
   ],
   "metadata": {
    "collapsed": false,
    "pycharm": {
     "name": "#%%\n"
    }
   }
  },
  {
   "cell_type": "code",
   "execution_count": 205,
   "outputs": [],
   "source": [
    "from collections import deque"
   ],
   "metadata": {
    "collapsed": false,
    "pycharm": {
     "name": "#%%\n"
    }
   }
  },
  {
   "cell_type": "code",
   "execution_count": 226,
   "outputs": [],
   "source": [
    "def find_neighbours(points):\n",
    "    tess = spatial.Delaunay(points)\n",
    "    list_indices, points_indices = tess.vertex_neighbor_vertices\n",
    "    neighbours = [points_indices[i:j] for i, j in zip(list_indices[:-1], list_indices[1:])]\n",
    "    return neighbours\n",
    "\n",
    "def add_clusters(frame, angle_threshold):\n",
    "    trans_angle = np.angle(frame.translational_order)\n",
    "    clusters = np.zeros(len(points))\n",
    "    current_cluster = 1\n",
    "    unused_indexes = deque([i for i in range(len(frame))])\n",
    "    current_indexes = deque([])\n",
    "    neighbours_all_points = find_neighbours(frame[['x', 'y']].values)\n",
    "    while len(unused_indexes) > 0:\n",
    "        index = unused_indexes.popleft()\n",
    "        current_indexes.append(index)\n",
    "        # Go through the new queue\n",
    "        while len(current_indexes) > 0:\n",
    "            index = current_indexes.popleft()\n",
    "            clusters[index] = current_cluster\n",
    "            # Check which neighbours have similar angles\n",
    "            current_angle = trans_angle[index]\n",
    "            neighbours = neighbours_all_points[index]\n",
    "            neighbours_angles = trans_angle[neighbours]\n",
    "            angle_differences = np.abs(current_angle - neighbours_angles)\n",
    "            neighbours = neighbours[angle_differences < angle_threshold]\n",
    "\n",
    "            # Remove these from the first queue and add to the second queue\n",
    "            for n in neighbours:\n",
    "                if n in unused_indexes:\n",
    "                    unused_indexes.remove(n)\n",
    "                    current_indexes.append(n)\n",
    "        current_cluster += 1\n",
    "    frame['cluster'] = clusters\n",
    "    return frame\n"
   ],
   "metadata": {
    "collapsed": false,
    "pycharm": {
     "name": "#%%\n"
    }
   }
  },
  {
   "cell_type": "code",
   "execution_count": 263,
   "outputs": [],
   "source": [
    "frame_with_clusters = add_clusters(frame.copy(), 0.1)"
   ],
   "metadata": {
    "collapsed": false,
    "pycharm": {
     "name": "#%%\n"
    }
   }
  },
  {
   "cell_type": "code",
   "execution_count": 342,
   "outputs": [],
   "source": [
    "def plot_clusters(df):\n",
    "    plt.subplot(1, 2, 1)\n",
    "    plt.scatter(df.x, df.y, c=np.angle(df.translational_order), cmap='hsv')\n",
    "    def annotate(a):\n",
    "        if len(a) > 3:\n",
    "            hull = spatial.ConvexHull(a[['x', 'y']].values)\n",
    "            i = hull.vertices\n",
    "            i = np.append(i, hull.vertices[0])\n",
    "            plt.plot(a.x.values[i], a.y.values[i], 'r--')\n",
    "    df.groupby('cluster').apply(annotate)\n",
    "    plt.axis('equal')\n",
    "    plt.subplot(1, 2, 2)\n",
    "    plt.scatter(df.x, df.y, c=np.abs(df.hexatic_order), cmap='hsv')\n",
    "    df.groupby('cluster').apply(annotate)\n",
    "    plt.axis('equal')"
   ],
   "metadata": {
    "collapsed": false,
    "pycharm": {
     "name": "#%%\n"
    }
   }
  },
  {
   "cell_type": "markdown",
   "source": [
    "### Try checking pairs of neighbouring particles to make sure one has high hexatic order"
   ],
   "metadata": {
    "collapsed": false,
    "pycharm": {
     "name": "#%% md\n"
    }
   }
  },
  {
   "cell_type": "code",
   "execution_count": 331,
   "outputs": [],
   "source": [
    "def find_neighbours(points):\n",
    "    tess = spatial.Delaunay(points)\n",
    "    list_indices, points_indices = tess.vertex_neighbor_vertices\n",
    "    neighbours = [points_indices[i:j] for i, j in zip(list_indices[:-1], list_indices[1:])]\n",
    "    return neighbours\n",
    "\n",
    "def add_clusters(frame, angle_threshold, hexatic_threshold):\n",
    "    trans_angle = np.angle(frame.translational_order)\n",
    "    hexatic = np.abs(frame.hexatic_order.values)\n",
    "    clusters = np.zeros(len(points))\n",
    "    current_cluster = 1\n",
    "    unused_indexes = deque([i for i in range(len(frame))])\n",
    "    current_indexes = deque([])\n",
    "    neighbours_all_points = find_neighbours(frame[['x', 'y']].values)\n",
    "    print(type(neighbours_all_points))\n",
    "    while len(unused_indexes) > 0:\n",
    "        index = unused_indexes.popleft()\n",
    "        current_indexes.append(index)\n",
    "        # Go through the new queue\n",
    "        while len(current_indexes) > 0:\n",
    "            index = current_indexes.popleft()\n",
    "            clusters[index] = current_cluster\n",
    "            # Check which neighbours have similar angles\n",
    "            current_angle = trans_angle[index]\n",
    "            neighbours = neighbours_all_points[index]\n",
    "            print(type(neighbours))\n",
    "            neighbours_angles = trans_angle[neighbours]\n",
    "            angle_differences = np.abs(current_angle - neighbours_angles)\n",
    "            neighbours = neighbours[angle_differences < angle_threshold]\n",
    "            # Check if one of the neighbouring pairs has high hexatic order\n",
    "            if hexatic[index] > hexatic_threshold:\n",
    "                pass\n",
    "            else:\n",
    "                hexatic_neighbours = hexatic[neighbours]\n",
    "                neighbours = neighbours[hexatic_neighbours > hexatic_threshold]\n",
    "\n",
    "            # Remove these from the first queue and add to the second queue\n",
    "            for n in neighbours:\n",
    "                if n in unused_indexes:\n",
    "                    unused_indexes.remove(n)\n",
    "                    current_indexes.append(n)\n",
    "        current_cluster += 1\n",
    "    frame['cluster'] = clusters\n",
    "    return frame"
   ],
   "metadata": {
    "collapsed": false,
    "pycharm": {
     "name": "#%%\n"
    }
   }
  },
  {
   "cell_type": "code",
   "execution_count": 332,
   "outputs": [
    {
     "name": "stdout",
     "output_type": "stream",
     "text": [
      "<class 'list'>\n",
      "<class 'numpy.ndarray'>\n",
      "<class 'numpy.ndarray'>\n",
      "<class 'numpy.ndarray'>\n",
      "<class 'numpy.ndarray'>\n",
      "<class 'numpy.ndarray'>\n",
      "<class 'numpy.ndarray'>\n",
      "<class 'numpy.ndarray'>\n",
      "<class 'numpy.ndarray'>\n",
      "<class 'numpy.ndarray'>\n",
      "<class 'numpy.ndarray'>\n",
      "<class 'numpy.ndarray'>\n",
      "<class 'numpy.ndarray'>\n",
      "<class 'numpy.ndarray'>\n",
      "<class 'numpy.ndarray'>\n",
      "<class 'numpy.ndarray'>\n",
      "<class 'numpy.ndarray'>\n",
      "<class 'numpy.ndarray'>\n",
      "<class 'numpy.ndarray'>\n",
      "<class 'numpy.ndarray'>\n",
      "<class 'numpy.ndarray'>\n",
      "<class 'numpy.ndarray'>\n",
      "<class 'numpy.ndarray'>\n",
      "<class 'numpy.ndarray'>\n",
      "<class 'numpy.ndarray'>\n",
      "<class 'numpy.ndarray'>\n",
      "<class 'numpy.ndarray'>\n",
      "<class 'numpy.ndarray'>\n",
      "<class 'numpy.ndarray'>\n",
      "<class 'numpy.ndarray'>\n",
      "<class 'numpy.ndarray'>\n",
      "<class 'numpy.ndarray'>\n",
      "<class 'numpy.ndarray'>\n",
      "<class 'numpy.ndarray'>\n",
      "<class 'numpy.ndarray'>\n",
      "<class 'numpy.ndarray'>\n",
      "<class 'numpy.ndarray'>\n",
      "<class 'numpy.ndarray'>\n",
      "<class 'numpy.ndarray'>\n",
      "<class 'numpy.ndarray'>\n",
      "<class 'numpy.ndarray'>\n",
      "<class 'numpy.ndarray'>\n",
      "<class 'numpy.ndarray'>\n",
      "<class 'numpy.ndarray'>\n",
      "<class 'numpy.ndarray'>\n",
      "<class 'numpy.ndarray'>\n",
      "<class 'numpy.ndarray'>\n",
      "<class 'numpy.ndarray'>\n",
      "<class 'numpy.ndarray'>\n",
      "<class 'numpy.ndarray'>\n",
      "<class 'numpy.ndarray'>\n",
      "<class 'numpy.ndarray'>\n",
      "<class 'numpy.ndarray'>\n",
      "<class 'numpy.ndarray'>\n",
      "<class 'numpy.ndarray'>\n",
      "<class 'numpy.ndarray'>\n",
      "<class 'numpy.ndarray'>\n",
      "<class 'numpy.ndarray'>\n",
      "<class 'numpy.ndarray'>\n",
      "<class 'numpy.ndarray'>\n",
      "<class 'numpy.ndarray'>\n",
      "<class 'numpy.ndarray'>\n",
      "<class 'numpy.ndarray'>\n",
      "<class 'numpy.ndarray'>\n",
      "<class 'numpy.ndarray'>\n",
      "<class 'numpy.ndarray'>\n",
      "<class 'numpy.ndarray'>\n",
      "<class 'numpy.ndarray'>\n",
      "<class 'numpy.ndarray'>\n",
      "<class 'numpy.ndarray'>\n",
      "<class 'numpy.ndarray'>\n",
      "<class 'numpy.ndarray'>\n",
      "<class 'numpy.ndarray'>\n",
      "<class 'numpy.ndarray'>\n",
      "<class 'numpy.ndarray'>\n",
      "<class 'numpy.ndarray'>\n",
      "<class 'numpy.ndarray'>\n",
      "<class 'numpy.ndarray'>\n",
      "<class 'numpy.ndarray'>\n",
      "<class 'numpy.ndarray'>\n",
      "<class 'numpy.ndarray'>\n",
      "<class 'numpy.ndarray'>\n",
      "<class 'numpy.ndarray'>\n",
      "<class 'numpy.ndarray'>\n",
      "<class 'numpy.ndarray'>\n",
      "<class 'numpy.ndarray'>\n",
      "<class 'numpy.ndarray'>\n",
      "<class 'numpy.ndarray'>\n",
      "<class 'numpy.ndarray'>\n",
      "<class 'numpy.ndarray'>\n",
      "<class 'numpy.ndarray'>\n",
      "<class 'numpy.ndarray'>\n",
      "<class 'numpy.ndarray'>\n",
      "<class 'numpy.ndarray'>\n",
      "<class 'numpy.ndarray'>\n",
      "<class 'numpy.ndarray'>\n",
      "<class 'numpy.ndarray'>\n",
      "<class 'numpy.ndarray'>\n",
      "<class 'numpy.ndarray'>\n",
      "<class 'numpy.ndarray'>\n",
      "<class 'numpy.ndarray'>\n",
      "<class 'numpy.ndarray'>\n",
      "<class 'numpy.ndarray'>\n",
      "<class 'numpy.ndarray'>\n",
      "<class 'numpy.ndarray'>\n",
      "<class 'numpy.ndarray'>\n",
      "<class 'numpy.ndarray'>\n",
      "<class 'numpy.ndarray'>\n",
      "<class 'numpy.ndarray'>\n",
      "<class 'numpy.ndarray'>\n",
      "<class 'numpy.ndarray'>\n",
      "<class 'numpy.ndarray'>\n",
      "<class 'numpy.ndarray'>\n",
      "<class 'numpy.ndarray'>\n",
      "<class 'numpy.ndarray'>\n",
      "<class 'numpy.ndarray'>\n",
      "<class 'numpy.ndarray'>\n",
      "<class 'numpy.ndarray'>\n",
      "<class 'numpy.ndarray'>\n",
      "<class 'numpy.ndarray'>\n",
      "<class 'numpy.ndarray'>\n",
      "<class 'numpy.ndarray'>\n",
      "<class 'numpy.ndarray'>\n",
      "<class 'numpy.ndarray'>\n",
      "<class 'numpy.ndarray'>\n",
      "<class 'numpy.ndarray'>\n",
      "<class 'numpy.ndarray'>\n",
      "<class 'numpy.ndarray'>\n",
      "<class 'numpy.ndarray'>\n",
      "<class 'numpy.ndarray'>\n",
      "<class 'numpy.ndarray'>\n",
      "<class 'numpy.ndarray'>\n",
      "<class 'numpy.ndarray'>\n",
      "<class 'numpy.ndarray'>\n",
      "<class 'numpy.ndarray'>\n",
      "<class 'numpy.ndarray'>\n",
      "<class 'numpy.ndarray'>\n",
      "<class 'numpy.ndarray'>\n",
      "<class 'numpy.ndarray'>\n",
      "<class 'numpy.ndarray'>\n",
      "<class 'numpy.ndarray'>\n",
      "<class 'numpy.ndarray'>\n",
      "<class 'numpy.ndarray'>\n",
      "<class 'numpy.ndarray'>\n",
      "<class 'numpy.ndarray'>\n",
      "<class 'numpy.ndarray'>\n",
      "<class 'numpy.ndarray'>\n",
      "<class 'numpy.ndarray'>\n",
      "<class 'numpy.ndarray'>\n",
      "<class 'numpy.ndarray'>\n",
      "<class 'numpy.ndarray'>\n",
      "<class 'numpy.ndarray'>\n",
      "<class 'numpy.ndarray'>\n",
      "<class 'numpy.ndarray'>\n",
      "<class 'numpy.ndarray'>\n",
      "<class 'numpy.ndarray'>\n",
      "<class 'numpy.ndarray'>\n",
      "<class 'numpy.ndarray'>\n",
      "<class 'numpy.ndarray'>\n",
      "<class 'numpy.ndarray'>\n",
      "<class 'numpy.ndarray'>\n",
      "<class 'numpy.ndarray'>\n",
      "<class 'numpy.ndarray'>\n",
      "<class 'numpy.ndarray'>\n",
      "<class 'numpy.ndarray'>\n",
      "<class 'numpy.ndarray'>\n",
      "<class 'numpy.ndarray'>\n",
      "<class 'numpy.ndarray'>\n",
      "<class 'numpy.ndarray'>\n",
      "<class 'numpy.ndarray'>\n",
      "<class 'numpy.ndarray'>\n",
      "<class 'numpy.ndarray'>\n",
      "<class 'numpy.ndarray'>\n",
      "<class 'numpy.ndarray'>\n",
      "<class 'numpy.ndarray'>\n",
      "<class 'numpy.ndarray'>\n",
      "<class 'numpy.ndarray'>\n",
      "<class 'numpy.ndarray'>\n",
      "<class 'numpy.ndarray'>\n",
      "<class 'numpy.ndarray'>\n",
      "<class 'numpy.ndarray'>\n",
      "<class 'numpy.ndarray'>\n",
      "<class 'numpy.ndarray'>\n",
      "<class 'numpy.ndarray'>\n",
      "<class 'numpy.ndarray'>\n",
      "<class 'numpy.ndarray'>\n",
      "<class 'numpy.ndarray'>\n",
      "<class 'numpy.ndarray'>\n",
      "<class 'numpy.ndarray'>\n",
      "<class 'numpy.ndarray'>\n",
      "<class 'numpy.ndarray'>\n",
      "<class 'numpy.ndarray'>\n",
      "<class 'numpy.ndarray'>\n",
      "<class 'numpy.ndarray'>\n",
      "<class 'numpy.ndarray'>\n",
      "<class 'numpy.ndarray'>\n",
      "<class 'numpy.ndarray'>\n",
      "<class 'numpy.ndarray'>\n",
      "<class 'numpy.ndarray'>\n",
      "<class 'numpy.ndarray'>\n",
      "<class 'numpy.ndarray'>\n",
      "<class 'numpy.ndarray'>\n",
      "<class 'numpy.ndarray'>\n",
      "<class 'numpy.ndarray'>\n",
      "<class 'numpy.ndarray'>\n",
      "<class 'numpy.ndarray'>\n",
      "<class 'numpy.ndarray'>\n",
      "<class 'numpy.ndarray'>\n",
      "<class 'numpy.ndarray'>\n",
      "<class 'numpy.ndarray'>\n",
      "<class 'numpy.ndarray'>\n",
      "<class 'numpy.ndarray'>\n",
      "<class 'numpy.ndarray'>\n",
      "<class 'numpy.ndarray'>\n",
      "<class 'numpy.ndarray'>\n",
      "<class 'numpy.ndarray'>\n",
      "<class 'numpy.ndarray'>\n",
      "<class 'numpy.ndarray'>\n",
      "<class 'numpy.ndarray'>\n",
      "<class 'numpy.ndarray'>\n",
      "<class 'numpy.ndarray'>\n",
      "<class 'numpy.ndarray'>\n",
      "<class 'numpy.ndarray'>\n",
      "<class 'numpy.ndarray'>\n",
      "<class 'numpy.ndarray'>\n",
      "<class 'numpy.ndarray'>\n",
      "<class 'numpy.ndarray'>\n",
      "<class 'numpy.ndarray'>\n",
      "<class 'numpy.ndarray'>\n",
      "<class 'numpy.ndarray'>\n",
      "<class 'numpy.ndarray'>\n",
      "<class 'numpy.ndarray'>\n",
      "<class 'numpy.ndarray'>\n",
      "<class 'numpy.ndarray'>\n",
      "<class 'numpy.ndarray'>\n",
      "<class 'numpy.ndarray'>\n",
      "<class 'numpy.ndarray'>\n",
      "<class 'numpy.ndarray'>\n",
      "<class 'numpy.ndarray'>\n",
      "<class 'numpy.ndarray'>\n",
      "<class 'numpy.ndarray'>\n",
      "<class 'numpy.ndarray'>\n",
      "<class 'numpy.ndarray'>\n",
      "<class 'numpy.ndarray'>\n",
      "<class 'numpy.ndarray'>\n",
      "<class 'numpy.ndarray'>\n",
      "<class 'numpy.ndarray'>\n",
      "<class 'numpy.ndarray'>\n",
      "<class 'numpy.ndarray'>\n",
      "<class 'numpy.ndarray'>\n",
      "<class 'numpy.ndarray'>\n",
      "<class 'numpy.ndarray'>\n",
      "<class 'numpy.ndarray'>\n",
      "<class 'numpy.ndarray'>\n",
      "<class 'numpy.ndarray'>\n",
      "<class 'numpy.ndarray'>\n",
      "<class 'numpy.ndarray'>\n",
      "<class 'numpy.ndarray'>\n",
      "<class 'numpy.ndarray'>\n",
      "<class 'numpy.ndarray'>\n",
      "<class 'numpy.ndarray'>\n",
      "<class 'numpy.ndarray'>\n",
      "<class 'numpy.ndarray'>\n",
      "<class 'numpy.ndarray'>\n",
      "<class 'numpy.ndarray'>\n",
      "<class 'numpy.ndarray'>\n",
      "<class 'numpy.ndarray'>\n",
      "<class 'numpy.ndarray'>\n",
      "<class 'numpy.ndarray'>\n",
      "<class 'numpy.ndarray'>\n",
      "<class 'numpy.ndarray'>\n",
      "<class 'numpy.ndarray'>\n",
      "<class 'numpy.ndarray'>\n",
      "<class 'numpy.ndarray'>\n",
      "<class 'numpy.ndarray'>\n",
      "<class 'numpy.ndarray'>\n",
      "<class 'numpy.ndarray'>\n",
      "<class 'numpy.ndarray'>\n",
      "<class 'numpy.ndarray'>\n",
      "<class 'numpy.ndarray'>\n",
      "<class 'numpy.ndarray'>\n",
      "<class 'numpy.ndarray'>\n",
      "<class 'numpy.ndarray'>\n",
      "<class 'numpy.ndarray'>\n",
      "<class 'numpy.ndarray'>\n",
      "<class 'numpy.ndarray'>\n",
      "<class 'numpy.ndarray'>\n",
      "<class 'numpy.ndarray'>\n",
      "<class 'numpy.ndarray'>\n",
      "<class 'numpy.ndarray'>\n",
      "<class 'numpy.ndarray'>\n",
      "<class 'numpy.ndarray'>\n",
      "<class 'numpy.ndarray'>\n",
      "<class 'numpy.ndarray'>\n",
      "<class 'numpy.ndarray'>\n",
      "<class 'numpy.ndarray'>\n",
      "<class 'numpy.ndarray'>\n",
      "<class 'numpy.ndarray'>\n",
      "<class 'numpy.ndarray'>\n",
      "<class 'numpy.ndarray'>\n",
      "<class 'numpy.ndarray'>\n",
      "<class 'numpy.ndarray'>\n",
      "<class 'numpy.ndarray'>\n",
      "<class 'numpy.ndarray'>\n",
      "<class 'numpy.ndarray'>\n",
      "<class 'numpy.ndarray'>\n",
      "<class 'numpy.ndarray'>\n",
      "<class 'numpy.ndarray'>\n",
      "<class 'numpy.ndarray'>\n",
      "<class 'numpy.ndarray'>\n",
      "<class 'numpy.ndarray'>\n",
      "<class 'numpy.ndarray'>\n",
      "<class 'numpy.ndarray'>\n",
      "<class 'numpy.ndarray'>\n",
      "<class 'numpy.ndarray'>\n",
      "<class 'numpy.ndarray'>\n",
      "<class 'numpy.ndarray'>\n",
      "<class 'numpy.ndarray'>\n",
      "<class 'numpy.ndarray'>\n",
      "<class 'numpy.ndarray'>\n",
      "<class 'numpy.ndarray'>\n",
      "<class 'numpy.ndarray'>\n",
      "<class 'numpy.ndarray'>\n",
      "<class 'numpy.ndarray'>\n",
      "<class 'numpy.ndarray'>\n",
      "<class 'numpy.ndarray'>\n",
      "<class 'numpy.ndarray'>\n",
      "<class 'numpy.ndarray'>\n",
      "<class 'numpy.ndarray'>\n",
      "<class 'numpy.ndarray'>\n",
      "<class 'numpy.ndarray'>\n",
      "<class 'numpy.ndarray'>\n",
      "<class 'numpy.ndarray'>\n",
      "<class 'numpy.ndarray'>\n",
      "<class 'numpy.ndarray'>\n",
      "<class 'numpy.ndarray'>\n",
      "<class 'numpy.ndarray'>\n",
      "<class 'numpy.ndarray'>\n",
      "<class 'numpy.ndarray'>\n",
      "<class 'numpy.ndarray'>\n",
      "<class 'numpy.ndarray'>\n",
      "<class 'numpy.ndarray'>\n",
      "<class 'numpy.ndarray'>\n",
      "<class 'numpy.ndarray'>\n",
      "<class 'numpy.ndarray'>\n",
      "<class 'numpy.ndarray'>\n",
      "<class 'numpy.ndarray'>\n",
      "<class 'numpy.ndarray'>\n",
      "<class 'numpy.ndarray'>\n",
      "<class 'numpy.ndarray'>\n",
      "<class 'numpy.ndarray'>\n",
      "<class 'numpy.ndarray'>\n",
      "<class 'numpy.ndarray'>\n",
      "<class 'numpy.ndarray'>\n",
      "<class 'numpy.ndarray'>\n",
      "<class 'numpy.ndarray'>\n",
      "<class 'numpy.ndarray'>\n",
      "<class 'numpy.ndarray'>\n",
      "<class 'numpy.ndarray'>\n",
      "<class 'numpy.ndarray'>\n",
      "<class 'numpy.ndarray'>\n",
      "<class 'numpy.ndarray'>\n",
      "<class 'numpy.ndarray'>\n",
      "<class 'numpy.ndarray'>\n",
      "<class 'numpy.ndarray'>\n",
      "<class 'numpy.ndarray'>\n",
      "<class 'numpy.ndarray'>\n",
      "<class 'numpy.ndarray'>\n",
      "<class 'numpy.ndarray'>\n",
      "<class 'numpy.ndarray'>\n",
      "<class 'numpy.ndarray'>\n",
      "<class 'numpy.ndarray'>\n",
      "<class 'numpy.ndarray'>\n"
     ]
    },
    {
     "ename": "KeyboardInterrupt",
     "evalue": "",
     "output_type": "error",
     "traceback": [
      "\u001B[0;31m---------------------------------------------------------------------------\u001B[0m",
      "\u001B[0;31mKeyboardInterrupt\u001B[0m                         Traceback (most recent call last)",
      "\u001B[0;32m<ipython-input-332-6a93119b0f61>\u001B[0m in \u001B[0;36m<module>\u001B[0;34m\u001B[0m\n\u001B[0;32m----> 1\u001B[0;31m \u001B[0mframe_with_clusters\u001B[0m \u001B[0;34m=\u001B[0m \u001B[0madd_clusters\u001B[0m\u001B[0;34m(\u001B[0m\u001B[0mframe\u001B[0m\u001B[0;34m.\u001B[0m\u001B[0mcopy\u001B[0m\u001B[0;34m(\u001B[0m\u001B[0;34m)\u001B[0m\u001B[0;34m,\u001B[0m \u001B[0;36m0.1\u001B[0m\u001B[0;34m,\u001B[0m \u001B[0;36m0.8\u001B[0m\u001B[0;34m)\u001B[0m\u001B[0;34m\u001B[0m\u001B[0;34m\u001B[0m\u001B[0m\n\u001B[0m",
      "\u001B[0;32m<ipython-input-331-3572806d16b9>\u001B[0m in \u001B[0;36madd_clusters\u001B[0;34m(frame, angle_threshold, hexatic_threshold)\u001B[0m\n\u001B[1;32m     36\u001B[0m \u001B[0;34m\u001B[0m\u001B[0m\n\u001B[1;32m     37\u001B[0m             \u001B[0;31m# Remove these from the first queue and add to the second queue\u001B[0m\u001B[0;34m\u001B[0m\u001B[0;34m\u001B[0m\u001B[0m\n\u001B[0;32m---> 38\u001B[0;31m             \u001B[0;32mfor\u001B[0m \u001B[0mn\u001B[0m \u001B[0;32min\u001B[0m \u001B[0mneighbours\u001B[0m\u001B[0;34m:\u001B[0m\u001B[0;34m\u001B[0m\u001B[0;34m\u001B[0m\u001B[0m\n\u001B[0m\u001B[1;32m     39\u001B[0m                 \u001B[0;32mif\u001B[0m \u001B[0mn\u001B[0m \u001B[0;32min\u001B[0m \u001B[0munused_indexes\u001B[0m\u001B[0;34m:\u001B[0m\u001B[0;34m\u001B[0m\u001B[0;34m\u001B[0m\u001B[0m\n\u001B[1;32m     40\u001B[0m                     \u001B[0munused_indexes\u001B[0m\u001B[0;34m.\u001B[0m\u001B[0mremove\u001B[0m\u001B[0;34m(\u001B[0m\u001B[0mn\u001B[0m\u001B[0;34m)\u001B[0m\u001B[0;34m\u001B[0m\u001B[0;34m\u001B[0m\u001B[0m\n",
      "\u001B[0;31mKeyboardInterrupt\u001B[0m: "
     ]
    }
   ],
   "source": [
    "frame_with_clusters = add_clusters(frame.copy(), 0.1, 0.8)"
   ],
   "metadata": {
    "collapsed": false,
    "pycharm": {
     "name": "#%%\n"
    }
   }
  },
  {
   "cell_type": "markdown",
   "source": [],
   "metadata": {
    "collapsed": false,
    "pycharm": {
     "name": "#%% md\n"
    }
   }
  },
  {
   "cell_type": "code",
   "execution_count": null,
   "outputs": [],
   "source": [
    "from particletracking import statistics\n",
    "statistics.order"
   ],
   "metadata": {
    "collapsed": false,
    "pycharm": {
     "name": "#%%\n"
    }
   }
  },
  {
   "cell_type": "code",
   "execution_count": 316,
   "outputs": [],
   "source": [
    "plot_clusters(frame_with_clusters)"
   ],
   "metadata": {
    "collapsed": false,
    "pycharm": {
     "name": "#%%\n"
    }
   }
  },
  {
   "cell_type": "code",
   "execution_count": 291,
   "outputs": [
    {
     "data": {
      "text/plain": "(array([0.000e+00, 2.182e+03, 1.350e+02, 7.400e+01, 4.200e+01, 2.000e+01,\n        1.700e+01, 1.600e+01, 1.100e+01, 6.000e+00, 8.000e+00, 8.000e+00,\n        4.000e+00, 4.000e+00, 8.000e+00, 4.000e+00, 3.000e+00, 4.000e+00,\n        1.000e+00, 7.000e+00, 6.000e+00, 3.000e+00, 8.000e+00, 5.000e+00,\n        1.000e+00, 4.000e+00, 3.000e+00, 5.000e+00, 1.000e+00, 1.000e+00,\n        1.000e+00, 3.000e+00, 4.000e+00, 3.000e+00, 1.000e+00, 2.000e+00,\n        2.000e+00, 3.000e+00, 3.000e+00, 1.000e+00, 2.000e+00, 1.000e+00,\n        3.000e+00, 1.000e+00, 1.000e+00, 0.000e+00, 3.000e+00, 2.000e+00,\n        1.000e+00, 1.000e+00, 3.000e+00, 3.000e+00, 2.000e+00, 2.000e+00,\n        2.000e+00, 0.000e+00, 1.000e+00, 1.000e+00, 2.000e+00, 0.000e+00,\n        2.000e+00, 2.000e+00, 1.000e+00, 1.000e+00, 1.000e+00, 0.000e+00,\n        0.000e+00, 0.000e+00, 1.000e+00, 3.000e+00, 2.000e+00, 0.000e+00,\n        1.000e+00, 0.000e+00, 0.000e+00, 0.000e+00, 1.000e+00, 0.000e+00,\n        0.000e+00, 0.000e+00, 0.000e+00, 0.000e+00, 0.000e+00, 0.000e+00,\n        0.000e+00, 0.000e+00, 0.000e+00, 0.000e+00, 0.000e+00, 0.000e+00,\n        0.000e+00, 0.000e+00, 0.000e+00, 0.000e+00, 0.000e+00, 0.000e+00,\n        0.000e+00, 0.000e+00, 0.000e+00]),\n array([ 0,  1,  2,  3,  4,  5,  6,  7,  8,  9, 10, 11, 12, 13, 14, 15, 16,\n        17, 18, 19, 20, 21, 22, 23, 24, 25, 26, 27, 28, 29, 30, 31, 32, 33,\n        34, 35, 36, 37, 38, 39, 40, 41, 42, 43, 44, 45, 46, 47, 48, 49, 50,\n        51, 52, 53, 54, 55, 56, 57, 58, 59, 60, 61, 62, 63, 64, 65, 66, 67,\n        68, 69, 70, 71, 72, 73, 74, 75, 76, 77, 78, 79, 80, 81, 82, 83, 84,\n        85, 86, 87, 88, 89, 90, 91, 92, 93, 94, 95, 96, 97, 98, 99]),\n <BarContainer object of 99 artists>)"
     },
     "execution_count": 291,
     "metadata": {},
     "output_type": "execute_result"
    }
   ],
   "source": [
    "counts = frame_with_clusters.groupby('cluster').count().x.values\n",
    "plt.hist(counts, bins=np.arange(100))"
   ],
   "metadata": {
    "collapsed": false,
    "pycharm": {
     "name": "#%%\n"
    }
   }
  },
  {
   "cell_type": "markdown",
   "source": [
    "#### Compare cluster size to mean hexatic order"
   ],
   "metadata": {
    "collapsed": false,
    "pycharm": {
     "name": "#%% md\n"
    }
   }
  },
  {
   "cell_type": "code",
   "execution_count": null,
   "outputs": [],
   "source": [
    "counts = frame_with_clusters.groupby('cluster').count().x.values"
   ],
   "metadata": {
    "collapsed": false,
    "pycharm": {
     "name": "#%%\n"
    }
   }
  },
  {
   "cell_type": "code",
   "execution_count": 294,
   "outputs": [],
   "source": [
    "frame_with_clusters['hexatic_order_abs'] = np.abs(frame_with_clusters['hexatic_order'])"
   ],
   "metadata": {
    "collapsed": false,
    "pycharm": {
     "name": "#%%\n"
    }
   }
  },
  {
   "cell_type": "code",
   "execution_count": 297,
   "outputs": [],
   "source": [
    "average_hexatic = frame_with_clusters.groupby('cluster').mean().hexatic_order_abs.values"
   ],
   "metadata": {
    "collapsed": false,
    "pycharm": {
     "name": "#%%\n"
    }
   }
  },
  {
   "cell_type": "code",
   "execution_count": 301,
   "outputs": [],
   "source": [
    "std_hexatic = frame_with_clusters.groupby('cluster').std().hexatic_order_abs.values"
   ],
   "metadata": {
    "collapsed": false,
    "pycharm": {
     "name": "#%%\n"
    }
   }
  },
  {
   "cell_type": "code",
   "execution_count": 308,
   "outputs": [
    {
     "data": {
      "text/plain": "Text(0, 0.5, 'Mean hexatic order')"
     },
     "execution_count": 308,
     "metadata": {},
     "output_type": "execute_result"
    }
   ],
   "source": [
    "# plt.plot(counts, average_hexatic, 'x')\n",
    "plt.errorbar(counts, average_hexatic, std_hexatic/np.sqrt(counts), fmt='x', capsize=5)\n",
    "plt.xlabel('Size of cluster')\n",
    "plt.ylabel('Mean hexatic order')"
   ],
   "metadata": {
    "collapsed": false,
    "pycharm": {
     "name": "#%%\n"
    }
   }
  },
  {
   "cell_type": "code",
   "execution_count": 302,
   "outputs": [],
   "source": [
    "from mpl_toolkits import mplot3d"
   ],
   "metadata": {
    "collapsed": false,
    "pycharm": {
     "name": "#%%\n"
    }
   }
  },
  {
   "cell_type": "markdown",
   "source": [
    "### Add a distance threshold to the neighbours"
   ],
   "metadata": {
    "collapsed": false,
    "pycharm": {
     "name": "#%% md\n"
    }
   }
  },
  {
   "cell_type": "code",
   "execution_count": 337,
   "outputs": [],
   "source": [
    "def find_vectors(points, list_indices, point_indices):\n",
    "    repeat = list_indices[1:] - list_indices[:-1]\n",
    "    return points[point_indices] - np.repeat(points, repeat, axis=0)\n",
    "\n",
    "def estimate_diameter(points):\n",
    "    tree = spatial.KDTree(points)\n",
    "    dists, indices = tree.query(points, 7)\n",
    "    diameter = np.median(dists)\n",
    "    return diameter\n",
    "\n",
    "def filter_vectors(vectors, threshold):\n",
    "    length = np.linalg.norm(vectors, axis=1)\n",
    "    return length < threshold\n",
    "\n",
    "def find_neighbours(points, threshold):\n",
    "    tess = spatial.Delaunay(points)\n",
    "    list_indices, points_indices = tess.vertex_neighbor_vertices\n",
    "    vectors = find_vectors(points, list_indices, points_indices)\n",
    "    filtered = filter_vectors(vectors, threshold)\n",
    "    def check(p_indices, filtered):\n",
    "        return np.array([p for p, f in zip(p_indices, filtered) if f])\n",
    "    neighbours = [check(points_indices[i:j], filtered[i:j]) for i, j in zip(list_indices[:-1], list_indices[1:])]\n",
    "    return neighbours\n",
    "\n",
    "def add_clusters(frame, angle_threshold, hexatic_threshold, distance_threshold):\n",
    "    trans_angle = np.angle(frame.translational_order)\n",
    "    hexatic = np.abs(frame.hexatic_order.values)\n",
    "    clusters = np.zeros(len(points))\n",
    "    current_cluster = 1\n",
    "    unused_indexes = deque([i for i in range(len(frame))])\n",
    "    current_indexes = deque([])\n",
    "    neighbours_all_points = find_neighbours(frame[['x', 'y']].values, distance_threshold)\n",
    "    while len(unused_indexes) > 0:\n",
    "        index = unused_indexes.popleft()\n",
    "        current_indexes.append(index)\n",
    "        # Go through the new queue\n",
    "        while len(current_indexes) > 0:\n",
    "            index = current_indexes.popleft()\n",
    "            clusters[index] = current_cluster\n",
    "            # Check which neighbours have similar angles\n",
    "            current_angle = trans_angle[index]\n",
    "            neighbours = neighbours_all_points[index]\n",
    "            if len(neighbours) == 0:\n",
    "                continue\n",
    "            neighbours_angles = trans_angle[neighbours]\n",
    "            angle_differences = np.abs(current_angle - neighbours_angles)\n",
    "            neighbours = neighbours[angle_differences < angle_threshold]\n",
    "            # Check if one of the neighbouring pairs has high hexatic order\n",
    "            if hexatic[index] > hexatic_threshold:\n",
    "                pass\n",
    "            else:\n",
    "                hexatic_neighbours = hexatic[neighbours]\n",
    "                neighbours = neighbours[hexatic_neighbours > hexatic_threshold]\n",
    "\n",
    "            # Remove these from the first queue and add to the second queue\n",
    "            for n in neighbours:\n",
    "                if n in unused_indexes:\n",
    "                    unused_indexes.remove(n)\n",
    "                    current_indexes.append(n)\n",
    "        current_cluster += 1\n",
    "    frame['cluster'] = clusters\n",
    "    return frame"
   ],
   "metadata": {
    "collapsed": false,
    "pycharm": {
     "name": "#%%\n"
    }
   }
  },
  {
   "cell_type": "code",
   "execution_count": 345,
   "outputs": [],
   "source": [
    "diameter = estimate_diameter(frame[['x', 'y']].values)\n",
    "frame_with_clusters = add_clusters(frame.copy(), 0.2, 0.8, 2*diameter)"
   ],
   "metadata": {
    "collapsed": false,
    "pycharm": {
     "name": "#%%\n"
    }
   }
  },
  {
   "cell_type": "code",
   "execution_count": 346,
   "outputs": [],
   "source": [
    "plot_clusters(frame_with_clusters)"
   ],
   "metadata": {
    "collapsed": false,
    "pycharm": {
     "name": "#%%\n"
    }
   }
  },
  {
   "cell_type": "code",
   "execution_count": null,
   "outputs": [],
   "source": [],
   "metadata": {
    "collapsed": false,
    "pycharm": {
     "name": "#%%\n"
    }
   }
  }
 ],
 "metadata": {
  "kernelspec": {
   "display_name": "Python 3",
   "language": "python",
   "name": "python3"
  },
  "language_info": {
   "codemirror_mode": {
    "name": "ipython",
    "version": 2
   },
   "file_extension": ".py",
   "mimetype": "text/x-python",
   "name": "python",
   "nbconvert_exporter": "python",
   "pygments_lexer": "ipython2",
   "version": "2.7.6"
  }
 },
 "nbformat": 4,
 "nbformat_minor": 0
}