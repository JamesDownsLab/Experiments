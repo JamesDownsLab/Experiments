{
 "cells": [
  {
   "cell_type": "code",
   "execution_count": 10,
   "metadata": {
    "collapsed": true
   },
   "outputs": [
    {
     "name": "stdout",
     "output_type": "stream",
     "text": [
      "Using matplotlib backend: Qt5Agg\n"
     ]
    }
   ],
   "source": [
    "import numpy as np\n",
    "import matplotlib.pyplot as plt\n",
    "from scipy.signal import find_peaks\n",
    "from duty import d2G\n",
    "%matplotlib auto"
   ]
  },
  {
   "cell_type": "code",
   "execution_count": 11,
   "outputs": [],
   "source": [
    "def plot(d, plate='Dimpled'):\n",
    "    g = np.loadtxt(f\"/media/data/Data/N29/FirstOrder/Correlations/November2022/{plate}/{d}_g.txt\")\n",
    "    g6 = np.loadtxt(f\"/media/data/Data/N29/FirstOrder/Correlations/November2022/{plate}/{d}_g6.txt\")\n",
    "    r = np.loadtxt(f\"/media/data/Data/N29/FirstOrder/Correlations/November2022/{plate}/{d}_r.txt\")\n",
    "    spacing = 39\n",
    "    r = r / spacing\n",
    "    fig, (ax1, ax2) = plt.subplots(1, 2)\n",
    "    ax1.plot(r, g-1)\n",
    "    ax1.set_xscale('log')\n",
    "    ax1.set_yscale('log')\n",
    "    ax1.set_xlim([0.5, 10])\n",
    "    ax1.set_ylim([0.1, 20])\n",
    "    ax1.set_xticks([1, 2, 3, 4, 5, 6, 7, 8, 9])\n",
    "    ax1.set_xticklabels([1, 2, 3, 4, 5, 6, 7, 8, 9])\n",
    "    ax1.set_yticks([0.1, 1.0, 10])\n",
    "    ax1.set_yticklabels([0.1, 1.0, 10])\n",
    "    ax1.set_xlabel('$r/s$')\n",
    "    ax1.set_ylabel('$g-1$')\n",
    "    ax2.plot(r, g6/g)\n",
    "    ax2.set_xscale('log')\n",
    "    ax2.set_yscale('log')\n",
    "    ax2.set_xlim([0.5, 10])\n",
    "    ax2.set_ylim([0.1, 1])\n",
    "    ax2.set_xticks([1, 2, 3, 4, 5, 6, 7, 8, 9])\n",
    "    ax2.set_xticklabels([1, 2, 3, 4, 5, 6, 7, 8, 9])\n",
    "    ax2.set_yticks([0.1, 0.2, 0.3, 0.4, 0.5, 0.6, 0.7, 0.8, 0.9, 1.0])\n",
    "    ax2.set_yticklabels([0.1, 0.2, 0.3, 0.4, 0.5, 0.6, 0.7, 0.8, 0.9, 1.0])\n",
    "    ax2.set_xlabel('$r/s$')\n",
    "    ax2.set_ylabel('$g_6/g$')\n",
    "    plt.tight_layout()\n",
    "\n",
    "\n",
    "    ax1.plot(r, (np.max(g)-1)*r**(-1/3))\n",
    "    ax2.plot(r, r**(-1/4))\n",
    "\n",
    "    a = d2G(d)\n",
    "\n",
    "    # plt.savefig(f\"/media/data/Data/N29/FirstOrder/Correlations/November2022/Plots/{plate}_{a:.1f}.jpeg\", dpi=300)"
   ],
   "metadata": {
    "collapsed": false
   }
  },
  {
   "cell_type": "code",
   "execution_count": 18,
   "outputs": [
    {
     "name": "stderr",
     "output_type": "stream",
     "text": [
      "<ipython-input-11-cc3b2079099b>:19: RuntimeWarning: invalid value encountered in true_divide\n",
      "  ax2.plot(r, g6/g)\n",
      "<ipython-input-11-cc3b2079099b>:19: RuntimeWarning: invalid value encountered in true_divide\n",
      "  ax2.plot(r, g6/g)\n",
      "<ipython-input-11-cc3b2079099b>:19: RuntimeWarning: invalid value encountered in true_divide\n",
      "  ax2.plot(r, g6/g)\n",
      "<ipython-input-11-cc3b2079099b>:19: RuntimeWarning: invalid value encountered in true_divide\n",
      "  ax2.plot(r, g6/g)\n",
      "<ipython-input-11-cc3b2079099b>:19: RuntimeWarning: invalid value encountered in true_divide\n",
      "  ax2.plot(r, g6/g)\n",
      "<ipython-input-11-cc3b2079099b>:19: RuntimeWarning: invalid value encountered in true_divide\n",
      "  ax2.plot(r, g6/g)\n",
      "<ipython-input-11-cc3b2079099b>:19: RuntimeWarning: invalid value encountered in true_divide\n",
      "  ax2.plot(r, g6/g)\n",
      "<ipython-input-11-cc3b2079099b>:19: RuntimeWarning: invalid value encountered in true_divide\n",
      "  ax2.plot(r, g6/g)\n",
      "<ipython-input-11-cc3b2079099b>:19: RuntimeWarning: invalid value encountered in true_divide\n",
      "  ax2.plot(r, g6/g)\n",
      "<ipython-input-11-cc3b2079099b>:19: RuntimeWarning: invalid value encountered in true_divide\n",
      "  ax2.plot(r, g6/g)\n"
     ]
    }
   ],
   "source": [
    "for d in range(590, 690, 10):\n",
    "    # plot(d)\n",
    "    plot(d, 'Flat')"
   ],
   "metadata": {
    "collapsed": false
   }
  },
  {
   "cell_type": "code",
   "execution_count": 15,
   "outputs": [
    {
     "name": "stderr",
     "output_type": "stream",
     "text": [
      "<ipython-input-11-cc3b2079099b>:19: RuntimeWarning: invalid value encountered in true_divide\n",
      "  ax2.plot(r, g6/g)\n",
      "<ipython-input-11-cc3b2079099b>:19: RuntimeWarning: invalid value encountered in true_divide\n",
      "  ax2.plot(r, g6/g)\n",
      "<ipython-input-11-cc3b2079099b>:19: RuntimeWarning: invalid value encountered in true_divide\n",
      "  ax2.plot(r, g6/g)\n",
      "<ipython-input-11-cc3b2079099b>:19: RuntimeWarning: invalid value encountered in true_divide\n",
      "  ax2.plot(r, g6/g)\n"
     ]
    }
   ],
   "source": [
    "for d in [610, 630, 640, 650]:\n",
    "    plot(d)"
   ],
   "metadata": {
    "collapsed": false
   }
  },
  {
   "cell_type": "code",
   "execution_count": 17,
   "outputs": [],
   "source": [
    "plt.close('all')"
   ],
   "metadata": {
    "collapsed": false
   }
  },
  {
   "cell_type": "code",
   "execution_count": null,
   "outputs": [],
   "source": [],
   "metadata": {
    "collapsed": false
   }
  }
 ],
 "metadata": {
  "kernelspec": {
   "display_name": "Python 3",
   "language": "python",
   "name": "python3"
  },
  "language_info": {
   "codemirror_mode": {
    "name": "ipython",
    "version": 2
   },
   "file_extension": ".py",
   "mimetype": "text/x-python",
   "name": "python",
   "nbconvert_exporter": "python",
   "pygments_lexer": "ipython2",
   "version": "2.7.6"
  }
 },
 "nbformat": 4,
 "nbformat_minor": 0
}
