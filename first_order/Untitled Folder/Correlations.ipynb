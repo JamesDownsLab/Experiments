{
 "cells": [
  {
   "cell_type": "code",
   "execution_count": 1,
   "metadata": {},
   "outputs": [
    {
     "name": "stderr",
     "output_type": "stream",
     "text": [
      "/home/ppxjd3/.local/lib/python3.7/site-packages/tqdm/std.py:658: FutureWarning: The Panel class is removed from pandas. Accessing it from the top-level namespace will also be removed in the next version\n",
      "  from pandas import Panel\n"
     ]
    }
   ],
   "source": [
    "from particletracking import dataframes, statistics\n",
    "import filehandling"
   ]
  },
  {
   "cell_type": "code",
   "execution_count": 13,
   "metadata": {},
   "outputs": [
    {
     "name": "stdout",
     "output_type": "stream",
     "text": [
      "Using matplotlib backend: Qt5Agg\n"
     ]
    }
   ],
   "source": [
    "import numpy as np\n",
    "from tqdm import tqdm\n",
    "import matplotlib.pyplot as plt\n",
    "\n",
    "%matplotlib auto"
   ]
  },
  {
   "cell_type": "code",
   "execution_count": 3,
   "metadata": {},
   "outputs": [],
   "source": [
    "flat_dir = \"/media/data/Data/FirstOrder/Susceptibility/Flat\"\n",
    "dimpled_dir = \"/media/data/Data/FirstOrder/Susceptibility/Dimpled\""
   ]
  },
  {
   "cell_type": "code",
   "execution_count": 4,
   "metadata": {},
   "outputs": [],
   "source": [
    "flat_files = filehandling.get_directory_filenames(flat_dir+'/*.hdf5')\n",
    "dimpled_files = filehandling.get_directory_filenames(dimpled_dir+'/*.hdf5')"
   ]
  },
  {
   "cell_type": "code",
   "execution_count": 5,
   "metadata": {},
   "outputs": [],
   "source": [
    "data = dataframes.DataStore(dimpled_files[-1])"
   ]
  },
  {
   "cell_type": "code",
   "execution_count": 6,
   "metadata": {},
   "outputs": [],
   "source": [
    "calc = statistics.PropertyCalculator(data)"
   ]
  },
  {
   "cell_type": "code",
   "execution_count": 9,
   "metadata": {},
   "outputs": [
    {
     "name": "stderr",
     "output_type": "stream",
     "text": [
      "100%|██████████| 2976/2976 [00:39<00:00, 75.17it/s]\n"
     ]
    }
   ],
   "source": [
    "calc.order()"
   ]
  },
  {
   "cell_type": "code",
   "execution_count": 11,
   "metadata": {},
   "outputs": [],
   "source": [
    "r, g, g6 = calc.correlations(0)"
   ]
  },
  {
   "cell_type": "code",
   "execution_count": 32,
   "metadata": {},
   "outputs": [
    {
     "name": "stderr",
     "output_type": "stream",
     "text": [
      "100%|██████████| 2976/2976 [00:31<00:00, 95.14it/s] \n",
      "100%|██████████| 2976/2976 [00:31<00:00, 93.28it/s] \n",
      "100%|██████████| 2976/2976 [00:31<00:00, 93.38it/s] \n",
      "100%|██████████| 2976/2976 [00:32<00:00, 92.38it/s] \n",
      "100%|██████████| 2976/2976 [00:32<00:00, 92.60it/s] \n",
      "100%|██████████| 2976/2976 [00:32<00:00, 92.84it/s] \n",
      "100%|██████████| 2976/2976 [00:33<00:00, 89.46it/s] \n",
      "100%|██████████| 2976/2976 [00:33<00:00, 88.84it/s] \n",
      "100%|██████████| 2976/2976 [00:32<00:00, 92.81it/s] \n",
      "100%|██████████| 2976/2976 [00:32<00:00, 92.10it/s] \n",
      "100%|██████████| 2976/2976 [00:32<00:00, 91.47it/s] \n",
      "100%|██████████| 2976/2976 [00:32<00:00, 90.35it/s] \n",
      "100%|██████████| 2976/2976 [00:33<00:00, 90.17it/s] \n",
      "100%|██████████| 2976/2976 [00:32<00:00, 92.48it/s] \n",
      "100%|██████████| 2976/2976 [00:32<00:00, 91.66it/s] \n",
      "100%|██████████| 2976/2976 [00:32<00:00, 92.21it/s] \n",
      "100%|██████████| 2976/2976 [00:33<00:00, 89.36it/s] \n",
      "100%|██████████| 2976/2976 [00:32<00:00, 91.01it/s] \n",
      "100%|██████████| 2976/2976 [00:33<00:00, 88.12it/s] \n",
      "100%|██████████| 2976/2976 [00:32<00:00, 91.37it/s] \n",
      "100%|██████████| 2976/2976 [00:33<00:00, 90.17it/s] \n",
      "100%|██████████| 2976/2976 [00:32<00:00, 91.62it/s] \n",
      "100%|██████████| 2976/2976 [00:33<00:00, 89.65it/s] \n",
      "100%|██████████| 2976/2976 [00:32<00:00, 90.41it/s] \n",
      "100%|██████████| 2976/2976 [00:32<00:00, 90.86it/s] \n",
      "100%|██████████| 2976/2976 [00:32<00:00, 91.37it/s] \n",
      "100%|██████████| 2976/2976 [00:32<00:00, 91.01it/s] \n",
      "100%|██████████| 2976/2976 [00:33<00:00, 90.17it/s] \n",
      "100%|██████████| 2976/2976 [00:32<00:00, 90.94it/s] \n",
      "100%|██████████| 2976/2976 [00:33<00:00, 89.81it/s] \n",
      "100%|██████████| 2976/2976 [00:33<00:00, 87.79it/s] \n",
      "100%|██████████| 2976/2976 [00:33<00:00, 90.03it/s] \n",
      "100%|██████████| 2976/2976 [00:32<00:00, 90.91it/s] \n",
      "100%|██████████| 2976/2976 [00:34<00:00, 86.76it/s] \n",
      "100%|██████████| 2976/2976 [00:32<00:00, 90.48it/s] \n",
      "100%|██████████| 2976/2976 [00:32<00:00, 91.21it/s] \n",
      "100%|██████████| 2976/2976 [00:32<00:00, 90.30it/s] \n",
      "100%|██████████| 2976/2976 [00:32<00:00, 91.57it/s] \n",
      "100%|██████████| 2976/2976 [00:32<00:00, 91.60it/s] \n",
      "100%|██████████| 2976/2976 [00:32<00:00, 91.84it/s] \n",
      "100%|██████████| 2976/2976 [00:32<00:00, 90.57it/s] \n",
      "100%|██████████| 2976/2976 [00:33<00:00, 88.11it/s] \n",
      "100%|██████████| 2976/2976 [00:33<00:00, 88.52it/s] \n",
      "100%|██████████| 2976/2976 [00:33<00:00, 88.68it/s] \n",
      "100%|██████████| 2976/2976 [00:33<00:00, 89.67it/s] \n",
      "100%|██████████| 2976/2976 [00:33<00:00, 88.58it/s] \n",
      "100%|██████████| 2976/2976 [00:33<00:00, 89.44it/s] \n",
      "100%|██████████| 2976/2976 [00:33<00:00, 88.64it/s] \n",
      "100%|██████████| 2976/2976 [00:33<00:00, 88.82it/s] \n",
      "100%|██████████| 2976/2976 [00:34<00:00, 87.33it/s] \n",
      "100%|██████████| 2976/2976 [00:34<00:00, 86.55it/s]\n",
      "100%|██████████| 2976/2976 [00:35<00:00, 84.36it/s]\n",
      "100%|██████████| 2976/2976 [00:34<00:00, 85.54it/s]\n",
      "100%|██████████| 2976/2976 [00:34<00:00, 86.74it/s]\n",
      "100%|██████████| 2976/2976 [00:34<00:00, 86.26it/s]\n",
      "100%|██████████| 2976/2976 [00:34<00:00, 85.50it/s]\n",
      "100%|██████████| 2976/2976 [00:35<00:00, 83.79it/s]\n",
      "100%|██████████| 2952/2952 [00:34<00:00, 85.21it/s]\n",
      "100%|██████████| 2976/2976 [00:34<00:00, 85.93it/s]\n",
      "100%|██████████| 2976/2976 [00:34<00:00, 86.38it/s]\n",
      "100%|██████████| 2976/2976 [00:35<00:00, 84.40it/s]\n",
      "100%|██████████| 2976/2976 [00:34<00:00, 85.04it/s]\n",
      "100%|██████████| 2976/2976 [00:34<00:00, 85.83it/s]\n",
      "100%|██████████| 2976/2976 [00:35<00:00, 84.09it/s]\n",
      "100%|██████████| 2976/2976 [00:35<00:00, 83.62it/s]\n",
      "100%|██████████| 2976/2976 [00:35<00:00, 83.23it/s]\n",
      "100%|██████████| 2976/2976 [00:36<00:00, 82.53it/s]\n",
      "100%|██████████| 2976/2976 [00:36<00:00, 82.39it/s]\n",
      "100%|██████████| 2976/2976 [00:36<00:00, 81.47it/s]\n",
      "100%|██████████| 2976/2976 [00:36<00:00, 82.28it/s]\n",
      "100%|██████████| 2976/2976 [00:35<00:00, 83.63it/s]\n",
      "100%|██████████| 2976/2976 [00:35<00:00, 83.67it/s]\n",
      "100%|██████████| 2976/2976 [00:38<00:00, 77.87it/s]\n",
      "100%|██████████| 2976/2976 [00:36<00:00, 80.65it/s]\n",
      "100%|██████████| 2976/2976 [00:36<00:00, 80.79it/s]\n",
      "100%|██████████| 2976/2976 [00:38<00:00, 78.21it/s]\n",
      "100%|██████████| 2976/2976 [00:38<00:00, 78.10it/s]\n",
      "100%|██████████| 2976/2976 [00:38<00:00, 78.04it/s]\n",
      "100%|██████████| 2976/2976 [00:38<00:00, 77.71it/s]\n",
      "100%|██████████| 2976/2976 [00:36<00:00, 81.13it/s]\n"
     ]
    }
   ],
   "source": [
    "r_dimpled = []\n",
    "g_dimpled = []\n",
    "g6_dimpled = []\n",
    "duty_dimpled = []\n",
    "for file in dimpled_files:\n",
    "    data = dataframes.DataStore(file)\n",
    "    duty_dimpled.append(data.df.Duty.mean().round())\n",
    "    calc = statistics.PropertyCalculator(data)\n",
    "    calc.order()\n",
    "    r, g, g6 = calc.correlations(0)\n",
    "    r_dimpled.append(r)\n",
    "    g_dimpled.append(g)\n",
    "    g6_dimpled.append(g6)\n",
    "\n",
    "    "
   ]
  },
  {
   "cell_type": "code",
   "execution_count": 33,
   "metadata": {},
   "outputs": [
    {
     "name": "stderr",
     "output_type": "stream",
     "text": [
      "100%|██████████| 2976/2976 [00:35<00:00, 84.02it/s]\n",
      "100%|██████████| 2976/2976 [00:36<00:00, 82.16it/s]\n",
      "100%|██████████| 2976/2976 [00:34<00:00, 85.17it/s]\n",
      "100%|██████████| 2976/2976 [00:35<00:00, 84.64it/s]\n",
      "100%|██████████| 2976/2976 [00:36<00:00, 82.62it/s]\n",
      "100%|██████████| 2976/2976 [00:36<00:00, 81.98it/s]\n",
      "100%|██████████| 2976/2976 [00:35<00:00, 83.57it/s]\n",
      "100%|██████████| 2976/2976 [00:36<00:00, 82.30it/s]\n",
      "100%|██████████| 2976/2976 [00:36<00:00, 82.47it/s]\n",
      "100%|██████████| 2976/2976 [00:35<00:00, 83.10it/s]\n",
      "100%|██████████| 2976/2976 [00:35<00:00, 83.09it/s]\n",
      "100%|██████████| 2976/2976 [00:36<00:00, 81.91it/s]\n",
      "100%|██████████| 2976/2976 [00:35<00:00, 82.68it/s]\n",
      "100%|██████████| 2976/2976 [00:35<00:00, 83.44it/s]\n",
      "100%|██████████| 2976/2976 [00:35<00:00, 83.77it/s]\n",
      "100%|██████████| 2976/2976 [00:36<00:00, 81.56it/s]\n",
      "100%|██████████| 2976/2976 [00:35<00:00, 83.66it/s]\n",
      "100%|██████████| 2976/2976 [00:36<00:00, 81.38it/s]\n",
      "100%|██████████| 2976/2976 [00:35<00:00, 83.04it/s]\n",
      "100%|██████████| 2976/2976 [00:35<00:00, 82.74it/s]\n",
      "100%|██████████| 2976/2976 [00:36<00:00, 82.05it/s]\n",
      "100%|██████████| 2976/2976 [00:36<00:00, 81.01it/s]\n",
      "100%|██████████| 2976/2976 [00:36<00:00, 81.84it/s]\n",
      "100%|██████████| 2976/2976 [00:36<00:00, 81.62it/s]\n",
      "100%|██████████| 2976/2976 [00:36<00:00, 82.41it/s]\n",
      "100%|██████████| 2976/2976 [00:36<00:00, 81.46it/s]\n",
      "100%|██████████| 2976/2976 [00:36<00:00, 82.04it/s]\n",
      "100%|██████████| 2976/2976 [00:36<00:00, 81.72it/s]\n",
      "100%|██████████| 2976/2976 [00:36<00:00, 81.92it/s]\n",
      "100%|██████████| 2976/2976 [00:37<00:00, 79.95it/s]\n",
      "100%|██████████| 2976/2976 [00:36<00:00, 82.07it/s]\n",
      "100%|██████████| 2976/2976 [00:36<00:00, 80.68it/s]\n",
      "100%|██████████| 2976/2976 [00:35<00:00, 84.63it/s]\n",
      "100%|██████████| 2976/2976 [00:35<00:00, 84.32it/s]\n",
      "100%|██████████| 2976/2976 [00:34<00:00, 85.68it/s]\n",
      "100%|██████████| 2976/2976 [00:35<00:00, 82.83it/s]\n",
      "100%|██████████| 2976/2976 [00:34<00:00, 85.52it/s]\n",
      "100%|██████████| 2976/2976 [00:35<00:00, 84.88it/s]\n",
      "100%|██████████| 2976/2976 [00:34<00:00, 85.35it/s]\n",
      "100%|██████████| 2976/2976 [00:35<00:00, 84.81it/s]\n",
      "100%|██████████| 2976/2976 [00:35<00:00, 83.74it/s]\n",
      "100%|██████████| 2976/2976 [00:35<00:00, 84.87it/s]\n",
      "100%|██████████| 2976/2976 [00:35<00:00, 84.94it/s]\n",
      "100%|██████████| 2976/2976 [00:35<00:00, 84.42it/s]\n",
      "100%|██████████| 2976/2976 [00:35<00:00, 84.52it/s]\n",
      "100%|██████████| 2976/2976 [00:35<00:00, 84.26it/s]\n",
      "100%|██████████| 2976/2976 [00:36<00:00, 82.23it/s]\n",
      "100%|██████████| 2976/2976 [00:33<00:00, 89.63it/s] \n",
      "100%|██████████| 2976/2976 [00:34<00:00, 87.49it/s] \n",
      "100%|██████████| 2976/2976 [00:33<00:00, 87.96it/s] \n",
      "100%|██████████| 2976/2976 [00:32<00:00, 90.92it/s] \n",
      "100%|██████████| 2976/2976 [00:32<00:00, 90.61it/s] \n",
      "100%|██████████| 2976/2976 [00:33<00:00, 87.66it/s] \n",
      "100%|██████████| 2976/2976 [00:35<00:00, 84.43it/s] \n",
      "100%|██████████| 2976/2976 [00:34<00:00, 85.26it/s] \n",
      "100%|██████████| 2976/2976 [00:35<00:00, 84.02it/s] \n",
      "100%|██████████| 2976/2976 [00:34<00:00, 85.47it/s] \n",
      "100%|██████████| 2976/2976 [00:33<00:00, 87.61it/s] \n",
      "100%|██████████| 2976/2976 [00:33<00:00, 89.18it/s] \n",
      "100%|██████████| 2976/2976 [00:33<00:00, 87.89it/s] \n",
      "100%|██████████| 2976/2976 [00:34<00:00, 86.96it/s] \n",
      "100%|██████████| 2976/2976 [00:33<00:00, 87.85it/s] \n",
      "100%|██████████| 2976/2976 [00:34<00:00, 87.23it/s] \n",
      "100%|██████████| 2976/2976 [00:34<00:00, 87.19it/s] \n",
      "100%|██████████| 2976/2976 [00:34<00:00, 86.29it/s] \n",
      "100%|██████████| 2976/2976 [00:34<00:00, 86.72it/s]\n",
      "100%|██████████| 2976/2976 [00:34<00:00, 87.26it/s]\n",
      "100%|██████████| 2976/2976 [00:34<00:00, 85.22it/s] \n",
      "100%|██████████| 2976/2976 [00:34<00:00, 85.42it/s]\n",
      "100%|██████████| 2976/2976 [00:33<00:00, 89.74it/s] \n",
      "100%|██████████| 2976/2976 [00:35<00:00, 83.62it/s] \n",
      "100%|██████████| 2976/2976 [00:35<00:00, 84.55it/s]\n",
      "100%|██████████| 2976/2976 [00:34<00:00, 85.74it/s]\n",
      "100%|██████████| 2976/2976 [00:34<00:00, 85.60it/s]\n",
      "100%|██████████| 2976/2976 [00:34<00:00, 86.85it/s]\n",
      "100%|██████████| 2976/2976 [00:34<00:00, 86.89it/s]\n",
      "100%|██████████| 2976/2976 [00:34<00:00, 86.40it/s]\n",
      "100%|██████████| 2976/2976 [00:34<00:00, 85.60it/s]\n",
      "100%|██████████| 2976/2976 [00:35<00:00, 83.98it/s]\n",
      "100%|██████████| 2976/2976 [00:34<00:00, 86.34it/s]\n"
     ]
    }
   ],
   "source": [
    "r_flat = []\n",
    "g_flat = []\n",
    "g6_flat = []\n",
    "duty_flat = []\n",
    "for file in flat_files:\n",
    "    data = dataframes.DataStore(file)\n",
    "    duty_flat.append(data.df.Duty.mean().round())\n",
    "    calc = statistics.PropertyCalculator(data)\n",
    "    calc.order()\n",
    "    r, g, g6 = calc.correlations(0)\n",
    "    r_flat.append(r)\n",
    "    g_flat.append(g)\n",
    "    g6_flat.append(g6)\n",
    "\n",
    "    "
   ]
  },
  {
   "cell_type": "code",
   "execution_count": 34,
   "metadata": {},
   "outputs": [],
   "source": [
    "import pandas as pd"
   ]
  },
  {
   "cell_type": "code",
   "execution_count": 59,
   "metadata": {},
   "outputs": [],
   "source": [
    "dataframe = pd.DataFrame({'r': r_flat, 'g': g_flat, 'g6': g6_flat}, index=duty_flat)"
   ]
  },
  {
   "cell_type": "code",
   "execution_count": 60,
   "metadata": {},
   "outputs": [],
   "source": [
    "dataframe.to_csv(\"/media/data/Data/FirstOrder/Correlations/flat.csv\")"
   ]
  },
  {
   "cell_type": "code",
   "execution_count": 57,
   "metadata": {},
   "outputs": [],
   "source": [
    "dataframe_d = pd.DataFrame({'r': r_dimpled, 'g': g_dimpled, 'g6': g6_dimpled}, index=duty_dimpled)"
   ]
  },
  {
   "cell_type": "code",
   "execution_count": 58,
   "metadata": {},
   "outputs": [],
   "source": [
    "dataframe_d.to_csv(\"/media/data/Data/FirstOrder/Correlations/dimple.csv\")"
   ]
  },
  {
   "cell_type": "code",
   "execution_count": null,
   "metadata": {},
   "outputs": [],
   "source": []
  },
  {
   "cell_type": "code",
   "execution_count": 63,
   "metadata": {},
   "outputs": [
    {
     "name": "stderr",
     "output_type": "stream",
     "text": [
      "/home/ppxjd3/.local/lib/python3.7/site-packages/ipykernel_launcher.py:3: RuntimeWarning: invalid value encountered in true_divide\n",
      "  This is separate from the ipykernel package so we can avoid doing imports until\n",
      "/home/ppxjd3/.local/lib/python3.7/site-packages/ipykernel_launcher.py:3: RuntimeWarning: invalid value encountered in true_divide\n",
      "  This is separate from the ipykernel package so we can avoid doing imports until\n",
      "/home/ppxjd3/.local/lib/python3.7/site-packages/ipykernel_launcher.py:3: RuntimeWarning: invalid value encountered in true_divide\n",
      "  This is separate from the ipykernel package so we can avoid doing imports until\n",
      "/home/ppxjd3/.local/lib/python3.7/site-packages/ipykernel_launcher.py:3: RuntimeWarning: invalid value encountered in true_divide\n",
      "  This is separate from the ipykernel package so we can avoid doing imports until\n",
      "/home/ppxjd3/.local/lib/python3.7/site-packages/ipykernel_launcher.py:3: RuntimeWarning: invalid value encountered in true_divide\n",
      "  This is separate from the ipykernel package so we can avoid doing imports until\n",
      "/home/ppxjd3/.local/lib/python3.7/site-packages/ipykernel_launcher.py:3: RuntimeWarning: invalid value encountered in true_divide\n",
      "  This is separate from the ipykernel package so we can avoid doing imports until\n",
      "/home/ppxjd3/.local/lib/python3.7/site-packages/ipykernel_launcher.py:3: RuntimeWarning: invalid value encountered in true_divide\n",
      "  This is separate from the ipykernel package so we can avoid doing imports until\n",
      "/home/ppxjd3/.local/lib/python3.7/site-packages/ipykernel_launcher.py:3: RuntimeWarning: invalid value encountered in true_divide\n",
      "  This is separate from the ipykernel package so we can avoid doing imports until\n",
      "/home/ppxjd3/.local/lib/python3.7/site-packages/ipykernel_launcher.py:3: RuntimeWarning: invalid value encountered in true_divide\n",
      "  This is separate from the ipykernel package so we can avoid doing imports until\n"
     ]
    },
    {
     "ename": "TypeError",
     "evalue": "unsupported operand type(s) for /: 'str' and 'str'",
     "output_type": "error",
     "traceback": [
      "\u001b[0;31m---------------------------------------------------------------------------\u001b[0m",
      "\u001b[0;31mTypeError\u001b[0m                                 Traceback (most recent call last)",
      "\u001b[0;32m<ipython-input-63-2579b087dc09>\u001b[0m in \u001b[0;36m<module>\u001b[0;34m\u001b[0m\n\u001b[1;32m      1\u001b[0m \u001b[0;32mfor\u001b[0m \u001b[0md\u001b[0m \u001b[0;32min\u001b[0m \u001b[0mduty_dimpled\u001b[0m\u001b[0;34m:\u001b[0m\u001b[0;34m\u001b[0m\u001b[0;34m\u001b[0m\u001b[0m\n\u001b[1;32m      2\u001b[0m     \u001b[0mr\u001b[0m\u001b[0;34m,\u001b[0m \u001b[0mg\u001b[0m\u001b[0;34m,\u001b[0m \u001b[0mg6\u001b[0m \u001b[0;34m=\u001b[0m \u001b[0mdataframe_d\u001b[0m\u001b[0;34m.\u001b[0m\u001b[0mloc\u001b[0m\u001b[0;34m[\u001b[0m\u001b[0md\u001b[0m\u001b[0;34m]\u001b[0m\u001b[0;34m\u001b[0m\u001b[0;34m\u001b[0m\u001b[0m\n\u001b[0;32m----> 3\u001b[0;31m     \u001b[0mplt\u001b[0m\u001b[0;34m.\u001b[0m\u001b[0mloglog\u001b[0m\u001b[0;34m(\u001b[0m\u001b[0mr\u001b[0m\u001b[0;34m,\u001b[0m \u001b[0mg6\u001b[0m\u001b[0;34m/\u001b[0m\u001b[0mg\u001b[0m\u001b[0;34m)\u001b[0m\u001b[0;34m\u001b[0m\u001b[0;34m\u001b[0m\u001b[0m\n\u001b[0m",
      "\u001b[0;31mTypeError\u001b[0m: unsupported operand type(s) for /: 'str' and 'str'"
     ]
    }
   ],
   "source": [
    "for d in duty_dimpled:\n",
    "    r, g, g6 = dataframe_d.loc[d]\n",
    "    plt.loglog(r, g6/g)"
   ]
  },
  {
   "cell_type": "code",
   "execution_count": null,
   "metadata": {},
   "outputs": [],
   "source": []
  }
 ],
 "metadata": {
  "kernelspec": {
   "display_name": "Python 3",
   "language": "python",
   "name": "python3"
  },
  "language_info": {
   "codemirror_mode": {
    "name": "ipython",
    "version": 3
   },
   "file_extension": ".py",
   "mimetype": "text/x-python",
   "name": "python",
   "nbconvert_exporter": "python",
   "pygments_lexer": "ipython3",
   "version": "3.7.9"
  }
 },
 "nbformat": 4,
 "nbformat_minor": 4
}
