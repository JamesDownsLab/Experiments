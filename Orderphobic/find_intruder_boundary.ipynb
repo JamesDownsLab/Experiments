{
 "cells": [
  {
   "cell_type": "code",
   "execution_count": 2,
   "metadata": {},
   "outputs": [
    {
     "name": "stderr",
     "output_type": "stream",
     "text": [
      "/home/ppxjd3/miniconda3/envs/Experiments/lib/python3.7/importlib/_bootstrap.py:219: RuntimeWarning: numpy.ufunc size changed, may indicate binary incompatibility. Expected 192 from C header, got 216 from PyObject\n",
      "  return f(*args, **kwds)\n",
      "/home/ppxjd3/miniconda3/envs/Experiments/lib/python3.7/importlib/_bootstrap.py:219: RuntimeWarning: numpy.ufunc size changed, may indicate binary incompatibility. Expected 192 from C header, got 216 from PyObject\n",
      "  return f(*args, **kwds)\n",
      "/home/ppxjd3/miniconda3/envs/Experiments/lib/python3.7/importlib/_bootstrap.py:219: RuntimeWarning: numpy.ufunc size changed, may indicate binary incompatibility. Expected 192 from C header, got 216 from PyObject\n",
      "  return f(*args, **kwds)\n",
      "/home/ppxjd3/miniconda3/envs/Experiments/lib/python3.7/importlib/_bootstrap.py:219: RuntimeWarning: numpy.ufunc size changed, may indicate binary incompatibility. Expected 192 from C header, got 216 from PyObject\n",
      "  return f(*args, **kwds)\n"
     ]
    }
   ],
   "source": [
    "from particletracking import dataframes\n",
    "import numpy as np\n",
    "import matplotlib.pyplot as plt\n",
    "from scipy import spatial"
   ]
  },
  {
   "cell_type": "code",
   "execution_count": 3,
   "metadata": {},
   "outputs": [],
   "source": [
    "pi = 3.141"
   ]
  },
  {
   "cell_type": "code",
   "execution_count": 4,
   "metadata": {},
   "outputs": [
    {
     "name": "stderr",
     "output_type": "stream",
     "text": [
      "/home/ppxjd3/miniconda3/envs/Experiments/lib/python3.7/importlib/_bootstrap.py:219: RuntimeWarning: numpy.ufunc size changed, may indicate binary incompatibility. Expected 192 from C header, got 216 from PyObject\n",
      "  return f(*args, **kwds)\n"
     ]
    }
   ],
   "source": [
    "file_name = \"/media/data/Data/Orderphobic/StuckIntruders/OneIntruderDifferentDuties/17070009.hdf5\"\n",
    "data = dataframes.DataStore(file_name)"
   ]
  },
  {
   "cell_type": "code",
   "execution_count": 5,
   "metadata": {},
   "outputs": [],
   "source": [
    "df = data.df"
   ]
  },
  {
   "cell_type": "code",
   "execution_count": 6,
   "metadata": {},
   "outputs": [],
   "source": [
    "def coarse_order_field(df, cgw, x, y, no_of_neighbours=20):\n",
    "    \"\"\"\n",
    "    Calculate the coarse-grained field characterising local orientation order\n",
    "    \"\"\"\n",
    "\n",
    "    order = df.order.values\n",
    "\n",
    "    # Generate the lattice nodes to query\n",
    "    # x, y = np.meshgrid(x, y)\n",
    "    r = np.dstack((x, y))\n",
    "\n",
    "    # Get the positions of all the particles\n",
    "    particles = df[['x', 'y']].values\n",
    "\n",
    "    # Generate the tree from the particles\n",
    "    tree = spatial.cKDTree(particles)\n",
    "\n",
    "    # Query the tree at all the lattice nodes to find the nearest n particles\n",
    "    # Set n_jobs=-1 to use all cores\n",
    "    dists, indices = tree.query(r, no_of_neighbours, n_jobs=-1)\n",
    "\n",
    "    # Calculate all the coarse-grained delta functions (Katira ArXiv eqn 3\n",
    "    cg_deltas = np.exp(-dists ** 2 / (2 * cgw ** 2)) / (2 * pi * cgw ** 2)\n",
    "\n",
    "    # Multiply by the orders to get the summands\n",
    "    summands = cg_deltas * order[indices]\n",
    "\n",
    "    # Sum along axis 2 to calculate the field\n",
    "    field = np.sum(summands, axis=2)\n",
    "\n",
    "    return field"
   ]
  },
  {
   "cell_type": "code",
   "execution_count": 7,
   "metadata": {},
   "outputs": [],
   "source": [
    "def get_cgw(df):\n",
    "    tree = spatial.cKDTree(df[['x', 'y']].values)\n",
    "    dists, _ = tree.query(tree.data, 2)\n",
    "    cgw = np.mean(dists[:, 1])\n",
    "    return cgw\n",
    "cgw = get_cgw(data.df.loc[0]) / 2"
   ]
  },
  {
   "cell_type": "code",
   "execution_count": 8,
   "metadata": {},
   "outputs": [],
   "source": [
    "from labvision import images"
   ]
  },
  {
   "cell_type": "code",
   "execution_count": 9,
   "metadata": {},
   "outputs": [],
   "source": [
    "def im_to_unit8(im):\n",
    "    im *= 255 / np.max(im)\n",
    "    return np.uint8(im)"
   ]
  },
  {
   "cell_type": "code",
   "execution_count": 10,
   "metadata": {},
   "outputs": [],
   "source": [
    "import cv2"
   ]
  },
  {
   "cell_type": "code",
   "execution_count": 11,
   "metadata": {},
   "outputs": [
    {
     "ename": "NameError",
     "evalue": "name 'field' is not defined",
     "output_type": "error",
     "traceback": [
      "\u001b[0;31m---------------------------------------------------------------------------\u001b[0m",
      "\u001b[0;31mNameError\u001b[0m                                 Traceback (most recent call last)",
      "\u001b[0;32m<ipython-input-11-36be13a1d3b0>\u001b[0m in \u001b[0;36m<module>\u001b[0;34m\u001b[0m\n\u001b[0;32m----> 1\u001b[0;31m \u001b[0mplt\u001b[0m\u001b[0;34m.\u001b[0m\u001b[0mimshow\u001b[0m\u001b[0;34m(\u001b[0m\u001b[0mfield\u001b[0m\u001b[0;34m)\u001b[0m\u001b[0;34m\u001b[0m\u001b[0;34m\u001b[0m\u001b[0m\n\u001b[0m\u001b[1;32m      2\u001b[0m \u001b[0mplt\u001b[0m\u001b[0;34m.\u001b[0m\u001b[0mplot\u001b[0m\u001b[0;34m(\u001b[0m\u001b[0mPOINT\u001b[0m\u001b[0;34m[\u001b[0m\u001b[0;36m0\u001b[0m\u001b[0;34m]\u001b[0m\u001b[0;34m,\u001b[0m \u001b[0mPOINT\u001b[0m\u001b[0;34m[\u001b[0m\u001b[0;36m1\u001b[0m\u001b[0;34m]\u001b[0m\u001b[0;34m,\u001b[0m \u001b[0;34m'x'\u001b[0m\u001b[0;34m)\u001b[0m\u001b[0;34m\u001b[0m\u001b[0;34m\u001b[0m\u001b[0m\n",
      "\u001b[0;31mNameError\u001b[0m: name 'field' is not defined"
     ]
    }
   ],
   "source": [
    "plt.imshow(field)\n",
    "plt.plot(POINT[0], POINT[1], 'x')"
   ]
  },
  {
   "cell_type": "code",
   "execution_count": 12,
   "metadata": {},
   "outputs": [],
   "source": [
    "POINT = 200, 150"
   ]
  },
  {
   "cell_type": "code",
   "execution_count": 15,
   "metadata": {},
   "outputs": [],
   "source": [
    "def disordered_size(df, lattice_spacing=5, i=0):\n",
    "    x = np.arange(0, max(df.x), lattice_spacing)\n",
    "    y = np.arange(0, max(df.y), lattice_spacing)\n",
    "    x, y = np.meshgrid(x, y)\n",
    "    cgw = get_cgw(df.loc[i]) / 2\n",
    "    field = coarse_order_field(df.loc[i], cgw, x, y)\n",
    "    field8 = im_to_unit8(field)\n",
    "    blur = cv2.blur(field8, (13, 13))\n",
    "    threshold = images.threshold(blur, np.mean(blur)+np.std(blur)/4)\n",
    "    contours = images.find_contours(threshold)\n",
    "    contours = images.sort_contours(contours)\n",
    "    dists = np.array([cv2.pointPolygonTest(c, POINT, True) for c in contours])\n",
    "    contours = [c for c, d in zip(contours, dists) if d > 0]\n",
    "    try:\n",
    "        area = cv2.contourArea(contours[0])\n",
    "    except IndexError as e:\n",
    "        print('no contour')\n",
    "    return area"
   ]
  },
  {
   "cell_type": "code",
   "execution_count": 16,
   "metadata": {},
   "outputs": [],
   "source": [
    "def find_disordered_contours(df, lattice_spacing=5, i=0):\n",
    "    x = np.arange(0, max(df.x), lattice_spacing)\n",
    "    y = np.arange(0, max(df.y), lattice_spacing)\n",
    "    x, y = np.meshgrid(x, y)\n",
    "    cgw = get_cgw(df.loc[i]) / 2\n",
    "    field = coarse_order_field(df.loc[i], cgw, x, y)\n",
    "    field8 = im_to_unit8(field)\n",
    "    blur = cv2.blur(field8, (13, 13))\n",
    "    threshold = images.threshold(blur, np.mean(blur)+np.std(blur)/4)\n",
    "    contours = images.find_contours(threshold)\n",
    "    contours = images.sort_contours(contours)\n",
    "    dists = np.array([cv2.pointPolygonTest(c, POINT, True) for c in contours])\n",
    "    contours = [c for c, d in zip(contours, dists) if d > 0]\n",
    "    return contours"
   ]
  },
  {
   "cell_type": "code",
   "execution_count": 17,
   "metadata": {},
   "outputs": [],
   "source": [
    "contours = find_disordered_contours(data.df)"
   ]
  },
  {
   "cell_type": "code",
   "execution_count": 18,
   "metadata": {},
   "outputs": [
    {
     "data": {
      "image/png": "[encoded data removed]",
      "text/plain": [
       "<Figure size 432x288 with 1 Axes>"
      ]
     },
     "metadata": {
      "needs_background": "light"
     },
     "output_type": "display_data"
    }
   ],
   "source": [
    "for c in contours:\n",
    "    plt.plot(c[:, :, 0], c[:, :, 1])"
   ]
  },
  {
   "cell_type": "code",
   "execution_count": 21,
   "metadata": {},
   "outputs": [],
   "source": [
    "contour = contours[0]"
   ]
  },
  {
   "cell_type": "code",
   "execution_count": 22,
   "metadata": {},
   "outputs": [],
   "source": [
    "def fluctuations(contour, p):\n",
    "    dxs = contour[:, :, 0] - p[0]\n",
    "    dys = contour[:, :, 1] - p[1]\n",
    "    drs = np.sqrt(dxs**2 + dys**2)\n",
    "    return drs"
   ]
  },
  {
   "cell_type": "code",
   "execution_count": 23,
   "metadata": {},
   "outputs": [],
   "source": [
    "drs = fluctuations(contour, POINT)"
   ]
  },
  {
   "cell_type": "code",
   "execution_count": 24,
   "metadata": {},
   "outputs": [],
   "source": [
    "radius = np.mean(drs)"
   ]
  },
  {
   "cell_type": "code",
   "execution_count": 25,
   "metadata": {},
   "outputs": [
    {
     "data": {
      "text/plain": [
       "80.54896541120476"
      ]
     },
     "execution_count": 25,
     "metadata": {},
     "output_type": "execute_result"
    }
   ],
   "source": [
    "radius"
   ]
  },
  {
   "cell_type": "code",
   "execution_count": 26,
   "metadata": {},
   "outputs": [],
   "source": [
    "deviation_from_radius = drs - radius"
   ]
  },
  {
   "cell_type": "code",
   "execution_count": 27,
   "metadata": {},
   "outputs": [
    {
     "data": {
      "text/plain": [
       "[<matplotlib.lines.Line2D at 0x7ff5e1200490>]"
      ]
     },
     "execution_count": 27,
     "metadata": {},
     "output_type": "execute_result"
    },
    {
     "data": {
      "image/png": "[encoded data removed]",
      "text/plain": [
       "<Figure size 432x288 with 1 Axes>"
      ]
     },
     "metadata": {
      "needs_background": "light"
     },
     "output_type": "display_data"
    }
   ],
   "source": [
    "plt.plot(deviation_from_radius)"
   ]
  },
  {
   "cell_type": "code",
   "execution_count": 55,
   "metadata": {},
   "outputs": [],
   "source": [
    "from shapely.geometry import LineString, Point, MultiPoint"
   ]
  },
  {
   "cell_type": "code",
   "execution_count": 32,
   "metadata": {},
   "outputs": [
    {
     "data": {
      "text/plain": [
       "(279, 2)"
      ]
     },
     "execution_count": 32,
     "metadata": {},
     "output_type": "execute_result"
    }
   ],
   "source": [
    "contour.squeeze().shape"
   ]
  },
  {
   "cell_type": "code",
   "execution_count": 33,
   "metadata": {},
   "outputs": [],
   "source": [
    "shapely_contour = LineString(contour.squeeze())"
   ]
  },
  {
   "cell_type": "code",
   "execution_count": 34,
   "metadata": {},
   "outputs": [
    {
     "data": {
      "image/svg+xml": [
       "<svg xmlns=\"http://www.w3.org/2000/svg\" xmlns:xlink=\"http://www.w3.org/1999/xlink\" width=\"185.76\" height=\"183.76\" viewBox=\"152.12 41.12 185.76 183.76\" preserveAspectRatio=\"xMinYMin meet\"><g transform=\"matrix(1,0,0,-1,0,266.0)\"><polyline fill=\"none\" stroke=\"#66cc99\" stroke-width=\"2.0\" points=\"252.0,49.0 253.0,48.0 256.0,48.0 257.0,49.0 258.0,49.0 260.0,51.0 260.0,61.0 259.0,62.0 259.0,63.0 258.0,64.0 258.0,65.0 256.0,67.0 256.0,68.0 255.0,69.0 255.0,70.0 254.0,71.0 254.0,73.0 255.0,74.0 255.0,77.0 256.0,78.0 256.0,80.0 255.0,81.0 255.0,82.0 252.0,85.0 250.0,85.0 249.0,86.0 248.0,86.0 246.0,88.0 246.0,90.0 247.0,91.0 247.0,92.0 248.0,93.0 248.0,94.0 249.0,95.0 249.0,96.0 250.0,97.0 250.0,98.0 251.0,99.0 251.0,101.0 252.0,102.0 252.0,106.0 253.0,107.0 253.0,109.0 254.0,110.0 255.0,110.0 256.0,111.0 260.0,111.0 261.0,112.0 262.0,112.0 263.0,113.0 264.0,113.0 266.0,115.0 266.0,116.0 267.0,117.0 267.0,118.0 268.0,119.0 268.0,123.0 269.0,124.0 269.0,126.0 274.0,131.0 276.0,131.0 277.0,132.0 278.0,131.0 286.0,131.0 287.0,132.0 288.0,132.0 289.0,133.0 290.0,133.0 293.0,136.0 294.0,136.0 296.0,138.0 298.0,138.0 299.0,139.0 305.0,139.0 306.0,140.0 310.0,140.0 311.0,139.0 319.0,139.0 320.0,140.0 321.0,140.0 324.0,143.0 324.0,146.0 323.0,147.0 323.0,148.0 320.0,151.0 320.0,155.0 323.0,158.0 324.0,158.0 325.0,159.0 326.0,159.0 329.0,162.0 329.0,163.0 330.0,164.0 330.0,165.0 331.0,166.0 331.0,171.0 328.0,174.0 326.0,174.0 325.0,175.0 322.0,175.0 321.0,176.0 320.0,176.0 319.0,177.0 318.0,177.0 307.0,188.0 307.0,189.0 306.0,190.0 305.0,190.0 302.0,193.0 302.0,194.0 301.0,195.0 301.0,197.0 302.0,198.0 302.0,200.0 303.0,201.0 303.0,203.0 304.0,204.0 303.0,205.0 303.0,207.0 302.0,208.0 302.0,209.0 300.0,211.0 298.0,211.0 297.0,210.0 295.0,210.0 294.0,209.0 287.0,209.0 286.0,210.0 285.0,210.0 284.0,211.0 283.0,211.0 281.0,213.0 278.0,213.0 277.0,214.0 272.0,214.0 271.0,213.0 266.0,213.0 265.0,212.0 264.0,212.0 262.0,210.0 262.0,208.0 261.0,207.0 261.0,202.0 260.0,201.0 260.0,200.0 258.0,198.0 247.0,198.0 244.0,201.0 243.0,201.0 240.0,204.0 238.0,204.0 237.0,205.0 235.0,205.0 234.0,206.0 224.0,206.0 223.0,207.0 222.0,207.0 221.0,208.0 221.0,209.0 220.0,210.0 220.0,211.0 219.0,212.0 219.0,213.0 218.0,214.0 218.0,215.0 216.0,217.0 215.0,217.0 214.0,218.0 210.0,218.0 209.0,217.0 203.0,217.0 202.0,218.0 196.0,218.0 191.0,213.0 191.0,212.0 189.0,210.0 184.0,210.0 183.0,211.0 181.0,211.0 180.0,210.0 177.0,210.0 175.0,208.0 174.0,208.0 172.0,206.0 172.0,205.0 171.0,204.0 171.0,203.0 170.0,202.0 170.0,199.0 169.0,198.0 169.0,197.0 168.0,196.0 168.0,194.0 163.0,189.0 162.0,189.0 160.0,187.0 160.0,186.0 159.0,185.0 159.0,184.0 160.0,183.0 160.0,182.0 165.0,177.0 165.0,175.0 166.0,174.0 165.0,173.0 165.0,171.0 164.0,170.0 164.0,169.0 163.0,168.0 163.0,167.0 162.0,166.0 162.0,164.0 161.0,163.0 161.0,160.0 160.0,159.0 160.0,156.0 159.0,155.0 159.0,154.0 160.0,153.0 160.0,147.0 161.0,146.0 161.0,141.0 162.0,140.0 162.0,137.0 163.0,136.0 163.0,134.0 165.0,132.0 165.0,131.0 170.0,126.0 171.0,126.0 172.0,125.0 173.0,125.0 174.0,124.0 176.0,124.0 177.0,123.0 189.0,123.0 198.0,114.0 198.0,106.0 199.0,105.0 199.0,103.0 200.0,102.0 200.0,101.0 206.0,95.0 207.0,95.0 208.0,94.0 209.0,94.0 211.0,92.0 211.0,91.0 212.0,90.0 212.0,87.0 213.0,86.0 213.0,84.0 214.0,83.0 214.0,82.0 215.0,81.0 215.0,80.0 216.0,79.0 216.0,77.0 219.0,74.0 219.0,73.0 222.0,70.0 222.0,69.0 223.0,68.0 223.0,66.0 224.0,65.0 224.0,64.0 227.0,61.0 229.0,61.0 230.0,62.0 232.0,62.0 238.0,68.0 242.0,68.0 243.0,67.0 244.0,67.0 247.0,64.0 247.0,55.0 248.0,54.0 248.0,51.0 250.0,49.0\" opacity=\"0.8\" /></g></svg>"
      ],
      "text/plain": [
       "<shapely.geometry.linestring.LineString at 0x7ff5e1149bd0>"
      ]
     },
     "execution_count": 34,
     "metadata": {},
     "output_type": "execute_result"
    }
   ],
   "source": [
    "shapely_contour"
   ]
  },
  {
   "cell_type": "code",
   "execution_count": 38,
   "metadata": {},
   "outputs": [],
   "source": [
    "point = Point(POINT)\n",
    "circle = point.buffer(radius)"
   ]
  },
  {
   "cell_type": "code",
   "execution_count": 82,
   "metadata": {},
   "outputs": [],
   "source": [
    "angles = np.linspace(0, 2*pi, 100)"
   ]
  },
  {
   "cell_type": "code",
   "execution_count": 83,
   "metadata": {},
   "outputs": [],
   "source": [
    "crosses = []\n",
    "distances = []\n",
    "for a in angles:\n",
    "    new_line = LineString((POINT, (POINT[0] + np.cos(a)*4*radius, POINT[1] + np.sin(a)*4*radius)))\n",
    "    intersections = new_line.intersection(shapely_contour)\n",
    "    try:\n",
    "        intersection = intersections[0]\n",
    "    except TypeError:\n",
    "        intersection = intersections\n",
    "    crosses.append(intersection)\n",
    "    dx = intersection.x - POINT[0] + np.cos(a)*radius\n",
    "    dy = intersection.y - POINT[1] + np.sin(a)*radius\n",
    "    distances.append(dx**2 + dy**2)"
   ]
  },
  {
   "cell_type": "code",
   "execution_count": 84,
   "metadata": {},
   "outputs": [],
   "source": [
    "crosses = MultiPoint(crosses)"
   ]
  },
  {
   "cell_type": "code",
   "execution_count": 85,
   "metadata": {},
   "outputs": [
    {
     "data": {
      "image/svg+xml": [
       "<svg xmlns=\"http://www.w3.org/2000/svg\" xmlns:xlink=\"http://www.w3.org/1999/xlink\" width=\"185.68688412464653\" height=\"178.67099180395226\" viewBox=\"152.19040787997002 46.20630020066428 185.68688412464653 178.67099180395226\" preserveAspectRatio=\"xMinYMin meet\"><g transform=\"matrix(1,0,0,-1,0,271.0835922052808)\"><g><circle cx=\"321.0\" cy=\"150.0\" r=\"3.0\" stroke=\"#555555\" stroke-width=\"1.0\" fill=\"#66cc99\" opacity=\"0.6\" /><circle cx=\"322.80287620927106\" cy=\"157.8028762092711\" r=\"3.0\" stroke=\"#555555\" stroke-width=\"1.0\" fill=\"#66cc99\" opacity=\"0.6\" /><circle cx=\"331.0\" cy=\"166.71492380337975\" r=\"3.0\" stroke=\"#555555\" stroke-width=\"1.0\" fill=\"#66cc99\" opacity=\"0.6\" /><circle cx=\"325.7653924474985\" cy=\"174.23460755250147\" r=\"3.0\" stroke=\"#555555\" stroke-width=\"1.0\" fill=\"#66cc99\" opacity=\"0.6\" /><circle cx=\"315.13299919715956\" cy=\"179.8670008028404\" r=\"3.0\" stroke=\"#555555\" stroke-width=\"1.0\" fill=\"#66cc99\" opacity=\"0.6\" /><circle cx=\"309.1567164043301\" cy=\"185.84328359566987\" r=\"3.0\" stroke=\"#555555\" stroke-width=\"1.0\" fill=\"#66cc99\" opacity=\"0.6\" /><circle cx=\"303.5524739153309\" cy=\"191.4475260846691\" r=\"3.0\" stroke=\"#555555\" stroke-width=\"1.0\" fill=\"#66cc99\" opacity=\"0.6\" /><circle cx=\"302.0\" cy=\"198.54172728022024\" r=\"3.0\" stroke=\"#555555\" stroke-width=\"1.0\" fill=\"#66cc99\" opacity=\"0.6\" /><circle cx=\"302.81060871405947\" cy=\"207.18939128594053\" r=\"3.0\" stroke=\"#555555\" stroke-width=\"1.0\" fill=\"#66cc99\" opacity=\"0.6\" /><circle cx=\"291.82754632018157\" cy=\"209.0\" r=\"3.0\" stroke=\"#555555\" stroke-width=\"1.0\" fill=\"#66cc99\" opacity=\"0.6\" /><circle cx=\"282.944541223271\" cy=\"211.05545877672898\" r=\"3.0\" stroke=\"#555555\" stroke-width=\"1.0\" fill=\"#66cc99\" opacity=\"0.6\" /><circle cx=\"257.2194749598059\" cy=\"198.0\" r=\"3.0\" stroke=\"#555555\" stroke-width=\"1.0\" fill=\"#66cc99\" opacity=\"0.6\" /><circle cx=\"250.35543509898915\" cy=\"198.0\" r=\"3.0\" stroke=\"#555555\" stroke-width=\"1.0\" fill=\"#66cc99\" opacity=\"0.6\" /><circle cx=\"245.6222537165312\" cy=\"199.3777462834688\" r=\"3.0\" stroke=\"#555555\" stroke-width=\"1.0\" fill=\"#66cc99\" opacity=\"0.6\" /><circle cx=\"242.14344775239445\" cy=\"201.85655224760555\" r=\"3.0\" stroke=\"#555555\" stroke-width=\"1.0\" fill=\"#66cc99\" opacity=\"0.6\" /><circle cx=\"238.46784342503122\" cy=\"204.0\" r=\"3.0\" stroke=\"#555555\" stroke-width=\"1.0\" fill=\"#66cc99\" opacity=\"0.6\" /><circle cx=\"234.46950260091546\" cy=\"205.53049739908454\" r=\"3.0\" stroke=\"#555555\" stroke-width=\"1.0\" fill=\"#66cc99\" opacity=\"0.6\" /><circle cx=\"230.01873239275545\" cy=\"206.0\" r=\"3.0\" stroke=\"#555555\" stroke-width=\"1.0\" fill=\"#66cc99\" opacity=\"0.6\" /><circle cx=\"225.58893013520338\" cy=\"206.0\" r=\"3.0\" stroke=\"#555555\" stroke-width=\"1.0\" fill=\"#66cc99\" opacity=\"0.6\" /><circle cx=\"221.84909792057096\" cy=\"207.15090207942904\" r=\"3.0\" stroke=\"#555555\" stroke-width=\"1.0\" fill=\"#66cc99\" opacity=\"0.6\" /><circle cx=\"219.22480252885367\" cy=\"211.77519747114633\" r=\"3.0\" stroke=\"#555555\" stroke-width=\"1.0\" fill=\"#66cc99\" opacity=\"0.6\" /><circle cx=\"216.21873870272933\" cy=\"216.78126129727067\" r=\"3.0\" stroke=\"#555555\" stroke-width=\"1.0\" fill=\"#66cc99\" opacity=\"0.6\" /><circle cx=\"212.00870373903425\" cy=\"218.0\" r=\"3.0\" stroke=\"#555555\" stroke-width=\"1.0\" fill=\"#66cc99\" opacity=\"0.6\" /><circle cx=\"207.4908797559497\" cy=\"217.0\" r=\"3.0\" stroke=\"#555555\" stroke-width=\"1.0\" fill=\"#66cc99\" opacity=\"0.6\" /><circle cx=\"203.21089957776675\" cy=\"217.0\" r=\"3.0\" stroke=\"#555555\" stroke-width=\"1.0\" fill=\"#66cc99\" opacity=\"0.6\" /><circle cx=\"198.94133742878373\" cy=\"218.0\" r=\"3.0\" stroke=\"#555555\" stroke-width=\"1.0\" fill=\"#66cc99\" opacity=\"0.6\" /><circle cx=\"194.71690513408305\" cy=\"216.71690513408305\" r=\"3.0\" stroke=\"#555555\" stroke-width=\"1.0\" fill=\"#66cc99\" opacity=\"0.6\" /><circle cx=\"191.0\" cy=\"212.7403473287257\" r=\"3.0\" stroke=\"#555555\" stroke-width=\"1.0\" fill=\"#66cc99\" opacity=\"0.6\" /><circle cx=\"187.46646817192942\" cy=\"210.0\" r=\"3.0\" stroke=\"#555555\" stroke-width=\"1.0\" fill=\"#66cc99\" opacity=\"0.6\" /><circle cx=\"183.21840353760732\" cy=\"210.78159646239268\" r=\"3.0\" stroke=\"#555555\" stroke-width=\"1.0\" fill=\"#66cc99\" opacity=\"0.6\" /><circle cx=\"179.2579276849435\" cy=\"210.0\" r=\"3.0\" stroke=\"#555555\" stroke-width=\"1.0\" fill=\"#66cc99\" opacity=\"0.6\" /><circle cx=\"175.51530782659145\" cy=\"208.51530782659145\" r=\"3.0\" stroke=\"#555555\" stroke-width=\"1.0\" fill=\"#66cc99\" opacity=\"0.6\" /><circle cx=\"172.18216677246113\" cy=\"206.18216677246113\" r=\"3.0\" stroke=\"#555555\" stroke-width=\"1.0\" fill=\"#66cc99\" opacity=\"0.6\" /><circle cx=\"170.00328097708802\" cy=\"202.00328097708802\" r=\"3.0\" stroke=\"#555555\" stroke-width=\"1.0\" fill=\"#66cc99\" opacity=\"0.6\" /><circle cx=\"168.8545429492571\" cy=\"196.8545429492571\" r=\"3.0\" stroke=\"#555555\" stroke-width=\"1.0\" fill=\"#66cc99\" opacity=\"0.6\" /><circle cx=\"167.17243931048222\" cy=\"193.17243931048222\" r=\"3.0\" stroke=\"#555555\" stroke-width=\"1.0\" fill=\"#66cc99\" opacity=\"0.6\" /><circle cx=\"164.7342767205094\" cy=\"190.7342767205094\" r=\"3.0\" stroke=\"#555555\" stroke-width=\"1.0\" fill=\"#66cc99\" opacity=\"0.6\" /><circle cx=\"161.82249541480658\" cy=\"188.82249541480658\" r=\"3.0\" stroke=\"#555555\" stroke-width=\"1.0\" fill=\"#66cc99\" opacity=\"0.6\" /><circle cx=\"159.90490799680762\" cy=\"185.90490799680762\" r=\"3.0\" stroke=\"#555555\" stroke-width=\"1.0\" fill=\"#66cc99\" opacity=\"0.6\" /><circle cx=\"162.41225335564735\" cy=\"179.58774664435265\" r=\"3.0\" stroke=\"#555555\" stroke-width=\"1.0\" fill=\"#66cc99\" opacity=\"0.6\" /><circle cx=\"165.66332114780462\" cy=\"173.66332114780462\" r=\"3.0\" stroke=\"#555555\" stroke-width=\"1.0\" fill=\"#66cc99\" opacity=\"0.6\" /><circle cx=\"164.98621789607574\" cy=\"170.98621789607574\" r=\"3.0\" stroke=\"#555555\" stroke-width=\"1.0\" fill=\"#66cc99\" opacity=\"0.6\" /><circle cx=\"163.7244443279277\" cy=\"168.7244443279277\" r=\"3.0\" stroke=\"#555555\" stroke-width=\"1.0\" fill=\"#66cc99\" opacity=\"0.6\" /><circle cx=\"162.45460261647838\" cy=\"166.45460261647838\" r=\"3.0\" stroke=\"#555555\" stroke-width=\"1.0\" fill=\"#66cc99\" opacity=\"0.6\" /><circle cx=\"161.8926719662086\" cy=\"163.8926719662086\" r=\"3.0\" stroke=\"#555555\" stroke-width=\"1.0\" fill=\"#66cc99\" opacity=\"0.6\" /><circle cx=\"161.0\" cy=\"161.47426070591837\" r=\"3.0\" stroke=\"#555555\" stroke-width=\"1.0\" fill=\"#66cc99\" opacity=\"0.6\" /><circle cx=\"160.0469285905899\" cy=\"159.0469285905899\" r=\"3.0\" stroke=\"#555555\" stroke-width=\"1.0\" fill=\"#66cc99\" opacity=\"0.6\" /><circle cx=\"160.0\" cy=\"156.4235398903149\" r=\"3.0\" stroke=\"#555555\" stroke-width=\"1.0\" fill=\"#66cc99\" opacity=\"0.6\" /><circle cx=\"159.06769988458657\" cy=\"153.93230011541343\" r=\"3.0\" stroke=\"#555555\" stroke-width=\"1.0\" fill=\"#66cc99\" opacity=\"0.6\" /><circle cx=\"160.0\" cy=\"151.29324738314247\" r=\"3.0\" stroke=\"#555555\" stroke-width=\"1.0\" fill=\"#66cc99\" opacity=\"0.6\" /><circle cx=\"160.0\" cy=\"148.75421266780938\" r=\"3.0\" stroke=\"#555555\" stroke-width=\"1.0\" fill=\"#66cc99\" opacity=\"0.6\" /><circle cx=\"160.72601263711394\" cy=\"146.27398736288606\" r=\"3.0\" stroke=\"#555555\" stroke-width=\"1.0\" fill=\"#66cc99\" opacity=\"0.6\" /><circle cx=\"161.0\" cy=\"143.78445871691406\" r=\"3.0\" stroke=\"#555555\" stroke-width=\"1.0\" fill=\"#66cc99\" opacity=\"0.6\" /><circle cx=\"161.0\" cy=\"141.2174680593352\" r=\"3.0\" stroke=\"#555555\" stroke-width=\"1.0\" fill=\"#66cc99\" opacity=\"0.6\" /><circle cx=\"162.0\" cy=\"138.86887457545598\" r=\"3.0\" stroke=\"#555555\" stroke-width=\"1.0\" fill=\"#66cc99\" opacity=\"0.6\" /><circle cx=\"162.5887053152847\" cy=\"136.4112946847153\" r=\"3.0\" stroke=\"#555555\" stroke-width=\"1.0\" fill=\"#66cc99\" opacity=\"0.6\" /><circle cx=\"163.1136687881042\" cy=\"133.8863312118958\" r=\"3.0\" stroke=\"#555555\" stroke-width=\"1.0\" fill=\"#66cc99\" opacity=\"0.6\" /><circle cx=\"165.0\" cy=\"131.98646930236828\" r=\"3.0\" stroke=\"#555555\" stroke-width=\"1.0\" fill=\"#66cc99\" opacity=\"0.6\" /><circle cx=\"166.20268861304197\" cy=\"129.79731138695803\" r=\"3.0\" stroke=\"#555555\" stroke-width=\"1.0\" fill=\"#66cc99\" opacity=\"0.6\" /><circle cx=\"167.99827365795514\" cy=\"128.00172634204486\" r=\"3.0\" stroke=\"#555555\" stroke-width=\"1.0\" fill=\"#66cc99\" opacity=\"0.6\" /><circle cx=\"169.75207987831203\" cy=\"126.24792012168795\" r=\"3.0\" stroke=\"#555555\" stroke-width=\"1.0\" fill=\"#66cc99\" opacity=\"0.6\" /><circle cx=\"172.0157698086133\" cy=\"125.0\" r=\"3.0\" stroke=\"#555555\" stroke-width=\"1.0\" fill=\"#66cc99\" opacity=\"0.6\" /><circle cx=\"174.37126866819946\" cy=\"124.0\" r=\"3.0\" stroke=\"#555555\" stroke-width=\"1.0\" fill=\"#66cc99\" opacity=\"0.6\" /><circle cx=\"176.76908268788716\" cy=\"123.23091731211285\" r=\"3.0\" stroke=\"#555555\" stroke-width=\"1.0\" fill=\"#66cc99\" opacity=\"0.6\" /><circle cx=\"179.41912406912542\" cy=\"123.0\" r=\"3.0\" stroke=\"#555555\" stroke-width=\"1.0\" fill=\"#66cc99\" opacity=\"0.6\" /><circle cx=\"182.0062033727984\" cy=\"123.0\" r=\"3.0\" stroke=\"#555555\" stroke-width=\"1.0\" fill=\"#66cc99\" opacity=\"0.6\" /><circle cx=\"184.3830823693189\" cy=\"123.0\" r=\"3.0\" stroke=\"#555555\" stroke-width=\"1.0\" fill=\"#66cc99\" opacity=\"0.6\" /><circle cx=\"186.59144579509194\" cy=\"123.0\" r=\"3.0\" stroke=\"#555555\" stroke-width=\"1.0\" fill=\"#66cc99\" opacity=\"0.6\" /><circle cx=\"188.66470384312544\" cy=\"123.0\" r=\"3.0\" stroke=\"#555555\" stroke-width=\"1.0\" fill=\"#66cc99\" opacity=\"0.6\" /><circle cx=\"190.21023757976968\" cy=\"121.78976242023033\" r=\"3.0\" stroke=\"#555555\" stroke-width=\"1.0\" fill=\"#66cc99\" opacity=\"0.6\" /><circle cx=\"191.74856003609398\" cy=\"120.25143996390602\" r=\"3.0\" stroke=\"#555555\" stroke-width=\"1.0\" fill=\"#66cc99\" opacity=\"0.6\" /><circle cx=\"193.40159706497403\" cy=\"118.59840293502596\" r=\"3.0\" stroke=\"#555555\" stroke-width=\"1.0\" fill=\"#66cc99\" opacity=\"0.6\" /><circle cx=\"195.19768105176826\" cy=\"116.80231894823174\" r=\"3.0\" stroke=\"#555555\" stroke-width=\"1.0\" fill=\"#66cc99\" opacity=\"0.6\" /><circle cx=\"197.172822527787\" cy=\"114.82717747221302\" r=\"3.0\" stroke=\"#555555\" stroke-width=\"1.0\" fill=\"#66cc99\" opacity=\"0.6\" /><circle cx=\"199.20905086901917\" cy=\"102.79094913098082\" r=\"3.0\" stroke=\"#555555\" stroke-width=\"1.0\" fill=\"#66cc99\" opacity=\"0.6\" /><circle cx=\"202.40233499184163\" cy=\"98.59766500815837\" r=\"3.0\" stroke=\"#555555\" stroke-width=\"1.0\" fill=\"#66cc99\" opacity=\"0.6\" /><circle cx=\"206.08323156083264\" cy=\"95.0\" r=\"3.0\" stroke=\"#555555\" stroke-width=\"1.0\" fill=\"#66cc99\" opacity=\"0.6\" /><circle cx=\"209.9957123134754\" cy=\"93.0042876865246\" r=\"3.0\" stroke=\"#555555\" stroke-width=\"1.0\" fill=\"#66cc99\" opacity=\"0.6\" /><circle cx=\"218.15909581951712\" cy=\"74.84090418048288\" r=\"3.0\" stroke=\"#555555\" stroke-width=\"1.0\" fill=\"#66cc99\" opacity=\"0.6\" /><circle cx=\"227.58165364225093\" cy=\"61.0\" r=\"3.0\" stroke=\"#555555\" stroke-width=\"1.0\" fill=\"#66cc99\" opacity=\"0.6\" /><circle cx=\"233.10313839160202\" cy=\"63.103138391602016\" r=\"3.0\" stroke=\"#555555\" stroke-width=\"1.0\" fill=\"#66cc99\" opacity=\"0.6\" /><circle cx=\"237.55485043371735\" cy=\"67.55485043371735\" r=\"3.0\" stroke=\"#555555\" stroke-width=\"1.0\" fill=\"#66cc99\" opacity=\"0.6\" /><circle cx=\"244.78517491895832\" cy=\"66.2148250810417\" r=\"3.0\" stroke=\"#555555\" stroke-width=\"1.0\" fill=\"#66cc99\" opacity=\"0.6\" /><circle cx=\"260.0\" cy=\"53.083592205280816\" r=\"3.0\" stroke=\"#555555\" stroke-width=\"1.0\" fill=\"#66cc99\" opacity=\"0.6\" /><circle cx=\"254.41788506808007\" cy=\"73.41788506808008\" r=\"3.0\" stroke=\"#555555\" stroke-width=\"1.0\" fill=\"#66cc99\" opacity=\"0.6\" /><circle cx=\"247.01222701598104\" cy=\"92.01222701598104\" r=\"3.0\" stroke=\"#555555\" stroke-width=\"1.0\" fill=\"#66cc99\" opacity=\"0.6\" /><circle cx=\"249.40298610560984\" cy=\"96.40298610560986\" r=\"3.0\" stroke=\"#555555\" stroke-width=\"1.0\" fill=\"#66cc99\" opacity=\"0.6\" /><circle cx=\"251.13811203646918\" cy=\"101.13811203646918\" r=\"3.0\" stroke=\"#555555\" stroke-width=\"1.0\" fill=\"#66cc99\" opacity=\"0.6\" /><circle cx=\"252.14850032104962\" cy=\"106.14850032104961\" r=\"3.0\" stroke=\"#555555\" stroke-width=\"1.0\" fill=\"#66cc99\" opacity=\"0.6\" /><circle cx=\"254.205761548483\" cy=\"110.0\" r=\"3.0\" stroke=\"#555555\" stroke-width=\"1.0\" fill=\"#66cc99\" opacity=\"0.6\" /><circle cx=\"260.21221602175746\" cy=\"111.21221602175748\" r=\"3.0\" stroke=\"#555555\" stroke-width=\"1.0\" fill=\"#66cc99\" opacity=\"0.6\" /><circle cx=\"264.83449408280626\" cy=\"113.83449408280626\" r=\"3.0\" stroke=\"#555555\" stroke-width=\"1.0\" fill=\"#66cc99\" opacity=\"0.6\" /><circle cx=\"267.01170411193874\" cy=\"118.01170411193873\" r=\"3.0\" stroke=\"#555555\" stroke-width=\"1.0\" fill=\"#66cc99\" opacity=\"0.6\" /><circle cx=\"268.0\" cy=\"122.68901622413868\" r=\"3.0\" stroke=\"#555555\" stroke-width=\"1.0\" fill=\"#66cc99\" opacity=\"0.6\" /><circle cx=\"269.94169399260977\" cy=\"126.94169399260976\" r=\"3.0\" stroke=\"#555555\" stroke-width=\"1.0\" fill=\"#66cc99\" opacity=\"0.6\" /><circle cx=\"273.7697994908882\" cy=\"130.7697994908882\" r=\"3.0\" stroke=\"#555555\" stroke-width=\"1.0\" fill=\"#66cc99\" opacity=\"0.6\" /><circle cx=\"288.7826808545217\" cy=\"132.7826808545217\" r=\"3.0\" stroke=\"#555555\" stroke-width=\"1.0\" fill=\"#66cc99\" opacity=\"0.6\" /><circle cx=\"295.6768566915827\" cy=\"137.6768566915827\" r=\"3.0\" stroke=\"#555555\" stroke-width=\"1.0\" fill=\"#66cc99\" opacity=\"0.6\" /><circle cx=\"323.03588335596305\" cy=\"142.03588335596308\" r=\"3.0\" stroke=\"#555555\" stroke-width=\"1.0\" fill=\"#66cc99\" opacity=\"0.6\" /><circle cx=\"321.1435924371235\" cy=\"149.85640756287648\" r=\"3.0\" stroke=\"#555555\" stroke-width=\"1.0\" fill=\"#66cc99\" opacity=\"0.6\" /></g></g></svg>"
      ],
      "text/plain": [
       "<shapely.geometry.multipoint.MultiPoint at 0x7ff5de6a8c90>"
      ]
     },
     "execution_count": 85,
     "metadata": {},
     "output_type": "execute_result"
    }
   ],
   "source": [
    "crosses"
   ]
  },
  {
   "cell_type": "code",
   "execution_count": 86,
   "metadata": {},
   "outputs": [
    {
     "data": {
      "text/plain": [
       "[<matplotlib.lines.Line2D at 0x7ff5de659810>]"
      ]
     },
     "execution_count": 86,
     "metadata": {},
     "output_type": "execute_result"
    },
    {
     "data": {
      "image/png": "[encoded data removed]",
      "text/plain": [
       "<Figure size 432x288 with 1 Axes>"
      ]
     },
     "metadata": {
      "needs_background": "light"
     },
     "output_type": "display_data"
    }
   ],
   "source": [
    "plt.plot(distances)"
   ]
  },
  {
   "cell_type": "code",
   "execution_count": 87,
   "metadata": {},
   "outputs": [],
   "source": [
    "sp = np.fft.fft(distances)"
   ]
  },
  {
   "cell_type": "code",
   "execution_count": 88,
   "metadata": {},
   "outputs": [],
   "source": [
    "freq = np.fft.fftfreq(len(sp), d=2*pi*radius/len(sp))"
   ]
  },
  {
   "cell_type": "code",
   "execution_count": 89,
   "metadata": {},
   "outputs": [
    {
     "data": {
      "text/plain": [
       "[<matplotlib.lines.Line2D at 0x7ff5de642410>,\n",
       " <matplotlib.lines.Line2D at 0x7ff5de642650>]"
      ]
     },
     "execution_count": 89,
     "metadata": {},
     "output_type": "execute_result"
    },
    {
     "data": {
      "image/png": "[encoded data removed]",
      "text/plain": [
       "<Figure size 432x288 with 1 Axes>"
      ]
     },
     "metadata": {
      "needs_background": "light"
     },
     "output_type": "display_data"
    }
   ],
   "source": [
    "plt.plot(freq, sp.real, '.', freq, sp.imag, 'x')"
   ]
  },
  {
   "cell_type": "code",
   "execution_count": 90,
   "metadata": {},
   "outputs": [
    {
     "name": "stderr",
     "output_type": "stream",
     "text": [
      "/home/ppxjd3/.local/lib/python3.7/site-packages/ipykernel_launcher.py:1: RuntimeWarning: divide by zero encountered in log\n",
      "  \"\"\"Entry point for launching an IPython kernel.\n",
      "/home/ppxjd3/.local/lib/python3.7/site-packages/ipykernel_launcher.py:1: RuntimeWarning: invalid value encountered in log\n",
      "  \"\"\"Entry point for launching an IPython kernel.\n"
     ]
    },
    {
     "data": {
      "text/plain": [
       "[<matplotlib.lines.Line2D at 0x7ff5de5ad7d0>]"
      ]
     },
     "execution_count": 90,
     "metadata": {},
     "output_type": "execute_result"
    },
    {
     "data": {
      "image/png": "[encoded data removed]",
      "text/plain": [
       "<Figure size 432x288 with 1 Axes>"
      ]
     },
     "metadata": {
      "needs_background": "light"
     },
     "output_type": "display_data"
    }
   ],
   "source": [
    "plt.plot(np.log(freq), np.log(sp.real), 'x')"
   ]
  },
  {
   "cell_type": "code",
   "execution_count": 163,
   "metadata": {},
   "outputs": [],
   "source": [
    "import filehandling"
   ]
  },
  {
   "cell_type": "code",
   "execution_count": 164,
   "metadata": {},
   "outputs": [
    {
     "data": {
      "text/plain": [
       "['/media/data/Data/Orderphobic/StuckIntruders/OneIntruderDifferentDuties/17070007.hdf5',\n",
       " '/media/data/Data/Orderphobic/StuckIntruders/OneIntruderDifferentDuties/17070008.hdf5',\n",
       " '/media/data/Data/Orderphobic/StuckIntruders/OneIntruderDifferentDuties/17070009.hdf5',\n",
       " '/media/data/Data/Orderphobic/StuckIntruders/OneIntruderDifferentDuties/17070010.hdf5',\n",
       " '/media/data/Data/Orderphobic/StuckIntruders/OneIntruderDifferentDuties/17070011.hdf5',\n",
       " '/media/data/Data/Orderphobic/StuckIntruders/OneIntruderDifferentDuties/17070012.hdf5',\n",
       " '/media/data/Data/Orderphobic/StuckIntruders/OneIntruderDifferentDuties/17070013.hdf5',\n",
       " '/media/data/Data/Orderphobic/StuckIntruders/OneIntruderDifferentDuties/17070014.hdf5',\n",
       " '/media/data/Data/Orderphobic/StuckIntruders/OneIntruderDifferentDuties/17070015.hdf5']"
      ]
     },
     "execution_count": 164,
     "metadata": {},
     "output_type": "execute_result"
    }
   ],
   "source": [
    "direc = \"/media/data/Data/Orderphobic/StuckIntruders/OneIntruderDifferentDuties\"\n",
    "files = filehandling.get_directory_filenames(f'{direc}/*.hdf5')\n",
    "files"
   ]
  },
  {
   "cell_type": "code",
   "execution_count": 166,
   "metadata": {},
   "outputs": [
    {
     "data": {
      "text/plain": [
       "630.0"
      ]
     },
     "execution_count": 166,
     "metadata": {},
     "output_type": "execute_result"
    }
   ],
   "source": [
    "data.df.loc[0]['Duty'].mean()"
   ]
  },
  {
   "cell_type": "code",
   "execution_count": 210,
   "metadata": {},
   "outputs": [],
   "source": [
    "from tqdm.notebook import tqdm"
   ]
  },
  {
   "cell_type": "code",
   "execution_count": 209,
   "metadata": {},
   "outputs": [
    {
     "name": "stderr",
     "output_type": "stream",
     "text": [
      "/home/ppxjd3/.local/lib/python3.7/site-packages/ipykernel_launcher.py:2: TqdmDeprecationWarning: This function will be removed in tqdm==5.0.0\n",
      "Please use `tqdm.notebook.tqdm` instead of `tqdm.tqdm_notebook`\n",
      "  \n"
     ]
    },
    {
     "data": {
      "application/vnd.jupyter.widget-view+json": {
       "model_id": "604f4c19b44248ffa7b665647cf440f2",
       "version_major": 2,
       "version_minor": 0
      },
      "text/plain": [
       "HBox(children=(FloatProgress(value=0.0, max=9.0), HTML(value='')))"
      ]
     },
     "metadata": {},
     "output_type": "display_data"
    },
    {
     "name": "stdout",
     "output_type": "stream",
     "text": [
      "no contour\n",
      "no contour\n",
      "no contour\n",
      "no contour\n",
      "no contour\n",
      "no contour\n",
      "no contour\n",
      "no contour\n",
      "no contour\n",
      "no contour\n",
      "no contour\n",
      "no contour\n",
      "no contour\n",
      "no contour\n",
      "no contour\n",
      "no contour\n",
      "no contour\n",
      "no contour\n",
      "no contour\n",
      "no contour\n",
      "no contour\n",
      "no contour\n",
      "no contour\n",
      "no contour\n",
      "no contour\n",
      "no contour\n",
      "no contour\n",
      "no contour\n",
      "no contour\n",
      "no contour\n",
      "no contour\n",
      "no contour\n",
      "no contour\n",
      "no contour\n",
      "no contour\n",
      "no contour\n",
      "no contour\n",
      "no contour\n",
      "no contour\n",
      "no contour\n",
      "no contour\n",
      "no contour\n",
      "no contour\n",
      "no contour\n",
      "no contour\n",
      "no contour\n",
      "no contour\n",
      "no contour\n",
      "no contour\n",
      "no contour\n",
      "no contour\n",
      "no contour\n",
      "no contour\n",
      "no contour\n",
      "no contour\n",
      "no contour\n",
      "no contour\n",
      "no contour\n",
      "no contour\n",
      "no contour\n",
      "no contour\n",
      "no contour\n",
      "no contour\n",
      "no contour\n",
      "no contour\n",
      "no contour\n",
      "no contour\n",
      "no contour\n",
      "no contour\n",
      "no contour\n",
      "no contour\n",
      "no contour\n",
      "no contour\n",
      "no contour\n",
      "no contour\n",
      "no contour\n",
      "no contour\n",
      "no contour\n",
      "no contour\n",
      "no contour\n",
      "no contour\n",
      "no contour\n",
      "no contour\n",
      "no contour\n",
      "no contour\n",
      "no contour\n",
      "no contour\n",
      "no contour\n",
      "no contour\n",
      "no contour\n",
      "no contour\n",
      "no contour\n",
      "no contour\n",
      "no contour\n",
      "no contour\n",
      "no contour\n",
      "no contour\n",
      "no contour\n",
      "no contour\n",
      "no contour\n",
      "no contour\n",
      "no contour\n",
      "no contour\n",
      "no contour\n",
      "no contour\n",
      "no contour\n",
      "no contour\n",
      "no contour\n",
      "no contour\n",
      "no contour\n",
      "no contour\n",
      "no contour\n",
      "no contour\n",
      "no contour\n",
      "no contour\n",
      "no contour\n",
      "no contour\n",
      "no contour\n",
      "no contour\n",
      "no contour\n",
      "no contour\n",
      "no contour\n",
      "no contour\n",
      "no contour\n",
      "no contour\n",
      "no contour\n",
      "no contour\n",
      "no contour\n",
      "no contour\n",
      "no contour\n",
      "no contour\n",
      "no contour\n",
      "no contour\n",
      "no contour\n",
      "no contour\n",
      "no contour\n",
      "no contour\n",
      "no contour\n",
      "no contour\n",
      "no contour\n",
      "no contour\n",
      "no contour\n",
      "no contour\n",
      "no contour\n",
      "no contour\n",
      "no contour\n",
      "no contour\n",
      "no contour\n",
      "no contour\n",
      "no contour\n",
      "no contour\n",
      "no contour\n",
      "no contour\n",
      "no contour\n",
      "no contour\n",
      "no contour\n",
      "no contour\n",
      "no contour\n",
      "no contour\n",
      "no contour\n",
      "no contour\n",
      "no contour\n",
      "no contour\n",
      "no contour\n",
      "no contour\n",
      "no contour\n",
      "no contour\n",
      "no contour\n",
      "no contour\n",
      "no contour\n",
      "no contour\n",
      "no contour\n",
      "no contour\n",
      "no contour\n",
      "no contour\n",
      "no contour\n",
      "no contour\n",
      "no contour\n",
      "no contour\n",
      "no contour\n",
      "no contour\n",
      "no contour\n",
      "no contour\n",
      "no contour\n",
      "no contour\n",
      "no contour\n",
      "no contour\n",
      "no contour\n",
      "no contour\n",
      "no contour\n",
      "no contour\n",
      "no contour\n",
      "no contour\n",
      "no contour\n",
      "no contour\n",
      "no contour\n",
      "no contour\n",
      "no contour\n",
      "no contour\n",
      "no contour\n",
      "no contour\n",
      "no contour\n",
      "no contour\n",
      "no contour\n",
      "no contour\n",
      "no contour\n",
      "no contour\n",
      "no contour\n",
      "no contour\n",
      "no contour\n",
      "no contour\n",
      "no contour\n",
      "no contour\n",
      "no contour\n",
      "no contour\n",
      "no contour\n",
      "no contour\n",
      "no contour\n",
      "no contour\n",
      "no contour\n",
      "no contour\n",
      "no contour\n",
      "no contour\n",
      "no contour\n",
      "no contour\n",
      "no contour\n",
      "no contour\n",
      "no contour\n",
      "no contour\n",
      "no contour\n",
      "no contour\n",
      "no contour\n",
      "no contour\n",
      "no contour\n",
      "no contour\n",
      "no contour\n",
      "no contour\n",
      "no contour\n",
      "no contour\n",
      "no contour\n",
      "no contour\n",
      "no contour\n",
      "no contour\n",
      "no contour\n",
      "no contour\n",
      "no contour\n",
      "no contour\n",
      "no contour\n",
      "no contour\n",
      "no contour\n",
      "no contour\n",
      "no contour\n",
      "no contour\n",
      "no contour\n",
      "no contour\n",
      "no contour\n",
      "no contour\n",
      "no contour\n",
      "no contour\n",
      "no contour\n",
      "no contour\n",
      "no contour\n",
      "no contour\n",
      "no contour\n",
      "no contour\n",
      "no contour\n",
      "no contour\n",
      "no contour\n",
      "no contour\n",
      "no contour\n",
      "no contour\n",
      "no contour\n",
      "no contour\n",
      "no contour\n",
      "no contour\n",
      "no contour\n",
      "no contour\n",
      "no contour\n",
      "no contour\n",
      "no contour\n",
      "no contour\n",
      "no contour\n",
      "no contour\n",
      "no contour\n",
      "no contour\n",
      "no contour\n",
      "no contour\n",
      "no contour\n",
      "no contour\n",
      "no contour\n",
      "no contour\n",
      "no contour\n",
      "no contour\n",
      "no contour\n",
      "no contour\n",
      "no contour\n",
      "no contour\n",
      "no contour\n",
      "no contour\n",
      "no contour\n",
      "no contour\n",
      "no contour\n",
      "no contour\n",
      "no contour\n",
      "no contour\n",
      "no contour\n",
      "no contour\n",
      "no contour\n",
      "no contour\n",
      "no contour\n",
      "no contour\n",
      "no contour\n",
      "no contour\n",
      "no contour\n",
      "no contour\n",
      "no contour\n",
      "no contour\n",
      "no contour\n",
      "no contour\n",
      "no contour\n",
      "no contour\n",
      "no contour\n",
      "no contour\n",
      "no contour\n",
      "no contour\n",
      "no contour\n",
      "no contour\n",
      "no contour\n",
      "no contour\n",
      "no contour\n",
      "no contour\n",
      "no contour\n",
      "no contour\n",
      "no contour\n",
      "no contour\n",
      "no contour\n",
      "no contour\n",
      "no contour\n",
      "no contour\n",
      "no contour\n",
      "no contour\n",
      "no contour\n",
      "no contour\n",
      "no contour\n",
      "no contour\n",
      "no contour\n",
      "no contour\n",
      "no contour\n",
      "no contour\n",
      "no contour\n",
      "no contour\n",
      "no contour\n",
      "no contour\n",
      "no contour\n",
      "no contour\n",
      "no contour\n",
      "no contour\n",
      "no contour\n",
      "no contour\n",
      "no contour\n",
      "no contour\n",
      "no contour\n",
      "no contour\n",
      "no contour\n",
      "no contour\n",
      "no contour\n",
      "no contour\n",
      "no contour\n",
      "no contour\n",
      "no contour\n",
      "no contour\n",
      "no contour\n",
      "no contour\n",
      "no contour\n",
      "no contour\n",
      "no contour\n",
      "no contour\n",
      "no contour\n",
      "no contour\n",
      "no contour\n",
      "no contour\n",
      "no contour\n",
      "no contour\n",
      "no contour\n",
      "no contour\n",
      "no contour\n",
      "no contour\n",
      "no contour\n",
      "no contour\n",
      "no contour\n",
      "no contour\n",
      "no contour\n",
      "no contour\n",
      "no contour\n",
      "no contour\n",
      "no contour\n",
      "no contour\n",
      "no contour\n",
      "no contour\n",
      "no contour\n",
      "no contour\n",
      "no contour\n",
      "no contour\n",
      "no contour\n",
      "no contour\n",
      "no contour\n",
      "no contour\n",
      "no contour\n",
      "no contour\n",
      "no contour\n",
      "no contour\n",
      "no contour\n",
      "no contour\n",
      "no contour\n",
      "no contour\n",
      "no contour\n",
      "no contour\n",
      "no contour\n",
      "no contour\n",
      "no contour\n",
      "no contour\n",
      "no contour\n",
      "no contour\n",
      "no contour\n",
      "no contour\n",
      "no contour\n",
      "no contour\n",
      "no contour\n",
      "no contour\n",
      "no contour\n",
      "no contour\n",
      "no contour\n",
      "no contour\n",
      "no contour\n",
      "no contour\n",
      "no contour\n",
      "no contour\n",
      "no contour\n",
      "no contour\n",
      "no contour\n",
      "no contour\n",
      "no contour\n",
      "no contour\n",
      "no contour\n",
      "no contour\n",
      "no contour\n",
      "no contour\n",
      "no contour\n",
      "no contour\n",
      "no contour\n",
      "no contour\n",
      "no contour\n",
      "no contour\n",
      "no contour\n",
      "no contour\n",
      "no contour\n",
      "no contour\n",
      "no contour\n",
      "no contour\n",
      "no contour\n",
      "no contour\n",
      "no contour\n",
      "no contour\n",
      "no contour\n",
      "no contour\n",
      "no contour\n",
      "no contour\n",
      "no contour\n",
      "no contour\n",
      "no contour\n",
      "no contour\n",
      "no contour\n",
      "no contour\n",
      "no contour\n",
      "no contour\n",
      "no contour\n",
      "no contour\n",
      "no contour\n",
      "no contour\n",
      "no contour\n",
      "no contour\n",
      "no contour\n",
      "no contour\n",
      "no contour\n",
      "no contour\n",
      "no contour\n",
      "no contour\n",
      "no contour\n",
      "no contour\n",
      "no contour\n",
      "no contour\n",
      "no contour\n",
      "no contour\n",
      "no contour\n",
      "no contour\n",
      "no contour\n",
      "no contour\n",
      "no contour\n",
      "no contour\n",
      "no contour\n",
      "no contour\n",
      "no contour\n",
      "no contour\n",
      "no contour\n",
      "no contour\n",
      "no contour\n",
      "no contour\n",
      "no contour\n",
      "no contour\n",
      "no contour\n",
      "no contour\n",
      "no contour\n",
      "no contour\n",
      "no contour\n",
      "no contour\n",
      "no contour\n",
      "no contour\n",
      "no contour\n",
      "no contour\n",
      "no contour\n",
      "no contour\n",
      "no contour\n",
      "no contour\n",
      "no contour\n",
      "no contour\n",
      "no contour\n",
      "no contour\n",
      "no contour\n",
      "no contour\n",
      "no contour\n",
      "no contour\n",
      "no contour\n",
      "no contour\n",
      "no contour\n",
      "no contour\n",
      "no contour\n",
      "no contour\n",
      "no contour\n",
      "no contour\n",
      "no contour\n",
      "no contour\n",
      "no contour\n",
      "no contour\n",
      "no contour\n",
      "no contour\n",
      "no contour\n",
      "no contour\n",
      "no contour\n",
      "no contour\n",
      "no contour\n",
      "no contour\n",
      "no contour\n",
      "no contour\n",
      "no contour\n",
      "no contour\n",
      "no contour\n",
      "no contour\n",
      "no contour\n",
      "no contour\n",
      "no contour\n",
      "no contour\n",
      "no contour\n",
      "no contour\n",
      "no contour\n",
      "no contour\n",
      "no contour\n",
      "no contour\n",
      "no contour\n",
      "no contour\n",
      "no contour\n",
      "no contour\n",
      "no contour\n",
      "no contour\n",
      "no contour\n",
      "no contour\n",
      "no contour\n",
      "no contour\n",
      "no contour\n",
      "no contour\n",
      "no contour\n",
      "no contour\n",
      "no contour\n",
      "no contour\n",
      "no contour\n",
      "no contour\n",
      "no contour\n",
      "no contour\n",
      "no contour\n",
      "no contour\n",
      "no contour\n",
      "no contour\n",
      "no contour\n",
      "no contour\n",
      "no contour\n",
      "no contour\n",
      "no contour\n",
      "no contour\n",
      "no contour\n",
      "no contour\n",
      "no contour\n",
      "no contour\n",
      "no contour\n",
      "no contour\n",
      "no contour\n",
      "no contour\n",
      "no contour\n",
      "no contour\n",
      "no contour\n",
      "no contour\n",
      "no contour\n",
      "no contour\n",
      "no contour\n",
      "no contour\n",
      "no contour\n",
      "no contour\n",
      "no contour\n",
      "no contour\n",
      "no contour\n",
      "no contour\n",
      "no contour\n",
      "no contour\n",
      "no contour\n",
      "no contour\n",
      "no contour\n",
      "no contour\n",
      "no contour\n",
      "no contour\n",
      "no contour\n",
      "no contour\n",
      "no contour\n",
      "no contour\n",
      "no contour\n",
      "no contour\n",
      "no contour\n",
      "no contour\n",
      "no contour\n",
      "no contour\n",
      "no contour\n",
      "no contour\n",
      "no contour\n",
      "no contour\n",
      "no contour\n",
      "no contour\n",
      "no contour\n",
      "no contour\n",
      "no contour\n",
      "no contour\n",
      "no contour\n",
      "no contour\n",
      "no contour\n",
      "no contour\n",
      "no contour\n",
      "no contour\n",
      "no contour\n",
      "no contour\n",
      "no contour\n",
      "no contour\n",
      "no contour\n",
      "no contour\n",
      "no contour\n",
      "no contour\n",
      "no contour\n",
      "no contour\n",
      "no contour\n",
      "no contour\n",
      "no contour\n",
      "no contour\n",
      "no contour\n",
      "no contour\n",
      "no contour\n",
      "no contour\n",
      "no contour\n",
      "no contour\n",
      "no contour\n",
      "no contour\n",
      "no contour\n",
      "no contour\n",
      "no contour\n",
      "no contour\n",
      "no contour\n",
      "no contour\n",
      "no contour\n",
      "no contour\n",
      "no contour\n",
      "no contour\n",
      "no contour\n",
      "no contour\n",
      "no contour\n",
      "no contour\n",
      "no contour\n",
      "no contour\n",
      "no contour\n",
      "no contour\n",
      "no contour\n",
      "no contour\n",
      "no contour\n",
      "no contour\n",
      "no contour\n",
      "no contour\n",
      "no contour\n",
      "no contour\n",
      "no contour\n",
      "no contour\n",
      "no contour\n",
      "no contour\n",
      "no contour\n",
      "no contour\n",
      "no contour\n",
      "no contour\n",
      "\n"
     ]
    }
   ],
   "source": [
    "results = {}\n",
    "for f in tqdm(files):\n",
    "    data = dataframes.DataStore(f)\n",
    "    duty = data.df.loc[0]['Duty'].mean()\n",
    "    area = [disordered_size(data.df, i=i) for i in range(data.df.index.max())]\n",
    "    results[duty] = np.mean(area)"
   ]
  },
  {
   "cell_type": "code",
   "execution_count": 212,
   "metadata": {},
   "outputs": [
    {
     "data": {
      "text/plain": [
       "{610.0: 8782.0,\n",
       " 620.0: 10927.0,\n",
       " 630.0: 15574.0,\n",
       " 640.0: 18859.5,\n",
       " 650.0: 32693.5,\n",
       " 660.0: 0.0,\n",
       " 670.0: 0.0,\n",
       " 680.0: 5394.0,\n",
       " 690.0: 8273.0}"
      ]
     },
     "execution_count": 212,
     "metadata": {},
     "output_type": "execute_result"
    }
   ],
   "source": [
    "results"
   ]
  },
  {
   "cell_type": "code",
   "execution_count": 213,
   "metadata": {},
   "outputs": [
    {
     "data": {
      "text/plain": [
       "[<matplotlib.lines.Line2D at 0x7fc9f5517290>]"
      ]
     },
     "execution_count": 213,
     "metadata": {},
     "output_type": "execute_result"
    },
    {
     "data": {
      "image/png": "[encoded data removed]",
      "text/plain": [
       "<Figure size 432x288 with 1 Axes>"
      ]
     },
     "metadata": {
      "needs_background": "light"
     },
     "output_type": "display_data"
    }
   ],
   "source": [
    "lists = sorted(results.items())\n",
    "x, y = zip(*lists)\n",
    "plt.plot(x, y)"
   ]
  },
  {
   "cell_type": "code",
   "execution_count": 216,
   "metadata": {},
   "outputs": [
    {
     "data": {
      "text/plain": [
       "[<matplotlib.lines.Line2D at 0x7fc9f5d36e50>]"
      ]
     },
     "execution_count": 216,
     "metadata": {},
     "output_type": "execute_result"
    },
    {
     "data": {
      "image/png": "[encoded data removed]",
      "text/plain": [
       "<Figure size 432x288 with 1 Axes>"
      ]
     },
     "metadata": {
      "needs_background": "light"
     },
     "output_type": "display_data"
    }
   ],
   "source": [
    "plt.plot(contour[:, :, 0], contour[:, :, 1])"
   ]
  },
  {
   "cell_type": "code",
   "execution_count": 238,
   "metadata": {},
   "outputs": [],
   "source": [
    "class Contour:\n",
    "    \n",
    "    def __init__(self, c):\n",
    "        self.array = c\n",
    "        \n",
    "    def __repr__(self):\n",
    "        return f\"Contour of length {len(self.array)}\"\n",
    "    \n",
    "    def _repr_png_(self):\n",
    "        \n",
    "        \n",
    "class ContourCollection:\n",
    "    \n",
    "    def __init__(self, cc):\n",
    "        self.contour_list = cc\n",
    "        \n",
    "    def get(self, i):\n",
    "        return Contour(self.contour_list[i])"
   ]
  },
  {
   "cell_type": "code",
   "execution_count": 239,
   "metadata": {},
   "outputs": [],
   "source": [
    "cc = ContourCollection(contours)"
   ]
  },
  {
   "cell_type": "code",
   "execution_count": 240,
   "metadata": {},
   "outputs": [
    {
     "data": {
      "text/plain": [
       "Contour of length 678"
      ]
     },
     "execution_count": 240,
     "metadata": {},
     "output_type": "execute_result"
    }
   ],
   "source": [
    "cc.get(1)"
   ]
  },
  {
   "cell_type": "code",
   "execution_count": null,
   "metadata": {},
   "outputs": [],
   "source": []
  }
 ],
 "metadata": {
  "kernelspec": {
   "display_name": "Python 3",
   "language": "python",
   "name": "python3"
  },
  "language_info": {
   "codemirror_mode": {
    "name": "ipython",
    "version": 3
   },
   "file_extension": ".py",
   "mimetype": "text/x-python",
   "name": "python",
   "nbconvert_exporter": "python",
   "pygments_lexer": "ipython3",
   "version": "3.7.6"
  }
 },
 "nbformat": 4,
 "nbformat_minor": 1
}
