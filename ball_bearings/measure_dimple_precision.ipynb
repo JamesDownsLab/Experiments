{
 "cells": [
  {
   "cell_type": "code",
   "execution_count": 2,
   "outputs": [
    {
     "name": "stdout",
     "output_type": "stream",
     "text": [
      "Using matplotlib backend: Qt5Agg\n"
     ]
    }
   ],
   "source": [
    "from labvision import images\n",
    "import cv2\n",
    "import matplotlib.pyplot as plt\n",
    "import numpy as np\n",
    "%matplotlib auto"
   ],
   "metadata": {
    "collapsed": false
   }
  },
  {
   "cell_type": "code",
   "execution_count": 3,
   "outputs": [],
   "source": [
    "im = images.read_img(\"/media/data/Data/GeneralSystem/MeasureHIPSDimples/P10013/1,96mm_edges.png\")"
   ],
   "metadata": {
    "collapsed": false
   }
  },
  {
   "cell_type": "code",
   "execution_count": 4,
   "outputs": [],
   "source": [
    "crop_result = images.crop_rectangle(im)"
   ],
   "metadata": {
    "collapsed": false
   }
  },
  {
   "cell_type": "code",
   "execution_count": 5,
   "outputs": [],
   "source": [
    "im = images.crop(im, crop_result.bbox)"
   ],
   "metadata": {
    "collapsed": false
   }
  },
  {
   "cell_type": "code",
   "execution_count": 7,
   "outputs": [],
   "source": [
    "images.save(im, \"/home/ppxjd3/Thesis/Thesis/Chapters/Different Spacings/Figures/ball_contours.png\")"
   ],
   "metadata": {
    "collapsed": false
   }
  },
  {
   "cell_type": "code",
   "execution_count": 6,
   "outputs": [
    {
     "data": {
      "text/plain": "[]"
     },
     "execution_count": 6,
     "metadata": {},
     "output_type": "execute_result"
    }
   ],
   "source": [
    "images.display(im)"
   ],
   "metadata": {
    "collapsed": false
   }
  },
  {
   "cell_type": "code",
   "execution_count": 7,
   "outputs": [],
   "source": [
    "im = images.bgr_to_gray(im)"
   ],
   "metadata": {
    "collapsed": false
   }
  },
  {
   "cell_type": "code",
   "execution_count": 6,
   "outputs": [
    {
     "ename": "error",
     "evalue": "OpenCV(4.5.3) /tmp/pip-req-build-3umofm98/opencv/modules/imgproc/src/contours.cpp:195: error: (-210:Unsupported format or combination of formats) [Start]FindContours supports only CV_8UC1 images when mode != CV_RETR_FLOODFILL otherwise supports CV_32SC1 images only in function 'cvStartFindContours_Impl'\n",
     "output_type": "error",
     "traceback": [
      "\u001B[0;31m---------------------------------------------------------------------------\u001B[0m",
      "\u001B[0;31merror\u001B[0m                                     Traceback (most recent call last)",
      "\u001B[0;32m<ipython-input-6-41d437faf224>\u001B[0m in \u001B[0;36m<module>\u001B[0;34m\u001B[0m\n\u001B[0;32m----> 1\u001B[0;31m \u001B[0mcontours\u001B[0m\u001B[0;34m,\u001B[0m \u001B[0mhier\u001B[0m \u001B[0;34m=\u001B[0m \u001B[0mcv2\u001B[0m\u001B[0;34m.\u001B[0m\u001B[0mfindContours\u001B[0m\u001B[0;34m(\u001B[0m\u001B[0mim\u001B[0m\u001B[0;34m,\u001B[0m \u001B[0mcv2\u001B[0m\u001B[0;34m.\u001B[0m\u001B[0mRETR_TREE\u001B[0m\u001B[0;34m,\u001B[0m \u001B[0mcv2\u001B[0m\u001B[0;34m.\u001B[0m\u001B[0mCHAIN_APPROX_SIMPLE\u001B[0m\u001B[0;34m)\u001B[0m\u001B[0;34m\u001B[0m\u001B[0;34m\u001B[0m\u001B[0m\n\u001B[0m",
      "\u001B[0;31merror\u001B[0m: OpenCV(4.5.3) /tmp/pip-req-build-3umofm98/opencv/modules/imgproc/src/contours.cpp:195: error: (-210:Unsupported format or combination of formats) [Start]FindContours supports only CV_8UC1 images when mode != CV_RETR_FLOODFILL otherwise supports CV_32SC1 images only in function 'cvStartFindContours_Impl'\n"
     ]
    }
   ],
   "source": [
    "contours, hier = cv2.findContours(im, cv2.RETR_TREE, cv2.CHAIN_APPROX_SIMPLE)"
   ],
   "metadata": {
    "collapsed": false
   }
  },
  {
   "cell_type": "code",
   "execution_count": 11,
   "outputs": [],
   "source": [],
   "metadata": {
    "collapsed": false
   }
  },
  {
   "cell_type": "code",
   "execution_count": null,
   "outputs": [],
   "source": [
    "im_draw = images.draw_contours(images.gray_to_bgr(im), contours_parents)\n",
    "images.display(im_draw)"
   ],
   "metadata": {
    "collapsed": false
   }
  },
  {
   "cell_type": "markdown",
   "source": [],
   "metadata": {
    "collapsed": false
   }
  },
  {
   "cell_type": "code",
   "execution_count": 12,
   "outputs": [],
   "source": [
    "contours_parents = [c for c, h in zip(contours, hier.squeeze()) if h[0] != -1]"
   ],
   "metadata": {
    "collapsed": false
   }
  },
  {
   "cell_type": "markdown",
   "source": [],
   "metadata": {
    "collapsed": false
   }
  },
  {
   "cell_type": "code",
   "execution_count": 25,
   "outputs": [],
   "source": [
    "areas = [cv2.contourArea(c) for c in contours_parents]\n",
    "circles = [cv2.minEnclosingCircle(c) for c in contours_parents]"
   ],
   "metadata": {
    "collapsed": false
   }
  },
  {
   "cell_type": "code",
   "execution_count": 26,
   "outputs": [],
   "source": [
    "contours_parents_correct_area = [c for c, a in zip(contours_parents, areas) if 500 < a < 2500]"
   ],
   "metadata": {
    "collapsed": false
   }
  },
  {
   "cell_type": "code",
   "execution_count": 27,
   "outputs": [],
   "source": [
    "circles = [cv2.minEnclosingCircle(c) for c in contours_parents_correct_area]"
   ],
   "metadata": {
    "collapsed": false
   }
  },
  {
   "cell_type": "code",
   "execution_count": 28,
   "outputs": [],
   "source": [
    "centers, radius = zip(*circles)"
   ],
   "metadata": {
    "collapsed": false
   }
  },
  {
   "cell_type": "code",
   "execution_count": 29,
   "outputs": [],
   "source": [
    "x, y = zip(*centers)"
   ],
   "metadata": {
    "collapsed": false
   }
  },
  {
   "cell_type": "code",
   "execution_count": 30,
   "outputs": [],
   "source": [
    "plt.plot(x, y, 'x')\n",
    "for c in contours_parents_correct_area:\n",
    "    plt.plot(c[:, :, 0], c[:, :, 1])"
   ],
   "metadata": {
    "collapsed": false
   }
  },
  {
   "cell_type": "code",
   "execution_count": 31,
   "outputs": [],
   "source": [
    "from scipy import spatial"
   ],
   "metadata": {
    "collapsed": false
   }
  },
  {
   "cell_type": "code",
   "execution_count": 32,
   "outputs": [],
   "source": [
    "tree = spatial.KDTree(centers)"
   ],
   "metadata": {
    "collapsed": false
   }
  },
  {
   "cell_type": "code",
   "execution_count": 33,
   "outputs": [],
   "source": [
    "dists, indices = tree.query(centers, 7)"
   ],
   "metadata": {
    "collapsed": false
   }
  },
  {
   "cell_type": "code",
   "execution_count": 37,
   "outputs": [],
   "source": [
    "dists_flat = np.ndarray.flatten(dists)\n",
    "dists_flat = dists_flat[np.nonzero((65 < dists_flat)* (dists_flat <95))]"
   ],
   "metadata": {
    "collapsed": false
   }
  },
  {
   "cell_type": "code",
   "execution_count": 38,
   "outputs": [
    {
     "data": {
      "text/plain": "<matplotlib.lines.Line2D at 0x7f3a33dfce20>"
     },
     "execution_count": 38,
     "metadata": {},
     "output_type": "execute_result"
    }
   ],
   "source": [
    "plt.hist(dists_flat, bins=50)\n",
    "plt.axvline(np.mean(dists_flat))\n",
    "plt.axvline(np.mean(dists_flat)-np.std(dists_flat)/np.sqrt(len(dists_flat)))\n",
    "plt.axvline(np.mean(dists_flat)+np.std(dists_flat)/np.sqrt(len(dists_flat)))"
   ],
   "metadata": {
    "collapsed": false
   }
  },
  {
   "cell_type": "code",
   "execution_count": 38,
   "outputs": [
    {
     "data": {
      "text/plain": "<matplotlib.image.AxesImage at 0x7fa68d073d90>"
     },
     "execution_count": 38,
     "metadata": {},
     "output_type": "execute_result"
    }
   ],
   "source": [
    "plt.imshow(im)"
   ],
   "metadata": {
    "collapsed": false
   }
  },
  {
   "cell_type": "markdown",
   "source": [
    "## Try fitting a gaussian properly"
   ],
   "metadata": {
    "collapsed": false
   }
  },
  {
   "cell_type": "code",
   "execution_count": 39,
   "outputs": [],
   "source": [
    "\n",
    "from scipy.stats import norm\n",
    "import matplotlib.mlab as mlab"
   ],
   "metadata": {
    "collapsed": false
   }
  },
  {
   "cell_type": "code",
   "execution_count": 51,
   "outputs": [
    {
     "data": {
      "text/plain": "<matplotlib.lines.Line2D at 0x7f3a21231ac0>"
     },
     "execution_count": 51,
     "metadata": {},
     "output_type": "execute_result"
    }
   ],
   "source": [
    "mu, sigma = norm.fit(dists_flat)\n",
    "n, bins, patches = plt.hist(dists_flat, bins=50, density=True)\n",
    "y = norm.pdf(bins, mu, sigma)\n",
    "l, = plt.plot(bins, y, 'r--')\n",
    "plt.title('1.96mm distances')\n",
    "plt.xlabel('Distance (pixels)')\n",
    "plt.axvline(mu, c='m')"
   ],
   "metadata": {
    "collapsed": false
   }
  },
  {
   "cell_type": "code",
   "execution_count": 42,
   "outputs": [
    {
     "data": {
      "text/plain": "(77.34098070539736, 2.0519386503635695)"
     },
     "execution_count": 42,
     "metadata": {},
     "output_type": "execute_result"
    }
   ],
   "source": [
    "mu, sigma"
   ],
   "metadata": {
    "collapsed": false
   }
  },
  {
   "cell_type": "code",
   "execution_count": 92,
   "outputs": [
    {
     "data": {
      "text/plain": "76.86762626951801"
     },
     "execution_count": 92,
     "metadata": {},
     "output_type": "execute_result"
    }
   ],
   "source": [
    "dists_flat = np.ndarray.flatten(dists)\n",
    "dists_flat = dists_flat[np.nonzero((65 < dists_flat)* (dists_flat <90))]\n",
    "mu, sigma = norm.fit(dists_flat)\n",
    "mu"
   ],
   "metadata": {
    "collapsed": false
   }
  },
  {
   "cell_type": "code",
   "execution_count": 52,
   "outputs": [],
   "source": [
    "def measure_separation_of_contours(im, min_area=500, max_area=2500, min_dist=65, max_dist=95, title=None):\n",
    "    contours, hier = cv2.findContours(im, cv2.RETR_TREE, cv2.CHAIN_APPROX_SIMPLE)\n",
    "    contours = [c for c, h in zip(contours, hier.squeeze()) if h[0] != -1]\n",
    "    areas = [cv2.contourArea(c) for c in contours]\n",
    "    contours = [c for c, a in zip(contours, areas) if min_area < a < max_area]\n",
    "    circles = [cv2.minEnclosingCircle(c) for c in contours]\n",
    "    centers, radius = zip(*circles)\n",
    "    tree = spatial.KDTree(centers)\n",
    "    dists, indices = tree.query(centers, 7)\n",
    "    dists = np.ndarray.flatten(dists[:, 1:])\n",
    "    dists = dists[np.nonzero((dists>min_dist)*(dists<max_dist))]\n",
    "    mu, sigma = norm.fit(dists)\n",
    "    n, bins, patches = plt.hist(dists, bins=50, density=True)\n",
    "    y = norm.pdf(bins, mu, sigma)\n",
    "    l, = plt.plot(bins, y, 'r--')\n",
    "    plt.title(title)\n",
    "    plt.xlabel('Distance (pixels)')\n",
    "    plt.axvline(mu, c='m')\n",
    "    return mu"
   ],
   "metadata": {
    "collapsed": false
   }
  },
  {
   "cell_type": "code",
   "execution_count": 56,
   "outputs": [],
   "source": [
    "from scipy import optimize"
   ],
   "metadata": {
    "collapsed": false
   }
  },
  {
   "cell_type": "code",
   "execution_count": 129,
   "outputs": [],
   "source": [
    "def measure_separation_of_contours(im, min_area=500, max_area=2500, min_dist=65, max_dist=95, title=None, n_bins=100):\n",
    "    contours, hier = cv2.findContours(im, cv2.RETR_TREE, cv2.CHAIN_APPROX_SIMPLE)\n",
    "    contours = [c for c, h in zip(contours, hier.squeeze()) if h[0] != -1]\n",
    "    areas = [cv2.contourArea(c) for c in contours]\n",
    "    contours = [c for c, a in zip(contours, areas) if min_area < a < max_area]\n",
    "    circles = [cv2.minEnclosingCircle(c) for c in contours]\n",
    "    centers, radius = zip(*circles)\n",
    "    tree = spatial.KDTree(centers)\n",
    "    dists, indices = tree.query(centers, 7)\n",
    "    dists = np.ndarray.flatten(dists[:, 1:])\n",
    "    dists = dists[np.nonzero((dists>min_dist)*(dists<max_dist))]\n",
    "    n, bins, patches = plt.hist(dists, bins=n_bins, density=True)\n",
    "    bin_centers = (0.5*(bins[1:]+bins[:-1]))\n",
    "    mu, sigma = norm.fit(dists)\n",
    "    pars, cov = optimize.curve_fit(lambda x, mu, sig : norm.pdf(x, loc=mu, scale=sig), bin_centers, n, p0=[mu, sigma])\n",
    "    # y = norm.pdf(bins, mu, sigma)\n",
    "    # l, = plt.plot(bins, y, 'r--')\n",
    "    plt.plot(bin_centers, norm.pdf(bin_centers, *pars), 'k--')\n",
    "    plt.title(title)\n",
    "    plt.xlabel('Distance (pixels)')\n",
    "    plt.axvline(mu, c='m')\n",
    "    return mu, pars[0], np.sqrt(cov[0, 0]), sigma, sigma/np.sqrt(len(dists))"
   ],
   "metadata": {
    "collapsed": false
   }
  },
  {
   "cell_type": "code",
   "execution_count": 132,
   "outputs": [
    {
     "data": {
      "text/plain": "(74.5893598528276,\n 74.53584817832702,\n 0.019954525247847743,\n 2.4310327470855677,\n 0.017324348956062666)"
     },
     "execution_count": 132,
     "metadata": {},
     "output_type": "execute_result"
    }
   ],
   "source": [
    "im_189 = images.read_img(\"/media/data/Data/GeneralSystem/MeasureHIPSDimples/P10013/1,89mm_edges.png\")\n",
    "im_189 = images.bgr_to_gray(im_189)\n",
    "mu_189, mu_189_fit, mu_189_err, sigma_189, sigma_189_div_rtN = measure_separation_of_contours(im_189, n_bins=300, title='1.89mm')\n",
    "mu_189, mu_189_fit, mu_189_err, sigma_189, sigma_189_div_rtN"
   ],
   "metadata": {
    "collapsed": false
   }
  },
  {
   "cell_type": "code",
   "execution_count": 98,
   "outputs": [
    {
     "data": {
      "text/plain": "(76.87030746919108, 76.86573198046307, 0.019239826980432237)"
     },
     "execution_count": 98,
     "metadata": {},
     "output_type": "execute_result"
    }
   ],
   "source": [
    "im_195 = images.read_img(\"/media/data/Data/GeneralSystem/MeasureHIPSDimples/P10013/1,95mm_edges.png\")\n",
    "im_195 = images.bgr_to_gray(im_195)\n",
    "mu_195, mu_195_fit, mu_195_err = measure_separation_of_contours(im_195, n_bins=300, title='1.95mm')\n",
    "mu_195, mu_195_fit, mu_195_err"
   ],
   "metadata": {
    "collapsed": false
   }
  },
  {
   "cell_type": "code",
   "execution_count": 96,
   "outputs": [
    {
     "data": {
      "text/plain": "Text(0.5, 1.0, 'Does number of bins affect gaussian center')"
     },
     "execution_count": 96,
     "metadata": {},
     "output_type": "execute_result"
    }
   ],
   "source": [
    "bin_numbers = [25, 50, 100, 125, 150, 175, 200, 250, 300]\n",
    "_, means, errors = zip(*[measure_separation_of_contours(im_196, n_bins=b) for b in bin_numbers])\n",
    "plt.figure()\n",
    "plt.errorbar(bin_numbers, means, errors)\n",
    "plt.xlabel('number_of_bins')\n",
    "plt.ylabel('Gaussian center')\n",
    "plt.title('Does number of bins affect gaussian center')\n"
   ],
   "metadata": {
    "collapsed": false
   }
  },
  {
   "cell_type": "code",
   "execution_count": 99,
   "outputs": [
    {
     "data": {
      "text/plain": "(77.34098070539736, 77.27669388679904, 0.01532006394913588)"
     },
     "execution_count": 99,
     "metadata": {},
     "output_type": "execute_result"
    }
   ],
   "source": [
    "im_196 = images.read_img(\"/media/data/Data/GeneralSystem/MeasureHIPSDimples/P10013/1,96mm_edges.png\")\n",
    "im_196 = images.bgr_to_gray(im_196)\n",
    "mu_196, mu_196_fit, mu_196_err = measure_separation_of_contours(im_196, title='1.96mm', n_bins=300)\n",
    "mu_196, mu_196_fit, mu_196_err"
   ],
   "metadata": {
    "collapsed": false
   }
  },
  {
   "cell_type": "markdown",
   "source": [
    "### Measure size of holes"
   ],
   "metadata": {
    "collapsed": false
   }
  },
  {
   "cell_type": "code",
   "execution_count": 121,
   "outputs": [],
   "source": [
    "def measure_size_of_holes(im, min_area=500, max_area=2500, min_rad=1, max_rad=30, n_bins=100, title=''):\n",
    "    contours, hier = cv2.findContours(im, cv2.RETR_TREE, cv2.CHAIN_APPROX_SIMPLE)\n",
    "    contours = [c for c, h in zip(contours, hier.squeeze()) if h[0] != -1]\n",
    "    areas = [cv2.contourArea(c) for c in contours]\n",
    "    contours = [c for c, a in zip(contours, areas) if min_area < a < max_area]\n",
    "    circles = [cv2.minEnclosingCircle(c) for c in contours]\n",
    "    centers, radius = zip(*circles)\n",
    "    radius = np.array(radius)\n",
    "    radius = radius[np.nonzero((radius>min_rad)*(radius<max_rad))]\n",
    "    n, bins, patches = plt.hist(radius, bins=n_bins, density=True)\n",
    "    bin_centers = (0.5*(bins[1:]+bins[:-1]))\n",
    "    mu, sigma = norm.fit(radius)\n",
    "    pars, cov = optimize.curve_fit(lambda x, mu, sig : norm.pdf(x, loc=mu, scale=sig), bin_centers, n, p0=[mu, sigma])\n",
    "    plt.plot(bin_centers, norm.pdf(bin_centers, *pars), 'k--')\n",
    "    plt.title(title)\n",
    "    plt.xlabel('Radius (pixels)')\n",
    "    plt.axvline(mu, c='m')\n",
    "    return mu, sigma"
   ],
   "metadata": {
    "collapsed": false
   }
  },
  {
   "cell_type": "code",
   "execution_count": 122,
   "outputs": [],
   "source": [
    "rad_mean_195, rad_mean_195_err = measure_size_of_holes(im_195)"
   ],
   "metadata": {
    "collapsed": false
   }
  },
  {
   "cell_type": "code",
   "execution_count": 123,
   "outputs": [
    {
     "data": {
      "text/plain": "(22.91257324084901, 1.6262670363670457)"
     },
     "execution_count": 123,
     "metadata": {},
     "output_type": "execute_result"
    }
   ],
   "source": [
    "rad_mean_195, rad_mean_195_err"
   ],
   "metadata": {
    "collapsed": false
   }
  },
  {
   "cell_type": "code",
   "execution_count": null,
   "outputs": [],
   "source": [],
   "metadata": {
    "collapsed": false
   }
  }
 ],
 "metadata": {
  "kernelspec": {
   "display_name": "Python 3",
   "language": "python",
   "name": "python3"
  },
  "language_info": {
   "codemirror_mode": {
    "name": "ipython",
    "version": 2
   },
   "file_extension": ".py",
   "mimetype": "text/x-python",
   "name": "python",
   "nbconvert_exporter": "python",
   "pygments_lexer": "ipython2",
   "version": "2.7.6"
  }
 },
 "nbformat": 4,
 "nbformat_minor": 0
}
