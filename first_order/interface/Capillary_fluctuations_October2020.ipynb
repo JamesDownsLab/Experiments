{
 "cells": [
  {
   "cell_type": "markdown",
   "metadata": {},
   "source": [
    "## Import Packages"
   ]
  },
  {
   "cell_type": "code",
   "execution_count": 1,
   "metadata": {},
   "outputs": [
    {
     "name": "stderr",
     "output_type": "stream",
     "text": [
      "/home/ppxjd3/.local/lib/python3.7/site-packages/tqdm/std.py:658: FutureWarning: The Panel class is removed from pandas. Accessing it from the top-level namespace will also be removed in the next version\n",
      "  from pandas import Panel\n"
     ]
    }
   ],
   "source": [
    "import os\n",
    "from math import pi\n",
    "\n",
    "import cv2\n",
    "import matplotlib.pyplot as plt\n",
    "import numpy as np\n",
    "from tqdm.notebook import tqdm\n",
    "from scipy import spatial\n",
    "\n",
    "from labvision import images, video\n",
    "import filehandling\n",
    "from particletracking import dataframes, statistics"
   ]
  },
  {
   "cell_type": "markdown",
   "metadata": {},
   "source": [
    "## Get the first frame from each video"
   ]
  },
  {
   "cell_type": "code",
   "execution_count": 2,
   "metadata": {},
   "outputs": [],
   "source": [
    "main_directory = filehandling.open_directory()\n",
    "frame_directory = f\"{main_directory}/first_frames\""
   ]
  },
  {
   "cell_type": "code",
   "execution_count": 58,
   "metadata": {},
   "outputs": [],
   "source": [
    "def get_crop_and_mask(im):\n",
    "    if not os.path.isfile(f\"{main_directory}/crop.txt\"):\n",
    "        crop_result = images.crop_polygon(im)\n",
    "        crop = np.array(crop_result.bbox.to_tuple())\n",
    "        mask = np.array(crop_result.mask)\n",
    "        print(bbox)\n",
    "        print(mask)\n",
    "        np.savetxt(f\"{main_directory}/crop.txt\", crop)\n",
    "        np.savetxt(f\"{main_directory}/mask.txt\", mask)\n",
    "    else:\n",
    "        crop = np.loadtxt(f\"{main_directory}/crop.txt\", dtype=np.uint16)\n",
    "        crop = images.BBox(crop[0, 0], crop[1, 0], crop[0, 1], crop[1, 1])\n",
    "        mask = np.loadtxt(f\"{main_directory}/mask.txt\", dtype=np.uint8)\n",
    "    return crop, mask"
   ]
  },
  {
   "cell_type": "code",
   "execution_count": 61,
   "metadata": {},
   "outputs": [],
   "source": [
    "def create_single_frames(main_directory, frame_directory):\n",
    "    if os.path.isdir(frame_directory):\n",
    "        print(\"Directory exists\")\n",
    "    else:\n",
    "        os.mkdir(frame_directory)\n",
    "\n",
    "    vid_files = filehandling.get_directory_filenames(f\"{main_directory}/*.MP4\")\n",
    "    frame_files = filehandling.get_directory_filenames(f\"{frame_directory}/*.png\")\n",
    "\n",
    "    if len(frame_files) < len(vid_files):\n",
    "        for vid_file in vid_files:\n",
    "            direc, vid_file = os.path.split(vid_file)\n",
    "            vid_name, _ = os.path.splitext(vid_file)\n",
    "            if os.path.isfile(f\"{frame_directory}/{vid_name}.png\"):\n",
    "                print(f\"{vid_name}.png already exists\")\n",
    "            else:\n",
    "                vid = video.ReadVideo(f\"{direc}/{vid_file}\")\n",
    "                frame = vid.read_next_frame()\n",
    "                crop, mask = get_crop_and_mask(frame)\n",
    "#                 print(crop.xmin, crop.xmax, crop.ymin, crop.ymax)\n",
    "                frame = images.crop_and_mask(frame, crop, mask)\n",
    "                images.save(frame, f\"{frame_directory}/{vid_name}.png\")"
   ]
  },
  {
   "cell_type": "code",
   "execution_count": 62,
   "metadata": {},
   "outputs": [
    {
     "name": "stdout",
     "output_type": "stream",
     "text": [
      "Directory exists\n"
     ]
    }
   ],
   "source": [
    "create_single_frames(main_directory, frame_directory)"
   ]
  },
  {
   "cell_type": "markdown",
   "metadata": {},
   "source": [
    "## Find Circles in each image"
   ]
  },
  {
   "cell_type": "code",
   "execution_count": 3,
   "metadata": {},
   "outputs": [],
   "source": [
    "def get_images(frame_directory):\n",
    "    image_files = filehandling.get_directory_filenames(f\"{frame_directory}/*.png\")\n",
    "    ims = [images.load(f) for f in image_files]\n",
    "    return ims\n",
    "ims = get_images(frame_directory)"
   ]
  },
  {
   "cell_type": "code",
   "execution_count": 95,
   "metadata": {},
   "outputs": [
    {
     "name": "stdout",
     "output_type": "stream",
     "text": [
      "Using matplotlib backend: Qt5Agg\n"
     ]
    }
   ],
   "source": [
    "%matplotlib auto\n",
    "def find_circles(ims):\n",
    "    gray = [images.bgr_to_gray(im.copy()) for im in ims]\n",
    "    circles = [images.find_circles(g, 25, 255, 7, 17, 19) \n",
    "               for g in gray]\n",
    "    return circles\n",
    "\n",
    "def create_data(dataname, ims, force_new=False):\n",
    "    if os.path.isfile(dataname):\n",
    "        data = dataframes.DataStore(dataname)\n",
    "    else:\n",
    "        data = dataframes.DataStore(dataname, load=False)\n",
    "        circles = find_circles(ims)\n",
    "        for f, info in tqdm(enumerate(circles), 'Adding Circles'):\n",
    "            data.add_tracking_data(f, info, ['x', 'y', 'r'])\n",
    "\n",
    "        calc = statistics.PropertyCalculator(data)\n",
    "        calc.order()\n",
    "        data.save()\n",
    "    return data\n",
    "\n",
    "data = create_data(f\"{frame_directory}/first_frame_data.hdf5\", ims)"
   ]
  },
  {
   "cell_type": "markdown",
   "metadata": {},
   "source": [
    "## Get radius"
   ]
  },
  {
   "cell_type": "code",
   "execution_count": 100,
   "metadata": {},
   "outputs": [
    {
     "data": {
      "text/plain": [
       "18.235775"
      ]
     },
     "execution_count": 100,
     "metadata": {},
     "output_type": "execute_result"
    }
   ],
   "source": [
    "RADIUS = data.df.loc[0].r.mean()\n",
    "RADIUS"
   ]
  },
  {
   "cell_type": "markdown",
   "metadata": {},
   "source": [
    "## Calculate fields "
   ]
  },
  {
   "cell_type": "code",
   "execution_count": 513,
   "metadata": {},
   "outputs": [],
   "source": [
    "def coarse_order_field(df, cgw, x, y, no_of_neighbours=20):\n",
    "    \"\"\"\n",
    "    Calculate the coarse-grained field characterising local orientation order\n",
    "    \"\"\"\n",
    "\n",
    "    order = df.order.values\n",
    "\n",
    "    # Generate the lattice nodes to query\n",
    "    # x, y = np.meshgrid(x, y)\n",
    "    r = np.dstack((x, y))\n",
    "\n",
    "    # Get the positions of all the particles\n",
    "    particles = df[['x', 'y']].values\n",
    "\n",
    "    # Generate the tree from the particles\n",
    "    tree = spatial.cKDTree(particles)\n",
    "\n",
    "    # Query the tree at all the lattice nodes to find the nearest n particles\n",
    "    # Set n_jobs=-1 to use all cores\n",
    "    dists, indices = tree.query(r, no_of_neighbours, n_jobs=-1)\n",
    "\n",
    "    # Calculate all the coarse-grained delta functions (Katira ArXiv eqn 3\n",
    "    cg_deltas = np.exp(-dists ** 2 / (2 * cgw ** 2)) / (2 * pi * cgw ** 2)\n",
    "\n",
    "    # Multiply by the orders to get the summands\n",
    "    summands = cg_deltas * order[indices]\n",
    "\n",
    "    # Sum along axis 2 to calculate the field\n",
    "    field = np.sum(summands, axis=2)\n",
    "\n",
    "    return field\n",
    "\n",
    "def calculate_fields(data, cgw, x, y, N=None):\n",
    "    if N is None:\n",
    "        N = len(ims)\n",
    "    return [coarse_order_field(data.df.loc[f], cgw, x, y)\n",
    "           for f in tqdm(range(N), 'Calculating Fields')]"
   ]
  },
  {
   "cell_type": "code",
   "execution_count": 494,
   "metadata": {},
   "outputs": [],
   "source": [
    "lattice_spacing = 10\n",
    "x = np.arange(0, ims[0].shape[1], lattice_spacing)\n",
    "y = np.arange(0, ims[0].shape[0], lattice_spacing)\n",
    "x, y = np.meshgrid(x, y)"
   ]
  },
  {
   "cell_type": "code",
   "execution_count": 332,
   "metadata": {},
   "outputs": [],
   "source": [
    "cgw = RADIUS * 4"
   ]
  },
  {
   "cell_type": "code",
   "execution_count": 116,
   "metadata": {},
   "outputs": [
    {
     "data": {
      "application/vnd.jupyter.widget-view+json": {
       "model_id": "5c12d79505ad4ebf99c3e5a2b93dee7d",
       "version_major": 2,
       "version_minor": 0
      },
      "text/plain": [
       "HBox(children=(FloatProgress(value=0.0, description='Calculating Fields', style=ProgressStyle(description_widt…"
      ]
     },
     "metadata": {},
     "output_type": "display_data"
    },
    {
     "name": "stdout",
     "output_type": "stream",
     "text": [
      "\n"
     ]
    }
   ],
   "source": [
    "fields = calculate_fields(data, cgw, x, y)"
   ]
  },
  {
   "cell_type": "code",
   "execution_count": 139,
   "metadata": {},
   "outputs": [
    {
     "name": "stdout",
     "output_type": "stream",
     "text": [
      "Using matplotlib backend: Qt5Agg\n"
     ]
    },
    {
     "data": {
      "text/plain": [
       "<matplotlib.image.AxesImage at 0x7f85b94b2c50>"
      ]
     },
     "execution_count": 139,
     "metadata": {},
     "output_type": "execute_result"
    }
   ],
   "source": [
    "%matplotlib auto\n",
    "plt.imshow(fields[0])"
   ]
  },
  {
   "cell_type": "markdown",
   "metadata": {},
   "source": [
    "## Calculate the field threshold\n",
    "Ordered particles on the left\n",
    "\n",
    "Disordered particles on the right"
   ]
  },
  {
   "cell_type": "code",
   "execution_count": 148,
   "metadata": {},
   "outputs": [
    {
     "name": "stdout",
     "output_type": "stream",
     "text": [
      "field_threshold = 0.0003055455731859019\n"
     ]
    }
   ],
   "source": [
    "def calculate_field_threshold(fields):\n",
    "    phi_o, phi_d = zip(*[(np.mean(f[:, 60:80]), np.mean(f[:, 155:175])) for f in fields])\n",
    "    phi_o = np.mean(phi_o)\n",
    "    phi_d = np.mean(phi_d)\n",
    "    return (phi_o + phi_d) / 2\n",
    "field_threshold = calculate_field_threshold(fields)\n",
    "print(f\"field_threshold = {field_threshold}\")"
   ]
  },
  {
   "cell_type": "markdown",
   "metadata": {},
   "source": [
    "## Use the field threshold to find the boundary"
   ]
  },
  {
   "cell_type": "code",
   "execution_count": 542,
   "metadata": {},
   "outputs": [],
   "source": [
    "def get_contour(f, t):\n",
    "    im = np.uint8(f < t)\n",
    "    im[:5, :] = 1\n",
    "    im[-5:, :] = 1\n",
    "    im[:, :5] = 1\n",
    "    im[:, -5:] = 1\n",
    "    cs = images.find_contours(im)\n",
    "    cs = images.sort_contours(cs)\n",
    "    return cs[-2] # -1 is a box around the whole image\n",
    "\n",
    "def get_contours(fields, t):\n",
    "    contours = [get_contour(f, t) for f in fields]\n",
    "    return contours"
   ]
  },
  {
   "cell_type": "code",
   "execution_count": 276,
   "metadata": {},
   "outputs": [],
   "source": [
    "contours = get_contours(fields, field_threshold)\n",
    "\n",
    "# Multiply the contours by the lattice constant\n",
    "contours = [c * lattice_spacing for c in contours]"
   ]
  },
  {
   "cell_type": "markdown",
   "metadata": {},
   "source": [
    "## Use the boundary to find the heights "
   ]
  },
  {
   "cell_type": "code",
   "execution_count": 199,
   "metadata": {},
   "outputs": [],
   "source": [
    "from shapely.geometry import LineString"
   ]
  },
  {
   "cell_type": "code",
   "execution_count": 505,
   "metadata": {
    "scrolled": false
   },
   "outputs": [],
   "source": [
    "def get_x(i):\n",
    "    if i.geom_type == 'Point':\n",
    "        return i.x\n",
    "    elif i.geom_type == 'LineString':\n",
    "        return np.array(i.coords[:])[:, 0].mean()\n",
    "\n",
    "def get_heights(c):\n",
    "    X0 = 120*lattice_spacing\n",
    "    c_ls = LineString(c.squeeze())\n",
    "    dxs = []\n",
    "    points = []\n",
    "    for row in range(10*lattice_spacing, 190*lattice_spacing):\n",
    "        l = LineString(((0, row), (201*lattice_spacing, row)))\n",
    "        intersections = l.intersection(c_ls)\n",
    "        try:\n",
    "            xs = [get_x(i) for i in intersections]\n",
    "            dx = [x - X0 for x in xs]\n",
    "            argmin = np.argmin(np.abs(dx))\n",
    "            dx = dx[argmin]\n",
    "            points.append((xs[argmin], row))\n",
    "            dxs.append(dx)\n",
    "        except TypeError as e:\n",
    "            if intersections.geom_type == 'LineString':\n",
    "                if not intersections.is_empty:\n",
    "                    x_mean = np.array(intersections.coords[:])[:, 0].mean()\n",
    "                else:\n",
    "                    x_mean = X0\n",
    "                \n",
    "                points.append((x_mean, row))\n",
    "                dxs.append(x_mean - X0)\n",
    "            elif intersections.geom_type == 'Point':\n",
    "                x = intersections.x\n",
    "                points.append((x, row))\n",
    "                dxs.append(x - X0)\n",
    "            \n",
    "    return dxs, points\n",
    "\n",
    "def get_all_heights(contours):\n",
    "    heights, points = zip(*[get_heights(c) for c in tqdm(contours, 'Finding heights')])\n",
    "    \n",
    "    return np.array(heights), np.array(points)"
   ]
  },
  {
   "cell_type": "code",
   "execution_count": 493,
   "metadata": {
    "collapsed": true
   },
   "outputs": [
    {
     "data": {
      "application/vnd.jupyter.widget-view+json": {
       "model_id": "f0c7742aa54340eb8f8a32f90ce12547",
       "version_major": 2,
       "version_minor": 0
      },
      "text/plain": [
       "HBox(children=(FloatProgress(value=0.0, description='Finding heights', style=ProgressStyle(description_width='…"
      ]
     },
     "metadata": {},
     "output_type": "display_data"
    },
    {
     "name": "stdout",
     "output_type": "stream",
     "text": [
      "(343, 1, 2)\n",
      "(344, 1, 2)\n",
      "(411, 1, 2)\n",
      "(307, 1, 2)\n",
      "(328, 1, 2)\n"
     ]
    },
    {
     "ename": "KeyboardInterrupt",
     "evalue": "",
     "output_type": "error",
     "traceback": [
      "\u001B[0;31m---------------------------------------------------------------------------\u001B[0m",
      "\u001B[0;31mKeyboardInterrupt\u001B[0m                         Traceback (most recent call last)",
      "\u001B[0;32m<ipython-input-493-7c16a2913cd6>\u001B[0m in \u001B[0;36m<module>\u001B[0;34m\u001B[0m\n\u001B[0;32m----> 1\u001B[0;31m \u001B[0mheights\u001B[0m\u001B[0;34m,\u001B[0m \u001B[0mboundaries\u001B[0m \u001B[0;34m=\u001B[0m \u001B[0mget_all_heights\u001B[0m\u001B[0;34m(\u001B[0m\u001B[0mcontours\u001B[0m\u001B[0;34m)\u001B[0m\u001B[0;34m\u001B[0m\u001B[0;34m\u001B[0m\u001B[0m\n\u001B[0m",
      "\u001B[0;32m<ipython-input-491-6fb0aacfe006>\u001B[0m in \u001B[0;36mget_all_heights\u001B[0;34m(contours)\u001B[0m\n\u001B[1;32m     36\u001B[0m \u001B[0;34m\u001B[0m\u001B[0m\n\u001B[1;32m     37\u001B[0m \u001B[0;32mdef\u001B[0m \u001B[0mget_all_heights\u001B[0m\u001B[0;34m(\u001B[0m\u001B[0mcontours\u001B[0m\u001B[0;34m)\u001B[0m\u001B[0;34m:\u001B[0m\u001B[0;34m\u001B[0m\u001B[0;34m\u001B[0m\u001B[0m\n\u001B[0;32m---> 38\u001B[0;31m     \u001B[0mheights\u001B[0m\u001B[0;34m,\u001B[0m \u001B[0mpoints\u001B[0m \u001B[0;34m=\u001B[0m \u001B[0mzip\u001B[0m\u001B[0;34m(\u001B[0m\u001B[0;34m*\u001B[0m\u001B[0;34m[\u001B[0m\u001B[0mget_heights\u001B[0m\u001B[0;34m(\u001B[0m\u001B[0mc\u001B[0m\u001B[0;34m)\u001B[0m \u001B[0;32mfor\u001B[0m \u001B[0mc\u001B[0m \u001B[0;32min\u001B[0m \u001B[0mtqdm\u001B[0m\u001B[0;34m(\u001B[0m\u001B[0mcontours\u001B[0m\u001B[0;34m,\u001B[0m \u001B[0;34m'Finding heights'\u001B[0m\u001B[0;34m)\u001B[0m\u001B[0;34m]\u001B[0m\u001B[0;34m)\u001B[0m\u001B[0;34m\u001B[0m\u001B[0;34m\u001B[0m\u001B[0m\n\u001B[0m\u001B[1;32m     39\u001B[0m \u001B[0;34m\u001B[0m\u001B[0m\n\u001B[1;32m     40\u001B[0m     \u001B[0;32mreturn\u001B[0m \u001B[0mnp\u001B[0m\u001B[0;34m.\u001B[0m\u001B[0marray\u001B[0m\u001B[0;34m(\u001B[0m\u001B[0mheights\u001B[0m\u001B[0;34m)\u001B[0m\u001B[0;34m,\u001B[0m \u001B[0mnp\u001B[0m\u001B[0;34m.\u001B[0m\u001B[0marray\u001B[0m\u001B[0;34m(\u001B[0m\u001B[0mpoints\u001B[0m\u001B[0;34m)\u001B[0m\u001B[0;34m\u001B[0m\u001B[0;34m\u001B[0m\u001B[0m\n",
      "\u001B[0;32m<ipython-input-491-6fb0aacfe006>\u001B[0m in \u001B[0;36m<listcomp>\u001B[0;34m(.0)\u001B[0m\n\u001B[1;32m     36\u001B[0m \u001B[0;34m\u001B[0m\u001B[0m\n\u001B[1;32m     37\u001B[0m \u001B[0;32mdef\u001B[0m \u001B[0mget_all_heights\u001B[0m\u001B[0;34m(\u001B[0m\u001B[0mcontours\u001B[0m\u001B[0;34m)\u001B[0m\u001B[0;34m:\u001B[0m\u001B[0;34m\u001B[0m\u001B[0;34m\u001B[0m\u001B[0m\n\u001B[0;32m---> 38\u001B[0;31m     \u001B[0mheights\u001B[0m\u001B[0;34m,\u001B[0m \u001B[0mpoints\u001B[0m \u001B[0;34m=\u001B[0m \u001B[0mzip\u001B[0m\u001B[0;34m(\u001B[0m\u001B[0;34m*\u001B[0m\u001B[0;34m[\u001B[0m\u001B[0mget_heights\u001B[0m\u001B[0;34m(\u001B[0m\u001B[0mc\u001B[0m\u001B[0;34m)\u001B[0m \u001B[0;32mfor\u001B[0m \u001B[0mc\u001B[0m \u001B[0;32min\u001B[0m \u001B[0mtqdm\u001B[0m\u001B[0;34m(\u001B[0m\u001B[0mcontours\u001B[0m\u001B[0;34m,\u001B[0m \u001B[0;34m'Finding heights'\u001B[0m\u001B[0;34m)\u001B[0m\u001B[0;34m]\u001B[0m\u001B[0;34m)\u001B[0m\u001B[0;34m\u001B[0m\u001B[0;34m\u001B[0m\u001B[0m\n\u001B[0m\u001B[1;32m     39\u001B[0m \u001B[0;34m\u001B[0m\u001B[0m\n\u001B[1;32m     40\u001B[0m     \u001B[0;32mreturn\u001B[0m \u001B[0mnp\u001B[0m\u001B[0;34m.\u001B[0m\u001B[0marray\u001B[0m\u001B[0;34m(\u001B[0m\u001B[0mheights\u001B[0m\u001B[0;34m)\u001B[0m\u001B[0;34m,\u001B[0m \u001B[0mnp\u001B[0m\u001B[0;34m.\u001B[0m\u001B[0marray\u001B[0m\u001B[0;34m(\u001B[0m\u001B[0mpoints\u001B[0m\u001B[0;34m)\u001B[0m\u001B[0;34m\u001B[0m\u001B[0;34m\u001B[0m\u001B[0m\n",
      "\u001B[0;32m<ipython-input-491-6fb0aacfe006>\u001B[0m in \u001B[0;36mget_heights\u001B[0;34m(c)\u001B[0m\n\u001B[1;32m     13\u001B[0m     \u001B[0;32mfor\u001B[0m \u001B[0mrow\u001B[0m \u001B[0;32min\u001B[0m \u001B[0mrange\u001B[0m\u001B[0;34m(\u001B[0m\u001B[0;36m10\u001B[0m\u001B[0;34m*\u001B[0m\u001B[0mlattice_spacing\u001B[0m\u001B[0;34m,\u001B[0m \u001B[0;36m190\u001B[0m\u001B[0;34m*\u001B[0m\u001B[0mlattice_spacing\u001B[0m\u001B[0;34m)\u001B[0m\u001B[0;34m:\u001B[0m\u001B[0;34m\u001B[0m\u001B[0;34m\u001B[0m\u001B[0m\n\u001B[1;32m     14\u001B[0m         \u001B[0ml\u001B[0m \u001B[0;34m=\u001B[0m \u001B[0mLineString\u001B[0m\u001B[0;34m(\u001B[0m\u001B[0;34m(\u001B[0m\u001B[0;34m(\u001B[0m\u001B[0;36m0\u001B[0m\u001B[0;34m,\u001B[0m \u001B[0mrow\u001B[0m\u001B[0;34m)\u001B[0m\u001B[0;34m,\u001B[0m \u001B[0;34m(\u001B[0m\u001B[0;36m201\u001B[0m\u001B[0;34m*\u001B[0m\u001B[0mlattice_spacing\u001B[0m\u001B[0;34m,\u001B[0m \u001B[0mrow\u001B[0m\u001B[0;34m)\u001B[0m\u001B[0;34m)\u001B[0m\u001B[0;34m)\u001B[0m\u001B[0;34m\u001B[0m\u001B[0;34m\u001B[0m\u001B[0m\n\u001B[0;32m---> 15\u001B[0;31m         \u001B[0mintersections\u001B[0m \u001B[0;34m=\u001B[0m \u001B[0ml\u001B[0m\u001B[0;34m.\u001B[0m\u001B[0mintersection\u001B[0m\u001B[0;34m(\u001B[0m\u001B[0mc_ls\u001B[0m\u001B[0;34m)\u001B[0m\u001B[0;34m\u001B[0m\u001B[0;34m\u001B[0m\u001B[0m\n\u001B[0m\u001B[1;32m     16\u001B[0m         \u001B[0;32mtry\u001B[0m\u001B[0;34m:\u001B[0m\u001B[0;34m\u001B[0m\u001B[0;34m\u001B[0m\u001B[0m\n\u001B[1;32m     17\u001B[0m             \u001B[0mxs\u001B[0m \u001B[0;34m=\u001B[0m \u001B[0;34m[\u001B[0m\u001B[0mget_x\u001B[0m\u001B[0;34m(\u001B[0m\u001B[0mi\u001B[0m\u001B[0;34m)\u001B[0m \u001B[0;32mfor\u001B[0m \u001B[0mi\u001B[0m \u001B[0;32min\u001B[0m \u001B[0mintersections\u001B[0m\u001B[0;34m]\u001B[0m\u001B[0;34m\u001B[0m\u001B[0;34m\u001B[0m\u001B[0m\n",
      "\u001B[0;32m~/miniconda3/envs/Experiments/lib/python3.7/site-packages/shapely/geometry/base.py\u001B[0m in \u001B[0;36mintersection\u001B[0;34m(self, other)\u001B[0m\n\u001B[1;32m    674\u001B[0m     \u001B[0;32mdef\u001B[0m \u001B[0mintersection\u001B[0m\u001B[0;34m(\u001B[0m\u001B[0mself\u001B[0m\u001B[0;34m,\u001B[0m \u001B[0mother\u001B[0m\u001B[0;34m)\u001B[0m\u001B[0;34m:\u001B[0m\u001B[0;34m\u001B[0m\u001B[0;34m\u001B[0m\u001B[0m\n\u001B[1;32m    675\u001B[0m         \u001B[0;34m\"\"\"Returns the intersection of the geometries\"\"\"\u001B[0m\u001B[0;34m\u001B[0m\u001B[0;34m\u001B[0m\u001B[0m\n\u001B[0;32m--> 676\u001B[0;31m         \u001B[0;32mreturn\u001B[0m \u001B[0mgeom_factory\u001B[0m\u001B[0;34m(\u001B[0m\u001B[0mself\u001B[0m\u001B[0;34m.\u001B[0m\u001B[0mimpl\u001B[0m\u001B[0;34m[\u001B[0m\u001B[0;34m'intersection'\u001B[0m\u001B[0;34m]\u001B[0m\u001B[0;34m(\u001B[0m\u001B[0mself\u001B[0m\u001B[0;34m,\u001B[0m \u001B[0mother\u001B[0m\u001B[0;34m)\u001B[0m\u001B[0;34m)\u001B[0m\u001B[0;34m\u001B[0m\u001B[0;34m\u001B[0m\u001B[0m\n\u001B[0m\u001B[1;32m    677\u001B[0m \u001B[0;34m\u001B[0m\u001B[0m\n\u001B[1;32m    678\u001B[0m     \u001B[0;32mdef\u001B[0m \u001B[0msymmetric_difference\u001B[0m\u001B[0;34m(\u001B[0m\u001B[0mself\u001B[0m\u001B[0;34m,\u001B[0m \u001B[0mother\u001B[0m\u001B[0;34m)\u001B[0m\u001B[0;34m:\u001B[0m\u001B[0;34m\u001B[0m\u001B[0;34m\u001B[0m\u001B[0m\n",
      "\u001B[0;32m~/miniconda3/envs/Experiments/lib/python3.7/site-packages/shapely/topology.py\u001B[0m in \u001B[0;36m__call__\u001B[0;34m(self, this, other, *args)\u001B[0m\n\u001B[1;32m     64\u001B[0m         \u001B[0mself\u001B[0m\u001B[0;34m.\u001B[0m\u001B[0m_validate\u001B[0m\u001B[0;34m(\u001B[0m\u001B[0mthis\u001B[0m\u001B[0;34m)\u001B[0m\u001B[0;34m\u001B[0m\u001B[0;34m\u001B[0m\u001B[0m\n\u001B[1;32m     65\u001B[0m         \u001B[0mself\u001B[0m\u001B[0;34m.\u001B[0m\u001B[0m_validate\u001B[0m\u001B[0;34m(\u001B[0m\u001B[0mother\u001B[0m\u001B[0;34m,\u001B[0m \u001B[0mstop_prepared\u001B[0m\u001B[0;34m=\u001B[0m\u001B[0;32mTrue\u001B[0m\u001B[0;34m)\u001B[0m\u001B[0;34m\u001B[0m\u001B[0;34m\u001B[0m\u001B[0m\n\u001B[0;32m---> 66\u001B[0;31m         \u001B[0mproduct\u001B[0m \u001B[0;34m=\u001B[0m \u001B[0mself\u001B[0m\u001B[0;34m.\u001B[0m\u001B[0mfn\u001B[0m\u001B[0;34m(\u001B[0m\u001B[0mthis\u001B[0m\u001B[0;34m.\u001B[0m\u001B[0m_geom\u001B[0m\u001B[0;34m,\u001B[0m \u001B[0mother\u001B[0m\u001B[0;34m.\u001B[0m\u001B[0m_geom\u001B[0m\u001B[0;34m,\u001B[0m \u001B[0;34m*\u001B[0m\u001B[0margs\u001B[0m\u001B[0;34m)\u001B[0m\u001B[0;34m\u001B[0m\u001B[0;34m\u001B[0m\u001B[0m\n\u001B[0m\u001B[1;32m     67\u001B[0m         \u001B[0;32mif\u001B[0m \u001B[0mproduct\u001B[0m \u001B[0;32mis\u001B[0m \u001B[0;32mNone\u001B[0m\u001B[0;34m:\u001B[0m\u001B[0;34m\u001B[0m\u001B[0;34m\u001B[0m\u001B[0m\n\u001B[1;32m     68\u001B[0m             err = TopologicalError(\n",
      "\u001B[0;31mKeyboardInterrupt\u001B[0m: "
     ]
    }
   ],
   "source": [
    "heights, boundaries = get_all_heights(contours)"
   ]
  },
  {
   "cell_type": "markdown",
   "metadata": {},
   "source": [
    "## Plot the average boundary"
   ]
  },
  {
   "cell_type": "code",
   "execution_count": 282,
   "metadata": {},
   "outputs": [
    {
     "data": {
      "text/plain": [
       "(100, 1800, 2)"
      ]
     },
     "execution_count": 282,
     "metadata": {},
     "output_type": "execute_result"
    }
   ],
   "source": [
    "boundaries.shape"
   ]
  },
  {
   "cell_type": "code",
   "execution_count": 283,
   "metadata": {},
   "outputs": [],
   "source": [
    "average_boundary = np.mean(boundaries, axis=0)\n",
    "spread_boundary = np.std(boundaries, axis=0)"
   ]
  },
  {
   "cell_type": "code",
   "execution_count": 284,
   "metadata": {},
   "outputs": [
    {
     "data": {
      "text/plain": [
       "<ErrorbarContainer object of 3 artists>"
      ]
     },
     "execution_count": 284,
     "metadata": {},
     "output_type": "execute_result"
    }
   ],
   "source": [
    "plt.imshow(ims[0])\n",
    "plt.errorbar(average_boundary[:, 0], average_boundary[:, 1], \n",
    "             xerr=spread_boundary[:, 0], yerr=spread_boundary[:, 1])"
   ]
  },
  {
   "cell_type": "markdown",
   "metadata": {},
   "source": [
    "## Convert units from pixels to mm\n",
    "Use the distance between red faces, the image height(199mm)"
   ]
  },
  {
   "cell_type": "code",
   "execution_count": 59,
   "metadata": {},
   "outputs": [],
   "source": [
    "height_pixels = ims[0].shape[0]\n",
    "height_mm = 199.0\n",
    "pixels_to_mm = height_mm / height_pixels"
   ]
  },
  {
   "cell_type": "code",
   "execution_count": 58,
   "metadata": {},
   "outputs": [
    {
     "ename": "NameError",
     "evalue": "name 'heights' is not defined",
     "output_type": "error",
     "traceback": [
      "\u001B[0;31m---------------------------------------------------------------------------\u001B[0m",
      "\u001B[0;31mNameError\u001B[0m                                 Traceback (most recent call last)",
      "\u001B[0;32m<ipython-input-58-5e0bb256027b>\u001B[0m in \u001B[0;36m<module>\u001B[0;34m\u001B[0m\n\u001B[1;32m      3\u001B[0m \u001B[0mpixels_to_mm\u001B[0m \u001B[0;34m=\u001B[0m \u001B[0mheight_mm\u001B[0m \u001B[0;34m/\u001B[0m \u001B[0mheight_pixels\u001B[0m\u001B[0;34m\u001B[0m\u001B[0;34m\u001B[0m\u001B[0m\n\u001B[1;32m      4\u001B[0m \u001B[0;34m\u001B[0m\u001B[0m\n\u001B[0;32m----> 5\u001B[0;31m \u001B[0mheights_mm\u001B[0m \u001B[0;34m=\u001B[0m \u001B[0;34m[\u001B[0m\u001B[0mh\u001B[0m \u001B[0;34m*\u001B[0m \u001B[0mpixels_to_mm\u001B[0m \u001B[0;32mfor\u001B[0m \u001B[0mh\u001B[0m \u001B[0;32min\u001B[0m \u001B[0mheights\u001B[0m\u001B[0;34m]\u001B[0m\u001B[0;34m\u001B[0m\u001B[0;34m\u001B[0m\u001B[0m\n\u001B[0m\u001B[1;32m      6\u001B[0m \u001B[0mboundaries_mm\u001B[0m \u001B[0;34m=\u001B[0m \u001B[0mboundaries\u001B[0m \u001B[0;34m*\u001B[0m \u001B[0mpixels_to_mm\u001B[0m\u001B[0;34m\u001B[0m\u001B[0;34m\u001B[0m\u001B[0m\n\u001B[1;32m      7\u001B[0m \u001B[0mcgw_mm\u001B[0m \u001B[0;34m=\u001B[0m \u001B[0mcgw\u001B[0m \u001B[0;34m*\u001B[0m \u001B[0mpixels_to_mm\u001B[0m\u001B[0;34m\u001B[0m\u001B[0;34m\u001B[0m\u001B[0m\n",
      "\u001B[0;31mNameError\u001B[0m: name 'heights' is not defined"
     ]
    }
   ],
   "source": [
    "heights_mm = [h * pixels_to_mm for h in heights]\n",
    "boundaries_mm = boundaries * pixels_to_mm\n",
    "cgw_mm = cgw * pixels_to_mm\n",
    "radius_mm = RADIUS * pixels_to_mm"
   ]
  },
  {
   "cell_type": "code",
   "execution_count": 9,
   "metadata": {},
   "outputs": [],
   "source": [
    "def convert_pix_to_mm(heights, boundaries, cgw, radius):\n",
    "    height_pixels = ims[0].shape[0]\n",
    "    height_mm = 199.0\n",
    "    pixels_to_mm = height_mm / height_pixels\n",
    "\n",
    "    heights_mm = [h * pixels_to_mm for h in heights]\n",
    "    boundaries_mm = boundaries * pixels_to_mm\n",
    "    cgw_mm = cgw * pixels_to_mm\n",
    "    radius_mm = radius * pixels_to_mm\n",
    "    return heights_mm, boundaries_mm, cgw_mm, radius_mm"
   ]
  },
  {
   "cell_type": "markdown",
   "metadata": {},
   "source": [
    "## Plot the fourier transform"
   ]
  },
  {
   "cell_type": "code",
   "execution_count": 21,
   "metadata": {},
   "outputs": [],
   "source": [
    "def get_plot_values(heights, dx):\n",
    "    N = len(heights[0])\n",
    "    L = dx * N\n",
    "    \n",
    "    fourier = [np.abs(np.fft.fft(h))**2 for h in heights]\n",
    "    y = np.stack(fourier)[:, 1:N//2] * L\n",
    "    freq = np.fft.fftfreq(N, dx)[1:N//2]\n",
    "    \n",
    "    y_mean = np.mean(y, axis=0).squeeze()\n",
    "    y_err = np.std(y, axis=0, ddof=1).squeeze()\n",
    "    \n",
    "    x = freq * 2 * np.pi\n",
    "    \n",
    "    xplot = np.log10(x)\n",
    "    yplot = np.log10(y_mean)\n",
    "    yerr = 0.434 * y_err / y_mean\n",
    "    return xplot, yplot, yerr\n",
    "\n",
    "def get_fit(x, y, yerr):\n",
    "    fit, fit_err = np.polyfit(x, y, 1, w=1/(yerr*yerr), cov=True)\n",
    "    return fit, np.sqrt(np.diag(fit_err))\n",
    "\n",
    "def plot_fft(heights, dL, dL_min, cgw, L, ax=None, return_fit=False, mmin=1):\n",
    "    \n",
    "    xplot, yplot, yerr = get_plot_values(heights, dL)\n",
    "    \n",
    "    xmax = sum(xplot < np.log10(2*pi/dL_min))\n",
    "    xplot = xplot[mmin:xmax]\n",
    "    xplot = np.log10(np.arange(mmin, xmax)**2-1)\n",
    "    yplot = yplot[mmin:xmax]\n",
    "    yerr = yerr[mmin:xmax]\n",
    "    \n",
    "    fit, fit_err = get_fit(xplot, yplot, yerr)\n",
    "    \n",
    "    if return_fit:\n",
    "        return fit, fit_err\n",
    "    \n",
    "    if ax is None:\n",
    "        fig, ax = plt.subplots()\n",
    "    \n",
    "    ax.plot(xplot, xplot*fit[0]+fit[1], \n",
    "             label=f\"Fit (gradient = {fit[0]:.2f}+/-{fit_err[0]:.2f}))\")\n",
    "    ax.errorbar(xplot, yplot, yerr)\n",
    "    \n",
    "    ax.axvline(np.log10(2*pi/L), label='L', c='r')\n",
    "    ax.axvline(np.log10(2*pi/cgw), label='cgw', c='g')\n",
    "    \n",
    "    \n",
    "    ax.legend()\n",
    "#     ax.set_title(f\"cgw = {cgw:.2f} mm\")\n",
    "    ax.set_xlabel('log$_{10}(k = 2\\pi m/L)$ [mm$^{-1}$]')\n",
    "    ax.set_ylabel('log$_{10}(<|\\delta h_k|^2>L)$ [mm$^3$]')"
   ]
  },
  {
   "cell_type": "code",
   "execution_count": 356,
   "metadata": {},
   "outputs": [],
   "source": [
    "dL_mm = boundaries_mm[0, 1, 1] - boundaries_mm[0, 0, 1]\n",
    "L_mm = dL_mm * boundaries.shape[1]"
   ]
  },
  {
   "cell_type": "code",
   "execution_count": 375,
   "metadata": {},
   "outputs": [],
   "source": [
    "plot_fft(heights_mm, dL_mm, cgw_mm, cgw_mm, L_mm)"
   ]
  },
  {
   "cell_type": "markdown",
   "metadata": {},
   "source": [
    "## Compare the results for different cgws"
   ]
  },
  {
   "cell_type": "code",
   "execution_count": 598,
   "metadata": {},
   "outputs": [],
   "source": [
    "def compare_cgws(data, data_dir, cs):\n",
    "#     cgws = [c * RADIUS for c in [1, 5, 10, 20]]\n",
    "#     cs = np.logspace(0.1, 50, 20)\n",
    "#     fig, ax = plt.subplots(4, 4)\n",
    "#     cs = [1, 5]\n",
    "\n",
    "    if not os.path.isdir(data_dir):\n",
    "        os.mkdir(data_dir)\n",
    "    for i, c in enumerate(cs):\n",
    "        print(i)\n",
    "        cgw = c * RADIUS\n",
    "        if os.path.isfile(f\"{data_dir}/{c}_fields.npy\"):\n",
    "            continue\n",
    "        try:\n",
    "            fields = calculate_fields(data, cgw, x, y)\n",
    "    #         ax[0, i].imshow(fields[0])\n",
    "            field_threshold = calculate_field_threshold(fields)\n",
    "    #         ax[1, i].imshow(fields[0]<field_threshold)\n",
    "\n",
    "\n",
    "            contours = get_contours(fields, field_threshold)\n",
    "            # Multiply the contours by the lattice constant\n",
    "            contours = [c * lattice_spacing for c in contours]\n",
    "\n",
    "            np.save(f\"{data_dir}/{c}_fields.npy\", fields)\n",
    "            np.save(f\"{data_dir}/{c}_field_threshold.npy\", field_threshold)\n",
    "            np.save(f\"{data_dir}/{c}_contours.npy\", contours)\n",
    "\n",
    "\n",
    "    #         ax[2, i].imshow(ims[0])\n",
    "    #         ax[2, i].plot(contours[0][:, :, 0], contours[0][:, :, 1], 'r')\n",
    "\n",
    "\n",
    "\n",
    "            heights, boundaries = get_all_heights(contours)\n",
    "            heights_mm, boundaries_mm, cgw_mm, radius_mm = \\\n",
    "                convert_pix_to_mm(heights, boundaries, cgw, RADIUS)\n",
    "\n",
    "            np.save(f\"{data_dir}/{c}_heights_mm.npy\", heights_mm)\n",
    "            np.save(f\"{data_dir}/{c}_boundaries_mm.npy\", boundaries_mm)\n",
    "            np.save(f\"{data_dir}/{c}_cgw_mm.npy\", cgw_mm)\n",
    "\n",
    "    #         plot_fft(heights_mm, dL_mm, cgw_mm, cgw_mm, L_mm, ax=ax[3, i])\n",
    "        except Exception as e:\n",
    "            print(e)\n",
    "            print(f\"The value c = {c} failed\")\n"
   ]
  },
  {
   "cell_type": "markdown",
   "metadata": {},
   "source": [
    "## Use saved data from file"
   ]
  },
  {
   "cell_type": "code",
   "execution_count": 7,
   "metadata": {},
   "outputs": [],
   "source": [
    "def load_and_compare_cgw(data_dir, subtract_mean=False, cs=None, mmin=1):\n",
    "    \n",
    "    if cs is None:\n",
    "        files = filehandling.get_directory_filenames(data_dir+'/*')\n",
    "        names = [os.path.split(f)[1] for f in files]\n",
    "        cs = list(set([n.split('_')[0] for n in names]))\n",
    "        cs_sort = np.argsort([float(c) for c in cs])\n",
    "        cs = np.array(cs)[cs_sort]   \n",
    "    \n",
    "    \n",
    "    for i, c in enumerate(cs):\n",
    "        fig, ax = plt.subplots(2, 2)\n",
    "        fields = np.load(f\"{data_dir}/{c}_fields.npy\")\n",
    "        field_threshold = np.load(f\"{data_dir}/{c}_field_threshold.npy\")\n",
    "        contours = np.load(f\"{data_dir}/{c}_contours.npy\", allow_pickle=True)\n",
    "        heights_mm = np.load(f\"{data_dir}/{c}_heights_mm.npy\")\n",
    "        boundaries_mm = np.load(f\"{data_dir}/{c}_boundaries_mm.npy\")\n",
    "        cgw_mm = np.load(f\"{data_dir}/{c}_cgw_mm.npy\")\n",
    "        \n",
    "        \n",
    "        if subtract_mean:\n",
    "            heights_mean = np.mean(heights_mm, axis=0)\n",
    "            heights_mm = heights_mm - heights_mean\n",
    "        \n",
    "        ax[0, 0].imshow(fields[0, :, :])\n",
    "        ax[0, 0].set_title(f\"cgw = {cgw_mm} mm\")\n",
    "        ax[0, 1].imshow(fields[0, :, :]<field_threshold)\n",
    "        ax[1, 0].imshow(ims[0])\n",
    "        ax[1, 0].plot(contours[0][:, :, 0], contours[0][:, :, 1])\n",
    "        ax[1, 0].plot(boundaries_mm[0, :, 0]/pixels_to_mm, boundaries_mm[0, :, 1]/pixels_to_mm)\n",
    "        dL_mm = boundaries_mm[0, 1, 1] - boundaries_mm[0, 0, 1]\n",
    "        L_mm = dL_mm * boundaries_mm.shape[1]\n",
    "        plot_fft(heights_mm, dL_mm, cgw_mm, cgw_mm, L_mm, ax=ax[1, 1], mmin=mmin)\n",
    "    "
   ]
  },
  {
   "cell_type": "code",
   "execution_count": 17,
   "metadata": {},
   "outputs": [],
   "source": [
    "def gradient_against_cgw(data_dir, subtract_average=False, mmin=1):\n",
    "    files = filehandling.get_directory_filenames(data_dir+'/*')\n",
    "    names = [os.path.split(f)[1] for f in files]\n",
    "    cs = list(set([n.split('_')[0] for n in names]))\n",
    "    cs_sort = np.argsort([float(c) for c in cs])\n",
    "    cs = np.array(cs)[cs_sort]\n",
    "    cgws = []\n",
    "    grads = []\n",
    "    grad_errs = []\n",
    "    for i, c in enumerate(cs):\n",
    "        fields = np.load(f\"{data_dir}/{c}_fields.npy\")\n",
    "        field_threshold = np.load(f\"{data_dir}/{c}_field_threshold.npy\")\n",
    "        contours = np.load(f\"{data_dir}/{c}_contours.npy\", allow_pickle=True)\n",
    "        heights_mm = np.load(f\"{data_dir}/{c}_heights_mm.npy\")\n",
    "        boundaries_mm = np.load(f\"{data_dir}/{c}_boundaries_mm.npy\")\n",
    "        cgw_mm = np.load(f\"{data_dir}/{c}_cgw_mm.npy\")\n",
    "        \n",
    "        if cgw_mm > 20:\n",
    "            continue\n",
    "        \n",
    "        if subtract_average:\n",
    "            heights_mean = np.mean(heights_mm, axis=0)\n",
    "            heights_mm = heights_mm - heights_mean\n",
    "        \n",
    "        dL_mm = boundaries_mm[0, 1, 1] - boundaries_mm[0, 0, 1]\n",
    "        L_mm = dL_mm * boundaries_mm.shape[1]\n",
    "        \n",
    "        if cgw_mm < 2:\n",
    "            continue\n",
    "        \n",
    "        try:\n",
    "            fit, fit_err = plot_fft(heights_mm, dL_mm, cgw_mm, cgw_mm, L_mm, return_fit=True, mmin=mmin)\n",
    "            cgws.append(cgw_mm)\n",
    "            grads.append(fit[0])\n",
    "            grad_errs.append(fit_err[0])\n",
    "        except:\n",
    "            print(f\"For cgw = {cgw_mm}. Fit Failed\")\n",
    "        \n",
    "#     plt.figure()\n",
    "    plt.errorbar(cgws, grads, yerr=grad_errs, fmt='x')\n",
    "    plt.xlabel('cgw (mm)')\n",
    "    plt.ylabel('Fit')\n",
    "    \n",
    "#     plt.figure()\n",
    "#     plt.errorbar(cgws, grads, yerr=grad_errs, fmt='x')\n",
    "#     ax = plt.gca()\n",
    "#     ax.set_xscale('log')\n",
    "#     plt.xlabel('cgw (mm)')\n",
    "#     plt.ylabel('Fit')\n",
    "    "
   ]
  },
  {
   "cell_type": "code",
   "execution_count": 143,
   "metadata": {},
   "outputs": [],
   "source": [
    "def plot_mean_boundary(data_dir, cs=None):\n",
    "    figure_dir = \"/media/data/Data/FirstOrder/Interfaces/RecordingFluctuationsOctober2020/Figures/mean_boundaries\"\n",
    "    \n",
    "    if cs is None:\n",
    "        files = filehandling.get_directory_filenames(data_dir+'/*')\n",
    "        names = [os.path.split(f)[1] for f in files]\n",
    "        cs = list(set([n.split('_')[0] for n in names]))\n",
    "        cs_sort = np.argsort([float(c) for c in cs])\n",
    "        cs = np.array(cs)[cs_sort]\n",
    "    cgws = []\n",
    "    grads = []\n",
    "    grad_errs = []\n",
    "    for i, c in enumerate(cs):\n",
    "        boundaries_mm = np.load(f\"{data_dir}/{c}_boundaries_mm.npy\")\n",
    "        mean_boundary = np.mean(boundaries_mm, axis=0) / pixels_to_mm\n",
    "        \n",
    "        plt.figure()\n",
    "        plt.imshow(ims[0])\n",
    "        plt.plot(mean_boundary[:, 0], mean_boundary[:, 1])\n",
    "        plt.savefig(f\"{figure_dir}/{c}.png\")\n",
    "        "
   ]
  },
  {
   "cell_type": "code",
   "execution_count": 5,
   "metadata": {},
   "outputs": [
    {
     "data": {
      "text/plain": [
       "'/media/data/Data/FirstOrder/Interfaces/RecordingFluctuationsOctober2020/data'"
      ]
     },
     "execution_count": 5,
     "metadata": {},
     "output_type": "execute_result"
    }
   ],
   "source": [
    "data_dir = f\"{main_directory}/data\"\n",
    "data_dir"
   ]
  },
  {
   "cell_type": "code",
   "execution_count": 599,
   "metadata": {
    "collapsed": true
   },
   "outputs": [
    {
     "name": "stdout",
     "output_type": "stream",
     "text": [
      "0\n"
     ]
    },
    {
     "data": {
      "application/vnd.jupyter.widget-view+json": {
       "model_id": "eaf052f6cc344da18b032bdedd97b7ee",
       "version_major": 2,
       "version_minor": 0
      },
      "text/plain": [
       "HBox(children=(FloatProgress(value=0.0, description='Calculating Fields', style=ProgressStyle(description_widt…"
      ]
     },
     "metadata": {},
     "output_type": "display_data"
    },
    {
     "name": "stdout",
     "output_type": "stream",
     "text": [
      "\n"
     ]
    },
    {
     "data": {
      "application/vnd.jupyter.widget-view+json": {
       "model_id": "42b4423f50bf4b5e9b2ef866749eda0e",
       "version_major": 2,
       "version_minor": 0
      },
      "text/plain": [
       "HBox(children=(FloatProgress(value=0.0, description='Finding heights', style=ProgressStyle(description_width='…"
      ]
     },
     "metadata": {},
     "output_type": "display_data"
    },
    {
     "name": "stdout",
     "output_type": "stream",
     "text": [
      "\n",
      "1\n"
     ]
    },
    {
     "data": {
      "application/vnd.jupyter.widget-view+json": {
       "model_id": "b4d51d9bbb43412e88967cbd16b3ee7c",
       "version_major": 2,
       "version_minor": 0
      },
      "text/plain": [
       "HBox(children=(FloatProgress(value=0.0, description='Calculating Fields', style=ProgressStyle(description_widt…"
      ]
     },
     "metadata": {},
     "output_type": "display_data"
    },
    {
     "name": "stdout",
     "output_type": "stream",
     "text": [
      "\n"
     ]
    },
    {
     "data": {
      "application/vnd.jupyter.widget-view+json": {
       "model_id": "f03e69b29f9e4310832e4acccd7d8c6a",
       "version_major": 2,
       "version_minor": 0
      },
      "text/plain": [
       "HBox(children=(FloatProgress(value=0.0, description='Finding heights', style=ProgressStyle(description_width='…"
      ]
     },
     "metadata": {},
     "output_type": "display_data"
    },
    {
     "name": "stdout",
     "output_type": "stream",
     "text": [
      "\n",
      "2\n"
     ]
    },
    {
     "data": {
      "application/vnd.jupyter.widget-view+json": {
       "model_id": "89bfecaea12d4daca1d4ba9b48913031",
       "version_major": 2,
       "version_minor": 0
      },
      "text/plain": [
       "HBox(children=(FloatProgress(value=0.0, description='Calculating Fields', style=ProgressStyle(description_widt…"
      ]
     },
     "metadata": {},
     "output_type": "display_data"
    },
    {
     "name": "stdout",
     "output_type": "stream",
     "text": [
      "\n"
     ]
    },
    {
     "data": {
      "application/vnd.jupyter.widget-view+json": {
       "model_id": "dcca200444b54c2286c83b9642af9b8b",
       "version_major": 2,
       "version_minor": 0
      },
      "text/plain": [
       "HBox(children=(FloatProgress(value=0.0, description='Finding heights', style=ProgressStyle(description_width='…"
      ]
     },
     "metadata": {},
     "output_type": "display_data"
    },
    {
     "name": "stdout",
     "output_type": "stream",
     "text": [
      "\n",
      "3\n"
     ]
    },
    {
     "data": {
      "application/vnd.jupyter.widget-view+json": {
       "model_id": "eb4e8da7b1b24b35bf53396e5e2775a4",
       "version_major": 2,
       "version_minor": 0
      },
      "text/plain": [
       "HBox(children=(FloatProgress(value=0.0, description='Calculating Fields', style=ProgressStyle(description_widt…"
      ]
     },
     "metadata": {},
     "output_type": "display_data"
    },
    {
     "name": "stdout",
     "output_type": "stream",
     "text": [
      "\n"
     ]
    },
    {
     "data": {
      "application/vnd.jupyter.widget-view+json": {
       "model_id": "0622e03fecc6472d8c97b3de4eb31bcc",
       "version_major": 2,
       "version_minor": 0
      },
      "text/plain": [
       "HBox(children=(FloatProgress(value=0.0, description='Finding heights', style=ProgressStyle(description_width='…"
      ]
     },
     "metadata": {},
     "output_type": "display_data"
    },
    {
     "name": "stdout",
     "output_type": "stream",
     "text": [
      "\n",
      "4\n"
     ]
    },
    {
     "data": {
      "application/vnd.jupyter.widget-view+json": {
       "model_id": "0a9ffe5b59bd46908049596b94a53261",
       "version_major": 2,
       "version_minor": 0
      },
      "text/plain": [
       "HBox(children=(FloatProgress(value=0.0, description='Calculating Fields', style=ProgressStyle(description_widt…"
      ]
     },
     "metadata": {},
     "output_type": "display_data"
    },
    {
     "name": "stdout",
     "output_type": "stream",
     "text": [
      "\n"
     ]
    },
    {
     "data": {
      "application/vnd.jupyter.widget-view+json": {
       "model_id": "d15a988f5e5542b8928f24119571cd93",
       "version_major": 2,
       "version_minor": 0
      },
      "text/plain": [
       "HBox(children=(FloatProgress(value=0.0, description='Finding heights', style=ProgressStyle(description_width='…"
      ]
     },
     "metadata": {},
     "output_type": "display_data"
    },
    {
     "name": "stdout",
     "output_type": "stream",
     "text": [
      "\n",
      "5\n"
     ]
    },
    {
     "data": {
      "application/vnd.jupyter.widget-view+json": {
       "model_id": "349ab32e6e214ab4a6c9ec0852cd8065",
       "version_major": 2,
       "version_minor": 0
      },
      "text/plain": [
       "HBox(children=(FloatProgress(value=0.0, description='Calculating Fields', style=ProgressStyle(description_widt…"
      ]
     },
     "metadata": {},
     "output_type": "display_data"
    },
    {
     "name": "stdout",
     "output_type": "stream",
     "text": [
      "\n"
     ]
    },
    {
     "data": {
      "application/vnd.jupyter.widget-view+json": {
       "model_id": "fea6b184a3074c8b9848dca54bf5cd4d",
       "version_major": 2,
       "version_minor": 0
      },
      "text/plain": [
       "HBox(children=(FloatProgress(value=0.0, description='Finding heights', style=ProgressStyle(description_width='…"
      ]
     },
     "metadata": {},
     "output_type": "display_data"
    },
    {
     "name": "stdout",
     "output_type": "stream",
     "text": [
      "\n",
      "6\n"
     ]
    },
    {
     "data": {
      "application/vnd.jupyter.widget-view+json": {
       "model_id": "a432c01b72834e82a326e21057522441",
       "version_major": 2,
       "version_minor": 0
      },
      "text/plain": [
       "HBox(children=(FloatProgress(value=0.0, description='Calculating Fields', style=ProgressStyle(description_widt…"
      ]
     },
     "metadata": {},
     "output_type": "display_data"
    },
    {
     "name": "stdout",
     "output_type": "stream",
     "text": [
      "\n"
     ]
    },
    {
     "data": {
      "application/vnd.jupyter.widget-view+json": {
       "model_id": "23282a3aa2b74efdba02a7649d58a180",
       "version_major": 2,
       "version_minor": 0
      },
      "text/plain": [
       "HBox(children=(FloatProgress(value=0.0, description='Finding heights', style=ProgressStyle(description_width='…"
      ]
     },
     "metadata": {},
     "output_type": "display_data"
    },
    {
     "name": "stdout",
     "output_type": "stream",
     "text": [
      "\n",
      "7\n"
     ]
    },
    {
     "data": {
      "application/vnd.jupyter.widget-view+json": {
       "model_id": "a54dd8caf3cc496081588f5cef59fe1e",
       "version_major": 2,
       "version_minor": 0
      },
      "text/plain": [
       "HBox(children=(FloatProgress(value=0.0, description='Calculating Fields', style=ProgressStyle(description_widt…"
      ]
     },
     "metadata": {},
     "output_type": "display_data"
    },
    {
     "name": "stdout",
     "output_type": "stream",
     "text": [
      "\n"
     ]
    },
    {
     "data": {
      "application/vnd.jupyter.widget-view+json": {
       "model_id": "61473b1b0eb244ec862fdf8e09cd96a8",
       "version_major": 2,
       "version_minor": 0
      },
      "text/plain": [
       "HBox(children=(FloatProgress(value=0.0, description='Finding heights', style=ProgressStyle(description_width='…"
      ]
     },
     "metadata": {},
     "output_type": "display_data"
    },
    {
     "name": "stdout",
     "output_type": "stream",
     "text": [
      "\n",
      "8\n"
     ]
    },
    {
     "data": {
      "application/vnd.jupyter.widget-view+json": {
       "model_id": "fd42ba5d6732414ea58531051f03dce3",
       "version_major": 2,
       "version_minor": 0
      },
      "text/plain": [
       "HBox(children=(FloatProgress(value=0.0, description='Calculating Fields', style=ProgressStyle(description_widt…"
      ]
     },
     "metadata": {},
     "output_type": "display_data"
    },
    {
     "name": "stdout",
     "output_type": "stream",
     "text": [
      "\n"
     ]
    },
    {
     "data": {
      "application/vnd.jupyter.widget-view+json": {
       "model_id": "65579ac58df54786a95a463d38d82097",
       "version_major": 2,
       "version_minor": 0
      },
      "text/plain": [
       "HBox(children=(FloatProgress(value=0.0, description='Finding heights', style=ProgressStyle(description_width='…"
      ]
     },
     "metadata": {},
     "output_type": "display_data"
    },
    {
     "name": "stdout",
     "output_type": "stream",
     "text": [
      "\n",
      "9\n"
     ]
    },
    {
     "data": {
      "application/vnd.jupyter.widget-view+json": {
       "model_id": "acd5b358f6034a75914e7c734db58abe",
       "version_major": 2,
       "version_minor": 0
      },
      "text/plain": [
       "HBox(children=(FloatProgress(value=0.0, description='Calculating Fields', style=ProgressStyle(description_widt…"
      ]
     },
     "metadata": {},
     "output_type": "display_data"
    },
    {
     "name": "stdout",
     "output_type": "stream",
     "text": [
      "\n"
     ]
    },
    {
     "data": {
      "application/vnd.jupyter.widget-view+json": {
       "model_id": "3f2f7a39b9f3439cbe620f2de2389ab9",
       "version_major": 2,
       "version_minor": 0
      },
      "text/plain": [
       "HBox(children=(FloatProgress(value=0.0, description='Finding heights', style=ProgressStyle(description_width='…"
      ]
     },
     "metadata": {},
     "output_type": "display_data"
    },
    {
     "name": "stdout",
     "output_type": "stream",
     "text": [
      "\n",
      "10\n"
     ]
    },
    {
     "data": {
      "application/vnd.jupyter.widget-view+json": {
       "model_id": "21d45bc409b645dbb4092d735ba6a581",
       "version_major": 2,
       "version_minor": 0
      },
      "text/plain": [
       "HBox(children=(FloatProgress(value=0.0, description='Calculating Fields', style=ProgressStyle(description_widt…"
      ]
     },
     "metadata": {},
     "output_type": "display_data"
    },
    {
     "name": "stdout",
     "output_type": "stream",
     "text": [
      "\n"
     ]
    },
    {
     "data": {
      "application/vnd.jupyter.widget-view+json": {
       "model_id": "8bce8bfd0b884075abeab31f3afe44ea",
       "version_major": 2,
       "version_minor": 0
      },
      "text/plain": [
       "HBox(children=(FloatProgress(value=0.0, description='Finding heights', style=ProgressStyle(description_width='…"
      ]
     },
     "metadata": {},
     "output_type": "display_data"
    },
    {
     "name": "stdout",
     "output_type": "stream",
     "text": [
      "\n",
      "11\n"
     ]
    },
    {
     "data": {
      "application/vnd.jupyter.widget-view+json": {
       "model_id": "c3eade984ce349cfa85557118f68628c",
       "version_major": 2,
       "version_minor": 0
      },
      "text/plain": [
       "HBox(children=(FloatProgress(value=0.0, description='Calculating Fields', style=ProgressStyle(description_widt…"
      ]
     },
     "metadata": {},
     "output_type": "display_data"
    },
    {
     "name": "stdout",
     "output_type": "stream",
     "text": [
      "\n"
     ]
    },
    {
     "data": {
      "application/vnd.jupyter.widget-view+json": {
       "model_id": "31279ecbdebd45d1ad7432068551366a",
       "version_major": 2,
       "version_minor": 0
      },
      "text/plain": [
       "HBox(children=(FloatProgress(value=0.0, description='Finding heights', style=ProgressStyle(description_width='…"
      ]
     },
     "metadata": {},
     "output_type": "display_data"
    },
    {
     "name": "stdout",
     "output_type": "stream",
     "text": [
      "\n",
      "12\n"
     ]
    },
    {
     "data": {
      "application/vnd.jupyter.widget-view+json": {
       "model_id": "18936ce36d3c4d0fa6c9088c31dd22e7",
       "version_major": 2,
       "version_minor": 0
      },
      "text/plain": [
       "HBox(children=(FloatProgress(value=0.0, description='Calculating Fields', style=ProgressStyle(description_widt…"
      ]
     },
     "metadata": {},
     "output_type": "display_data"
    },
    {
     "name": "stdout",
     "output_type": "stream",
     "text": [
      "\n"
     ]
    },
    {
     "data": {
      "application/vnd.jupyter.widget-view+json": {
       "model_id": "b3ff24a9ddcf44b88451b3c423f03f45",
       "version_major": 2,
       "version_minor": 0
      },
      "text/plain": [
       "HBox(children=(FloatProgress(value=0.0, description='Finding heights', style=ProgressStyle(description_width='…"
      ]
     },
     "metadata": {},
     "output_type": "display_data"
    },
    {
     "name": "stdout",
     "output_type": "stream",
     "text": [
      "\n",
      "13\n"
     ]
    },
    {
     "data": {
      "application/vnd.jupyter.widget-view+json": {
       "model_id": "27a4da711ff54b3d9fa991d34763bb19",
       "version_major": 2,
       "version_minor": 0
      },
      "text/plain": [
       "HBox(children=(FloatProgress(value=0.0, description='Calculating Fields', style=ProgressStyle(description_widt…"
      ]
     },
     "metadata": {},
     "output_type": "display_data"
    },
    {
     "name": "stdout",
     "output_type": "stream",
     "text": [
      "\n"
     ]
    },
    {
     "data": {
      "application/vnd.jupyter.widget-view+json": {
       "model_id": "6918937e7e6e4eb5acdc9c4dd58da2c5",
       "version_major": 2,
       "version_minor": 0
      },
      "text/plain": [
       "HBox(children=(FloatProgress(value=0.0, description='Finding heights', style=ProgressStyle(description_width='…"
      ]
     },
     "metadata": {},
     "output_type": "display_data"
    },
    {
     "name": "stdout",
     "output_type": "stream",
     "text": [
      "\n",
      "14\n"
     ]
    },
    {
     "data": {
      "application/vnd.jupyter.widget-view+json": {
       "model_id": "e5d8800d6ed5417c8434eb9328716b49",
       "version_major": 2,
       "version_minor": 0
      },
      "text/plain": [
       "HBox(children=(FloatProgress(value=0.0, description='Calculating Fields', style=ProgressStyle(description_widt…"
      ]
     },
     "metadata": {},
     "output_type": "display_data"
    },
    {
     "name": "stdout",
     "output_type": "stream",
     "text": [
      "\n"
     ]
    },
    {
     "data": {
      "application/vnd.jupyter.widget-view+json": {
       "model_id": "0d58646fefdb4812a9100329eb035adb",
       "version_major": 2,
       "version_minor": 0
      },
      "text/plain": [
       "HBox(children=(FloatProgress(value=0.0, description='Finding heights', style=ProgressStyle(description_width='…"
      ]
     },
     "metadata": {},
     "output_type": "display_data"
    },
    {
     "name": "stdout",
     "output_type": "stream",
     "text": [
      "\n",
      "15\n"
     ]
    },
    {
     "data": {
      "application/vnd.jupyter.widget-view+json": {
       "model_id": "09dc58753aea43c6ac2300cf999256cd",
       "version_major": 2,
       "version_minor": 0
      },
      "text/plain": [
       "HBox(children=(FloatProgress(value=0.0, description='Calculating Fields', style=ProgressStyle(description_widt…"
      ]
     },
     "metadata": {},
     "output_type": "display_data"
    },
    {
     "name": "stdout",
     "output_type": "stream",
     "text": [
      "\n"
     ]
    },
    {
     "data": {
      "application/vnd.jupyter.widget-view+json": {
       "model_id": "cd734394227a46378c0c3aadb87a4a05",
       "version_major": 2,
       "version_minor": 0
      },
      "text/plain": [
       "HBox(children=(FloatProgress(value=0.0, description='Finding heights', style=ProgressStyle(description_width='…"
      ]
     },
     "metadata": {},
     "output_type": "display_data"
    },
    {
     "name": "stdout",
     "output_type": "stream",
     "text": [
      "\n",
      "16\n"
     ]
    },
    {
     "data": {
      "application/vnd.jupyter.widget-view+json": {
       "model_id": "c8aec9f5e77641ac8858acb946841653",
       "version_major": 2,
       "version_minor": 0
      },
      "text/plain": [
       "HBox(children=(FloatProgress(value=0.0, description='Calculating Fields', style=ProgressStyle(description_widt…"
      ]
     },
     "metadata": {},
     "output_type": "display_data"
    },
    {
     "name": "stdout",
     "output_type": "stream",
     "text": [
      "\n"
     ]
    },
    {
     "data": {
      "application/vnd.jupyter.widget-view+json": {
       "model_id": "fb8e2dd5220e4191b782387c3b9ddae2",
       "version_major": 2,
       "version_minor": 0
      },
      "text/plain": [
       "HBox(children=(FloatProgress(value=0.0, description='Finding heights', style=ProgressStyle(description_width='…"
      ]
     },
     "metadata": {},
     "output_type": "display_data"
    },
    {
     "name": "stdout",
     "output_type": "stream",
     "text": [
      "\n",
      "17\n"
     ]
    },
    {
     "data": {
      "application/vnd.jupyter.widget-view+json": {
       "model_id": "9351106ba1a84948988ec3f26528094f",
       "version_major": 2,
       "version_minor": 0
      },
      "text/plain": [
       "HBox(children=(FloatProgress(value=0.0, description='Calculating Fields', style=ProgressStyle(description_widt…"
      ]
     },
     "metadata": {},
     "output_type": "display_data"
    },
    {
     "name": "stdout",
     "output_type": "stream",
     "text": [
      "\n"
     ]
    },
    {
     "data": {
      "application/vnd.jupyter.widget-view+json": {
       "model_id": "cb920694cf944974bf93267a3c0e9c27",
       "version_major": 2,
       "version_minor": 0
      },
      "text/plain": [
       "HBox(children=(FloatProgress(value=0.0, description='Finding heights', style=ProgressStyle(description_width='…"
      ]
     },
     "metadata": {},
     "output_type": "display_data"
    },
    {
     "name": "stdout",
     "output_type": "stream",
     "text": [
      "\n",
      "18\n"
     ]
    },
    {
     "data": {
      "application/vnd.jupyter.widget-view+json": {
       "model_id": "d9e7547c186945f8a1c996920b661afc",
       "version_major": 2,
       "version_minor": 0
      },
      "text/plain": [
       "HBox(children=(FloatProgress(value=0.0, description='Calculating Fields', style=ProgressStyle(description_widt…"
      ]
     },
     "metadata": {},
     "output_type": "display_data"
    },
    {
     "name": "stdout",
     "output_type": "stream",
     "text": [
      "\n"
     ]
    },
    {
     "data": {
      "application/vnd.jupyter.widget-view+json": {
       "model_id": "4de119f68b6d48a6a03021faf1e1d49d",
       "version_major": 2,
       "version_minor": 0
      },
      "text/plain": [
       "HBox(children=(FloatProgress(value=0.0, description='Finding heights', style=ProgressStyle(description_width='…"
      ]
     },
     "metadata": {},
     "output_type": "display_data"
    },
    {
     "name": "stdout",
     "output_type": "stream",
     "text": [
      "\n",
      "19\n"
     ]
    },
    {
     "data": {
      "application/vnd.jupyter.widget-view+json": {
       "model_id": "c3666b42df6c4d01b6d868372acf35eb",
       "version_major": 2,
       "version_minor": 0
      },
      "text/plain": [
       "HBox(children=(FloatProgress(value=0.0, description='Calculating Fields', style=ProgressStyle(description_widt…"
      ]
     },
     "metadata": {},
     "output_type": "display_data"
    },
    {
     "name": "stdout",
     "output_type": "stream",
     "text": [
      "\n"
     ]
    },
    {
     "data": {
      "application/vnd.jupyter.widget-view+json": {
       "model_id": "098edd9eff0b4f62b794aec291b2c539",
       "version_major": 2,
       "version_minor": 0
      },
      "text/plain": [
       "HBox(children=(FloatProgress(value=0.0, description='Finding heights', style=ProgressStyle(description_width='…"
      ]
     },
     "metadata": {},
     "output_type": "display_data"
    },
    {
     "name": "stdout",
     "output_type": "stream",
     "text": [
      "\n",
      "20\n"
     ]
    },
    {
     "data": {
      "application/vnd.jupyter.widget-view+json": {
       "model_id": "030abdf370d34c4a9ab78cde49ec31a4",
       "version_major": 2,
       "version_minor": 0
      },
      "text/plain": [
       "HBox(children=(FloatProgress(value=0.0, description='Calculating Fields', style=ProgressStyle(description_widt…"
      ]
     },
     "metadata": {},
     "output_type": "display_data"
    },
    {
     "name": "stdout",
     "output_type": "stream",
     "text": [
      "\n"
     ]
    },
    {
     "data": {
      "application/vnd.jupyter.widget-view+json": {
       "model_id": "8094e4119de8403682ef245c9b1c082c",
       "version_major": 2,
       "version_minor": 0
      },
      "text/plain": [
       "HBox(children=(FloatProgress(value=0.0, description='Finding heights', style=ProgressStyle(description_width='…"
      ]
     },
     "metadata": {},
     "output_type": "display_data"
    },
    {
     "name": "stdout",
     "output_type": "stream",
     "text": [
      "\n",
      "21\n"
     ]
    },
    {
     "data": {
      "application/vnd.jupyter.widget-view+json": {
       "model_id": "0313a1e32da5432cadfdeada2a6f0aed",
       "version_major": 2,
       "version_minor": 0
      },
      "text/plain": [
       "HBox(children=(FloatProgress(value=0.0, description='Calculating Fields', style=ProgressStyle(description_widt…"
      ]
     },
     "metadata": {},
     "output_type": "display_data"
    },
    {
     "name": "stdout",
     "output_type": "stream",
     "text": [
      "\n"
     ]
    },
    {
     "data": {
      "application/vnd.jupyter.widget-view+json": {
       "model_id": "1671ba8e02254f0eb44075bc83124dc7",
       "version_major": 2,
       "version_minor": 0
      },
      "text/plain": [
       "HBox(children=(FloatProgress(value=0.0, description='Finding heights', style=ProgressStyle(description_width='…"
      ]
     },
     "metadata": {},
     "output_type": "display_data"
    },
    {
     "name": "stdout",
     "output_type": "stream",
     "text": [
      "\n",
      "22\n"
     ]
    },
    {
     "data": {
      "application/vnd.jupyter.widget-view+json": {
       "model_id": "b2ee8758a89c4b0c8669f4eeb4cc0a88",
       "version_major": 2,
       "version_minor": 0
      },
      "text/plain": [
       "HBox(children=(FloatProgress(value=0.0, description='Calculating Fields', style=ProgressStyle(description_widt…"
      ]
     },
     "metadata": {},
     "output_type": "display_data"
    },
    {
     "name": "stdout",
     "output_type": "stream",
     "text": [
      "\n"
     ]
    },
    {
     "data": {
      "application/vnd.jupyter.widget-view+json": {
       "model_id": "752d9ba9f14e4356b9d18d461660e75b",
       "version_major": 2,
       "version_minor": 0
      },
      "text/plain": [
       "HBox(children=(FloatProgress(value=0.0, description='Finding heights', style=ProgressStyle(description_width='…"
      ]
     },
     "metadata": {},
     "output_type": "display_data"
    },
    {
     "name": "stdout",
     "output_type": "stream",
     "text": [
      "\n",
      "23\n"
     ]
    },
    {
     "data": {
      "application/vnd.jupyter.widget-view+json": {
       "model_id": "60a565dcba8444ed9040580d91d699cb",
       "version_major": 2,
       "version_minor": 0
      },
      "text/plain": [
       "HBox(children=(FloatProgress(value=0.0, description='Calculating Fields', style=ProgressStyle(description_widt…"
      ]
     },
     "metadata": {},
     "output_type": "display_data"
    },
    {
     "name": "stdout",
     "output_type": "stream",
     "text": [
      "\n"
     ]
    },
    {
     "data": {
      "application/vnd.jupyter.widget-view+json": {
       "model_id": "5649feda5c9c458fb3c2945f86838463",
       "version_major": 2,
       "version_minor": 0
      },
      "text/plain": [
       "HBox(children=(FloatProgress(value=0.0, description='Finding heights', style=ProgressStyle(description_width='…"
      ]
     },
     "metadata": {},
     "output_type": "display_data"
    },
    {
     "name": "stdout",
     "output_type": "stream",
     "text": [
      "\n",
      "24\n"
     ]
    },
    {
     "data": {
      "application/vnd.jupyter.widget-view+json": {
       "model_id": "d1524dc57d3e4858af2247cd562722d1",
       "version_major": 2,
       "version_minor": 0
      },
      "text/plain": [
       "HBox(children=(FloatProgress(value=0.0, description='Calculating Fields', style=ProgressStyle(description_widt…"
      ]
     },
     "metadata": {},
     "output_type": "display_data"
    },
    {
     "name": "stdout",
     "output_type": "stream",
     "text": [
      "\n"
     ]
    },
    {
     "data": {
      "application/vnd.jupyter.widget-view+json": {
       "model_id": "5971e5f941314c70b88f943bbf4f0e5b",
       "version_major": 2,
       "version_minor": 0
      },
      "text/plain": [
       "HBox(children=(FloatProgress(value=0.0, description='Finding heights', style=ProgressStyle(description_width='…"
      ]
     },
     "metadata": {},
     "output_type": "display_data"
    },
    {
     "name": "stdout",
     "output_type": "stream",
     "text": [
      "\n",
      "25\n"
     ]
    },
    {
     "data": {
      "application/vnd.jupyter.widget-view+json": {
       "model_id": "60a001d9815e49759d5c8816b62833ac",
       "version_major": 2,
       "version_minor": 0
      },
      "text/plain": [
       "HBox(children=(FloatProgress(value=0.0, description='Calculating Fields', style=ProgressStyle(description_widt…"
      ]
     },
     "metadata": {},
     "output_type": "display_data"
    },
    {
     "name": "stdout",
     "output_type": "stream",
     "text": [
      "\n"
     ]
    },
    {
     "data": {
      "application/vnd.jupyter.widget-view+json": {
       "model_id": "22c29c34cb2b4dc9b9d97f9e43d9540b",
       "version_major": 2,
       "version_minor": 0
      },
      "text/plain": [
       "HBox(children=(FloatProgress(value=0.0, description='Finding heights', style=ProgressStyle(description_width='…"
      ]
     },
     "metadata": {},
     "output_type": "display_data"
    },
    {
     "name": "stdout",
     "output_type": "stream",
     "text": [
      "\n",
      "26\n"
     ]
    },
    {
     "data": {
      "application/vnd.jupyter.widget-view+json": {
       "model_id": "94439b644284479cafcc10ecf6074d4c",
       "version_major": 2,
       "version_minor": 0
      },
      "text/plain": [
       "HBox(children=(FloatProgress(value=0.0, description='Calculating Fields', style=ProgressStyle(description_widt…"
      ]
     },
     "metadata": {},
     "output_type": "display_data"
    },
    {
     "name": "stdout",
     "output_type": "stream",
     "text": [
      "\n"
     ]
    },
    {
     "data": {
      "application/vnd.jupyter.widget-view+json": {
       "model_id": "d7dce683e3e94279b033dff20b57d4ab",
       "version_major": 2,
       "version_minor": 0
      },
      "text/plain": [
       "HBox(children=(FloatProgress(value=0.0, description='Finding heights', style=ProgressStyle(description_width='…"
      ]
     },
     "metadata": {},
     "output_type": "display_data"
    },
    {
     "name": "stdout",
     "output_type": "stream",
     "text": [
      "\n",
      "27\n"
     ]
    },
    {
     "data": {
      "application/vnd.jupyter.widget-view+json": {
       "model_id": "04d203bbd9c04cab85784a8de8452efd",
       "version_major": 2,
       "version_minor": 0
      },
      "text/plain": [
       "HBox(children=(FloatProgress(value=0.0, description='Calculating Fields', style=ProgressStyle(description_widt…"
      ]
     },
     "metadata": {},
     "output_type": "display_data"
    },
    {
     "name": "stdout",
     "output_type": "stream",
     "text": [
      "\n"
     ]
    },
    {
     "data": {
      "application/vnd.jupyter.widget-view+json": {
       "model_id": "4cf96ae94a784f8fa7657b9f25904898",
       "version_major": 2,
       "version_minor": 0
      },
      "text/plain": [
       "HBox(children=(FloatProgress(value=0.0, description='Finding heights', style=ProgressStyle(description_width='…"
      ]
     },
     "metadata": {},
     "output_type": "display_data"
    },
    {
     "name": "stdout",
     "output_type": "stream",
     "text": [
      "\n",
      "28\n"
     ]
    },
    {
     "data": {
      "application/vnd.jupyter.widget-view+json": {
       "model_id": "4a49c886e3724dca8473f60be8a088f0",
       "version_major": 2,
       "version_minor": 0
      },
      "text/plain": [
       "HBox(children=(FloatProgress(value=0.0, description='Calculating Fields', style=ProgressStyle(description_widt…"
      ]
     },
     "metadata": {},
     "output_type": "display_data"
    },
    {
     "name": "stdout",
     "output_type": "stream",
     "text": [
      "\n"
     ]
    },
    {
     "data": {
      "application/vnd.jupyter.widget-view+json": {
       "model_id": "ffb0f70fee644541be8e34a6b839cd96",
       "version_major": 2,
       "version_minor": 0
      },
      "text/plain": [
       "HBox(children=(FloatProgress(value=0.0, description='Finding heights', style=ProgressStyle(description_width='…"
      ]
     },
     "metadata": {},
     "output_type": "display_data"
    },
    {
     "name": "stdout",
     "output_type": "stream",
     "text": [
      "\n",
      "29\n"
     ]
    },
    {
     "data": {
      "application/vnd.jupyter.widget-view+json": {
       "model_id": "a6887906ed32490d908960cbd28c3dd7",
       "version_major": 2,
       "version_minor": 0
      },
      "text/plain": [
       "HBox(children=(FloatProgress(value=0.0, description='Calculating Fields', style=ProgressStyle(description_widt…"
      ]
     },
     "metadata": {},
     "output_type": "display_data"
    },
    {
     "name": "stdout",
     "output_type": "stream",
     "text": [
      "\n"
     ]
    },
    {
     "data": {
      "application/vnd.jupyter.widget-view+json": {
       "model_id": "4d711e6e5bd749c7b87b51abf6bba062",
       "version_major": 2,
       "version_minor": 0
      },
      "text/plain": [
       "HBox(children=(FloatProgress(value=0.0, description='Finding heights', style=ProgressStyle(description_width='…"
      ]
     },
     "metadata": {},
     "output_type": "display_data"
    },
    {
     "name": "stdout",
     "output_type": "stream",
     "text": [
      "\n",
      "30\n"
     ]
    },
    {
     "data": {
      "application/vnd.jupyter.widget-view+json": {
       "model_id": "2c29b25451c44e7e8bffd0ec4b334be5",
       "version_major": 2,
       "version_minor": 0
      },
      "text/plain": [
       "HBox(children=(FloatProgress(value=0.0, description='Calculating Fields', style=ProgressStyle(description_widt…"
      ]
     },
     "metadata": {},
     "output_type": "display_data"
    },
    {
     "name": "stdout",
     "output_type": "stream",
     "text": [
      "\n"
     ]
    },
    {
     "data": {
      "application/vnd.jupyter.widget-view+json": {
       "model_id": "00eff11817ab42e5a4f2ec2aa3f27924",
       "version_major": 2,
       "version_minor": 0
      },
      "text/plain": [
       "HBox(children=(FloatProgress(value=0.0, description='Finding heights', style=ProgressStyle(description_width='…"
      ]
     },
     "metadata": {},
     "output_type": "display_data"
    },
    {
     "name": "stdout",
     "output_type": "stream",
     "text": [
      "\n",
      "31\n"
     ]
    },
    {
     "data": {
      "application/vnd.jupyter.widget-view+json": {
       "model_id": "b03c73f7ffea49c9b612c4858890eaa6",
       "version_major": 2,
       "version_minor": 0
      },
      "text/plain": [
       "HBox(children=(FloatProgress(value=0.0, description='Calculating Fields', style=ProgressStyle(description_widt…"
      ]
     },
     "metadata": {},
     "output_type": "display_data"
    },
    {
     "name": "stdout",
     "output_type": "stream",
     "text": [
      "\n"
     ]
    },
    {
     "data": {
      "application/vnd.jupyter.widget-view+json": {
       "model_id": "2959c9cf427b416894f95bd60e69ea84",
       "version_major": 2,
       "version_minor": 0
      },
      "text/plain": [
       "HBox(children=(FloatProgress(value=0.0, description='Finding heights', style=ProgressStyle(description_width='…"
      ]
     },
     "metadata": {},
     "output_type": "display_data"
    },
    {
     "name": "stdout",
     "output_type": "stream",
     "text": [
      "\n",
      "32\n"
     ]
    },
    {
     "data": {
      "application/vnd.jupyter.widget-view+json": {
       "model_id": "c4eae116c1fd44ca9f37658c276f7c50",
       "version_major": 2,
       "version_minor": 0
      },
      "text/plain": [
       "HBox(children=(FloatProgress(value=0.0, description='Calculating Fields', style=ProgressStyle(description_widt…"
      ]
     },
     "metadata": {},
     "output_type": "display_data"
    },
    {
     "name": "stdout",
     "output_type": "stream",
     "text": [
      "\n"
     ]
    },
    {
     "data": {
      "application/vnd.jupyter.widget-view+json": {
       "model_id": "c345bda058a148a18d2561034ce908a0",
       "version_major": 2,
       "version_minor": 0
      },
      "text/plain": [
       "HBox(children=(FloatProgress(value=0.0, description='Finding heights', style=ProgressStyle(description_width='…"
      ]
     },
     "metadata": {},
     "output_type": "display_data"
    },
    {
     "name": "stdout",
     "output_type": "stream",
     "text": [
      "\n",
      "33\n"
     ]
    },
    {
     "data": {
      "application/vnd.jupyter.widget-view+json": {
       "model_id": "6db9db62f65344b9a72497fa7cdc5e7b",
       "version_major": 2,
       "version_minor": 0
      },
      "text/plain": [
       "HBox(children=(FloatProgress(value=0.0, description='Calculating Fields', style=ProgressStyle(description_widt…"
      ]
     },
     "metadata": {},
     "output_type": "display_data"
    },
    {
     "name": "stdout",
     "output_type": "stream",
     "text": [
      "\n"
     ]
    },
    {
     "data": {
      "application/vnd.jupyter.widget-view+json": {
       "model_id": "36db6ff3766a4614a7ea91264cfee0cc",
       "version_major": 2,
       "version_minor": 0
      },
      "text/plain": [
       "HBox(children=(FloatProgress(value=0.0, description='Finding heights', style=ProgressStyle(description_width='…"
      ]
     },
     "metadata": {},
     "output_type": "display_data"
    },
    {
     "name": "stdout",
     "output_type": "stream",
     "text": [
      "\n",
      "34\n"
     ]
    },
    {
     "data": {
      "application/vnd.jupyter.widget-view+json": {
       "model_id": "6d6cdeed6e4f400ea01c863b02f61337",
       "version_major": 2,
       "version_minor": 0
      },
      "text/plain": [
       "HBox(children=(FloatProgress(value=0.0, description='Calculating Fields', style=ProgressStyle(description_widt…"
      ]
     },
     "metadata": {},
     "output_type": "display_data"
    },
    {
     "name": "stdout",
     "output_type": "stream",
     "text": [
      "\n"
     ]
    },
    {
     "data": {
      "application/vnd.jupyter.widget-view+json": {
       "model_id": "5a9223733daa496c9e912ed76fbdd6e8",
       "version_major": 2,
       "version_minor": 0
      },
      "text/plain": [
       "HBox(children=(FloatProgress(value=0.0, description='Finding heights', style=ProgressStyle(description_width='…"
      ]
     },
     "metadata": {},
     "output_type": "display_data"
    },
    {
     "name": "stdout",
     "output_type": "stream",
     "text": [
      "\n",
      "35\n"
     ]
    },
    {
     "data": {
      "application/vnd.jupyter.widget-view+json": {
       "model_id": "05d3feefe9684ad0911668f55493d2c7",
       "version_major": 2,
       "version_minor": 0
      },
      "text/plain": [
       "HBox(children=(FloatProgress(value=0.0, description='Calculating Fields', style=ProgressStyle(description_widt…"
      ]
     },
     "metadata": {},
     "output_type": "display_data"
    },
    {
     "name": "stdout",
     "output_type": "stream",
     "text": [
      "\n"
     ]
    },
    {
     "data": {
      "application/vnd.jupyter.widget-view+json": {
       "model_id": "6480996b9e214cdab55823b5f0c7f7fc",
       "version_major": 2,
       "version_minor": 0
      },
      "text/plain": [
       "HBox(children=(FloatProgress(value=0.0, description='Finding heights', style=ProgressStyle(description_width='…"
      ]
     },
     "metadata": {},
     "output_type": "display_data"
    },
    {
     "name": "stdout",
     "output_type": "stream",
     "text": [
      "\n",
      "36\n"
     ]
    },
    {
     "data": {
      "application/vnd.jupyter.widget-view+json": {
       "model_id": "db9983f3086b44f2a91fb08fd0fd2be3",
       "version_major": 2,
       "version_minor": 0
      },
      "text/plain": [
       "HBox(children=(FloatProgress(value=0.0, description='Calculating Fields', style=ProgressStyle(description_widt…"
      ]
     },
     "metadata": {},
     "output_type": "display_data"
    },
    {
     "name": "stdout",
     "output_type": "stream",
     "text": [
      "\n"
     ]
    },
    {
     "data": {
      "application/vnd.jupyter.widget-view+json": {
       "model_id": "1c610b2a7dc542cda92688e06ebbdba7",
       "version_major": 2,
       "version_minor": 0
      },
      "text/plain": [
       "HBox(children=(FloatProgress(value=0.0, description='Finding heights', style=ProgressStyle(description_width='…"
      ]
     },
     "metadata": {},
     "output_type": "display_data"
    },
    {
     "name": "stdout",
     "output_type": "stream",
     "text": [
      "\n",
      "37\n"
     ]
    },
    {
     "data": {
      "application/vnd.jupyter.widget-view+json": {
       "model_id": "d09849bb29e2484c855f1dc1debb44d5",
       "version_major": 2,
       "version_minor": 0
      },
      "text/plain": [
       "HBox(children=(FloatProgress(value=0.0, description='Calculating Fields', style=ProgressStyle(description_widt…"
      ]
     },
     "metadata": {},
     "output_type": "display_data"
    },
    {
     "name": "stdout",
     "output_type": "stream",
     "text": [
      "\n"
     ]
    },
    {
     "data": {
      "application/vnd.jupyter.widget-view+json": {
       "model_id": "5df61cd4d87e4e929c1d31875a089aaf",
       "version_major": 2,
       "version_minor": 0
      },
      "text/plain": [
       "HBox(children=(FloatProgress(value=0.0, description='Finding heights', style=ProgressStyle(description_width='…"
      ]
     },
     "metadata": {},
     "output_type": "display_data"
    },
    {
     "name": "stdout",
     "output_type": "stream",
     "text": [
      "\n",
      "38\n"
     ]
    },
    {
     "data": {
      "application/vnd.jupyter.widget-view+json": {
       "model_id": "05d10fa376754fd8aa75b522d51da5e9",
       "version_major": 2,
       "version_minor": 0
      },
      "text/plain": [
       "HBox(children=(FloatProgress(value=0.0, description='Calculating Fields', style=ProgressStyle(description_widt…"
      ]
     },
     "metadata": {},
     "output_type": "display_data"
    },
    {
     "name": "stdout",
     "output_type": "stream",
     "text": [
      "\n"
     ]
    },
    {
     "data": {
      "application/vnd.jupyter.widget-view+json": {
       "model_id": "a08baf1ae95e47f0bdfac6aae32ab29f",
       "version_major": 2,
       "version_minor": 0
      },
      "text/plain": [
       "HBox(children=(FloatProgress(value=0.0, description='Finding heights', style=ProgressStyle(description_width='…"
      ]
     },
     "metadata": {},
     "output_type": "display_data"
    },
    {
     "name": "stdout",
     "output_type": "stream",
     "text": [
      "\n",
      "39\n"
     ]
    },
    {
     "data": {
      "application/vnd.jupyter.widget-view+json": {
       "model_id": "284aaf8b1b0c46bcac3bbad865ed4356",
       "version_major": 2,
       "version_minor": 0
      },
      "text/plain": [
       "HBox(children=(FloatProgress(value=0.0, description='Calculating Fields', style=ProgressStyle(description_widt…"
      ]
     },
     "metadata": {},
     "output_type": "display_data"
    },
    {
     "name": "stdout",
     "output_type": "stream",
     "text": [
      "\n"
     ]
    },
    {
     "data": {
      "application/vnd.jupyter.widget-view+json": {
       "model_id": "d714ff7592b843c887590882c3bf6160",
       "version_major": 2,
       "version_minor": 0
      },
      "text/plain": [
       "HBox(children=(FloatProgress(value=0.0, description='Finding heights', style=ProgressStyle(description_width='…"
      ]
     },
     "metadata": {},
     "output_type": "display_data"
    },
    {
     "name": "stdout",
     "output_type": "stream",
     "text": [
      "\n",
      "40\n"
     ]
    },
    {
     "data": {
      "application/vnd.jupyter.widget-view+json": {
       "model_id": "d7138264174d41c39f250b8d6828354a",
       "version_major": 2,
       "version_minor": 0
      },
      "text/plain": [
       "HBox(children=(FloatProgress(value=0.0, description='Calculating Fields', style=ProgressStyle(description_widt…"
      ]
     },
     "metadata": {},
     "output_type": "display_data"
    },
    {
     "name": "stdout",
     "output_type": "stream",
     "text": [
      "\n"
     ]
    },
    {
     "data": {
      "application/vnd.jupyter.widget-view+json": {
       "model_id": "008a42c526144a10bd4f326e6fece065",
       "version_major": 2,
       "version_minor": 0
      },
      "text/plain": [
       "HBox(children=(FloatProgress(value=0.0, description='Finding heights', style=ProgressStyle(description_width='…"
      ]
     },
     "metadata": {},
     "output_type": "display_data"
    },
    {
     "name": "stdout",
     "output_type": "stream",
     "text": [
      "\n",
      "41\n"
     ]
    },
    {
     "data": {
      "application/vnd.jupyter.widget-view+json": {
       "model_id": "cfde7aa22f47430ba216abff1b0ea24b",
       "version_major": 2,
       "version_minor": 0
      },
      "text/plain": [
       "HBox(children=(FloatProgress(value=0.0, description='Calculating Fields', style=ProgressStyle(description_widt…"
      ]
     },
     "metadata": {},
     "output_type": "display_data"
    },
    {
     "name": "stdout",
     "output_type": "stream",
     "text": [
      "\n"
     ]
    },
    {
     "data": {
      "application/vnd.jupyter.widget-view+json": {
       "model_id": "0cd72a786eb34fe2a94a4882146e6938",
       "version_major": 2,
       "version_minor": 0
      },
      "text/plain": [
       "HBox(children=(FloatProgress(value=0.0, description='Finding heights', style=ProgressStyle(description_width='…"
      ]
     },
     "metadata": {},
     "output_type": "display_data"
    },
    {
     "name": "stdout",
     "output_type": "stream",
     "text": [
      "\n",
      "42\n"
     ]
    },
    {
     "data": {
      "application/vnd.jupyter.widget-view+json": {
       "model_id": "7101f221d4184de0b44522025164e776",
       "version_major": 2,
       "version_minor": 0
      },
      "text/plain": [
       "HBox(children=(FloatProgress(value=0.0, description='Calculating Fields', style=ProgressStyle(description_widt…"
      ]
     },
     "metadata": {},
     "output_type": "display_data"
    },
    {
     "name": "stdout",
     "output_type": "stream",
     "text": [
      "\n"
     ]
    },
    {
     "data": {
      "application/vnd.jupyter.widget-view+json": {
       "model_id": "08cbaf90c7af4400869cc02e72c26245",
       "version_major": 2,
       "version_minor": 0
      },
      "text/plain": [
       "HBox(children=(FloatProgress(value=0.0, description='Finding heights', style=ProgressStyle(description_width='…"
      ]
     },
     "metadata": {},
     "output_type": "display_data"
    },
    {
     "name": "stdout",
     "output_type": "stream",
     "text": [
      "\n",
      "43\n"
     ]
    },
    {
     "data": {
      "application/vnd.jupyter.widget-view+json": {
       "model_id": "d749a8d56aec4eda9b7efb8e420470fa",
       "version_major": 2,
       "version_minor": 0
      },
      "text/plain": [
       "HBox(children=(FloatProgress(value=0.0, description='Calculating Fields', style=ProgressStyle(description_widt…"
      ]
     },
     "metadata": {},
     "output_type": "display_data"
    },
    {
     "name": "stdout",
     "output_type": "stream",
     "text": [
      "\n"
     ]
    },
    {
     "data": {
      "application/vnd.jupyter.widget-view+json": {
       "model_id": "2f2bd87d66cf42e0b9f367a6e002edbf",
       "version_major": 2,
       "version_minor": 0
      },
      "text/plain": [
       "HBox(children=(FloatProgress(value=0.0, description='Finding heights', style=ProgressStyle(description_width='…"
      ]
     },
     "metadata": {},
     "output_type": "display_data"
    },
    {
     "name": "stdout",
     "output_type": "stream",
     "text": [
      "\n",
      "44\n"
     ]
    },
    {
     "data": {
      "application/vnd.jupyter.widget-view+json": {
       "model_id": "08aa7d45f0b745a4b043818673cbc03e",
       "version_major": 2,
       "version_minor": 0
      },
      "text/plain": [
       "HBox(children=(FloatProgress(value=0.0, description='Calculating Fields', style=ProgressStyle(description_widt…"
      ]
     },
     "metadata": {},
     "output_type": "display_data"
    },
    {
     "name": "stdout",
     "output_type": "stream",
     "text": [
      "\n"
     ]
    },
    {
     "data": {
      "application/vnd.jupyter.widget-view+json": {
       "model_id": "0cbf13eaf15a4ccca1e031bda59120e6",
       "version_major": 2,
       "version_minor": 0
      },
      "text/plain": [
       "HBox(children=(FloatProgress(value=0.0, description='Finding heights', style=ProgressStyle(description_width='…"
      ]
     },
     "metadata": {},
     "output_type": "display_data"
    },
    {
     "name": "stdout",
     "output_type": "stream",
     "text": [
      "\n",
      "45\n"
     ]
    },
    {
     "data": {
      "application/vnd.jupyter.widget-view+json": {
       "model_id": "9178926ca93949f7b30b9bd9162cf0b5",
       "version_major": 2,
       "version_minor": 0
      },
      "text/plain": [
       "HBox(children=(FloatProgress(value=0.0, description='Calculating Fields', style=ProgressStyle(description_widt…"
      ]
     },
     "metadata": {},
     "output_type": "display_data"
    },
    {
     "name": "stdout",
     "output_type": "stream",
     "text": [
      "\n"
     ]
    },
    {
     "data": {
      "application/vnd.jupyter.widget-view+json": {
       "model_id": "246280efc37948b1a38d16eb48b25436",
       "version_major": 2,
       "version_minor": 0
      },
      "text/plain": [
       "HBox(children=(FloatProgress(value=0.0, description='Finding heights', style=ProgressStyle(description_width='…"
      ]
     },
     "metadata": {},
     "output_type": "display_data"
    },
    {
     "name": "stdout",
     "output_type": "stream",
     "text": [
      "\n",
      "46\n"
     ]
    },
    {
     "data": {
      "application/vnd.jupyter.widget-view+json": {
       "model_id": "cd9fd00c13fa41a6b1ff9f08a7a0bf5d",
       "version_major": 2,
       "version_minor": 0
      },
      "text/plain": [
       "HBox(children=(FloatProgress(value=0.0, description='Calculating Fields', style=ProgressStyle(description_widt…"
      ]
     },
     "metadata": {},
     "output_type": "display_data"
    },
    {
     "name": "stdout",
     "output_type": "stream",
     "text": [
      "\n"
     ]
    },
    {
     "data": {
      "application/vnd.jupyter.widget-view+json": {
       "model_id": "37170a60ec5f4a4f8815ad870cf81316",
       "version_major": 2,
       "version_minor": 0
      },
      "text/plain": [
       "HBox(children=(FloatProgress(value=0.0, description='Finding heights', style=ProgressStyle(description_width='…"
      ]
     },
     "metadata": {},
     "output_type": "display_data"
    },
    {
     "name": "stdout",
     "output_type": "stream",
     "text": [
      "\n",
      "47\n"
     ]
    },
    {
     "data": {
      "application/vnd.jupyter.widget-view+json": {
       "model_id": "c7f9c4c38c874b80a040717332736887",
       "version_major": 2,
       "version_minor": 0
      },
      "text/plain": [
       "HBox(children=(FloatProgress(value=0.0, description='Calculating Fields', style=ProgressStyle(description_widt…"
      ]
     },
     "metadata": {},
     "output_type": "display_data"
    },
    {
     "name": "stdout",
     "output_type": "stream",
     "text": [
      "\n"
     ]
    },
    {
     "data": {
      "application/vnd.jupyter.widget-view+json": {
       "model_id": "588dc309b98e4be588b9f3241d3b9fe9",
       "version_major": 2,
       "version_minor": 0
      },
      "text/plain": [
       "HBox(children=(FloatProgress(value=0.0, description='Finding heights', style=ProgressStyle(description_width='…"
      ]
     },
     "metadata": {},
     "output_type": "display_data"
    },
    {
     "name": "stdout",
     "output_type": "stream",
     "text": [
      "\n",
      "48\n"
     ]
    },
    {
     "data": {
      "application/vnd.jupyter.widget-view+json": {
       "model_id": "a7b23c596a844c36ab2cae67ac0b96c1",
       "version_major": 2,
       "version_minor": 0
      },
      "text/plain": [
       "HBox(children=(FloatProgress(value=0.0, description='Calculating Fields', style=ProgressStyle(description_widt…"
      ]
     },
     "metadata": {},
     "output_type": "display_data"
    },
    {
     "name": "stdout",
     "output_type": "stream",
     "text": [
      "\n"
     ]
    },
    {
     "data": {
      "application/vnd.jupyter.widget-view+json": {
       "model_id": "1846438355744d2aa424fbde88326266",
       "version_major": 2,
       "version_minor": 0
      },
      "text/plain": [
       "HBox(children=(FloatProgress(value=0.0, description='Finding heights', style=ProgressStyle(description_width='…"
      ]
     },
     "metadata": {},
     "output_type": "display_data"
    },
    {
     "name": "stdout",
     "output_type": "stream",
     "text": [
      "\n",
      "49\n"
     ]
    },
    {
     "data": {
      "application/vnd.jupyter.widget-view+json": {
       "model_id": "c870d036cdbe48d394e8fbf9df679c46",
       "version_major": 2,
       "version_minor": 0
      },
      "text/plain": [
       "HBox(children=(FloatProgress(value=0.0, description='Calculating Fields', style=ProgressStyle(description_widt…"
      ]
     },
     "metadata": {},
     "output_type": "display_data"
    },
    {
     "name": "stdout",
     "output_type": "stream",
     "text": [
      "\n"
     ]
    },
    {
     "data": {
      "application/vnd.jupyter.widget-view+json": {
       "model_id": "ed345702b54647ca97f9f8b250930fd4",
       "version_major": 2,
       "version_minor": 0
      },
      "text/plain": [
       "HBox(children=(FloatProgress(value=0.0, description='Finding heights', style=ProgressStyle(description_width='…"
      ]
     },
     "metadata": {},
     "output_type": "display_data"
    },
    {
     "name": "stdout",
     "output_type": "stream",
     "text": [
      "\n"
     ]
    }
   ],
   "source": [
    "compare_cgws(data, data_dir, cs)"
   ]
  },
  {
   "cell_type": "code",
   "execution_count": 11,
   "metadata": {},
   "outputs": [],
   "source": [
    "pixels_to_mm = 200/ims[0].shape[0]"
   ]
  },
  {
   "cell_type": "code",
   "execution_count": 22,
   "metadata": {},
   "outputs": [
    {
     "name": "stdout",
     "output_type": "stream",
     "text": [
      "Using matplotlib backend: Qt5Agg\n"
     ]
    }
   ],
   "source": [
    "%matplotlib auto\n",
    "load_and_compare_cgw(data_dir, subtract_mean=True, cs=['1.1', '2.22', '4.5', '7.91'], mmin=3)"
   ]
  },
  {
   "cell_type": "code",
   "execution_count": 18,
   "metadata": {},
   "outputs": [
    {
     "name": "stdout",
     "output_type": "stream",
     "text": [
      "Using matplotlib backend: Qt5Agg\n"
     ]
    },
    {
     "data": {
      "text/plain": [
       "<matplotlib.legend.Legend at 0x7f437c65b410>"
      ]
     },
     "execution_count": 18,
     "metadata": {},
     "output_type": "execute_result"
    }
   ],
   "source": [
    "%matplotlib auto\n",
    "gradient_against_cgw(data_dir, subtract_average=True, mmin=2)\n",
    "gradient_against_cgw(data_dir, subtract_average=False, mmin=2)\n",
    "plt.legend(['From Average', 'From Flat'])"
   ]
  },
  {
   "cell_type": "code",
   "execution_count": 23,
   "metadata": {},
   "outputs": [],
   "source": [
    "plt.close('all')"
   ]
  },
  {
   "cell_type": "code",
   "execution_count": 65,
   "metadata": {},
   "outputs": [],
   "source": [
    "plt.rcParams.update({'figure.max_open_warning': 0})"
   ]
  },
  {
   "cell_type": "code",
   "execution_count": 76,
   "metadata": {},
   "outputs": [],
   "source": [
    "plot_mean_boundary(data_dir)"
   ]
  },
  {
   "cell_type": "code",
   "execution_count": 180,
   "metadata": {},
   "outputs": [],
   "source": [
    "def four_plots(data_dir, subtract_mean=False, cs=None, mmin=1): \n",
    "    \n",
    "    # Fields\n",
    "    fig, ax = plt.subplots(2, 2)\n",
    "    for i, c in enumerate(cs):\n",
    "        fields = np.load(f\"{data_dir}/{c}_fields.npy\")\n",
    "        cgw_mm = np.load(f\"{data_dir}/{c}_cgw_mm.npy\")\n",
    "        ax[i//2, i%2].imshow(fields[0, :, :])\n",
    "        ax[i//2, i%2].set_title(f\"cgw = {cgw_mm:.2f} mm\")\n",
    "        \n",
    "    # ThresholdedFields\n",
    "    fig, ax = plt.subplots(2, 2)\n",
    "    for i, c in enumerate(cs):\n",
    "        fields = np.load(f\"{data_dir}/{c}_fields.npy\")\n",
    "        cgw_mm = np.load(f\"{data_dir}/{c}_cgw_mm.npy\")\n",
    "        field_threshold = np.load(f\"{data_dir}/{c}_field_threshold.npy\")\n",
    "        ax[i//2, i%2].imshow(fields[0, :, :] < field_threshold)\n",
    "        ax[i//2, i%2].set_title(f\"cgw = {cgw_mm:.2f} mm\")\n",
    "        \n",
    "    \n",
    "    # Contours \n",
    "    fig, ax = plt.subplots(2, 2)\n",
    "    for i, c in enumerate(cs):\n",
    "        fields = np.load(f\"{data_dir}/{c}_fields.npy\")\n",
    "        cgw_mm = np.load(f\"{data_dir}/{c}_cgw_mm.npy\")\n",
    "        contours = np.load(f\"{data_dir}/{c}_contours.npy\", allow_pickle=True)\n",
    "        heights_mm = np.load(f\"{data_dir}/{c}_heights_mm.npy\")\n",
    "        boundaries_mm = np.load(f\"{data_dir}/{c}_boundaries_mm.npy\")\n",
    "        \n",
    "        ax[i//2, i%2].imshow(ims[0])\n",
    "        ax[i//2, i%2].plot(contours[0][:, :, 0], contours[0][:, :, 1])\n",
    "        ax[i//2, i%2].plot(boundaries_mm[0, :, 0]/pixels_to_mm, boundaries_mm[0, :, 1]/pixels_to_mm)\n",
    "        ax[i//2, i%2].set_title(f\"cgw = {cgw_mm:.2f} mm\")\n",
    "        \n",
    "\n",
    "    # Plots\n",
    "    fig, ax = plt.subplots(2, 2)\n",
    "    for i, c in enumerate(cs):\n",
    "        cgw_mm = np.load(f\"{data_dir}/{c}_cgw_mm.npy\")\n",
    "        heights_mm = np.load(f\"{data_dir}/{c}_heights_mm.npy\")\n",
    "        boundaries_mm = np.load(f\"{data_dir}/{c}_boundaries_mm.npy\")\n",
    "        dL_mm = boundaries_mm[0, 1, 1] - boundaries_mm[0, 0, 1]\n",
    "        L_mm = dL_mm * boundaries_mm.shape[1]\n",
    "        plot_fft(heights_mm, dL_mm, cgw_mm, cgw_mm, L_mm, ax=ax[i//2, i%2], mmin=mmin)\n",
    "        \n",
    "        \n",
    "#     for i, c in enumerate(cs):\n",
    "#         fig, ax = plt.subplots(2, 2)\n",
    "#         fields = np.load(f\"{data_dir}/{c}_fields.npy\")\n",
    "#         field_threshold = np.load(f\"{data_dir}/{c}_field_threshold.npy\")\n",
    "#         contours = np.load(f\"{data_dir}/{c}_contours.npy\", allow_pickle=True)\n",
    "#         heights_mm = np.load(f\"{data_dir}/{c}_heights_mm.npy\")\n",
    "#         boundaries_mm = np.load(f\"{data_dir}/{c}_boundaries_mm.npy\")\n",
    "#         cgw_mm = np.load(f\"{data_dir}/{c}_cgw_mm.npy\")\n",
    "        \n",
    "        \n",
    "#         if subtract_mean:\n",
    "#             heights_mean = np.mean(heights_mm, axis=0)\n",
    "#             heights_mm = heights_mm - heights_mean\n",
    "        \n",
    "#         ax[0, 0].imshow(fields[0, :, :])\n",
    "#         ax[0, 0].set_title(f\"cgw = {cgw_mm} mm\")\n",
    "#         ax[0, 1].imshow(fields[0, :, :]<field_threshold)\n",
    "#         ax[1, 0].imshow(ims[0])\n",
    "#         ax[1, 0].plot(contours[0][:, :, 0], contours[0][:, :, 1])\n",
    "#         ax[1, 0].plot(boundaries_mm[0, :, 0]/pixels_to_mm, boundaries_mm[0, :, 1]/pixels_to_mm)\n",
    "#         dL_mm = boundaries_mm[0, 1, 1] - boundaries_mm[0, 0, 1]\n",
    "#         L_mm = dL_mm * boundaries_mm.shape[1]\n",
    "#         plot_fft(heights_mm, dL_mm, cgw_mm, cgw_mm, L_mm, ax=ax[1, 1], mmin=mmin)\n",
    "    "
   ]
  },
  {
   "cell_type": "code",
   "execution_count": 185,
   "metadata": {},
   "outputs": [],
   "source": [
    "four_plots(data_dir, True, ['1.1', '2.22', '4.5', '7.91'], 2)"
   ]
  },
  {
   "cell_type": "code",
   "execution_count": 177,
   "metadata": {},
   "outputs": [],
   "source": [
    "plt.close('all')"
   ]
  },
  {
   "cell_type": "code",
   "execution_count": 60,
   "metadata": {},
   "outputs": [],
   "source": [
    "def new_plot_fft(heights, L, mmin=1, mmax=100, cgw=None):\n",
    "    m = np.arange(mmin, mmax+1, 1)\n",
    "    k = 2*pi*m / L\n",
    "    \n",
    "    R_k_squared_i = [np.abs(np.fft.rfft(h)**2) for h in heights]\n",
    "    R_k_squared = np.mean(R_k_squared_i, axis=0)\n",
    "    R_k_squared_std = np.std(R_k_squared_i, ddof=1, axis=0)\n",
    "    \n",
    "    x = np.log10(k)\n",
    "    y = np.log10(R_k_squared[mmin:mmax+1]*L)\n",
    "    dy = (0.434 * R_k_squared_std / R_k_squared)[mmin:mmax+1]\n",
    "    \n",
    "    fit, fit_err = np.polyfit(x, y, 1, w=1/(dy*dy), cov=True)\n",
    "    fit_err = np.sqrt(np.diag(fit_err))\n",
    "    \n",
    "    fig, ax = plt.subplots()\n",
    "    ax.errorbar(x, y, dy)\n",
    "    ax.plot(x, x*fit[0]+fit[1])\n",
    "    ax.axvline(np.log10(2*pi/cgw))\n",
    "    \n",
    "    return fit[0], fit_err[0]\n",
    "    \n",
    "    "
   ]
  },
  {
   "cell_type": "code",
   "execution_count": 64,
   "metadata": {},
   "outputs": [
    {
     "name": "stdout",
     "output_type": "stream",
     "text": [
      "5.333986900930211\n",
      "mmax = 33\n"
     ]
    },
    {
     "data": {
      "image/png": "[encoded data removed]",
      "text/plain": [
       "<Figure size 432x288 with 1 Axes>"
      ]
     },
     "metadata": {
      "needs_background": "light"
     },
     "output_type": "display_data"
    },
    {
     "data": {
      "image/png": "[encoded data removed]",
      "text/plain": [
       "<Figure size 432x288 with 1 Axes>"
      ]
     },
     "metadata": {
      "needs_background": "light"
     },
     "output_type": "display_data"
    },
    {
     "data": {
      "image/png": "[encoded data removed]",
      "text/plain": [
       "<Figure size 432x288 with 1 Axes>"
      ]
     },
     "metadata": {
      "needs_background": "light"
     },
     "output_type": "display_data"
    },
    {
     "data": {
      "image/png": "[encoded data removed]",
      "text/plain": [
       "<Figure size 432x288 with 1 Axes>"
      ]
     },
     "metadata": {
      "needs_background": "light"
     },
     "output_type": "display_data"
    },
    {
     "data": {
      "image/png": "[encoded data removed]",
      "text/plain": [
       "<Figure size 432x288 with 1 Axes>"
      ]
     },
     "metadata": {
      "needs_background": "light"
     },
     "output_type": "display_data"
    },
    {
     "data": {
      "image/png": "[encoded data removed]",
      "text/plain": [
       "<Figure size 432x288 with 1 Axes>"
      ]
     },
     "metadata": {
      "needs_background": "light"
     },
     "output_type": "display_data"
    },
    {
     "data": {
      "image/png": "[encoded data removed]",
      "text/plain": [
       "<Figure size 432x288 with 1 Axes>"
      ]
     },
     "metadata": {
      "needs_background": "light"
     },
     "output_type": "display_data"
    },
    {
     "data": {
      "image/png": "[encoded data removed]",
      "text/plain": [
       "<Figure size 432x288 with 1 Axes>"
      ]
     },
     "metadata": {
      "needs_background": "light"
     },
     "output_type": "display_data"
    },
    {
     "data": {
      "image/png": "[encoded data removed]",
      "text/plain": [
       "<Figure size 432x288 with 1 Axes>"
      ]
     },
     "metadata": {
      "needs_background": "light"
     },
     "output_type": "display_data"
    },
    {
     "data": {
      "image/png": "[encoded data removed]",
      "text/plain": [
       "<Figure size 432x288 with 1 Axes>"
      ]
     },
     "metadata": {
      "needs_background": "light"
     },
     "output_type": "display_data"
    },
    {
     "data": {
      "image/png": "[encoded data removed]",
      "text/plain": [
       "<Figure size 432x288 with 1 Axes>"
      ]
     },
     "metadata": {
      "needs_background": "light"
     },
     "output_type": "display_data"
    },
    {
     "data": {
      "image/png": "[encoded data removed]",
      "text/plain": [
       "<Figure size 432x288 with 1 Axes>"
      ]
     },
     "metadata": {
      "needs_background": "light"
     },
     "output_type": "display_data"
    },
    {
     "data": {
      "image/png": "[encoded data removed]",
      "text/plain": [
       "<Figure size 432x288 with 1 Axes>"
      ]
     },
     "metadata": {
      "needs_background": "light"
     },
     "output_type": "display_data"
    },
    {
     "data": {
      "image/png": "[encoded data removed]",
      "text/plain": [
       "<Figure size 432x288 with 1 Axes>"
      ]
     },
     "metadata": {
      "needs_background": "light"
     },
     "output_type": "display_data"
    },
    {
     "data": {
      "image/png": "[encoded data removed]",
      "text/plain": [
       "<Figure size 432x288 with 1 Axes>"
      ]
     },
     "metadata": {
      "needs_background": "light"
     },
     "output_type": "display_data"
    },
    {
     "data": {
      "image/png": "[encoded data removed]",
      "text/plain": [
       "<Figure size 432x288 with 1 Axes>"
      ]
     },
     "metadata": {
      "needs_background": "light"
     },
     "output_type": "display_data"
    },
    {
     "data": {
      "image/png": "[encoded data removed]",
      "text/plain": [
       "<Figure size 432x288 with 1 Axes>"
      ]
     },
     "metadata": {
      "needs_background": "light"
     },
     "output_type": "display_data"
    },
    {
     "data": {
      "image/png": "[encoded data removed]",
      "text/plain": [
       "<Figure size 432x288 with 1 Axes>"
      ]
     },
     "metadata": {
      "needs_background": "light"
     },
     "output_type": "display_data"
    },
    {
     "data": {
      "image/png": "[encoded data removed]",
      "text/plain": [
       "<Figure size 432x288 with 1 Axes>"
      ]
     },
     "metadata": {
      "needs_background": "light"
     },
     "output_type": "display_data"
    }
   ],
   "source": [
    "def compare_mmins(data_dir, c='2.95'):\n",
    "    fields = np.load(f\"{data_dir}/{c}_fields.npy\")\n",
    "    field_threshold = np.load(f\"{data_dir}/{c}_field_threshold.npy\")\n",
    "    contours = np.load(f\"{data_dir}/{c}_contours.npy\", allow_pickle=True)\n",
    "    heights_mm = np.load(f\"{data_dir}/{c}_heights_mm.npy\")\n",
    "    boundaries_mm = np.load(f\"{data_dir}/{c}_boundaries_mm.npy\")\n",
    "    cgw_mm = np.load(f\"{data_dir}/{c}_cgw_mm.npy\")\n",
    "    print(cgw_mm)\n",
    "    dL_mm = boundaries_mm[0, 1, 1] - boundaries_mm[0, 0, 1]\n",
    "    L_mm = dL_mm * boundaries_mm.shape[1]\n",
    "    mmins = np.arange(1, 20)\n",
    "    mmax = int(L_mm / cgw_mm)\n",
    "    print(f\"mmax = {mmax}\")\n",
    "    fit, fit_err = zip(*[new_plot_fft(heights_mm, L_mm, mmin=m, mmax=mmax, cgw=cgw_mm) for m in mmins])\n",
    "    return mmins, fits, fit_err\n",
    "mmins, fits, fit_errs = compare_mmins(data_dir)"
   ]
  },
  {
   "cell_type": "markdown",
   "metadata": {},
   "source": [
    "## Gradient changes with changing lower bound"
   ]
  },
  {
   "cell_type": "code",
   "execution_count": 67,
   "metadata": {},
   "outputs": [
    {
     "data": {
      "text/plain": [
       "<ErrorbarContainer object of 3 artists>"
      ]
     },
     "execution_count": 67,
     "metadata": {},
     "output_type": "execute_result"
    },
    {
     "data": {
      "image/png": "[encoded data removed]",
      "text/plain": [
       "<Figure size 432x288 with 1 Axes>"
      ]
     },
     "metadata": {
      "needs_background": "light"
     },
     "output_type": "display_data"
    }
   ],
   "source": [
    "%matplotlib inline\n",
    "plt.title('The difference in gradient for different lower bounds of the fit')\n",
    "plt.xlabel('Lower bound m')\n",
    "plt.ylabel('Fit')\n",
    "plt.errorbar(mmins, fits, fit_errs)"
   ]
  },
  {
   "cell_type": "code",
   "execution_count": null,
   "metadata": {},
   "outputs": [],
   "source": []
  }
 ],
 "metadata": {
  "kernelspec": {
   "display_name": "Python 3",
   "language": "python",
   "name": "python3"
  },
  "language_info": {
   "codemirror_mode": {
    "name": "ipython",
    "version": 3
   },
   "file_extension": ".py",
   "mimetype": "text/x-python",
   "name": "python",
   "nbconvert_exporter": "python",
   "pygments_lexer": "ipython3",
   "version": "3.7.6"
  },
  "varInspector": {
   "cols": {
    "lenName": 16,
    "lenType": 16,
    "lenVar": 40
   },
   "kernels_config": {
    "python": {
     "delete_cmd_postfix": "",
     "delete_cmd_prefix": "del ",
     "library": "var_list.py",
     "varRefreshCmd": "print(var_dic_list())"
    },
    "r": {
     "delete_cmd_postfix": ") ",
     "delete_cmd_prefix": "rm(",
     "library": "var_list.r",
     "varRefreshCmd": "cat(var_dic_list()) "
    }
   },
   "types_to_exclude": [
    "module",
    "function",
    "builtin_function_or_method",
    "instance",
    "_Feature"
   ],
   "window_display": false
  }
 },
 "nbformat": 4,
 "nbformat_minor": 4
}