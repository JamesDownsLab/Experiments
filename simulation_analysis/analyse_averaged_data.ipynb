{
 "cells": [
  {
   "cell_type": "code",
   "execution_count": 1,
   "metadata": {
    "collapsed": true
   },
   "outputs": [],
   "source": [
    "import pandas as pd\n",
    "import matplotlib.pyplot as plt"
   ]
  },
  {
   "cell_type": "code",
   "execution_count": 2,
   "outputs": [],
   "source": [
    "data_mean = pd.read_csv(\"/media/NAS/share/James/SimulationDataSep22/87_3,5e-4_savedata.mean\")\n",
    "data_median = pd.read_csv(\"/media/NAS/share/James/SimulationDataSep22/87_3,5e-4_savedata.median\")"
   ],
   "metadata": {
    "collapsed": false
   }
  },
  {
   "cell_type": "code",
   "execution_count": 3,
   "outputs": [
    {
     "data": {
      "text/plain": "    frame     v_hoz  v_hoz_10000_Hz  v_hoz_2000_Hz  v_hoz_1000_Hz  \\\n0  300010  0.070423             NaN            NaN            NaN   \n1  300020  0.070578        1.890879            NaN            NaN   \n2  300030  0.070771        3.602764            NaN            NaN   \n3  300040  0.070952        4.567603            NaN            NaN   \n4  300050  0.071140        4.458873            NaN            NaN   \n\n   v_hoz_200_Hz  v_hoz_100_Hz  v_hoz_20_Hz  v_hoz_10_Hz  \n0           NaN           NaN          NaN          NaN  \n1           NaN           NaN          NaN          NaN  \n2           NaN           NaN          NaN          NaN  \n3           NaN           NaN          NaN          NaN  \n4           NaN           NaN          NaN          NaN  ",
      "text/html": "<div>\n<style scoped>\n    .dataframe tbody tr th:only-of-type {\n        vertical-align: middle;\n    }\n\n    .dataframe tbody tr th {\n        vertical-align: top;\n    }\n\n    .dataframe thead th {\n        text-align: right;\n    }\n</style>\n<table border=\"1\" class=\"dataframe\">\n  <thead>\n    <tr style=\"text-align: right;\">\n      <th></th>\n      <th>frame</th>\n      <th>v_hoz</th>\n      <th>v_hoz_10000_Hz</th>\n      <th>v_hoz_2000_Hz</th>\n      <th>v_hoz_1000_Hz</th>\n      <th>v_hoz_200_Hz</th>\n      <th>v_hoz_100_Hz</th>\n      <th>v_hoz_20_Hz</th>\n      <th>v_hoz_10_Hz</th>\n    </tr>\n  </thead>\n  <tbody>\n    <tr>\n      <th>0</th>\n      <td>300010</td>\n      <td>0.070423</td>\n      <td>NaN</td>\n      <td>NaN</td>\n      <td>NaN</td>\n      <td>NaN</td>\n      <td>NaN</td>\n      <td>NaN</td>\n      <td>NaN</td>\n    </tr>\n    <tr>\n      <th>1</th>\n      <td>300020</td>\n      <td>0.070578</td>\n      <td>1.890879</td>\n      <td>NaN</td>\n      <td>NaN</td>\n      <td>NaN</td>\n      <td>NaN</td>\n      <td>NaN</td>\n      <td>NaN</td>\n    </tr>\n    <tr>\n      <th>2</th>\n      <td>300030</td>\n      <td>0.070771</td>\n      <td>3.602764</td>\n      <td>NaN</td>\n      <td>NaN</td>\n      <td>NaN</td>\n      <td>NaN</td>\n      <td>NaN</td>\n      <td>NaN</td>\n    </tr>\n    <tr>\n      <th>3</th>\n      <td>300040</td>\n      <td>0.070952</td>\n      <td>4.567603</td>\n      <td>NaN</td>\n      <td>NaN</td>\n      <td>NaN</td>\n      <td>NaN</td>\n      <td>NaN</td>\n      <td>NaN</td>\n    </tr>\n    <tr>\n      <th>4</th>\n      <td>300050</td>\n      <td>0.071140</td>\n      <td>4.458873</td>\n      <td>NaN</td>\n      <td>NaN</td>\n      <td>NaN</td>\n      <td>NaN</td>\n      <td>NaN</td>\n      <td>NaN</td>\n    </tr>\n  </tbody>\n</table>\n</div>"
     },
     "execution_count": 3,
     "metadata": {},
     "output_type": "execute_result"
    }
   ],
   "source": [
    "data_mean.head()"
   ],
   "metadata": {
    "collapsed": false
   }
  },
  {
   "cell_type": "code",
   "execution_count": 9,
   "outputs": [
    {
     "data": {
      "text/plain": "frame             350005.000000\nv_hoz                  0.061837\nv_hoz_10000_Hz         0.061934\nv_hoz_2000_Hz          0.061948\nv_hoz_1000_Hz          0.061924\nv_hoz_200_Hz           0.061331\nv_hoz_100_Hz           0.060400\nv_hoz_20_Hz            0.053806\nv_hoz_10_Hz            0.049356\ndtype: float64"
     },
     "execution_count": 9,
     "metadata": {},
     "output_type": "execute_result"
    }
   ],
   "source": [
    "data_median.mean()"
   ],
   "metadata": {
    "collapsed": false
   }
  },
  {
   "cell_type": "code",
   "execution_count": 10,
   "outputs": [
    {
     "data": {
      "text/plain": "frame             350005.000000\nv_hoz                  0.069144\nv_hoz_10000_Hz         2.439363\nv_hoz_2000_Hz          0.987216\nv_hoz_1000_Hz          0.782159\nv_hoz_200_Hz           0.512289\nv_hoz_100_Hz           0.420966\nv_hoz_20_Hz            0.216460\nv_hoz_10_Hz            0.161639\ndtype: float64"
     },
     "execution_count": 10,
     "metadata": {},
     "output_type": "execute_result"
    }
   ],
   "source": [
    "data_mean.mean()"
   ],
   "metadata": {
    "collapsed": false
   }
  },
  {
   "cell_type": "code",
   "execution_count": null,
   "outputs": [],
   "source": [],
   "metadata": {
    "collapsed": false
   }
  }
 ],
 "metadata": {
  "kernelspec": {
   "display_name": "Python 3",
   "language": "python",
   "name": "python3"
  },
  "language_info": {
   "codemirror_mode": {
    "name": "ipython",
    "version": 2
   },
   "file_extension": ".py",
   "mimetype": "text/x-python",
   "name": "python",
   "nbconvert_exporter": "python",
   "pygments_lexer": "ipython2",
   "version": "2.7.6"
  }
 },
 "nbformat": 4,
 "nbformat_minor": 0
}
