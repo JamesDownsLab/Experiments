{
 "cells": [
  {
   "cell_type": "code",
   "execution_count": 1,
   "metadata": {
    "pycharm": {
     "name": "#%%\n"
    }
   },
   "outputs": [],
   "source": [
    "from matplotlib.animation import FuncAnimation\n",
    "import matplotlib\n",
    "import matplotlib.pyplot as plt\n",
    "import numpy as np\n",
    "from tqdm import tqdm as tqdm\n",
    "import pandas as pd"
   ]
  },
  {
   "cell_type": "code",
   "execution_count": 2,
   "metadata": {
    "pycharm": {
     "name": "#%%\n"
    }
   },
   "outputs": [],
   "source": [
    "%matplotlib qt"
   ]
  },
  {
   "cell_type": "code",
   "execution_count": 3,
   "metadata": {
    "pycharm": {
     "name": "#%%\n"
    }
   },
   "outputs": [],
   "source": [
    "save_direc = \"/media/data/Data/FirstOrder/Susceptibility/Dataset2Figures/animation_data\""
   ]
  },
  {
   "cell_type": "code",
   "execution_count": 4,
   "metadata": {
    "pycharm": {
     "name": "#%%\n"
    }
   },
   "outputs": [],
   "source": [
    "import filehandling\n",
    "from particletracking import dataframes"
   ]
  },
  {
   "cell_type": "code",
   "execution_count": 5,
   "metadata": {
    "pycharm": {
     "name": "#%%\n"
    }
   },
   "outputs": [],
   "source": [
    "flat_files = filehandling.get_directory_filenames(\"/media/data/Data/FirstOrder/Susceptibility/Flat2/*.hdf5\")"
   ]
  },
  {
   "cell_type": "code",
   "execution_count": 6,
   "metadata": {
    "pycharm": {
     "name": "#%%\n"
    }
   },
   "outputs": [],
   "source": [
    "dimpled_files = filehandling.get_directory_filenames(\"/media/data/Data/FirstOrder/Susceptibility/Dimpled2/*.hdf5\")"
   ]
  },
  {
   "cell_type": "code",
   "execution_count": 7,
   "metadata": {
    "pycharm": {
     "name": "#%%\n"
    }
   },
   "outputs": [],
   "source": [
    "def get_data_attributes(file, param):\n",
    "    data = dataframes.DataStore(file)\n",
    "    fmax = data.df.index.max()\n",
    "    duty = []\n",
    "    x = []\n",
    "    y = []\n",
    "    u = []\n",
    "    v = []\n",
    "    for f in range(0, int(fmax), fmax//10):\n",
    "            points = data.df.loc[f]\n",
    "            duty.append(int(points.Duty.mean()))\n",
    "            x.append(points.x.values)\n",
    "            y.append(points.y.values)\n",
    "            if type(param) is str:\n",
    "                u.append(points[param].values.real)\n",
    "                v.append(points[param].values.imag)\n",
    "            elif type(param) is tuple:\n",
    "                u.append(points[param[0]].values)\n",
    "                v.append(points[param[1]].values)\n",
    "    return duty, x, y, u, v\n",
    "\n",
    "def generate_plot_data(files, param):\n",
    "    duty = []\n",
    "    x = []\n",
    "    y = []\n",
    "    u = []\n",
    "    v = []\n",
    "    for file in tqdm(files):\n",
    "        duty_i, x_i, y_i, u_i, v_i = get_data_attributes(file, param)\n",
    "        duty += duty_i\n",
    "        x += x_i\n",
    "        y += y_i\n",
    "        u += u_i\n",
    "        v += v_i\n",
    "    return pd.DataFrame({'duty': duty, 'x': x, 'y': y, 'u': u, 'v': v})"
   ]
  },
  {
   "cell_type": "code",
   "execution_count": 107,
   "metadata": {
    "pycharm": {
     "name": "#%%\n"
    }
   },
   "outputs": [
    {
     "name": "stderr",
     "output_type": "stream",
     "text": [
      "100%|██████████| 100/100 [03:24<00:00,  2.04s/it]\n"
     ]
    }
   ],
   "source": [
    "dimpled_torder = generate_plot_data(dimpled_files, 'torder')"
   ]
  },
  {
   "cell_type": "code",
   "execution_count": 110,
   "metadata": {
    "pycharm": {
     "name": "#%%\n"
    }
   },
   "outputs": [
    {
     "name": "stderr",
     "output_type": "stream",
     "text": [
      "/home/ppxjd3/miniconda3/envs/ExperimentsNew/lib/python3.7/site-packages/pandas/core/generic.py:2449: PerformanceWarning: \n",
      "your performance may suffer as PyTables will pickle object types that it cannot\n",
      "map directly to c-types [inferred_type->mixed,key->block1_values] [items->Index(['x', 'y', 'u', 'v'], dtype='object')]\n",
      "\n",
      "  encoding=encoding,\n"
     ]
    }
   ],
   "source": [
    "# dimpled_torder = pd.DataFrame({'duty': dimpled_duty, 'x': dimpled_x, 'y': dimpled_y, 'u': dimpled_u, 'v': dimpled_v})\n",
    "dimpled_torder.to_hdf(f\"{save_direc}/dimpled_torder.hdf5\", 'df')\n"
   ]
  },
  {
   "cell_type": "code",
   "execution_count": 28,
   "metadata": {
    "scrolled": true,
    "pycharm": {
     "name": "#%%\n"
    }
   },
   "outputs": [],
   "source": [
    "dimpled_torder = pd.read_hdf(f\"{save_direc}/dimpled_torder.hdf5\", 'df')"
   ]
  },
  {
   "cell_type": "code",
   "execution_count": 116,
   "metadata": {
    "pycharm": {
     "name": "#%%\n"
    }
   },
   "outputs": [
    {
     "name": "stderr",
     "output_type": "stream",
     "text": [
      "100%|██████████| 100/100 [03:15<00:00,  1.96s/it]\n"
     ]
    }
   ],
   "source": [
    "flat_torder = generate_plot_data(flat_files, 'torder')"
   ]
  },
  {
   "cell_type": "code",
   "execution_count": 118,
   "metadata": {
    "pycharm": {
     "name": "#%%\n"
    }
   },
   "outputs": [
    {
     "name": "stderr",
     "output_type": "stream",
     "text": [
      "/home/ppxjd3/miniconda3/envs/ExperimentsNew/lib/python3.7/site-packages/pandas/core/generic.py:2449: PerformanceWarning: \n",
      "your performance may suffer as PyTables will pickle object types that it cannot\n",
      "map directly to c-types [inferred_type->mixed,key->block1_values] [items->Index(['x', 'y', 'u', 'v'], dtype='object')]\n",
      "\n",
      "  encoding=encoding,\n"
     ]
    }
   ],
   "source": [
    "# flat_torder = pd.DataFrame({'duty': flat_duty, 'x': flat_x, 'y': flat_y, 'u': flat_u, 'v': flat_v})\n",
    "flat_torder.to_hdf(f\"{save_direc}/flat_torder.hdf5\", 'df')"
   ]
  },
  {
   "cell_type": "code",
   "execution_count": 12,
   "metadata": {
    "pycharm": {
     "name": "#%%\n"
    }
   },
   "outputs": [],
   "source": [
    "def update_plot(data):\n",
    "    data = data[1]\n",
    "    for artist in ax.collections:\n",
    "        artist.remove()\n",
    "    ax.quiver(data.x, data.y, data.u, data.v, color=cmap(norm(np.angle(data.u+1j*data.v))), pivot='mid')\n",
    "    ax.set_title(data.duty)"
   ]
  },
  {
   "cell_type": "code",
   "execution_count": 13,
   "metadata": {
    "pycharm": {
     "name": "#%%\n"
    }
   },
   "outputs": [],
   "source": [
    "def create_animation_window():\n",
    "    fig, (ax, cax) = plt.subplots(1, 2, gridspec_kw={'width_ratios': [50,1]})\n",
    "    ax.set_aspect('equal')\n",
    "    ax.xaxis.set_visible(False)\n",
    "    ax.yaxis.set_visible(False)\n",
    "    cmap = matplotlib.cm.hsv\n",
    "    norm = matplotlib.colors.Normalize(vmin=-np.pi, vmax=np.pi)\n",
    "    cbar = matplotlib.colorbar.ColorbarBase(cax, cmap=cmap, norm=norm, orientation='vertical')\n",
    "    return fig, ax, cmap, norm"
   ]
  },
  {
   "cell_type": "code",
   "execution_count": 116,
   "metadata": {
    "pycharm": {
     "name": "#%%\n"
    }
   },
   "outputs": [],
   "source": [
    "data = dimpled_torder\n",
    "fig, ax, cmap, norm = create_animation_window()\n",
    "ani = FuncAnimation(fig, update_plot, frames=data.iterrows())\n",
    "# ani.save(\"/media/data/Data/FirstOrder/Susceptibility/Dataset2Figures/dimpled_torder_animation.mp4\")"
   ]
  },
  {
   "cell_type": "code",
   "execution_count": 119,
   "metadata": {
    "pycharm": {
     "name": "#%%\n"
    }
   },
   "outputs": [],
   "source": [
    "data = flat_torder\n",
    "fig, ax, cmap, norm = create_animation_window()\n",
    "ani = FuncAnimation(fig, update_plot, frames=data.iterrows())\n",
    "# ani.save(\"/media/data/Data/FirstOrder/Susceptibility/Dataset2Figures/flat_torder_animation.mp4\")"
   ]
  },
  {
   "cell_type": "code",
   "execution_count": 9,
   "metadata": {
    "pycharm": {
     "name": "#%%\n"
    }
   },
   "outputs": [
    {
     "name": "stderr",
     "output_type": "stream",
     "text": [
      "100%|██████████| 100/100 [03:13<00:00,  1.93s/it]\n"
     ]
    }
   ],
   "source": [
    "dimpled_horder = generate_plot_data(dimpled_files, ('order_r_long', 'order_i_long'))"
   ]
  },
  {
   "cell_type": "code",
   "execution_count": 10,
   "metadata": {
    "pycharm": {
     "name": "#%%\n"
    }
   },
   "outputs": [
    {
     "name": "stderr",
     "output_type": "stream",
     "text": [
      "/home/ppxjd3/miniconda3/envs/ExperimentsNew/lib/python3.7/site-packages/pandas/core/generic.py:2449: PerformanceWarning: \n",
      "your performance may suffer as PyTables will pickle object types that it cannot\n",
      "map directly to c-types [inferred_type->mixed,key->block1_values] [items->Index(['x', 'y', 'u', 'v'], dtype='object')]\n",
      "\n",
      "  encoding=encoding,\n"
     ]
    }
   ],
   "source": [
    "dimpled_horder.to_hdf(f\"{save_direc}/dimpled_horder.hdf5\", 'df')"
   ]
  },
  {
   "cell_type": "code",
   "execution_count": 8,
   "metadata": {
    "pycharm": {
     "name": "#%%\n"
    }
   },
   "outputs": [
    {
     "name": "stderr",
     "output_type": "stream",
     "text": [
      "100%|██████████| 100/100 [03:14<00:00,  1.94s/it]\n",
      "/home/ppxjd3/miniconda3/envs/ExperimentsNew/lib/python3.7/site-packages/pandas/core/generic.py:2449: PerformanceWarning: \n",
      "your performance may suffer as PyTables will pickle object types that it cannot\n",
      "map directly to c-types [inferred_type->mixed,key->block1_values] [items->Index(['x', 'y', 'u', 'v'], dtype='object')]\n",
      "\n",
      "  encoding=encoding,\n"
     ]
    }
   ],
   "source": [
    "flat_horder = generate_plot_data(flat_files, ('order_r_long', 'order_i_long'))\n",
    "flat_horder.to_hdf(f\"{save_direc}/flat_horder.hdf5\", 'df')"
   ]
  },
  {
   "cell_type": "code",
   "execution_count": 5,
   "metadata": {
    "pycharm": {
     "name": "#%%\n"
    }
   },
   "outputs": [],
   "source": [
    "dimpled_horder = pd.read_hdf(f\"{save_direc}/dimpled_horder.hdf5\", 'df')\n",
    "dimpled_torder = pd.read_hdf(f\"{save_direc}/dimpled_torder.hdf5\", 'df')\n",
    "\n",
    "flat_horder = pd.read_hdf(f\"{save_direc}/flat_horder.hdf5\", 'df')\n",
    "flat_torder = pd.read_hdf(f\"{save_direc}/flat_torder.hdf5\", 'df')\n"
   ]
  },
  {
   "cell_type": "code",
   "execution_count": 11,
   "metadata": {
    "pycharm": {
     "name": "#%%\n"
    }
   },
   "outputs": [
    {
     "ename": "NameError",
     "evalue": "name 'create_animation_window' is not defined",
     "output_type": "error",
     "traceback": [
      "\u001B[0;31m---------------------------------------------------------------------------\u001B[0m",
      "\u001B[0;31mNameError\u001B[0m                                 Traceback (most recent call last)",
      "\u001B[0;32m<ipython-input-11-63b5012dee55>\u001B[0m in \u001B[0;36m<module>\u001B[0;34m\u001B[0m\n\u001B[0;32m----> 1\u001B[0;31m \u001B[0mfig\u001B[0m\u001B[0;34m,\u001B[0m \u001B[0max\u001B[0m\u001B[0;34m,\u001B[0m \u001B[0mcmap\u001B[0m\u001B[0;34m,\u001B[0m \u001B[0mnorm\u001B[0m \u001B[0;34m=\u001B[0m \u001B[0mcreate_animation_window\u001B[0m\u001B[0;34m(\u001B[0m\u001B[0;34m)\u001B[0m\u001B[0;34m\u001B[0m\u001B[0;34m\u001B[0m\u001B[0m\n\u001B[0m\u001B[1;32m      2\u001B[0m \u001B[0mani\u001B[0m \u001B[0;34m=\u001B[0m \u001B[0mFuncAnimation\u001B[0m\u001B[0;34m(\u001B[0m\u001B[0mfig\u001B[0m\u001B[0;34m,\u001B[0m \u001B[0mupdate_plot\u001B[0m\u001B[0;34m,\u001B[0m \u001B[0mframes\u001B[0m\u001B[0;34m=\u001B[0m\u001B[0mdimpled_horder\u001B[0m\u001B[0;34m.\u001B[0m\u001B[0miterrows\u001B[0m\u001B[0;34m(\u001B[0m\u001B[0;34m)\u001B[0m\u001B[0;34m)\u001B[0m\u001B[0;34m\u001B[0m\u001B[0;34m\u001B[0m\u001B[0m\n",
      "\u001B[0;31mNameError\u001B[0m: name 'create_animation_window' is not defined"
     ]
    }
   ],
   "source": [
    "fig, ax, cmap, norm = create_animation_window()\n",
    "ani = FuncAnimation(fig, update_plot, frames=dimpled_horder.iterrows())"
   ]
  },
  {
   "cell_type": "code",
   "execution_count": 11,
   "metadata": {
    "pycharm": {
     "name": "#%%\n"
    }
   },
   "outputs": [
    {
     "ename": "NameError",
     "evalue": "name 'ani' is not defined",
     "output_type": "error",
     "traceback": [
      "\u001B[0;31m---------------------------------------------------------------------------\u001B[0m",
      "\u001B[0;31mNameError\u001B[0m                                 Traceback (most recent call last)",
      "\u001B[0;32m<ipython-input-11-98d9c1b8afb9>\u001B[0m in \u001B[0;36m<module>\u001B[0;34m\u001B[0m\n\u001B[0;32m----> 1\u001B[0;31m \u001B[0mani\u001B[0m\u001B[0;34m.\u001B[0m\u001B[0msave\u001B[0m\u001B[0;34m(\u001B[0m\u001B[0;34m\"/media/data/Data/FirstOrder/Susceptibility/Dataset2Figures/dimpled_horder_animation.mp4\"\u001B[0m\u001B[0;34m)\u001B[0m\u001B[0;34m\u001B[0m\u001B[0;34m\u001B[0m\u001B[0m\n\u001B[0m",
      "\u001B[0;31mNameError\u001B[0m: name 'ani' is not defined"
     ]
    }
   ],
   "source": [
    "ani.save(\"/media/data/Data/FirstOrder/Susceptibility/Dataset2Figures/dimpled_horder_animation.mp4\")"
   ]
  },
  {
   "cell_type": "code",
   "execution_count": 10,
   "metadata": {
    "pycharm": {
     "name": "#%%\n"
    }
   },
   "outputs": [
    {
     "name": "stderr",
     "output_type": "stream",
     "text": [
      "100%|██████████| 100/100 [03:14<00:00,  1.95s/it]\n"
     ]
    }
   ],
   "source": [
    "flat_horder = generate_plot_data(flat_files, ('order_r_long', 'order_i_long'))\n",
    "flat_horder.to_csv(f\"{save_direc}/flat_horder.csv\")"
   ]
  },
  {
   "cell_type": "code",
   "execution_count": 20,
   "metadata": {
    "pycharm": {
     "name": "#%%\n"
    }
   },
   "outputs": [],
   "source": [
    "%%capture\n",
    "fig, ax, cmap, norm = create_animation_window()\n",
    "ani = FuncAnimation(fig, update_plot, frames=flat_horder.iterrows())"
   ]
  },
  {
   "cell_type": "code",
   "execution_count": 19,
   "metadata": {
    "pycharm": {
     "name": "#%%\n"
    }
   },
   "outputs": [],
   "source": [
    "ani.save(\"/media/data/Data/FirstOrder/Susceptibility/Dataset2Figures/flat_horder_animation.mp4\")"
   ]
  },
  {
   "cell_type": "markdown",
   "metadata": {
    "pycharm": {
     "name": "#%% md\n"
    }
   },
   "source": [
    "### Place both rotational and translational order on one plot"
   ]
  },
  {
   "cell_type": "code",
   "execution_count": 6,
   "metadata": {
    "pycharm": {
     "name": "#%%\n"
    }
   },
   "outputs": [],
   "source": [
    "g = 9.81\n",
    "v2a = 42.46\n",
    "def d2a(d):\n",
    "    \"\"\"Converts duty cycle to acceleration ms^-2\"\"\"\n",
    "    a = v2a * 0.003 * d - v2a * 1.5\n",
    "    return a\n",
    "\n",
    "def d2G(d):\n",
    "    \"\"\"Converts duty cycle to dimensionless acceleration\"\"\"\n",
    "    return d2a(d) / g"
   ]
  },
  {
   "cell_type": "code",
   "execution_count": 57,
   "metadata": {
    "pycharm": {
     "name": "#%%\n"
    }
   },
   "outputs": [],
   "source": [
    "flat_duty_sus = np.loadtxt(\"/media/data/Data/FirstOrder/Susceptibility/Dataset2Figures/flat_sus_duty.txt\")\n",
    "flat_horder_sus = np.loadtxt(\"/media/data/Data/FirstOrder/Susceptibility/Dataset2Figures/flat_sus_horder.txt\")\n",
    "flat_torder_sus = np.loadtxt(\"/media/data/Data/FirstOrder/Susceptibility/Dataset2Figures/flat_sus_torder.txt\")\n",
    "flat_duty_sus = np.arange(flat_duty_sus.max(), flat_duty_sus.min()-1, -1)\n",
    "flat_horder.duty = np.repeat(flat_duty_sus, 11)\n",
    "flat_torder.duty = np.repeat(flat_duty_sus, 11)\n",
    "flat_duty_sus = d2G(flat_duty_sus)"
   ]
  },
  {
   "cell_type": "code",
   "execution_count": 9,
   "metadata": {
    "pycharm": {
     "name": "#%%\n"
    }
   },
   "outputs": [],
   "source": [
    "import matplotlib.ticker as tck"
   ]
  },
  {
   "cell_type": "code",
   "execution_count": 44,
   "metadata": {
    "pycharm": {
     "name": "#%%\n"
    }
   },
   "outputs": [],
   "source": [
    "def create_quad_window(d, h, t):\n",
    "    fig = plt.figure(constrained_layout=False, dpi=600)\n",
    "    gs = fig.add_gridspec(ncols=3, nrows=2, width_ratios=(48, 48, 4), height_ratios=(70, 30))\n",
    "    ax1 = fig.add_subplot(gs[0, 0])\n",
    "    ax2 = fig.add_subplot(gs[0, 1])\n",
    "    cax = fig.add_subplot(gs[0, 2])\n",
    "    ax3 = fig.add_subplot(gs[1, 0])\n",
    "    ax4 = fig.add_subplot(gs[1, 1])\n",
    "    ax1.set_aspect('equal')\n",
    "    ax2.set_aspect('equal')\n",
    "    ax3.set_title(f'$\\Gamma={d2G(680):.2f}$')\n",
    "    ax1.xaxis.set_visible(False)\n",
    "    ax1.yaxis.set_visible(False)\n",
    "    ax1.set_title('$\\psi_T$')\n",
    "    ax2.set_title('$\\psi_6$')\n",
    "    ax2.xaxis.set_visible(False)\n",
    "    ax2.yaxis.set_visible(False)\n",
    "#     ax3.yaxis.set_visible(False)\n",
    "#     ax4.yaxis.set_visible(False)\n",
    "    ax3.plot(d, t, 'c-')\n",
    "    ax3.set_xlabel('$\\Gamma$')\n",
    "    ax3.set_ylabel('$\\chi_T$', c='c')\n",
    "    ax3.set_yticks([])\n",
    "    ax4.set_yticks([])\n",
    "    ax4.set_xlabel('$\\Gamma$')\n",
    "    ax4.set_ylabel('$\\chi_6$', c='m')\n",
    "    ax4.plot(d, h, 'm-')\n",
    "    ax3line = ax3.axvline(d2G(680), c='g', linestyle='--')\n",
    "    ax4line = ax4.axvline(d2G(680), c='g', linestyle='--')  \n",
    "    cmap = matplotlib.cm.hsv\n",
    "    norm = matplotlib.colors.Normalize(vmin=-np.pi, vmax=np.pi)\n",
    "    cbar = matplotlib.colorbar.ColorbarBase(cax, cmap=cmap, norm=norm, orientation='vertical', ticks=[-np.pi, 0, np.pi])\n",
    "    cbar.ax.set_yticklabels(['$-\\pi$', '0', '$\\pi$'])\n",
    "    fig.subplots_adjust(left=0, bottom=0.1, right=0.95, top=0.95, wspace=0, hspace=0)\n",
    "    fig.tight_layout()\n",
    "    return fig, ax1, ax2, ax3, ax3line, ax4line, cmap, norm\n",
    "    "
   ]
  },
  {
   "cell_type": "code",
   "execution_count": 11,
   "metadata": {
    "pycharm": {
     "name": "#%%\n"
    }
   },
   "outputs": [],
   "source": [
    "def update_quad_window(data):\n",
    "    rot, tra = data\n",
    "    for artist in ax1.collections:\n",
    "        artist.remove()\n",
    "    for artist in ax2.collections:\n",
    "        artist.remove()\n",
    "    ax1.quiver(tra.x, tra.y, tra.u, tra.v, color=cmap(norm(np.angle(tra.u+1j*tra.v))), pivot='mid')\n",
    "    ax2.quiver(rot.x, rot.y, rot.u, rot.v, color=cmap(norm(np.angle(rot.u+1j*rot.v))), pivot='mid')\n",
    "    \n",
    "    duty = rot.duty\n",
    "    ax3.set_title(f'$\\Gamma={d2G(duty):.2f}$')\n",
    "    ax3line.set_xdata(d2G(duty))\n",
    "    ax4line.set_xdata(d2G(duty))\n",
    "        "
   ]
  },
  {
   "cell_type": "code",
   "execution_count": 12,
   "metadata": {
    "pycharm": {
     "name": "#%%\n"
    }
   },
   "outputs": [],
   "source": [
    "def get_double_data_flat():\n",
    "    for l in range(len(flat_horder)):\n",
    "        yield (flat_horder.loc[l], flat_torder.loc[l])"
   ]
  },
  {
   "cell_type": "code",
   "execution_count": 13,
   "metadata": {
    "pycharm": {
     "name": "#%%\n"
    }
   },
   "outputs": [],
   "source": [
    "def get_double_data_dimple():\n",
    "    for l in range(len(dimpled_horder)):\n",
    "        yield (dimpled_horder.loc[l], dimpled_torder.loc[l])"
   ]
  },
  {
   "cell_type": "code",
   "execution_count": 26,
   "metadata": {
    "pycharm": {
     "name": "#%%\n"
    }
   },
   "outputs": [
    {
     "data": {
      "text/plain": [
       "[<matplotlib.lines.Line2D at 0x7f2e96af1b90>]"
      ]
     },
     "execution_count": 26,
     "metadata": {},
     "output_type": "execute_result"
    }
   ],
   "source": [
    "plt.plot(flat_duty_sus)"
   ]
  },
  {
   "cell_type": "code",
   "execution_count": 54,
   "metadata": {
    "pycharm": {
     "name": "#%%\n"
    }
   },
   "outputs": [],
   "source": [
    "flat_duty = np.repeat(flat_duty_sus, 11)"
   ]
  },
  {
   "cell_type": "code",
   "execution_count": 55,
   "metadata": {
    "pycharm": {
     "name": "#%%\n"
    }
   },
   "outputs": [
    {
     "data": {
      "text/plain": [
       "<AxesSubplot:>"
      ]
     },
     "execution_count": 55,
     "metadata": {},
     "output_type": "execute_result"
    }
   ],
   "source": [
    "plt.plot(flat_duty)\n",
    "flat_horder.duty.plot()"
   ]
  },
  {
   "cell_type": "code",
   "execution_count": 59,
   "metadata": {
    "pycharm": {
     "name": "#%%\n"
    }
   },
   "outputs": [],
   "source": [
    "fig, ax1, ax2, ax3, ax3line, ax4line, cmap, norm = create_quad_window(flat_duty_sus, flat_horder_sus, flat_torder_sus)\n",
    "ani = FuncAnimation(fig, update_quad_window, frames=get_double_data_flat, save_count=len(flat_horder))\n",
    "ani.save(f'{save_direc}/flat_animation.mp4', fps=30)"
   ]
  },
  {
   "cell_type": "code",
   "execution_count": 60,
   "metadata": {
    "pycharm": {
     "name": "#%%\n"
    }
   },
   "outputs": [],
   "source": [
    "d_duty_sus = np.loadtxt(\"/media/data/Data/FirstOrder/Susceptibility/Dataset2Figures/dimpled_sus_duty.txt\")\n",
    "d_horder_sus = np.loadtxt(\"/media/data/Data/FirstOrder/Susceptibility/Dataset2Figures/dimpled_sus_horder.txt\")\n",
    "d_torder_sus = np.loadtxt(\"/media/data/Data/FirstOrder/Susceptibility/Dataset2Figures/dimpled_sus_torder.txt\")\n",
    "d_duty_sus = np.arange(d_duty_sus.max(), d_duty_sus.min()-1, -1)\n",
    "dimpled_horder.duty = np.repeat(d_duty_sus, 11)\n",
    "dimpled_torder.duty = np.repeat(d_duty_sus, 11)\n",
    "d_duty_sus = d2G(d_duty_sus)"
   ]
  },
  {
   "cell_type": "code",
   "execution_count": 61,
   "metadata": {
    "pycharm": {
     "name": "#%%\n"
    }
   },
   "outputs": [],
   "source": [
    "fig, ax1, ax2, ax3, ax3line, ax4line, cmap, norm = create_quad_window(d_duty_sus, d_horder_sus, d_torder_sus)\n",
    "\n",
    "ani = FuncAnimation(fig, update_quad_window, frames=get_double_data_dimple, save_count=len(dimpled_horder))\n",
    "ani.save(f'{save_direc}/dimpled_animation.mp4', fps=30)"
   ]
  },
  {
   "cell_type": "code",
   "execution_count": null,
   "metadata": {
    "pycharm": {
     "name": "#%%\n"
    }
   },
   "outputs": [],
   "source": []
  }
 ],
 "metadata": {
  "kernelspec": {
   "display_name": "Python 3",
   "language": "python",
   "name": "python3"
  },
  "language_info": {
   "codemirror_mode": {
    "name": "ipython",
    "version": 3
   },
   "file_extension": ".py",
   "mimetype": "text/x-python",
   "name": "python",
   "nbconvert_exporter": "python",
   "pygments_lexer": "ipython3",
   "version": "3.7.9"
  }
 },
 "nbformat": 4,
 "nbformat_minor": 4
}