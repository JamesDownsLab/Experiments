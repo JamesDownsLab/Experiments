{
 "cells": [
  {
   "cell_type": "code",
   "execution_count": 1,
   "metadata": {
    "collapsed": true
   },
   "outputs": [
    {
     "name": "stdout",
     "output_type": "stream",
     "text": [
      "Using matplotlib backend: Qt5Agg\n"
     ]
    }
   ],
   "source": [
    "import pandas as pd\n",
    "import matplotlib.pyplot as plt\n",
    "import matplotlib\n",
    "from matplotlib.gridspec import GridSpec\n",
    "import numpy as np\n",
    "import filehandling\n",
    "from ball_bearing_duty import duty_to_dimensionless_acceleration\n",
    "import os\n",
    "%matplotlib auto"
   ]
  },
  {
   "cell_type": "code",
   "execution_count": 19,
   "outputs": [],
   "source": [
    "direc = \"/media/data/Data/BallBearing/HIPS/IslandExperiments/New_2,25mm_experiments/85%_15s\"\n",
    "files = filehandling.get_directory_filenames(f\"{direc}/*.hdf5\")"
   ],
   "metadata": {
    "collapsed": false
   }
  },
  {
   "cell_type": "code",
   "execution_count": 20,
   "outputs": [],
   "source": [
    "duties = []\n",
    "acc = []\n",
    "crystal_0 = []\n",
    "crystal_pi = []\n",
    "for file in files:\n",
    "    data = pd.read_hdf(file)\n",
    "    duty = int(file[-8:-5])\n",
    "    ordered = np.abs(data.hexatic_order)>0.8\n",
    "    angles = np.angle(data.hexatic_order.values[ordered])\n",
    "\n",
    "    duties.append(duty)\n",
    "    acc.append(duty_to_dimensionless_acceleration(duty))\n",
    "    count_0 = np.count_nonzero((-np.pi/3 < angles)&(angles < np.pi/3))\n",
    "    count_pi = np.count_nonzero((angles<-2*np.pi/3)|(angles>2*np.pi/3))\n",
    "    crystal_0.append(count_0/len(data)*100)\n",
    "    crystal_pi.append(count_pi/len(data)*100)\n",
    "crystal_0 = np.array(crystal_0)\n",
    "crystal_pi = np.array(crystal_pi)"
   ],
   "metadata": {
    "collapsed": false
   }
  },
  {
   "cell_type": "code",
   "execution_count": 21,
   "outputs": [],
   "source": [
    "plot_duty = False\n",
    "\n",
    "\n",
    "matplotlib.rcParams.update({'font.size': 22})\n",
    "fig = plt.figure(figsize=(13.5, 10))\n",
    "gridspec = GridSpec(2, 3, height_ratios=[1, 1])\n",
    "cmap = matplotlib.cm.hsv\n",
    "norm = matplotlib.colors.Normalize(vmin=-np.pi, vmax=np.pi)\n",
    "\n",
    "x = duties if plot_duty else acc\n",
    "\n",
    "ax_plot = fig.add_subplot(gridspec[0, :])\n",
    "ax_plot.plot(x, crystal_0, 'b', label='0')\n",
    "ax_plot.plot(x, crystal_pi, 'r', label='$\\pi$')\n",
    "# ax_plot.plot(x, crystal_0+crystal_pi, 'k', label='Total')\n",
    "ax_plot.set_xlabel('$\\Gamma$')\n",
    "ax_plot.set_ylabel('%')\n",
    "ax_plot.legend()\n",
    "# ax_plot.set_ylim([0, 30])\n",
    "\n",
    "duties_to_plot = 480, 486, 510\n",
    "# duties_to_plot = 450, 480, 495 # 5s\n",
    "# duties_to_plot = 470, 490, 500 # 30\n",
    "duties_to_plot = 480, 490, 510 # 300\n",
    "for i, duty in enumerate(duties_to_plot):\n",
    "    if plot_duty:\n",
    "        ax_plot.axvline(duty, ls='--')\n",
    "    else:\n",
    "        ax_plot.axvline(duty_to_dimensionless_acceleration(duty), ls='--')\n",
    "    ax = fig.add_subplot(gridspec[1, i])\n",
    "    ax.set_aspect('equal')\n",
    "    ax.xaxis.set_visible(False)\n",
    "    ax.yaxis.set_ticks([])\n",
    "    ax.yaxis.set_ticklabels([])\n",
    "    fname = f\"{direc}/{duty}.hdf5\"\n",
    "    data = pd.read_hdf(fname)\n",
    "    frame = data.loc[0].copy()\n",
    "    frame['angle_abs'] = np.abs(np.angle(frame.hexatic_order))\n",
    "    frame['hex_abs'] = np.abs(frame.hexatic_order)\n",
    "    disorderd = frame.loc[frame.hex_abs<0.8]\n",
    "    ax.scatter(disorderd.x, disorderd.y, c='k', s=1)\n",
    "\n",
    "    ordered_0 = frame.loc[(frame.hex_abs>0.8)*(frame.angle_abs<np.pi/3)]\n",
    "    plt.scatter(ordered_0.x, ordered_0.y, c='b', s=1)\n",
    "\n",
    "    ordered_pi = frame.loc[(frame.hex_abs>0.8)*(frame.angle_abs>2*np.pi/3)]\n",
    "    plt.scatter(ordered_pi.x, ordered_pi.y, c='r', s=1)\n",
    "\n",
    "plt.savefig(f\"{direc}/overview.png\", dpi=600)"
   ],
   "metadata": {
    "collapsed": false
   }
  },
  {
   "cell_type": "code",
   "execution_count": null,
   "outputs": [],
   "source": [],
   "metadata": {
    "collapsed": false
   }
  }
 ],
 "metadata": {
  "kernelspec": {
   "display_name": "Python 3",
   "language": "python",
   "name": "python3"
  },
  "language_info": {
   "codemirror_mode": {
    "name": "ipython",
    "version": 2
   },
   "file_extension": ".py",
   "mimetype": "text/x-python",
   "name": "python",
   "nbconvert_exporter": "python",
   "pygments_lexer": "ipython2",
   "version": "2.7.6"
  }
 },
 "nbformat": 4,
 "nbformat_minor": 0
}
