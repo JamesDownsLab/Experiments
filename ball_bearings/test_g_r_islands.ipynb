{
 "cells": [
  {
   "cell_type": "code",
   "execution_count": 38,
   "outputs": [
    {
     "name": "stdout",
     "output_type": "stream",
     "text": [
      "Using matplotlib backend: Qt5Agg\n"
     ]
    }
   ],
   "source": [
    "import freud.box\n",
    "import pandas as pd\n",
    "from freud import density, box\n",
    "import numpy as np\n",
    "import matplotlib.pyplot as plt\n",
    "from scipy import spatial\n",
    "from shapely.geometry import Polygon, Point, MultiPoint\n",
    "%matplotlib auto"
   ],
   "metadata": {
    "collapsed": false,
    "pycharm": {
     "name": "#%%\n"
    }
   }
  },
  {
   "cell_type": "code",
   "execution_count": 2,
   "outputs": [],
   "source": [
    "data = pd.read_hdf(\"/media/data/Data/BallBearing/HIPS/IslandExperiments/1,91mmRepeatsB/19400010.hdf5\")"
   ],
   "metadata": {
    "collapsed": false,
    "pycharm": {
     "name": "#%%\n"
    }
   }
  },
  {
   "cell_type": "code",
   "execution_count": 413,
   "outputs": [],
   "source": [
    "def corr(features, density, radius, r_min, r_max, dr):\n",
    "    N = features.x.count()\n",
    "    dists, orders, N = dists_and_orders(features, r_max * radius)\n",
    "    r_values = np.arange(r_min, r_max, dr) * radius\n",
    "\n",
    "    g, bins = np.histogram(dists, bins=r_values)\n",
    "    g6, bins = np.histogram(dists, bins=r_values, weights=orders)\n",
    "    bin_centres = bins[1:] - (bins[1] - bins[0]) / 2\n",
    "    divisor = 2 * np.pi * bin_centres * (bins[1] - bins[0]) * density * N\n",
    "\n",
    "    g = g / divisor\n",
    "    g6 = g6 / divisor\n",
    "    return bin_centres, g, g6\n",
    "\n",
    "def corr_custom_bins(features, bins, density, radius, r_min, r_max, dr):\n",
    "    N = features.x.count()\n",
    "    dists, orders, N = dists_and_orders(features, r_max*radius)\n",
    "    r_values = bins*radius\n",
    "\n",
    "    g, bins = np.histogram(dists, bins=r_values)\n",
    "    g6, bins = np.histogram(dists, bins=r_values, weights=orders)\n",
    "    bin_centers = (bins[1:] + bins[:-1]) / 2\n",
    "    divisor = 2 * np.pi * bin_centers * (bins[1:]-bins[:-1]) * density * N\n",
    "\n",
    "    return bin_centers, g/divisor, g6/divisor\n",
    "\n",
    "def dists_and_orders(f, t=1000):\n",
    "    idx = get_idx(f, t)\n",
    "    dists = get_dists(f, idx)\n",
    "    orders = get_orders(f, idx)\n",
    "    return dists.ravel(), orders.ravel(), np.sum(idx)\n",
    "\n",
    "\n",
    "def get_idx(f, t):\n",
    "    return f.edge_distance.values > t\n",
    "#     return f.x.values > 0\n",
    "\n",
    "\n",
    "def get_dists(f, idx):\n",
    "    x = f[['x', 'y']].values\n",
    "    return spatial.distance.cdist(x[idx, :], x)\n",
    "\n",
    "\n",
    "def get_orders(f, idx):\n",
    "    orders = make_complex(f)\n",
    "    order_grid = make_order_grid(orders, idx)\n",
    "    return np.abs(order_grid)\n",
    "\n",
    "\n",
    "def make_order_grid(orders, idx):\n",
    "    orders = orders.reshape(-1, 1)\n",
    "    return orders[idx] @ np.conj(orders).transpose()\n",
    "\n",
    "\n",
    "def make_complex(f):\n",
    "    return f['hexatic_order'].values\n",
    "\n",
    "\n",
    "def flat_array(x):\n",
    "    return np.concatenate([item.ravel() for item in x])\n",
    "\n",
    "def add_edge_distance(data):\n",
    "    points = data[['x', 'y']].values\n",
    "    hull = spatial.ConvexHull(points)\n",
    "    hull_points = points[hull.vertices, :]\n",
    "    polygon = Polygon(hull_points)\n",
    "    multi_point = MultiPoint(points)\n",
    "    dists = [polygon.exterior.distance(p) for p in multi_point.geoms]\n",
    "    data['edge_distance'] = dists\n",
    "    return data, hull.volume"
   ],
   "metadata": {
    "collapsed": false,
    "pycharm": {
     "name": "#%%\n"
    }
   }
  },
  {
   "cell_type": "code",
   "execution_count": 26,
   "outputs": [],
   "source": [
    "def get_gr(points):\n",
    "    points = points.T.copy()\n",
    "    points.resize((points.shape[0]+1, points.shape[1]))\n",
    "    # print(points)\n",
    "    rdf = freud.density.RDF(1000, 200)\n",
    "    box_ = box.Box(Lx=np.max(points[0, :]), Ly=np.max(points[1, :]))\n",
    "    rdf.compute(system=(box_, points.T))\n",
    "    gr, r = rdf.rdf, rdf.bin_centers\n",
    "    return gr, r"
   ],
   "metadata": {
    "collapsed": false,
    "pycharm": {
     "name": "#%%\n"
    }
   }
  },
  {
   "cell_type": "code",
   "execution_count": 270,
   "outputs": [],
   "source": [
    "def get_radius(points):\n",
    "    tree = spatial.KDTree(points)\n",
    "    dists, indices = tree.query(points, 4)\n",
    "    diameter = np.mean(dists[dists != 0])\n",
    "    return diameter/2\n"
   ],
   "metadata": {
    "collapsed": false,
    "pycharm": {
     "name": "#%%\n"
    }
   }
  },
  {
   "cell_type": "code",
   "execution_count": 274,
   "outputs": [],
   "source": [
    "def get_corr_from_data(fname, rmin, rmax, dr):\n",
    "    data = pd.read_hdf(fname)\n",
    "    frame = data.loc[0].copy()\n",
    "    radius = get_radius(frame[['x', 'y']].values)\n",
    "    frame['r'] = radius\n",
    "    frame, area = add_edge_distance(frame)\n",
    "    N = len(frame)\n",
    "    r, g, g6 = corr(frame, N/area, radius, rmin, rmax, dr)\n",
    "    return r, g, g6\n"
   ],
   "metadata": {
    "collapsed": false,
    "pycharm": {
     "name": "#%%\n"
    }
   }
  },
  {
   "cell_type": "code",
   "execution_count": 331,
   "outputs": [],
   "source": [
    "import filehandling"
   ],
   "metadata": {
    "collapsed": false,
    "pycharm": {
     "name": "#%%\n"
    }
   }
  },
  {
   "cell_type": "code",
   "execution_count": 336,
   "outputs": [],
   "source": [
    "def get_average_corr_from_data(direc_name, rmin, rmax, dr):\n",
    "    rs = []\n",
    "    gs = []\n",
    "    g6s = []\n",
    "    first = True\n",
    "    for file in filehandling.get_directory_filenames(f\"{direc_name}/*.hdf5\"):\n",
    "        data = pd.read_hdf(file)\n",
    "        frame = data.loc[0].copy()\n",
    "        if first:\n",
    "            radius = get_radius(frame[['x', 'y']].values)\n",
    "            first = False\n",
    "        frame['r'] = radius\n",
    "        frame, area = add_edge_distance(frame)\n",
    "        N = len(frame)\n",
    "        r, g, g6 = corr(frame, N/area, radius, rmin, rmax, dr)\n",
    "        rs.append(r)\n",
    "        gs.append(g)\n",
    "        g6s.append(g6)\n",
    "    return rs[0], np.mean(gs, axis=0), np.mean(g6s, axis=0)\n"
   ],
   "metadata": {
    "collapsed": false,
    "pycharm": {
     "name": "#%%\n"
    }
   }
  },
  {
   "cell_type": "code",
   "execution_count": 337,
   "outputs": [],
   "source": [
    "r_187_mean, g_1_87_mean, g6_1_87_mean = get_average_corr_from_data(\"/media/data/Data/BallBearing/HIPS/IslandExperiments/1,87mmRepeats\", 1, 32, 0.01)"
   ],
   "metadata": {
    "collapsed": false,
    "pycharm": {
     "name": "#%%\n"
    }
   }
  },
  {
   "cell_type": "code",
   "execution_count": 339,
   "outputs": [],
   "source": [
    "r_191_mean, g_1_91_mean, g6_1_91_mean = get_average_corr_from_data(\"/media/data/Data/BallBearing/HIPS/IslandExperiments/1,91mmRepeatsB\", 1, 32, 0.01)"
   ],
   "metadata": {
    "collapsed": false,
    "pycharm": {
     "name": "#%%\n"
    }
   }
  },
  {
   "cell_type": "code",
   "execution_count": 348,
   "outputs": [],
   "source": [
    "r_193_mean, g_1_93_mean, g6_1_93_mean = get_average_corr_from_data(\"/media/data/Data/BallBearing/HIPS/IslandExperiments/1,93mmRepeats\", 1, 32, 0.01)"
   ],
   "metadata": {
    "collapsed": false,
    "pycharm": {
     "name": "#%%\n"
    }
   }
  },
  {
   "cell_type": "code",
   "execution_count": 352,
   "outputs": [],
   "source": [
    "r_196_mean, g_1_96_mean, g6_1_96_mean = get_average_corr_from_data(\"/media/data/Data/BallBearing/HIPS/IslandExperiments/1,96mmRepeats\", 1, 32, 0.01)"
   ],
   "metadata": {
    "collapsed": false,
    "pycharm": {
     "name": "#%%\n"
    }
   }
  },
  {
   "cell_type": "code",
   "execution_count": 354,
   "outputs": [
    {
     "name": "stderr",
     "output_type": "stream",
     "text": [
      "<ipython-input-327-6fe53c191329>:11: RuntimeWarning: invalid value encountered in true_divide\n",
      "  plt.plot(r/diameter, g6/g, label=key)\n"
     ]
    }
   ],
   "source": [
    "plot_g6_over_g((r_196_mean, g_1_96_mean, g6_1_96_mean, '1.96mm'), (r_187_mean, g_1_87_mean, g6_1_87_mean, '1.87mm'))"
   ],
   "metadata": {
    "collapsed": false,
    "pycharm": {
     "name": "#%%\n"
    }
   }
  },
  {
   "cell_type": "code",
   "execution_count": 343,
   "outputs": [
    {
     "data": {
      "text/plain": "[<matplotlib.lines.Line2D at 0x7fd366e94b20>]"
     },
     "execution_count": 343,
     "metadata": {},
     "output_type": "execute_result"
    }
   ],
   "source": [
    "plt.plot(r_191_mean, g_1_91_mean)\n",
    "plt.plot(r_191_mean, g6_1_91_mean)"
   ],
   "metadata": {
    "collapsed": false,
    "pycharm": {
     "name": "#%%\n"
    }
   }
  },
  {
   "cell_type": "code",
   "execution_count": 288,
   "outputs": [],
   "source": [
    "def calculate_diameter_from_corr(r, g):\n",
    "    diameter = r[np.argmax(g)]\n",
    "    return diameter"
   ],
   "metadata": {
    "collapsed": false,
    "pycharm": {
     "name": "#%%\n"
    }
   }
  },
  {
   "cell_type": "code",
   "execution_count": 275,
   "outputs": [],
   "source": [
    "r_1_91, g_1_91, g6_1_91 = get_corr_from_data(\"/media/data/Data/BallBearing/HIPS/IslandExperiments/1,91mmRepeatsB/19400010.hdf5\", 1, 32, 0.01)"
   ],
   "metadata": {
    "collapsed": false,
    "pycharm": {
     "name": "#%%\n"
    }
   }
  },
  {
   "cell_type": "code",
   "execution_count": 285,
   "outputs": [
    {
     "data": {
      "text/plain": "[<matplotlib.lines.Line2D at 0x7fd37fe62490>]"
     },
     "execution_count": 285,
     "metadata": {},
     "output_type": "execute_result"
    }
   ],
   "source": [
    "plt.plot(r_1_91, g_1_91)"
   ],
   "metadata": {
    "collapsed": false,
    "pycharm": {
     "name": "#%%\n"
    }
   }
  },
  {
   "cell_type": "code",
   "execution_count": 279,
   "outputs": [],
   "source": [
    "r_1_96, g_1_96, g6_1_96 = get_corr_from_data(\"/media/data/Data/BallBearing/HIPS/IslandExperiments/1,96mmRepeats/19350013.hdf5\", 1, 32, 0.01)"
   ],
   "metadata": {
    "collapsed": false,
    "pycharm": {
     "name": "#%%\n"
    }
   }
  },
  {
   "cell_type": "code",
   "execution_count": 286,
   "outputs": [
    {
     "data": {
      "text/plain": "[<matplotlib.lines.Line2D at 0x7fd37fe62280>]"
     },
     "execution_count": 286,
     "metadata": {},
     "output_type": "execute_result"
    }
   ],
   "source": [
    "plt.plot(r_1_96, g_1_96)"
   ],
   "metadata": {
    "collapsed": false,
    "pycharm": {
     "name": "#%%\n"
    }
   }
  },
  {
   "cell_type": "code",
   "execution_count": 281,
   "outputs": [],
   "source": [
    "r_1_87, g_1_87, g6_1_87 = get_corr_from_data(\"/media/data/Data/BallBearing/HIPS/IslandExperiments/1,87mmRepeats/19370064.hdf5\", 1, 32, 0.01)"
   ],
   "metadata": {
    "collapsed": false,
    "pycharm": {
     "name": "#%%\n"
    }
   }
  },
  {
   "cell_type": "code",
   "execution_count": 287,
   "outputs": [
    {
     "data": {
      "text/plain": "[<matplotlib.lines.Line2D at 0x7fd3756c4a90>]"
     },
     "execution_count": 287,
     "metadata": {},
     "output_type": "execute_result"
    }
   ],
   "source": [
    "plt.plot(r_1_87, g_1_87)"
   ],
   "metadata": {
    "collapsed": false,
    "pycharm": {
     "name": "#%%\n"
    }
   }
  },
  {
   "cell_type": "markdown",
   "source": [
    "## Compare to fake grid"
   ],
   "metadata": {
    "collapsed": false,
    "pycharm": {
     "name": "#%% md\n"
    }
   }
  },
  {
   "cell_type": "code",
   "execution_count": 289,
   "outputs": [
    {
     "data": {
      "text/plain": "(20.000985439448915, 20.029782383555364)"
     },
     "execution_count": 289,
     "metadata": {},
     "output_type": "execute_result"
    }
   ],
   "source": [
    "diameter_1_87 = calculate_diameter_from_corr(r_1_87, g_1_87)\n",
    "diameter_1_91 = calculate_diameter_from_corr(r_1_91, g_1_91)\n",
    "diameter_1_91, diameter_1_87"
   ],
   "metadata": {
    "collapsed": false,
    "pycharm": {
     "name": "#%%\n"
    }
   }
  },
  {
   "cell_type": "code",
   "execution_count": 102,
   "outputs": [],
   "source": [
    "import trigrid"
   ],
   "metadata": {
    "collapsed": false,
    "pycharm": {
     "name": "#%%\n"
    }
   }
  },
  {
   "cell_type": "code",
   "execution_count": null,
   "outputs": [],
   "source": [],
   "metadata": {
    "collapsed": false,
    "pycharm": {
     "name": "#%%\n"
    }
   }
  },
  {
   "cell_type": "code",
   "execution_count": 290,
   "outputs": [],
   "source": [
    "def calculate_perfect_corr(diameter):\n",
    "    grid, area = make_grid(diameter, 40)\n",
    "    r, g, g6 = corr(grid, len(grid)/area, diameter/2, 1, 32, 0.01)\n",
    "    return r, g, g6\n",
    "\n",
    "def make_grid(diameter, N):\n",
    "    grid = trigrid.grid(diameter, N)\n",
    "    grid = pd.DataFrame({'x': grid[0, :], 'y': grid[1, :],\n",
    "                        'hexatic_order': 1+0j})\n",
    "    grid['r'] = diameter / 2\n",
    "    grid, area = add_edge_distance(grid)\n",
    "    return grid, area\n",
    "\n",
    "def calculate_corr(data, area, radius, nr_min=2, nr_max=16, dnr=0.01):\n",
    "    r, g, g6 = corr(data, len(data)/area, radius, nr_min, nr_max, dnr)\n",
    "    return r, g, g6"
   ],
   "metadata": {
    "collapsed": false,
    "pycharm": {
     "name": "#%%\n"
    }
   }
  },
  {
   "cell_type": "code",
   "execution_count": null,
   "outputs": [],
   "source": [
    "def make_grid_with_noise(diameter, N, sigma):\n",
    "    grid = trigrid.grid(diameter, N)\n",
    "    noise = np.random.normal(scale=sigma, size=grid.shape)\n",
    "    grid = grid + noise\n",
    "    grid = pd.DataFrame({'x': grid[0, :], 'y': grid[1, :],\n",
    "                        'hexatic_order': 1+0j})\n",
    "    grid['r'] = diameter / 2\n",
    "    grid, area = add_edge_distance(grid)\n",
    "    return grid, area\n",
    "\n",
    "def calculate_noisy_corr(diameter, noise):\n",
    "    grid, area = make_grid_with_noise(diameter, 40, noise)\n"
   ],
   "metadata": {
    "collapsed": false,
    "pycharm": {
     "name": "#%%\n"
    }
   }
  },
  {
   "cell_type": "code",
   "execution_count": 449,
   "outputs": [
    {
     "data": {
      "text/plain": "[<matplotlib.lines.Line2D at 0x7fd36eb62850>]"
     },
     "execution_count": 449,
     "metadata": {},
     "output_type": "execute_result"
    }
   ],
   "source": [
    "r_perfect, g_perfect, g6_perfect = calculate_perfect_corr(diameter_1_87)\n",
    "plt.plot(r_perfect/r_perfect[np.argmax(g_perfect)], g_perfect)"
   ],
   "metadata": {
    "collapsed": false,
    "pycharm": {
     "name": "#%%\n"
    }
   }
  },
  {
   "cell_type": "markdown",
   "source": [],
   "metadata": {
    "collapsed": false,
    "pycharm": {
     "name": "#%% md\n"
    }
   }
  },
  {
   "cell_type": "code",
   "execution_count": 305,
   "outputs": [],
   "source": [
    "def plot_cors(*sets, log=False):\n",
    "    fig, ax = plt.subplots()\n",
    "    for (r, g, key) in sets:\n",
    "        diameter = r[np.argmax(g)]\n",
    "        plt.plot(r/diameter, g/np.max(g), label=key)\n",
    "    if log:\n",
    "        ax.set_xscale('log')\n",
    "        ax.set_yscale('log')\n",
    "    plt.legend()\n",
    "    plt.xlabel('r/d')\n",
    "    plt.ylabel('g(r) scaled')"
   ],
   "metadata": {
    "collapsed": false,
    "pycharm": {
     "name": "#%%\n"
    }
   }
  },
  {
   "cell_type": "code",
   "execution_count": 327,
   "outputs": [],
   "source": [
    "def plot_g6_over_g(*sets, log=False):\n",
    "    fig, ax = plt.subplots()\n",
    "    for (r, g, g6, key) in sets:\n",
    "        diameter = r[np.argmax(g)]\n",
    "\n",
    "        if key == 'grid':\n",
    "            g6_over_g = g6/g\n",
    "            for x in r[g6_over_g > 0]:\n",
    "                plt.axvline(x/diameter, c='r', ls='--', alpha=0.5)\n",
    "        else:\n",
    "            plt.plot(r/diameter, g6/g, label=key)\n",
    "    if log:\n",
    "        ax.set_xscale('log')\n",
    "        ax.set_yscale('log')\n",
    "    plt.legend()\n",
    "    plt.xlabel('r/d')\n",
    "    plt.ylabel('$g_6/g$')"
   ],
   "metadata": {
    "collapsed": false,
    "pycharm": {
     "name": "#%%\n"
    }
   }
  },
  {
   "cell_type": "code",
   "execution_count": 315,
   "outputs": [
    {
     "name": "stderr",
     "output_type": "stream",
     "text": [
      "<ipython-input-315-696cb5975cd7>:1: RuntimeWarning: invalid value encountered in true_divide\n",
      "  plot_cors((r_perfect, g6_perfect/g_perfect, 'grid'), (r_1_87, g6_1_87/g_1_87, '1.87mm'), (r_1_91, g6_1_91/g_1_91, '1.91mm'))\n"
     ]
    }
   ],
   "source": [
    "plot_cors((r_perfect, g6_perfect/g_perfect, 'grid'), (r_1_87, g6_1_87/g_1_87, '1.87mm'), (r_1_91, g6_1_91/g_1_91, '1.91mm'))"
   ],
   "metadata": {
    "collapsed": false,
    "pycharm": {
     "name": "#%%\n"
    }
   }
  },
  {
   "cell_type": "code",
   "execution_count": 330,
   "outputs": [
    {
     "name": "stderr",
     "output_type": "stream",
     "text": [
      "<ipython-input-327-6fe53c191329>:7: RuntimeWarning: invalid value encountered in true_divide\n",
      "  g6_over_g = g6/g\n",
      "<ipython-input-327-6fe53c191329>:11: RuntimeWarning: invalid value encountered in true_divide\n",
      "  plt.plot(r/diameter, g6/g, label=key)\n"
     ]
    }
   ],
   "source": [
    "plot_g6_over_g((r_perfect, g_perfect, g6_perfect, 'grid'), (r_1_96, g_1_96, g6_1_96, '1.96mm'))"
   ],
   "metadata": {
    "collapsed": false,
    "pycharm": {
     "name": "#%%\n"
    }
   }
  },
  {
   "cell_type": "code",
   "execution_count": 294,
   "outputs": [
    {
     "data": {
      "text/plain": "[<matplotlib.lines.Line2D at 0x7fd36eac7550>]"
     },
     "execution_count": 294,
     "metadata": {},
     "output_type": "execute_result"
    }
   ],
   "source": [
    "plt.plot(r_perfect, g_perfect/np.max(g_perfect))\n",
    "plt.plot(r_1_87, g_1_87/np.max(g_1_87))"
   ],
   "metadata": {
    "collapsed": false,
    "pycharm": {
     "name": "#%%\n"
    }
   }
  },
  {
   "cell_type": "markdown",
   "source": [
    "## Check the integer values of d"
   ],
   "metadata": {
    "collapsed": false,
    "pycharm": {
     "name": "#%% md\n"
    }
   }
  },
  {
   "cell_type": "code",
   "execution_count": 411,
   "outputs": [],
   "source": [
    "def plot_integer_values(*sets):\n",
    "    for (r, g, g6, label) in sets:\n",
    "        diameter = r[np.argmax(g)]\n",
    "        r_over_d = r / diameter\n",
    "        ri = [np.argmin(np.abs(r_over_d - i)) for i in range(1, 17)]\n",
    "        # plt.plot(r_over_d[ri], g[ri], label=label)\n",
    "        plt.loglog(r_over_d, g/np.max(g), '--', label=label)\n",
    "        plt.loglog(r_over_d, 1/r_over_d)\n",
    "    plt.xlabel('r/d')\n",
    "    plt.ylabel('$g_6/g$')\n",
    "    plt.legend()"
   ],
   "metadata": {
    "collapsed": false,
    "pycharm": {
     "name": "#%%\n"
    }
   }
  },
  {
   "cell_type": "code",
   "execution_count": 412,
   "outputs": [],
   "source": [
    "plot_integer_values(\n",
    "    (r_187_mean, g_1_87_mean, g6_1_87_mean, '1.87mm'),\n",
    "    (r_191_mean, g_1_91_mean, g6_1_91_mean, '1.91mm'),\n",
    "    (r_193_mean, g_1_93_mean, g6_1_93_mean, '1.93mm'),\n",
    "    (r_196_mean, g_1_96_mean, g6_1_96_mean, '1.96mm')\n",
    ")"
   ],
   "metadata": {
    "collapsed": false,
    "pycharm": {
     "name": "#%%\n"
    }
   }
  },
  {
   "cell_type": "markdown",
   "source": [],
   "metadata": {
    "collapsed": false,
    "pycharm": {
     "name": "#%% md\n"
    }
   }
  },
  {
   "cell_type": "code",
   "execution_count": 402,
   "outputs": [
    {
     "data": {
      "text/plain": "[<matplotlib.lines.Line2D at 0x7fd36ebcdfa0>]"
     },
     "execution_count": 402,
     "metadata": {},
     "output_type": "execute_result"
    }
   ],
   "source": [
    "plt.plot(r_perfect/r_perfect[np.argmax(g_perfect)], g_perfect/np.max(g_perfect))"
   ],
   "metadata": {
    "collapsed": false,
    "pycharm": {
     "name": "#%%\n"
    }
   }
  },
  {
   "cell_type": "code",
   "execution_count": 470,
   "outputs": [
    {
     "data": {
      "text/plain": "[<matplotlib.lines.Line2D at 0x7fd3565e7430>]"
     },
     "execution_count": 470,
     "metadata": {},
     "output_type": "execute_result"
    }
   ],
   "source": [
    "r_int_perf = [1, 2, 3, 4, 5, 6, 7, 8, 9]\n",
    "g_int_perf = [1, 0.468, 0.33, 0.24, 0.20, 0.18, 0.158, 0.136, 0.12]\n",
    "plt.loglog(r_int_perf, g_int_perf)"
   ],
   "metadata": {
    "collapsed": false,
    "pycharm": {
     "name": "#%%\n"
    }
   }
  },
  {
   "cell_type": "code",
   "execution_count": 404,
   "outputs": [
    {
     "data": {
      "text/plain": "[<matplotlib.lines.Line2D at 0x7fd36ead27f0>]"
     },
     "execution_count": 404,
     "metadata": {},
     "output_type": "execute_result"
    }
   ],
   "source": [
    "plt.plot(np.log(r_int_perf), np.log(g_int_perf))"
   ],
   "metadata": {
    "collapsed": false,
    "pycharm": {
     "name": "#%%\n"
    }
   }
  },
  {
   "cell_type": "code",
   "execution_count": 416,
   "outputs": [
    {
     "data": {
      "text/plain": "[<matplotlib.lines.Line2D at 0x7fd36ee193a0>]"
     },
     "execution_count": 416,
     "metadata": {},
     "output_type": "execute_result"
    }
   ],
   "source": [
    "plt.plot(r_perfect[g_perfect>0], g_perfect[g_perfect>0])"
   ],
   "metadata": {
    "collapsed": false,
    "pycharm": {
     "name": "#%%\n"
    }
   }
  },
  {
   "cell_type": "code",
   "execution_count": 450,
   "outputs": [
    {
     "data": {
      "text/plain": "((86,), (87,))"
     },
     "execution_count": 450,
     "metadata": {},
     "output_type": "execute_result"
    }
   ],
   "source": [
    "perfect_bin_centers = r_perfect[g_perfect>0]\n",
    "bin_edges = (perfect_bin_centers[:-1] + perfect_bin_centers[1:])/2\n",
    "bin_edges = np.array([2*perfect_bin_centers[0] - bin_edges[0]] + bin_edges.tolist() + [2*perfect_bin_centers[-1]-bin_edges[-1]])\n",
    "perfect_bin_centers.shape, bin_edges.shape"
   ],
   "metadata": {
    "collapsed": false,
    "pycharm": {
     "name": "#%%\n"
    }
   }
  },
  {
   "cell_type": "code",
   "execution_count": 430,
   "outputs": [],
   "source": [
    "def get_average_corr_from_data_bins(direc_name, rmin, rmax, dr, bins):\n",
    "    rs = []\n",
    "    gs = []\n",
    "    g6s = []\n",
    "    first = True\n",
    "    for file in filehandling.get_directory_filenames(f\"{direc_name}/*.hdf5\"):\n",
    "        data = pd.read_hdf(file)\n",
    "        frame = data.loc[0].copy()\n",
    "        if first:\n",
    "            radius = get_radius(frame[['x', 'y']].values)\n",
    "            first = False\n",
    "        frame['r'] = radius\n",
    "        frame, area = add_edge_distance(frame)\n",
    "        N = len(frame)\n",
    "        r, g, g6 = corr_custom_bins(frame, bins, N/area, radius, rmin, rmax, dr)\n",
    "        rs.append(r)\n",
    "        gs.append(g)\n",
    "        g6s.append(g6)\n",
    "    return rs[0], np.mean(gs, axis=0), np.mean(g6s, axis=0)"
   ],
   "metadata": {
    "collapsed": false,
    "pycharm": {
     "name": "#%%\n"
    }
   }
  },
  {
   "cell_type": "code",
   "execution_count": 475,
   "outputs": [],
   "source": [
    "r_perfect, g_perfect, g6_perfect = calculate_perfect_corr(diameter_1_87)\n",
    "perfect_bin_centers = r_perfect[g_perfect>0]\n",
    "bin_edges = (perfect_bin_centers[:-1] + perfect_bin_centers[1:])/2\n",
    "bin_edges = np.array([2*perfect_bin_centers[0] - bin_edges[0]] + bin_edges.tolist() + [2*perfect_bin_centers[-1]-bin_edges[-1]])\n",
    "r, g, g6 = get_average_corr_from_data_bins(\"/media/data/Data/BallBearing/HIPS/IslandExperiments/1,87mmRepeats\", 1, 16, 0.01, bin_edges/bin_edges[1])"
   ],
   "metadata": {
    "collapsed": false,
    "pycharm": {
     "name": "#%%\n"
    }
   }
  },
  {
   "cell_type": "code",
   "execution_count": 474,
   "outputs": [
    {
     "data": {
      "text/plain": "[<matplotlib.lines.Line2D at 0x7fd3556ee760>]"
     },
     "execution_count": 474,
     "metadata": {},
     "output_type": "execute_result"
    }
   ],
   "source": [
    "x = r/r[np.argmax(g)]\n",
    "plt.loglog(x, g/np.max(g))\n",
    "plt.loglog(x, 1/x)"
   ],
   "metadata": {
    "collapsed": false,
    "pycharm": {
     "name": "#%%\n"
    }
   }
  },
  {
   "cell_type": "code",
   "execution_count": null,
   "outputs": [],
   "source": [],
   "metadata": {
    "collapsed": false,
    "pycharm": {
     "name": "#%%\n"
    }
   }
  }
 ],
 "metadata": {
  "kernelspec": {
   "display_name": "Python 3",
   "language": "python",
   "name": "python3"
  },
  "language_info": {
   "codemirror_mode": {
    "name": "ipython",
    "version": 2
   },
   "file_extension": ".py",
   "mimetype": "text/x-python",
   "name": "python",
   "nbconvert_exporter": "python",
   "pygments_lexer": "ipython2",
   "version": "2.7.6"
  }
 },
 "nbformat": 4,
 "nbformat_minor": 0
}