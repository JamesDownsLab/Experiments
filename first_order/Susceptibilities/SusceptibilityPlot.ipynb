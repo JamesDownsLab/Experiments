{
 "cells": [
  {
   "cell_type": "markdown",
   "metadata": {},
   "source": [
    "# File for plotting the susceptiblility plot for the paper"
   ]
  },
  {
   "cell_type": "code",
   "execution_count": 19,
   "metadata": {},
   "outputs": [],
   "source": [
    "import numpy as np\n",
    "import matplotlib.pyplot as plt\n",
    "import matplotlib"
   ]
  },
  {
   "cell_type": "markdown",
   "metadata": {},
   "source": [
    "### Load the data"
   ]
  },
  {
   "cell_type": "code",
   "execution_count": 16,
   "metadata": {},
   "outputs": [],
   "source": [
    "flat_d = np.loadtxt(\"/media/data/Data/FirstOrder/Susceptibility/Dataset2Figures/flat_sus_duty.txt\")\n",
    "flat_t = np.loadtxt(\"/media/data/Data/FirstOrder/Susceptibility/Dataset2Figures/flat_sus_torder.txt\")\n",
    "flat_h = np.loadtxt(\"/media/data/Data/FirstOrder/Susceptibility/Dataset2Figures/flat_sus_horder.txt\")\n",
    "\n",
    "dimple_d = np.loadtxt(\"/media/data/Data/FirstOrder/Susceptibility/Dataset2Figures/dimpled_sus_duty.txt\")\n",
    "dimple_t = np.loadtxt(\"/media/data/Data/FirstOrder/Susceptibility/Dataset2Figures/dimpled_sus_torder.txt\")\n",
    "dimple_h = np.loadtxt(\"/media/data/Data/FirstOrder/Susceptibility/Dataset2Figures/dimpled_sus_horder.txt\")"
   ]
  },
  {
   "cell_type": "markdown",
   "metadata": {},
   "source": [
    "### Convert duty to acceleration"
   ]
  },
  {
   "cell_type": "code",
   "execution_count": 13,
   "metadata": {},
   "outputs": [],
   "source": [
    "g = 9.81\n",
    "v2a = 42.46\n",
    "def d2a(d):\n",
    "    \"\"\"Converts duty cycle to acceleration ms^-2\"\"\"\n",
    "    a = v2a * 0.003 * d - v2a * 1.5\n",
    "    return a\n",
    "\n",
    "def d2G(d):\n",
    "    \"\"\"Converts duty cycle to dimensionless acceleration\"\"\"\n",
    "    return d2a(d) / g"
   ]
  },
  {
   "cell_type": "code",
   "execution_count": 14,
   "metadata": {},
   "outputs": [],
   "source": [
    "flat_a = d2G(flat_d)\n",
    "dimple_a = d2G(dimple_d)"
   ]
  },
  {
   "cell_type": "markdown",
   "metadata": {},
   "source": [
    "### Change matplotlib rcparams"
   ]
  },
  {
   "cell_type": "code",
   "execution_count": 83,
   "metadata": {},
   "outputs": [
    {
     "name": "stdout",
     "output_type": "stream",
     "text": [
      "Using matplotlib backend: Qt5Agg\n"
     ]
    }
   ],
   "source": [
    "%matplotlib auto\n",
    "plt.rcParams.update(\n",
    "{\n",
    "    'lines.linewidth': 2,\n",
    "    'axes.labelsize': 12,\n",
    "    'figure.figsize': (3.375, 5),\n",
    "    'figure.dpi': 100 # change this to 600\n",
    "}\n",
    ")"
   ]
  },
  {
   "cell_type": "markdown",
   "metadata": {},
   "source": [
    "### Setup the plot"
   ]
  },
  {
   "cell_type": "code",
   "execution_count": 119,
   "metadata": {},
   "outputs": [],
   "source": [
    "fig, (flat_t_ax, dimple_t_ax) = plt.subplots(2, 1, sharex=True, figsize=(3.375, 4))\n",
    "flat_h_ax = flat_t_ax.twinx()\n",
    "dimple_h_ax = dimple_t_ax.twinx()\n",
    "\n",
    "\n",
    "dimple_t_ax.set_xlabel('$\\Gamma$')\n",
    "dimple_t_ax.set_ylabel(r'$\\chi_T (\\times 10^{-3})$')\n",
    "dimple_h_ax.set_ylabel(r'$\\chi_6 (\\times 10^{-3})$')\n",
    "flat_t_ax.set_ylabel(r'$\\chi_T (\\times 10^{-2})$')\n",
    "flat_h_ax.set_ylabel(r'$\\chi_6 (\\times 10^{-2})$')\n",
    "dimple_t_ax.set_title('Dimpled Plate')\n",
    "flat_t_ax.set_title('Flat Plate')\n",
    "\n",
    "dimple_t_ax.yaxis.label.set_color('g')\n",
    "dimple_t_ax.tick_params(axis='y', colors='g')\n",
    "dimple_h_ax.yaxis.label.set_color('m')\n",
    "dimple_h_ax.tick_params(axis='y', colors='m')\n",
    "flat_t_ax.yaxis.label.set_color('g')\n",
    "flat_t_ax.tick_params(axis='y', colors='g')\n",
    "flat_h_ax.yaxis.label.set_color('m')\n",
    "flat_h_ax.tick_params(axis='y', colors='m')\n",
    "\n",
    "flat_t_ax.set_ylim([0, 1.05*max(flat_t)*100])\n",
    "flat_h_ax.set_ylim([0, 1.05*max(flat_h)*100])\n",
    "dimple_t_ax.set_ylim([0, 1.05*max(dimple_t)*1000])\n",
    "dimple_h_ax.set_ylim([0, 1.05*max(dimple_h)*1000])\n",
    "\n",
    "flat_t_ax.ticklabel_format(axis='x', style='sci', scilimits=(0,0))\n",
    "dimple_t_ax.ticklabel_format(axis='x', style='sci', scilimits=(0,0))\n",
    "flat_h_ax.ticklabel_format(axis='x', style='sci', scilimits=(0,0))\n",
    "dimple_h_ax.ticklabel_format(axis='x', style='sci', scilimits=(0,0))\n",
    "\n",
    "flat_t_ax.plot(flat_a, flat_t*100, 'gx')\n",
    "flat_h_ax.plot(flat_a, flat_h*100, 'mo')\n",
    "\n",
    "dimple_t_ax.plot(dimple_a, dimple_t*1000, 'gx')\n",
    "dimple_h_ax.plot(dimple_a, dimple_h*1000, 'mo')\n",
    "\n",
    "fig.subplots_adjust(left=0.15, right=0.80)\n",
    "\n",
    "plt.savefig(\n",
    "    \"/media/data/Data/FirstOrder/Susceptibility/Dataset2Figures/susceptibility_figure.png\",\n",
    "    dpi=600,\n",
    "    pad_inches=0.1\n",
    ")"
   ]
  },
  {
   "cell_type": "code",
   "execution_count": null,
   "metadata": {},
   "outputs": [],
   "source": []
  }
 ],
 "metadata": {
  "kernelspec": {
   "display_name": "Python 3",
   "language": "python",
   "name": "python3"
  },
  "language_info": {
   "codemirror_mode": {
    "name": "ipython",
    "version": 3
   },
   "file_extension": ".py",
   "mimetype": "text/x-python",
   "name": "python",
   "nbconvert_exporter": "python",
   "pygments_lexer": "ipython3",
   "version": "3.7.9"
  }
 },
 "nbformat": 4,
 "nbformat_minor": 4
}
