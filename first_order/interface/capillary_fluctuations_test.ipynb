{
 "cells": [
  {
   "cell_type": "code",
   "execution_count": 2,
   "metadata": {},
   "outputs": [],
   "source": [
    "from math import pi, atan, sin, cos\n",
    "\n",
    "import cv2\n",
    "import matplotlib.pyplot as plt\n",
    "import numpy as np\n",
    "from scipy import spatial\n",
    "from tqdm import tqdm\n",
    "\n",
    "from labvision import images\n",
    "import filehandlingb\n",
    "from particletracking import dataframes, statistics"
   ]
  },
  {
   "cell_type": "code",
   "execution_count": 23,
   "metadata": {},
   "outputs": [
    {
     "name": "stdout",
     "output_type": "stream",
     "text": [
      "Using matplotlib backend: Qt5Agg\n"
     ]
    }
   ],
   "source": [
    "%matplotlib auto"
   ]
  },
  {
   "cell_type": "code",
   "execution_count": 3,
   "metadata": {},
   "outputs": [],
   "source": [
    "def get_cgw(df):\n",
    "    tree = spatial.cKDTree(df[['x', 'y']].values)\n",
    "    dists, _ = tree.query(tree.data, 2)\n",
    "    cgw = np.mean(dists[:, 1])\n",
    "    return cgw"
   ]
  },
  {
   "cell_type": "code",
   "execution_count": 4,
   "metadata": {},
   "outputs": [],
   "source": [
    "def coarse_order_field(df, cgw, x, y, no_of_neighbours=20):\n",
    "    \"\"\"\n",
    "    Calculate the coarse-grained field characterising local orientation order\n",
    "    \"\"\"\n",
    "\n",
    "    order = df.order.values\n",
    "\n",
    "    # Generate the lattice nodes to query\n",
    "    # x, y = np.meshgrid(x, y)\n",
    "    r = np.dstack((x, y))\n",
    "\n",
    "    # Get the positions of all the particles\n",
    "    particles = df[['x', 'y']].values\n",
    "\n",
    "    # Generate the tree from the particles\n",
    "    tree = spatial.cKDTree(particles)\n",
    "\n",
    "    # Query the tree at all the lattice nodes to find the nearest n particles\n",
    "    # Set n_jobs=-1 to use all cores\n",
    "    dists, indices = tree.query(r, no_of_neighbours, n_jobs=-1)\n",
    "\n",
    "    # Calculate all the coarse-grained delta functions (Katira ArXiv eqn 3\n",
    "    cg_deltas = np.exp(-dists ** 2 / (2 * cgw ** 2)) / (2 * pi * cgw ** 2)\n",
    "\n",
    "    # Multiply by the orders to get the summands\n",
    "    summands = cg_deltas * order[indices]\n",
    "\n",
    "    # Sum along axis 2 to calculate the field\n",
    "    field = np.sum(summands, axis=2)\n",
    "\n",
    "    return field"
   ]
  },
  {
   "cell_type": "code",
   "execution_count": 28,
   "metadata": {},
   "outputs": [],
   "source": [
    "def get_field_threshold(fields, ls, im):\n",
    "    # Draw a box around an always ordered region of the image to\n",
    "    # calculate the phi_o\n",
    "    fields = np.dstack(fields)\n",
    "    line_selector = LineSelector(im)\n",
    "    op1, op2 = line_selector.points\n",
    "    phi_o = np.mean(\n",
    "        fields[op1[1] // ls:op2[1] // ls, op1[0] // ls:op2[0] // ls, :])\n",
    "\n",
    "    # Repeat for disordered\n",
    "    line_selector = LineSelector(im)\n",
    "    dp1, dp2 = line_selector.points\n",
    "    phi_d = np.mean(\n",
    "        fields[dp1[1] // ls:dp2[1] // ls, dp1[0] // ls:dp2[0] // ls, :])\n",
    "\n",
    "    field_threshold = (phi_o + phi_d) / 2\n",
    "    return field_threshold\n",
    "\n",
    "\n",
    "class LineSelector:\n",
    "    def __init__(self, im):\n",
    "        cv2.namedWindow('line', cv2.WINDOW_NORMAL)\n",
    "        cv2.resizeWindow('line', 960, 540)\n",
    "        cv2.setMouseCallback('line', self.record)\n",
    "        self.points = []\n",
    "        while True:\n",
    "            cv2.imshow('line', im)\n",
    "            key = cv2.waitKey(1) & 0xFF\n",
    "            if len(self.points) == 2:\n",
    "                break\n",
    "        cv2.destroyAllWindows()\n",
    "\n",
    "    def record(self, event, x, y, flags, param):\n",
    "        if event == cv2.EVENT_LBUTTONDOWN:\n",
    "            self.points.append([x, y])"
   ]
  },
  {
   "cell_type": "code",
   "execution_count": 5,
   "metadata": {},
   "outputs": [
    {
     "name": "stderr",
     "output_type": "stream",
     "text": [
      "Loading images: 100%|██████████| 50/50 [00:03<00:00, 15.89it/s]\n",
      "Finding Circles: 100%|██████████| 50/50 [00:03<00:00, 14.56it/s]\n",
      "Adding Circles: 50it [00:00, 883.55it/s]\n"
     ]
    },
    {
     "name": "stdout",
     "output_type": "stream",
     "text": [
      "[########################################] | 100% Completed |  0.3s\n"
     ]
    }
   ],
   "source": [
    "direc = \"/media/data/Data/FirstOrder/Interfaces/RecordFluctuatingInterfaceJanuary2020/Quick/first_frames\"\n",
    "savename = f\"{direc}/data_new.hdf5\"\n",
    "\n",
    "files = filehandling.get_directory_filenames(direc+'/*.png')\n",
    "ims = [images.load(f, 0) for f in tqdm(files, 'Loading images')]\n",
    "ims = [images.bgr_to_gray(im) for im in ims]\n",
    "circles = [images.find_circles(im, 27, 200, 7, 16, 16)\n",
    "           for im in tqdm(ims, 'Finding Circles')]\n",
    "\n",
    "data = dataframes.DataStore(savename, load=False)\n",
    "for f, info in tqdm(enumerate(circles), 'Adding Circles'):\n",
    "    data.add_tracking_data(f, info, ['x', 'y', 'r'])\n",
    "\n",
    "calc = statistics.PropertyCalculator(data)\n",
    "calc.order()"
   ]
  },
  {
   "cell_type": "code",
   "execution_count": 6,
   "metadata": {},
   "outputs": [
    {
     "data": {
      "text/plain": [
       "32.981296912510686"
      ]
     },
     "execution_count": 6,
     "metadata": {},
     "output_type": "execute_result"
    }
   ],
   "source": [
    "average_sep = get_cgw(data.df.loc[0])\n",
    "average_sep"
   ]
  },
  {
   "cell_type": "code",
   "execution_count": 54,
   "metadata": {},
   "outputs": [],
   "source": [
    "lattice_spacing = 10\n",
    "x = np.arange(0, ims[0].shape[1], lattice_spacing)\n",
    "y = np.arange(0, ims[0].shape[0], lattice_spacing)\n",
    "x, y = np.meshgrid(x, y)"
   ]
  },
  {
   "cell_type": "code",
   "execution_count": 55,
   "metadata": {},
   "outputs": [],
   "source": [
    "consts = np.array([0.2, 0.4, 0.5, 0.6, 0.8, 1, 1.5, 2, 2.5, 3, 4, 5])\n",
    "consts = np.array([1.3, 1.4, 1.5, 1.6, 1.7, 1.8, 1.9, 2.0, 2.1, 2.2, 2.3, 2.4])\n",
    "cgws = consts * average_sep"
   ]
  },
  {
   "cell_type": "code",
   "execution_count": 56,
   "metadata": {},
   "outputs": [],
   "source": [
    "fields = [coarse_order_field(data.df.loc[0], cgw, x, y) for cgw in cgws]"
   ]
  },
  {
   "cell_type": "code",
   "execution_count": 33,
   "metadata": {},
   "outputs": [],
   "source": [
    "def imshow_grid(fs):\n",
    "    fig, ax = plt.subplots(3, 4)\n",
    "    for i, f in enumerate(fs):\n",
    "        ax[i//4, i%4].imshow(f)\n",
    "        ax[i//4, i%4].set_title(consts[i])\n",
    "        ax[i//4, i%4].set_axis_off()\n",
    "        ax[i//4, i%4]\n",
    "    plt.tight_layout()\n"
   ]
  },
  {
   "cell_type": "code",
   "execution_count": 34,
   "metadata": {},
   "outputs": [],
   "source": [
    "imshow_grid(fields)"
   ]
  },
  {
   "cell_type": "code",
   "execution_count": 57,
   "metadata": {},
   "outputs": [],
   "source": [
    "field_threshold = get_field_threshold(fields, lattice_spacing, ims[0])"
   ]
  },
  {
   "cell_type": "code",
   "execution_count": 58,
   "metadata": {},
   "outputs": [],
   "source": [
    "thresholded_fields = [field < field_threshold for field in fields]"
   ]
  },
  {
   "cell_type": "code",
   "execution_count": 80,
   "metadata": {},
   "outputs": [],
   "source": [
    "imshow_grid(thresholded_fields)"
   ]
  },
  {
   "cell_type": "code",
   "execution_count": 44,
   "metadata": {},
   "outputs": [],
   "source": [
    "def find_contours(f, t):\n",
    "    t_low = t - 0.02 * t\n",
    "    t_high = t + 0.02 * 5\n",
    "    new_f = (f < t_high) * (f > t_low)\n",
    "    new_f = np.uint8(new_f)\n",
    "    contours = images.find_contours(new_f)\n",
    "    contours = images.sort_contours(contours)\n",
    "    try:\n",
    "        return contours[-1]\n",
    "    except IndexError as e:\n",
    "        print(\"Only one contour\")\n",
    "        return contours"
   ]
  },
  {
   "cell_type": "code",
   "execution_count": 60,
   "metadata": {},
   "outputs": [
    {
     "name": "stdout",
     "output_type": "stream",
     "text": [
      "Only one contour\n",
      "Only one contour\n"
     ]
    }
   ],
   "source": [
    "contours = [find_contours(f, field_threshold) for f in fields]"
   ]
  },
  {
   "cell_type": "code",
   "execution_count": 63,
   "metadata": {},
   "outputs": [],
   "source": [
    "annotated_ims = [images.draw_contours(images.gray_to_bgr(im), c*lattice_spacing) for im, c in zip(ims, contours)]"
   ]
  },
  {
   "cell_type": "code",
   "execution_count": 64,
   "metadata": {},
   "outputs": [],
   "source": [
    "imshow_grid(annotated_ims)"
   ]
  },
  {
   "cell_type": "code",
   "execution_count": 50,
   "metadata": {},
   "outputs": [
    {
     "data": {
      "text/plain": [
       "(1853, 2102)"
      ]
     },
     "execution_count": 50,
     "metadata": {},
     "output_type": "execute_result"
    }
   ],
   "source": [
    "ims[0].shape"
   ]
  },
  {
   "cell_type": "code",
   "execution_count": 52,
   "metadata": {},
   "outputs": [
    {
     "data": {
      "text/plain": [
       "(184, 210)"
      ]
     },
     "execution_count": 52,
     "metadata": {},
     "output_type": "execute_result"
    }
   ],
   "source": [
    "fields[0].shape"
   ]
  },
  {
   "cell_type": "code",
   "execution_count": 74,
   "metadata": {},
   "outputs": [],
   "source": [
    "c = contours[6].copy()"
   ]
  },
  {
   "cell_type": "code",
   "execution_count": 75,
   "metadata": {},
   "outputs": [],
   "source": [
    "c *= 10"
   ]
  },
  {
   "cell_type": "code",
   "execution_count": 76,
   "metadata": {},
   "outputs": [
    {
     "data": {
      "text/plain": [
       "(267, 1, 2)"
      ]
     },
     "execution_count": 76,
     "metadata": {},
     "output_type": "execute_result"
    }
   ],
   "source": [
    "c.shape"
   ]
  },
  {
   "cell_type": "code",
   "execution_count": 81,
   "metadata": {},
   "outputs": [
    {
     "data": {
      "text/plain": [
       "<matplotlib.image.AxesImage at 0x7f9735975250>"
      ]
     },
     "execution_count": 81,
     "metadata": {},
     "output_type": "execute_result"
    }
   ],
   "source": [
    "plt.plot(c[:, 0, 0], c[:, 0, 1], 'r')\n",
    "plt.imshow(ims[0])"
   ]
  },
  {
   "cell_type": "code",
   "execution_count": 82,
   "metadata": {},
   "outputs": [],
   "source": [
    "def get_angle(im):\n",
    "    ls = LineSelector(im)\n",
    "    p1, p2 = ls.points\n",
    "    m = (p2[1] - p1[1]) / (p2[0] - p1[0])\n",
    "    a = -atan(m)\n",
    "    c = np.array([i // 2 for i in np.shape(im)])[::-1]\n",
    "    return a, c, p1, p2"
   ]
  },
  {
   "cell_type": "code",
   "execution_count": 84,
   "metadata": {},
   "outputs": [],
   "source": [
    "a, c, p1, p2 = get_angle(ims[0])"
   ]
  },
  {
   "cell_type": "code",
   "execution_count": 90,
   "metadata": {},
   "outputs": [
    {
     "data": {
      "text/plain": [
       "0.49670896462094993"
      ]
     },
     "execution_count": 90,
     "metadata": {},
     "output_type": "execute_result"
    }
   ],
   "source": [
    "a"
   ]
  },
  {
   "cell_type": "code",
   "execution_count": 242,
   "metadata": {},
   "outputs": [],
   "source": [
    "dx = p2[0] - p1[0]\n",
    "dy = p2[1] - p1[1]\n",
    "p0 = (p1[0]-dx, p1[1]-dy)\n",
    "p3 = (p2[0]+dx, p2[1]+dy)\n",
    "line = LineString((p0, p3))"
   ]
  },
  {
   "cell_type": "code",
   "execution_count": 259,
   "metadata": {},
   "outputs": [],
   "source": [
    "N = 100\n",
    "line_x = np.linspace(p1[0], p2[0], N)\n",
    "line_y = np.linspace(p1[1], p2[1], N)"
   ]
  },
  {
   "cell_type": "code",
   "execution_count": 244,
   "metadata": {},
   "outputs": [],
   "source": [
    "from shapely.geometry import LineString, LinearRing"
   ]
  },
  {
   "cell_type": "code",
   "execution_count": 249,
   "metadata": {},
   "outputs": [],
   "source": [
    "contour = contours[6].copy().squeeze()*10\n",
    "# contour.add(contour[0, :])\n",
    "contour = np.vstack((contour, contour[0, :]))\n",
    "contour_line = LineString(contour)"
   ]
  },
  {
   "cell_type": "code",
   "execution_count": 250,
   "metadata": {},
   "outputs": [
    {
     "data": {
      "text/plain": [
       "(268, 2)"
      ]
     },
     "execution_count": 250,
     "metadata": {},
     "output_type": "execute_result"
    }
   ],
   "source": [
    "contour.shape"
   ]
  },
  {
   "cell_type": "code",
   "execution_count": 205,
   "metadata": {},
   "outputs": [],
   "source": [
    "from shapely import affinity"
   ]
  },
  {
   "cell_type": "code",
   "execution_count": 209,
   "metadata": {},
   "outputs": [],
   "source": [
    "from shapely.geometry.multipoint import MultiPoint\n",
    "from shapely.geometry import Point"
   ]
  },
  {
   "cell_type": "code",
   "execution_count": 266,
   "metadata": {},
   "outputs": [],
   "source": [
    "crossings = []\n",
    "dists = []\n",
    "for (xp, yp) in zip(line_x, line_y):\n",
    "    point = Point(xp, yp)\n",
    "    line_rot = affinity.rotate(line, 90, point)\n",
    "    crosses = contour_line.intersection(line_rot)\n",
    "    if crosses.geom_type == 'Point':\n",
    "        dist = crosses.distance(point)\n",
    "        cross = crosses.x, crosses.y\n",
    "#         print(cross)\n",
    "    elif crosses.geom_type == 'MultiPoint':\n",
    "        distances = [p.distance(point) for p in crosses]\n",
    "        cross = crosses[np.argmin(distances)]\n",
    "        cross = cross.x, cross.y\n",
    "        dist = np.min(distances)\n",
    "    else:\n",
    "        cross = xp, yp\n",
    "        dist = 0\n",
    "    crossings.append(cross)\n",
    "    dists.append(dist)\n",
    "crossings = np.array(crossings)"
   ]
  },
  {
   "cell_type": "code",
   "execution_count": 267,
   "metadata": {},
   "outputs": [
    {
     "data": {
      "text/plain": [
       "[<matplotlib.lines.Line2D at 0x7f96ae0dfbd0>]"
      ]
     },
     "execution_count": 267,
     "metadata": {},
     "output_type": "execute_result"
    }
   ],
   "source": [
    "plt.plot(crossings[:, 0], crossings[:, 1])\n",
    "cp = contour_line.coords.xy\n",
    "plt.plot(cp[0], cp[1], '--')\n",
    "plt.plot(line.coords.xy[0], line.coords.xy[1])"
   ]
  },
  {
   "cell_type": "code",
   "execution_count": 269,
   "metadata": {},
   "outputs": [
    {
     "data": {
      "text/plain": [
       "[<matplotlib.lines.Line2D at 0x7f96ae0bf210>]"
      ]
     },
     "execution_count": 269,
     "metadata": {},
     "output_type": "execute_result"
    }
   ],
   "source": [
    "plt.plot(dists)"
   ]
  },
  {
   "cell_type": "code",
   "execution_count": 271,
   "metadata": {},
   "outputs": [],
   "source": [
    "sp = np.fft.fft(dists)\n",
    "N = len(dists)\n",
    "freq = np.fft.fftfreq(N, L/N)"
   ]
  },
  {
   "cell_type": "code",
   "execution_count": 275,
   "metadata": {},
   "outputs": [
    {
     "data": {
      "text/plain": [
       "[<matplotlib.lines.Line2D at 0x7f96ad4555d0>]"
      ]
     },
     "execution_count": 275,
     "metadata": {},
     "output_type": "execute_result"
    }
   ],
   "source": [
    "xplot = freq[1: N//2]\n",
    "yplot = L * np.abs(sp[1: N// 2]) ** 2\n",
    "plt.loglog(xplot, yplot, '.')"
   ]
  },
  {
   "cell_type": "code",
   "execution_count": null,
   "metadata": {},
   "outputs": [],
   "source": []
  }
 ],
 "metadata": {
  "kernelspec": {
   "display_name": "Python 3",
   "language": "python",
   "name": "python3"
  },
  "language_info": {
   "codemirror_mode": {
    "name": "ipython",
    "version": 3
   },
   "file_extension": ".py",
   "mimetype": "text/x-python",
   "name": "python",
   "nbconvert_exporter": "python",
   "pygments_lexer": "ipython3",
   "version": "3.7.6"
  }
 },
 "nbformat": 4,
 "nbformat_minor": 1
}
