{
 "cells": [
  {
   "cell_type": "code",
   "execution_count": 1,
   "metadata": {
    "collapsed": true
   },
   "outputs": [],
   "source": [
    "from labvision import images, video\n",
    "from scipy import fftpack\n",
    "import numpy as np\n",
    "import matplotlib.pyplot as plt\n",
    "from matplotlib.colors import LogNorm"
   ]
  },
  {
   "cell_type": "code",
   "execution_count": 8,
   "outputs": [],
   "source": [
    "def get_1d_fft(im, crop_result):\n",
    "    im = images.crop_and_mask(im, crop_result.bbox, crop_result.mask)\n",
    "    im = images.bgr_to_gray(im)\n",
    "    im_fft = fftpack.fft2(im)\n",
    "    Ly, Lx = im_fft.shape\n",
    "    im_fft_y = im_fft[:Ly//2, 0]\n",
    "    freq = fftpack.fftfreq(Ly)\n",
    "    return freq[:Ly//2], np.abs(im_fft_y)\n",
    "\n",
    "\n"
   ],
   "metadata": {
    "collapsed": false,
    "pycharm": {
     "name": "#%%\n"
    }
   }
  },
  {
   "cell_type": "code",
   "execution_count": 5,
   "outputs": [],
   "source": [
    "vid1 = video.ReadVideo(\"/media/data/Data/BallBearing/Repeats/1,95mm/17810001.MP4\")\n",
    "vid2 = video.ReadVideo(\"/media/data/Data/BallBearing/Repeats/1,97mm/17820001.MP4\")\n",
    "\n",
    "crop_result_1 = images.crop_polygon(vid1.read_frame(0))\n",
    "crop_result_2 = images.crop_polygon(vid2.read_frame(0))"
   ],
   "metadata": {
    "collapsed": false,
    "pycharm": {
     "name": "#%%\n"
    }
   }
  },
  {
   "cell_type": "code",
   "execution_count": 9,
   "outputs": [],
   "source": [
    "x1, y1 = get_1d_fft(vid1.read_frame(0), crop_result_1)\n",
    "x2, y2 = get_1d_fft(vid2.read_frame(0), crop_result_2)"
   ],
   "metadata": {
    "collapsed": false,
    "pycharm": {
     "name": "#%%\n"
    }
   }
  },
  {
   "cell_type": "code",
   "execution_count": 11,
   "outputs": [
    {
     "name": "stdout",
     "output_type": "stream",
     "text": [
      "Using matplotlib backend: Qt5Agg\n"
     ]
    },
    {
     "data": {
      "text/plain": "[<matplotlib.lines.Line2D at 0x7fb7ae16be50>]"
     },
     "execution_count": 11,
     "metadata": {},
     "output_type": "execute_result"
    }
   ],
   "source": [
    "%matplotlib auto\n",
    "plt.semilogy(x1, y1)\n",
    "plt.semilogy(x2, y2)"
   ],
   "metadata": {
    "collapsed": false,
    "pycharm": {
     "name": "#%%\n"
    }
   }
  },
  {
   "cell_type": "code",
   "execution_count": 17,
   "outputs": [
    {
     "data": {
      "text/plain": "<matplotlib.image.AxesImage at 0x7fb768164dd0>"
     },
     "execution_count": 17,
     "metadata": {},
     "output_type": "execute_result"
    }
   ],
   "source": [
    "im1 = images.bgr_to_gray(vid1.read_frame(0))\n",
    "im2 = images.bgr_to_gray(vid2.read_frame(0))\n",
    "im1_fft = fftpack.fftshift(fftpack.fft2(im1))\n",
    "im2_fft = fftpack.fftshift(fftpack.fft2(im2))\n",
    "originals = images.hstack(im1, im2)\n",
    "ffts = images.hstack(im1_fft, im2_fft)\n",
    "\n",
    "plt.subplot(2, 1, 1)\n",
    "plt.imshow(originals)\n",
    "plt.subplot(2, 1, 2)\n",
    "plt.imshow(np.abs(ffts), norm=LogNorm())\n"
   ],
   "metadata": {
    "collapsed": false,
    "pycharm": {
     "name": "#%%\n"
    }
   }
  },
  {
   "cell_type": "code",
   "execution_count": null,
   "outputs": [],
   "source": [],
   "metadata": {
    "collapsed": false,
    "pycharm": {
     "name": "#%%\n"
    }
   }
  }
 ],
 "metadata": {
  "kernelspec": {
   "display_name": "Python 3",
   "language": "python",
   "name": "python3"
  },
  "language_info": {
   "codemirror_mode": {
    "name": "ipython",
    "version": 2
   },
   "file_extension": ".py",
   "mimetype": "text/x-python",
   "name": "python",
   "nbconvert_exporter": "python",
   "pygments_lexer": "ipython2",
   "version": "2.7.6"
  }
 },
 "nbformat": 4,
 "nbformat_minor": 0
}